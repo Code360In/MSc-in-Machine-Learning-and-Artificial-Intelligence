{
 "cells": [
  {
   "cell_type": "markdown",
   "metadata": {},
   "source": [
    "# Spark Random Forest Implementation"
   ]
  },
  {
   "cell_type": "markdown",
   "metadata": {},
   "source": [
    "## Chicago Crime Use Case"
   ]
  },
  {
   "cell_type": "markdown",
   "metadata": {},
   "source": [
    "You are provided with the dataset that contains the crime records from Chicago. The dataset belongs to Chicago Police Department. This dataset reflects reported incidents of crime that occurred in the City of Chicago from 2012 to 2017. The data is extracted from the Chicago Police Department's CLEAR (Citizen Law Enforcement Analysis and Reporting) system."
   ]
  },
  {
   "cell_type": "markdown",
   "metadata": {},
   "source": [
    "## Dataset Understanding"
   ]
  },
  {
   "cell_type": "markdown",
   "metadata": {},
   "source": [
    "## Objective: "
   ]
  },
  {
   "cell_type": "markdown",
   "metadata": {},
   "source": [
    "Our objective is to use the information and try to come up with a system that classifies the **FBI Code** for each crime absed on the given information."
   ]
  },
  {
   "cell_type": "markdown",
   "metadata": {},
   "source": [
    " "
   ]
  },
  {
   "cell_type": "markdown",
   "metadata": {},
   "source": [
    "Columns in the Dataset:\n",
    "\n",
    "**ID** - Unique identifier for the record.\n",
    "\n",
    "**Case Number** - The Chicago Police Department RD Number (Records Division Number), which is unique to the incident.\n",
    "\n",
    "**Date** - Date when the incident occurred. this is sometimes a best estimate.\n",
    "\n",
    "**Block** - The partially redacted address where the incident occurred, placing it on the same block as the actual address.\n",
    "\n",
    "**IUCR** - The Illinois Unifrom Crime Reporting code. This is directly linked to the Primary Type and Description.\n",
    "\n",
    "**Primary Type** - The primary description of the IUCR code.\n",
    "\n",
    "**Description** - The secondary description of the IUCR code, a subcategory of the primary description.\n",
    "\n",
    "**Location Description** - Description of the location where the incident occurred.\n",
    "\n",
    "**Arrest** - Indicates whether an arrest was made.\n",
    "\n",
    "**Domestic** - Indicates whether the incident was domestic-related as defined by the Illinois Domestic Violence Act.\n",
    "\n",
    "**Beat** - Indicates the beat where the incident occurred. A beat is the smallest police geographic area – each beat has a dedicated police beat car. Three to five beats make up a police sector, and three sectors make up a police district. The Chicago Police Department has 22 police districts.\n",
    "\n",
    "**District** - Indicates the police district where the incident occurred.\n",
    "\n",
    "**Ward** - The ward (City Council district) where the incident occurred.\n",
    "\n",
    "**Community Area** - Indicates the community area where the incident occurred. Chicago has 77 community areas.\n",
    "\n",
    "**FBI Code** - Indicates the crime classification as outlined in the FBI's National Incident-Based Reporting System (NIBRS).\n",
    "\n",
    "**X Coordinate** - The x coordinate of the location where the incident occurred in State Plane Illinois East NAD 1983 projection. This location is shifted from the actual location for partial redaction but falls on the same block.\n",
    "\n",
    "**Y Coordinate** - The y coordinate of the location where the incident occurred in State Plane Illinois East NAD 1983 projection. This location is shifted from the actual location for partial redaction but falls on the same block.\n",
    "\n",
    "**Year** - Year the incident occurred.\n",
    "\n",
    "**Updated On** - Date and time the record was last updated.\n",
    "\n",
    "**Latitude** - The latitude of the location where the incident occurred. This location is shifted from the actual location for partial redaction but falls on the same block.\n",
    "\n",
    "**Longitude** - The longitude of the location where the incident occurred. This location is shifted from the actual location for partial redaction but falls on the same block.\n",
    "\n",
    "**Location** - The location where the incident occurred in a format that allows for creation of maps and other geographic operations on this data portal. This location is shifted from the actual location for partial redaction but falls on the same block."
   ]
  },
  {
   "cell_type": "markdown",
   "metadata": {},
   "source": [
    "### Initialising the Spark session"
   ]
  },
  {
   "cell_type": "code",
   "execution_count": 1,
   "metadata": {
    "execution": {
     "iopub.execute_input": "2022-07-28T19:02:59.641402Z",
     "iopub.status.busy": "2022-07-28T19:02:59.641197Z",
     "iopub.status.idle": "2022-07-28T19:02:59.659123Z",
     "shell.execute_reply": "2022-07-28T19:02:59.658484Z",
     "shell.execute_reply.started": "2022-07-28T19:02:59.641378Z"
    },
    "tags": []
   },
   "outputs": [
    {
     "data": {
      "text/html": [
       "Current session configs: <tt>{'conf': {'spark.pyspark.python': 'python3', 'spark.pyspark.virtualenv.enabled': 'true', 'spark.pyspark.virtualenv.type': 'native', 'spark.pyspark.virtualenv.bin.path': '/usr/bin/virtualenv'}, 'proxyUser': 'federated-user_upgradtommathews', 'kind': 'pyspark'}</tt><br>"
      ],
      "text/plain": [
       "<IPython.core.display.HTML object>"
      ]
     },
     "metadata": {},
     "output_type": "display_data"
    },
    {
     "data": {
      "text/html": [
       "No active sessions."
      ],
      "text/plain": [
       "<IPython.core.display.HTML object>"
      ]
     },
     "metadata": {},
     "output_type": "display_data"
    }
   ],
   "source": [
    "%%configure -f\n",
    "{ \"conf\":{\n",
    "          \"spark.pyspark.python\": \"python3\",\n",
    "          \"spark.pyspark.virtualenv.enabled\": \"true\",\n",
    "          \"spark.pyspark.virtualenv.type\":\"native\",\n",
    "          \"spark.pyspark.virtualenv.bin.path\":\"/usr/bin/virtualenv\"\n",
    "         }\n",
    "}"
   ]
  },
  {
   "cell_type": "code",
   "execution_count": 2,
   "metadata": {
    "execution": {
     "iopub.execute_input": "2022-07-28T19:02:59.664507Z",
     "iopub.status.busy": "2022-07-28T19:02:59.664345Z",
     "iopub.status.idle": "2022-07-28T19:03:24.330696Z",
     "shell.execute_reply": "2022-07-28T19:03:24.330108Z",
     "shell.execute_reply.started": "2022-07-28T19:02:59.664486Z"
    },
    "tags": []
   },
   "outputs": [
    {
     "data": {
      "application/vnd.jupyter.widget-view+json": {
       "model_id": "5ce2e1d5d7474836b79851a392ce126c",
       "version_major": 2,
       "version_minor": 0
      },
      "text/plain": [
       "VBox()"
      ]
     },
     "metadata": {},
     "output_type": "display_data"
    },
    {
     "name": "stdout",
     "output_type": "stream",
     "text": [
      "Starting Spark application\n"
     ]
    },
    {
     "data": {
      "text/html": [
       "<table>\n",
       "<tr><th>ID</th><th>YARN Application ID</th><th>Kind</th><th>State</th><th>Spark UI</th><th>Driver log</th><th>User</th><th>Current session?</th></tr><tr><td>6</td><td>application_1659025105765_0007</td><td>pyspark</td><td>idle</td><td><a target=\"_blank\" href=\"http://ip-172-31-29-205.ec2.internal:20888/proxy/application_1659025105765_0007/\" class=\"emr-proxy-link\" emr-resource=\"j-MN6BHNCVSQUM\n",
       "\" application-id=\"application_1659025105765_0007\">Link</a></td><td><a target=\"_blank\" href=\"http://ip-172-31-16-100.ec2.internal:8042/node/containerlogs/container_1659025105765_0007_01_000001/livy\" >Link</a></td><td>None</td><td>✔</td></tr></table>"
      ],
      "text/plain": [
       "<IPython.core.display.HTML object>"
      ]
     },
     "metadata": {},
     "output_type": "display_data"
    },
    {
     "data": {
      "application/vnd.jupyter.widget-view+json": {
       "model_id": "",
       "version_major": 2,
       "version_minor": 0
      },
      "text/plain": [
       "FloatProgress(value=0.0, bar_style='info', description='Progress:', layout=Layout(height='25px', width='50%'),…"
      ]
     },
     "metadata": {},
     "output_type": "display_data"
    },
    {
     "name": "stdout",
     "output_type": "stream",
     "text": [
      "SparkSession available as 'spark'.\n"
     ]
    },
    {
     "data": {
      "application/vnd.jupyter.widget-view+json": {
       "model_id": "",
       "version_major": 2,
       "version_minor": 0
      },
      "text/plain": [
       "FloatProgress(value=0.0, bar_style='info', description='Progress:', layout=Layout(height='25px', width='50%'),…"
      ]
     },
     "metadata": {},
     "output_type": "display_data"
    }
   ],
   "source": [
    "from pyspark import SparkContext, SparkConf"
   ]
  },
  {
   "cell_type": "code",
   "execution_count": 3,
   "metadata": {
    "execution": {
     "iopub.execute_input": "2022-07-28T19:03:24.333030Z",
     "iopub.status.busy": "2022-07-28T19:03:24.332694Z",
     "iopub.status.idle": "2022-07-28T19:03:24.397161Z",
     "shell.execute_reply": "2022-07-28T19:03:24.396031Z",
     "shell.execute_reply.started": "2022-07-28T19:03:24.332993Z"
    },
    "tags": []
   },
   "outputs": [
    {
     "data": {
      "application/vnd.jupyter.widget-view+json": {
       "model_id": "f4304370d1fd4459bdbcc246e3760639",
       "version_major": 2,
       "version_minor": 0
      },
      "text/plain": [
       "VBox()"
      ]
     },
     "metadata": {},
     "output_type": "display_data"
    },
    {
     "data": {
      "application/vnd.jupyter.widget-view+json": {
       "model_id": "",
       "version_major": 2,
       "version_minor": 0
      },
      "text/plain": [
       "FloatProgress(value=0.0, bar_style='info', description='Progress:', layout=Layout(height='25px', width='50%'),…"
      ]
     },
     "metadata": {},
     "output_type": "display_data"
    },
    {
     "name": "stdout",
     "output_type": "stream",
     "text": [
      "<SparkContext master=yarn appName=livy-session-6>"
     ]
    }
   ],
   "source": [
    "sc = SparkContext.getOrCreate();\n",
    "sc"
   ]
  },
  {
   "cell_type": "markdown",
   "metadata": {},
   "source": [
    "Listing all installed packages "
   ]
  },
  {
   "cell_type": "code",
   "execution_count": 4,
   "metadata": {
    "execution": {
     "iopub.execute_input": "2022-07-28T19:03:24.398737Z",
     "iopub.status.busy": "2022-07-28T19:03:24.398559Z",
     "iopub.status.idle": "2022-07-28T19:03:25.207402Z",
     "shell.execute_reply": "2022-07-28T19:03:25.206669Z",
     "shell.execute_reply.started": "2022-07-28T19:03:24.398715Z"
    },
    "tags": []
   },
   "outputs": [
    {
     "data": {
      "application/vnd.jupyter.widget-view+json": {
       "model_id": "6d65ebe56190452c8c8c2bb48b9c701f",
       "version_major": 2,
       "version_minor": 0
      },
      "text/plain": [
       "VBox()"
      ]
     },
     "metadata": {},
     "output_type": "display_data"
    },
    {
     "data": {
      "application/vnd.jupyter.widget-view+json": {
       "model_id": "",
       "version_major": 2,
       "version_minor": 0
      },
      "text/plain": [
       "FloatProgress(value=0.0, bar_style='info', description='Progress:', layout=Layout(height='25px', width='50%'),…"
      ]
     },
     "metadata": {},
     "output_type": "display_data"
    },
    {
     "name": "stdout",
     "output_type": "stream",
     "text": [
      "aws-cfn-bootstrap (2.0)\n",
      "beautifulsoup4 (4.9.3)\n",
      "boto (2.49.0)\n",
      "click (8.1.1)\n",
      "docutils (0.14)\n",
      "jmespath (1.0.0)\n",
      "joblib (1.1.0)\n",
      "lockfile (0.11.0)\n",
      "lxml (4.8.0)\n",
      "mysqlclient (1.4.2)\n",
      "nltk (3.7)\n",
      "nose (1.3.4)\n",
      "numpy (1.20.0)\n",
      "pip (9.0.1)\n",
      "py-dateutil (2.2)\n",
      "pystache (0.5.4)\n",
      "python-daemon (2.2.3)\n",
      "python37-sagemaker-pyspark (1.4.1)\n",
      "pytz (2022.1)\n",
      "PyYAML (5.4.1)\n",
      "regex (2021.11.10)\n",
      "setuptools (28.8.0)\n",
      "simplejson (3.2.0)\n",
      "six (1.13.0)\n",
      "tqdm (4.63.1)\n",
      "wheel (0.29.0)\n",
      "windmill (1.6)\n",
      "\n",
      "DEPRECATION: The default format will switch to columns in the future. You can use --format=(legacy|columns) (or define a format=(legacy|columns) in your pip.conf under the [list] section) to disable this warning.\n",
      "You are using pip version 9.0.1, however version 22.2.1 is available.\n",
      "You should consider upgrading via the 'pip install --upgrade pip' command."
     ]
    }
   ],
   "source": [
    "sc.list_packages()"
   ]
  },
  {
   "cell_type": "code",
   "execution_count": 5,
   "metadata": {
    "execution": {
     "iopub.execute_input": "2022-07-28T19:03:25.209470Z",
     "iopub.status.busy": "2022-07-28T19:03:25.208975Z",
     "iopub.status.idle": "2022-07-28T19:03:46.596749Z",
     "shell.execute_reply": "2022-07-28T19:03:46.596016Z",
     "shell.execute_reply.started": "2022-07-28T19:03:25.209429Z"
    },
    "tags": []
   },
   "outputs": [
    {
     "data": {
      "application/vnd.jupyter.widget-view+json": {
       "model_id": "92a093fb1eba425ab7e5f6e5b891b13f",
       "version_major": 2,
       "version_minor": 0
      },
      "text/plain": [
       "VBox()"
      ]
     },
     "metadata": {},
     "output_type": "display_data"
    },
    {
     "data": {
      "application/vnd.jupyter.widget-view+json": {
       "model_id": "",
       "version_major": 2,
       "version_minor": 0
      },
      "text/plain": [
       "FloatProgress(value=0.0, bar_style='info', description='Progress:', layout=Layout(height='25px', width='50%'),…"
      ]
     },
     "metadata": {},
     "output_type": "display_data"
    },
    {
     "name": "stdout",
     "output_type": "stream",
     "text": [
      "Collecting pandas==0.25.1\n",
      "  Using cached https://files.pythonhosted.org/packages/7e/ab/ea76361f9d3e732e114adcd801d2820d5319c23d0ac5482fa3b412db217e/pandas-0.25.1-cp37-cp37m-manylinux1_x86_64.whl\n",
      "Requirement already satisfied: pytz>=2017.2 in /usr/local/lib/python3.7/site-packages (from pandas==0.25.1)\n",
      "Requirement already satisfied: numpy>=1.13.3 in /usr/local/lib64/python3.7/site-packages (from pandas==0.25.1)\n",
      "Collecting python-dateutil>=2.6.1 (from pandas==0.25.1)\n",
      "  Using cached https://files.pythonhosted.org/packages/36/7a/87837f39d0296e723bb9b62bbb257d0355c7f6128853c78955f57342a56d/python_dateutil-2.8.2-py2.py3-none-any.whl\n",
      "Requirement already satisfied: six>=1.5 in /usr/local/lib/python3.7/site-packages (from python-dateutil>=2.6.1->pandas==0.25.1)\n",
      "Installing collected packages: python-dateutil, pandas\n",
      "Successfully installed pandas-0.25.1 python-dateutil-2.8.2\n",
      "\n",
      "Collecting matplotlib==3.1.1\n",
      "  Using cached https://files.pythonhosted.org/packages/19/7a/60bd79c5d79559150f8bba866dd7d434f0a170312e4d15e8aefa5faba294/matplotlib-3.1.1-cp37-cp37m-manylinux1_x86_64.whl\n",
      "Requirement already satisfied: python-dateutil>=2.1 in /mnt/tmp/1659035001029-0/lib/python3.7/site-packages (from matplotlib==3.1.1)\n",
      "Collecting pyparsing!=2.0.4,!=2.1.2,!=2.1.6,>=2.0.1 (from matplotlib==3.1.1)\n",
      "  Using cached https://files.pythonhosted.org/packages/6c/10/a7d0fa5baea8fe7b50f448ab742f26f52b80bfca85ac2be9d35cdd9a3246/pyparsing-3.0.9-py3-none-any.whl\n",
      "Collecting cycler>=0.10 (from matplotlib==3.1.1)\n",
      "  Using cached https://files.pythonhosted.org/packages/5c/f9/695d6bedebd747e5eb0fe8fad57b72fdf25411273a39791cde838d5a8f51/cycler-0.11.0-py3-none-any.whl\n",
      "Requirement already satisfied: numpy>=1.11 in /usr/local/lib64/python3.7/site-packages (from matplotlib==3.1.1)\n",
      "Collecting kiwisolver>=1.0.1 (from matplotlib==3.1.1)\n",
      "  Using cached https://files.pythonhosted.org/packages/ab/8f/8dbe2d4efc4c0b08ec67d6efb7cc31fbfd688c80afad85f65980633b0d37/kiwisolver-1.4.4-cp37-cp37m-manylinux_2_5_x86_64.manylinux1_x86_64.whl\n",
      "Requirement already satisfied: six>=1.5 in /usr/local/lib/python3.7/site-packages (from python-dateutil>=2.1->matplotlib==3.1.1)\n",
      "Collecting typing-extensions; python_version < \"3.8\" (from kiwisolver>=1.0.1->matplotlib==3.1.1)\n",
      "  Using cached https://files.pythonhosted.org/packages/ed/d6/2afc375a8d55b8be879d6b4986d4f69f01115e795e36827fd3a40166028b/typing_extensions-4.3.0-py3-none-any.whl\n",
      "Installing collected packages: pyparsing, cycler, typing-extensions, kiwisolver, matplotlib\n",
      "Successfully installed cycler-0.11.0 kiwisolver-1.4.4 matplotlib-3.1.1 pyparsing-3.0.9 typing-extensions-4.3.0\n",
      "\n",
      "You are using pip version 9.0.1, however version 22.2.1 is available.\n",
      "You should consider upgrading via the 'pip install --upgrade pip' command.\n",
      "\n",
      "You are using pip version 9.0.1, however version 22.2.1 is available.\n",
      "You should consider upgrading via the 'pip install --upgrade pip' command."
     ]
    }
   ],
   "source": [
    "sc.install_pypi_package(\"pandas==0.25.1\")\n",
    "sc.install_pypi_package(\"matplotlib==3.1.1\", \"https://pypi.org/simple\")"
   ]
  },
  {
   "cell_type": "code",
   "execution_count": 6,
   "metadata": {
    "execution": {
     "iopub.execute_input": "2022-07-28T19:03:46.598285Z",
     "iopub.status.busy": "2022-07-28T19:03:46.598028Z",
     "iopub.status.idle": "2022-07-28T19:03:47.380197Z",
     "shell.execute_reply": "2022-07-28T19:03:47.379567Z",
     "shell.execute_reply.started": "2022-07-28T19:03:46.598250Z"
    },
    "tags": []
   },
   "outputs": [
    {
     "data": {
      "application/vnd.jupyter.widget-view+json": {
       "model_id": "e5c4d67e32014f91ab032bc5da7168dd",
       "version_major": 2,
       "version_minor": 0
      },
      "text/plain": [
       "VBox()"
      ]
     },
     "metadata": {},
     "output_type": "display_data"
    },
    {
     "data": {
      "application/vnd.jupyter.widget-view+json": {
       "model_id": "",
       "version_major": 2,
       "version_minor": 0
      },
      "text/plain": [
       "FloatProgress(value=0.0, bar_style='info', description='Progress:', layout=Layout(height='25px', width='50%'),…"
      ]
     },
     "metadata": {},
     "output_type": "display_data"
    },
    {
     "name": "stdout",
     "output_type": "stream",
     "text": [
      "aws-cfn-bootstrap (2.0)\n",
      "beautifulsoup4 (4.9.3)\n",
      "boto (2.49.0)\n",
      "click (8.1.1)\n",
      "cycler (0.11.0)\n",
      "docutils (0.14)\n",
      "jmespath (1.0.0)\n",
      "joblib (1.1.0)\n",
      "kiwisolver (1.4.4)\n",
      "lockfile (0.11.0)\n",
      "lxml (4.8.0)\n",
      "matplotlib (3.1.1)\n",
      "mysqlclient (1.4.2)\n",
      "nltk (3.7)\n",
      "nose (1.3.4)\n",
      "numpy (1.20.0)\n",
      "pandas (0.25.1)\n",
      "pip (9.0.1)\n",
      "py-dateutil (2.2)\n",
      "pyparsing (3.0.9)\n",
      "pystache (0.5.4)\n",
      "python-daemon (2.2.3)\n",
      "python-dateutil (2.8.2)\n",
      "python37-sagemaker-pyspark (1.4.1)\n",
      "pytz (2022.1)\n",
      "PyYAML (5.4.1)\n",
      "regex (2021.11.10)\n",
      "setuptools (28.8.0)\n",
      "simplejson (3.2.0)\n",
      "six (1.13.0)\n",
      "tqdm (4.63.1)\n",
      "typing-extensions (4.3.0)\n",
      "wheel (0.29.0)\n",
      "windmill (1.6)\n",
      "\n",
      "DEPRECATION: The default format will switch to columns in the future. You can use --format=(legacy|columns) (or define a format=(legacy|columns) in your pip.conf under the [list] section) to disable this warning.\n",
      "You are using pip version 9.0.1, however version 22.2.1 is available.\n",
      "You should consider upgrading via the 'pip install --upgrade pip' command."
     ]
    }
   ],
   "source": [
    "sc.list_packages()"
   ]
  },
  {
   "cell_type": "markdown",
   "metadata": {},
   "source": [
    "### Loading the dataset"
   ]
  },
  {
   "cell_type": "code",
   "execution_count": 7,
   "metadata": {
    "execution": {
     "iopub.execute_input": "2022-07-28T19:03:47.381229Z",
     "iopub.status.busy": "2022-07-28T19:03:47.381047Z",
     "iopub.status.idle": "2022-07-28T19:03:52.680919Z",
     "shell.execute_reply": "2022-07-28T19:03:52.680316Z",
     "shell.execute_reply.started": "2022-07-28T19:03:47.381207Z"
    },
    "tags": []
   },
   "outputs": [
    {
     "data": {
      "application/vnd.jupyter.widget-view+json": {
       "model_id": "b07d6a0dc4b24dc68845e61b19ee82c1",
       "version_major": 2,
       "version_minor": 0
      },
      "text/plain": [
       "VBox()"
      ]
     },
     "metadata": {},
     "output_type": "display_data"
    },
    {
     "data": {
      "application/vnd.jupyter.widget-view+json": {
       "model_id": "",
       "version_major": 2,
       "version_minor": 0
      },
      "text/plain": [
       "FloatProgress(value=0.0, bar_style='info', description='Progress:', layout=Layout(height='25px', width='50%'),…"
      ]
     },
     "metadata": {},
     "output_type": "display_data"
    }
   ],
   "source": [
    "df = spark.read.csv(\"s3a://chicago-crime-mlc/Chicago_Crimes_2012_to_2017.csv\", \n",
    "                    header = True, \n",
    "                    inferSchema = False)\n"
   ]
  },
  {
   "cell_type": "code",
   "execution_count": 8,
   "metadata": {
    "execution": {
     "iopub.execute_input": "2022-07-28T19:03:52.682348Z",
     "iopub.status.busy": "2022-07-28T19:03:52.682099Z",
     "iopub.status.idle": "2022-07-28T19:03:54.954423Z",
     "shell.execute_reply": "2022-07-28T19:03:54.953781Z",
     "shell.execute_reply.started": "2022-07-28T19:03:52.682313Z"
    }
   },
   "outputs": [
    {
     "data": {
      "application/vnd.jupyter.widget-view+json": {
       "model_id": "a52cead5a5a94330849ffc4fb8a06401",
       "version_major": 2,
       "version_minor": 0
      },
      "text/plain": [
       "VBox()"
      ]
     },
     "metadata": {},
     "output_type": "display_data"
    },
    {
     "data": {
      "application/vnd.jupyter.widget-view+json": {
       "model_id": "",
       "version_major": 2,
       "version_minor": 0
      },
      "text/plain": [
       "FloatProgress(value=0.0, bar_style='info', description='Progress:', layout=Layout(height='25px', width='50%'),…"
      ]
     },
     "metadata": {},
     "output_type": "display_data"
    },
    {
     "name": "stdout",
     "output_type": "stream",
     "text": [
      "[Row(_c0='3', ID='10508693', Case Number='HZ250496', Date='05/03/2016 11:40:00 PM', Block='013XX S SAWYER AVE', IUCR='0486', Primary Type='BATTERY', Description='DOMESTIC BATTERY SIMPLE', Location Description='APARTMENT', Arrest='True', Domestic='True', Beat='1022', District='10.0', Ward='24.0', Community Area='29.0', FBI Code='08B', X Coordinate='1154907.0', Y Coordinate='1893681.0', Year='2016', Updated On='05/10/2016 03:56:50 PM', Latitude='41.864073157', Longitude='-87.706818608', Location='(41.864073157, -87.706818608)')]"
     ]
    }
   ],
   "source": [
    "# Printing the first row\n",
    "df.head(1)"
   ]
  },
  {
   "cell_type": "code",
   "execution_count": 9,
   "metadata": {
    "execution": {
     "iopub.execute_input": "2022-07-28T19:03:54.956295Z",
     "iopub.status.busy": "2022-07-28T19:03:54.956118Z",
     "iopub.status.idle": "2022-07-28T19:03:55.053754Z",
     "shell.execute_reply": "2022-07-28T19:03:55.053065Z",
     "shell.execute_reply.started": "2022-07-28T19:03:54.956272Z"
    },
    "scrolled": true
   },
   "outputs": [
    {
     "data": {
      "application/vnd.jupyter.widget-view+json": {
       "model_id": "8480f0a3b3ed4a60b97f8df8e3cf5ff1",
       "version_major": 2,
       "version_minor": 0
      },
      "text/plain": [
       "VBox()"
      ]
     },
     "metadata": {},
     "output_type": "display_data"
    },
    {
     "data": {
      "application/vnd.jupyter.widget-view+json": {
       "model_id": "",
       "version_major": 2,
       "version_minor": 0
      },
      "text/plain": [
       "FloatProgress(value=0.0, bar_style='info', description='Progress:', layout=Layout(height='25px', width='50%'),…"
      ]
     },
     "metadata": {},
     "output_type": "display_data"
    },
    {
     "name": "stdout",
     "output_type": "stream",
     "text": [
      "root\n",
      " |-- _c0: string (nullable = true)\n",
      " |-- ID: string (nullable = true)\n",
      " |-- Case Number: string (nullable = true)\n",
      " |-- Date: string (nullable = true)\n",
      " |-- Block: string (nullable = true)\n",
      " |-- IUCR: string (nullable = true)\n",
      " |-- Primary Type: string (nullable = true)\n",
      " |-- Description: string (nullable = true)\n",
      " |-- Location Description: string (nullable = true)\n",
      " |-- Arrest: string (nullable = true)\n",
      " |-- Domestic: string (nullable = true)\n",
      " |-- Beat: string (nullable = true)\n",
      " |-- District: string (nullable = true)\n",
      " |-- Ward: string (nullable = true)\n",
      " |-- Community Area: string (nullable = true)\n",
      " |-- FBI Code: string (nullable = true)\n",
      " |-- X Coordinate: string (nullable = true)\n",
      " |-- Y Coordinate: string (nullable = true)\n",
      " |-- Year: string (nullable = true)\n",
      " |-- Updated On: string (nullable = true)\n",
      " |-- Latitude: string (nullable = true)\n",
      " |-- Longitude: string (nullable = true)\n",
      " |-- Location: string (nullable = true)"
     ]
    }
   ],
   "source": [
    "# Schema of the dataset\n",
    "df.printSchema()"
   ]
  },
  {
   "cell_type": "code",
   "execution_count": 10,
   "metadata": {
    "execution": {
     "iopub.execute_input": "2022-07-28T19:03:55.055253Z",
     "iopub.status.busy": "2022-07-28T19:03:55.055056Z",
     "iopub.status.idle": "2022-07-28T19:03:58.437474Z",
     "shell.execute_reply": "2022-07-28T19:03:58.436788Z",
     "shell.execute_reply.started": "2022-07-28T19:03:55.055229Z"
    }
   },
   "outputs": [
    {
     "data": {
      "application/vnd.jupyter.widget-view+json": {
       "model_id": "e28cdc7a3cd44ae08eb6f8fc540757f4",
       "version_major": 2,
       "version_minor": 0
      },
      "text/plain": [
       "VBox()"
      ]
     },
     "metadata": {},
     "output_type": "display_data"
    },
    {
     "data": {
      "application/vnd.jupyter.widget-view+json": {
       "model_id": "",
       "version_major": 2,
       "version_minor": 0
      },
      "text/plain": [
       "FloatProgress(value=0.0, bar_style='info', description='Progress:', layout=Layout(height='25px', width='50%'),…"
      ]
     },
     "metadata": {},
     "output_type": "display_data"
    },
    {
     "name": "stdout",
     "output_type": "stream",
     "text": [
      "1456714"
     ]
    }
   ],
   "source": [
    "# Count total no of rows\n",
    "df.count()\n"
   ]
  },
  {
   "cell_type": "code",
   "execution_count": 11,
   "metadata": {
    "execution": {
     "iopub.execute_input": "2022-07-28T19:03:58.438740Z",
     "iopub.status.busy": "2022-07-28T19:03:58.438545Z",
     "iopub.status.idle": "2022-07-28T19:03:59.206192Z",
     "shell.execute_reply": "2022-07-28T19:03:59.205233Z",
     "shell.execute_reply.started": "2022-07-28T19:03:58.438716Z"
    }
   },
   "outputs": [
    {
     "data": {
      "application/vnd.jupyter.widget-view+json": {
       "model_id": "5ba37f6967e24c11bbfff32a63e77d59",
       "version_major": 2,
       "version_minor": 0
      },
      "text/plain": [
       "VBox()"
      ]
     },
     "metadata": {},
     "output_type": "display_data"
    },
    {
     "data": {
      "application/vnd.jupyter.widget-view+json": {
       "model_id": "",
       "version_major": 2,
       "version_minor": 0
      },
      "text/plain": [
       "FloatProgress(value=0.0, bar_style='info', description='Progress:', layout=Layout(height='25px', width='50%'),…"
      ]
     },
     "metadata": {},
     "output_type": "display_data"
    },
    {
     "name": "stdout",
     "output_type": "stream",
     "text": [
      "[Row(_c0='3', ID='10508693', Case Number='HZ250496', Date='05/03/2016 11:40:00 PM', Block='013XX S SAWYER AVE', IUCR='0486', Primary Type='BATTERY', Description='DOMESTIC BATTERY SIMPLE', Location Description='APARTMENT', Arrest='True', Domestic='True', Beat='1022', District='10.0', Ward='24.0', Community Area='29.0', FBI Code='08B', X Coordinate='1154907.0', Y Coordinate='1893681.0', Year='2016', Updated On='05/10/2016 03:56:50 PM', Latitude='41.864073157', Longitude='-87.706818608', Location='(41.864073157, -87.706818608)'), Row(_c0='89', ID='10508695', Case Number='HZ250409', Date='05/03/2016 09:40:00 PM', Block='061XX S DREXEL AVE', IUCR='0486', Primary Type='BATTERY', Description='DOMESTIC BATTERY SIMPLE', Location Description='RESIDENCE', Arrest='False', Domestic='True', Beat='313', District='3.0', Ward='20.0', Community Area='42.0', FBI Code='08B', X Coordinate='1183066.0', Y Coordinate='1864330.0', Year='2016', Updated On='05/10/2016 03:56:50 PM', Latitude='41.782921527', Longitude='-87.60436317', Location='(41.782921527, -87.60436317)'), Row(_c0='197', ID='10508697', Case Number='HZ250503', Date='05/03/2016 11:31:00 PM', Block='053XX W CHICAGO AVE', IUCR='0470', Primary Type='PUBLIC PEACE VIOLATION', Description='RECKLESS CONDUCT', Location Description='STREET', Arrest='False', Domestic='False', Beat='1524', District='15.0', Ward='37.0', Community Area='25.0', FBI Code='24', X Coordinate='1140789.0', Y Coordinate='1904819.0', Year='2016', Updated On='05/10/2016 03:56:50 PM', Latitude='41.894908283', Longitude='-87.758371958', Location='(41.894908283, -87.758371958)'), Row(_c0='673', ID='10508698', Case Number='HZ250424', Date='05/03/2016 10:10:00 PM', Block='049XX W FULTON ST', IUCR='0460', Primary Type='BATTERY', Description='SIMPLE', Location Description='SIDEWALK', Arrest='False', Domestic='False', Beat='1532', District='15.0', Ward='28.0', Community Area='25.0', FBI Code='08B', X Coordinate='1143223.0', Y Coordinate='1901475.0', Year='2016', Updated On='05/10/2016 03:56:50 PM', Latitude='41.885686845', Longitude='-87.749515983', Location='(41.885686845, -87.749515983)'), Row(_c0='911', ID='10508699', Case Number='HZ250455', Date='05/03/2016 10:00:00 PM', Block='003XX N LOTUS AVE', IUCR='0820', Primary Type='THEFT', Description='$500 AND UNDER', Location Description='RESIDENCE', Arrest='False', Domestic='True', Beat='1523', District='15.0', Ward='28.0', Community Area='25.0', FBI Code='06', X Coordinate='1139890.0', Y Coordinate='1901675.0', Year='2016', Updated On='05/10/2016 03:56:50 PM', Latitude='41.886297242', Longitude='-87.761750709', Location='(41.886297242, -87.761750709)')]"
     ]
    }
   ],
   "source": [
    "# print 5 rows\n",
    "df.head(5)"
   ]
  },
  {
   "cell_type": "code",
   "execution_count": 12,
   "metadata": {
    "execution": {
     "iopub.execute_input": "2022-07-28T19:03:59.207645Z",
     "iopub.status.busy": "2022-07-28T19:03:59.207393Z",
     "iopub.status.idle": "2022-07-28T19:04:00.019937Z",
     "shell.execute_reply": "2022-07-28T19:04:00.019327Z",
     "shell.execute_reply.started": "2022-07-28T19:03:59.207610Z"
    }
   },
   "outputs": [
    {
     "data": {
      "application/vnd.jupyter.widget-view+json": {
       "model_id": "ff64d9372b1a4129b8c22dab478c67b7",
       "version_major": 2,
       "version_minor": 0
      },
      "text/plain": [
       "VBox()"
      ]
     },
     "metadata": {},
     "output_type": "display_data"
    },
    {
     "data": {
      "application/vnd.jupyter.widget-view+json": {
       "model_id": "",
       "version_major": 2,
       "version_minor": 0
      },
      "text/plain": [
       "FloatProgress(value=0.0, bar_style='info', description='Progress:', layout=Layout(height='25px', width='50%'),…"
      ]
     },
     "metadata": {},
     "output_type": "display_data"
    },
    {
     "name": "stdout",
     "output_type": "stream",
     "text": [
      "+---+--------+-----------+--------------------+-------------------+----+--------------------+--------------------+--------------------+------+--------+----+--------+----+--------------+--------+------------+------------+----+--------------------+------------+-------------+--------------------+\n",
      "|_c0|      ID|Case Number|                Date|              Block|IUCR|        Primary Type|         Description|Location Description|Arrest|Domestic|Beat|District|Ward|Community Area|FBI Code|X Coordinate|Y Coordinate|Year|          Updated On|    Latitude|    Longitude|            Location|\n",
      "+---+--------+-----------+--------------------+-------------------+----+--------------------+--------------------+--------------------+------+--------+----+--------+----+--------------+--------+------------+------------+----+--------------------+------------+-------------+--------------------+\n",
      "|  3|10508693|   HZ250496|05/03/2016 11:40:...| 013XX S SAWYER AVE|0486|             BATTERY|DOMESTIC BATTERY ...|           APARTMENT|  True|    True|1022|    10.0|24.0|          29.0|     08B|   1154907.0|   1893681.0|2016|05/10/2016 03:56:...|41.864073157|-87.706818608|(41.864073157, -8...|\n",
      "| 89|10508695|   HZ250409|05/03/2016 09:40:...| 061XX S DREXEL AVE|0486|             BATTERY|DOMESTIC BATTERY ...|           RESIDENCE| False|    True| 313|     3.0|20.0|          42.0|     08B|   1183066.0|   1864330.0|2016|05/10/2016 03:56:...|41.782921527| -87.60436317|(41.782921527, -8...|\n",
      "|197|10508697|   HZ250503|05/03/2016 11:31:...|053XX W CHICAGO AVE|0470|PUBLIC PEACE VIOL...|    RECKLESS CONDUCT|              STREET| False|   False|1524|    15.0|37.0|          25.0|      24|   1140789.0|   1904819.0|2016|05/10/2016 03:56:...|41.894908283|-87.758371958|(41.894908283, -8...|\n",
      "|673|10508698|   HZ250424|05/03/2016 10:10:...|  049XX W FULTON ST|0460|             BATTERY|              SIMPLE|            SIDEWALK| False|   False|1532|    15.0|28.0|          25.0|     08B|   1143223.0|   1901475.0|2016|05/10/2016 03:56:...|41.885686845|-87.749515983|(41.885686845, -8...|\n",
      "|911|10508699|   HZ250455|05/03/2016 10:00:...|  003XX N LOTUS AVE|0820|               THEFT|      $500 AND UNDER|           RESIDENCE| False|    True|1523|    15.0|28.0|          25.0|      06|   1139890.0|   1901675.0|2016|05/10/2016 03:56:...|41.886297242|-87.761750709|(41.886297242, -8...|\n",
      "+---+--------+-----------+--------------------+-------------------+----+--------------------+--------------------+--------------------+------+--------+----+--------+----+--------------+--------+------------+------------+----+--------------------+------------+-------------+--------------------+\n",
      "only showing top 5 rows"
     ]
    }
   ],
   "source": [
    "# Show 5 rows in tabular format\n",
    "df.show(5)"
   ]
  },
  {
   "cell_type": "code",
   "execution_count": 13,
   "metadata": {
    "execution": {
     "iopub.execute_input": "2022-07-28T19:04:00.021058Z",
     "iopub.status.busy": "2022-07-28T19:04:00.020861Z",
     "iopub.status.idle": "2022-07-28T19:04:00.071694Z",
     "shell.execute_reply": "2022-07-28T19:04:00.071115Z",
     "shell.execute_reply.started": "2022-07-28T19:04:00.021034Z"
    }
   },
   "outputs": [
    {
     "data": {
      "application/vnd.jupyter.widget-view+json": {
       "model_id": "98ee464a53654e168483dd17cca58b2d",
       "version_major": 2,
       "version_minor": 0
      },
      "text/plain": [
       "VBox()"
      ]
     },
     "metadata": {},
     "output_type": "display_data"
    },
    {
     "data": {
      "application/vnd.jupyter.widget-view+json": {
       "model_id": "",
       "version_major": 2,
       "version_minor": 0
      },
      "text/plain": [
       "FloatProgress(value=0.0, bar_style='info', description='Progress:', layout=Layout(height='25px', width='50%'),…"
      ]
     },
     "metadata": {},
     "output_type": "display_data"
    },
    {
     "name": "stdout",
     "output_type": "stream",
     "text": [
      "['_c0', 'ID', 'Case Number', 'Date', 'Block', 'IUCR', 'Primary Type', 'Description', 'Location Description', 'Arrest', 'Domestic', 'Beat', 'District', 'Ward', 'Community Area', 'FBI Code', 'X Coordinate', 'Y Coordinate', 'Year', 'Updated On', 'Latitude', 'Longitude', 'Location']"
     ]
    }
   ],
   "source": [
    "# get all columns\n",
    "df.columns"
   ]
  },
  {
   "cell_type": "markdown",
   "metadata": {},
   "source": [
    "### Data Exploration and Cleaning"
   ]
  },
  {
   "cell_type": "code",
   "execution_count": 14,
   "metadata": {
    "execution": {
     "iopub.execute_input": "2022-07-28T19:04:00.072812Z",
     "iopub.status.busy": "2022-07-28T19:04:00.072618Z",
     "iopub.status.idle": "2022-07-28T19:04:00.901867Z",
     "shell.execute_reply": "2022-07-28T19:04:00.901149Z",
     "shell.execute_reply.started": "2022-07-28T19:04:00.072788Z"
    }
   },
   "outputs": [
    {
     "data": {
      "application/vnd.jupyter.widget-view+json": {
       "model_id": "e52aaa8c02014aacaba0a1046489b898",
       "version_major": 2,
       "version_minor": 0
      },
      "text/plain": [
       "VBox()"
      ]
     },
     "metadata": {},
     "output_type": "display_data"
    },
    {
     "data": {
      "application/vnd.jupyter.widget-view+json": {
       "model_id": "",
       "version_major": 2,
       "version_minor": 0
      },
      "text/plain": [
       "FloatProgress(value=0.0, bar_style='info', description='Progress:', layout=Layout(height='25px', width='50%'),…"
      ]
     },
     "metadata": {},
     "output_type": "display_data"
    },
    {
     "name": "stdout",
     "output_type": "stream",
     "text": [
      "+----------------------+\n",
      "|Date                  |\n",
      "+----------------------+\n",
      "|05/03/2016 11:40:00 PM|\n",
      "|05/03/2016 09:40:00 PM|\n",
      "|05/03/2016 11:31:00 PM|\n",
      "|05/03/2016 10:10:00 PM|\n",
      "|05/03/2016 10:00:00 PM|\n",
      "|05/03/2016 10:35:00 PM|\n",
      "|05/03/2016 10:30:00 PM|\n",
      "|05/03/2016 09:30:00 PM|\n",
      "|05/03/2016 04:00:00 PM|\n",
      "|05/03/2016 10:30:00 PM|\n",
      "+----------------------+\n",
      "only showing top 10 rows"
     ]
    }
   ],
   "source": [
    "df.select(\"Date\").show(10, truncate = False)"
   ]
  },
  {
   "cell_type": "code",
   "execution_count": 15,
   "metadata": {
    "execution": {
     "iopub.execute_input": "2022-07-28T19:04:00.902981Z",
     "iopub.status.busy": "2022-07-28T19:04:00.902785Z",
     "iopub.status.idle": "2022-07-28T19:04:00.964554Z",
     "shell.execute_reply": "2022-07-28T19:04:00.963987Z",
     "shell.execute_reply.started": "2022-07-28T19:04:00.902956Z"
    }
   },
   "outputs": [
    {
     "data": {
      "application/vnd.jupyter.widget-view+json": {
       "model_id": "7f792cfaaceb4917b6ce702c21498ca4",
       "version_major": 2,
       "version_minor": 0
      },
      "text/plain": [
       "VBox()"
      ]
     },
     "metadata": {},
     "output_type": "display_data"
    },
    {
     "data": {
      "application/vnd.jupyter.widget-view+json": {
       "model_id": "",
       "version_major": 2,
       "version_minor": 0
      },
      "text/plain": [
       "FloatProgress(value=0.0, bar_style='info', description='Progress:', layout=Layout(height='25px', width='50%'),…"
      ]
     },
     "metadata": {},
     "output_type": "display_data"
    },
    {
     "name": "stdout",
     "output_type": "stream",
     "text": [
      "[('Date', 'string')]"
     ]
    }
   ],
   "source": [
    "# Column type\n",
    "df.select(\"Date\").dtypes"
   ]
  },
  {
   "cell_type": "markdown",
   "metadata": {},
   "source": [
    "Date is string data type, convert to timestamp format"
   ]
  },
  {
   "cell_type": "code",
   "execution_count": 16,
   "metadata": {
    "execution": {
     "iopub.execute_input": "2022-07-28T19:04:00.965574Z",
     "iopub.status.busy": "2022-07-28T19:04:00.965407Z",
     "iopub.status.idle": "2022-07-28T19:04:01.230545Z",
     "shell.execute_reply": "2022-07-28T19:04:01.229775Z",
     "shell.execute_reply.started": "2022-07-28T19:04:00.965553Z"
    }
   },
   "outputs": [
    {
     "data": {
      "application/vnd.jupyter.widget-view+json": {
       "model_id": "ca068cd59c974d09af6118516383df70",
       "version_major": 2,
       "version_minor": 0
      },
      "text/plain": [
       "VBox()"
      ]
     },
     "metadata": {},
     "output_type": "display_data"
    },
    {
     "data": {
      "application/vnd.jupyter.widget-view+json": {
       "model_id": "",
       "version_major": 2,
       "version_minor": 0
      },
      "text/plain": [
       "FloatProgress(value=0.0, bar_style='info', description='Progress:', layout=Layout(height='25px', width='50%'),…"
      ]
     },
     "metadata": {},
     "output_type": "display_data"
    }
   ],
   "source": [
    "# Changing the type of column Date to timestamp\n",
    "from pyspark.sql.functions import to_timestamp\n",
    "\n",
    "\n",
    "df = df.withColumn(\"Date_Time\",to_timestamp('Date',\"MM/dd/yyyy hh:mm:ss a\"))"
   ]
  },
  {
   "cell_type": "code",
   "execution_count": 17,
   "metadata": {
    "execution": {
     "iopub.execute_input": "2022-07-28T19:04:01.231598Z",
     "iopub.status.busy": "2022-07-28T19:04:01.231430Z",
     "iopub.status.idle": "2022-07-28T19:04:02.001456Z",
     "shell.execute_reply": "2022-07-28T19:04:02.000856Z",
     "shell.execute_reply.started": "2022-07-28T19:04:01.231577Z"
    }
   },
   "outputs": [
    {
     "data": {
      "application/vnd.jupyter.widget-view+json": {
       "model_id": "09eccae639404bf597f0d74b096ce6d7",
       "version_major": 2,
       "version_minor": 0
      },
      "text/plain": [
       "VBox()"
      ]
     },
     "metadata": {},
     "output_type": "display_data"
    },
    {
     "data": {
      "application/vnd.jupyter.widget-view+json": {
       "model_id": "",
       "version_major": 2,
       "version_minor": 0
      },
      "text/plain": [
       "FloatProgress(value=0.0, bar_style='info', description='Progress:', layout=Layout(height='25px', width='50%'),…"
      ]
     },
     "metadata": {},
     "output_type": "display_data"
    },
    {
     "name": "stdout",
     "output_type": "stream",
     "text": [
      "+-------------------+\n",
      "|Date_Time          |\n",
      "+-------------------+\n",
      "|2016-05-03 23:40:00|\n",
      "|2016-05-03 21:40:00|\n",
      "|2016-05-03 23:31:00|\n",
      "|2016-05-03 22:10:00|\n",
      "|2016-05-03 22:00:00|\n",
      "|2016-05-03 22:35:00|\n",
      "|2016-05-03 22:30:00|\n",
      "|2016-05-03 21:30:00|\n",
      "|2016-05-03 16:00:00|\n",
      "|2016-05-03 22:30:00|\n",
      "+-------------------+\n",
      "only showing top 10 rows"
     ]
    }
   ],
   "source": [
    "df.select(\"Date_Time\").show(10, truncate = False)"
   ]
  },
  {
   "cell_type": "code",
   "execution_count": 18,
   "metadata": {
    "execution": {
     "iopub.execute_input": "2022-07-28T19:04:02.002570Z",
     "iopub.status.busy": "2022-07-28T19:04:02.002396Z",
     "iopub.status.idle": "2022-07-28T19:04:02.070792Z",
     "shell.execute_reply": "2022-07-28T19:04:02.070214Z",
     "shell.execute_reply.started": "2022-07-28T19:04:02.002548Z"
    }
   },
   "outputs": [
    {
     "data": {
      "application/vnd.jupyter.widget-view+json": {
       "model_id": "11b284a826c1470193075b950a27b92d",
       "version_major": 2,
       "version_minor": 0
      },
      "text/plain": [
       "VBox()"
      ]
     },
     "metadata": {},
     "output_type": "display_data"
    },
    {
     "data": {
      "application/vnd.jupyter.widget-view+json": {
       "model_id": "",
       "version_major": 2,
       "version_minor": 0
      },
      "text/plain": [
       "FloatProgress(value=0.0, bar_style='info', description='Progress:', layout=Layout(height='25px', width='50%'),…"
      ]
     },
     "metadata": {},
     "output_type": "display_data"
    },
    {
     "name": "stdout",
     "output_type": "stream",
     "text": [
      "[('Date_Time', 'timestamp')]"
     ]
    }
   ],
   "source": [
    "df.select(\"Date_Time\").dtypes"
   ]
  },
  {
   "cell_type": "markdown",
   "metadata": {},
   "source": [
    "### Extracting 'hour' from the dataset"
   ]
  },
  {
   "cell_type": "code",
   "execution_count": 19,
   "metadata": {
    "execution": {
     "iopub.execute_input": "2022-07-28T19:04:02.071856Z",
     "iopub.status.busy": "2022-07-28T19:04:02.071671Z",
     "iopub.status.idle": "2022-07-28T19:04:02.135036Z",
     "shell.execute_reply": "2022-07-28T19:04:02.134215Z",
     "shell.execute_reply.started": "2022-07-28T19:04:02.071834Z"
    }
   },
   "outputs": [
    {
     "data": {
      "application/vnd.jupyter.widget-view+json": {
       "model_id": "dc22c201a6e944f6bc4116a9a253072d",
       "version_major": 2,
       "version_minor": 0
      },
      "text/plain": [
       "VBox()"
      ]
     },
     "metadata": {},
     "output_type": "display_data"
    },
    {
     "data": {
      "application/vnd.jupyter.widget-view+json": {
       "model_id": "",
       "version_major": 2,
       "version_minor": 0
      },
      "text/plain": [
       "FloatProgress(value=0.0, bar_style='info', description='Progress:', layout=Layout(height='25px', width='50%'),…"
      ]
     },
     "metadata": {},
     "output_type": "display_data"
    }
   ],
   "source": [
    "from pyspark.sql.functions import hour\n",
    "\n",
    "df = df.withColumn('hour', hour(df[\"Date_Time\"]))"
   ]
  },
  {
   "cell_type": "code",
   "execution_count": 20,
   "metadata": {
    "execution": {
     "iopub.execute_input": "2022-07-28T19:04:02.136571Z",
     "iopub.status.busy": "2022-07-28T19:04:02.136308Z",
     "iopub.status.idle": "2022-07-28T19:04:02.931347Z",
     "shell.execute_reply": "2022-07-28T19:04:02.930116Z",
     "shell.execute_reply.started": "2022-07-28T19:04:02.136535Z"
    }
   },
   "outputs": [
    {
     "data": {
      "application/vnd.jupyter.widget-view+json": {
       "model_id": "c2b90333541a4e79abb18243ac407e65",
       "version_major": 2,
       "version_minor": 0
      },
      "text/plain": [
       "VBox()"
      ]
     },
     "metadata": {},
     "output_type": "display_data"
    },
    {
     "data": {
      "application/vnd.jupyter.widget-view+json": {
       "model_id": "",
       "version_major": 2,
       "version_minor": 0
      },
      "text/plain": [
       "FloatProgress(value=0.0, bar_style='info', description='Progress:', layout=Layout(height='25px', width='50%'),…"
      ]
     },
     "metadata": {},
     "output_type": "display_data"
    },
    {
     "name": "stdout",
     "output_type": "stream",
     "text": [
      "+----+\n",
      "|hour|\n",
      "+----+\n",
      "|  23|\n",
      "|  21|\n",
      "|  23|\n",
      "|  22|\n",
      "|  22|\n",
      "+----+\n",
      "only showing top 5 rows"
     ]
    }
   ],
   "source": [
    "df.select('hour').show(5)"
   ]
  },
  {
   "cell_type": "markdown",
   "metadata": {
    "execution": {
     "iopub.execute_input": "2022-07-28T17:41:52.682768Z",
     "iopub.status.busy": "2022-07-28T17:41:52.682532Z",
     "iopub.status.idle": "2022-07-28T17:41:52.743375Z",
     "shell.execute_reply": "2022-07-28T17:41:52.742830Z",
     "shell.execute_reply.started": "2022-07-28T17:41:52.682741Z"
    }
   },
   "source": [
    "### Extract day of week from date in pyspark"
   ]
  },
  {
   "cell_type": "code",
   "execution_count": 21,
   "metadata": {
    "execution": {
     "iopub.execute_input": "2022-07-28T19:04:02.932445Z",
     "iopub.status.busy": "2022-07-28T19:04:02.932273Z",
     "iopub.status.idle": "2022-07-28T19:04:03.028225Z",
     "shell.execute_reply": "2022-07-28T19:04:03.014431Z",
     "shell.execute_reply.started": "2022-07-28T19:04:02.932423Z"
    }
   },
   "outputs": [
    {
     "data": {
      "application/vnd.jupyter.widget-view+json": {
       "model_id": "c6ee0ce3be994314a0470f2cd06d63e2",
       "version_major": 2,
       "version_minor": 0
      },
      "text/plain": [
       "VBox()"
      ]
     },
     "metadata": {},
     "output_type": "display_data"
    },
    {
     "data": {
      "application/vnd.jupyter.widget-view+json": {
       "model_id": "",
       "version_major": 2,
       "version_minor": 0
      },
      "text/plain": [
       "FloatProgress(value=0.0, bar_style='info', description='Progress:', layout=Layout(height='25px', width='50%'),…"
      ]
     },
     "metadata": {},
     "output_type": "display_data"
    }
   ],
   "source": [
    "from pyspark.sql.functions import dayofweek\n",
    "\n",
    "# create a new column for dayofweek from Date_Time\n",
    "\n",
    "df = df.withColumn('day_of_week', dayofweek(df[\"Date_Time\"]))"
   ]
  },
  {
   "cell_type": "code",
   "execution_count": 22,
   "metadata": {
    "execution": {
     "iopub.execute_input": "2022-07-28T19:04:03.029667Z",
     "iopub.status.busy": "2022-07-28T19:04:03.029453Z",
     "iopub.status.idle": "2022-07-28T19:04:03.849419Z",
     "shell.execute_reply": "2022-07-28T19:04:03.848374Z",
     "shell.execute_reply.started": "2022-07-28T19:04:03.029642Z"
    }
   },
   "outputs": [
    {
     "data": {
      "application/vnd.jupyter.widget-view+json": {
       "model_id": "83e07bac7cf34cd4a2e1860bf8379986",
       "version_major": 2,
       "version_minor": 0
      },
      "text/plain": [
       "VBox()"
      ]
     },
     "metadata": {},
     "output_type": "display_data"
    },
    {
     "data": {
      "application/vnd.jupyter.widget-view+json": {
       "model_id": "",
       "version_major": 2,
       "version_minor": 0
      },
      "text/plain": [
       "FloatProgress(value=0.0, bar_style='info', description='Progress:', layout=Layout(height='25px', width='50%'),…"
      ]
     },
     "metadata": {},
     "output_type": "display_data"
    },
    {
     "name": "stdout",
     "output_type": "stream",
     "text": [
      "+-----------+\n",
      "|day_of_week|\n",
      "+-----------+\n",
      "|          3|\n",
      "|          3|\n",
      "|          3|\n",
      "|          3|\n",
      "|          3|\n",
      "+-----------+\n",
      "only showing top 5 rows"
     ]
    }
   ],
   "source": [
    "df.select('day_of_week').show(5)"
   ]
  },
  {
   "cell_type": "markdown",
   "metadata": {
    "tags": []
   },
   "source": [
    "### Show 'hour' & 'day_of_week'"
   ]
  },
  {
   "cell_type": "code",
   "execution_count": 23,
   "metadata": {
    "execution": {
     "iopub.execute_input": "2022-07-28T19:04:03.857180Z",
     "iopub.status.busy": "2022-07-28T19:04:03.855984Z",
     "iopub.status.idle": "2022-07-28T19:04:04.640109Z",
     "shell.execute_reply": "2022-07-28T19:04:04.639444Z",
     "shell.execute_reply.started": "2022-07-28T19:04:03.857138Z"
    }
   },
   "outputs": [
    {
     "data": {
      "application/vnd.jupyter.widget-view+json": {
       "model_id": "4b49a499c1b040d38cc9c9e81ee09619",
       "version_major": 2,
       "version_minor": 0
      },
      "text/plain": [
       "VBox()"
      ]
     },
     "metadata": {},
     "output_type": "display_data"
    },
    {
     "data": {
      "application/vnd.jupyter.widget-view+json": {
       "model_id": "",
       "version_major": 2,
       "version_minor": 0
      },
      "text/plain": [
       "FloatProgress(value=0.0, bar_style='info', description='Progress:', layout=Layout(height='25px', width='50%'),…"
      ]
     },
     "metadata": {},
     "output_type": "display_data"
    },
    {
     "name": "stdout",
     "output_type": "stream",
     "text": [
      "+----+-----------+\n",
      "|hour|day_of_week|\n",
      "+----+-----------+\n",
      "|  23|          3|\n",
      "|  21|          3|\n",
      "|  23|          3|\n",
      "|  22|          3|\n",
      "|  22|          3|\n",
      "+----+-----------+\n",
      "only showing top 5 rows"
     ]
    }
   ],
   "source": [
    "df.select('hour','day_of_week').show(5)"
   ]
  },
  {
   "cell_type": "code",
   "execution_count": 24,
   "metadata": {
    "execution": {
     "iopub.execute_input": "2022-07-28T19:04:04.642229Z",
     "iopub.status.busy": "2022-07-28T19:04:04.642043Z",
     "iopub.status.idle": "2022-07-28T19:04:05.510326Z",
     "shell.execute_reply": "2022-07-28T19:04:05.509612Z",
     "shell.execute_reply.started": "2022-07-28T19:04:04.642206Z"
    }
   },
   "outputs": [
    {
     "data": {
      "application/vnd.jupyter.widget-view+json": {
       "model_id": "235350d7bd9b4d7489f924cd4db433ed",
       "version_major": 2,
       "version_minor": 0
      },
      "text/plain": [
       "VBox()"
      ]
     },
     "metadata": {},
     "output_type": "display_data"
    },
    {
     "data": {
      "application/vnd.jupyter.widget-view+json": {
       "model_id": "",
       "version_major": 2,
       "version_minor": 0
      },
      "text/plain": [
       "FloatProgress(value=0.0, bar_style='info', description='Progress:', layout=Layout(height='25px', width='50%'),…"
      ]
     },
     "metadata": {},
     "output_type": "display_data"
    },
    {
     "name": "stdout",
     "output_type": "stream",
     "text": [
      "+---+--------+-----------+--------------------+-------------------+----+--------------------+--------------------+--------------------+------+--------+----+--------+----+--------------+--------+------------+------------+----+--------------------+------------+-------------+--------------------+-------------------+----+-----------+\n",
      "|_c0|      ID|Case Number|                Date|              Block|IUCR|        Primary Type|         Description|Location Description|Arrest|Domestic|Beat|District|Ward|Community Area|FBI Code|X Coordinate|Y Coordinate|Year|          Updated On|    Latitude|    Longitude|            Location|          Date_Time|hour|day_of_week|\n",
      "+---+--------+-----------+--------------------+-------------------+----+--------------------+--------------------+--------------------+------+--------+----+--------+----+--------------+--------+------------+------------+----+--------------------+------------+-------------+--------------------+-------------------+----+-----------+\n",
      "|  3|10508693|   HZ250496|05/03/2016 11:40:...| 013XX S SAWYER AVE|0486|             BATTERY|DOMESTIC BATTERY ...|           APARTMENT|  True|    True|1022|    10.0|24.0|          29.0|     08B|   1154907.0|   1893681.0|2016|05/10/2016 03:56:...|41.864073157|-87.706818608|(41.864073157, -8...|2016-05-03 23:40:00|  23|          3|\n",
      "| 89|10508695|   HZ250409|05/03/2016 09:40:...| 061XX S DREXEL AVE|0486|             BATTERY|DOMESTIC BATTERY ...|           RESIDENCE| False|    True| 313|     3.0|20.0|          42.0|     08B|   1183066.0|   1864330.0|2016|05/10/2016 03:56:...|41.782921527| -87.60436317|(41.782921527, -8...|2016-05-03 21:40:00|  21|          3|\n",
      "|197|10508697|   HZ250503|05/03/2016 11:31:...|053XX W CHICAGO AVE|0470|PUBLIC PEACE VIOL...|    RECKLESS CONDUCT|              STREET| False|   False|1524|    15.0|37.0|          25.0|      24|   1140789.0|   1904819.0|2016|05/10/2016 03:56:...|41.894908283|-87.758371958|(41.894908283, -8...|2016-05-03 23:31:00|  23|          3|\n",
      "|673|10508698|   HZ250424|05/03/2016 10:10:...|  049XX W FULTON ST|0460|             BATTERY|              SIMPLE|            SIDEWALK| False|   False|1532|    15.0|28.0|          25.0|     08B|   1143223.0|   1901475.0|2016|05/10/2016 03:56:...|41.885686845|-87.749515983|(41.885686845, -8...|2016-05-03 22:10:00|  22|          3|\n",
      "|911|10508699|   HZ250455|05/03/2016 10:00:...|  003XX N LOTUS AVE|0820|               THEFT|      $500 AND UNDER|           RESIDENCE| False|    True|1523|    15.0|28.0|          25.0|      06|   1139890.0|   1901675.0|2016|05/10/2016 03:56:...|41.886297242|-87.761750709|(41.886297242, -8...|2016-05-03 22:00:00|  22|          3|\n",
      "+---+--------+-----------+--------------------+-------------------+----+--------------------+--------------------+--------------------+------+--------+----+--------+----+--------------+--------+------------+------------+----+--------------------+------------+-------------+--------------------+-------------------+----+-----------+\n",
      "only showing top 5 rows"
     ]
    }
   ],
   "source": [
    "df.show(5)"
   ]
  },
  {
   "cell_type": "code",
   "execution_count": 25,
   "metadata": {
    "execution": {
     "iopub.execute_input": "2022-07-28T19:04:05.511508Z",
     "iopub.status.busy": "2022-07-28T19:04:05.511309Z",
     "iopub.status.idle": "2022-07-28T19:04:05.590585Z",
     "shell.execute_reply": "2022-07-28T19:04:05.589727Z",
     "shell.execute_reply.started": "2022-07-28T19:04:05.511485Z"
    }
   },
   "outputs": [
    {
     "data": {
      "application/vnd.jupyter.widget-view+json": {
       "model_id": "a58ae0fbb38d4299975fb7c31421876e",
       "version_major": 2,
       "version_minor": 0
      },
      "text/plain": [
       "VBox()"
      ]
     },
     "metadata": {},
     "output_type": "display_data"
    },
    {
     "data": {
      "application/vnd.jupyter.widget-view+json": {
       "model_id": "",
       "version_major": 2,
       "version_minor": 0
      },
      "text/plain": [
       "FloatProgress(value=0.0, bar_style='info', description='Progress:', layout=Layout(height='25px', width='50%'),…"
      ]
     },
     "metadata": {},
     "output_type": "display_data"
    }
   ],
   "source": [
    "# Dropping the columns: Date & Date_Time\n",
    "df = df.drop('Date', 'Date_Time')"
   ]
  },
  {
   "cell_type": "code",
   "execution_count": 26,
   "metadata": {
    "execution": {
     "iopub.execute_input": "2022-07-28T19:04:05.592121Z",
     "iopub.status.busy": "2022-07-28T19:04:05.591874Z",
     "iopub.status.idle": "2022-07-28T19:04:06.392304Z",
     "shell.execute_reply": "2022-07-28T19:04:06.390028Z",
     "shell.execute_reply.started": "2022-07-28T19:04:05.592088Z"
    }
   },
   "outputs": [
    {
     "data": {
      "application/vnd.jupyter.widget-view+json": {
       "model_id": "989e34b4b323440a864203798230d50a",
       "version_major": 2,
       "version_minor": 0
      },
      "text/plain": [
       "VBox()"
      ]
     },
     "metadata": {},
     "output_type": "display_data"
    },
    {
     "data": {
      "application/vnd.jupyter.widget-view+json": {
       "model_id": "",
       "version_major": 2,
       "version_minor": 0
      },
      "text/plain": [
       "FloatProgress(value=0.0, bar_style='info', description='Progress:', layout=Layout(height='25px', width='50%'),…"
      ]
     },
     "metadata": {},
     "output_type": "display_data"
    },
    {
     "name": "stdout",
     "output_type": "stream",
     "text": [
      "+---+--------+-----------+-------------------+----+--------------------+--------------------+--------------------+------+--------+----+--------+----+--------------+--------+------------+------------+----+--------------------+------------+-------------+--------------------+----+-----------+\n",
      "|_c0|      ID|Case Number|              Block|IUCR|        Primary Type|         Description|Location Description|Arrest|Domestic|Beat|District|Ward|Community Area|FBI Code|X Coordinate|Y Coordinate|Year|          Updated On|    Latitude|    Longitude|            Location|hour|day_of_week|\n",
      "+---+--------+-----------+-------------------+----+--------------------+--------------------+--------------------+------+--------+----+--------+----+--------------+--------+------------+------------+----+--------------------+------------+-------------+--------------------+----+-----------+\n",
      "|  3|10508693|   HZ250496| 013XX S SAWYER AVE|0486|             BATTERY|DOMESTIC BATTERY ...|           APARTMENT|  True|    True|1022|    10.0|24.0|          29.0|     08B|   1154907.0|   1893681.0|2016|05/10/2016 03:56:...|41.864073157|-87.706818608|(41.864073157, -8...|  23|          3|\n",
      "| 89|10508695|   HZ250409| 061XX S DREXEL AVE|0486|             BATTERY|DOMESTIC BATTERY ...|           RESIDENCE| False|    True| 313|     3.0|20.0|          42.0|     08B|   1183066.0|   1864330.0|2016|05/10/2016 03:56:...|41.782921527| -87.60436317|(41.782921527, -8...|  21|          3|\n",
      "|197|10508697|   HZ250503|053XX W CHICAGO AVE|0470|PUBLIC PEACE VIOL...|    RECKLESS CONDUCT|              STREET| False|   False|1524|    15.0|37.0|          25.0|      24|   1140789.0|   1904819.0|2016|05/10/2016 03:56:...|41.894908283|-87.758371958|(41.894908283, -8...|  23|          3|\n",
      "|673|10508698|   HZ250424|  049XX W FULTON ST|0460|             BATTERY|              SIMPLE|            SIDEWALK| False|   False|1532|    15.0|28.0|          25.0|     08B|   1143223.0|   1901475.0|2016|05/10/2016 03:56:...|41.885686845|-87.749515983|(41.885686845, -8...|  22|          3|\n",
      "|911|10508699|   HZ250455|  003XX N LOTUS AVE|0820|               THEFT|      $500 AND UNDER|           RESIDENCE| False|    True|1523|    15.0|28.0|          25.0|      06|   1139890.0|   1901675.0|2016|05/10/2016 03:56:...|41.886297242|-87.761750709|(41.886297242, -8...|  22|          3|\n",
      "+---+--------+-----------+-------------------+----+--------------------+--------------------+--------------------+------+--------+----+--------+----+--------------+--------+------------+------------+----+--------------------+------------+-------------+--------------------+----+-----------+\n",
      "only showing top 5 rows"
     ]
    }
   ],
   "source": [
    "df.show(5)"
   ]
  },
  {
   "cell_type": "markdown",
   "metadata": {},
   "source": [
    "### Hours- statistical analysis"
   ]
  },
  {
   "cell_type": "code",
   "execution_count": 27,
   "metadata": {
    "execution": {
     "iopub.execute_input": "2022-07-28T19:04:06.393925Z",
     "iopub.status.busy": "2022-07-28T19:04:06.393607Z",
     "iopub.status.idle": "2022-07-28T19:04:11.758444Z",
     "shell.execute_reply": "2022-07-28T19:04:11.757733Z",
     "shell.execute_reply.started": "2022-07-28T19:04:06.393887Z"
    }
   },
   "outputs": [
    {
     "data": {
      "application/vnd.jupyter.widget-view+json": {
       "model_id": "a6fef5d02daf4dc8affb7f23a4206e4e",
       "version_major": 2,
       "version_minor": 0
      },
      "text/plain": [
       "VBox()"
      ]
     },
     "metadata": {},
     "output_type": "display_data"
    },
    {
     "data": {
      "application/vnd.jupyter.widget-view+json": {
       "model_id": "",
       "version_major": 2,
       "version_minor": 0
      },
      "text/plain": [
       "FloatProgress(value=0.0, bar_style='info', description='Progress:', layout=Layout(height='25px', width='50%'),…"
      ]
     },
     "metadata": {},
     "output_type": "display_data"
    },
    {
     "name": "stdout",
     "output_type": "stream",
     "text": [
      "+----+-----+\n",
      "|hour|count|\n",
      "+----+-----+\n",
      "|  12|83930|\n",
      "|   1|43771|\n",
      "|   6|24609|\n",
      "|   3|31048|\n",
      "|   4|23325|\n",
      "|   8|50637|\n",
      "|  11|67005|\n",
      "|  19|84193|\n",
      "|  23|61224|\n",
      "|  21|76543|\n",
      "+----+-----+\n",
      "only showing top 10 rows"
     ]
    }
   ],
   "source": [
    "# In each hour, how many crimes happened\n",
    "\n",
    "df.groupBy('hour').count().show(10)"
   ]
  },
  {
   "cell_type": "code",
   "execution_count": 28,
   "metadata": {
    "execution": {
     "iopub.execute_input": "2022-07-28T19:04:11.759484Z",
     "iopub.status.busy": "2022-07-28T19:04:11.759321Z",
     "iopub.status.idle": "2022-07-28T19:04:17.052642Z",
     "shell.execute_reply": "2022-07-28T19:04:17.051950Z",
     "shell.execute_reply.started": "2022-07-28T19:04:11.759463Z"
    }
   },
   "outputs": [
    {
     "data": {
      "application/vnd.jupyter.widget-view+json": {
       "model_id": "789717a972f24ede8a2809084ea10036",
       "version_major": 2,
       "version_minor": 0
      },
      "text/plain": [
       "VBox()"
      ]
     },
     "metadata": {},
     "output_type": "display_data"
    },
    {
     "data": {
      "application/vnd.jupyter.widget-view+json": {
       "model_id": "",
       "version_major": 2,
       "version_minor": 0
      },
      "text/plain": [
       "FloatProgress(value=0.0, bar_style='info', description='Progress:', layout=Layout(height='25px', width='50%'),…"
      ]
     },
     "metadata": {},
     "output_type": "display_data"
    }
   ],
   "source": [
    "# Storing in a pandas dataframe for visualisation \n",
    "# store in descending order\n",
    "hour_df = df.groupBy('hour').count().orderBy('count',ascending=False).toPandas()"
   ]
  },
  {
   "cell_type": "code",
   "execution_count": 29,
   "metadata": {
    "execution": {
     "iopub.execute_input": "2022-07-28T19:04:17.053711Z",
     "iopub.status.busy": "2022-07-28T19:04:17.053499Z",
     "iopub.status.idle": "2022-07-28T19:04:17.114054Z",
     "shell.execute_reply": "2022-07-28T19:04:17.113292Z",
     "shell.execute_reply.started": "2022-07-28T19:04:17.053663Z"
    }
   },
   "outputs": [
    {
     "data": {
      "application/vnd.jupyter.widget-view+json": {
       "model_id": "11eb0ef33f784d12a0cac50b469026fa",
       "version_major": 2,
       "version_minor": 0
      },
      "text/plain": [
       "VBox()"
      ]
     },
     "metadata": {},
     "output_type": "display_data"
    },
    {
     "data": {
      "application/vnd.jupyter.widget-view+json": {
       "model_id": "",
       "version_major": 2,
       "version_minor": 0
      },
      "text/plain": [
       "FloatProgress(value=0.0, bar_style='info', description='Progress:', layout=Layout(height='25px', width='50%'),…"
      ]
     },
     "metadata": {},
     "output_type": "display_data"
    },
    {
     "name": "stdout",
     "output_type": "stream",
     "text": [
      "   hour  count\n",
      "0    19  84193\n",
      "1    12  83930\n",
      "2    18  82414\n",
      "3    20  80826\n",
      "4    15  79930\n",
      "5    21  76543\n",
      "6    16  76065\n",
      "7    22  75824\n",
      "8    17  75556\n",
      "9    14  73698"
     ]
    }
   ],
   "source": [
    "# print 10 rows\n",
    "hour_df.head(10)"
   ]
  },
  {
   "cell_type": "code",
   "execution_count": 30,
   "metadata": {
    "execution": {
     "iopub.execute_input": "2022-07-28T19:04:17.115437Z",
     "iopub.status.busy": "2022-07-28T19:04:17.115188Z",
     "iopub.status.idle": "2022-07-28T19:04:17.387548Z",
     "shell.execute_reply": "2022-07-28T19:04:17.386924Z",
     "shell.execute_reply.started": "2022-07-28T19:04:17.115402Z"
    }
   },
   "outputs": [
    {
     "data": {
      "application/vnd.jupyter.widget-view+json": {
       "model_id": "918f944b1dd249a4b88ee8df468edf17",
       "version_major": 2,
       "version_minor": 0
      },
      "text/plain": [
       "VBox()"
      ]
     },
     "metadata": {},
     "output_type": "display_data"
    },
    {
     "data": {
      "application/vnd.jupyter.widget-view+json": {
       "model_id": "",
       "version_major": 2,
       "version_minor": 0
      },
      "text/plain": [
       "FloatProgress(value=0.0, bar_style='info', description='Progress:', layout=Layout(height='25px', width='50%'),…"
      ]
     },
     "metadata": {},
     "output_type": "display_data"
    }
   ],
   "source": [
    "# import matplotlib \n",
    "import matplotlib.pyplot as plt"
   ]
  },
  {
   "cell_type": "markdown",
   "metadata": {},
   "source": [
    "### What time of the day are criminals the busiest?"
   ]
  },
  {
   "cell_type": "code",
   "execution_count": 38,
   "metadata": {
    "execution": {
     "iopub.execute_input": "2022-07-28T19:11:24.741784Z",
     "iopub.status.busy": "2022-07-28T19:11:24.741516Z",
     "iopub.status.idle": "2022-07-28T19:11:24.801888Z",
     "shell.execute_reply": "2022-07-28T19:11:24.801143Z",
     "shell.execute_reply.started": "2022-07-28T19:11:24.741757Z"
    },
    "tags": []
   },
   "outputs": [
    {
     "data": {
      "application/vnd.jupyter.widget-view+json": {
       "model_id": "20f7dc4576f447109d6fa36f50db712f",
       "version_major": 2,
       "version_minor": 0
      },
      "text/plain": [
       "VBox()"
      ]
     },
     "metadata": {},
     "output_type": "display_data"
    },
    {
     "data": {
      "application/vnd.jupyter.widget-view+json": {
       "model_id": "",
       "version_major": 2,
       "version_minor": 0
      },
      "text/plain": [
       "FloatProgress(value=0.0, bar_style='info', description='Progress:', layout=Layout(height='25px', width='50%'),…"
      ]
     },
     "metadata": {},
     "output_type": "display_data"
    },
    {
     "name": "stderr",
     "output_type": "stream",
     "text": [
      "An error was encountered:\n",
      "Cannot interpret '<attribute 'dtype' of 'numpy.generic' objects>' as a data type\n",
      "Traceback (most recent call last):\n",
      "  File \"/tmp/1659035001029-0/lib/python3.7/site-packages/pandas/plotting/_core.py\", line 794, in __call__\n",
      "    return plot_backend.plot(data, kind=kind, **kwargs)\n",
      "  File \"/tmp/1659035001029-0/lib/python3.7/site-packages/pandas/plotting/_matplotlib/__init__.py\", line 62, in plot\n",
      "    plot_obj.generate()\n",
      "  File \"/tmp/1659035001029-0/lib/python3.7/site-packages/pandas/plotting/_matplotlib/core.py\", line 279, in generate\n",
      "    self._compute_plot_data()\n",
      "  File \"/tmp/1659035001029-0/lib/python3.7/site-packages/pandas/plotting/_matplotlib/core.py\", line 404, in _compute_plot_data\n",
      "    include=[np.number, \"datetime\", \"datetimetz\", \"timedelta\"]\n",
      "  File \"/tmp/1659035001029-0/lib/python3.7/site-packages/pandas/core/frame.py\", line 3427, in select_dtypes\n",
      "    include_these = Series(not bool(include), index=self.columns)\n",
      "  File \"/tmp/1659035001029-0/lib/python3.7/site-packages/pandas/core/series.py\", line 311, in __init__\n",
      "    data = sanitize_array(data, index, dtype, copy, raise_cast_failure=True)\n",
      "  File \"/tmp/1659035001029-0/lib/python3.7/site-packages/pandas/core/internals/construction.py\", line 712, in sanitize_array\n",
      "    subarr = construct_1d_arraylike_from_scalar(value, len(index), dtype)\n",
      "  File \"/tmp/1659035001029-0/lib/python3.7/site-packages/pandas/core/dtypes/cast.py\", line 1233, in construct_1d_arraylike_from_scalar\n",
      "    subarr = np.empty(length, dtype=dtype)\n",
      "TypeError: Cannot interpret '<attribute 'dtype' of 'numpy.generic' objects>' as a data type\n",
      "\n"
     ]
    }
   ],
   "source": [
    "\n",
    "# create the plot\n",
    "plt.figure(figsize=(14,10))\n",
    "\n",
    "# Plot Crime data for hour\n",
    "hour_df.plot(x='hour', y='count', kind='bar', color='blue')\n",
    "\n",
    "plt.title('Amount of Crimes by Hour')\n",
    "plt.ylabel('Amount of Crimes')\n",
    "plt.xlabel('Hour')\n",
    "\n",
    "\n",
    "# display the plot\n",
    "%matplot plt\n"
   ]
  },
  {
   "cell_type": "markdown",
   "metadata": {},
   "source": [
    "### Day of week statistical analysis"
   ]
  },
  {
   "cell_type": "code",
   "execution_count": 33,
   "metadata": {
    "execution": {
     "iopub.execute_input": "2022-07-28T19:10:43.232428Z",
     "iopub.status.busy": "2022-07-28T19:10:43.232183Z",
     "iopub.status.idle": "2022-07-28T19:10:58.554137Z",
     "shell.execute_reply": "2022-07-28T19:10:58.553404Z",
     "shell.execute_reply.started": "2022-07-28T19:10:43.232401Z"
    }
   },
   "outputs": [
    {
     "data": {
      "application/vnd.jupyter.widget-view+json": {
       "model_id": "5f5ae0680ddc4a19ade9915502a08b7b",
       "version_major": 2,
       "version_minor": 0
      },
      "text/plain": [
       "VBox()"
      ]
     },
     "metadata": {},
     "output_type": "display_data"
    },
    {
     "data": {
      "application/vnd.jupyter.widget-view+json": {
       "model_id": "",
       "version_major": 2,
       "version_minor": 0
      },
      "text/plain": [
       "FloatProgress(value=0.0, bar_style='info', description='Progress:', layout=Layout(height='25px', width='50%'),…"
      ]
     },
     "metadata": {},
     "output_type": "display_data"
    },
    {
     "name": "stdout",
     "output_type": "stream",
     "text": [
      "+-----------+------+\n",
      "|day_of_week| count|\n",
      "+-----------+------+\n",
      "|          1|202212|\n",
      "|          6|218643|\n",
      "|          3|206129|\n",
      "|          4|208374|\n",
      "|          5|205851|\n",
      "|          2|205762|\n",
      "|          7|209743|\n",
      "+-----------+------+"
     ]
    }
   ],
   "source": [
    "df.groupBy(\"day_of_week\").count().show()"
   ]
  },
  {
   "cell_type": "code",
   "execution_count": 34,
   "metadata": {
    "execution": {
     "iopub.execute_input": "2022-07-28T19:10:58.555764Z",
     "iopub.status.busy": "2022-07-28T19:10:58.555354Z",
     "iopub.status.idle": "2022-07-28T19:11:06.087092Z",
     "shell.execute_reply": "2022-07-28T19:11:06.086262Z",
     "shell.execute_reply.started": "2022-07-28T19:10:58.555724Z"
    }
   },
   "outputs": [
    {
     "data": {
      "application/vnd.jupyter.widget-view+json": {
       "model_id": "fe0bdf6ae3e74cdda14fc30cfcce9d6a",
       "version_major": 2,
       "version_minor": 0
      },
      "text/plain": [
       "VBox()"
      ]
     },
     "metadata": {},
     "output_type": "display_data"
    },
    {
     "data": {
      "application/vnd.jupyter.widget-view+json": {
       "model_id": "",
       "version_major": 2,
       "version_minor": 0
      },
      "text/plain": [
       "FloatProgress(value=0.0, bar_style='info', description='Progress:', layout=Layout(height='25px', width='50%'),…"
      ]
     },
     "metadata": {},
     "output_type": "display_data"
    }
   ],
   "source": [
    "dayofweek_df = df.groupBy(\"day_of_week\").count().orderBy(\"count\", ascending = False).toPandas()"
   ]
  },
  {
   "cell_type": "code",
   "execution_count": 35,
   "metadata": {
    "execution": {
     "iopub.execute_input": "2022-07-28T19:11:06.088475Z",
     "iopub.status.busy": "2022-07-28T19:11:06.088302Z",
     "iopub.status.idle": "2022-07-28T19:11:06.147992Z",
     "shell.execute_reply": "2022-07-28T19:11:06.147402Z",
     "shell.execute_reply.started": "2022-07-28T19:11:06.088452Z"
    }
   },
   "outputs": [
    {
     "data": {
      "application/vnd.jupyter.widget-view+json": {
       "model_id": "e482e16183f6488d8cfa8822ac353d91",
       "version_major": 2,
       "version_minor": 0
      },
      "text/plain": [
       "VBox()"
      ]
     },
     "metadata": {},
     "output_type": "display_data"
    },
    {
     "data": {
      "application/vnd.jupyter.widget-view+json": {
       "model_id": "",
       "version_major": 2,
       "version_minor": 0
      },
      "text/plain": [
       "FloatProgress(value=0.0, bar_style='info', description='Progress:', layout=Layout(height='25px', width='50%'),…"
      ]
     },
     "metadata": {},
     "output_type": "display_data"
    },
    {
     "name": "stdout",
     "output_type": "stream",
     "text": [
      "   day_of_week   count\n",
      "0            6  218643\n",
      "1            7  209743\n",
      "2            4  208374\n",
      "3            3  206129\n",
      "4            5  205851\n",
      "5            2  205762\n",
      "6            1  202212"
     ]
    }
   ],
   "source": [
    "dayofweek_df.head(7)"
   ]
  },
  {
   "cell_type": "markdown",
   "metadata": {},
   "source": [
    "### which day of the week ciminals are busiest?"
   ]
  },
  {
   "cell_type": "markdown",
   "metadata": {},
   "source": [
    "(1- Sunday , 2- Monday …… 7- Saturday)"
   ]
  },
  {
   "cell_type": "code",
   "execution_count": 36,
   "metadata": {
    "execution": {
     "iopub.execute_input": "2022-07-28T19:11:09.238798Z",
     "iopub.status.busy": "2022-07-28T19:11:09.238558Z",
     "iopub.status.idle": "2022-07-28T19:11:09.293420Z",
     "shell.execute_reply": "2022-07-28T19:11:09.292747Z",
     "shell.execute_reply.started": "2022-07-28T19:11:09.238765Z"
    }
   },
   "outputs": [
    {
     "data": {
      "application/vnd.jupyter.widget-view+json": {
       "model_id": "2fdf3eb5758940c483cc08ebfbacb3b3",
       "version_major": 2,
       "version_minor": 0
      },
      "text/plain": [
       "VBox()"
      ]
     },
     "metadata": {},
     "output_type": "display_data"
    },
    {
     "data": {
      "application/vnd.jupyter.widget-view+json": {
       "model_id": "",
       "version_major": 2,
       "version_minor": 0
      },
      "text/plain": [
       "FloatProgress(value=0.0, bar_style='info', description='Progress:', layout=Layout(height='25px', width='50%'),…"
      ]
     },
     "metadata": {},
     "output_type": "display_data"
    },
    {
     "name": "stderr",
     "output_type": "stream",
     "text": [
      "An error was encountered:\n",
      "Cannot interpret '<attribute 'dtype' of 'numpy.generic' objects>' as a data type\n",
      "Traceback (most recent call last):\n",
      "  File \"/tmp/1659035001029-0/lib/python3.7/site-packages/pandas/plotting/_core.py\", line 794, in __call__\n",
      "    return plot_backend.plot(data, kind=kind, **kwargs)\n",
      "  File \"/tmp/1659035001029-0/lib/python3.7/site-packages/pandas/plotting/_matplotlib/__init__.py\", line 62, in plot\n",
      "    plot_obj.generate()\n",
      "  File \"/tmp/1659035001029-0/lib/python3.7/site-packages/pandas/plotting/_matplotlib/core.py\", line 279, in generate\n",
      "    self._compute_plot_data()\n",
      "  File \"/tmp/1659035001029-0/lib/python3.7/site-packages/pandas/plotting/_matplotlib/core.py\", line 404, in _compute_plot_data\n",
      "    include=[np.number, \"datetime\", \"datetimetz\", \"timedelta\"]\n",
      "  File \"/tmp/1659035001029-0/lib/python3.7/site-packages/pandas/core/frame.py\", line 3427, in select_dtypes\n",
      "    include_these = Series(not bool(include), index=self.columns)\n",
      "  File \"/tmp/1659035001029-0/lib/python3.7/site-packages/pandas/core/series.py\", line 311, in __init__\n",
      "    data = sanitize_array(data, index, dtype, copy, raise_cast_failure=True)\n",
      "  File \"/tmp/1659035001029-0/lib/python3.7/site-packages/pandas/core/internals/construction.py\", line 712, in sanitize_array\n",
      "    subarr = construct_1d_arraylike_from_scalar(value, len(index), dtype)\n",
      "  File \"/tmp/1659035001029-0/lib/python3.7/site-packages/pandas/core/dtypes/cast.py\", line 1233, in construct_1d_arraylike_from_scalar\n",
      "    subarr = np.empty(length, dtype=dtype)\n",
      "TypeError: Cannot interpret '<attribute 'dtype' of 'numpy.generic' objects>' as a data type\n",
      "\n"
     ]
    }
   ],
   "source": [
    "# create the plot\n",
    "plt.figure(figsize=(14,10))\n",
    "\n",
    "\n",
    "dayofweek_df.plot(x = 'day_of_week', y = 'count', kind='bar', color = \"pink\")\n",
    "\n",
    "\n",
    "plt.title('Amount of Crimes by day_of_week')\n",
    "plt.ylabel('Amount of Crimes')\n",
    "plt.xlabel('day_of_week')\n",
    "\n",
    "\n",
    "# display the plot\n",
    "%matplot plt\n"
   ]
  },
  {
   "cell_type": "markdown",
   "metadata": {},
   "source": [
    "### year statistical analysis"
   ]
  },
  {
   "cell_type": "code",
   "execution_count": 39,
   "metadata": {
    "execution": {
     "iopub.execute_input": "2022-07-28T19:11:35.059723Z",
     "iopub.status.busy": "2022-07-28T19:11:35.059484Z",
     "iopub.status.idle": "2022-07-28T19:11:40.399022Z",
     "shell.execute_reply": "2022-07-28T19:11:40.398328Z",
     "shell.execute_reply.started": "2022-07-28T19:11:35.059698Z"
    },
    "scrolled": true
   },
   "outputs": [
    {
     "data": {
      "application/vnd.jupyter.widget-view+json": {
       "model_id": "ebadfa0179294785a6f8cb9cf3a6513e",
       "version_major": 2,
       "version_minor": 0
      },
      "text/plain": [
       "VBox()"
      ]
     },
     "metadata": {},
     "output_type": "display_data"
    },
    {
     "data": {
      "application/vnd.jupyter.widget-view+json": {
       "model_id": "",
       "version_major": 2,
       "version_minor": 0
      },
      "text/plain": [
       "FloatProgress(value=0.0, bar_style='info', description='Progress:', layout=Layout(height='25px', width='50%'),…"
      ]
     },
     "metadata": {},
     "output_type": "display_data"
    },
    {
     "name": "stdout",
     "output_type": "stream",
     "text": [
      "+----+------+\n",
      "|Year| count|\n",
      "+----+------+\n",
      "|2014|274527|\n",
      "|2015|262995|\n",
      "|2016|265462|\n",
      "|2012|335670|\n",
      "|2017| 11357|\n",
      "|2013|306703|\n",
      "+----+------+"
     ]
    }
   ],
   "source": [
    "df.groupBy(\"Year\").count().show()\n"
   ]
  },
  {
   "cell_type": "code",
   "execution_count": 40,
   "metadata": {
    "execution": {
     "iopub.execute_input": "2022-07-28T19:11:40.734301Z",
     "iopub.status.busy": "2022-07-28T19:11:40.734080Z",
     "iopub.status.idle": "2022-07-28T19:11:44.018091Z",
     "shell.execute_reply": "2022-07-28T19:11:44.017332Z",
     "shell.execute_reply.started": "2022-07-28T19:11:40.734277Z"
    }
   },
   "outputs": [
    {
     "data": {
      "application/vnd.jupyter.widget-view+json": {
       "model_id": "dd3e010ddbb54d0bb3b50de797c2194b",
       "version_major": 2,
       "version_minor": 0
      },
      "text/plain": [
       "VBox()"
      ]
     },
     "metadata": {},
     "output_type": "display_data"
    },
    {
     "data": {
      "application/vnd.jupyter.widget-view+json": {
       "model_id": "",
       "version_major": 2,
       "version_minor": 0
      },
      "text/plain": [
       "FloatProgress(value=0.0, bar_style='info', description='Progress:', layout=Layout(height='25px', width='50%'),…"
      ]
     },
     "metadata": {},
     "output_type": "display_data"
    }
   ],
   "source": [
    "year_df = df.groupBy(\"year\").count().orderBy(\"count\", ascending = False).toPandas()"
   ]
  },
  {
   "cell_type": "code",
   "execution_count": 41,
   "metadata": {
    "execution": {
     "iopub.execute_input": "2022-07-28T19:11:55.441249Z",
     "iopub.status.busy": "2022-07-28T19:11:55.440997Z",
     "iopub.status.idle": "2022-07-28T19:11:55.493204Z",
     "shell.execute_reply": "2022-07-28T19:11:55.492518Z",
     "shell.execute_reply.started": "2022-07-28T19:11:55.441223Z"
    }
   },
   "outputs": [
    {
     "data": {
      "application/vnd.jupyter.widget-view+json": {
       "model_id": "e8ededa1b2874ad998cf334625fa1fd3",
       "version_major": 2,
       "version_minor": 0
      },
      "text/plain": [
       "VBox()"
      ]
     },
     "metadata": {},
     "output_type": "display_data"
    },
    {
     "data": {
      "application/vnd.jupyter.widget-view+json": {
       "model_id": "",
       "version_major": 2,
       "version_minor": 0
      },
      "text/plain": [
       "FloatProgress(value=0.0, bar_style='info', description='Progress:', layout=Layout(height='25px', width='50%'),…"
      ]
     },
     "metadata": {},
     "output_type": "display_data"
    },
    {
     "name": "stdout",
     "output_type": "stream",
     "text": [
      "   year   count\n",
      "0  2012  335670\n",
      "1  2013  306703\n",
      "2  2014  274527\n",
      "3  2016  265462\n",
      "4  2015  262995\n",
      "5  2017   11357"
     ]
    }
   ],
   "source": [
    "year_df.head(7)"
   ]
  },
  {
   "cell_type": "markdown",
   "metadata": {},
   "source": [
    "### how no of crimes are changing over the years"
   ]
  },
  {
   "cell_type": "code",
   "execution_count": 42,
   "metadata": {
    "execution": {
     "iopub.execute_input": "2022-07-28T19:11:58.942129Z",
     "iopub.status.busy": "2022-07-28T19:11:58.941879Z",
     "iopub.status.idle": "2022-07-28T19:11:58.999675Z",
     "shell.execute_reply": "2022-07-28T19:11:58.998962Z",
     "shell.execute_reply.started": "2022-07-28T19:11:58.942103Z"
    }
   },
   "outputs": [
    {
     "data": {
      "application/vnd.jupyter.widget-view+json": {
       "model_id": "d560721076ab4bd68743c9179ce41c48",
       "version_major": 2,
       "version_minor": 0
      },
      "text/plain": [
       "VBox()"
      ]
     },
     "metadata": {},
     "output_type": "display_data"
    },
    {
     "data": {
      "application/vnd.jupyter.widget-view+json": {
       "model_id": "",
       "version_major": 2,
       "version_minor": 0
      },
      "text/plain": [
       "FloatProgress(value=0.0, bar_style='info', description='Progress:', layout=Layout(height='25px', width='50%'),…"
      ]
     },
     "metadata": {},
     "output_type": "display_data"
    },
    {
     "name": "stderr",
     "output_type": "stream",
     "text": [
      "An error was encountered:\n",
      "Cannot interpret '<attribute 'dtype' of 'numpy.generic' objects>' as a data type\n",
      "Traceback (most recent call last):\n",
      "  File \"/tmp/1659035001029-0/lib/python3.7/site-packages/pandas/plotting/_core.py\", line 794, in __call__\n",
      "    return plot_backend.plot(data, kind=kind, **kwargs)\n",
      "  File \"/tmp/1659035001029-0/lib/python3.7/site-packages/pandas/plotting/_matplotlib/__init__.py\", line 62, in plot\n",
      "    plot_obj.generate()\n",
      "  File \"/tmp/1659035001029-0/lib/python3.7/site-packages/pandas/plotting/_matplotlib/core.py\", line 279, in generate\n",
      "    self._compute_plot_data()\n",
      "  File \"/tmp/1659035001029-0/lib/python3.7/site-packages/pandas/plotting/_matplotlib/core.py\", line 404, in _compute_plot_data\n",
      "    include=[np.number, \"datetime\", \"datetimetz\", \"timedelta\"]\n",
      "  File \"/tmp/1659035001029-0/lib/python3.7/site-packages/pandas/core/frame.py\", line 3427, in select_dtypes\n",
      "    include_these = Series(not bool(include), index=self.columns)\n",
      "  File \"/tmp/1659035001029-0/lib/python3.7/site-packages/pandas/core/series.py\", line 311, in __init__\n",
      "    data = sanitize_array(data, index, dtype, copy, raise_cast_failure=True)\n",
      "  File \"/tmp/1659035001029-0/lib/python3.7/site-packages/pandas/core/internals/construction.py\", line 712, in sanitize_array\n",
      "    subarr = construct_1d_arraylike_from_scalar(value, len(index), dtype)\n",
      "  File \"/tmp/1659035001029-0/lib/python3.7/site-packages/pandas/core/dtypes/cast.py\", line 1233, in construct_1d_arraylike_from_scalar\n",
      "    subarr = np.empty(length, dtype=dtype)\n",
      "TypeError: Cannot interpret '<attribute 'dtype' of 'numpy.generic' objects>' as a data type\n",
      "\n"
     ]
    }
   ],
   "source": [
    "\n",
    "# create the plot\n",
    "plt.figure(figsize=(14,10))\n",
    "\n",
    "\n",
    "year_df.plot(x = 'year', y = 'count', kind='bar', color = \"red\")\n",
    "\n",
    "\n",
    "plt.title('Amount of Crimes by year')\n",
    "plt.ylabel('Amount of Crimes')\n",
    "plt.xlabel('year')\n",
    "\n",
    "\n",
    "# display the plot\n",
    "%matplot plt\n"
   ]
  },
  {
   "cell_type": "markdown",
   "metadata": {},
   "source": [
    "### Primary Type statistical analysis"
   ]
  },
  {
   "cell_type": "code",
   "execution_count": 43,
   "metadata": {
    "execution": {
     "iopub.execute_input": "2022-07-28T19:12:26.254096Z",
     "iopub.status.busy": "2022-07-28T19:12:26.253856Z",
     "iopub.status.idle": "2022-07-28T19:12:29.542372Z",
     "shell.execute_reply": "2022-07-28T19:12:29.541743Z",
     "shell.execute_reply.started": "2022-07-28T19:12:26.254071Z"
    }
   },
   "outputs": [
    {
     "data": {
      "application/vnd.jupyter.widget-view+json": {
       "model_id": "d946a9b87cc1438180f4165acf009921",
       "version_major": 2,
       "version_minor": 0
      },
      "text/plain": [
       "VBox()"
      ]
     },
     "metadata": {},
     "output_type": "display_data"
    },
    {
     "data": {
      "application/vnd.jupyter.widget-view+json": {
       "model_id": "",
       "version_major": 2,
       "version_minor": 0
      },
      "text/plain": [
       "FloatProgress(value=0.0, bar_style='info', description='Progress:', layout=Layout(height='25px', width='50%'),…"
      ]
     },
     "metadata": {},
     "output_type": "display_data"
    },
    {
     "name": "stdout",
     "output_type": "stream",
     "text": [
      "+--------------------+------+\n",
      "|        Primary Type| count|\n",
      "+--------------------+------+\n",
      "|           OBSCENITY|   187|\n",
      "|             BATTERY|263700|\n",
      "|            HOMICIDE|  2649|\n",
      "|         SEX OFFENSE|  4885|\n",
      "|PUBLIC PEACE VIOL...| 13122|\n",
      "|             ASSAULT| 91289|\n",
      "| CRIM SEXUAL ASSAULT|  6823|\n",
      "|  DECEPTIVE PRACTICE| 75495|\n",
      "|            BURGLARY| 83397|\n",
      "|INTERFERENCE WITH...|  6195|\n",
      "|            STALKING|   828|\n",
      "|NON-CRIMINAL (SUB...|     4|\n",
      "|            GAMBLING|  2212|\n",
      "|   CRIMINAL TRESPASS| 36912|\n",
      "| MOTOR VEHICLE THEFT| 61138|\n",
      "|CONCEALED CARRY L...|    90|\n",
      "|        NON-CRIMINAL|    93|\n",
      "|               THEFT|329460|\n",
      "|             ROBBERY| 57313|\n",
      "|     CRIMINAL DAMAGE|155455|\n",
      "+--------------------+------+\n",
      "only showing top 20 rows"
     ]
    }
   ],
   "source": [
    "df.groupBy(\"Primary Type\").count().show()"
   ]
  },
  {
   "cell_type": "code",
   "execution_count": 44,
   "metadata": {
    "execution": {
     "iopub.execute_input": "2022-07-28T19:12:29.543607Z",
     "iopub.status.busy": "2022-07-28T19:12:29.543424Z",
     "iopub.status.idle": "2022-07-28T19:12:32.820629Z",
     "shell.execute_reply": "2022-07-28T19:12:32.820007Z",
     "shell.execute_reply.started": "2022-07-28T19:12:29.543584Z"
    }
   },
   "outputs": [
    {
     "data": {
      "application/vnd.jupyter.widget-view+json": {
       "model_id": "12ecc22952ee440c8ed345c945155927",
       "version_major": 2,
       "version_minor": 0
      },
      "text/plain": [
       "VBox()"
      ]
     },
     "metadata": {},
     "output_type": "display_data"
    },
    {
     "data": {
      "application/vnd.jupyter.widget-view+json": {
       "model_id": "",
       "version_major": 2,
       "version_minor": 0
      },
      "text/plain": [
       "FloatProgress(value=0.0, bar_style='info', description='Progress:', layout=Layout(height='25px', width='50%'),…"
      ]
     },
     "metadata": {},
     "output_type": "display_data"
    }
   ],
   "source": [
    "primarytype_df = df.groupBy(\"Primary Type\").count().orderBy(\"count\", ascending = False).toPandas()"
   ]
  },
  {
   "cell_type": "code",
   "execution_count": 45,
   "metadata": {
    "execution": {
     "iopub.execute_input": "2022-07-28T19:12:32.822320Z",
     "iopub.status.busy": "2022-07-28T19:12:32.821973Z",
     "iopub.status.idle": "2022-07-28T19:12:32.894942Z",
     "shell.execute_reply": "2022-07-28T19:12:32.894157Z",
     "shell.execute_reply.started": "2022-07-28T19:12:32.822290Z"
    }
   },
   "outputs": [
    {
     "data": {
      "application/vnd.jupyter.widget-view+json": {
       "model_id": "f7fb11bbaf7f470baab6758e550729f4",
       "version_major": 2,
       "version_minor": 0
      },
      "text/plain": [
       "VBox()"
      ]
     },
     "metadata": {},
     "output_type": "display_data"
    },
    {
     "data": {
      "application/vnd.jupyter.widget-view+json": {
       "model_id": "",
       "version_major": 2,
       "version_minor": 0
      },
      "text/plain": [
       "FloatProgress(value=0.0, bar_style='info', description='Progress:', layout=Layout(height='25px', width='50%'),…"
      ]
     },
     "metadata": {},
     "output_type": "display_data"
    },
    {
     "name": "stdout",
     "output_type": "stream",
     "text": [
      "      Primary Type   count\n",
      "0            THEFT  329460\n",
      "1          BATTERY  263700\n",
      "2  CRIMINAL DAMAGE  155455\n",
      "3        NARCOTICS  135240\n",
      "4          ASSAULT   91289"
     ]
    }
   ],
   "source": [
    "primarytype_df.head()"
   ]
  },
  {
   "cell_type": "markdown",
   "metadata": {},
   "source": [
    "### Primary Types of crime which is mostly reported "
   ]
  },
  {
   "cell_type": "code",
   "execution_count": 46,
   "metadata": {
    "execution": {
     "iopub.execute_input": "2022-07-28T19:12:32.896812Z",
     "iopub.status.busy": "2022-07-28T19:12:32.896305Z",
     "iopub.status.idle": "2022-07-28T19:12:32.962929Z",
     "shell.execute_reply": "2022-07-28T19:12:32.962247Z",
     "shell.execute_reply.started": "2022-07-28T19:12:32.896772Z"
    }
   },
   "outputs": [
    {
     "data": {
      "application/vnd.jupyter.widget-view+json": {
       "model_id": "da0e0920130e44dbb7a99e6afdc1392a",
       "version_major": 2,
       "version_minor": 0
      },
      "text/plain": [
       "VBox()"
      ]
     },
     "metadata": {},
     "output_type": "display_data"
    },
    {
     "data": {
      "application/vnd.jupyter.widget-view+json": {
       "model_id": "",
       "version_major": 2,
       "version_minor": 0
      },
      "text/plain": [
       "FloatProgress(value=0.0, bar_style='info', description='Progress:', layout=Layout(height='25px', width='50%'),…"
      ]
     },
     "metadata": {},
     "output_type": "display_data"
    },
    {
     "name": "stderr",
     "output_type": "stream",
     "text": [
      "An error was encountered:\n",
      "Cannot interpret '<attribute 'dtype' of 'numpy.generic' objects>' as a data type\n",
      "Traceback (most recent call last):\n",
      "  File \"/tmp/1659035001029-0/lib/python3.7/site-packages/pandas/plotting/_core.py\", line 794, in __call__\n",
      "    return plot_backend.plot(data, kind=kind, **kwargs)\n",
      "  File \"/tmp/1659035001029-0/lib/python3.7/site-packages/pandas/plotting/_matplotlib/__init__.py\", line 62, in plot\n",
      "    plot_obj.generate()\n",
      "  File \"/tmp/1659035001029-0/lib/python3.7/site-packages/pandas/plotting/_matplotlib/core.py\", line 279, in generate\n",
      "    self._compute_plot_data()\n",
      "  File \"/tmp/1659035001029-0/lib/python3.7/site-packages/pandas/plotting/_matplotlib/core.py\", line 404, in _compute_plot_data\n",
      "    include=[np.number, \"datetime\", \"datetimetz\", \"timedelta\"]\n",
      "  File \"/tmp/1659035001029-0/lib/python3.7/site-packages/pandas/core/frame.py\", line 3427, in select_dtypes\n",
      "    include_these = Series(not bool(include), index=self.columns)\n",
      "  File \"/tmp/1659035001029-0/lib/python3.7/site-packages/pandas/core/series.py\", line 311, in __init__\n",
      "    data = sanitize_array(data, index, dtype, copy, raise_cast_failure=True)\n",
      "  File \"/tmp/1659035001029-0/lib/python3.7/site-packages/pandas/core/internals/construction.py\", line 712, in sanitize_array\n",
      "    subarr = construct_1d_arraylike_from_scalar(value, len(index), dtype)\n",
      "  File \"/tmp/1659035001029-0/lib/python3.7/site-packages/pandas/core/dtypes/cast.py\", line 1233, in construct_1d_arraylike_from_scalar\n",
      "    subarr = np.empty(length, dtype=dtype)\n",
      "TypeError: Cannot interpret '<attribute 'dtype' of 'numpy.generic' objects>' as a data type\n",
      "\n"
     ]
    }
   ],
   "source": [
    "# create the plot\n",
    "\n",
    "\n",
    "primarytype_df.head(14).plot(x = 'Primary Type', y = 'count', kind='barh',figsize=(20,20), color = \"#b35900\")\n",
    "\n",
    "\n",
    "\n",
    "plt.title('Amount of Crimes by Primary Type')\n",
    "plt.ylabel('Amount of Crimes')\n",
    "plt.xlabel('Primary Type')\n",
    "\n",
    "# display the plot\n",
    "%matplot plt\n",
    "\n"
   ]
  },
  {
   "cell_type": "markdown",
   "metadata": {},
   "source": [
    "### Location Description statistical analysis"
   ]
  },
  {
   "cell_type": "code",
   "execution_count": null,
   "metadata": {},
   "outputs": [],
   "source": [
    "df.groupBy(\"Location Description\").count().show()\n"
   ]
  },
  {
   "cell_type": "code",
   "execution_count": null,
   "metadata": {},
   "outputs": [],
   "source": []
  },
  {
   "cell_type": "code",
   "execution_count": null,
   "metadata": {},
   "outputs": [],
   "source": [
    "location_df = df.groupBy(\"Location Description\").count().orderBy(\"count\", ascending = False).toPandas()"
   ]
  },
  {
   "cell_type": "code",
   "execution_count": null,
   "metadata": {},
   "outputs": [],
   "source": []
  },
  {
   "cell_type": "code",
   "execution_count": null,
   "metadata": {},
   "outputs": [],
   "source": [
    "location_df.head()"
   ]
  },
  {
   "cell_type": "code",
   "execution_count": null,
   "metadata": {},
   "outputs": [],
   "source": []
  },
  {
   "cell_type": "code",
   "execution_count": null,
   "metadata": {},
   "outputs": [],
   "source": []
  },
  {
   "cell_type": "markdown",
   "metadata": {},
   "source": [
    "### Top locations for most number of crime"
   ]
  },
  {
   "cell_type": "code",
   "execution_count": null,
   "metadata": {},
   "outputs": [],
   "source": [
    "%matplotlib inline"
   ]
  },
  {
   "cell_type": "code",
   "execution_count": null,
   "metadata": {},
   "outputs": [],
   "source": [
    "# create the plot\n",
    "\n",
    "\n",
    "location_df.head(20).plot(x = 'Location Description', y = 'count', kind='barh',figsize=(20,20), color = \"green\")\n",
    "\n",
    "\n",
    "plt.title('Amount of Crimes by Location Description')\n",
    "plt.ylabel('Amount of Crimes')\n",
    "plt.xlabel('Location Description')\n",
    "\n",
    "\n",
    "# display the plot\n",
    "%matplot plt\n"
   ]
  },
  {
   "cell_type": "code",
   "execution_count": null,
   "metadata": {},
   "outputs": [],
   "source": []
  },
  {
   "cell_type": "code",
   "execution_count": null,
   "metadata": {},
   "outputs": [],
   "source": []
  },
  {
   "cell_type": "code",
   "execution_count": null,
   "metadata": {},
   "outputs": [],
   "source": []
  },
  {
   "cell_type": "markdown",
   "metadata": {},
   "source": [
    "### How many arrests happened"
   ]
  },
  {
   "cell_type": "code",
   "execution_count": null,
   "metadata": {},
   "outputs": [],
   "source": [
    "df.groupBy('Arrest').count().show()"
   ]
  },
  {
   "cell_type": "code",
   "execution_count": null,
   "metadata": {},
   "outputs": [],
   "source": []
  },
  {
   "cell_type": "code",
   "execution_count": null,
   "metadata": {},
   "outputs": [],
   "source": []
  },
  {
   "cell_type": "markdown",
   "metadata": {},
   "source": [
    "### In what percentage of crime arrests happened?"
   ]
  },
  {
   "cell_type": "code",
   "execution_count": null,
   "metadata": {},
   "outputs": [],
   "source": [
    "df.filter(df[\"Arrest\"]==True).count()/df.count() * 100"
   ]
  },
  {
   "cell_type": "code",
   "execution_count": null,
   "metadata": {},
   "outputs": [],
   "source": []
  },
  {
   "cell_type": "markdown",
   "metadata": {},
   "source": [
    "### How many crimes are domestic"
   ]
  },
  {
   "cell_type": "code",
   "execution_count": null,
   "metadata": {},
   "outputs": [],
   "source": [
    "df.groupBy(\"Domestic\").count().show()"
   ]
  },
  {
   "cell_type": "code",
   "execution_count": null,
   "metadata": {},
   "outputs": [],
   "source": []
  },
  {
   "cell_type": "code",
   "execution_count": null,
   "metadata": {},
   "outputs": [],
   "source": []
  },
  {
   "cell_type": "code",
   "execution_count": null,
   "metadata": {},
   "outputs": [],
   "source": []
  },
  {
   "cell_type": "code",
   "execution_count": null,
   "metadata": {},
   "outputs": [],
   "source": []
  },
  {
   "cell_type": "markdown",
   "metadata": {},
   "source": [
    "### Calculating percentage of domestic crime"
   ]
  },
  {
   "cell_type": "code",
   "execution_count": null,
   "metadata": {},
   "outputs": [],
   "source": [
    "df.filter(df[\"Domestic\"]==True).count()/df.count() * 100"
   ]
  },
  {
   "cell_type": "code",
   "execution_count": null,
   "metadata": {},
   "outputs": [],
   "source": []
  },
  {
   "cell_type": "code",
   "execution_count": null,
   "metadata": {},
   "outputs": [],
   "source": []
  },
  {
   "cell_type": "markdown",
   "metadata": {},
   "source": [
    "### How many narcotics cases are there in the dataset?"
   ]
  },
  {
   "cell_type": "code",
   "execution_count": null,
   "metadata": {},
   "outputs": [],
   "source": [
    "df.where(df[\"Primary Type\"]==\"NARCOTICS\").count()"
   ]
  },
  {
   "cell_type": "code",
   "execution_count": null,
   "metadata": {},
   "outputs": [],
   "source": []
  },
  {
   "cell_type": "code",
   "execution_count": null,
   "metadata": {},
   "outputs": [],
   "source": []
  },
  {
   "cell_type": "markdown",
   "metadata": {},
   "source": [
    "### Calculating percentage of narcotics cases in the dataset?"
   ]
  },
  {
   "cell_type": "code",
   "execution_count": null,
   "metadata": {},
   "outputs": [],
   "source": [
    "df.where(df[\"Primary Type\"] == \"NARCOTICS\").count()/df.count() * 100"
   ]
  },
  {
   "cell_type": "code",
   "execution_count": null,
   "metadata": {},
   "outputs": [],
   "source": []
  },
  {
   "cell_type": "code",
   "execution_count": null,
   "metadata": {},
   "outputs": [],
   "source": []
  },
  {
   "cell_type": "code",
   "execution_count": null,
   "metadata": {},
   "outputs": [],
   "source": []
  },
  {
   "cell_type": "markdown",
   "metadata": {},
   "source": [
    "### How many domestic assualts there are?"
   ]
  },
  {
   "cell_type": "code",
   "execution_count": null,
   "metadata": {},
   "outputs": [],
   "source": [
    "df.filter((df[\"Primary Type\"] == \"ASSAULT\") & (df[\"Domestic\"] == \"True\")).count()\n"
   ]
  },
  {
   "cell_type": "code",
   "execution_count": null,
   "metadata": {},
   "outputs": [],
   "source": []
  },
  {
   "cell_type": "code",
   "execution_count": null,
   "metadata": {},
   "outputs": [],
   "source": []
  },
  {
   "cell_type": "markdown",
   "metadata": {},
   "source": [
    "### Calculating percentage of domestic assault cases in the dataset"
   ]
  },
  {
   "cell_type": "code",
   "execution_count": null,
   "metadata": {},
   "outputs": [],
   "source": [
    "df.filter((df[\"Primary Type\"] == \"ASSAULT\") & (df[\"Domestic\"] == \"True\")).count()/df.count() * 100"
   ]
  },
  {
   "cell_type": "code",
   "execution_count": null,
   "metadata": {},
   "outputs": [],
   "source": []
  },
  {
   "cell_type": "code",
   "execution_count": null,
   "metadata": {},
   "outputs": [],
   "source": []
  },
  {
   "cell_type": "code",
   "execution_count": null,
   "metadata": {},
   "outputs": [],
   "source": []
  },
  {
   "cell_type": "code",
   "execution_count": null,
   "metadata": {},
   "outputs": [],
   "source": []
  },
  {
   "cell_type": "markdown",
   "metadata": {},
   "source": [
    "## Drop columns which are not required for model building"
   ]
  },
  {
   "cell_type": "code",
   "execution_count": null,
   "metadata": {},
   "outputs": [],
   "source": [
    "# show 5 rows\n",
    "df.show(5)"
   ]
  },
  {
   "cell_type": "code",
   "execution_count": null,
   "metadata": {},
   "outputs": [],
   "source": [
    "# get columns\n",
    "df.columns"
   ]
  },
  {
   "cell_type": "markdown",
   "metadata": {},
   "source": [
    " "
   ]
  },
  {
   "cell_type": "markdown",
   "metadata": {},
   "source": [
    "**Dropping columns which are ID or numbers which won't help in model learning:**\n"
   ]
  },
  {
   "cell_type": "markdown",
   "metadata": {},
   "source": [
    "'_c0', 'ID', 'Case Number': are IDs"
   ]
  },
  {
   "cell_type": "markdown",
   "metadata": {},
   "source": [
    "'Block', 'Description' : Lots of text like address "
   ]
  },
  {
   "cell_type": "markdown",
   "metadata": {},
   "source": [
    "'Updated On' : no need "
   ]
  },
  {
   "cell_type": "markdown",
   "metadata": {},
   "source": [
    "'Location': combination of lat, long so no need"
   ]
  },
  {
   "cell_type": "code",
   "execution_count": null,
   "metadata": {},
   "outputs": [],
   "source": [
    "df = df.drop(\"_c0\", \"ID\", \"Case Number\",'Block', 'Description', \"Updated On\", 'Location')"
   ]
  },
  {
   "cell_type": "code",
   "execution_count": null,
   "metadata": {},
   "outputs": [],
   "source": [
    "df.show(5)"
   ]
  },
  {
   "cell_type": "code",
   "execution_count": null,
   "metadata": {},
   "outputs": [],
   "source": [
    "df.columns"
   ]
  },
  {
   "cell_type": "markdown",
   "metadata": {},
   "source": [
    " "
   ]
  },
  {
   "cell_type": "markdown",
   "metadata": {},
   "source": [
    "**Now we're left with lots of categorical columns, need to see how many distinct labels are there in each column, if the number of distinct labels are huge in a column, so during One-Hot_encoding need to create lots of new column.**"
   ]
  },
  {
   "cell_type": "code",
   "execution_count": null,
   "metadata": {},
   "outputs": [],
   "source": []
  },
  {
   "cell_type": "code",
   "execution_count": null,
   "metadata": {},
   "outputs": [],
   "source": []
  },
  {
   "cell_type": "code",
   "execution_count": null,
   "metadata": {},
   "outputs": [],
   "source": []
  },
  {
   "cell_type": "code",
   "execution_count": null,
   "metadata": {},
   "outputs": [],
   "source": []
  },
  {
   "cell_type": "code",
   "execution_count": null,
   "metadata": {},
   "outputs": [],
   "source": []
  },
  {
   "cell_type": "markdown",
   "metadata": {},
   "source": [
    "### Unique Values"
   ]
  },
  {
   "cell_type": "code",
   "execution_count": null,
   "metadata": {},
   "outputs": [],
   "source": []
  },
  {
   "cell_type": "code",
   "execution_count": null,
   "metadata": {
    "scrolled": true
   },
   "outputs": [],
   "source": [
    "for c in df.columns:\n",
    "    print (c)"
   ]
  },
  {
   "cell_type": "code",
   "execution_count": null,
   "metadata": {},
   "outputs": [],
   "source": []
  },
  {
   "cell_type": "code",
   "execution_count": null,
   "metadata": {},
   "outputs": [],
   "source": [
    "# Checking the number distinct values in each attribute\n",
    "from pyspark.sql.functions import col, countDistinct\n",
    "\n",
    "\n",
    "df.agg(*(countDistinct(col(c)).alias(c) for c in df.columns)).show()"
   ]
  },
  {
   "cell_type": "code",
   "execution_count": null,
   "metadata": {},
   "outputs": [],
   "source": [
    "# get columns\n",
    "df.columns"
   ]
  },
  {
   "cell_type": "markdown",
   "metadata": {},
   "source": [
    "**Based on distinct count analysis, we can clearly decide on dropping few more columns, which is having huge distinct count, that many new columns needs to be cerated if we're considering that.**"
   ]
  },
  {
   "cell_type": "markdown",
   "metadata": {},
   "source": [
    "***'IUCR', 'Beat','Ward','Community Area' : these columns can be dropped, this info can be inferred from the coordinates & lat, long columns, since they are more granular.***"
   ]
  },
  {
   "cell_type": "code",
   "execution_count": null,
   "metadata": {},
   "outputs": [],
   "source": []
  },
  {
   "cell_type": "code",
   "execution_count": null,
   "metadata": {},
   "outputs": [],
   "source": []
  },
  {
   "cell_type": "code",
   "execution_count": null,
   "metadata": {},
   "outputs": [],
   "source": []
  },
  {
   "cell_type": "code",
   "execution_count": null,
   "metadata": {},
   "outputs": [],
   "source": []
  },
  {
   "cell_type": "code",
   "execution_count": null,
   "metadata": {},
   "outputs": [],
   "source": [
    "df = df.drop('IUCR', 'Beat','Ward','Community Area')"
   ]
  },
  {
   "cell_type": "code",
   "execution_count": null,
   "metadata": {},
   "outputs": [],
   "source": [
    "df.show(5)"
   ]
  },
  {
   "cell_type": "code",
   "execution_count": null,
   "metadata": {},
   "outputs": [],
   "source": [
    "df.columns"
   ]
  },
  {
   "cell_type": "code",
   "execution_count": null,
   "metadata": {},
   "outputs": [],
   "source": []
  },
  {
   "cell_type": "code",
   "execution_count": null,
   "metadata": {},
   "outputs": [],
   "source": []
  },
  {
   "cell_type": "code",
   "execution_count": null,
   "metadata": {},
   "outputs": [],
   "source": []
  },
  {
   "cell_type": "code",
   "execution_count": null,
   "metadata": {},
   "outputs": [],
   "source": []
  },
  {
   "cell_type": "code",
   "execution_count": null,
   "metadata": {},
   "outputs": [],
   "source": []
  },
  {
   "cell_type": "markdown",
   "metadata": {},
   "source": [
    "#### Handling null values"
   ]
  },
  {
   "cell_type": "code",
   "execution_count": null,
   "metadata": {
    "scrolled": true
   },
   "outputs": [],
   "source": [
    "# Counting the number of null values in each column\n",
    "from pyspark.sql.functions import when, count, col, isnull\n",
    "\n",
    "\n",
    "df.select([count(when(isnull(c), c)).alias(c) for c in df.columns]).show()\n",
    "\n"
   ]
  },
  {
   "cell_type": "markdown",
   "metadata": {},
   "source": [
    "**As we can see many row is not having the coordinates & lat, long details, without this info, it'll be diffcult to predict the FBI Code. So we'll drop these rows.**"
   ]
  },
  {
   "cell_type": "code",
   "execution_count": null,
   "metadata": {},
   "outputs": [],
   "source": [
    "# Dropping the rows with null values\n",
    "df = df.na.drop()"
   ]
  },
  {
   "cell_type": "code",
   "execution_count": null,
   "metadata": {},
   "outputs": [],
   "source": [
    "# Check if the null values are dropped\n",
    "\n",
    "df.select([count(when(isnull(c), c)).alias(c) for c in df.columns]).show()"
   ]
  },
  {
   "cell_type": "code",
   "execution_count": null,
   "metadata": {},
   "outputs": [],
   "source": [
    "\n",
    "print((df.count(), len(df.columns)))"
   ]
  },
  {
   "cell_type": "code",
   "execution_count": null,
   "metadata": {},
   "outputs": [],
   "source": []
  },
  {
   "cell_type": "code",
   "execution_count": null,
   "metadata": {},
   "outputs": [],
   "source": []
  },
  {
   "cell_type": "code",
   "execution_count": null,
   "metadata": {},
   "outputs": [],
   "source": []
  },
  {
   "cell_type": "code",
   "execution_count": null,
   "metadata": {},
   "outputs": [],
   "source": []
  },
  {
   "cell_type": "markdown",
   "metadata": {},
   "source": [
    "#### Correction in column type"
   ]
  },
  {
   "cell_type": "code",
   "execution_count": null,
   "metadata": {},
   "outputs": [],
   "source": [
    "# Column type\n",
    "df.dtypes"
   ]
  },
  {
   "cell_type": "code",
   "execution_count": null,
   "metadata": {},
   "outputs": [],
   "source": [
    "df.printSchema()"
   ]
  },
  {
   "cell_type": "code",
   "execution_count": null,
   "metadata": {},
   "outputs": [],
   "source": [
    "df.show(3)"
   ]
  },
  {
   "cell_type": "markdown",
   "metadata": {},
   "source": [
    "**Need to change the data type of all lat, long, coordinates, district, year from String to Float/Integer**"
   ]
  },
  {
   "cell_type": "code",
   "execution_count": null,
   "metadata": {},
   "outputs": [],
   "source": [
    "# Changing the required columns from string type to numerical \n",
    "from pyspark.sql.types import FloatType, IntegerType\n",
    "\n",
    "\n",
    "df = df.withColumn('District', df['District'].cast(IntegerType()))\n",
    "\n",
    "\n",
    "\n",
    "df = df.withColumn('X Coordinate', df['X Coordinate'].cast(FloatType()))\n",
    "df = df.withColumn('Y Coordinate', df['Y Coordinate'].cast(FloatType()))\n",
    "df = df.withColumn('Longitude', df['Longitude'].cast(FloatType()))\n",
    "df = df.withColumn('Latitude', df['Latitude'].cast(FloatType()))\n",
    "df = df.withColumn('Year', df['Year'].cast(IntegerType()))\n"
   ]
  },
  {
   "cell_type": "code",
   "execution_count": null,
   "metadata": {
    "scrolled": true
   },
   "outputs": [],
   "source": [
    "df.dtypes"
   ]
  },
  {
   "cell_type": "code",
   "execution_count": null,
   "metadata": {
    "scrolled": true
   },
   "outputs": [],
   "source": [
    "df.show(3)"
   ]
  },
  {
   "cell_type": "code",
   "execution_count": null,
   "metadata": {},
   "outputs": [],
   "source": []
  },
  {
   "cell_type": "code",
   "execution_count": null,
   "metadata": {},
   "outputs": [],
   "source": []
  },
  {
   "cell_type": "code",
   "execution_count": null,
   "metadata": {},
   "outputs": [],
   "source": []
  },
  {
   "cell_type": "code",
   "execution_count": null,
   "metadata": {},
   "outputs": [],
   "source": []
  },
  {
   "cell_type": "code",
   "execution_count": null,
   "metadata": {},
   "outputs": [],
   "source": []
  },
  {
   "cell_type": "code",
   "execution_count": null,
   "metadata": {},
   "outputs": [],
   "source": []
  },
  {
   "cell_type": "markdown",
   "metadata": {},
   "source": [
    "## Exploring the target variable: FBI Code"
   ]
  },
  {
   "cell_type": "code",
   "execution_count": null,
   "metadata": {},
   "outputs": [],
   "source": [
    "df.groupBy(\"FBI Code\").count().show()"
   ]
  },
  {
   "cell_type": "code",
   "execution_count": null,
   "metadata": {},
   "outputs": [],
   "source": []
  },
  {
   "cell_type": "code",
   "execution_count": null,
   "metadata": {},
   "outputs": [],
   "source": []
  },
  {
   "cell_type": "code",
   "execution_count": null,
   "metadata": {},
   "outputs": [],
   "source": [
    "# Storing in a pandas dataframe for visualisation\n",
    "fbi_df = df.groupBy(\"FBI Code\").count().orderBy(\"count\", ascending = False).toPandas()"
   ]
  },
  {
   "cell_type": "code",
   "execution_count": null,
   "metadata": {},
   "outputs": [],
   "source": []
  },
  {
   "cell_type": "code",
   "execution_count": null,
   "metadata": {},
   "outputs": [],
   "source": [
    "fbi_df.head()"
   ]
  },
  {
   "cell_type": "code",
   "execution_count": null,
   "metadata": {},
   "outputs": [],
   "source": []
  },
  {
   "cell_type": "code",
   "execution_count": null,
   "metadata": {},
   "outputs": [],
   "source": []
  },
  {
   "cell_type": "code",
   "execution_count": null,
   "metadata": {},
   "outputs": [],
   "source": [
    "# create the plot\n",
    "plt.figure(figsize=(14,10))\n",
    "\n",
    "fbi_df.head(15).plot(x = 'FBI Code', y = 'count', kind='bar', color = \"violet\")\n",
    "\n",
    "plt.title('Amount of Crimes by FBI Code')\n",
    "plt.ylabel('Amount of Crimes')\n",
    "plt.xlabel('FBI Code')\n",
    "\n",
    "\n",
    "# display the plot\n",
    "%matplot plt"
   ]
  },
  {
   "cell_type": "code",
   "execution_count": null,
   "metadata": {},
   "outputs": [],
   "source": []
  },
  {
   "cell_type": "code",
   "execution_count": null,
   "metadata": {},
   "outputs": [],
   "source": []
  },
  {
   "cell_type": "code",
   "execution_count": null,
   "metadata": {},
   "outputs": [],
   "source": []
  },
  {
   "cell_type": "markdown",
   "metadata": {},
   "source": [
    "## Feature Generation & Vector Creation"
   ]
  },
  {
   "cell_type": "code",
   "execution_count": null,
   "metadata": {},
   "outputs": [],
   "source": [
    "# Identifying the catrgorical columns for indexing\n",
    "df.columns"
   ]
  },
  {
   "cell_type": "code",
   "execution_count": null,
   "metadata": {},
   "outputs": [],
   "source": [
    "len(df.columns)"
   ]
  },
  {
   "cell_type": "code",
   "execution_count": null,
   "metadata": {},
   "outputs": [],
   "source": [
    "df.show(3)"
   ]
  },
  {
   "cell_type": "code",
   "execution_count": null,
   "metadata": {},
   "outputs": [],
   "source": [
    "# Storing the categorical and continuous columns in different lists\n",
    "\n",
    "\n",
    "categorical_features = ['Primary Type', 'Location Description', 'Arrest', 'Domestic', 'District','Year','hour','day_of_week' ]\n",
    "\n",
    "\n",
    "continuous_features = ['X Coordinate', 'Y Coordinate', 'Latitude', 'Longitude']\n",
    "\n"
   ]
  },
  {
   "cell_type": "code",
   "execution_count": null,
   "metadata": {},
   "outputs": [],
   "source": []
  },
  {
   "cell_type": "code",
   "execution_count": null,
   "metadata": {},
   "outputs": [],
   "source": []
  },
  {
   "cell_type": "code",
   "execution_count": null,
   "metadata": {},
   "outputs": [],
   "source": []
  },
  {
   "cell_type": "code",
   "execution_count": null,
   "metadata": {},
   "outputs": [],
   "source": []
  },
  {
   "cell_type": "code",
   "execution_count": null,
   "metadata": {},
   "outputs": [],
   "source": []
  },
  {
   "cell_type": "code",
   "execution_count": null,
   "metadata": {},
   "outputs": [],
   "source": []
  },
  {
   "cell_type": "markdown",
   "metadata": {},
   "source": [
    "### Spark Pipeline concept will be used here"
   ]
  },
  {
   "cell_type": "code",
   "execution_count": null,
   "metadata": {},
   "outputs": [],
   "source": [
    "# Importing the libraries for data transormation\n",
    "from pyspark.ml.feature import OneHotEncoderEstimator, StringIndexer, VectorAssembler"
   ]
  },
  {
   "cell_type": "code",
   "execution_count": null,
   "metadata": {},
   "outputs": [],
   "source": [
    "# Initialising the variable 'stages' to store every step for building a pipeline\n",
    "stages = []"
   ]
  },
  {
   "cell_type": "code",
   "execution_count": null,
   "metadata": {},
   "outputs": [],
   "source": []
  },
  {
   "cell_type": "code",
   "execution_count": null,
   "metadata": {},
   "outputs": [],
   "source": []
  },
  {
   "cell_type": "code",
   "execution_count": null,
   "metadata": {},
   "outputs": [],
   "source": []
  },
  {
   "cell_type": "markdown",
   "metadata": {},
   "source": [
    "### StringIndexer: Features which are in string are converted to numerical values"
   ]
  },
  {
   "cell_type": "markdown",
   "metadata": {},
   "source": [
    "### OneHotEncoderEstimator: Converts categorical variable into new columns"
   ]
  },
  {
   "cell_type": "code",
   "execution_count": null,
   "metadata": {},
   "outputs": [],
   "source": []
  },
  {
   "cell_type": "code",
   "execution_count": null,
   "metadata": {},
   "outputs": [],
   "source": [
    "# Building a function for encoding all the categorical variables\n",
    "\n",
    "\n",
    "for categoricalCol in categorical_features:\n",
    "    print(categoricalCol)\n",
    "    stringIndexer = StringIndexer(inputCol = categoricalCol, outputCol = categoricalCol + '_Index')\n",
    "    encoder = OneHotEncoderEstimator(inputCols=[stringIndexer.getOutputCol()], outputCols=[categoricalCol + \"_encoded\"])    \n",
    "    stages += [stringIndexer, encoder]"
   ]
  },
  {
   "cell_type": "code",
   "execution_count": null,
   "metadata": {},
   "outputs": [],
   "source": []
  },
  {
   "cell_type": "code",
   "execution_count": null,
   "metadata": {},
   "outputs": [],
   "source": []
  },
  {
   "cell_type": "code",
   "execution_count": null,
   "metadata": {
    "scrolled": true
   },
   "outputs": [],
   "source": [
    "# Encoding the target variable as label\n",
    "\n",
    "label_stringIdx = StringIndexer(inputCol = 'FBI Code', outputCol = 'label')\n",
    "\n",
    "stages += [label_stringIdx]"
   ]
  },
  {
   "cell_type": "code",
   "execution_count": null,
   "metadata": {},
   "outputs": [],
   "source": []
  },
  {
   "cell_type": "code",
   "execution_count": null,
   "metadata": {},
   "outputs": [],
   "source": []
  },
  {
   "cell_type": "code",
   "execution_count": null,
   "metadata": {},
   "outputs": [],
   "source": []
  },
  {
   "cell_type": "code",
   "execution_count": null,
   "metadata": {},
   "outputs": [],
   "source": []
  },
  {
   "cell_type": "markdown",
   "metadata": {},
   "source": [
    "### VectorAssembler: Generated vectors for all the features"
   ]
  },
  {
   "cell_type": "code",
   "execution_count": null,
   "metadata": {},
   "outputs": [],
   "source": [
    "# Building a function for generating a vector of all features\n",
    "\n",
    "assemblerInputs = [c + \"_encoded\" for c in categorical_features] + continuous_features\n",
    "\n",
    "\n",
    "assembler = VectorAssembler(inputCols=assemblerInputs, outputCol=\"features\")\n",
    "\n",
    "\n",
    "stages += [assembler]"
   ]
  },
  {
   "cell_type": "code",
   "execution_count": null,
   "metadata": {},
   "outputs": [],
   "source": []
  },
  {
   "cell_type": "code",
   "execution_count": null,
   "metadata": {},
   "outputs": [],
   "source": []
  },
  {
   "cell_type": "markdown",
   "metadata": {},
   "source": [
    "### Pipeline stages are used to run all Steps/stages\n",
    "\n",
    "**Stages is a list of functions which is used as an input to the pipeline**"
   ]
  },
  {
   "cell_type": "code",
   "execution_count": null,
   "metadata": {},
   "outputs": [],
   "source": []
  },
  {
   "cell_type": "code",
   "execution_count": null,
   "metadata": {},
   "outputs": [],
   "source": [
    "# Loading all the steps in a pipeline\n",
    "from pyspark.ml import Pipeline\n"
   ]
  },
  {
   "cell_type": "code",
   "execution_count": null,
   "metadata": {},
   "outputs": [],
   "source": [
    "pipeline = Pipeline(stages = stages)"
   ]
  },
  {
   "cell_type": "code",
   "execution_count": null,
   "metadata": {},
   "outputs": [],
   "source": [
    "pipeline"
   ]
  },
  {
   "cell_type": "markdown",
   "metadata": {},
   "source": [
    "### Fit & Transform DF"
   ]
  },
  {
   "cell_type": "code",
   "execution_count": null,
   "metadata": {
    "scrolled": true
   },
   "outputs": [],
   "source": [
    "# Fitting the steps on the dataFrame\n",
    "pipelineModel = pipeline.fit(df)"
   ]
  },
  {
   "cell_type": "code",
   "execution_count": null,
   "metadata": {},
   "outputs": [],
   "source": [
    "# Transforming the dataframe\n",
    "df = pipelineModel.transform(df)"
   ]
  },
  {
   "cell_type": "code",
   "execution_count": null,
   "metadata": {},
   "outputs": [],
   "source": [
    "# show rows\n",
    "df.show(5)"
   ]
  },
  {
   "cell_type": "code",
   "execution_count": null,
   "metadata": {
    "scrolled": true
   },
   "outputs": [],
   "source": [
    "# Checking the schema of transformed dataFrame\n",
    "df.printSchema()"
   ]
  },
  {
   "cell_type": "code",
   "execution_count": null,
   "metadata": {},
   "outputs": [],
   "source": []
  },
  {
   "cell_type": "code",
   "execution_count": null,
   "metadata": {},
   "outputs": [],
   "source": [
    "df.groupBy(\"label\").count().orderBy(\"count\", ascending = False).show()"
   ]
  },
  {
   "cell_type": "code",
   "execution_count": null,
   "metadata": {},
   "outputs": [],
   "source": []
  },
  {
   "cell_type": "code",
   "execution_count": null,
   "metadata": {},
   "outputs": [],
   "source": []
  },
  {
   "cell_type": "code",
   "execution_count": null,
   "metadata": {},
   "outputs": [],
   "source": []
  },
  {
   "cell_type": "markdown",
   "metadata": {},
   "source": [
    "### Split data into train & test"
   ]
  },
  {
   "cell_type": "code",
   "execution_count": null,
   "metadata": {},
   "outputs": [],
   "source": [
    "# Splitting the dataFrame into training and testing set\n",
    "\n",
    "train, test = df.randomSplit([0.7, 0.3], seed = 100)"
   ]
  },
  {
   "cell_type": "code",
   "execution_count": null,
   "metadata": {},
   "outputs": [],
   "source": []
  },
  {
   "cell_type": "code",
   "execution_count": null,
   "metadata": {},
   "outputs": [],
   "source": []
  },
  {
   "cell_type": "code",
   "execution_count": null,
   "metadata": {},
   "outputs": [],
   "source": [
    "print(\"Training Dataset Count: \" + str(train.count()))"
   ]
  },
  {
   "cell_type": "code",
   "execution_count": null,
   "metadata": {},
   "outputs": [],
   "source": []
  },
  {
   "cell_type": "code",
   "execution_count": null,
   "metadata": {},
   "outputs": [],
   "source": []
  },
  {
   "cell_type": "code",
   "execution_count": null,
   "metadata": {
    "scrolled": true
   },
   "outputs": [],
   "source": [
    "print(\"Test Dataset Count: \" + str(test.count()))"
   ]
  },
  {
   "cell_type": "code",
   "execution_count": null,
   "metadata": {},
   "outputs": [],
   "source": []
  },
  {
   "cell_type": "code",
   "execution_count": null,
   "metadata": {},
   "outputs": [],
   "source": []
  },
  {
   "cell_type": "markdown",
   "metadata": {},
   "source": [
    "## Spark Random Forest"
   ]
  },
  {
   "cell_type": "code",
   "execution_count": null,
   "metadata": {},
   "outputs": [],
   "source": [
    "from pyspark.ml.classification import RandomForestClassifier"
   ]
  },
  {
   "cell_type": "code",
   "execution_count": null,
   "metadata": {},
   "outputs": [],
   "source": []
  },
  {
   "cell_type": "code",
   "execution_count": null,
   "metadata": {},
   "outputs": [],
   "source": []
  },
  {
   "cell_type": "code",
   "execution_count": null,
   "metadata": {
    "scrolled": true
   },
   "outputs": [],
   "source": [
    "# Building the RF model\n",
    "\n",
    "rf = RandomForestClassifier(featuresCol = 'features', labelCol = 'label', \\\n",
    "                            maxDepth=5, impurity='gini', numTrees=25, seed=100)"
   ]
  },
  {
   "cell_type": "code",
   "execution_count": null,
   "metadata": {},
   "outputs": [],
   "source": []
  },
  {
   "cell_type": "code",
   "execution_count": null,
   "metadata": {},
   "outputs": [],
   "source": []
  },
  {
   "cell_type": "code",
   "execution_count": null,
   "metadata": {},
   "outputs": [],
   "source": [
    "# Fitting the model over the training set\n",
    "rfmodel = rf.fit(train)"
   ]
  },
  {
   "cell_type": "code",
   "execution_count": null,
   "metadata": {},
   "outputs": [],
   "source": []
  },
  {
   "cell_type": "code",
   "execution_count": null,
   "metadata": {},
   "outputs": [],
   "source": []
  },
  {
   "cell_type": "code",
   "execution_count": null,
   "metadata": {},
   "outputs": [],
   "source": [
    "# Printing the forest obtained from the model\n",
    "print(rfmodel.toDebugString)"
   ]
  },
  {
   "cell_type": "code",
   "execution_count": null,
   "metadata": {},
   "outputs": [],
   "source": []
  },
  {
   "cell_type": "code",
   "execution_count": null,
   "metadata": {},
   "outputs": [],
   "source": []
  },
  {
   "cell_type": "markdown",
   "metadata": {},
   "source": [
    "### Model Prediction"
   ]
  },
  {
   "cell_type": "code",
   "execution_count": null,
   "metadata": {
    "scrolled": true
   },
   "outputs": [],
   "source": [
    "# Applying the model on test set\n",
    "predictions = rfmodel.transform(test)"
   ]
  },
  {
   "cell_type": "code",
   "execution_count": null,
   "metadata": {},
   "outputs": [],
   "source": []
  },
  {
   "cell_type": "code",
   "execution_count": null,
   "metadata": {},
   "outputs": [],
   "source": [
    "predictions"
   ]
  },
  {
   "cell_type": "code",
   "execution_count": null,
   "metadata": {},
   "outputs": [],
   "source": [
    "predictions.show()"
   ]
  },
  {
   "cell_type": "code",
   "execution_count": null,
   "metadata": {
    "scrolled": true
   },
   "outputs": [],
   "source": [
    "# Printing the required columns\n",
    "predictions.select('label', 'rawPrediction', 'prediction', 'probability').show(10)"
   ]
  },
  {
   "cell_type": "code",
   "execution_count": null,
   "metadata": {},
   "outputs": [],
   "source": []
  },
  {
   "cell_type": "code",
   "execution_count": null,
   "metadata": {},
   "outputs": [],
   "source": []
  },
  {
   "cell_type": "markdown",
   "metadata": {},
   "source": [
    "### Model Evaluation"
   ]
  },
  {
   "cell_type": "code",
   "execution_count": null,
   "metadata": {},
   "outputs": [],
   "source": [
    "# Model evaluation\n",
    "from pyspark.ml.evaluation import MulticlassClassificationEvaluator\n",
    "\n",
    "\n",
    "evaluator = MulticlassClassificationEvaluator(labelCol=\"label\", predictionCol=\"prediction\", metricName=\"accuracy\")\n",
    "\n"
   ]
  },
  {
   "cell_type": "code",
   "execution_count": null,
   "metadata": {},
   "outputs": [],
   "source": []
  },
  {
   "cell_type": "code",
   "execution_count": null,
   "metadata": {},
   "outputs": [],
   "source": [
    "\n",
    "accuracy = evaluator.evaluate(predictions)"
   ]
  },
  {
   "cell_type": "code",
   "execution_count": null,
   "metadata": {
    "scrolled": true
   },
   "outputs": [],
   "source": [
    "# Model Accuracy\n",
    "print(accuracy)"
   ]
  },
  {
   "cell_type": "code",
   "execution_count": null,
   "metadata": {},
   "outputs": [],
   "source": []
  },
  {
   "cell_type": "code",
   "execution_count": null,
   "metadata": {},
   "outputs": [],
   "source": []
  },
  {
   "cell_type": "code",
   "execution_count": null,
   "metadata": {},
   "outputs": [],
   "source": [
    "# Test Error\n",
    "print(\"Test Error = %g\" % (1.0 - accuracy))"
   ]
  },
  {
   "cell_type": "code",
   "execution_count": null,
   "metadata": {
    "scrolled": true
   },
   "outputs": [],
   "source": []
  },
  {
   "cell_type": "markdown",
   "metadata": {},
   "source": [
    "### Feature Importance"
   ]
  },
  {
   "cell_type": "code",
   "execution_count": null,
   "metadata": {},
   "outputs": [],
   "source": [
    "# Feature Importance\n",
    "rfmodel.featureImportances"
   ]
  },
  {
   "cell_type": "code",
   "execution_count": null,
   "metadata": {},
   "outputs": [],
   "source": []
  },
  {
   "cell_type": "code",
   "execution_count": null,
   "metadata": {},
   "outputs": [],
   "source": [
    "# Defining a function to extract features along with the feature importance score\n",
    "import pandas as pd\n",
    "def ExtractFeatureImp(featureImp, dataset, featuresCol):\n",
    "    list_extract = []\n",
    "    for i in dataset.schema[featuresCol].metadata[\"ml_attr\"][\"attrs\"]:\n",
    "        list_extract = list_extract + dataset.schema[featuresCol].metadata[\"ml_attr\"][\"attrs\"][i]\n",
    "    varlist = pd.DataFrame(list_extract)\n",
    "    varlist['score'] = varlist['idx'].apply(lambda x: featureImp[x])\n",
    "    return(varlist.sort_values('score', ascending = False))"
   ]
  },
  {
   "cell_type": "code",
   "execution_count": null,
   "metadata": {},
   "outputs": [],
   "source": []
  },
  {
   "cell_type": "code",
   "execution_count": null,
   "metadata": {},
   "outputs": [],
   "source": [
    "# Printing the feature importance scores\n",
    "ExtractFeatureImp(rfmodel.featureImportances, predictions, \"features\").head(10)"
   ]
  },
  {
   "cell_type": "code",
   "execution_count": null,
   "metadata": {},
   "outputs": [],
   "source": []
  },
  {
   "cell_type": "code",
   "execution_count": null,
   "metadata": {},
   "outputs": [],
   "source": []
  },
  {
   "cell_type": "code",
   "execution_count": null,
   "metadata": {},
   "outputs": [],
   "source": []
  }
 ],
 "metadata": {
  "kernelspec": {
   "display_name": "PySpark",
   "language": "python",
   "name": "pysparkkernel"
  },
  "language_info": {
   "codemirror_mode": {
    "name": "python",
    "version": 3
   },
   "file_extension": ".py",
   "mimetype": "text/x-python",
   "name": "pyspark",
   "pygments_lexer": "python3"
  }
 },
 "nbformat": 4,
 "nbformat_minor": 4
}
