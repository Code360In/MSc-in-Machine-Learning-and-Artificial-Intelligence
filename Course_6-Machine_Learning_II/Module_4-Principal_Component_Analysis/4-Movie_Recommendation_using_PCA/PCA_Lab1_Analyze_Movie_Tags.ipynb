{
 "cells": [
  {
   "cell_type": "markdown",
   "metadata": {},
   "source": [
    "# Analyze Tags of Movies\n",
    "## Can movies be described by their similarities in a latent space of tag ratings?\n",
    "\n",
    "### ~13000 movies, and ~1000 tags\n",
    "### How relevant is each tag to each movie? (0-1)\n"
   ]
  },
  {
   "cell_type": "code",
   "execution_count": 1,
   "metadata": {},
   "outputs": [
    {
     "name": "stdout",
     "output_type": "stream",
     "text": [
      "time: 357 µs (started: 2022-08-22 14:55:07 +00:00)\n"
     ]
    }
   ],
   "source": [
    "# Loading autotime for the notebook\n",
    "%load_ext autotime"
   ]
  },
  {
   "cell_type": "code",
   "execution_count": 2,
   "metadata": {},
   "outputs": [
    {
     "name": "stdout",
     "output_type": "stream",
     "text": [
      "time: 1.2 ms (started: 2022-08-22 14:55:07 +00:00)\n"
     ]
    }
   ],
   "source": [
    "import os\n",
    "import sys\n",
    "os.environ[\"PYSPARK_PYTHON\"]=\"/usr/bin/python3\"\n",
    "os.environ[\"PYSPARK_DRIVER_PYTHON\"]=\"/usr/bin/python3\"\n",
    "os.environ[\"PYSPARK_DRIVER_PYTHON_OPTS\"]=\"notebook --no-browser\"\n",
    "os.environ[\"JAVA_HOME\"] = \"/usr/java/jdk1.8.0_161/jre\"\n",
    "os.environ[\"SPARK_HOME\"] = \"/home/ec2-user/spark-2.4.4-bin-hadoop2.7\"\n",
    "os.environ[\"PYLIB\"] = os.environ[\"SPARK_HOME\"] + \"/python/lib\"\n",
    "sys.path.insert(0, os.environ[\"PYLIB\"] + \"/py4j-0.10.7-src.zip\")\n",
    "sys.path.insert(0, os.environ[\"PYLIB\"] + \"/pyspark.zip\")"
   ]
  },
  {
   "cell_type": "code",
   "execution_count": 3,
   "metadata": {},
   "outputs": [
    {
     "name": "stdout",
     "output_type": "stream",
     "text": [
      "time: 5.54 s (started: 2022-08-22 14:55:07 +00:00)\n"
     ]
    }
   ],
   "source": [
    "# SparkSession\n",
    "from pyspark.sql import SparkSession\n",
    "from seaborn import heatmap\n",
    "\n",
    "import pandas as pd\n",
    "\n",
    "spark = SparkSession.builder.master(\"local\") \\\n",
    "                            .appName(\"PCA_ML_Lib\") \\\n",
    "                            .getOrCreate()"
   ]
  },
  {
   "cell_type": "code",
   "execution_count": 4,
   "metadata": {},
   "outputs": [
    {
     "name": "stdout",
     "output_type": "stream",
     "text": [
      "time: 3min 31s (started: 2022-08-22 14:55:13 +00:00)\n"
     ]
    }
   ],
   "source": [
    "df = pd.read_csv(\"s3a://sparkdemonstration/movielens-tag-relevance.csv\", header=\"infer\")\n",
    "df = spark.createDataFrame(df)"
   ]
  },
  {
   "cell_type": "code",
   "execution_count": 5,
   "metadata": {},
   "outputs": [
    {
     "name": "stdout",
     "output_type": "stream",
     "text": [
      "+--------------------+-------------------+--------------------+--------------------+--------------------+\n",
      "|               title|       storytelling|                 spy|             ominous|   fountain of youth|\n",
      "+--------------------+-------------------+--------------------+--------------------+--------------------+\n",
      "|    Toy Story (1995)|               0.76| 0.17049999999999998|             0.10925|             0.03025|\n",
      "|      Jumanji (1995)|0.35550000000000004|             0.09125|             0.14025|0.044499999999999984|\n",
      "|Grumpier Old Men ...|0.33325000000000005| 0.05825000000000001|              0.0695|0.028000000000000025|\n",
      "|Waiting to Exhale...|              0.333| 0.05049999999999999|             0.03375|0.019000000000000017|\n",
      "|Father of the Bri...|            0.29375| 0.05475000000000002|0.044999999999999984|             0.03275|\n",
      "|         Heat (1995)|             0.7475|              0.0665|             0.10075|0.009000000000000008|\n",
      "|      Sabrina (1995)|            0.38025|             0.10525| 0.04349999999999998|0.030500000000000024|\n",
      "| Tom and Huck (1995)|             0.3175| 0.05375000000000002| 0.04575000000000001|0.014249999999999985|\n",
      "| Sudden Death (1995)|             0.2245| 0.06774999999999998| 0.05675000000000002| 0.01124999999999998|\n",
      "|    GoldenEye (1995)|            0.29375|             0.70375| 0.08150000000000003| 0.06225000000000003|\n",
      "|American Presiden...|             0.2775| 0.10799999999999996| 0.05099999999999999|0.033499999999999974|\n",
      "|Dracula: Dead and...|            0.20925| 0.07624999999999997| 0.03975000000000002|0.015500000000000012|\n",
      "|        Balto (1995)|0.29400000000000004|0.044999999999999984|0.028500000000000025|0.014249999999999985|\n",
      "|        Nixon (1995)|            0.41275| 0.06874999999999998| 0.08650000000000002|0.016000000000000014|\n",
      "|Cutthroat Island ...|             0.2905| 0.07600000000000001|             0.03275|0.025500000000000026|\n",
      "|       Casino (1995)|             0.7985|               0.069|             0.08675| 0.01050000000000001|\n",
      "|Sense and Sensibi...|             0.2995|0.059000000000000004|0.018500000000000016| 0.01874999999999999|\n",
      "|   Four Rooms (1995)|            0.83575| 0.04775000000000002|0.052499999999999984|0.014500000000000013|\n",
      "|Ace Ventura: When...| 0.3720000000000001| 0.08800000000000002| 0.04625000000000001|0.015500000000000012|\n",
      "|  Money Train (1995)|             0.2815|                0.07|0.037750000000000006|0.012000000000000007|\n",
      "+--------------------+-------------------+--------------------+--------------------+--------------------+\n",
      "only showing top 20 rows\n",
      "\n",
      "time: 3.9 s (started: 2022-08-22 14:58:45 +00:00)\n"
     ]
    }
   ],
   "source": [
    "import random\n",
    "colsToShow = ['title'] + [random.choice(df.columns) for i in range(4)]\n",
    "df.select(*colsToShow).show()"
   ]
  },
  {
   "cell_type": "code",
   "execution_count": 6,
   "metadata": {},
   "outputs": [
    {
     "data": {
      "text/plain": [
       "13816"
      ]
     },
     "execution_count": 6,
     "metadata": {},
     "output_type": "execute_result"
    },
    {
     "name": "stdout",
     "output_type": "stream",
     "text": [
      "time: 5.24 s (started: 2022-08-22 14:58:49 +00:00)\n"
     ]
    }
   ],
   "source": [
    "df.count()"
   ]
  },
  {
   "cell_type": "code",
   "execution_count": 7,
   "metadata": {},
   "outputs": [
    {
     "data": {
      "text/plain": [
       "1129"
      ]
     },
     "execution_count": 7,
     "metadata": {},
     "output_type": "execute_result"
    },
    {
     "name": "stdout",
     "output_type": "stream",
     "text": [
      "time: 3.45 ms (started: 2022-08-22 14:58:54 +00:00)\n"
     ]
    }
   ],
   "source": [
    "len(df.columns)"
   ]
  },
  {
   "cell_type": "code",
   "execution_count": 8,
   "metadata": {},
   "outputs": [
    {
     "name": "stdout",
     "output_type": "stream",
     "text": [
      "time: 164 ms (started: 2022-08-22 14:58:54 +00:00)\n"
     ]
    }
   ],
   "source": [
    "from pyspark.ml.feature import VectorAssembler, StandardScaler"
   ]
  },
  {
   "cell_type": "code",
   "execution_count": 9,
   "metadata": {},
   "outputs": [
    {
     "ename": "AnalysisException",
     "evalue": "'Cannot resolve column name \"c.s. lewis\" among (title, 007, 007 (series), 18th century, 1920s, 1930s, 1950s, 1960s, 1970s, 1980s, 19th century, 3d, 70mm, 80s, 9/11, aardman, aardman studios, abortion, absurd, action, action packed, adaptation, adapted from:book, adapted from:comic, adapted from:game, addiction, adolescence, adoption, adultery, adventure, affectionate, afi 100, afi 100 (laughs), afi 100 (movie quotes), africa, afterlife, aging, aids, airplane, airport, alaska, alcatraz, alcoholism, alien, alien invasion, aliens, allegory, almodovar, alone in the world, alter ego, alternate endings, alternate history, alternate reality, alternate universe, amazing cinematography, amazing photography, american civil war, amnesia, amy smart, android(s)/cyborg(s), androids, animal movie, animals, animated, animation, anime, antarctica, anti-hero, anti-semitism, anti-war, apocalypse, archaeology, argentina, arms dealer, arnold, art, art house, artificial intelligence, artist, artistic, artsy, assassin, assassination, assassins, astronauts, atheism, atmospheric, australia, australian, author:alan moore, author:neil gaiman, autism, aviation, awesome, awesome soundtrack, awful, bad, bad acting, bad cgi, bad ending, bad plot, bad science, bad script, bad sequel, ballet, bank robbery, baseball, based on a book, based on a comic, based on a play, based on a true story, based on a tv show, based on a video game, based on book, based on comic, based on true story, basketball, batman, bdsm, beatles, beautiful, beautiful scenery, beautifully filmed, beauty pageant, beer, berlin, best of 2005, best war films, betrayal, better than expected, better than the american version, biblical, big budget, biographical, biography, biopic, birds, biting, bittersweet, bizarre, black and white, black comedy, blaxploitation, bleak, blindness, blood, bloody, boarding school, boat, bollywood, bombs, bond, book, book was better, books, boring, boring!, boston, bowling, boxing, brainwashing, brazil, breathtaking, brilliant, british, british comedy, broadway, brothers, brutal, brutality, buddy movie, bullshit history, bullying, business, c.s. lewis, california, camp, campy, canada, cancer, cannibalism, caper, capitalism, car chase, carrie-anne moss, cars, cartoon, casino, catastrophe, cathartic, catholicism, censorship, cerebral, cgi, character study, chase, cheating, cheerleading, cheesy, chess, chicago, chick flick, child abuse, childhood, children, china, chocolate, chris tucker, christian, christianity, christmas, cia, cinematography, circus, civil war, classic, classic car, classical music, claustrophobic, claymation, clever, clones, cloning, clowns, coen bros, coen brothers, cold war, college, colonialism, colourful, comedy, comic, comic book, comic book adaption, comics, coming of age, coming-of-age, communism, compassionate, competition, complex, complex characters, complicated, complicated plot, computer animation, computer game, computers, con artists, con men, confrontational, confusing, conspiracy, conspiracy theory, controversial, cooking, cool, corny, corporate america, corruption, costume drama, courage, court, courtroom, courtroom drama, crappy sequel, crazy, creativity, creepy, crime, crime gone awry, criterion, cross dressing, crude humor, cuba, cult, cult classic, cult film, culture clash, cute, cute!, cyberpunk, cyborgs, cynical, dance, dancing, dark, dark comedy, dark fantasy, dark hero, dark humor, dc comics, deadpan, death, death penalty, demons, depp & burton, depressing, depression, desert, destiny, detective, devil, dialogue, dialogue driven, dinosaurs, directorial debut, disability, disappointing, disaster, disney, disney animated feature, distopia, disturbing, divorce, doctors, documentary, dog, dogs, dolphins, downbeat, dr. seuss, dragon, dragons, drama, dramatic, dreamlike, dreams, dreamworks, drinking, drug abuse, drug addiction, drugs, dumb, dumb but funny, dynamic cgi action, dysfunctional family, dystopia, dystopic future, earnest, easily confused with other movie(s) (title), east germany, eccentricity, ecology, educational, eerie, effects, egypt, emma watson, emotional, end of the world, england, enigmatic, ennio morricone, enormously long battle scene, ensemble cast, entertaining, entirely dialogue, environment, environmental, epic, erotic, espionage, ethnic conflict, evolution, excellent, excellent script, exceptional acting, exciting, existentialism, explosions, factual, fairy tale, fairy tales, fake documentary, family, family bonds, family drama, fantasy, fantasy world, farce, fascism, fashion, fast paced, father daughter relationship, father son relationship, father-son relationship, fbi, feel good movie, feel-good, fight scenes, fighting, fighting the system, figure skating, film noir, finnish, firefly, first contact, fish, flashbacks, food, football, forceful, foreign, foul language, fountain of youth, france, franchise, francis ford copolla, free speech, free to download, freedom, french, friendship, frightening, fun, fun movie, funniest movies, funny, funny as hell, future, futuristic, gambling, gangs, gangster, gangsters, gay, gay character, geek, geeks, genetics, genius, genocide, george orwell, german, germany, ghosts, ghosts/afterlife, giant robots, gilliam, girlie movie, glbt, global warming, god, golden palm, golf, good, good acting, good action, good dialogue, good music, good romantic comedies, good sequel, good soundtrack, good story, good versus evil, goofy, gore, goretastic, gory, goth, gothic, graphic design, graphic novel, gratuitous violence, great, great acting, great cinematography, great dialogue, great ending, great movie, great music, great soundtrack, greed, grim, grindhouse, gritty, gross-out, gruesome, guilt, guilty pleasure, gulf war, gunfight, guns, gypsy accent, hackers, hacking, halloween, hallucinatory, handycam, hannibal lecter, happy ending, hard to watch, harry potter, harsh, haunted house, hawaii, heartbreaking, heartwarming, heist, heroin, heroine, heroine in tight suit, high fantasy, high school, highly quotable, hilarious, hillarious, hip hop, historical, history, hit men, hitchcock, hitman, holiday, hollywood, holocaust, homeless, homophobia, homosexuality, honest, hong kong, horrible, horror, horses, hospital, hostage, hotel, humanity, humor, humorous, hunting, idealism, identity, idiotic, imaginary friend, imagination, imdb top 250, immigrants, immortality, incest, independent film, india, indiana jones, indians, indie, infidelity, innocence lost, insanity, inspirational, inspiring, intellectual, intelligent, intelligent sci-fi, intense, interesting, internet, interracial romance, intimate, investigation, iran, iraq, iraq war, ireland, irish, irish accent, ironic, irreverent, islam, island, isolation, israel, italian, italy, james bond, jane austen, japan, japanese, jay and silent bob, jazz, jesus, jewish, jews, journalism, judaism, jungle, justice, kick-butt women, kidnapping, kids, kids and family, king arthur, kubrick, kung fu, kurosawa, lame, las vegas, latin america, lawyer, lawyers, lesbian, life, life & death, life philosophy, light, lions, literary adaptation, literature, liv tyler, london, lone hero, loneliness, long, los angeles, love, love story, love triangles, low budget, lynch, lyrical, macabre, mad scientist, made for tv, mafia, magic, magic realism, male nudity, man versus machine, manipulation, marijuana, marriage, mars, martial arts, marvel, marx brothers, masterpiece, math, mathematics, maze, medieval, meditative, melancholic, melancholy, memory, memory loss, mental hospital, mental illness, mentor, metaphysics, mexico, middle east, midlife crisis, military, mindfuck, mining, minnesota, mission from god, mistaken identity, miyazaki, mob, mockumentary, modern fantasy, money, monkey, monster, monsters, monty python, moody, moon, moral ambiguity, morality, mother daughter relationship, mother-son relationship, motorcycle, mountain climbing, movie business, movielens top pick, moving, mozart, mtv, multiple storylines, mummy, muppets, murder, murder mystery, music, music business, musical, musicians, mutants, mystery, mythology, narrated, nasa, native americans, natural disaster, nature, nazi, nazis, neil gaiman, neo-nazis, neo-noir, nerds, new jersey, new orleans, new york, new york city, new zealand, ninja, no dialogue, no plot, nocturnal, noir, noir thriller, non-hollywood ending, non-linear, nonlinear, nostalgia, nostalgic, not as good as the first, not funny, notable nudity, notable soundtrack, nuclear, nuclear bomb, nuclear war, nudity, nudity (full frontal - brief), nudity (full frontal - notable), nudity (full frontal), nudity (rear), nudity (topless - brief), nudity (topless - notable), nudity (topless), obsession, ocean, off-beat comedy, office, oil, olympics, ominous, opera, organized crime, original, original plot, orphans, oscar, oscar (best actor), oscar (best actress), oscar (best animated feature), oscar (best cinematography), oscar (best directing), oscar (best editing), oscar (best effects - visual effects), oscar (best foreign language film), oscar (best music - original score), oscar (best music - original song), oscar (best picture), oscar (best sound), oscar (best supporting actor), oscar (best supporting actress), oscar (best writing - screenplay written directly for the screen), oscar winner, over the top, overrated, palestine, parallel universe, paranoia, paranoid, parenthood, paris, parody, passionate, penguins, perfect, period piece, peter pan, pg, pg-13, philip k. dick, philosophical, philosophy, photographer, photography, pigs, pirates, pixar, pixar animation, plot, plot holes, plot twist, poetry, poignant, pointless, poker, poland, police, police corruption, police investigation, political, political corruption, politics, pornography, post apocalyptic, post-apocalyptic, potential oscar nom, poverty, powerful ending, predictable, pregnancy, prejudice, prequel, president, pretentious, prison, prison escape, private detective, product placement, prohibition, propaganda, prostitution, psychedelic, psychiatrist, psychiatry, psychological, psychology, pulp, punk, puppets, queer, quirky, quotable, rabbits, race, race issues, racing, racism, radio, rags to riches, rape, rats, realistic, realistic action, reality tv, rebellion, redemption, reflective, relationships, religion, remade, remake, revenge, revolution, ridiculous, rio de janeiro, road movie, road trip, roald dahl, robbery, robert downey jr, robert ludlum, robot, robots, rock and roll, romance, romantic, romantic comedy, rome, runaway, russia, russian, sacrifice, sad, sad but good, samurai, san francisco, sappy, sarcasm, satire, satirical, saturday night live, saturn award (best science fiction film), saturn award (best special effects), scary, scenic, schizophrenia, school, sci fi, sci-fi, science, science fiction, scifi, scifi cult, scotland, screwball, screwball comedy, script, secret service, secrets, segregation, self discovery, sentimental, sequel, sequels, serial killer, series, sex, sex comedy, sexual, sexual abuse, sexuality, sexualized violence, sexy, shakespeare, shallow, shark, shopping, short, short-term memory loss, silent, silly, silly fun, simple, single father, sisters, skinhead, slackers, slapstick, slasher, slavery, slow, slow paced, small town, snakes, so bad it\\'s funny, so bad it\\'s good, soccer, social commentary, solitude, sophia coppola, south africa, south america, southern theme, space, space opera, space program, space travel, spaghetti western, spain, spanish, spanish civil war, special, special effects, spelling bee, spiders, spielberg, spies, splatter, spock, spoof, sports, spy, spying, stage magic, stand-up comedy, star trek, star wars, steampunk, stereotypes, stoner movie, stop motion, stop-motion, story, storytelling, stranded, strange, strippers, studio ghibli, stunning, stupid, stupid as hell, stupidity, stylish, stylized, submarine, suburbia, suicide, suicide attempt, super hero, super-hero, superhero, superheroes, supernatural, suprisingly clever, surfing, surprise ending, surreal, surrealism, surveillance, survival, suspense, suspenseful, swashbuckler, swedish, sweet, switching places, sword fight, sword fighting, talking animals, talky, tarantino, teacher, tear jerker, technology, teen, teen movie, teenager, teenagers, teens, teleportation, television, tense, terminal illness, terrorism, texas, thought-provoking, thriller, time, time loop, time travel, tokyo, tolkien, tom clancy, too long, too short, torture, touching, toys, tragedy, train, trains, transformation, transgender, travel, treasure, treasure hunt, tricky, trilogy, true story, truman capote, twist, twist ending, twists & turns, undercover cop, underdog, underrated, understated, underwater, unfunny, unintentionally funny, unique, united nations, unlikeable characters, unlikely friendships, unrealistic, unusual plot structure, us history, utopia, vampire, vampire human love, vampires, vengeance, very funny, very good, very interesting, video game, video game adaptation, video games, videogame, vienna, vietnam, vietnam war, view askew, vigilante, vigilantism, violence, violent, virginity, virtual reality, virus, visceral, visual, visually appealing, visually stunning, visuals, voodoo, voyeurism, war, war movie, wartime, waste of time, watch the credits, weapons, wedding, weed, weird, werewolf, werewolves, western, whimsical, wilderness, wine, wistful, witch, witches, witty, wizards, women, working class, workplace, world politics, world war i, world war ii, writer\\'s life, writers, writing, wuxia, wwii, zombie, zombies);'",
     "output_type": "error",
     "traceback": [
      "\u001b[0;31m---------------------------------------------------------------------------\u001b[0m",
      "\u001b[0;31mPy4JJavaError\u001b[0m                             Traceback (most recent call last)",
      "\u001b[0;32m~/spark-2.4.4-bin-hadoop2.7/python/lib/pyspark.zip/pyspark/sql/utils.py\u001b[0m in \u001b[0;36mdeco\u001b[0;34m(*a, **kw)\u001b[0m\n\u001b[1;32m     62\u001b[0m         \u001b[0;32mtry\u001b[0m\u001b[0;34m:\u001b[0m\u001b[0;34m\u001b[0m\u001b[0;34m\u001b[0m\u001b[0m\n\u001b[0;32m---> 63\u001b[0;31m             \u001b[0;32mreturn\u001b[0m \u001b[0mf\u001b[0m\u001b[0;34m(\u001b[0m\u001b[0;34m*\u001b[0m\u001b[0ma\u001b[0m\u001b[0;34m,\u001b[0m \u001b[0;34m**\u001b[0m\u001b[0mkw\u001b[0m\u001b[0;34m)\u001b[0m\u001b[0;34m\u001b[0m\u001b[0;34m\u001b[0m\u001b[0m\n\u001b[0m\u001b[1;32m     64\u001b[0m         \u001b[0;32mexcept\u001b[0m \u001b[0mpy4j\u001b[0m\u001b[0;34m.\u001b[0m\u001b[0mprotocol\u001b[0m\u001b[0;34m.\u001b[0m\u001b[0mPy4JJavaError\u001b[0m \u001b[0;32mas\u001b[0m \u001b[0me\u001b[0m\u001b[0;34m:\u001b[0m\u001b[0;34m\u001b[0m\u001b[0;34m\u001b[0m\u001b[0m\n",
      "\u001b[0;32m~/spark-2.4.4-bin-hadoop2.7/python/lib/py4j-0.10.7-src.zip/py4j/protocol.py\u001b[0m in \u001b[0;36mget_return_value\u001b[0;34m(answer, gateway_client, target_id, name)\u001b[0m\n\u001b[1;32m    327\u001b[0m                     \u001b[0;34m\"An error occurred while calling {0}{1}{2}.\\n\"\u001b[0m\u001b[0;34m.\u001b[0m\u001b[0;34m\u001b[0m\u001b[0;34m\u001b[0m\u001b[0m\n\u001b[0;32m--> 328\u001b[0;31m                     format(target_id, \".\", name), value)\n\u001b[0m\u001b[1;32m    329\u001b[0m             \u001b[0;32melse\u001b[0m\u001b[0;34m:\u001b[0m\u001b[0;34m\u001b[0m\u001b[0;34m\u001b[0m\u001b[0m\n",
      "\u001b[0;31mPy4JJavaError\u001b[0m: An error occurred while calling o60.transform.\n: org.apache.spark.sql.AnalysisException: Cannot resolve column name \"c.s. lewis\" among (title, 007, 007 (series), 18th century, 1920s, 1930s, 1950s, 1960s, 1970s, 1980s, 19th century, 3d, 70mm, 80s, 9/11, aardman, aardman studios, abortion, absurd, action, action packed, adaptation, adapted from:book, adapted from:comic, adapted from:game, addiction, adolescence, adoption, adultery, adventure, affectionate, afi 100, afi 100 (laughs), afi 100 (movie quotes), africa, afterlife, aging, aids, airplane, airport, alaska, alcatraz, alcoholism, alien, alien invasion, aliens, allegory, almodovar, alone in the world, alter ego, alternate endings, alternate history, alternate reality, alternate universe, amazing cinematography, amazing photography, american civil war, amnesia, amy smart, android(s)/cyborg(s), androids, animal movie, animals, animated, animation, anime, antarctica, anti-hero, anti-semitism, anti-war, apocalypse, archaeology, argentina, arms dealer, arnold, art, art house, artificial intelligence, artist, artistic, artsy, assassin, assassination, assassins, astronauts, atheism, atmospheric, australia, australian, author:alan moore, author:neil gaiman, autism, aviation, awesome, awesome soundtrack, awful, bad, bad acting, bad cgi, bad ending, bad plot, bad science, bad script, bad sequel, ballet, bank robbery, baseball, based on a book, based on a comic, based on a play, based on a true story, based on a tv show, based on a video game, based on book, based on comic, based on true story, basketball, batman, bdsm, beatles, beautiful, beautiful scenery, beautifully filmed, beauty pageant, beer, berlin, best of 2005, best war films, betrayal, better than expected, better than the american version, biblical, big budget, biographical, biography, biopic, birds, biting, bittersweet, bizarre, black and white, black comedy, blaxploitation, bleak, blindness, blood, bloody, boarding school, boat, bollywood, bombs, bond, book, book was better, books, boring, boring!, boston, bowling, boxing, brainwashing, brazil, breathtaking, brilliant, british, british comedy, broadway, brothers, brutal, brutality, buddy movie, bullshit history, bullying, business, c.s. lewis, california, camp, campy, canada, cancer, cannibalism, caper, capitalism, car chase, carrie-anne moss, cars, cartoon, casino, catastrophe, cathartic, catholicism, censorship, cerebral, cgi, character study, chase, cheating, cheerleading, cheesy, chess, chicago, chick flick, child abuse, childhood, children, china, chocolate, chris tucker, christian, christianity, christmas, cia, cinematography, circus, civil war, classic, classic car, classical music, claustrophobic, claymation, clever, clones, cloning, clowns, coen bros, coen brothers, cold war, college, colonialism, colourful, comedy, comic, comic book, comic book adaption, comics, coming of age, coming-of-age, communism, compassionate, competition, complex, complex characters, complicated, complicated plot, computer animation, computer game, computers, con artists, con men, confrontational, confusing, conspiracy, conspiracy theory, controversial, cooking, cool, corny, corporate america, corruption, costume drama, courage, court, courtroom, courtroom drama, crappy sequel, crazy, creativity, creepy, crime, crime gone awry, criterion, cross dressing, crude humor, cuba, cult, cult classic, cult film, culture clash, cute, cute!, cyberpunk, cyborgs, cynical, dance, dancing, dark, dark comedy, dark fantasy, dark hero, dark humor, dc comics, deadpan, death, death penalty, demons, depp & burton, depressing, depression, desert, destiny, detective, devil, dialogue, dialogue driven, dinosaurs, directorial debut, disability, disappointing, disaster, disney, disney animated feature, distopia, disturbing, divorce, doctors, documentary, dog, dogs, dolphins, downbeat, dr. seuss, dragon, dragons, drama, dramatic, dreamlike, dreams, dreamworks, drinking, drug abuse, drug addiction, drugs, dumb, dumb but funny, dynamic cgi action, dysfunctional family, dystopia, dystopic future, earnest, easily confused with other movie(s) (title), east germany, eccentricity, ecology, educational, eerie, effects, egypt, emma watson, emotional, end of the world, england, enigmatic, ennio morricone, enormously long battle scene, ensemble cast, entertaining, entirely dialogue, environment, environmental, epic, erotic, espionage, ethnic conflict, evolution, excellent, excellent script, exceptional acting, exciting, existentialism, explosions, factual, fairy tale, fairy tales, fake documentary, family, family bonds, family drama, fantasy, fantasy world, farce, fascism, fashion, fast paced, father daughter relationship, father son relationship, father-son relationship, fbi, feel good movie, feel-good, fight scenes, fighting, fighting the system, figure skating, film noir, finnish, firefly, first contact, fish, flashbacks, food, football, forceful, foreign, foul language, fountain of youth, france, franchise, francis ford copolla, free speech, free to download, freedom, french, friendship, frightening, fun, fun movie, funniest movies, funny, funny as hell, future, futuristic, gambling, gangs, gangster, gangsters, gay, gay character, geek, geeks, genetics, genius, genocide, george orwell, german, germany, ghosts, ghosts/afterlife, giant robots, gilliam, girlie movie, glbt, global warming, god, golden palm, golf, good, good acting, good action, good dialogue, good music, good romantic comedies, good sequel, good soundtrack, good story, good versus evil, goofy, gore, goretastic, gory, goth, gothic, graphic design, graphic novel, gratuitous violence, great, great acting, great cinematography, great dialogue, great ending, great movie, great music, great soundtrack, greed, grim, grindhouse, gritty, gross-out, gruesome, guilt, guilty pleasure, gulf war, gunfight, guns, gypsy accent, hackers, hacking, halloween, hallucinatory, handycam, hannibal lecter, happy ending, hard to watch, harry potter, harsh, haunted house, hawaii, heartbreaking, heartwarming, heist, heroin, heroine, heroine in tight suit, high fantasy, high school, highly quotable, hilarious, hillarious, hip hop, historical, history, hit men, hitchcock, hitman, holiday, hollywood, holocaust, homeless, homophobia, homosexuality, honest, hong kong, horrible, horror, horses, hospital, hostage, hotel, humanity, humor, humorous, hunting, idealism, identity, idiotic, imaginary friend, imagination, imdb top 250, immigrants, immortality, incest, independent film, india, indiana jones, indians, indie, infidelity, innocence lost, insanity, inspirational, inspiring, intellectual, intelligent, intelligent sci-fi, intense, interesting, internet, interracial romance, intimate, investigation, iran, iraq, iraq war, ireland, irish, irish accent, ironic, irreverent, islam, island, isolation, israel, italian, italy, james bond, jane austen, japan, japanese, jay and silent bob, jazz, jesus, jewish, jews, journalism, judaism, jungle, justice, kick-butt women, kidnapping, kids, kids and family, king arthur, kubrick, kung fu, kurosawa, lame, las vegas, latin america, lawyer, lawyers, lesbian, life, life & death, life philosophy, light, lions, literary adaptation, literature, liv tyler, london, lone hero, loneliness, long, los angeles, love, love story, love triangles, low budget, lynch, lyrical, macabre, mad scientist, made for tv, mafia, magic, magic realism, male nudity, man versus machine, manipulation, marijuana, marriage, mars, martial arts, marvel, marx brothers, masterpiece, math, mathematics, maze, medieval, meditative, melancholic, melancholy, memory, memory loss, mental hospital, mental illness, mentor, metaphysics, mexico, middle east, midlife crisis, military, mindfuck, mining, minnesota, mission from god, mistaken identity, miyazaki, mob, mockumentary, modern fantasy, money, monkey, monster, monsters, monty python, moody, moon, moral ambiguity, morality, mother daughter relationship, mother-son relationship, motorcycle, mountain climbing, movie business, movielens top pick, moving, mozart, mtv, multiple storylines, mummy, muppets, murder, murder mystery, music, music business, musical, musicians, mutants, mystery, mythology, narrated, nasa, native americans, natural disaster, nature, nazi, nazis, neil gaiman, neo-nazis, neo-noir, nerds, new jersey, new orleans, new york, new york city, new zealand, ninja, no dialogue, no plot, nocturnal, noir, noir thriller, non-hollywood ending, non-linear, nonlinear, nostalgia, nostalgic, not as good as the first, not funny, notable nudity, notable soundtrack, nuclear, nuclear bomb, nuclear war, nudity, nudity (full frontal - brief), nudity (full frontal - notable), nudity (full frontal), nudity (rear), nudity (topless - brief), nudity (topless - notable), nudity (topless), obsession, ocean, off-beat comedy, office, oil, olympics, ominous, opera, organized crime, original, original plot, orphans, oscar, oscar (best actor), oscar (best actress), oscar (best animated feature), oscar (best cinematography), oscar (best directing), oscar (best editing), oscar (best effects - visual effects), oscar (best foreign language film), oscar (best music - original score), oscar (best music - original song), oscar (best picture), oscar (best sound), oscar (best supporting actor), oscar (best supporting actress), oscar (best writing - screenplay written directly for the screen), oscar winner, over the top, overrated, palestine, parallel universe, paranoia, paranoid, parenthood, paris, parody, passionate, penguins, perfect, period piece, peter pan, pg, pg-13, philip k. dick, philosophical, philosophy, photographer, photography, pigs, pirates, pixar, pixar animation, plot, plot holes, plot twist, poetry, poignant, pointless, poker, poland, police, police corruption, police investigation, political, political corruption, politics, pornography, post apocalyptic, post-apocalyptic, potential oscar nom, poverty, powerful ending, predictable, pregnancy, prejudice, prequel, president, pretentious, prison, prison escape, private detective, product placement, prohibition, propaganda, prostitution, psychedelic, psychiatrist, psychiatry, psychological, psychology, pulp, punk, puppets, queer, quirky, quotable, rabbits, race, race issues, racing, racism, radio, rags to riches, rape, rats, realistic, realistic action, reality tv, rebellion, redemption, reflective, relationships, religion, remade, remake, revenge, revolution, ridiculous, rio de janeiro, road movie, road trip, roald dahl, robbery, robert downey jr, robert ludlum, robot, robots, rock and roll, romance, romantic, romantic comedy, rome, runaway, russia, russian, sacrifice, sad, sad but good, samurai, san francisco, sappy, sarcasm, satire, satirical, saturday night live, saturn award (best science fiction film), saturn award (best special effects), scary, scenic, schizophrenia, school, sci fi, sci-fi, science, science fiction, scifi, scifi cult, scotland, screwball, screwball comedy, script, secret service, secrets, segregation, self discovery, sentimental, sequel, sequels, serial killer, series, sex, sex comedy, sexual, sexual abuse, sexuality, sexualized violence, sexy, shakespeare, shallow, shark, shopping, short, short-term memory loss, silent, silly, silly fun, simple, single father, sisters, skinhead, slackers, slapstick, slasher, slavery, slow, slow paced, small town, snakes, so bad it's funny, so bad it's good, soccer, social commentary, solitude, sophia coppola, south africa, south america, southern theme, space, space opera, space program, space travel, spaghetti western, spain, spanish, spanish civil war, special, special effects, spelling bee, spiders, spielberg, spies, splatter, spock, spoof, sports, spy, spying, stage magic, stand-up comedy, star trek, star wars, steampunk, stereotypes, stoner movie, stop motion, stop-motion, story, storytelling, stranded, strange, strippers, studio ghibli, stunning, stupid, stupid as hell, stupidity, stylish, stylized, submarine, suburbia, suicide, suicide attempt, super hero, super-hero, superhero, superheroes, supernatural, suprisingly clever, surfing, surprise ending, surreal, surrealism, surveillance, survival, suspense, suspenseful, swashbuckler, swedish, sweet, switching places, sword fight, sword fighting, talking animals, talky, tarantino, teacher, tear jerker, technology, teen, teen movie, teenager, teenagers, teens, teleportation, television, tense, terminal illness, terrorism, texas, thought-provoking, thriller, time, time loop, time travel, tokyo, tolkien, tom clancy, too long, too short, torture, touching, toys, tragedy, train, trains, transformation, transgender, travel, treasure, treasure hunt, tricky, trilogy, true story, truman capote, twist, twist ending, twists & turns, undercover cop, underdog, underrated, understated, underwater, unfunny, unintentionally funny, unique, united nations, unlikeable characters, unlikely friendships, unrealistic, unusual plot structure, us history, utopia, vampire, vampire human love, vampires, vengeance, very funny, very good, very interesting, video game, video game adaptation, video games, videogame, vienna, vietnam, vietnam war, view askew, vigilante, vigilantism, violence, violent, virginity, virtual reality, virus, visceral, visual, visually appealing, visually stunning, visuals, voodoo, voyeurism, war, war movie, wartime, waste of time, watch the credits, weapons, wedding, weed, weird, werewolf, werewolves, western, whimsical, wilderness, wine, wistful, witch, witches, witty, wizards, women, working class, workplace, world politics, world war i, world war ii, writer's life, writers, writing, wuxia, wwii, zombie, zombies);\n\tat org.apache.spark.sql.Dataset$$anonfun$resolve$1.apply(Dataset.scala:223)\n\tat org.apache.spark.sql.Dataset$$anonfun$resolve$1.apply(Dataset.scala:223)\n\tat scala.Option.getOrElse(Option.scala:121)\n\tat org.apache.spark.sql.Dataset.resolve(Dataset.scala:222)\n\tat org.apache.spark.sql.Dataset.col(Dataset.scala:1274)\n\tat org.apache.spark.sql.Dataset.apply(Dataset.scala:1241)\n\tat org.apache.spark.ml.feature.VectorAssembler$$anonfun$5.apply(VectorAssembler.scala:148)\n\tat org.apache.spark.ml.feature.VectorAssembler$$anonfun$5.apply(VectorAssembler.scala:146)\n\tat scala.collection.TraversableLike$$anonfun$map$1.apply(TraversableLike.scala:234)\n\tat scala.collection.TraversableLike$$anonfun$map$1.apply(TraversableLike.scala:234)\n\tat scala.collection.IndexedSeqOptimized$class.foreach(IndexedSeqOptimized.scala:33)\n\tat scala.collection.mutable.ArrayOps$ofRef.foreach(ArrayOps.scala:186)\n\tat scala.collection.TraversableLike$class.map(TraversableLike.scala:234)\n\tat scala.collection.mutable.ArrayOps$ofRef.map(ArrayOps.scala:186)\n\tat org.apache.spark.ml.feature.VectorAssembler.transform(VectorAssembler.scala:146)\n\tat sun.reflect.NativeMethodAccessorImpl.invoke0(Native Method)\n\tat sun.reflect.NativeMethodAccessorImpl.invoke(NativeMethodAccessorImpl.java:62)\n\tat sun.reflect.DelegatingMethodAccessorImpl.invoke(DelegatingMethodAccessorImpl.java:43)\n\tat java.lang.reflect.Method.invoke(Method.java:498)\n\tat py4j.reflection.MethodInvoker.invoke(MethodInvoker.java:244)\n\tat py4j.reflection.ReflectionEngine.invoke(ReflectionEngine.java:357)\n\tat py4j.Gateway.invoke(Gateway.java:282)\n\tat py4j.commands.AbstractCommand.invokeMethod(AbstractCommand.java:132)\n\tat py4j.commands.CallCommand.execute(CallCommand.java:79)\n\tat py4j.GatewayConnection.run(GatewayConnection.java:238)\n\tat java.lang.Thread.run(Thread.java:748)\n",
      "\nDuring handling of the above exception, another exception occurred:\n",
      "\u001b[0;31mAnalysisException\u001b[0m                         Traceback (most recent call last)",
      "\u001b[0;32m<ipython-input-9-fa75c9b103e8>\u001b[0m in \u001b[0;36m<module>\u001b[0;34m\u001b[0m\n\u001b[1;32m      3\u001b[0m \u001b[0mscaler\u001b[0m    \u001b[0;34m=\u001b[0m \u001b[0mStandardScaler\u001b[0m\u001b[0;34m(\u001b[0m\u001b[0minputCol\u001b[0m\u001b[0;34m=\u001b[0m\u001b[0;34m'features'\u001b[0m\u001b[0;34m,\u001b[0m \u001b[0moutputCol\u001b[0m\u001b[0;34m=\u001b[0m\u001b[0;34m'normFeats'\u001b[0m\u001b[0;34m,\u001b[0m \u001b[0mwithMean\u001b[0m\u001b[0;34m=\u001b[0m\u001b[0;32mTrue\u001b[0m\u001b[0;34m)\u001b[0m\u001b[0;34m\u001b[0m\u001b[0;34m\u001b[0m\u001b[0m\n\u001b[1;32m      4\u001b[0m \u001b[0;34m\u001b[0m\u001b[0m\n\u001b[0;32m----> 5\u001b[0;31m \u001b[0mdf\u001b[0m          \u001b[0;34m=\u001b[0m \u001b[0massembler\u001b[0m\u001b[0;34m.\u001b[0m\u001b[0mtransform\u001b[0m\u001b[0;34m(\u001b[0m\u001b[0mdf\u001b[0m\u001b[0;34m)\u001b[0m\u001b[0;34m\u001b[0m\u001b[0;34m\u001b[0m\u001b[0m\n\u001b[0m\u001b[1;32m      6\u001b[0m \u001b[0mscalerModel\u001b[0m \u001b[0;34m=\u001b[0m \u001b[0mscaler\u001b[0m\u001b[0;34m.\u001b[0m\u001b[0mfit\u001b[0m\u001b[0;34m(\u001b[0m\u001b[0mdf\u001b[0m\u001b[0;34m)\u001b[0m\u001b[0;34m\u001b[0m\u001b[0;34m\u001b[0m\u001b[0m\n\u001b[1;32m      7\u001b[0m \u001b[0mdf\u001b[0m          \u001b[0;34m=\u001b[0m \u001b[0mscalerModel\u001b[0m\u001b[0;34m.\u001b[0m\u001b[0mtransform\u001b[0m\u001b[0;34m(\u001b[0m\u001b[0mdf\u001b[0m\u001b[0;34m)\u001b[0m\u001b[0;34m\u001b[0m\u001b[0;34m\u001b[0m\u001b[0m\n",
      "\u001b[0;32m~/spark-2.4.4-bin-hadoop2.7/python/lib/pyspark.zip/pyspark/ml/base.py\u001b[0m in \u001b[0;36mtransform\u001b[0;34m(self, dataset, params)\u001b[0m\n\u001b[1;32m    171\u001b[0m                 \u001b[0;32mreturn\u001b[0m \u001b[0mself\u001b[0m\u001b[0;34m.\u001b[0m\u001b[0mcopy\u001b[0m\u001b[0;34m(\u001b[0m\u001b[0mparams\u001b[0m\u001b[0;34m)\u001b[0m\u001b[0;34m.\u001b[0m\u001b[0m_transform\u001b[0m\u001b[0;34m(\u001b[0m\u001b[0mdataset\u001b[0m\u001b[0;34m)\u001b[0m\u001b[0;34m\u001b[0m\u001b[0;34m\u001b[0m\u001b[0m\n\u001b[1;32m    172\u001b[0m             \u001b[0;32melse\u001b[0m\u001b[0;34m:\u001b[0m\u001b[0;34m\u001b[0m\u001b[0;34m\u001b[0m\u001b[0m\n\u001b[0;32m--> 173\u001b[0;31m                 \u001b[0;32mreturn\u001b[0m \u001b[0mself\u001b[0m\u001b[0;34m.\u001b[0m\u001b[0m_transform\u001b[0m\u001b[0;34m(\u001b[0m\u001b[0mdataset\u001b[0m\u001b[0;34m)\u001b[0m\u001b[0;34m\u001b[0m\u001b[0;34m\u001b[0m\u001b[0m\n\u001b[0m\u001b[1;32m    174\u001b[0m         \u001b[0;32melse\u001b[0m\u001b[0;34m:\u001b[0m\u001b[0;34m\u001b[0m\u001b[0;34m\u001b[0m\u001b[0m\n\u001b[1;32m    175\u001b[0m             \u001b[0;32mraise\u001b[0m \u001b[0mValueError\u001b[0m\u001b[0;34m(\u001b[0m\u001b[0;34m\"Params must be a param map but got %s.\"\u001b[0m \u001b[0;34m%\u001b[0m \u001b[0mtype\u001b[0m\u001b[0;34m(\u001b[0m\u001b[0mparams\u001b[0m\u001b[0;34m)\u001b[0m\u001b[0;34m)\u001b[0m\u001b[0;34m\u001b[0m\u001b[0;34m\u001b[0m\u001b[0m\n",
      "\u001b[0;32m~/spark-2.4.4-bin-hadoop2.7/python/lib/pyspark.zip/pyspark/ml/wrapper.py\u001b[0m in \u001b[0;36m_transform\u001b[0;34m(self, dataset)\u001b[0m\n\u001b[1;32m    310\u001b[0m     \u001b[0;32mdef\u001b[0m \u001b[0m_transform\u001b[0m\u001b[0;34m(\u001b[0m\u001b[0mself\u001b[0m\u001b[0;34m,\u001b[0m \u001b[0mdataset\u001b[0m\u001b[0;34m)\u001b[0m\u001b[0;34m:\u001b[0m\u001b[0;34m\u001b[0m\u001b[0;34m\u001b[0m\u001b[0m\n\u001b[1;32m    311\u001b[0m         \u001b[0mself\u001b[0m\u001b[0;34m.\u001b[0m\u001b[0m_transfer_params_to_java\u001b[0m\u001b[0;34m(\u001b[0m\u001b[0;34m)\u001b[0m\u001b[0;34m\u001b[0m\u001b[0;34m\u001b[0m\u001b[0m\n\u001b[0;32m--> 312\u001b[0;31m         \u001b[0;32mreturn\u001b[0m \u001b[0mDataFrame\u001b[0m\u001b[0;34m(\u001b[0m\u001b[0mself\u001b[0m\u001b[0;34m.\u001b[0m\u001b[0m_java_obj\u001b[0m\u001b[0;34m.\u001b[0m\u001b[0mtransform\u001b[0m\u001b[0;34m(\u001b[0m\u001b[0mdataset\u001b[0m\u001b[0;34m.\u001b[0m\u001b[0m_jdf\u001b[0m\u001b[0;34m)\u001b[0m\u001b[0;34m,\u001b[0m \u001b[0mdataset\u001b[0m\u001b[0;34m.\u001b[0m\u001b[0msql_ctx\u001b[0m\u001b[0;34m)\u001b[0m\u001b[0;34m\u001b[0m\u001b[0;34m\u001b[0m\u001b[0m\n\u001b[0m\u001b[1;32m    313\u001b[0m \u001b[0;34m\u001b[0m\u001b[0m\n\u001b[1;32m    314\u001b[0m \u001b[0;34m\u001b[0m\u001b[0m\n",
      "\u001b[0;32m~/spark-2.4.4-bin-hadoop2.7/python/lib/py4j-0.10.7-src.zip/py4j/java_gateway.py\u001b[0m in \u001b[0;36m__call__\u001b[0;34m(self, *args)\u001b[0m\n\u001b[1;32m   1255\u001b[0m         \u001b[0manswer\u001b[0m \u001b[0;34m=\u001b[0m \u001b[0mself\u001b[0m\u001b[0;34m.\u001b[0m\u001b[0mgateway_client\u001b[0m\u001b[0;34m.\u001b[0m\u001b[0msend_command\u001b[0m\u001b[0;34m(\u001b[0m\u001b[0mcommand\u001b[0m\u001b[0;34m)\u001b[0m\u001b[0;34m\u001b[0m\u001b[0;34m\u001b[0m\u001b[0m\n\u001b[1;32m   1256\u001b[0m         return_value = get_return_value(\n\u001b[0;32m-> 1257\u001b[0;31m             answer, self.gateway_client, self.target_id, self.name)\n\u001b[0m\u001b[1;32m   1258\u001b[0m \u001b[0;34m\u001b[0m\u001b[0m\n\u001b[1;32m   1259\u001b[0m         \u001b[0;32mfor\u001b[0m \u001b[0mtemp_arg\u001b[0m \u001b[0;32min\u001b[0m \u001b[0mtemp_args\u001b[0m\u001b[0;34m:\u001b[0m\u001b[0;34m\u001b[0m\u001b[0;34m\u001b[0m\u001b[0m\n",
      "\u001b[0;32m~/spark-2.4.4-bin-hadoop2.7/python/lib/pyspark.zip/pyspark/sql/utils.py\u001b[0m in \u001b[0;36mdeco\u001b[0;34m(*a, **kw)\u001b[0m\n\u001b[1;32m     67\u001b[0m                                              e.java_exception.getStackTrace()))\n\u001b[1;32m     68\u001b[0m             \u001b[0;32mif\u001b[0m \u001b[0ms\u001b[0m\u001b[0;34m.\u001b[0m\u001b[0mstartswith\u001b[0m\u001b[0;34m(\u001b[0m\u001b[0;34m'org.apache.spark.sql.AnalysisException: '\u001b[0m\u001b[0;34m)\u001b[0m\u001b[0;34m:\u001b[0m\u001b[0;34m\u001b[0m\u001b[0;34m\u001b[0m\u001b[0m\n\u001b[0;32m---> 69\u001b[0;31m                 \u001b[0;32mraise\u001b[0m \u001b[0mAnalysisException\u001b[0m\u001b[0;34m(\u001b[0m\u001b[0ms\u001b[0m\u001b[0;34m.\u001b[0m\u001b[0msplit\u001b[0m\u001b[0;34m(\u001b[0m\u001b[0;34m': '\u001b[0m\u001b[0;34m,\u001b[0m \u001b[0;36m1\u001b[0m\u001b[0;34m)\u001b[0m\u001b[0;34m[\u001b[0m\u001b[0;36m1\u001b[0m\u001b[0;34m]\u001b[0m\u001b[0;34m,\u001b[0m \u001b[0mstackTrace\u001b[0m\u001b[0;34m)\u001b[0m\u001b[0;34m\u001b[0m\u001b[0;34m\u001b[0m\u001b[0m\n\u001b[0m\u001b[1;32m     70\u001b[0m             \u001b[0;32mif\u001b[0m \u001b[0ms\u001b[0m\u001b[0;34m.\u001b[0m\u001b[0mstartswith\u001b[0m\u001b[0;34m(\u001b[0m\u001b[0;34m'org.apache.spark.sql.catalyst.analysis'\u001b[0m\u001b[0;34m)\u001b[0m\u001b[0;34m:\u001b[0m\u001b[0;34m\u001b[0m\u001b[0;34m\u001b[0m\u001b[0m\n\u001b[1;32m     71\u001b[0m                 \u001b[0;32mraise\u001b[0m \u001b[0mAnalysisException\u001b[0m\u001b[0;34m(\u001b[0m\u001b[0ms\u001b[0m\u001b[0;34m.\u001b[0m\u001b[0msplit\u001b[0m\u001b[0;34m(\u001b[0m\u001b[0;34m': '\u001b[0m\u001b[0;34m,\u001b[0m \u001b[0;36m1\u001b[0m\u001b[0;34m)\u001b[0m\u001b[0;34m[\u001b[0m\u001b[0;36m1\u001b[0m\u001b[0;34m]\u001b[0m\u001b[0;34m,\u001b[0m \u001b[0mstackTrace\u001b[0m\u001b[0;34m)\u001b[0m\u001b[0;34m\u001b[0m\u001b[0;34m\u001b[0m\u001b[0m\n",
      "\u001b[0;31mAnalysisException\u001b[0m: 'Cannot resolve column name \"c.s. lewis\" among (title, 007, 007 (series), 18th century, 1920s, 1930s, 1950s, 1960s, 1970s, 1980s, 19th century, 3d, 70mm, 80s, 9/11, aardman, aardman studios, abortion, absurd, action, action packed, adaptation, adapted from:book, adapted from:comic, adapted from:game, addiction, adolescence, adoption, adultery, adventure, affectionate, afi 100, afi 100 (laughs), afi 100 (movie quotes), africa, afterlife, aging, aids, airplane, airport, alaska, alcatraz, alcoholism, alien, alien invasion, aliens, allegory, almodovar, alone in the world, alter ego, alternate endings, alternate history, alternate reality, alternate universe, amazing cinematography, amazing photography, american civil war, amnesia, amy smart, android(s)/cyborg(s), androids, animal movie, animals, animated, animation, anime, antarctica, anti-hero, anti-semitism, anti-war, apocalypse, archaeology, argentina, arms dealer, arnold, art, art house, artificial intelligence, artist, artistic, artsy, assassin, assassination, assassins, astronauts, atheism, atmospheric, australia, australian, author:alan moore, author:neil gaiman, autism, aviation, awesome, awesome soundtrack, awful, bad, bad acting, bad cgi, bad ending, bad plot, bad science, bad script, bad sequel, ballet, bank robbery, baseball, based on a book, based on a comic, based on a play, based on a true story, based on a tv show, based on a video game, based on book, based on comic, based on true story, basketball, batman, bdsm, beatles, beautiful, beautiful scenery, beautifully filmed, beauty pageant, beer, berlin, best of 2005, best war films, betrayal, better than expected, better than the american version, biblical, big budget, biographical, biography, biopic, birds, biting, bittersweet, bizarre, black and white, black comedy, blaxploitation, bleak, blindness, blood, bloody, boarding school, boat, bollywood, bombs, bond, book, book was better, books, boring, boring!, boston, bowling, boxing, brainwashing, brazil, breathtaking, brilliant, british, british comedy, broadway, brothers, brutal, brutality, buddy movie, bullshit history, bullying, business, c.s. lewis, california, camp, campy, canada, cancer, cannibalism, caper, capitalism, car chase, carrie-anne moss, cars, cartoon, casino, catastrophe, cathartic, catholicism, censorship, cerebral, cgi, character study, chase, cheating, cheerleading, cheesy, chess, chicago, chick flick, child abuse, childhood, children, china, chocolate, chris tucker, christian, christianity, christmas, cia, cinematography, circus, civil war, classic, classic car, classical music, claustrophobic, claymation, clever, clones, cloning, clowns, coen bros, coen brothers, cold war, college, colonialism, colourful, comedy, comic, comic book, comic book adaption, comics, coming of age, coming-of-age, communism, compassionate, competition, complex, complex characters, complicated, complicated plot, computer animation, computer game, computers, con artists, con men, confrontational, confusing, conspiracy, conspiracy theory, controversial, cooking, cool, corny, corporate america, corruption, costume drama, courage, court, courtroom, courtroom drama, crappy sequel, crazy, creativity, creepy, crime, crime gone awry, criterion, cross dressing, crude humor, cuba, cult, cult classic, cult film, culture clash, cute, cute!, cyberpunk, cyborgs, cynical, dance, dancing, dark, dark comedy, dark fantasy, dark hero, dark humor, dc comics, deadpan, death, death penalty, demons, depp & burton, depressing, depression, desert, destiny, detective, devil, dialogue, dialogue driven, dinosaurs, directorial debut, disability, disappointing, disaster, disney, disney animated feature, distopia, disturbing, divorce, doctors, documentary, dog, dogs, dolphins, downbeat, dr. seuss, dragon, dragons, drama, dramatic, dreamlike, dreams, dreamworks, drinking, drug abuse, drug addiction, drugs, dumb, dumb but funny, dynamic cgi action, dysfunctional family, dystopia, dystopic future, earnest, easily confused with other movie(s) (title), east germany, eccentricity, ecology, educational, eerie, effects, egypt, emma watson, emotional, end of the world, england, enigmatic, ennio morricone, enormously long battle scene, ensemble cast, entertaining, entirely dialogue, environment, environmental, epic, erotic, espionage, ethnic conflict, evolution, excellent, excellent script, exceptional acting, exciting, existentialism, explosions, factual, fairy tale, fairy tales, fake documentary, family, family bonds, family drama, fantasy, fantasy world, farce, fascism, fashion, fast paced, father daughter relationship, father son relationship, father-son relationship, fbi, feel good movie, feel-good, fight scenes, fighting, fighting the system, figure skating, film noir, finnish, firefly, first contact, fish, flashbacks, food, football, forceful, foreign, foul language, fountain of youth, france, franchise, francis ford copolla, free speech, free to download, freedom, french, friendship, frightening, fun, fun movie, funniest movies, funny, funny as hell, future, futuristic, gambling, gangs, gangster, gangsters, gay, gay character, geek, geeks, genetics, genius, genocide, george orwell, german, germany, ghosts, ghosts/afterlife, giant robots, gilliam, girlie movie, glbt, global warming, god, golden palm, golf, good, good acting, good action, good dialogue, good music, good romantic comedies, good sequel, good soundtrack, good story, good versus evil, goofy, gore, goretastic, gory, goth, gothic, graphic design, graphic novel, gratuitous violence, great, great acting, great cinematography, great dialogue, great ending, great movie, great music, great soundtrack, greed, grim, grindhouse, gritty, gross-out, gruesome, guilt, guilty pleasure, gulf war, gunfight, guns, gypsy accent, hackers, hacking, halloween, hallucinatory, handycam, hannibal lecter, happy ending, hard to watch, harry potter, harsh, haunted house, hawaii, heartbreaking, heartwarming, heist, heroin, heroine, heroine in tight suit, high fantasy, high school, highly quotable, hilarious, hillarious, hip hop, historical, history, hit men, hitchcock, hitman, holiday, hollywood, holocaust, homeless, homophobia, homosexuality, honest, hong kong, horrible, horror, horses, hospital, hostage, hotel, humanity, humor, humorous, hunting, idealism, identity, idiotic, imaginary friend, imagination, imdb top 250, immigrants, immortality, incest, independent film, india, indiana jones, indians, indie, infidelity, innocence lost, insanity, inspirational, inspiring, intellectual, intelligent, intelligent sci-fi, intense, interesting, internet, interracial romance, intimate, investigation, iran, iraq, iraq war, ireland, irish, irish accent, ironic, irreverent, islam, island, isolation, israel, italian, italy, james bond, jane austen, japan, japanese, jay and silent bob, jazz, jesus, jewish, jews, journalism, judaism, jungle, justice, kick-butt women, kidnapping, kids, kids and family, king arthur, kubrick, kung fu, kurosawa, lame, las vegas, latin america, lawyer, lawyers, lesbian, life, life & death, life philosophy, light, lions, literary adaptation, literature, liv tyler, london, lone hero, loneliness, long, los angeles, love, love story, love triangles, low budget, lynch, lyrical, macabre, mad scientist, made for tv, mafia, magic, magic realism, male nudity, man versus machine, manipulation, marijuana, marriage, mars, martial arts, marvel, marx brothers, masterpiece, math, mathematics, maze, medieval, meditative, melancholic, melancholy, memory, memory loss, mental hospital, mental illness, mentor, metaphysics, mexico, middle east, midlife crisis, military, mindfuck, mining, minnesota, mission from god, mistaken identity, miyazaki, mob, mockumentary, modern fantasy, money, monkey, monster, monsters, monty python, moody, moon, moral ambiguity, morality, mother daughter relationship, mother-son relationship, motorcycle, mountain climbing, movie business, movielens top pick, moving, mozart, mtv, multiple storylines, mummy, muppets, murder, murder mystery, music, music business, musical, musicians, mutants, mystery, mythology, narrated, nasa, native americans, natural disaster, nature, nazi, nazis, neil gaiman, neo-nazis, neo-noir, nerds, new jersey, new orleans, new york, new york city, new zealand, ninja, no dialogue, no plot, nocturnal, noir, noir thriller, non-hollywood ending, non-linear, nonlinear, nostalgia, nostalgic, not as good as the first, not funny, notable nudity, notable soundtrack, nuclear, nuclear bomb, nuclear war, nudity, nudity (full frontal - brief), nudity (full frontal - notable), nudity (full frontal), nudity (rear), nudity (topless - brief), nudity (topless - notable), nudity (topless), obsession, ocean, off-beat comedy, office, oil, olympics, ominous, opera, organized crime, original, original plot, orphans, oscar, oscar (best actor), oscar (best actress), oscar (best animated feature), oscar (best cinematography), oscar (best directing), oscar (best editing), oscar (best effects - visual effects), oscar (best foreign language film), oscar (best music - original score), oscar (best music - original song), oscar (best picture), oscar (best sound), oscar (best supporting actor), oscar (best supporting actress), oscar (best writing - screenplay written directly for the screen), oscar winner, over the top, overrated, palestine, parallel universe, paranoia, paranoid, parenthood, paris, parody, passionate, penguins, perfect, period piece, peter pan, pg, pg-13, philip k. dick, philosophical, philosophy, photographer, photography, pigs, pirates, pixar, pixar animation, plot, plot holes, plot twist, poetry, poignant, pointless, poker, poland, police, police corruption, police investigation, political, political corruption, politics, pornography, post apocalyptic, post-apocalyptic, potential oscar nom, poverty, powerful ending, predictable, pregnancy, prejudice, prequel, president, pretentious, prison, prison escape, private detective, product placement, prohibition, propaganda, prostitution, psychedelic, psychiatrist, psychiatry, psychological, psychology, pulp, punk, puppets, queer, quirky, quotable, rabbits, race, race issues, racing, racism, radio, rags to riches, rape, rats, realistic, realistic action, reality tv, rebellion, redemption, reflective, relationships, religion, remade, remake, revenge, revolution, ridiculous, rio de janeiro, road movie, road trip, roald dahl, robbery, robert downey jr, robert ludlum, robot, robots, rock and roll, romance, romantic, romantic comedy, rome, runaway, russia, russian, sacrifice, sad, sad but good, samurai, san francisco, sappy, sarcasm, satire, satirical, saturday night live, saturn award (best science fiction film), saturn award (best special effects), scary, scenic, schizophrenia, school, sci fi, sci-fi, science, science fiction, scifi, scifi cult, scotland, screwball, screwball comedy, script, secret service, secrets, segregation, self discovery, sentimental, sequel, sequels, serial killer, series, sex, sex comedy, sexual, sexual abuse, sexuality, sexualized violence, sexy, shakespeare, shallow, shark, shopping, short, short-term memory loss, silent, silly, silly fun, simple, single father, sisters, skinhead, slackers, slapstick, slasher, slavery, slow, slow paced, small town, snakes, so bad it\\'s funny, so bad it\\'s good, soccer, social commentary, solitude, sophia coppola, south africa, south america, southern theme, space, space opera, space program, space travel, spaghetti western, spain, spanish, spanish civil war, special, special effects, spelling bee, spiders, spielberg, spies, splatter, spock, spoof, sports, spy, spying, stage magic, stand-up comedy, star trek, star wars, steampunk, stereotypes, stoner movie, stop motion, stop-motion, story, storytelling, stranded, strange, strippers, studio ghibli, stunning, stupid, stupid as hell, stupidity, stylish, stylized, submarine, suburbia, suicide, suicide attempt, super hero, super-hero, superhero, superheroes, supernatural, suprisingly clever, surfing, surprise ending, surreal, surrealism, surveillance, survival, suspense, suspenseful, swashbuckler, swedish, sweet, switching places, sword fight, sword fighting, talking animals, talky, tarantino, teacher, tear jerker, technology, teen, teen movie, teenager, teenagers, teens, teleportation, television, tense, terminal illness, terrorism, texas, thought-provoking, thriller, time, time loop, time travel, tokyo, tolkien, tom clancy, too long, too short, torture, touching, toys, tragedy, train, trains, transformation, transgender, travel, treasure, treasure hunt, tricky, trilogy, true story, truman capote, twist, twist ending, twists & turns, undercover cop, underdog, underrated, understated, underwater, unfunny, unintentionally funny, unique, united nations, unlikeable characters, unlikely friendships, unrealistic, unusual plot structure, us history, utopia, vampire, vampire human love, vampires, vengeance, very funny, very good, very interesting, video game, video game adaptation, video games, videogame, vienna, vietnam, vietnam war, view askew, vigilante, vigilantism, violence, violent, virginity, virtual reality, virus, visceral, visual, visually appealing, visually stunning, visuals, voodoo, voyeurism, war, war movie, wartime, waste of time, watch the credits, weapons, wedding, weed, weird, werewolf, werewolves, western, whimsical, wilderness, wine, wistful, witch, witches, witty, wizards, women, working class, workplace, world politics, world war i, world war ii, writer\\'s life, writers, writing, wuxia, wwii, zombie, zombies);'"
     ]
    },
    {
     "name": "stdout",
     "output_type": "stream",
     "text": [
      "time: 1 s (started: 2022-08-22 14:58:54 +00:00)\n"
     ]
    }
   ],
   "source": [
    "assembler = VectorAssembler(inputCols=[c for c in df.columns if c != 'title'],\n",
    "                            outputCol='features')\n",
    "scaler    = StandardScaler(inputCol='features', outputCol='normFeats', withMean=True)\n",
    "\n",
    "df          = assembler.transform(df)\n",
    "scalerModel = scaler.fit(df)\n",
    "df          = scalerModel.transform(df)"
   ]
  },
  {
   "cell_type": "markdown",
   "metadata": {},
   "source": [
    "## Q: What went wrong?"
   ]
  },
  {
   "cell_type": "code",
   "execution_count": 10,
   "metadata": {},
   "outputs": [
    {
     "name": "stdout",
     "output_type": "stream",
     "text": [
      "time: 231 ms (started: 2022-08-22 15:00:19 +00:00)\n"
     ]
    }
   ],
   "source": [
    "newCols = []\n",
    "\n",
    "for c in df.columns:\n",
    "    if \".\" in c:\n",
    "        new_column = c.replace('.', '_')\n",
    "        df = df.withColumnRenamed(c, new_column)\n",
    "        newCols.append(new_column)\n",
    "    else:\n",
    "        newCols.append(c)"
   ]
  },
  {
   "cell_type": "code",
   "execution_count": 11,
   "metadata": {},
   "outputs": [
    {
     "name": "stdout",
     "output_type": "stream",
     "text": [
      "time: 9.13 s (started: 2022-08-22 15:00:20 +00:00)\n"
     ]
    }
   ],
   "source": [
    "assembler = VectorAssembler(inputCols=[c for c in newCols if c != 'title'],\n",
    "                            outputCol='features')\n",
    "scaler    = StandardScaler(inputCol='features', outputCol='normFeats', withMean=True)\n",
    "\n",
    "df          = assembler.transform(df)\n",
    "scalerModel = scaler.fit(df)\n",
    "df          = scalerModel.transform(df)"
   ]
  },
  {
   "cell_type": "markdown",
   "metadata": {},
   "source": [
    "## PCA"
   ]
  },
  {
   "cell_type": "code",
   "execution_count": 12,
   "metadata": {},
   "outputs": [
    {
     "name": "stdout",
     "output_type": "stream",
     "text": [
      "time: 329 ms (started: 2022-08-22 15:00:29 +00:00)\n"
     ]
    }
   ],
   "source": [
    "rdd = df.select('normFeats').rdd"
   ]
  },
  {
   "cell_type": "code",
   "execution_count": 13,
   "metadata": {},
   "outputs": [
    {
     "name": "stdout",
     "output_type": "stream",
     "text": [
      "time: 90.2 ms (started: 2022-08-22 15:00:29 +00:00)\n"
     ]
    }
   ],
   "source": [
    "from pyspark.mllib.linalg.distributed import RowMatrix\n",
    "from pyspark.mllib.linalg import Vectors"
   ]
  },
  {
   "cell_type": "code",
   "execution_count": 14,
   "metadata": {},
   "outputs": [
    {
     "name": "stdout",
     "output_type": "stream",
     "text": [
      "time: 1.88 ms (started: 2022-08-22 15:00:29 +00:00)\n"
     ]
    }
   ],
   "source": [
    "vectors = rdd.map(Vectors.dense)"
   ]
  },
  {
   "cell_type": "code",
   "execution_count": 15,
   "metadata": {},
   "outputs": [
    {
     "name": "stdout",
     "output_type": "stream",
     "text": [
      "time: 81.6 ms (started: 2022-08-22 15:00:29 +00:00)\n"
     ]
    }
   ],
   "source": [
    "matrix = RowMatrix(vectors)"
   ]
  },
  {
   "cell_type": "markdown",
   "metadata": {},
   "source": [
    "## Get the PCs"
   ]
  },
  {
   "cell_type": "code",
   "execution_count": 16,
   "metadata": {},
   "outputs": [
    {
     "name": "stdout",
     "output_type": "stream",
     "text": [
      "time: 26.4 s (started: 2022-08-22 15:00:29 +00:00)\n"
     ]
    }
   ],
   "source": [
    "pc = matrix.computePrincipalComponents(2)"
   ]
  },
  {
   "cell_type": "code",
   "execution_count": 17,
   "metadata": {},
   "outputs": [
    {
     "name": "stdout",
     "output_type": "stream",
     "text": [
      "time: 20 ms (started: 2022-08-22 15:00:56 +00:00)\n"
     ]
    }
   ],
   "source": [
    "matrix_reduced = matrix.multiply(pc)"
   ]
  },
  {
   "cell_type": "code",
   "execution_count": 18,
   "metadata": {},
   "outputs": [
    {
     "name": "stdout",
     "output_type": "stream",
     "text": [
      "time: 468 µs (started: 2022-08-22 15:00:56 +00:00)\n"
     ]
    }
   ],
   "source": [
    "import numpy as np"
   ]
  },
  {
   "cell_type": "code",
   "execution_count": 19,
   "metadata": {},
   "outputs": [
    {
     "name": "stdout",
     "output_type": "stream",
     "text": [
      "time: 6.62 s (started: 2022-08-22 15:00:56 +00:00)\n"
     ]
    }
   ],
   "source": [
    "x_red = np.array(matrix_reduced.rows.collect())"
   ]
  },
  {
   "cell_type": "code",
   "execution_count": 20,
   "metadata": {},
   "outputs": [
    {
     "name": "stdout",
     "output_type": "stream",
     "text": [
      "time: 416 µs (started: 2022-08-22 15:01:02 +00:00)\n"
     ]
    }
   ],
   "source": [
    "import matplotlib.pyplot as plt"
   ]
  },
  {
   "cell_type": "code",
   "execution_count": 21,
   "metadata": {},
   "outputs": [
    {
     "data": {
      "image/png": "[encoded data removed]",
      "text/plain": [
       "<Figure size 432x288 with 1 Axes>"
      ]
     },
     "metadata": {
      "needs_background": "light"
     },
     "output_type": "display_data"
    },
    {
     "name": "stdout",
     "output_type": "stream",
     "text": [
      "time: 247 ms (started: 2022-08-22 15:01:02 +00:00)\n"
     ]
    }
   ],
   "source": [
    "plt.scatter(*x_red.T)\n",
    "plt.show()"
   ]
  },
  {
   "cell_type": "markdown",
   "metadata": {},
   "source": [
    "## Draw loading vectors - but how many?"
   ]
  },
  {
   "cell_type": "code",
   "execution_count": 22,
   "metadata": {},
   "outputs": [
    {
     "name": "stdout",
     "output_type": "stream",
     "text": [
      "time: 396 µs (started: 2022-08-22 15:01:03 +00:00)\n"
     ]
    }
   ],
   "source": [
    "from pyspark.ml.stat import Summarizer"
   ]
  },
  {
   "cell_type": "code",
   "execution_count": 23,
   "metadata": {},
   "outputs": [
    {
     "name": "stdout",
     "output_type": "stream",
     "text": [
      "+--------------------------------+\n",
      "|aggregate_metrics(features, 1.0)|\n",
      "+--------------------------------+\n",
      "|            [[0.0051091225963...|\n",
      "+--------------------------------+\n",
      "\n",
      "time: 4.02 s (started: 2022-08-22 15:01:03 +00:00)\n"
     ]
    }
   ],
   "source": [
    "summarizer = Summarizer.metrics(\"variance\")\n",
    "variance = df.select(summarizer.summary(df.features))\n",
    "variance.show()"
   ]
  },
  {
   "cell_type": "code",
   "execution_count": 24,
   "metadata": {},
   "outputs": [
    {
     "name": "stdout",
     "output_type": "stream",
     "text": [
      "time: 4.05 s (started: 2022-08-22 15:01:07 +00:00)\n"
     ]
    }
   ],
   "source": [
    "x = variance.take(1)[0]\n",
    "variance = x.asDict()['aggregate_metrics(features, 1.0)'].asDict()['variance']\n",
    "ix = variance.toArray().argsort()\n",
    "ix = ix[::-1]"
   ]
  },
  {
   "cell_type": "code",
   "execution_count": 25,
   "metadata": {},
   "outputs": [
    {
     "name": "stdout",
     "output_type": "stream",
     "text": [
      "time: 1.27 ms (started: 2022-08-22 15:01:11 +00:00)\n"
     ]
    }
   ],
   "source": [
    "sortedCols = []\n",
    "for i in ix[:5]:\n",
    "    sortedCols.append((i, df.columns[i]))"
   ]
  },
  {
   "cell_type": "code",
   "execution_count": 26,
   "metadata": {},
   "outputs": [
    {
     "data": {
      "text/plain": [
       "[(229, 'colourful'),\n",
       " (18, 'absurd'),\n",
       " (845, 'reflective'),\n",
       " (521, 'horrible'),\n",
       " (1019, 'television')]"
      ]
     },
     "execution_count": 26,
     "metadata": {},
     "output_type": "execute_result"
    },
    {
     "name": "stdout",
     "output_type": "stream",
     "text": [
      "time: 3.7 ms (started: 2022-08-22 15:01:11 +00:00)\n"
     ]
    }
   ],
   "source": [
    "sortedCols"
   ]
  },
  {
   "cell_type": "code",
   "execution_count": 27,
   "metadata": {},
   "outputs": [
    {
     "data": {
      "image/png": "[encoded data removed]",
      "text/plain": [
       "<Figure size 720x576 with 1 Axes>"
      ]
     },
     "metadata": {
      "needs_background": "light"
     },
     "output_type": "display_data"
    },
    {
     "name": "stdout",
     "output_type": "stream",
     "text": [
      "time: 279 ms (started: 2022-08-22 15:01:11 +00:00)\n"
     ]
    }
   ],
   "source": [
    "fig, ax = plt.subplots(figsize=(10, 8))\n",
    "ax.scatter(*x_red.T)\n",
    "pc_matrix = pc.toArray()\n",
    "for i, tag in sortedCols:\n",
    "    xx, yy = pc_matrix[i, :] * 500\n",
    "    ax.arrow(0, 0, xx, yy, color='r', width=0.05, length_includes_head=True, head_width=0.5)\n",
    "    ax.text(xx, yy, tag)\n",
    "plt.show()"
   ]
  },
  {
   "cell_type": "markdown",
   "metadata": {},
   "source": [
    "## Q: How can the same movies be colourful and horrible? 🤔"
   ]
  },
  {
   "cell_type": "code",
   "execution_count": 28,
   "metadata": {},
   "outputs": [
    {
     "name": "stdout",
     "output_type": "stream",
     "text": [
      "time: 149 ms (started: 2022-08-22 15:01:11 +00:00)\n"
     ]
    }
   ],
   "source": [
    "x = df.select('colourful').rdd\n",
    "y = df.select('horrible').rdd"
   ]
  },
  {
   "cell_type": "code",
   "execution_count": 29,
   "metadata": {},
   "outputs": [
    {
     "data": {
      "image/png": "[encoded data removed]",
      "text/plain": [
       "<Figure size 432x288 with 1 Axes>"
      ]
     },
     "metadata": {
      "needs_background": "light"
     },
     "output_type": "display_data"
    },
    {
     "name": "stdout",
     "output_type": "stream",
     "text": [
      "time: 4.87 s (started: 2022-08-22 15:01:11 +00:00)\n"
     ]
    }
   ],
   "source": [
    "plt.figure()\n",
    "plt.scatter(np.array(x.collect()), np.array(y.collect()))\n",
    "plt.xlabel('Colourful')\n",
    "plt.ylabel('horrible')\n",
    "plt.show()"
   ]
  },
  {
   "cell_type": "markdown",
   "metadata": {},
   "source": [
    "### Finding the explained variance ratio"
   ]
  },
  {
   "cell_type": "code",
   "execution_count": 30,
   "metadata": {},
   "outputs": [
    {
     "name": "stdout",
     "output_type": "stream",
     "text": [
      "time: 6.42 s (started: 2022-08-22 15:01:16 +00:00)\n"
     ]
    }
   ],
   "source": [
    "reduced_rows = matrix_reduced.rows.map(np.array).collect()\n",
    "reduced_matrix = np.array(reduced_rows)"
   ]
  },
  {
   "cell_type": "code",
   "execution_count": 31,
   "metadata": {},
   "outputs": [
    {
     "data": {
      "text/plain": [
       "array([[  5.58054521, -18.61097667],\n",
       "       [-11.10831191, -13.98894961],\n",
       "       [ -9.60671636,   1.29851508],\n",
       "       ...,\n",
       "       [  3.37264156,  -4.75801367],\n",
       "       [ 11.39168713, -10.67942055],\n",
       "       [  1.9800589 ,  -9.38538052]])"
      ]
     },
     "execution_count": 31,
     "metadata": {},
     "output_type": "execute_result"
    },
    {
     "name": "stdout",
     "output_type": "stream",
     "text": [
      "time: 3.41 ms (started: 2022-08-22 15:01:22 +00:00)\n"
     ]
    }
   ],
   "source": [
    "reduced_matrix"
   ]
  },
  {
   "cell_type": "code",
   "execution_count": 32,
   "metadata": {},
   "outputs": [
    {
     "data": {
      "text/plain": [
       "16.08566867393065"
      ]
     },
     "execution_count": 32,
     "metadata": {},
     "output_type": "execute_result"
    },
    {
     "name": "stdout",
     "output_type": "stream",
     "text": [
      "time: 4.41 ms (started: 2022-08-22 15:01:22 +00:00)\n"
     ]
    }
   ],
   "source": [
    "reduced_matrix.var(axis=0).sum() / (len(df.columns) - 3) * 100"
   ]
  },
  {
   "cell_type": "markdown",
   "metadata": {},
   "source": [
    "### Increase the number of components"
   ]
  },
  {
   "cell_type": "code",
   "execution_count": 33,
   "metadata": {},
   "outputs": [
    {
     "name": "stdout",
     "output_type": "stream",
     "text": [
      "time: 22.1 s (started: 2022-08-22 15:01:22 +00:00)\n"
     ]
    }
   ],
   "source": [
    "pc = matrix.computePrincipalComponents(100)\n",
    "matrix_reduced = matrix.multiply(pc)"
   ]
  },
  {
   "cell_type": "code",
   "execution_count": 34,
   "metadata": {},
   "outputs": [
    {
     "data": {
      "text/plain": [
       "67.71827823640295"
      ]
     },
     "execution_count": 34,
     "metadata": {},
     "output_type": "execute_result"
    },
    {
     "name": "stdout",
     "output_type": "stream",
     "text": [
      "time: 7.07 s (started: 2022-08-22 15:01:45 +00:00)\n"
     ]
    }
   ],
   "source": [
    "reduced_rows = matrix_reduced.rows.map(np.array).collect()\n",
    "reduced_matrix = np.array(reduced_rows)\n",
    "reduced_matrix.var(axis=0).sum() / (len(df.columns) - 3) * 100"
   ]
  },
  {
   "cell_type": "code",
   "execution_count": 35,
   "metadata": {},
   "outputs": [
    {
     "name": "stdout",
     "output_type": "stream",
     "text": [
      "time: 23.6 s (started: 2022-08-22 15:01:52 +00:00)\n"
     ]
    }
   ],
   "source": [
    "pc = matrix.computePrincipalComponents(500)\n",
    "matrix_reduced = matrix.multiply(pc)"
   ]
  },
  {
   "cell_type": "code",
   "execution_count": 36,
   "metadata": {},
   "outputs": [
    {
     "data": {
      "text/plain": [
       "91.08367022946851"
      ]
     },
     "execution_count": 36,
     "metadata": {},
     "output_type": "execute_result"
    },
    {
     "name": "stdout",
     "output_type": "stream",
     "text": [
      "time: 9.12 s (started: 2022-08-22 15:02:15 +00:00)\n"
     ]
    }
   ],
   "source": [
    "reduced_rows = matrix_reduced.rows.map(np.array).collect()\n",
    "reduced_matrix = np.array(reduced_rows)\n",
    "reduced_matrix.var(axis=0).sum() / (len(df.columns) - 3) * 100"
   ]
  },
  {
   "cell_type": "code",
   "execution_count": null,
   "metadata": {},
   "outputs": [],
   "source": []
  }
 ],
 "metadata": {
  "kernelspec": {
   "display_name": "Python 3",
   "language": "python",
   "name": "python3"
  },
  "language_info": {
   "codemirror_mode": {
    "name": "ipython",
    "version": 3
   },
   "file_extension": ".py",
   "mimetype": "text/x-python",
   "name": "python",
   "nbconvert_exporter": "python",
   "pygments_lexer": "ipython3",
   "version": "3.7.9"
  },
  "vscode": {
   "interpreter": {
    "hash": "b0fa6594d8f4cbf19f97940f81e996739fb7646882a419484c72d19e05852a7e"
   }
  }
 },
 "nbformat": 4,
 "nbformat_minor": 4
}
