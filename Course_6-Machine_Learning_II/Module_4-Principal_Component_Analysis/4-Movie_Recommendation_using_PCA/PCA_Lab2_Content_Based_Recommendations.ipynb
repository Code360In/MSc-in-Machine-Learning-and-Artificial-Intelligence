{
  "cells": [
    {
      "cell_type": "code",
      "source": [
        "# Installing necessary dependent packages\n",
        "!pip install -q fsspec\n",
        "!pip install -q ipython-autotime\n",
        "!pip install -q pyspark\n",
        "!pip install -q s3fs\n",
        "\n",
        "# Loading autotime for the notebook\n",
        "%load_ext autotime"
      ],
      "metadata": {
        "colab": {
          "base_uri": "https://localhost:8080/"
        },
        "id": "TgbFg6zzfl7B",
        "outputId": "8e481c17-5e2a-4927-df81-b7492c241851"
      },
      "execution_count": 1,
      "outputs": [
        {
          "output_type": "stream",
          "name": "stdout",
          "text": [
            "\u001b[K     |████████████████████████████████| 1.6 MB 3.9 MB/s \n",
            "\u001b[K     |████████████████████████████████| 281.3 MB 44 kB/s \n",
            "\u001b[K     |████████████████████████████████| 199 kB 63.5 MB/s \n",
            "\u001b[?25h  Building wheel for pyspark (setup.py) ... \u001b[?25l\u001b[?25hdone\n",
            "\u001b[K     |████████████████████████████████| 64 kB 2.0 MB/s \n",
            "\u001b[K     |████████████████████████████████| 8.6 MB 18.3 MB/s \n",
            "\u001b[K     |████████████████████████████████| 140 kB 23.6 MB/s \n",
            "\u001b[31mERROR: pip's dependency resolver does not currently take into account all the packages that are installed. This behaviour is the source of the following dependency conflicts.\n",
            "requests 2.23.0 requires urllib3!=1.25.0,!=1.25.1,<1.26,>=1.21.1, but you have urllib3 1.26.12 which is incompatible.\u001b[0m\n",
            "\u001b[?25htime: 884 µs (started: 2022-08-23 08:52:41 +00:00)\n"
          ]
        }
      ]
    },
    {
      "cell_type": "markdown",
      "metadata": {
        "id": "2XJ5bRTDfitE"
      },
      "source": [
        "# Content-based Recommendations with PCA\n",
        "## Similar movies have similar tags. How well is this similarity captured with PCA?"
      ]
    },
    {
      "cell_type": "code",
      "execution_count": 2,
      "metadata": {
        "colab": {
          "base_uri": "https://localhost:8080/"
        },
        "id": "jBz4MSgTfitH",
        "outputId": "6f408021-f59c-4aab-f9a7-5c896fd06524"
      },
      "outputs": [
        {
          "output_type": "stream",
          "name": "stdout",
          "text": [
            "time: 10.6 s (started: 2022-08-23 08:52:41 +00:00)\n"
          ]
        }
      ],
      "source": [
        "# SparkSession\n",
        "from pyspark.sql import SparkSession\n",
        "from seaborn import heatmap\n",
        "\n",
        "import pandas as pd\n",
        "\n",
        "spark = SparkSession.builder.master(\"local\") \\\n",
        "                            .appName(\"PCA_ML_Lib\") \\\n",
        "                            .getOrCreate()"
      ]
    },
    {
      "cell_type": "code",
      "execution_count": 3,
      "metadata": {
        "colab": {
          "base_uri": "https://localhost:8080/"
        },
        "id": "hTTv3AbzfitJ",
        "outputId": "8bf6833e-35bd-469e-9fa1-acba60a3b0e0"
      },
      "outputs": [
        {
          "output_type": "stream",
          "name": "stdout",
          "text": [
            "time: 5min 1s (started: 2022-08-23 08:52:52 +00:00)\n"
          ]
        }
      ],
      "source": [
        "df = pd.read_csv(\"s3a://sparkdemonstration/movielens-tag-relevance.csv\", header=\"infer\")\n",
        "df = spark.createDataFrame(df)"
      ]
    },
    {
      "cell_type": "code",
      "execution_count": 4,
      "metadata": {
        "colab": {
          "base_uri": "https://localhost:8080/"
        },
        "id": "fXdkK0Y3fitK",
        "outputId": "3aad284c-1986-43d1-cd69-a1d76a06d99c"
      },
      "outputs": [
        {
          "output_type": "stream",
          "name": "stdout",
          "text": [
            "+--------------------+------------------+------------------+------------------+------------------+\n",
            "|               title|      heartwarming|            ballet|             ocean|              pulp|\n",
            "+--------------------+------------------+------------------+------------------+------------------+\n",
            "|    Toy Story (1995)|0.8122499999999999|             0.004|0.0797499999999999|             0.143|\n",
            "|      Jumanji (1995)|           0.33525|0.0052499999999999|0.0732499999999999|           0.26275|\n",
            "|Grumpier Old Men ...|           0.09025|0.0037499999999999|           0.04125|0.1392499999999999|\n",
            "|Waiting to Exhale...|              0.31|            0.0045|             0.021|           0.18925|\n",
            "|Father of the Bri...|            0.4865|            0.0035|           0.04125|             0.151|\n",
            "|         Heat (1995)|            0.0635|             0.004|           0.03675|           0.20575|\n",
            "|      Sabrina (1995)|           0.23625|0.0047499999999999|           0.04625|            0.1185|\n",
            "| Tom and Huck (1995)|           0.10975|             0.004|0.0197499999999999|             0.173|\n",
            "| Sudden Death (1995)|           0.05025|             0.004|0.0212499999999999|            0.1955|\n",
            "|    GoldenEye (1995)|           0.05675|0.0062499999999999|             0.071|           0.17675|\n",
            "|American Presiden...|            0.5605|            0.0035|           0.04675|           0.22675|\n",
            "|Dracula: Dead and...|             0.027|             0.005|0.0147499999999999|           0.20625|\n",
            "|        Balto (1995)|             0.499|             0.004|0.0389999999999999|             0.277|\n",
            "|        Nixon (1995)|0.0647499999999999|            0.0035|0.0202499999999999|           0.14525|\n",
            "|Cutthroat Island ...|0.0469999999999999|0.0077499999999999|0.1347499999999999|            0.3095|\n",
            "|       Casino (1995)|0.0454999999999999|            0.0045|              0.02|           0.49725|\n",
            "|Sense and Sensibi...|0.7040000000000001|0.0057499999999999|            0.0225|           0.11475|\n",
            "|   Four Rooms (1995)|           0.02975|            0.0065|             0.019|             0.471|\n",
            "|Ace Ventura: When...|            0.0635|             0.004|             0.021|           0.19275|\n",
            "|  Money Train (1995)|           0.03875|             0.006|           0.02775|            0.2275|\n",
            "+--------------------+------------------+------------------+------------------+------------------+\n",
            "only showing top 20 rows\n",
            "\n",
            "time: 10.3 s (started: 2022-08-23 08:57:53 +00:00)\n"
          ]
        }
      ],
      "source": [
        "import random\n",
        "colsToShow = ['title'] + [random.choice(df.columns) for i in range(4)]\n",
        "df.select(*colsToShow).show()"
      ]
    },
    {
      "cell_type": "code",
      "execution_count": 5,
      "metadata": {
        "colab": {
          "base_uri": "https://localhost:8080/"
        },
        "id": "8lQrJMZUfitK",
        "outputId": "1fbbcf2d-012c-4afb-cdb9-e0b14fee3a42"
      },
      "outputs": [
        {
          "output_type": "stream",
          "name": "stdout",
          "text": [
            "time: 174 ms (started: 2022-08-23 08:58:04 +00:00)\n"
          ]
        }
      ],
      "source": [
        "from pyspark.ml.feature import VectorAssembler, StandardScaler"
      ]
    },
    {
      "cell_type": "code",
      "execution_count": 6,
      "metadata": {
        "colab": {
          "base_uri": "https://localhost:8080/"
        },
        "id": "aSEt-wlTfitK",
        "outputId": "8e5a5fc4-dc74-4d8d-964f-b485f9321b70"
      },
      "outputs": [
        {
          "output_type": "stream",
          "name": "stdout",
          "text": [
            "time: 799 ms (started: 2022-08-23 08:58:04 +00:00)\n"
          ]
        }
      ],
      "source": [
        "newCols = []\n",
        "\n",
        "for c in df.columns:\n",
        "    if \".\" in c:\n",
        "        new_column = c.replace('.', '_')\n",
        "        df = df.withColumnRenamed(c, new_column)\n",
        "        newCols.append(new_column)\n",
        "    else:\n",
        "        newCols.append(c)"
      ]
    },
    {
      "cell_type": "code",
      "execution_count": 7,
      "metadata": {
        "colab": {
          "base_uri": "https://localhost:8080/"
        },
        "id": "RkpBYIYufitL",
        "outputId": "cea45a94-5933-44c9-f9ae-4e15b966add4"
      },
      "outputs": [
        {
          "output_type": "stream",
          "name": "stdout",
          "text": [
            "time: 24.4 s (started: 2022-08-23 08:58:05 +00:00)\n"
          ]
        }
      ],
      "source": [
        "assembler = VectorAssembler(inputCols=[c for c in newCols if c != 'title'],\n",
        "                            outputCol='features')\n",
        "scaler    = StandardScaler(inputCol='features', outputCol='normFeats', withMean=True)\n",
        "\n",
        "df          = assembler.transform(df)\n",
        "scalerModel = scaler.fit(df)\n",
        "df          = scalerModel.transform(df)"
      ]
    },
    {
      "cell_type": "markdown",
      "metadata": {
        "id": "5F79jtLUfitL"
      },
      "source": [
        "## PCA"
      ]
    },
    {
      "cell_type": "code",
      "execution_count": 8,
      "metadata": {
        "colab": {
          "base_uri": "https://localhost:8080/"
        },
        "id": "eitYeYNFfitM",
        "outputId": "f008d6a0-5ca9-4290-c52d-69f0e35d17fe"
      },
      "outputs": [
        {
          "output_type": "stream",
          "name": "stdout",
          "text": [
            "time: 346 ms (started: 2022-08-23 08:58:29 +00:00)\n"
          ]
        }
      ],
      "source": [
        "rdd = df.select('normFeats').rdd"
      ]
    },
    {
      "cell_type": "code",
      "execution_count": 9,
      "metadata": {
        "colab": {
          "base_uri": "https://localhost:8080/"
        },
        "id": "o_zcf9gefitN",
        "outputId": "18bdfcf3-48b4-4031-a50b-cbc5e9df4142"
      },
      "outputs": [
        {
          "output_type": "stream",
          "name": "stdout",
          "text": [
            "time: 41.2 ms (started: 2022-08-23 08:58:30 +00:00)\n"
          ]
        }
      ],
      "source": [
        "from pyspark.mllib.linalg.distributed import RowMatrix\n",
        "from pyspark.mllib.linalg import Vectors"
      ]
    },
    {
      "cell_type": "code",
      "execution_count": 10,
      "metadata": {
        "colab": {
          "base_uri": "https://localhost:8080/"
        },
        "id": "Yh4yh3VmfitN",
        "outputId": "6873af9a-ea4d-4370-ee6b-f56f52adcff3"
      },
      "outputs": [
        {
          "output_type": "stream",
          "name": "stdout",
          "text": [
            "time: 5.72 ms (started: 2022-08-23 08:58:30 +00:00)\n"
          ]
        }
      ],
      "source": [
        "vectors = rdd.map(Vectors.dense)"
      ]
    },
    {
      "cell_type": "code",
      "execution_count": 11,
      "metadata": {
        "colab": {
          "base_uri": "https://localhost:8080/"
        },
        "id": "xVdgknhpfitN",
        "outputId": "8dadc755-3b88-46f6-a6cc-0ce9d03e465a"
      },
      "outputs": [
        {
          "output_type": "stream",
          "name": "stdout",
          "text": [
            "time: 164 ms (started: 2022-08-23 08:58:30 +00:00)\n"
          ]
        }
      ],
      "source": [
        "matrix = RowMatrix(vectors)"
      ]
    },
    {
      "cell_type": "markdown",
      "metadata": {
        "id": "mekyuLD_fitN"
      },
      "source": [
        "## Get the PCs"
      ]
    },
    {
      "cell_type": "code",
      "execution_count": 12,
      "metadata": {
        "colab": {
          "base_uri": "https://localhost:8080/"
        },
        "id": "JjL0g-jvfitO",
        "outputId": "46035b8d-3e69-4cd9-d474-fb037ce96893"
      },
      "outputs": [
        {
          "output_type": "stream",
          "name": "stdout",
          "text": [
            "time: 1min 15s (started: 2022-08-23 08:58:30 +00:00)\n"
          ]
        }
      ],
      "source": [
        "pc = matrix.computePrincipalComponents(500)\n",
        "matrix_reduced = matrix.multiply(pc)"
      ]
    },
    {
      "cell_type": "markdown",
      "metadata": {
        "id": "HkPBOrSJfitO"
      },
      "source": [
        "## Nearest Neighbour Search in PC space"
      ]
    },
    {
      "cell_type": "code",
      "execution_count": 13,
      "metadata": {
        "colab": {
          "base_uri": "https://localhost:8080/"
        },
        "id": "p9o69309fitO",
        "outputId": "cd60a61f-81ea-4919-f2c3-d8a8771cc955"
      },
      "outputs": [
        {
          "output_type": "stream",
          "name": "stdout",
          "text": [
            "time: 25.6 s (started: 2022-08-23 08:59:46 +00:00)\n"
          ]
        }
      ],
      "source": [
        "import numpy as np\n",
        "X = matrix_reduced.rows.map(np.array).collect()\n",
        "X = np.array(X)"
      ]
    },
    {
      "cell_type": "code",
      "execution_count": 14,
      "metadata": {
        "colab": {
          "base_uri": "https://localhost:8080/"
        },
        "id": "hDkASLYsfitO",
        "outputId": "6e9a7be3-b916-4c73-e4f8-5bec1afa8f17"
      },
      "outputs": [
        {
          "output_type": "stream",
          "name": "stdout",
          "text": [
            "time: 4.47 s (started: 2022-08-23 09:00:11 +00:00)\n"
          ]
        }
      ],
      "source": [
        "titles = df.select('title').toPandas()"
      ]
    },
    {
      "cell_type": "code",
      "execution_count": 15,
      "metadata": {
        "colab": {
          "base_uri": "https://localhost:8080/"
        },
        "id": "c1Pwi1hkfitP",
        "outputId": "c7d06911-1c4d-4dd1-b408-c987834f0cc3"
      },
      "outputs": [
        {
          "output_type": "stream",
          "name": "stdout",
          "text": [
            "time: 5.03 ms (started: 2022-08-23 09:00:16 +00:00)\n"
          ]
        }
      ],
      "source": [
        "import pandas as pd\n",
        "pdf = pd.DataFrame(X, index=titles['title'])"
      ]
    },
    {
      "cell_type": "code",
      "execution_count": 16,
      "metadata": {
        "colab": {
          "base_uri": "https://localhost:8080/",
          "height": 522
        },
        "id": "tEHvIH5mfitP",
        "outputId": "9e86b928-ab04-469e-d822-2640bf3567c7"
      },
      "outputs": [
        {
          "output_type": "execute_result",
          "data": {
            "text/plain": [
              "                                          0          1          2    \\\n",
              "title                                                                 \n",
              "Toy Story (1995)                     5.580545 -18.610977 -16.135425   \n",
              "Jumanji (1995)                     -11.108312 -13.988950  -7.307447   \n",
              "Grumpier Old Men (1995)             -9.606716   1.298515  -4.212114   \n",
              "Waiting to Exhale (1995)            -8.162652   6.345987  -5.327036   \n",
              "Father of the Bride Part II (1995) -10.634055   2.242504  -8.047581   \n",
              "\n",
              "                                          3          4          5         6    \\\n",
              "title                                                                           \n",
              "Toy Story (1995)                   -10.331208  11.372613  12.751030 -3.018331   \n",
              "Jumanji (1995)                      -9.619463   2.110947   5.069314  0.301305   \n",
              "Grumpier Old Men (1995)              2.363770   1.961123   1.262194 -1.321139   \n",
              "Waiting to Exhale (1995)             0.797458   0.422990  -2.181263 -3.510300   \n",
              "Father of the Bride Part II (1995)   0.584347   3.230809  -1.263154 -4.077159   \n",
              "\n",
              "                                         7         8         9    ...  \\\n",
              "title                                                             ...   \n",
              "Toy Story (1995)                   -6.520022  8.494472 -6.138467  ...   \n",
              "Jumanji (1995)                     -7.396269  4.811784 -0.296702  ...   \n",
              "Grumpier Old Men (1995)             0.344805  0.539581 -1.326395  ...   \n",
              "Waiting to Exhale (1995)           -1.652220  0.060993  2.596061  ...   \n",
              "Father of the Bride Part II (1995) -2.192635  0.611344 -0.085841  ...   \n",
              "\n",
              "                                         490       491       492       493  \\\n",
              "title                                                                        \n",
              "Toy Story (1995)                    1.253834 -0.097425 -0.810692 -0.710021   \n",
              "Jumanji (1995)                     -0.311983  0.371603  0.728868  0.545260   \n",
              "Grumpier Old Men (1995)             0.042183  0.004842 -0.713675  0.683960   \n",
              "Waiting to Exhale (1995)           -0.480278  0.623731  0.046855 -0.388345   \n",
              "Father of the Bride Part II (1995) -0.176579 -0.209784 -0.348110  0.080846   \n",
              "\n",
              "                                         494       495       496       497  \\\n",
              "title                                                                        \n",
              "Toy Story (1995)                    0.116611 -0.089386 -0.244684  0.246042   \n",
              "Jumanji (1995)                     -1.490517  0.211687  0.778517 -0.415525   \n",
              "Grumpier Old Men (1995)             0.393586  0.619775 -0.084641 -0.034188   \n",
              "Waiting to Exhale (1995)           -0.026437 -0.022832  0.466444  0.289981   \n",
              "Father of the Bride Part II (1995)  0.547523  0.737323 -0.301655  0.399188   \n",
              "\n",
              "                                         498       499  \n",
              "title                                                   \n",
              "Toy Story (1995)                   -0.294096 -0.445163  \n",
              "Jumanji (1995)                     -0.500738  0.372158  \n",
              "Grumpier Old Men (1995)            -0.127041  0.063340  \n",
              "Waiting to Exhale (1995)           -0.533415 -0.344706  \n",
              "Father of the Bride Part II (1995)  0.327135  0.084268  \n",
              "\n",
              "[5 rows x 500 columns]"
            ],
            "text/html": [
              "\n",
              "  <div id=\"df-5ed84825-983e-401e-ac14-549c881fe0ea\">\n",
              "    <div class=\"colab-df-container\">\n",
              "      <div>\n",
              "<style scoped>\n",
              "    .dataframe tbody tr th:only-of-type {\n",
              "        vertical-align: middle;\n",
              "    }\n",
              "\n",
              "    .dataframe tbody tr th {\n",
              "        vertical-align: top;\n",
              "    }\n",
              "\n",
              "    .dataframe thead th {\n",
              "        text-align: right;\n",
              "    }\n",
              "</style>\n",
              "<table border=\"1\" class=\"dataframe\">\n",
              "  <thead>\n",
              "    <tr style=\"text-align: right;\">\n",
              "      <th></th>\n",
              "      <th>0</th>\n",
              "      <th>1</th>\n",
              "      <th>2</th>\n",
              "      <th>3</th>\n",
              "      <th>4</th>\n",
              "      <th>5</th>\n",
              "      <th>6</th>\n",
              "      <th>7</th>\n",
              "      <th>8</th>\n",
              "      <th>9</th>\n",
              "      <th>...</th>\n",
              "      <th>490</th>\n",
              "      <th>491</th>\n",
              "      <th>492</th>\n",
              "      <th>493</th>\n",
              "      <th>494</th>\n",
              "      <th>495</th>\n",
              "      <th>496</th>\n",
              "      <th>497</th>\n",
              "      <th>498</th>\n",
              "      <th>499</th>\n",
              "    </tr>\n",
              "    <tr>\n",
              "      <th>title</th>\n",
              "      <th></th>\n",
              "      <th></th>\n",
              "      <th></th>\n",
              "      <th></th>\n",
              "      <th></th>\n",
              "      <th></th>\n",
              "      <th></th>\n",
              "      <th></th>\n",
              "      <th></th>\n",
              "      <th></th>\n",
              "      <th></th>\n",
              "      <th></th>\n",
              "      <th></th>\n",
              "      <th></th>\n",
              "      <th></th>\n",
              "      <th></th>\n",
              "      <th></th>\n",
              "      <th></th>\n",
              "      <th></th>\n",
              "      <th></th>\n",
              "      <th></th>\n",
              "    </tr>\n",
              "  </thead>\n",
              "  <tbody>\n",
              "    <tr>\n",
              "      <th>Toy Story (1995)</th>\n",
              "      <td>5.580545</td>\n",
              "      <td>-18.610977</td>\n",
              "      <td>-16.135425</td>\n",
              "      <td>-10.331208</td>\n",
              "      <td>11.372613</td>\n",
              "      <td>12.751030</td>\n",
              "      <td>-3.018331</td>\n",
              "      <td>-6.520022</td>\n",
              "      <td>8.494472</td>\n",
              "      <td>-6.138467</td>\n",
              "      <td>...</td>\n",
              "      <td>1.253834</td>\n",
              "      <td>-0.097425</td>\n",
              "      <td>-0.810692</td>\n",
              "      <td>-0.710021</td>\n",
              "      <td>0.116611</td>\n",
              "      <td>-0.089386</td>\n",
              "      <td>-0.244684</td>\n",
              "      <td>0.246042</td>\n",
              "      <td>-0.294096</td>\n",
              "      <td>-0.445163</td>\n",
              "    </tr>\n",
              "    <tr>\n",
              "      <th>Jumanji (1995)</th>\n",
              "      <td>-11.108312</td>\n",
              "      <td>-13.988950</td>\n",
              "      <td>-7.307447</td>\n",
              "      <td>-9.619463</td>\n",
              "      <td>2.110947</td>\n",
              "      <td>5.069314</td>\n",
              "      <td>0.301305</td>\n",
              "      <td>-7.396269</td>\n",
              "      <td>4.811784</td>\n",
              "      <td>-0.296702</td>\n",
              "      <td>...</td>\n",
              "      <td>-0.311983</td>\n",
              "      <td>0.371603</td>\n",
              "      <td>0.728868</td>\n",
              "      <td>0.545260</td>\n",
              "      <td>-1.490517</td>\n",
              "      <td>0.211687</td>\n",
              "      <td>0.778517</td>\n",
              "      <td>-0.415525</td>\n",
              "      <td>-0.500738</td>\n",
              "      <td>0.372158</td>\n",
              "    </tr>\n",
              "    <tr>\n",
              "      <th>Grumpier Old Men (1995)</th>\n",
              "      <td>-9.606716</td>\n",
              "      <td>1.298515</td>\n",
              "      <td>-4.212114</td>\n",
              "      <td>2.363770</td>\n",
              "      <td>1.961123</td>\n",
              "      <td>1.262194</td>\n",
              "      <td>-1.321139</td>\n",
              "      <td>0.344805</td>\n",
              "      <td>0.539581</td>\n",
              "      <td>-1.326395</td>\n",
              "      <td>...</td>\n",
              "      <td>0.042183</td>\n",
              "      <td>0.004842</td>\n",
              "      <td>-0.713675</td>\n",
              "      <td>0.683960</td>\n",
              "      <td>0.393586</td>\n",
              "      <td>0.619775</td>\n",
              "      <td>-0.084641</td>\n",
              "      <td>-0.034188</td>\n",
              "      <td>-0.127041</td>\n",
              "      <td>0.063340</td>\n",
              "    </tr>\n",
              "    <tr>\n",
              "      <th>Waiting to Exhale (1995)</th>\n",
              "      <td>-8.162652</td>\n",
              "      <td>6.345987</td>\n",
              "      <td>-5.327036</td>\n",
              "      <td>0.797458</td>\n",
              "      <td>0.422990</td>\n",
              "      <td>-2.181263</td>\n",
              "      <td>-3.510300</td>\n",
              "      <td>-1.652220</td>\n",
              "      <td>0.060993</td>\n",
              "      <td>2.596061</td>\n",
              "      <td>...</td>\n",
              "      <td>-0.480278</td>\n",
              "      <td>0.623731</td>\n",
              "      <td>0.046855</td>\n",
              "      <td>-0.388345</td>\n",
              "      <td>-0.026437</td>\n",
              "      <td>-0.022832</td>\n",
              "      <td>0.466444</td>\n",
              "      <td>0.289981</td>\n",
              "      <td>-0.533415</td>\n",
              "      <td>-0.344706</td>\n",
              "    </tr>\n",
              "    <tr>\n",
              "      <th>Father of the Bride Part II (1995)</th>\n",
              "      <td>-10.634055</td>\n",
              "      <td>2.242504</td>\n",
              "      <td>-8.047581</td>\n",
              "      <td>0.584347</td>\n",
              "      <td>3.230809</td>\n",
              "      <td>-1.263154</td>\n",
              "      <td>-4.077159</td>\n",
              "      <td>-2.192635</td>\n",
              "      <td>0.611344</td>\n",
              "      <td>-0.085841</td>\n",
              "      <td>...</td>\n",
              "      <td>-0.176579</td>\n",
              "      <td>-0.209784</td>\n",
              "      <td>-0.348110</td>\n",
              "      <td>0.080846</td>\n",
              "      <td>0.547523</td>\n",
              "      <td>0.737323</td>\n",
              "      <td>-0.301655</td>\n",
              "      <td>0.399188</td>\n",
              "      <td>0.327135</td>\n",
              "      <td>0.084268</td>\n",
              "    </tr>\n",
              "  </tbody>\n",
              "</table>\n",
              "<p>5 rows × 500 columns</p>\n",
              "</div>\n",
              "      <button class=\"colab-df-convert\" onclick=\"convertToInteractive('df-5ed84825-983e-401e-ac14-549c881fe0ea')\"\n",
              "              title=\"Convert this dataframe to an interactive table.\"\n",
              "              style=\"display:none;\">\n",
              "        \n",
              "  <svg xmlns=\"http://www.w3.org/2000/svg\" height=\"24px\"viewBox=\"0 0 24 24\"\n",
              "       width=\"24px\">\n",
              "    <path d=\"M0 0h24v24H0V0z\" fill=\"none\"/>\n",
              "    <path d=\"M18.56 5.44l.94 2.06.94-2.06 2.06-.94-2.06-.94-.94-2.06-.94 2.06-2.06.94zm-11 1L8.5 8.5l.94-2.06 2.06-.94-2.06-.94L8.5 2.5l-.94 2.06-2.06.94zm10 10l.94 2.06.94-2.06 2.06-.94-2.06-.94-.94-2.06-.94 2.06-2.06.94z\"/><path d=\"M17.41 7.96l-1.37-1.37c-.4-.4-.92-.59-1.43-.59-.52 0-1.04.2-1.43.59L10.3 9.45l-7.72 7.72c-.78.78-.78 2.05 0 2.83L4 21.41c.39.39.9.59 1.41.59.51 0 1.02-.2 1.41-.59l7.78-7.78 2.81-2.81c.8-.78.8-2.07 0-2.86zM5.41 20L4 18.59l7.72-7.72 1.47 1.35L5.41 20z\"/>\n",
              "  </svg>\n",
              "      </button>\n",
              "      \n",
              "  <style>\n",
              "    .colab-df-container {\n",
              "      display:flex;\n",
              "      flex-wrap:wrap;\n",
              "      gap: 12px;\n",
              "    }\n",
              "\n",
              "    .colab-df-convert {\n",
              "      background-color: #E8F0FE;\n",
              "      border: none;\n",
              "      border-radius: 50%;\n",
              "      cursor: pointer;\n",
              "      display: none;\n",
              "      fill: #1967D2;\n",
              "      height: 32px;\n",
              "      padding: 0 0 0 0;\n",
              "      width: 32px;\n",
              "    }\n",
              "\n",
              "    .colab-df-convert:hover {\n",
              "      background-color: #E2EBFA;\n",
              "      box-shadow: 0px 1px 2px rgba(60, 64, 67, 0.3), 0px 1px 3px 1px rgba(60, 64, 67, 0.15);\n",
              "      fill: #174EA6;\n",
              "    }\n",
              "\n",
              "    [theme=dark] .colab-df-convert {\n",
              "      background-color: #3B4455;\n",
              "      fill: #D2E3FC;\n",
              "    }\n",
              "\n",
              "    [theme=dark] .colab-df-convert:hover {\n",
              "      background-color: #434B5C;\n",
              "      box-shadow: 0px 1px 3px 1px rgba(0, 0, 0, 0.15);\n",
              "      filter: drop-shadow(0px 1px 2px rgba(0, 0, 0, 0.3));\n",
              "      fill: #FFFFFF;\n",
              "    }\n",
              "  </style>\n",
              "\n",
              "      <script>\n",
              "        const buttonEl =\n",
              "          document.querySelector('#df-5ed84825-983e-401e-ac14-549c881fe0ea button.colab-df-convert');\n",
              "        buttonEl.style.display =\n",
              "          google.colab.kernel.accessAllowed ? 'block' : 'none';\n",
              "\n",
              "        async function convertToInteractive(key) {\n",
              "          const element = document.querySelector('#df-5ed84825-983e-401e-ac14-549c881fe0ea');\n",
              "          const dataTable =\n",
              "            await google.colab.kernel.invokeFunction('convertToInteractive',\n",
              "                                                     [key], {});\n",
              "          if (!dataTable) return;\n",
              "\n",
              "          const docLinkHtml = 'Like what you see? Visit the ' +\n",
              "            '<a target=\"_blank\" href=https://colab.research.google.com/notebooks/data_table.ipynb>data table notebook</a>'\n",
              "            + ' to learn more about interactive tables.';\n",
              "          element.innerHTML = '';\n",
              "          dataTable['output_type'] = 'display_data';\n",
              "          await google.colab.output.renderOutput(dataTable, element);\n",
              "          const docLink = document.createElement('div');\n",
              "          docLink.innerHTML = docLinkHtml;\n",
              "          element.appendChild(docLink);\n",
              "        }\n",
              "      </script>\n",
              "    </div>\n",
              "  </div>\n",
              "  "
            ]
          },
          "metadata": {},
          "execution_count": 16
        },
        {
          "output_type": "stream",
          "name": "stdout",
          "text": [
            "time: 95.1 ms (started: 2022-08-23 09:00:16 +00:00)\n"
          ]
        }
      ],
      "source": [
        "pdf.head()"
      ]
    },
    {
      "cell_type": "code",
      "execution_count": 17,
      "metadata": {
        "colab": {
          "base_uri": "https://localhost:8080/"
        },
        "id": "-qL5wD_DfitP",
        "outputId": "687b6f10-1c9e-4617-88d3-091b9bd4449e"
      },
      "outputs": [
        {
          "output_type": "stream",
          "name": "stdout",
          "text": [
            "time: 578 ms (started: 2022-08-23 09:00:16 +00:00)\n"
          ]
        }
      ],
      "source": [
        "from sklearn.neighbors import NearestNeighbors"
      ]
    },
    {
      "cell_type": "code",
      "execution_count": 18,
      "metadata": {
        "colab": {
          "base_uri": "https://localhost:8080/"
        },
        "id": "S4BMoE-nfitP",
        "outputId": "c5a4689b-bee6-42bc-ca7c-7f10813a3b2d"
      },
      "outputs": [
        {
          "output_type": "execute_result",
          "data": {
            "text/plain": [
              "['Toy Story (1995)',\n",
              " 'The Punisher: Dirty Laundry (2012)',\n",
              " \"Empire of Dreams: The Story of the 'Star Wars' Trilogy (2004)\",\n",
              " 'Ten Commandments, The (1956)',\n",
              " 'Blood of Heroes, The (Salute of the Jugger, The) (1989)']"
            ]
          },
          "metadata": {},
          "execution_count": 18
        },
        {
          "output_type": "stream",
          "name": "stdout",
          "text": [
            "time: 29.4 ms (started: 2022-08-23 09:00:17 +00:00)\n"
          ]
        }
      ],
      "source": [
        "n_pcs = 2\n",
        "nn = NearestNeighbors()\n",
        "nn = nn.fit(X[:, :n_pcs])\n",
        "neighbors = nn.kneighbors(pdf.loc['Toy Story (1995)'].values[:n_pcs].reshape(1, -1), return_distance=False)\n",
        "pdf.index[neighbors.ravel()].tolist()"
      ]
    },
    {
      "cell_type": "markdown",
      "metadata": {
        "id": "hsP5qXXlfitQ"
      },
      "source": [
        "<table>\n",
        "    <tr>\n",
        "        <td><img src=\"https://upload.wikimedia.org/wikipedia/en/1/13/Toy_Story.jpg\"></img></td>\n",
        "        <td><img src=\"https://upload.wikimedia.org/wikipedia/en/c/cf/Poster_for_Dirty_Laundry.jpg\"></img></td>\n",
        "        <td><img src=\"https://upload.wikimedia.org/wikipedia/en/e/ef/Empire_of_Dreams.png\"></img></td>\n",
        "        <td><img src=\"https://upload.wikimedia.org/wikipedia/commons/thumb/d/df/The_Ten_Commandments_%281956_film_poster%29.jpg/313px-The_Ten_Commandments_%281956_film_poster%29.jpg\"></img></td>\n",
        "        <td><img src=\"https://upload.wikimedia.org/wikipedia/en/2/2a/Bloodofheroes.jpg\"></img></td>\n",
        "        \n",
        "</table>"
      ]
    },
    {
      "cell_type": "markdown",
      "metadata": {
        "id": "64rZH14afitQ"
      },
      "source": [
        "## Increase the number of Principal Components"
      ]
    },
    {
      "cell_type": "code",
      "execution_count": 19,
      "metadata": {
        "colab": {
          "base_uri": "https://localhost:8080/"
        },
        "id": "LXQurJ1QfitQ",
        "outputId": "0c335370-fc6a-4a4e-a02d-13180c86539e"
      },
      "outputs": [
        {
          "output_type": "execute_result",
          "data": {
            "text/plain": [
              "['Toy Story (1995)',\n",
              " 'Finding Nemo (2003)',\n",
              " 'Monsters, Inc. (2001)',\n",
              " \"Bug's Life, A (1998)\",\n",
              " 'Ratatouille (2007)']"
            ]
          },
          "metadata": {},
          "execution_count": 19
        },
        {
          "output_type": "stream",
          "name": "stdout",
          "text": [
            "time: 30.6 ms (started: 2022-08-23 09:00:17 +00:00)\n"
          ]
        }
      ],
      "source": [
        "n_pcs = 10\n",
        "nn = NearestNeighbors()\n",
        "nn = nn.fit(X[:, :n_pcs])\n",
        "neighbors = nn.kneighbors(pdf.loc['Toy Story (1995)'].values[:n_pcs].reshape(1, -1), return_distance=False)\n",
        "pdf.index[neighbors.ravel()].tolist()"
      ]
    },
    {
      "cell_type": "markdown",
      "metadata": {
        "id": "GBdoLnATfitQ"
      },
      "source": [
        "<table>\n",
        "    <tr>\n",
        "        <td><img src=\"https://upload.wikimedia.org/wikipedia/en/1/13/Toy_Story.jpg\"></img></td>\n",
        "        <td><img src=\"https://upload.wikimedia.org/wikipedia/en/2/29/Finding_Nemo.jpg\"></img></td>\n",
        "        <td><img src=\"https://upload.wikimedia.org/wikipedia/en/6/63/Monsters_Inc.JPG\"></img></td>\n",
        "        <td><img src=\"https://upload.wikimedia.org/wikipedia/en/c/cc/A_Bug%27s_Life.jpg\"></img></td>\n",
        "        <td><img src=\"https://upload.wikimedia.org/wikipedia/en/5/50/RatatouillePoster.jpg\"></img></td>\n",
        "        \n",
        "</table>"
      ]
    },
    {
      "cell_type": "code",
      "execution_count": 20,
      "metadata": {
        "colab": {
          "base_uri": "https://localhost:8080/"
        },
        "id": "woxKcDUcfitQ",
        "outputId": "e4d99372-c4d1-44bc-fbbb-2f0350ea6f31"
      },
      "outputs": [
        {
          "output_type": "execute_result",
          "data": {
            "text/plain": [
              "['Toy Story (1995)',\n",
              " 'Monsters, Inc. (2001)',\n",
              " 'Toy Story 2 (1999)',\n",
              " \"Bug's Life, A (1998)\",\n",
              " 'Toy Story 3 (2010)']"
            ]
          },
          "metadata": {},
          "execution_count": 20
        },
        {
          "output_type": "stream",
          "name": "stdout",
          "text": [
            "time: 26.6 ms (started: 2022-08-23 09:00:17 +00:00)\n"
          ]
        }
      ],
      "source": [
        "n_pcs = 100\n",
        "nn = NearestNeighbors()\n",
        "nn = nn.fit(X[:, :n_pcs])\n",
        "neighbors = nn.kneighbors(pdf.loc['Toy Story (1995)'].values[:n_pcs].reshape(1, -1), return_distance=False)\n",
        "pdf.index[neighbors.ravel()].tolist()"
      ]
    },
    {
      "cell_type": "code",
      "execution_count": 21,
      "metadata": {
        "colab": {
          "base_uri": "https://localhost:8080/"
        },
        "id": "uvyBp9X6fitR",
        "outputId": "c8657113-b71a-4bbd-ad0b-ed6498073ebb"
      },
      "outputs": [
        {
          "output_type": "execute_result",
          "data": {
            "text/plain": [
              "['Toy Story (1995)',\n",
              " 'Toy Story 2 (1999)',\n",
              " 'Monsters, Inc. (2001)',\n",
              " 'Toy Story 3 (2010)',\n",
              " \"Bug's Life, A (1998)\"]"
            ]
          },
          "metadata": {},
          "execution_count": 21
        },
        {
          "output_type": "stream",
          "name": "stdout",
          "text": [
            "time: 47.8 ms (started: 2022-08-23 09:00:17 +00:00)\n"
          ]
        }
      ],
      "source": [
        "n_pcs = 500\n",
        "nn = NearestNeighbors()\n",
        "nn = nn.fit(X[:, :n_pcs])\n",
        "neighbors = nn.kneighbors(pdf.loc['Toy Story (1995)'].values[:n_pcs].reshape(1, -1), return_distance=False)\n",
        "pdf.index[neighbors.ravel()].tolist()"
      ]
    },
    {
      "cell_type": "code",
      "execution_count": 22,
      "metadata": {
        "colab": {
          "base_uri": "https://localhost:8080/"
        },
        "id": "r6KhS7VofitR",
        "outputId": "7194fcdd-4894-4a62-f897-d8a91b4bcee9"
      },
      "outputs": [
        {
          "output_type": "execute_result",
          "data": {
            "text/plain": [
              "['Avengers, The (2012)',\n",
              " 'X-Men (2000)',\n",
              " 'Iron Man (2008)',\n",
              " 'X-Men: First Class (2011)',\n",
              " 'X2: X-Men United (2003)']"
            ]
          },
          "metadata": {},
          "execution_count": 22
        },
        {
          "output_type": "stream",
          "name": "stdout",
          "text": [
            "time: 61.3 ms (started: 2022-08-23 09:00:17 +00:00)\n"
          ]
        }
      ],
      "source": [
        "n_pcs = 10\n",
        "nn = NearestNeighbors()\n",
        "nn = nn.fit(X[:, :n_pcs])\n",
        "neighbors = nn.kneighbors(pdf.loc['Avengers, The (2012)'].values[:n_pcs].reshape(1, -1), return_distance=False)\n",
        "pdf.index[neighbors.ravel()].tolist()"
      ]
    },
    {
      "cell_type": "markdown",
      "source": [
        "### Graded Questions"
      ],
      "metadata": {
        "id": "3dtzom-fltef"
      }
    },
    {
      "cell_type": "code",
      "execution_count": 23,
      "metadata": {
        "colab": {
          "base_uri": "https://localhost:8080/"
        },
        "id": "Lk9vejzYfitR",
        "outputId": "b4d2a19a-ef76-4b6f-dad1-2054a350f019"
      },
      "outputs": [
        {
          "output_type": "execute_result",
          "data": {
            "text/plain": [
              "['Interstellar (2014)',\n",
              " 'The Martian (2015)',\n",
              " 'Sunshine (2007)',\n",
              " 'Gravity (2013)',\n",
              " 'Arrival (2016)']"
            ]
          },
          "metadata": {},
          "execution_count": 23
        },
        {
          "output_type": "stream",
          "name": "stdout",
          "text": [
            "time: 42.6 ms (started: 2022-08-23 09:00:17 +00:00)\n"
          ]
        }
      ],
      "source": [
        "n_pcs = 300\n",
        "nn = NearestNeighbors()\n",
        "nn = nn.fit(X[:, :n_pcs])\n",
        "neighbors = nn.kneighbors(pdf.loc['Interstellar (2014)'].values[:n_pcs].reshape(1, -1), return_distance=False)\n",
        "pdf.index[neighbors.ravel()].tolist()"
      ]
    },
    {
      "cell_type": "code",
      "source": [
        ""
      ],
      "metadata": {
        "id": "2N6C4LvUls48",
        "colab": {
          "base_uri": "https://localhost:8080/"
        },
        "outputId": "9914020a-fba8-4767-882e-4e9929098af6"
      },
      "execution_count": 23,
      "outputs": [
        {
          "output_type": "stream",
          "name": "stdout",
          "text": [
            "time: 61.9 ms (started: 2022-08-23 09:00:17 +00:00)\n"
          ]
        }
      ]
    }
  ],
  "metadata": {
    "kernelspec": {
      "display_name": "Python 3.9.13 64-bit",
      "language": "python",
      "name": "python3"
    },
    "language_info": {
      "codemirror_mode": {
        "name": "ipython",
        "version": 3
      },
      "file_extension": ".py",
      "mimetype": "text/x-python",
      "name": "python",
      "nbconvert_exporter": "python",
      "pygments_lexer": "ipython3",
      "version": "3.9.13"
    },
    "vscode": {
      "interpreter": {
        "hash": "b0fa6594d8f4cbf19f97940f81e996739fb7646882a419484c72d19e05852a7e"
      }
    },
    "colab": {
      "name": "pca-lab-2.ipynb",
      "provenance": []
    }
  },
  "nbformat": 4,
  "nbformat_minor": 0
}