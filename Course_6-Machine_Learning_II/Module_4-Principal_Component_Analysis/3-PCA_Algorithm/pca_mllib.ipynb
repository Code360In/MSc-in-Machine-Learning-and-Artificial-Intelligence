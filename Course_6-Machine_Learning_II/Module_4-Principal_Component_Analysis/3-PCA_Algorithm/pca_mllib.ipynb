{
 "cells": [
  {
   "cell_type": "code",
   "execution_count": 1,
   "metadata": {},
   "outputs": [
    {
     "name": "stdout",
     "output_type": "stream",
     "text": [
      "22/08/22 02:15:51 WARN Utils: Your hostname, Druk.local resolves to a loopback address: 127.0.0.1; using 192.168.29.153 instead (on interface en0)\n",
      "22/08/22 02:15:51 WARN Utils: Set SPARK_LOCAL_IP if you need to bind to another address\n"
     ]
    },
    {
     "name": "stderr",
     "output_type": "stream",
     "text": [
      "Setting default log level to \"WARN\".\n",
      "To adjust logging level use sc.setLogLevel(newLevel). For SparkR, use setLogLevel(newLevel).\n"
     ]
    },
    {
     "name": "stdout",
     "output_type": "stream",
     "text": [
      "22/08/22 02:15:51 WARN NativeCodeLoader: Unable to load native-hadoop library for your platform... using builtin-java classes where applicable\n"
     ]
    }
   ],
   "source": [
    "# SparkSession\n",
    "from pyspark.sql import SparkSession\n",
    "from seaborn import heatmap\n",
    "\n",
    "spark = SparkSession.builder.master(\"local\") \\\n",
    "                            .appName(\"PCA_ML_Lib\") \\\n",
    "                            .getOrCreate()"
   ]
  },
  {
   "cell_type": "markdown",
   "metadata": {},
   "source": [
    "## Load the [Wine Dataset](https://scikit-learn.org/stable/modules/generated/sklearn.datasets.load_wine.html#sklearn.datasets.load_wine)"
   ]
  },
  {
   "cell_type": "code",
   "execution_count": 2,
   "metadata": {},
   "outputs": [],
   "source": [
    "from sklearn.datasets import load_wine\n",
    "wine = load_wine()\n",
    "X = wine.data"
   ]
  },
  {
   "cell_type": "code",
   "execution_count": 3,
   "metadata": {
    "scrolled": true
   },
   "outputs": [
    {
     "data": {
      "text/html": [
       "<div>\n",
       "<style scoped>\n",
       "    .dataframe tbody tr th:only-of-type {\n",
       "        vertical-align: middle;\n",
       "    }\n",
       "\n",
       "    .dataframe tbody tr th {\n",
       "        vertical-align: top;\n",
       "    }\n",
       "\n",
       "    .dataframe thead th {\n",
       "        text-align: right;\n",
       "    }\n",
       "</style>\n",
       "<table border=\"1\" class=\"dataframe\">\n",
       "  <thead>\n",
       "    <tr style=\"text-align: right;\">\n",
       "      <th></th>\n",
       "      <th>alcohol</th>\n",
       "      <th>malic_acid</th>\n",
       "      <th>ash</th>\n",
       "      <th>alcalinity_of_ash</th>\n",
       "      <th>magnesium</th>\n",
       "      <th>total_phenols</th>\n",
       "      <th>flavanoids</th>\n",
       "      <th>nonflavanoid_phenols</th>\n",
       "      <th>proanthocyanins</th>\n",
       "      <th>color_intensity</th>\n",
       "      <th>hue</th>\n",
       "      <th>od280/od315_of_diluted_wines</th>\n",
       "      <th>proline</th>\n",
       "    </tr>\n",
       "  </thead>\n",
       "  <tbody>\n",
       "    <tr>\n",
       "      <th>0</th>\n",
       "      <td>14.23</td>\n",
       "      <td>1.71</td>\n",
       "      <td>2.43</td>\n",
       "      <td>15.6</td>\n",
       "      <td>127.0</td>\n",
       "      <td>2.80</td>\n",
       "      <td>3.06</td>\n",
       "      <td>0.28</td>\n",
       "      <td>2.29</td>\n",
       "      <td>5.64</td>\n",
       "      <td>1.04</td>\n",
       "      <td>3.92</td>\n",
       "      <td>1065.0</td>\n",
       "    </tr>\n",
       "    <tr>\n",
       "      <th>1</th>\n",
       "      <td>13.20</td>\n",
       "      <td>1.78</td>\n",
       "      <td>2.14</td>\n",
       "      <td>11.2</td>\n",
       "      <td>100.0</td>\n",
       "      <td>2.65</td>\n",
       "      <td>2.76</td>\n",
       "      <td>0.26</td>\n",
       "      <td>1.28</td>\n",
       "      <td>4.38</td>\n",
       "      <td>1.05</td>\n",
       "      <td>3.40</td>\n",
       "      <td>1050.0</td>\n",
       "    </tr>\n",
       "    <tr>\n",
       "      <th>2</th>\n",
       "      <td>13.16</td>\n",
       "      <td>2.36</td>\n",
       "      <td>2.67</td>\n",
       "      <td>18.6</td>\n",
       "      <td>101.0</td>\n",
       "      <td>2.80</td>\n",
       "      <td>3.24</td>\n",
       "      <td>0.30</td>\n",
       "      <td>2.81</td>\n",
       "      <td>5.68</td>\n",
       "      <td>1.03</td>\n",
       "      <td>3.17</td>\n",
       "      <td>1185.0</td>\n",
       "    </tr>\n",
       "    <tr>\n",
       "      <th>3</th>\n",
       "      <td>14.37</td>\n",
       "      <td>1.95</td>\n",
       "      <td>2.50</td>\n",
       "      <td>16.8</td>\n",
       "      <td>113.0</td>\n",
       "      <td>3.85</td>\n",
       "      <td>3.49</td>\n",
       "      <td>0.24</td>\n",
       "      <td>2.18</td>\n",
       "      <td>7.80</td>\n",
       "      <td>0.86</td>\n",
       "      <td>3.45</td>\n",
       "      <td>1480.0</td>\n",
       "    </tr>\n",
       "    <tr>\n",
       "      <th>4</th>\n",
       "      <td>13.24</td>\n",
       "      <td>2.59</td>\n",
       "      <td>2.87</td>\n",
       "      <td>21.0</td>\n",
       "      <td>118.0</td>\n",
       "      <td>2.80</td>\n",
       "      <td>2.69</td>\n",
       "      <td>0.39</td>\n",
       "      <td>1.82</td>\n",
       "      <td>4.32</td>\n",
       "      <td>1.04</td>\n",
       "      <td>2.93</td>\n",
       "      <td>735.0</td>\n",
       "    </tr>\n",
       "  </tbody>\n",
       "</table>\n",
       "</div>"
      ],
      "text/plain": [
       "   alcohol  malic_acid   ash  alcalinity_of_ash  magnesium  total_phenols  \\\n",
       "0    14.23        1.71  2.43               15.6      127.0           2.80   \n",
       "1    13.20        1.78  2.14               11.2      100.0           2.65   \n",
       "2    13.16        2.36  2.67               18.6      101.0           2.80   \n",
       "3    14.37        1.95  2.50               16.8      113.0           3.85   \n",
       "4    13.24        2.59  2.87               21.0      118.0           2.80   \n",
       "\n",
       "   flavanoids  nonflavanoid_phenols  proanthocyanins  color_intensity   hue  \\\n",
       "0        3.06                  0.28             2.29             5.64  1.04   \n",
       "1        2.76                  0.26             1.28             4.38  1.05   \n",
       "2        3.24                  0.30             2.81             5.68  1.03   \n",
       "3        3.49                  0.24             2.18             7.80  0.86   \n",
       "4        2.69                  0.39             1.82             4.32  1.04   \n",
       "\n",
       "   od280/od315_of_diluted_wines  proline  \n",
       "0                          3.92   1065.0  \n",
       "1                          3.40   1050.0  \n",
       "2                          3.17   1185.0  \n",
       "3                          3.45   1480.0  \n",
       "4                          2.93    735.0  "
      ]
     },
     "execution_count": 3,
     "metadata": {},
     "output_type": "execute_result"
    }
   ],
   "source": [
    "import pandas as pd\n",
    "df = pd.DataFrame(X, columns=wine.feature_names)\n",
    "df.head()"
   ]
  },
  {
   "cell_type": "markdown",
   "metadata": {},
   "source": [
    "## Create a Spark DataFrame"
   ]
  },
  {
   "cell_type": "code",
   "execution_count": 4,
   "metadata": {},
   "outputs": [],
   "source": [
    "df = spark.createDataFrame(df)"
   ]
  },
  {
   "cell_type": "code",
   "execution_count": 5,
   "metadata": {},
   "outputs": [
    {
     "name": "stdout",
     "output_type": "stream",
     "text": [
      "+-------+----------+----+-----------------+---------+-------------+----------+--------------------+---------------+---------------+----+----------------------------+-------+\n",
      "|alcohol|malic_acid| ash|alcalinity_of_ash|magnesium|total_phenols|flavanoids|nonflavanoid_phenols|proanthocyanins|color_intensity| hue|od280/od315_of_diluted_wines|proline|\n",
      "+-------+----------+----+-----------------+---------+-------------+----------+--------------------+---------------+---------------+----+----------------------------+-------+\n",
      "|  14.23|      1.71|2.43|             15.6|    127.0|          2.8|      3.06|                0.28|           2.29|           5.64|1.04|                        3.92| 1065.0|\n",
      "|   13.2|      1.78|2.14|             11.2|    100.0|         2.65|      2.76|                0.26|           1.28|           4.38|1.05|                         3.4| 1050.0|\n",
      "|  13.16|      2.36|2.67|             18.6|    101.0|          2.8|      3.24|                 0.3|           2.81|           5.68|1.03|                        3.17| 1185.0|\n",
      "|  14.37|      1.95| 2.5|             16.8|    113.0|         3.85|      3.49|                0.24|           2.18|            7.8|0.86|                        3.45| 1480.0|\n",
      "|  13.24|      2.59|2.87|             21.0|    118.0|          2.8|      2.69|                0.39|           1.82|           4.32|1.04|                        2.93|  735.0|\n",
      "+-------+----------+----+-----------------+---------+-------------+----------+--------------------+---------------+---------------+----+----------------------------+-------+\n",
      "only showing top 5 rows\n",
      "\n"
     ]
    }
   ],
   "source": [
    "df.show(5)"
   ]
  },
  {
   "cell_type": "code",
   "execution_count": 6,
   "metadata": {},
   "outputs": [
    {
     "name": "stdout",
     "output_type": "stream",
     "text": [
      "root\n",
      " |-- alcohol: double (nullable = true)\n",
      " |-- malic_acid: double (nullable = true)\n",
      " |-- ash: double (nullable = true)\n",
      " |-- alcalinity_of_ash: double (nullable = true)\n",
      " |-- magnesium: double (nullable = true)\n",
      " |-- total_phenols: double (nullable = true)\n",
      " |-- flavanoids: double (nullable = true)\n",
      " |-- nonflavanoid_phenols: double (nullable = true)\n",
      " |-- proanthocyanins: double (nullable = true)\n",
      " |-- color_intensity: double (nullable = true)\n",
      " |-- hue: double (nullable = true)\n",
      " |-- od280/od315_of_diluted_wines: double (nullable = true)\n",
      " |-- proline: double (nullable = true)\n",
      "\n"
     ]
    }
   ],
   "source": [
    "df.printSchema()"
   ]
  },
  {
   "cell_type": "markdown",
   "metadata": {},
   "source": [
    "## Get the RDD"
   ]
  },
  {
   "cell_type": "code",
   "execution_count": 7,
   "metadata": {},
   "outputs": [],
   "source": [
    "rdd = df.rdd"
   ]
  },
  {
   "cell_type": "markdown",
   "metadata": {},
   "source": [
    "## Convert the RDD into a [`RowMatrix`](https://spark.apache.org/docs/2.2.0/api/java/org/apache/spark/mllib/linalg/distributed/RowMatrix.html)"
   ]
  },
  {
   "cell_type": "code",
   "execution_count": 8,
   "metadata": {},
   "outputs": [],
   "source": [
    "from pyspark.mllib.linalg.distributed import RowMatrix\n",
    "from pyspark.mllib.linalg import Vectors"
   ]
  },
  {
   "cell_type": "code",
   "execution_count": 9,
   "metadata": {},
   "outputs": [],
   "source": [
    "vectors = rdd.map(Vectors.dense)\n",
    "matrix = RowMatrix(vectors)"
   ]
  },
  {
   "cell_type": "markdown",
   "metadata": {},
   "source": [
    "## Get the PCs of the matrix"
   ]
  },
  {
   "cell_type": "code",
   "execution_count": 10,
   "metadata": {},
   "outputs": [
    {
     "name": "stdout",
     "output_type": "stream",
     "text": [
      "22/08/22 02:15:55 WARN InstanceBuilder$NativeBLAS: Failed to load implementation from:dev.ludovic.netlib.blas.JNIBLAS\n",
      "22/08/22 02:15:55 WARN InstanceBuilder$NativeBLAS: Failed to load implementation from:dev.ludovic.netlib.blas.ForeignLinkerBLAS\n",
      "22/08/22 02:15:55 WARN InstanceBuilder$JavaBLAS: Failed to load implementation from:dev.ludovic.netlib.blas.VectorBLAS\n",
      "22/08/22 02:15:55 WARN LAPACK: Failed to load implementation from: com.github.fommil.netlib.NativeSystemLAPACK\n",
      "22/08/22 02:15:55 WARN LAPACK: Failed to load implementation from: com.github.fommil.netlib.NativeRefLAPACK\n"
     ]
    }
   ],
   "source": [
    "pc = matrix.computePrincipalComponents(len(df.columns))"
   ]
  },
  {
   "cell_type": "code",
   "execution_count": 11,
   "metadata": {},
   "outputs": [
    {
     "data": {
      "text/plain": [
       "DenseMatrix(13, 13, [-0.0017, 0.0007, -0.0002, 0.0047, -0.0179, -0.001, -0.0016, 0.0001, ..., 0.0267, -0.0696, -0.9665, 0.0176, 0.0046, 0.1666, -0.0442, -0.0], 0)"
      ]
     },
     "execution_count": 11,
     "metadata": {},
     "output_type": "execute_result"
    }
   ],
   "source": [
    "pc"
   ]
  },
  {
   "cell_type": "code",
   "execution_count": 12,
   "metadata": {},
   "outputs": [],
   "source": [
    "matrix_reduced = matrix.multiply(pc)"
   ]
  },
  {
   "cell_type": "code",
   "execution_count": 13,
   "metadata": {},
   "outputs": [
    {
     "data": {
      "text/plain": [
       "13"
      ]
     },
     "execution_count": 13,
     "metadata": {},
     "output_type": "execute_result"
    }
   ],
   "source": [
    "matrix_reduced.numCols()"
   ]
  },
  {
   "cell_type": "code",
   "execution_count": 14,
   "metadata": {},
   "outputs": [],
   "source": [
    "import numpy as np\n",
    "x_red = np.array(matrix_reduced.rows.collect())"
   ]
  },
  {
   "cell_type": "code",
   "execution_count": 15,
   "metadata": {},
   "outputs": [],
   "source": [
    "import matplotlib.pyplot as plt"
   ]
  },
  {
   "cell_type": "code",
   "execution_count": 16,
   "metadata": {},
   "outputs": [
    {
     "data": {
      "text/plain": [
       "<matplotlib.collections.PathCollection at 0x17e77ee50>"
      ]
     },
     "execution_count": 16,
     "metadata": {},
     "output_type": "execute_result"
    },
    {
     "data": {
      "image/png": "[encoded data removed]",
      "text/plain": [
       "<Figure size 432x288 with 1 Axes>"
      ]
     },
     "metadata": {
      "needs_background": "light"
     },
     "output_type": "display_data"
    }
   ],
   "source": [
    "plt.scatter(x_red[:, 0], x_red[:, 1], c=wine.target)"
   ]
  },
  {
   "cell_type": "markdown",
   "metadata": {},
   "source": [
    "## Verify with sklearn"
   ]
  },
  {
   "cell_type": "code",
   "execution_count": 17,
   "metadata": {},
   "outputs": [],
   "source": [
    "from sklearn.decomposition import PCA"
   ]
  },
  {
   "cell_type": "code",
   "execution_count": 18,
   "metadata": {},
   "outputs": [
    {
     "data": {
      "text/plain": [
       "<matplotlib.collections.PathCollection at 0x17f60a790>"
      ]
     },
     "execution_count": 18,
     "metadata": {},
     "output_type": "execute_result"
    },
    {
     "data": {
      "image/png": "[encoded data removed]",
      "text/plain": [
       "<Figure size 432x288 with 1 Axes>"
      ]
     },
     "metadata": {
      "needs_background": "light"
     },
     "output_type": "display_data"
    }
   ],
   "source": [
    "pca = PCA()\n",
    "x_red = pca.fit_transform(wine.data)\n",
    "plt.scatter(x_red[:, 0], x_red[:, 1], c=wine.target)"
   ]
  },
  {
   "cell_type": "markdown",
   "metadata": {},
   "source": [
    "## Question: Why the difference in the scatter plots?\n",
    "### (Hint: Look at the limits of the axes)"
   ]
  },
  {
   "cell_type": "markdown",
   "metadata": {},
   "source": [
    "## New Housing Data"
   ]
  },
  {
   "cell_type": "code",
   "execution_count": 19,
   "metadata": {},
   "outputs": [
    {
     "data": {
      "text/html": [
       "<div>\n",
       "<style scoped>\n",
       "    .dataframe tbody tr th:only-of-type {\n",
       "        vertical-align: middle;\n",
       "    }\n",
       "\n",
       "    .dataframe tbody tr th {\n",
       "        vertical-align: top;\n",
       "    }\n",
       "\n",
       "    .dataframe thead th {\n",
       "        text-align: right;\n",
       "    }\n",
       "</style>\n",
       "<table border=\"1\" class=\"dataframe\">\n",
       "  <thead>\n",
       "    <tr style=\"text-align: right;\">\n",
       "      <th></th>\n",
       "      <th>price</th>\n",
       "      <th>area</th>\n",
       "      <th>bedrooms</th>\n",
       "      <th>bathrooms</th>\n",
       "      <th>stories</th>\n",
       "      <th>mainroad</th>\n",
       "      <th>guestroom</th>\n",
       "      <th>basement</th>\n",
       "      <th>hotwaterheating</th>\n",
       "      <th>airconditioning</th>\n",
       "      <th>parking</th>\n",
       "      <th>prefarea</th>\n",
       "      <th>semi-furnished</th>\n",
       "      <th>unfurnished</th>\n",
       "      <th>areaperbedroom</th>\n",
       "      <th>bbratio</th>\n",
       "    </tr>\n",
       "  </thead>\n",
       "  <tbody>\n",
       "    <tr>\n",
       "      <th>0</th>\n",
       "      <td>5250000</td>\n",
       "      <td>5500</td>\n",
       "      <td>3</td>\n",
       "      <td>2</td>\n",
       "      <td>1</td>\n",
       "      <td>1</td>\n",
       "      <td>0</td>\n",
       "      <td>1</td>\n",
       "      <td>0</td>\n",
       "      <td>0</td>\n",
       "      <td>0</td>\n",
       "      <td>0</td>\n",
       "      <td>1</td>\n",
       "      <td>0</td>\n",
       "      <td>1833.333333</td>\n",
       "      <td>0.666667</td>\n",
       "    </tr>\n",
       "    <tr>\n",
       "      <th>1</th>\n",
       "      <td>4480000</td>\n",
       "      <td>4040</td>\n",
       "      <td>3</td>\n",
       "      <td>1</td>\n",
       "      <td>2</td>\n",
       "      <td>1</td>\n",
       "      <td>0</td>\n",
       "      <td>0</td>\n",
       "      <td>0</td>\n",
       "      <td>0</td>\n",
       "      <td>1</td>\n",
       "      <td>0</td>\n",
       "      <td>1</td>\n",
       "      <td>0</td>\n",
       "      <td>1346.666667</td>\n",
       "      <td>0.333333</td>\n",
       "    </tr>\n",
       "    <tr>\n",
       "      <th>2</th>\n",
       "      <td>3570000</td>\n",
       "      <td>3640</td>\n",
       "      <td>2</td>\n",
       "      <td>1</td>\n",
       "      <td>1</td>\n",
       "      <td>1</td>\n",
       "      <td>0</td>\n",
       "      <td>0</td>\n",
       "      <td>0</td>\n",
       "      <td>0</td>\n",
       "      <td>0</td>\n",
       "      <td>0</td>\n",
       "      <td>0</td>\n",
       "      <td>1</td>\n",
       "      <td>1820.000000</td>\n",
       "      <td>0.500000</td>\n",
       "    </tr>\n",
       "    <tr>\n",
       "      <th>3</th>\n",
       "      <td>2870000</td>\n",
       "      <td>3040</td>\n",
       "      <td>2</td>\n",
       "      <td>1</td>\n",
       "      <td>1</td>\n",
       "      <td>0</td>\n",
       "      <td>0</td>\n",
       "      <td>0</td>\n",
       "      <td>0</td>\n",
       "      <td>0</td>\n",
       "      <td>0</td>\n",
       "      <td>0</td>\n",
       "      <td>0</td>\n",
       "      <td>1</td>\n",
       "      <td>1520.000000</td>\n",
       "      <td>0.500000</td>\n",
       "    </tr>\n",
       "    <tr>\n",
       "      <th>4</th>\n",
       "      <td>3570000</td>\n",
       "      <td>4500</td>\n",
       "      <td>2</td>\n",
       "      <td>1</td>\n",
       "      <td>1</td>\n",
       "      <td>0</td>\n",
       "      <td>0</td>\n",
       "      <td>0</td>\n",
       "      <td>0</td>\n",
       "      <td>0</td>\n",
       "      <td>0</td>\n",
       "      <td>0</td>\n",
       "      <td>0</td>\n",
       "      <td>0</td>\n",
       "      <td>2250.000000</td>\n",
       "      <td>0.500000</td>\n",
       "    </tr>\n",
       "  </tbody>\n",
       "</table>\n",
       "</div>"
      ],
      "text/plain": [
       "     price  area  bedrooms  bathrooms  stories  mainroad  guestroom  basement  \\\n",
       "0  5250000  5500         3          2        1         1          0         1   \n",
       "1  4480000  4040         3          1        2         1          0         0   \n",
       "2  3570000  3640         2          1        1         1          0         0   \n",
       "3  2870000  3040         2          1        1         0          0         0   \n",
       "4  3570000  4500         2          1        1         0          0         0   \n",
       "\n",
       "   hotwaterheating  airconditioning  parking  prefarea  semi-furnished  \\\n",
       "0                0                0        0         0               1   \n",
       "1                0                0        1         0               1   \n",
       "2                0                0        0         0               0   \n",
       "3                0                0        0         0               0   \n",
       "4                0                0        0         0               0   \n",
       "\n",
       "   unfurnished  areaperbedroom   bbratio  \n",
       "0            0     1833.333333  0.666667  \n",
       "1            0     1346.666667  0.333333  \n",
       "2            1     1820.000000  0.500000  \n",
       "3            1     1520.000000  0.500000  \n",
       "4            0     2250.000000  0.500000  "
      ]
     },
     "execution_count": 19,
     "metadata": {},
     "output_type": "execute_result"
    }
   ],
   "source": [
    "df = pd.read_csv(\"newhousing.csv\")\n",
    "df.head()"
   ]
  },
  {
   "cell_type": "code",
   "execution_count": 20,
   "metadata": {},
   "outputs": [
    {
     "data": {
      "text/plain": [
       "<matplotlib.collections.PathCollection at 0x17f68deb0>"
      ]
     },
     "execution_count": 20,
     "metadata": {},
     "output_type": "execute_result"
    },
    {
     "data": {
      "image/png": "[encoded data removed]",
      "text/plain": [
       "<Figure size 432x288 with 1 Axes>"
      ]
     },
     "metadata": {
      "needs_background": "light"
     },
     "output_type": "display_data"
    }
   ],
   "source": [
    "pca = PCA()\n",
    "x_red = pca.fit_transform(wine.data)\n",
    "plt.scatter(x_red[:, 0], x_red[:, 1], c=wine.target)"
   ]
  },
  {
   "cell_type": "code",
   "execution_count": 21,
   "metadata": {},
   "outputs": [
    {
     "name": "stdout",
     "output_type": "stream",
     "text": [
      "Column-wise mean price              1.890435e-16\n",
      "area              -1.417826e-16\n",
      "bedrooms          -1.955622e-16\n",
      "bathrooms         -5.866867e-17\n",
      "stories           -1.042999e-16\n",
      "mainroad          -9.126237e-17\n",
      "guestroom         -4.889056e-18\n",
      "basement          -1.499310e-16\n",
      "hotwaterheating   -1.303748e-17\n",
      "airconditioning   -3.911244e-17\n",
      "parking            8.148426e-19\n",
      "prefarea           5.866867e-17\n",
      "semi-furnished    -5.866867e-17\n",
      "unfurnished       -6.192804e-17\n",
      "areaperbedroom     1.205967e-16\n",
      "bbratio           -5.866867e-17\n",
      "dtype: float64\n",
      "Column-wise variance price              1.0\n",
      "area               1.0\n",
      "bedrooms           1.0\n",
      "bathrooms          1.0\n",
      "stories            1.0\n",
      "mainroad           1.0\n",
      "guestroom          1.0\n",
      "basement           1.0\n",
      "hotwaterheating    1.0\n",
      "airconditioning    1.0\n",
      "parking            1.0\n",
      "prefarea           1.0\n",
      "semi-furnished     1.0\n",
      "unfurnished        1.0\n",
      "areaperbedroom     1.0\n",
      "bbratio            1.0\n",
      "dtype: float64\n"
     ]
    },
    {
     "data": {
      "text/html": [
       "<div>\n",
       "<style scoped>\n",
       "    .dataframe tbody tr th:only-of-type {\n",
       "        vertical-align: middle;\n",
       "    }\n",
       "\n",
       "    .dataframe tbody tr th {\n",
       "        vertical-align: top;\n",
       "    }\n",
       "\n",
       "    .dataframe thead th {\n",
       "        text-align: right;\n",
       "    }\n",
       "</style>\n",
       "<table border=\"1\" class=\"dataframe\">\n",
       "  <thead>\n",
       "    <tr style=\"text-align: right;\">\n",
       "      <th></th>\n",
       "      <th>price</th>\n",
       "      <th>area</th>\n",
       "      <th>bedrooms</th>\n",
       "      <th>bathrooms</th>\n",
       "      <th>stories</th>\n",
       "      <th>mainroad</th>\n",
       "      <th>guestroom</th>\n",
       "      <th>basement</th>\n",
       "      <th>hotwaterheating</th>\n",
       "      <th>airconditioning</th>\n",
       "      <th>parking</th>\n",
       "      <th>prefarea</th>\n",
       "      <th>semi-furnished</th>\n",
       "      <th>unfurnished</th>\n",
       "      <th>areaperbedroom</th>\n",
       "      <th>bbratio</th>\n",
       "    </tr>\n",
       "  </thead>\n",
       "  <tbody>\n",
       "    <tr>\n",
       "      <th>price</th>\n",
       "      <td>1.000000</td>\n",
       "      <td>0.535997</td>\n",
       "      <td>0.366494</td>\n",
       "      <td>0.517545</td>\n",
       "      <td>0.420712</td>\n",
       "      <td>0.296898</td>\n",
       "      <td>0.255517</td>\n",
       "      <td>0.187057</td>\n",
       "      <td>0.093073</td>\n",
       "      <td>0.452954</td>\n",
       "      <td>0.384394</td>\n",
       "      <td>0.329777</td>\n",
       "      <td>0.063656</td>\n",
       "      <td>-0.280587</td>\n",
       "      <td>0.244809</td>\n",
       "      <td>0.231732</td>\n",
       "    </tr>\n",
       "    <tr>\n",
       "      <th>area</th>\n",
       "      <td>0.535997</td>\n",
       "      <td>1.000000</td>\n",
       "      <td>0.151858</td>\n",
       "      <td>0.193820</td>\n",
       "      <td>0.083996</td>\n",
       "      <td>0.288874</td>\n",
       "      <td>0.140297</td>\n",
       "      <td>0.047417</td>\n",
       "      <td>-0.009229</td>\n",
       "      <td>0.222393</td>\n",
       "      <td>0.352980</td>\n",
       "      <td>0.234779</td>\n",
       "      <td>0.006156</td>\n",
       "      <td>-0.142278</td>\n",
       "      <td>0.805610</td>\n",
       "      <td>0.057116</td>\n",
       "    </tr>\n",
       "    <tr>\n",
       "      <th>bedrooms</th>\n",
       "      <td>0.366494</td>\n",
       "      <td>0.151858</td>\n",
       "      <td>1.000000</td>\n",
       "      <td>0.373930</td>\n",
       "      <td>0.408564</td>\n",
       "      <td>-0.012033</td>\n",
       "      <td>0.080549</td>\n",
       "      <td>0.097312</td>\n",
       "      <td>0.046049</td>\n",
       "      <td>0.160603</td>\n",
       "      <td>0.139270</td>\n",
       "      <td>0.079023</td>\n",
       "      <td>0.050040</td>\n",
       "      <td>-0.126252</td>\n",
       "      <td>-0.397259</td>\n",
       "      <td>-0.317303</td>\n",
       "    </tr>\n",
       "    <tr>\n",
       "      <th>bathrooms</th>\n",
       "      <td>0.517545</td>\n",
       "      <td>0.193820</td>\n",
       "      <td>0.373930</td>\n",
       "      <td>1.000000</td>\n",
       "      <td>0.326165</td>\n",
       "      <td>0.042398</td>\n",
       "      <td>0.126469</td>\n",
       "      <td>0.102106</td>\n",
       "      <td>0.067159</td>\n",
       "      <td>0.186915</td>\n",
       "      <td>0.177496</td>\n",
       "      <td>0.063472</td>\n",
       "      <td>0.029834</td>\n",
       "      <td>-0.132107</td>\n",
       "      <td>-0.052352</td>\n",
       "      <td>0.727154</td>\n",
       "    </tr>\n",
       "    <tr>\n",
       "      <th>stories</th>\n",
       "      <td>0.420712</td>\n",
       "      <td>0.083996</td>\n",
       "      <td>0.408564</td>\n",
       "      <td>0.326165</td>\n",
       "      <td>1.000000</td>\n",
       "      <td>0.121706</td>\n",
       "      <td>0.043538</td>\n",
       "      <td>-0.172394</td>\n",
       "      <td>0.018847</td>\n",
       "      <td>0.293602</td>\n",
       "      <td>0.045547</td>\n",
       "      <td>0.044425</td>\n",
       "      <td>-0.003648</td>\n",
       "      <td>-0.082972</td>\n",
       "      <td>-0.178942</td>\n",
       "      <td>0.032962</td>\n",
       "    </tr>\n",
       "    <tr>\n",
       "      <th>mainroad</th>\n",
       "      <td>0.296898</td>\n",
       "      <td>0.288874</td>\n",
       "      <td>-0.012033</td>\n",
       "      <td>0.042398</td>\n",
       "      <td>0.121706</td>\n",
       "      <td>1.000000</td>\n",
       "      <td>0.092337</td>\n",
       "      <td>0.044002</td>\n",
       "      <td>-0.011781</td>\n",
       "      <td>0.105423</td>\n",
       "      <td>0.204433</td>\n",
       "      <td>0.199876</td>\n",
       "      <td>0.011450</td>\n",
       "      <td>-0.133123</td>\n",
       "      <td>0.249829</td>\n",
       "      <td>0.030407</td>\n",
       "    </tr>\n",
       "    <tr>\n",
       "      <th>guestroom</th>\n",
       "      <td>0.255517</td>\n",
       "      <td>0.140297</td>\n",
       "      <td>0.080549</td>\n",
       "      <td>0.126469</td>\n",
       "      <td>0.043538</td>\n",
       "      <td>0.092337</td>\n",
       "      <td>1.000000</td>\n",
       "      <td>0.372066</td>\n",
       "      <td>-0.010308</td>\n",
       "      <td>0.138179</td>\n",
       "      <td>0.037466</td>\n",
       "      <td>0.160897</td>\n",
       "      <td>0.005821</td>\n",
       "      <td>-0.099023</td>\n",
       "      <td>0.054312</td>\n",
       "      <td>0.075854</td>\n",
       "    </tr>\n",
       "    <tr>\n",
       "      <th>basement</th>\n",
       "      <td>0.187057</td>\n",
       "      <td>0.047417</td>\n",
       "      <td>0.097312</td>\n",
       "      <td>0.102106</td>\n",
       "      <td>-0.172394</td>\n",
       "      <td>0.044002</td>\n",
       "      <td>0.372066</td>\n",
       "      <td>1.000000</td>\n",
       "      <td>0.004385</td>\n",
       "      <td>0.047341</td>\n",
       "      <td>0.051497</td>\n",
       "      <td>0.228083</td>\n",
       "      <td>0.050284</td>\n",
       "      <td>-0.117935</td>\n",
       "      <td>-0.017034</td>\n",
       "      <td>0.047346</td>\n",
       "    </tr>\n",
       "    <tr>\n",
       "      <th>hotwaterheating</th>\n",
       "      <td>0.093073</td>\n",
       "      <td>-0.009229</td>\n",
       "      <td>0.046049</td>\n",
       "      <td>0.067159</td>\n",
       "      <td>0.018847</td>\n",
       "      <td>-0.011781</td>\n",
       "      <td>-0.010308</td>\n",
       "      <td>0.004385</td>\n",
       "      <td>1.000000</td>\n",
       "      <td>-0.130023</td>\n",
       "      <td>0.067864</td>\n",
       "      <td>-0.059411</td>\n",
       "      <td>0.063819</td>\n",
       "      <td>-0.059194</td>\n",
       "      <td>-0.021634</td>\n",
       "      <td>0.021520</td>\n",
       "    </tr>\n",
       "    <tr>\n",
       "      <th>airconditioning</th>\n",
       "      <td>0.452954</td>\n",
       "      <td>0.222393</td>\n",
       "      <td>0.160603</td>\n",
       "      <td>0.186915</td>\n",
       "      <td>0.293602</td>\n",
       "      <td>0.105423</td>\n",
       "      <td>0.138179</td>\n",
       "      <td>0.047341</td>\n",
       "      <td>-0.130023</td>\n",
       "      <td>1.000000</td>\n",
       "      <td>0.159173</td>\n",
       "      <td>0.117382</td>\n",
       "      <td>-0.053179</td>\n",
       "      <td>-0.094086</td>\n",
       "      <td>0.096830</td>\n",
       "      <td>0.064649</td>\n",
       "    </tr>\n",
       "    <tr>\n",
       "      <th>parking</th>\n",
       "      <td>0.384394</td>\n",
       "      <td>0.352980</td>\n",
       "      <td>0.139270</td>\n",
       "      <td>0.177496</td>\n",
       "      <td>0.045547</td>\n",
       "      <td>0.204433</td>\n",
       "      <td>0.037466</td>\n",
       "      <td>0.051497</td>\n",
       "      <td>0.067864</td>\n",
       "      <td>0.159173</td>\n",
       "      <td>1.000000</td>\n",
       "      <td>0.091627</td>\n",
       "      <td>0.041327</td>\n",
       "      <td>-0.165705</td>\n",
       "      <td>0.224387</td>\n",
       "      <td>0.064107</td>\n",
       "    </tr>\n",
       "    <tr>\n",
       "      <th>prefarea</th>\n",
       "      <td>0.329777</td>\n",
       "      <td>0.234779</td>\n",
       "      <td>0.079023</td>\n",
       "      <td>0.063472</td>\n",
       "      <td>0.044425</td>\n",
       "      <td>0.199876</td>\n",
       "      <td>0.160897</td>\n",
       "      <td>0.228083</td>\n",
       "      <td>-0.059411</td>\n",
       "      <td>0.117382</td>\n",
       "      <td>0.091627</td>\n",
       "      <td>1.000000</td>\n",
       "      <td>-0.011535</td>\n",
       "      <td>-0.081271</td>\n",
       "      <td>0.141576</td>\n",
       "      <td>-0.018585</td>\n",
       "    </tr>\n",
       "    <tr>\n",
       "      <th>semi-furnished</th>\n",
       "      <td>0.063656</td>\n",
       "      <td>0.006156</td>\n",
       "      <td>0.050040</td>\n",
       "      <td>0.029834</td>\n",
       "      <td>-0.003648</td>\n",
       "      <td>0.011450</td>\n",
       "      <td>0.005821</td>\n",
       "      <td>0.050284</td>\n",
       "      <td>0.063819</td>\n",
       "      <td>-0.053179</td>\n",
       "      <td>0.041327</td>\n",
       "      <td>-0.011535</td>\n",
       "      <td>1.000000</td>\n",
       "      <td>-0.588405</td>\n",
       "      <td>-0.028909</td>\n",
       "      <td>-0.013016</td>\n",
       "    </tr>\n",
       "    <tr>\n",
       "      <th>unfurnished</th>\n",
       "      <td>-0.280587</td>\n",
       "      <td>-0.142278</td>\n",
       "      <td>-0.126252</td>\n",
       "      <td>-0.132107</td>\n",
       "      <td>-0.082972</td>\n",
       "      <td>-0.133123</td>\n",
       "      <td>-0.099023</td>\n",
       "      <td>-0.117935</td>\n",
       "      <td>-0.059194</td>\n",
       "      <td>-0.094086</td>\n",
       "      <td>-0.165705</td>\n",
       "      <td>-0.081271</td>\n",
       "      <td>-0.588405</td>\n",
       "      <td>1.000000</td>\n",
       "      <td>-0.062323</td>\n",
       "      <td>-0.041387</td>\n",
       "    </tr>\n",
       "    <tr>\n",
       "      <th>areaperbedroom</th>\n",
       "      <td>0.244809</td>\n",
       "      <td>0.805610</td>\n",
       "      <td>-0.397259</td>\n",
       "      <td>-0.052352</td>\n",
       "      <td>-0.178942</td>\n",
       "      <td>0.249829</td>\n",
       "      <td>0.054312</td>\n",
       "      <td>-0.017034</td>\n",
       "      <td>-0.021634</td>\n",
       "      <td>0.096830</td>\n",
       "      <td>0.224387</td>\n",
       "      <td>0.141576</td>\n",
       "      <td>-0.028909</td>\n",
       "      <td>-0.062323</td>\n",
       "      <td>1.000000</td>\n",
       "      <td>0.225242</td>\n",
       "    </tr>\n",
       "    <tr>\n",
       "      <th>bbratio</th>\n",
       "      <td>0.231732</td>\n",
       "      <td>0.057116</td>\n",
       "      <td>-0.317303</td>\n",
       "      <td>0.727154</td>\n",
       "      <td>0.032962</td>\n",
       "      <td>0.030407</td>\n",
       "      <td>0.075854</td>\n",
       "      <td>0.047346</td>\n",
       "      <td>0.021520</td>\n",
       "      <td>0.064649</td>\n",
       "      <td>0.064107</td>\n",
       "      <td>-0.018585</td>\n",
       "      <td>-0.013016</td>\n",
       "      <td>-0.041387</td>\n",
       "      <td>0.225242</td>\n",
       "      <td>1.000000</td>\n",
       "    </tr>\n",
       "  </tbody>\n",
       "</table>\n",
       "</div>"
      ],
      "text/plain": [
       "                    price      area  bedrooms  bathrooms   stories  mainroad  \\\n",
       "price            1.000000  0.535997  0.366494   0.517545  0.420712  0.296898   \n",
       "area             0.535997  1.000000  0.151858   0.193820  0.083996  0.288874   \n",
       "bedrooms         0.366494  0.151858  1.000000   0.373930  0.408564 -0.012033   \n",
       "bathrooms        0.517545  0.193820  0.373930   1.000000  0.326165  0.042398   \n",
       "stories          0.420712  0.083996  0.408564   0.326165  1.000000  0.121706   \n",
       "mainroad         0.296898  0.288874 -0.012033   0.042398  0.121706  1.000000   \n",
       "guestroom        0.255517  0.140297  0.080549   0.126469  0.043538  0.092337   \n",
       "basement         0.187057  0.047417  0.097312   0.102106 -0.172394  0.044002   \n",
       "hotwaterheating  0.093073 -0.009229  0.046049   0.067159  0.018847 -0.011781   \n",
       "airconditioning  0.452954  0.222393  0.160603   0.186915  0.293602  0.105423   \n",
       "parking          0.384394  0.352980  0.139270   0.177496  0.045547  0.204433   \n",
       "prefarea         0.329777  0.234779  0.079023   0.063472  0.044425  0.199876   \n",
       "semi-furnished   0.063656  0.006156  0.050040   0.029834 -0.003648  0.011450   \n",
       "unfurnished     -0.280587 -0.142278 -0.126252  -0.132107 -0.082972 -0.133123   \n",
       "areaperbedroom   0.244809  0.805610 -0.397259  -0.052352 -0.178942  0.249829   \n",
       "bbratio          0.231732  0.057116 -0.317303   0.727154  0.032962  0.030407   \n",
       "\n",
       "                 guestroom  basement  hotwaterheating  airconditioning  \\\n",
       "price             0.255517  0.187057         0.093073         0.452954   \n",
       "area              0.140297  0.047417        -0.009229         0.222393   \n",
       "bedrooms          0.080549  0.097312         0.046049         0.160603   \n",
       "bathrooms         0.126469  0.102106         0.067159         0.186915   \n",
       "stories           0.043538 -0.172394         0.018847         0.293602   \n",
       "mainroad          0.092337  0.044002        -0.011781         0.105423   \n",
       "guestroom         1.000000  0.372066        -0.010308         0.138179   \n",
       "basement          0.372066  1.000000         0.004385         0.047341   \n",
       "hotwaterheating  -0.010308  0.004385         1.000000        -0.130023   \n",
       "airconditioning   0.138179  0.047341        -0.130023         1.000000   \n",
       "parking           0.037466  0.051497         0.067864         0.159173   \n",
       "prefarea          0.160897  0.228083        -0.059411         0.117382   \n",
       "semi-furnished    0.005821  0.050284         0.063819        -0.053179   \n",
       "unfurnished      -0.099023 -0.117935        -0.059194        -0.094086   \n",
       "areaperbedroom    0.054312 -0.017034        -0.021634         0.096830   \n",
       "bbratio           0.075854  0.047346         0.021520         0.064649   \n",
       "\n",
       "                  parking  prefarea  semi-furnished  unfurnished  \\\n",
       "price            0.384394  0.329777        0.063656    -0.280587   \n",
       "area             0.352980  0.234779        0.006156    -0.142278   \n",
       "bedrooms         0.139270  0.079023        0.050040    -0.126252   \n",
       "bathrooms        0.177496  0.063472        0.029834    -0.132107   \n",
       "stories          0.045547  0.044425       -0.003648    -0.082972   \n",
       "mainroad         0.204433  0.199876        0.011450    -0.133123   \n",
       "guestroom        0.037466  0.160897        0.005821    -0.099023   \n",
       "basement         0.051497  0.228083        0.050284    -0.117935   \n",
       "hotwaterheating  0.067864 -0.059411        0.063819    -0.059194   \n",
       "airconditioning  0.159173  0.117382       -0.053179    -0.094086   \n",
       "parking          1.000000  0.091627        0.041327    -0.165705   \n",
       "prefarea         0.091627  1.000000       -0.011535    -0.081271   \n",
       "semi-furnished   0.041327 -0.011535        1.000000    -0.588405   \n",
       "unfurnished     -0.165705 -0.081271       -0.588405     1.000000   \n",
       "areaperbedroom   0.224387  0.141576       -0.028909    -0.062323   \n",
       "bbratio          0.064107 -0.018585       -0.013016    -0.041387   \n",
       "\n",
       "                 areaperbedroom   bbratio  \n",
       "price                  0.244809  0.231732  \n",
       "area                   0.805610  0.057116  \n",
       "bedrooms              -0.397259 -0.317303  \n",
       "bathrooms             -0.052352  0.727154  \n",
       "stories               -0.178942  0.032962  \n",
       "mainroad               0.249829  0.030407  \n",
       "guestroom              0.054312  0.075854  \n",
       "basement              -0.017034  0.047346  \n",
       "hotwaterheating       -0.021634  0.021520  \n",
       "airconditioning        0.096830  0.064649  \n",
       "parking                0.224387  0.064107  \n",
       "prefarea               0.141576 -0.018585  \n",
       "semi-furnished        -0.028909 -0.013016  \n",
       "unfurnished           -0.062323 -0.041387  \n",
       "areaperbedroom         1.000000  0.225242  \n",
       "bbratio                0.225242  1.000000  "
      ]
     },
     "execution_count": 21,
     "metadata": {},
     "output_type": "execute_result"
    }
   ],
   "source": [
    "#Normalization of the dataset.\n",
    "x_centered = df - df.mean(axis=0)\n",
    "x_scaled = x_centered / x_centered.std(axis=0)\n",
    "print(\"Column-wise mean\", x_scaled.mean(axis=0))\n",
    "print(\"Column-wise variance\", x_scaled.var(axis=0))\n",
    "\n",
    "#convert the array into dataframe.\n",
    "df = pd.DataFrame(x_scaled)\n",
    "\n",
    "#calculate the covariance matrix of ‘df’\n",
    "df.cov()"
   ]
  },
  {
   "cell_type": "code",
   "execution_count": null,
   "metadata": {},
   "outputs": [],
   "source": []
  }
 ],
 "metadata": {
  "kernelspec": {
   "display_name": "Python 3.9.13 64-bit",
   "language": "python",
   "name": "python3"
  },
  "language_info": {
   "codemirror_mode": {
    "name": "ipython",
    "version": 3
   },
   "file_extension": ".py",
   "mimetype": "text/x-python",
   "name": "python",
   "nbconvert_exporter": "python",
   "pygments_lexer": "ipython3",
   "version": "3.9.13"
  },
  "vscode": {
   "interpreter": {
    "hash": "b0fa6594d8f4cbf19f97940f81e996739fb7646882a419484c72d19e05852a7e"
   }
  }
 },
 "nbformat": 4,
 "nbformat_minor": 4
}
