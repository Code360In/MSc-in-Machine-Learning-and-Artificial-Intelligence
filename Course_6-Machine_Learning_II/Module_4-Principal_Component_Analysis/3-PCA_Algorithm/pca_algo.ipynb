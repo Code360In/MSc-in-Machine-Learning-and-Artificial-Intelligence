{
 "cells": [
  {
   "cell_type": "code",
   "execution_count": 1,
   "metadata": {},
   "outputs": [],
   "source": [
    "import pandas as pd\n",
    "import numpy as np\n",
    "import matplotlib.pyplot as plt\n",
    "from sklearn.datasets import load_iris\n",
    "from sklearn.decomposition import PCA\n",
    "from seaborn import heatmap\n",
    "plt.style.use('ggplot')\n",
    "%matplotlib inline"
   ]
  },
  {
   "cell_type": "markdown",
   "metadata": {},
   "source": [
    "## Load the Iris dataset"
   ]
  },
  {
   "cell_type": "code",
   "execution_count": 2,
   "metadata": {},
   "outputs": [
    {
     "data": {
      "text/html": [
       "<div>\n",
       "<style scoped>\n",
       "    .dataframe tbody tr th:only-of-type {\n",
       "        vertical-align: middle;\n",
       "    }\n",
       "\n",
       "    .dataframe tbody tr th {\n",
       "        vertical-align: top;\n",
       "    }\n",
       "\n",
       "    .dataframe thead th {\n",
       "        text-align: right;\n",
       "    }\n",
       "</style>\n",
       "<table border=\"1\" class=\"dataframe\">\n",
       "  <thead>\n",
       "    <tr style=\"text-align: right;\">\n",
       "      <th></th>\n",
       "      <th>sepal length (cm)</th>\n",
       "      <th>sepal width (cm)</th>\n",
       "      <th>petal length (cm)</th>\n",
       "      <th>petal width (cm)</th>\n",
       "    </tr>\n",
       "  </thead>\n",
       "  <tbody>\n",
       "    <tr>\n",
       "      <th>0</th>\n",
       "      <td>5.1</td>\n",
       "      <td>3.5</td>\n",
       "      <td>1.4</td>\n",
       "      <td>0.2</td>\n",
       "    </tr>\n",
       "    <tr>\n",
       "      <th>1</th>\n",
       "      <td>4.9</td>\n",
       "      <td>3.0</td>\n",
       "      <td>1.4</td>\n",
       "      <td>0.2</td>\n",
       "    </tr>\n",
       "    <tr>\n",
       "      <th>2</th>\n",
       "      <td>4.7</td>\n",
       "      <td>3.2</td>\n",
       "      <td>1.3</td>\n",
       "      <td>0.2</td>\n",
       "    </tr>\n",
       "    <tr>\n",
       "      <th>3</th>\n",
       "      <td>4.6</td>\n",
       "      <td>3.1</td>\n",
       "      <td>1.5</td>\n",
       "      <td>0.2</td>\n",
       "    </tr>\n",
       "    <tr>\n",
       "      <th>4</th>\n",
       "      <td>5.0</td>\n",
       "      <td>3.6</td>\n",
       "      <td>1.4</td>\n",
       "      <td>0.2</td>\n",
       "    </tr>\n",
       "  </tbody>\n",
       "</table>\n",
       "</div>"
      ],
      "text/plain": [
       "   sepal length (cm)  sepal width (cm)  petal length (cm)  petal width (cm)\n",
       "0                5.1               3.5                1.4               0.2\n",
       "1                4.9               3.0                1.4               0.2\n",
       "2                4.7               3.2                1.3               0.2\n",
       "3                4.6               3.1                1.5               0.2\n",
       "4                5.0               3.6                1.4               0.2"
      ]
     },
     "execution_count": 2,
     "metadata": {},
     "output_type": "execute_result"
    }
   ],
   "source": [
    "iris = load_iris()\n",
    "X = iris.data\n",
    "y = iris.target\n",
    "df = pd.DataFrame(X, columns=iris.feature_names)\n",
    "df.head()"
   ]
  },
  {
   "cell_type": "markdown",
   "metadata": {},
   "source": [
    "## Normalize the dataset"
   ]
  },
  {
   "cell_type": "code",
   "execution_count": 3,
   "metadata": {},
   "outputs": [
    {
     "name": "stdout",
     "output_type": "stream",
     "text": [
      "Column-wise mean [-1.65238193e-15 -1.86239912e-15 -1.68901929e-15 -1.44254978e-15]\n",
      "Column-wise variance [1. 1. 1. 1.]\n"
     ]
    }
   ],
   "source": [
    "x_centered = X - X.mean(axis=0)\n",
    "x_scaled = x_centered / x_centered.std(axis=0)\n",
    "print(\"Column-wise mean\", x_scaled.mean(axis=0))\n",
    "print(\"Column-wise variance\", x_scaled.var(axis=0))"
   ]
  },
  {
   "cell_type": "markdown",
   "metadata": {},
   "source": [
    "## Find the Covariance matrix"
   ]
  },
  {
   "cell_type": "code",
   "execution_count": 4,
   "metadata": {},
   "outputs": [
    {
     "name": "stdout",
     "output_type": "stream",
     "text": [
      "\u001b[0;31mSignature:\u001b[0m\n",
      "\u001b[0mnp\u001b[0m\u001b[0;34m.\u001b[0m\u001b[0mcov\u001b[0m\u001b[0;34m(\u001b[0m\u001b[0;34m\u001b[0m\n",
      "\u001b[0;34m\u001b[0m    \u001b[0mm\u001b[0m\u001b[0;34m,\u001b[0m\u001b[0;34m\u001b[0m\n",
      "\u001b[0;34m\u001b[0m    \u001b[0my\u001b[0m\u001b[0;34m=\u001b[0m\u001b[0;32mNone\u001b[0m\u001b[0;34m,\u001b[0m\u001b[0;34m\u001b[0m\n",
      "\u001b[0;34m\u001b[0m    \u001b[0mrowvar\u001b[0m\u001b[0;34m=\u001b[0m\u001b[0;32mTrue\u001b[0m\u001b[0;34m,\u001b[0m\u001b[0;34m\u001b[0m\n",
      "\u001b[0;34m\u001b[0m    \u001b[0mbias\u001b[0m\u001b[0;34m=\u001b[0m\u001b[0;32mFalse\u001b[0m\u001b[0;34m,\u001b[0m\u001b[0;34m\u001b[0m\n",
      "\u001b[0;34m\u001b[0m    \u001b[0mddof\u001b[0m\u001b[0;34m=\u001b[0m\u001b[0;32mNone\u001b[0m\u001b[0;34m,\u001b[0m\u001b[0;34m\u001b[0m\n",
      "\u001b[0;34m\u001b[0m    \u001b[0mfweights\u001b[0m\u001b[0;34m=\u001b[0m\u001b[0;32mNone\u001b[0m\u001b[0;34m,\u001b[0m\u001b[0;34m\u001b[0m\n",
      "\u001b[0;34m\u001b[0m    \u001b[0maweights\u001b[0m\u001b[0;34m=\u001b[0m\u001b[0;32mNone\u001b[0m\u001b[0;34m,\u001b[0m\u001b[0;34m\u001b[0m\n",
      "\u001b[0;34m\u001b[0m    \u001b[0;34m*\u001b[0m\u001b[0;34m,\u001b[0m\u001b[0;34m\u001b[0m\n",
      "\u001b[0;34m\u001b[0m    \u001b[0mdtype\u001b[0m\u001b[0;34m=\u001b[0m\u001b[0;32mNone\u001b[0m\u001b[0;34m,\u001b[0m\u001b[0;34m\u001b[0m\n",
      "\u001b[0;34m\u001b[0m\u001b[0;34m)\u001b[0m\u001b[0;34m\u001b[0m\u001b[0;34m\u001b[0m\u001b[0m\n",
      "\u001b[0;31mDocstring:\u001b[0m\n",
      "Estimate a covariance matrix, given data and weights.\n",
      "\n",
      "Covariance indicates the level to which two variables vary together.\n",
      "If we examine N-dimensional samples, :math:`X = [x_1, x_2, ... x_N]^T`,\n",
      "then the covariance matrix element :math:`C_{ij}` is the covariance of\n",
      ":math:`x_i` and :math:`x_j`. The element :math:`C_{ii}` is the variance\n",
      "of :math:`x_i`.\n",
      "\n",
      "See the notes for an outline of the algorithm.\n",
      "\n",
      "Parameters\n",
      "----------\n",
      "m : array_like\n",
      "    A 1-D or 2-D array containing multiple variables and observations.\n",
      "    Each row of `m` represents a variable, and each column a single\n",
      "    observation of all those variables. Also see `rowvar` below.\n",
      "y : array_like, optional\n",
      "    An additional set of variables and observations. `y` has the same form\n",
      "    as that of `m`.\n",
      "rowvar : bool, optional\n",
      "    If `rowvar` is True (default), then each row represents a\n",
      "    variable, with observations in the columns. Otherwise, the relationship\n",
      "    is transposed: each column represents a variable, while the rows\n",
      "    contain observations.\n",
      "bias : bool, optional\n",
      "    Default normalization (False) is by ``(N - 1)``, where ``N`` is the\n",
      "    number of observations given (unbiased estimate). If `bias` is True,\n",
      "    then normalization is by ``N``. These values can be overridden by using\n",
      "    the keyword ``ddof`` in numpy versions >= 1.5.\n",
      "ddof : int, optional\n",
      "    If not ``None`` the default value implied by `bias` is overridden.\n",
      "    Note that ``ddof=1`` will return the unbiased estimate, even if both\n",
      "    `fweights` and `aweights` are specified, and ``ddof=0`` will return\n",
      "    the simple average. See the notes for the details. The default value\n",
      "    is ``None``.\n",
      "\n",
      "    .. versionadded:: 1.5\n",
      "fweights : array_like, int, optional\n",
      "    1-D array of integer frequency weights; the number of times each\n",
      "    observation vector should be repeated.\n",
      "\n",
      "    .. versionadded:: 1.10\n",
      "aweights : array_like, optional\n",
      "    1-D array of observation vector weights. These relative weights are\n",
      "    typically large for observations considered \"important\" and smaller for\n",
      "    observations considered less \"important\". If ``ddof=0`` the array of\n",
      "    weights can be used to assign probabilities to observation vectors.\n",
      "\n",
      "    .. versionadded:: 1.10\n",
      "dtype : data-type, optional\n",
      "    Data-type of the result. By default, the return data-type will have\n",
      "    at least `numpy.float64` precision.\n",
      "\n",
      "    .. versionadded:: 1.20\n",
      "\n",
      "Returns\n",
      "-------\n",
      "out : ndarray\n",
      "    The covariance matrix of the variables.\n",
      "\n",
      "See Also\n",
      "--------\n",
      "corrcoef : Normalized covariance matrix\n",
      "\n",
      "Notes\n",
      "-----\n",
      "Assume that the observations are in the columns of the observation\n",
      "array `m` and let ``f = fweights`` and ``a = aweights`` for brevity. The\n",
      "steps to compute the weighted covariance are as follows::\n",
      "\n",
      "    >>> m = np.arange(10, dtype=np.float64)\n",
      "    >>> f = np.arange(10) * 2\n",
      "    >>> a = np.arange(10) ** 2.\n",
      "    >>> ddof = 1\n",
      "    >>> w = f * a\n",
      "    >>> v1 = np.sum(w)\n",
      "    >>> v2 = np.sum(w * a)\n",
      "    >>> m -= np.sum(m * w, axis=None, keepdims=True) / v1\n",
      "    >>> cov = np.dot(m * w, m.T) * v1 / (v1**2 - ddof * v2)\n",
      "\n",
      "Note that when ``a == 1``, the normalization factor\n",
      "``v1 / (v1**2 - ddof * v2)`` goes over to ``1 / (np.sum(f) - ddof)``\n",
      "as it should.\n",
      "\n",
      "Examples\n",
      "--------\n",
      "Consider two variables, :math:`x_0` and :math:`x_1`, which\n",
      "correlate perfectly, but in opposite directions:\n",
      "\n",
      ">>> x = np.array([[0, 2], [1, 1], [2, 0]]).T\n",
      ">>> x\n",
      "array([[0, 1, 2],\n",
      "       [2, 1, 0]])\n",
      "\n",
      "Note how :math:`x_0` increases while :math:`x_1` decreases. The covariance\n",
      "matrix shows this clearly:\n",
      "\n",
      ">>> np.cov(x)\n",
      "array([[ 1., -1.],\n",
      "       [-1.,  1.]])\n",
      "\n",
      "Note that element :math:`C_{0,1}`, which shows the correlation between\n",
      ":math:`x_0` and :math:`x_1`, is negative.\n",
      "\n",
      "Further, note how `x` and `y` are combined:\n",
      "\n",
      ">>> x = [-2.1, -1,  4.3]\n",
      ">>> y = [3,  1.1,  0.12]\n",
      ">>> X = np.stack((x, y), axis=0)\n",
      ">>> np.cov(X)\n",
      "array([[11.71      , -4.286     ], # may vary\n",
      "       [-4.286     ,  2.144133]])\n",
      ">>> np.cov(x, y)\n",
      "array([[11.71      , -4.286     ], # may vary\n",
      "       [-4.286     ,  2.144133]])\n",
      ">>> np.cov(x)\n",
      "array(11.71)\n",
      "\u001b[0;31mFile:\u001b[0m      /opt/homebrew/lib/python3.9/site-packages/numpy/lib/function_base.py\n",
      "\u001b[0;31mType:\u001b[0m      function\n"
     ]
    }
   ],
   "source": [
    "np.cov?"
   ]
  },
  {
   "cell_type": "code",
   "execution_count": 5,
   "metadata": {},
   "outputs": [
    {
     "data": {
      "text/plain": [
       "array([[ 1.00671141, -0.11835884,  0.87760447,  0.82343066],\n",
       "       [-0.11835884,  1.00671141, -0.43131554, -0.36858315],\n",
       "       [ 0.87760447, -0.43131554,  1.00671141,  0.96932762],\n",
       "       [ 0.82343066, -0.36858315,  0.96932762,  1.00671141]])"
      ]
     },
     "execution_count": 5,
     "metadata": {},
     "output_type": "execute_result"
    }
   ],
   "source": [
    "C = np.cov(x_scaled.T)\n",
    "C"
   ]
  },
  {
   "cell_type": "code",
   "execution_count": 6,
   "metadata": {},
   "outputs": [
    {
     "data": {
      "text/html": [
       "<div>\n",
       "<style scoped>\n",
       "    .dataframe tbody tr th:only-of-type {\n",
       "        vertical-align: middle;\n",
       "    }\n",
       "\n",
       "    .dataframe tbody tr th {\n",
       "        vertical-align: top;\n",
       "    }\n",
       "\n",
       "    .dataframe thead th {\n",
       "        text-align: right;\n",
       "    }\n",
       "</style>\n",
       "<table border=\"1\" class=\"dataframe\">\n",
       "  <thead>\n",
       "    <tr style=\"text-align: right;\">\n",
       "      <th></th>\n",
       "      <th>sepal length (cm)</th>\n",
       "      <th>sepal width (cm)</th>\n",
       "      <th>petal length (cm)</th>\n",
       "      <th>petal width (cm)</th>\n",
       "    </tr>\n",
       "  </thead>\n",
       "  <tbody>\n",
       "    <tr>\n",
       "      <th>sepal length (cm)</th>\n",
       "      <td>1.006711</td>\n",
       "      <td>-0.118359</td>\n",
       "      <td>0.877604</td>\n",
       "      <td>0.823431</td>\n",
       "    </tr>\n",
       "    <tr>\n",
       "      <th>sepal width (cm)</th>\n",
       "      <td>-0.118359</td>\n",
       "      <td>1.006711</td>\n",
       "      <td>-0.431316</td>\n",
       "      <td>-0.368583</td>\n",
       "    </tr>\n",
       "    <tr>\n",
       "      <th>petal length (cm)</th>\n",
       "      <td>0.877604</td>\n",
       "      <td>-0.431316</td>\n",
       "      <td>1.006711</td>\n",
       "      <td>0.969328</td>\n",
       "    </tr>\n",
       "    <tr>\n",
       "      <th>petal width (cm)</th>\n",
       "      <td>0.823431</td>\n",
       "      <td>-0.368583</td>\n",
       "      <td>0.969328</td>\n",
       "      <td>1.006711</td>\n",
       "    </tr>\n",
       "  </tbody>\n",
       "</table>\n",
       "</div>"
      ],
      "text/plain": [
       "                   sepal length (cm)  sepal width (cm)  petal length (cm)  \\\n",
       "sepal length (cm)           1.006711         -0.118359           0.877604   \n",
       "sepal width (cm)           -0.118359          1.006711          -0.431316   \n",
       "petal length (cm)           0.877604         -0.431316           1.006711   \n",
       "petal width (cm)            0.823431         -0.368583           0.969328   \n",
       "\n",
       "                   petal width (cm)  \n",
       "sepal length (cm)          0.823431  \n",
       "sepal width (cm)          -0.368583  \n",
       "petal length (cm)          0.969328  \n",
       "petal width (cm)           1.006711  "
      ]
     },
     "execution_count": 6,
     "metadata": {},
     "output_type": "execute_result"
    }
   ],
   "source": [
    "cdf = pd.DataFrame(C, index=iris.feature_names, columns=iris.feature_names)\n",
    "cdf"
   ]
  },
  {
   "cell_type": "code",
   "execution_count": 7,
   "metadata": {},
   "outputs": [
    {
     "data": {
      "text/plain": [
       "<AxesSubplot:>"
      ]
     },
     "execution_count": 7,
     "metadata": {},
     "output_type": "execute_result"
    },
    {
     "data": {
      "image/png": "[encoded data removed]",
      "text/plain": [
       "<Figure size 432x288 with 2 Axes>"
      ]
     },
     "metadata": {
      "needs_background": "light"
     },
     "output_type": "display_data"
    }
   ],
   "source": [
    "heatmap(cdf, annot=True, cmap=plt.cm.Blues)"
   ]
  },
  {
   "cell_type": "markdown",
   "metadata": {},
   "source": [
    "## Get the Eigenvalues & eigenvectors of the covariace matrix"
   ]
  },
  {
   "cell_type": "code",
   "execution_count": 8,
   "metadata": {},
   "outputs": [
    {
     "name": "stdout",
     "output_type": "stream",
     "text": [
      "\u001b[0;31mSignature:\u001b[0m \u001b[0mnp\u001b[0m\u001b[0;34m.\u001b[0m\u001b[0mlinalg\u001b[0m\u001b[0;34m.\u001b[0m\u001b[0meig\u001b[0m\u001b[0;34m(\u001b[0m\u001b[0ma\u001b[0m\u001b[0;34m)\u001b[0m\u001b[0;34m\u001b[0m\u001b[0;34m\u001b[0m\u001b[0m\n",
      "\u001b[0;31mDocstring:\u001b[0m\n",
      "Compute the eigenvalues and right eigenvectors of a square array.\n",
      "\n",
      "Parameters\n",
      "----------\n",
      "a : (..., M, M) array\n",
      "    Matrices for which the eigenvalues and right eigenvectors will\n",
      "    be computed\n",
      "\n",
      "Returns\n",
      "-------\n",
      "w : (..., M) array\n",
      "    The eigenvalues, each repeated according to its multiplicity.\n",
      "    The eigenvalues are not necessarily ordered. The resulting\n",
      "    array will be of complex type, unless the imaginary part is\n",
      "    zero in which case it will be cast to a real type. When `a`\n",
      "    is real the resulting eigenvalues will be real (0 imaginary\n",
      "    part) or occur in conjugate pairs\n",
      "\n",
      "v : (..., M, M) array\n",
      "    The normalized (unit \"length\") eigenvectors, such that the\n",
      "    column ``v[:,i]`` is the eigenvector corresponding to the\n",
      "    eigenvalue ``w[i]``.\n",
      "\n",
      "Raises\n",
      "------\n",
      "LinAlgError\n",
      "    If the eigenvalue computation does not converge.\n",
      "\n",
      "See Also\n",
      "--------\n",
      "eigvals : eigenvalues of a non-symmetric array.\n",
      "eigh : eigenvalues and eigenvectors of a real symmetric or complex\n",
      "       Hermitian (conjugate symmetric) array.\n",
      "eigvalsh : eigenvalues of a real symmetric or complex Hermitian\n",
      "           (conjugate symmetric) array.\n",
      "scipy.linalg.eig : Similar function in SciPy that also solves the\n",
      "                   generalized eigenvalue problem.\n",
      "scipy.linalg.schur : Best choice for unitary and other non-Hermitian\n",
      "                     normal matrices.\n",
      "\n",
      "Notes\n",
      "-----\n",
      "\n",
      ".. versionadded:: 1.8.0\n",
      "\n",
      "Broadcasting rules apply, see the `numpy.linalg` documentation for\n",
      "details.\n",
      "\n",
      "This is implemented using the ``_geev`` LAPACK routines which compute\n",
      "the eigenvalues and eigenvectors of general square arrays.\n",
      "\n",
      "The number `w` is an eigenvalue of `a` if there exists a vector\n",
      "`v` such that ``a @ v = w * v``. Thus, the arrays `a`, `w`, and\n",
      "`v` satisfy the equations ``a @ v[:,i] = w[i] * v[:,i]``\n",
      "for :math:`i \\in \\{0,...,M-1\\}`.\n",
      "\n",
      "The array `v` of eigenvectors may not be of maximum rank, that is, some\n",
      "of the columns may be linearly dependent, although round-off error may\n",
      "obscure that fact. If the eigenvalues are all different, then theoretically\n",
      "the eigenvectors are linearly independent and `a` can be diagonalized by\n",
      "a similarity transformation using `v`, i.e, ``inv(v) @ a @ v`` is diagonal.\n",
      "\n",
      "For non-Hermitian normal matrices the SciPy function `scipy.linalg.schur`\n",
      "is preferred because the matrix `v` is guaranteed to be unitary, which is\n",
      "not the case when using `eig`. The Schur factorization produces an\n",
      "upper triangular matrix rather than a diagonal matrix, but for normal\n",
      "matrices only the diagonal of the upper triangular matrix is needed, the\n",
      "rest is roundoff error.\n",
      "\n",
      "Finally, it is emphasized that `v` consists of the *right* (as in\n",
      "right-hand side) eigenvectors of `a`.  A vector `y` satisfying\n",
      "``y.T @ a = z * y.T`` for some number `z` is called a *left*\n",
      "eigenvector of `a`, and, in general, the left and right eigenvectors\n",
      "of a matrix are not necessarily the (perhaps conjugate) transposes\n",
      "of each other.\n",
      "\n",
      "References\n",
      "----------\n",
      "G. Strang, *Linear Algebra and Its Applications*, 2nd Ed., Orlando, FL,\n",
      "Academic Press, Inc., 1980, Various pp.\n",
      "\n",
      "Examples\n",
      "--------\n",
      ">>> from numpy import linalg as LA\n",
      "\n",
      "(Almost) trivial example with real e-values and e-vectors.\n",
      "\n",
      ">>> w, v = LA.eig(np.diag((1, 2, 3)))\n",
      ">>> w; v\n",
      "array([1., 2., 3.])\n",
      "array([[1., 0., 0.],\n",
      "       [0., 1., 0.],\n",
      "       [0., 0., 1.]])\n",
      "\n",
      "Real matrix possessing complex e-values and e-vectors; note that the\n",
      "e-values are complex conjugates of each other.\n",
      "\n",
      ">>> w, v = LA.eig(np.array([[1, -1], [1, 1]]))\n",
      ">>> w; v\n",
      "array([1.+1.j, 1.-1.j])\n",
      "array([[0.70710678+0.j        , 0.70710678-0.j        ],\n",
      "       [0.        -0.70710678j, 0.        +0.70710678j]])\n",
      "\n",
      "Complex-valued matrix with real e-values (but complex-valued e-vectors);\n",
      "note that ``a.conj().T == a``, i.e., `a` is Hermitian.\n",
      "\n",
      ">>> a = np.array([[1, 1j], [-1j, 1]])\n",
      ">>> w, v = LA.eig(a)\n",
      ">>> w; v\n",
      "array([2.+0.j, 0.+0.j])\n",
      "array([[ 0.        +0.70710678j,  0.70710678+0.j        ], # may vary\n",
      "       [ 0.70710678+0.j        , -0.        +0.70710678j]])\n",
      "\n",
      "Be careful about round-off error!\n",
      "\n",
      ">>> a = np.array([[1 + 1e-9, 0], [0, 1 - 1e-9]])\n",
      ">>> # Theor. e-values are 1 +/- 1e-9\n",
      ">>> w, v = LA.eig(a)\n",
      ">>> w; v\n",
      "array([1., 1.])\n",
      "array([[1., 0.],\n",
      "       [0., 1.]])\n",
      "\u001b[0;31mFile:\u001b[0m      /opt/homebrew/lib/python3.9/site-packages/numpy/linalg/linalg.py\n",
      "\u001b[0;31mType:\u001b[0m      function\n"
     ]
    }
   ],
   "source": [
    "np.linalg.eig?"
   ]
  },
  {
   "cell_type": "code",
   "execution_count": 9,
   "metadata": {},
   "outputs": [
    {
     "data": {
      "text/plain": [
       "array([2.93808505, 0.9201649 , 0.14774182, 0.02085386])"
      ]
     },
     "execution_count": 9,
     "metadata": {},
     "output_type": "execute_result"
    }
   ],
   "source": [
    "w, v = np.linalg.eig(C)\n",
    "w"
   ]
  },
  {
   "cell_type": "code",
   "execution_count": 10,
   "metadata": {},
   "outputs": [],
   "source": [
    "ix = np.argsort(w)[::-1]\n",
    "v_sorted = v[:, ix]"
   ]
  },
  {
   "cell_type": "markdown",
   "metadata": {},
   "source": [
    "## Select the number of components to keep"
   ]
  },
  {
   "cell_type": "code",
   "execution_count": 11,
   "metadata": {},
   "outputs": [],
   "source": [
    "N = 2"
   ]
  },
  {
   "cell_type": "markdown",
   "metadata": {},
   "source": [
    "## Project the data onto the principal components"
   ]
  },
  {
   "cell_type": "code",
   "execution_count": 12,
   "metadata": {},
   "outputs": [],
   "source": [
    "v_inv =np.linalg.pinv(v_sorted)"
   ]
  },
  {
   "cell_type": "code",
   "execution_count": 13,
   "metadata": {},
   "outputs": [],
   "source": [
    "x_lr = np.dot(v_inv, x_scaled.T).T\n",
    "x_lr_reduced = x_lr[:, :N]"
   ]
  },
  {
   "cell_type": "code",
   "execution_count": 14,
   "metadata": {},
   "outputs": [
    {
     "data": {
      "text/plain": [
       "<matplotlib.collections.PathCollection at 0x13a95efa0>"
      ]
     },
     "execution_count": 14,
     "metadata": {},
     "output_type": "execute_result"
    },
    {
     "data": {
      "image/png": "[encoded data removed]",
      "text/plain": [
       "<Figure size 432x288 with 1 Axes>"
      ]
     },
     "metadata": {
      "needs_background": "light"
     },
     "output_type": "display_data"
    }
   ],
   "source": [
    "plt.scatter(x_lr_reduced[:, 0], x_lr_reduced[:, 1], c=y)"
   ]
  },
  {
   "cell_type": "markdown",
   "metadata": {},
   "source": [
    "# Automate PCA with sklearn"
   ]
  },
  {
   "cell_type": "code",
   "execution_count": 15,
   "metadata": {},
   "outputs": [],
   "source": [
    "pca = PCA()\n",
    "x_lr = pca.fit_transform(X)"
   ]
  },
  {
   "cell_type": "code",
   "execution_count": 16,
   "metadata": {},
   "outputs": [
    {
     "data": {
      "text/plain": [
       "<matplotlib.collections.PathCollection at 0x13a9d89a0>"
      ]
     },
     "execution_count": 16,
     "metadata": {},
     "output_type": "execute_result"
    },
    {
     "data": {
      "image/png": "[encoded data removed]",
      "text/plain": [
       "<Figure size 432x288 with 1 Axes>"
      ]
     },
     "metadata": {
      "needs_background": "light"
     },
     "output_type": "display_data"
    }
   ],
   "source": [
    "plt.scatter(x_lr[:, 0], x_lr[:, 1], c=y)"
   ]
  },
  {
   "cell_type": "markdown",
   "metadata": {},
   "source": [
    "## Variance of each component - Scree Plots"
   ]
  },
  {
   "cell_type": "code",
   "execution_count": 17,
   "metadata": {},
   "outputs": [
    {
     "data": {
      "text/plain": [
       "Text(0, 0.5, 'Variance')"
      ]
     },
     "execution_count": 17,
     "metadata": {},
     "output_type": "execute_result"
    },
    {
     "data": {
      "image/png": "[encoded data removed]",
      "text/plain": [
       "<Figure size 432x288 with 1 Axes>"
      ]
     },
     "metadata": {
      "needs_background": "light"
     },
     "output_type": "display_data"
    }
   ],
   "source": [
    "pd.Series(pca.explained_variance_).plot(kind='bar')\n",
    "plt.xlabel('PCs')\n",
    "plt.ylabel('Variance')"
   ]
  },
  {
   "cell_type": "code",
   "execution_count": 18,
   "metadata": {},
   "outputs": [
    {
     "data": {
      "text/plain": [
       "Text(0, 0.5, 'Ratio of variance')"
      ]
     },
     "execution_count": 18,
     "metadata": {},
     "output_type": "execute_result"
    },
    {
     "data": {
      "image/png": "[encoded data removed]",
      "text/plain": [
       "<Figure size 432x288 with 1 Axes>"
      ]
     },
     "metadata": {
      "needs_background": "light"
     },
     "output_type": "display_data"
    }
   ],
   "source": [
    "pd.Series(pca.explained_variance_ratio_).plot(kind='bar')\n",
    "plt.xlabel('PCs')\n",
    "plt.ylabel('Ratio of variance')"
   ]
  },
  {
   "cell_type": "code",
   "execution_count": 19,
   "metadata": {},
   "outputs": [
    {
     "data": {
      "text/plain": [
       "Text(0, 0.5, 'Cumulative Variance Ratio')"
      ]
     },
     "execution_count": 19,
     "metadata": {},
     "output_type": "execute_result"
    },
    {
     "data": {
      "image/png": "[encoded data removed]",
      "text/plain": [
       "<Figure size 432x288 with 1 Axes>"
      ]
     },
     "metadata": {
      "needs_background": "light"
     },
     "output_type": "display_data"
    }
   ],
   "source": [
    "plt.plot(np.cumsum(pca.explained_variance_ratio_), '-o')\n",
    "plt.xlabel('Number of PCs')\n",
    "plt.ylabel('Cumulative Variance Ratio')"
   ]
  },
  {
   "cell_type": "markdown",
   "metadata": {},
   "source": [
    "## Biplot"
   ]
  },
  {
   "cell_type": "code",
   "execution_count": 20,
   "metadata": {},
   "outputs": [
    {
     "data": {
      "image/png": "[encoded data removed]",
      "text/plain": [
       "<Figure size 576x576 with 1 Axes>"
      ]
     },
     "metadata": {
      "needs_background": "light"
     },
     "output_type": "display_data"
    }
   ],
   "source": [
    "fig, ax = plt.subplots(figsize=(8, 8))\n",
    "ax.scatter(x_lr[:, 0], x_lr[:, 1], c=y)\n",
    "components = pca.components_\n",
    "sv = pca.singular_values_\n",
    "for i, feat in enumerate(iris.feature_names):\n",
    "    xx, yy = components[:2, i] # * sv[i]\n",
    "    ax.arrow(0, 0, xx, yy, color='r', width=0.02 ,length_includes_head=True, head_width=0.1)\n",
    "    ax.text(xx, yy, feat)"
   ]
  },
  {
   "cell_type": "markdown",
   "metadata": {},
   "source": [
    "# Exercise: Try PCA on the Breast Cancer dataset (given below):\n",
    "## 1. Find the number of PCs required to get > 99% variance\n",
    "## 2. Plot the top 2 PCs"
   ]
  },
  {
   "cell_type": "code",
   "execution_count": 21,
   "metadata": {},
   "outputs": [
    {
     "data": {
      "text/html": [
       "<div>\n",
       "<style scoped>\n",
       "    .dataframe tbody tr th:only-of-type {\n",
       "        vertical-align: middle;\n",
       "    }\n",
       "\n",
       "    .dataframe tbody tr th {\n",
       "        vertical-align: top;\n",
       "    }\n",
       "\n",
       "    .dataframe thead th {\n",
       "        text-align: right;\n",
       "    }\n",
       "</style>\n",
       "<table border=\"1\" class=\"dataframe\">\n",
       "  <thead>\n",
       "    <tr style=\"text-align: right;\">\n",
       "      <th></th>\n",
       "      <th>mean radius</th>\n",
       "      <th>mean texture</th>\n",
       "      <th>mean perimeter</th>\n",
       "      <th>mean area</th>\n",
       "      <th>mean smoothness</th>\n",
       "      <th>mean compactness</th>\n",
       "      <th>mean concavity</th>\n",
       "      <th>mean concave points</th>\n",
       "      <th>mean symmetry</th>\n",
       "      <th>mean fractal dimension</th>\n",
       "      <th>...</th>\n",
       "      <th>worst radius</th>\n",
       "      <th>worst texture</th>\n",
       "      <th>worst perimeter</th>\n",
       "      <th>worst area</th>\n",
       "      <th>worst smoothness</th>\n",
       "      <th>worst compactness</th>\n",
       "      <th>worst concavity</th>\n",
       "      <th>worst concave points</th>\n",
       "      <th>worst symmetry</th>\n",
       "      <th>worst fractal dimension</th>\n",
       "    </tr>\n",
       "  </thead>\n",
       "  <tbody>\n",
       "    <tr>\n",
       "      <th>0</th>\n",
       "      <td>17.99</td>\n",
       "      <td>10.38</td>\n",
       "      <td>122.80</td>\n",
       "      <td>1001.0</td>\n",
       "      <td>0.11840</td>\n",
       "      <td>0.27760</td>\n",
       "      <td>0.3001</td>\n",
       "      <td>0.14710</td>\n",
       "      <td>0.2419</td>\n",
       "      <td>0.07871</td>\n",
       "      <td>...</td>\n",
       "      <td>25.38</td>\n",
       "      <td>17.33</td>\n",
       "      <td>184.60</td>\n",
       "      <td>2019.0</td>\n",
       "      <td>0.1622</td>\n",
       "      <td>0.6656</td>\n",
       "      <td>0.7119</td>\n",
       "      <td>0.2654</td>\n",
       "      <td>0.4601</td>\n",
       "      <td>0.11890</td>\n",
       "    </tr>\n",
       "    <tr>\n",
       "      <th>1</th>\n",
       "      <td>20.57</td>\n",
       "      <td>17.77</td>\n",
       "      <td>132.90</td>\n",
       "      <td>1326.0</td>\n",
       "      <td>0.08474</td>\n",
       "      <td>0.07864</td>\n",
       "      <td>0.0869</td>\n",
       "      <td>0.07017</td>\n",
       "      <td>0.1812</td>\n",
       "      <td>0.05667</td>\n",
       "      <td>...</td>\n",
       "      <td>24.99</td>\n",
       "      <td>23.41</td>\n",
       "      <td>158.80</td>\n",
       "      <td>1956.0</td>\n",
       "      <td>0.1238</td>\n",
       "      <td>0.1866</td>\n",
       "      <td>0.2416</td>\n",
       "      <td>0.1860</td>\n",
       "      <td>0.2750</td>\n",
       "      <td>0.08902</td>\n",
       "    </tr>\n",
       "    <tr>\n",
       "      <th>2</th>\n",
       "      <td>19.69</td>\n",
       "      <td>21.25</td>\n",
       "      <td>130.00</td>\n",
       "      <td>1203.0</td>\n",
       "      <td>0.10960</td>\n",
       "      <td>0.15990</td>\n",
       "      <td>0.1974</td>\n",
       "      <td>0.12790</td>\n",
       "      <td>0.2069</td>\n",
       "      <td>0.05999</td>\n",
       "      <td>...</td>\n",
       "      <td>23.57</td>\n",
       "      <td>25.53</td>\n",
       "      <td>152.50</td>\n",
       "      <td>1709.0</td>\n",
       "      <td>0.1444</td>\n",
       "      <td>0.4245</td>\n",
       "      <td>0.4504</td>\n",
       "      <td>0.2430</td>\n",
       "      <td>0.3613</td>\n",
       "      <td>0.08758</td>\n",
       "    </tr>\n",
       "    <tr>\n",
       "      <th>3</th>\n",
       "      <td>11.42</td>\n",
       "      <td>20.38</td>\n",
       "      <td>77.58</td>\n",
       "      <td>386.1</td>\n",
       "      <td>0.14250</td>\n",
       "      <td>0.28390</td>\n",
       "      <td>0.2414</td>\n",
       "      <td>0.10520</td>\n",
       "      <td>0.2597</td>\n",
       "      <td>0.09744</td>\n",
       "      <td>...</td>\n",
       "      <td>14.91</td>\n",
       "      <td>26.50</td>\n",
       "      <td>98.87</td>\n",
       "      <td>567.7</td>\n",
       "      <td>0.2098</td>\n",
       "      <td>0.8663</td>\n",
       "      <td>0.6869</td>\n",
       "      <td>0.2575</td>\n",
       "      <td>0.6638</td>\n",
       "      <td>0.17300</td>\n",
       "    </tr>\n",
       "    <tr>\n",
       "      <th>4</th>\n",
       "      <td>20.29</td>\n",
       "      <td>14.34</td>\n",
       "      <td>135.10</td>\n",
       "      <td>1297.0</td>\n",
       "      <td>0.10030</td>\n",
       "      <td>0.13280</td>\n",
       "      <td>0.1980</td>\n",
       "      <td>0.10430</td>\n",
       "      <td>0.1809</td>\n",
       "      <td>0.05883</td>\n",
       "      <td>...</td>\n",
       "      <td>22.54</td>\n",
       "      <td>16.67</td>\n",
       "      <td>152.20</td>\n",
       "      <td>1575.0</td>\n",
       "      <td>0.1374</td>\n",
       "      <td>0.2050</td>\n",
       "      <td>0.4000</td>\n",
       "      <td>0.1625</td>\n",
       "      <td>0.2364</td>\n",
       "      <td>0.07678</td>\n",
       "    </tr>\n",
       "  </tbody>\n",
       "</table>\n",
       "<p>5 rows × 30 columns</p>\n",
       "</div>"
      ],
      "text/plain": [
       "   mean radius  mean texture  mean perimeter  mean area  mean smoothness  \\\n",
       "0        17.99         10.38          122.80     1001.0          0.11840   \n",
       "1        20.57         17.77          132.90     1326.0          0.08474   \n",
       "2        19.69         21.25          130.00     1203.0          0.10960   \n",
       "3        11.42         20.38           77.58      386.1          0.14250   \n",
       "4        20.29         14.34          135.10     1297.0          0.10030   \n",
       "\n",
       "   mean compactness  mean concavity  mean concave points  mean symmetry  \\\n",
       "0           0.27760          0.3001              0.14710         0.2419   \n",
       "1           0.07864          0.0869              0.07017         0.1812   \n",
       "2           0.15990          0.1974              0.12790         0.2069   \n",
       "3           0.28390          0.2414              0.10520         0.2597   \n",
       "4           0.13280          0.1980              0.10430         0.1809   \n",
       "\n",
       "   mean fractal dimension  ...  worst radius  worst texture  worst perimeter  \\\n",
       "0                 0.07871  ...         25.38          17.33           184.60   \n",
       "1                 0.05667  ...         24.99          23.41           158.80   \n",
       "2                 0.05999  ...         23.57          25.53           152.50   \n",
       "3                 0.09744  ...         14.91          26.50            98.87   \n",
       "4                 0.05883  ...         22.54          16.67           152.20   \n",
       "\n",
       "   worst area  worst smoothness  worst compactness  worst concavity  \\\n",
       "0      2019.0            0.1622             0.6656           0.7119   \n",
       "1      1956.0            0.1238             0.1866           0.2416   \n",
       "2      1709.0            0.1444             0.4245           0.4504   \n",
       "3       567.7            0.2098             0.8663           0.6869   \n",
       "4      1575.0            0.1374             0.2050           0.4000   \n",
       "\n",
       "   worst concave points  worst symmetry  worst fractal dimension  \n",
       "0                0.2654          0.4601                  0.11890  \n",
       "1                0.1860          0.2750                  0.08902  \n",
       "2                0.2430          0.3613                  0.08758  \n",
       "3                0.2575          0.6638                  0.17300  \n",
       "4                0.1625          0.2364                  0.07678  \n",
       "\n",
       "[5 rows x 30 columns]"
      ]
     },
     "execution_count": 21,
     "metadata": {},
     "output_type": "execute_result"
    }
   ],
   "source": [
    "from sklearn.datasets import load_breast_cancer\n",
    "bc = load_breast_cancer()\n",
    "X = bc.data\n",
    "y = bc.target\n",
    "df = pd.DataFrame(X, columns=bc.feature_names)\n",
    "df.head()"
   ]
  },
  {
   "cell_type": "code",
   "execution_count": 22,
   "metadata": {},
   "outputs": [
    {
     "data": {
      "image/png": "[encoded data removed]",
      "text/plain": [
       "<Figure size 432x288 with 1 Axes>"
      ]
     },
     "metadata": {
      "needs_background": "light"
     },
     "output_type": "display_data"
    }
   ],
   "source": [
    "# enter code here\n",
    "from sklearn.decomposition import PCA\n",
    "pca = PCA()\n",
    "x_red = pca.fit_transform(X)\n",
    "plt.plot(np.cumsum(pca.explained_variance_ratio_), '-o')\n",
    "plt.show()"
   ]
  },
  {
   "cell_type": "code",
   "execution_count": null,
   "metadata": {},
   "outputs": [],
   "source": []
  }
 ],
 "metadata": {
  "kernelspec": {
   "display_name": "Python 3",
   "language": "python",
   "name": "python3"
  },
  "language_info": {
   "codemirror_mode": {
    "name": "ipython",
    "version": 3
   },
   "file_extension": ".py",
   "mimetype": "text/x-python",
   "name": "python",
   "nbconvert_exporter": "python",
   "pygments_lexer": "ipython3",
   "version": "3.7.3"
  }
 },
 "nbformat": 4,
 "nbformat_minor": 4
}
