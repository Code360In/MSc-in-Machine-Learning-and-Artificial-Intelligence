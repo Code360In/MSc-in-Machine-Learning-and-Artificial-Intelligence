{
 "cells": [
  {
   "cell_type": "code",
   "execution_count": 1,
   "metadata": {},
   "outputs": [],
   "source": [
    "import numpy as np\n",
    "import matplotlib.pyplot as plt\n",
    "plt.style.use('fivethirtyeight')\n",
    "%matplotlib inline"
   ]
  },
  {
   "cell_type": "markdown",
   "metadata": {},
   "source": [
    "$$\\mathbf{x} = \\begin{bmatrix}1\\\\2\\\\3\\\\\\vdots\\\\n\\end{bmatrix}$$"
   ]
  },
  {
   "cell_type": "code",
   "execution_count": 2,
   "metadata": {},
   "outputs": [],
   "source": [
    "# IGNORE\n",
    "COLORS = plt.rcParams['axes.prop_cycle'].by_key()['color'] * 2\n",
    "\n",
    "def draw_vectors(*vectors, **kwargs):\n",
    "    X = np.vstack(vectors)\n",
    "    fig, ax = plt.subplots()\n",
    "    for i, v in enumerate(X):\n",
    "        ax.arrow(0, 0, *v, color=COLORS[i], length_includes_head=True,\n",
    "                 width=0.03, head_width=0.1)\n",
    "    xmax, ymax = np.abs(X.max(0))\n",
    "    ax.axis([-xmax - 1, xmax + 1, -ymax -1, ymax + 1])\n",
    "    ax.set_aspect('equal')"
   ]
  },
  {
   "cell_type": "markdown",
   "metadata": {},
   "source": [
    "# Vectors as Positions in Space"
   ]
  },
  {
   "cell_type": "code",
   "execution_count": 3,
   "metadata": {},
   "outputs": [
    {
     "data": {
      "image/png": "[encoded data removed]",
      "text/plain": [
       "<Figure size 432x288 with 1 Axes>"
      ]
     },
     "metadata": {
      "needs_background": "light"
     },
     "output_type": "display_data"
    }
   ],
   "source": [
    "x = np.array([1, 1])\n",
    "y = np.array([1, -1])\n",
    "draw_vectors(x, y)"
   ]
  },
  {
   "cell_type": "markdown",
   "metadata": {},
   "source": [
    "# Matrices as collections of Vectors"
   ]
  },
  {
   "cell_type": "code",
   "execution_count": 4,
   "metadata": {},
   "outputs": [
    {
     "data": {
      "image/png": "[encoded data removed]",
      "text/plain": [
       "<Figure size 432x288 with 1 Axes>"
      ]
     },
     "metadata": {
      "needs_background": "light"
     },
     "output_type": "display_data"
    }
   ],
   "source": [
    "pi = np.pi\n",
    "\n",
    "X = np.array([\n",
    "    [np.cos(0),          np.sin(0)         ],\n",
    "    [np.cos(pi / 4),     np.sin(pi / 4)    ],\n",
    "    [np.cos(pi / 2),     np.sin(pi / 2)    ],\n",
    "    [np.cos(3 * pi / 4), np.sin(3 * pi / 4)],\n",
    "    [np.cos(pi),         np.sin(pi)        ],\n",
    "    [np.cos(5 * pi / 4), np.sin(5 * pi / 4)],\n",
    "    [np.cos(3 * pi / 2), np.sin(3 * pi / 2)],\n",
    "    [np.cos(7 * pi / 4), np.sin(7 * pi / 4)]\n",
    "])\n",
    "draw_vectors(*X)\n",
    "plt.gca().set_aspect('equal')"
   ]
  },
  {
   "cell_type": "markdown",
   "metadata": {},
   "source": [
    "-----\n",
    "## Question: What is the shape of a matrix that represents 3 points on a graph paper?\n",
    "\n",
    "## Exercise: Create a matrix containing any two 2D vectors which are orthogonal, and draw them with the `draw_vectors` function."
   ]
  },
  {
   "cell_type": "code",
   "execution_count": 5,
   "metadata": {},
   "outputs": [
    {
     "data": {
      "image/png": "[encoded data removed]",
      "text/plain": [
       "<Figure size 432x288 with 1 Axes>"
      ]
     },
     "metadata": {
      "needs_background": "light"
     },
     "output_type": "display_data"
    }
   ],
   "source": [
    "# enter code here\n",
    "x = np.array([1, 1])\n",
    "y = np.array([-1, 1])\n",
    "X = np.array([[1, 1], [-1, 1]])\n",
    "\n",
    "draw_vectors(*X)"
   ]
  },
  {
   "cell_type": "code",
   "execution_count": 6,
   "metadata": {},
   "outputs": [
    {
     "data": {
      "image/png": "[encoded data removed]",
      "text/plain": [
       "<Figure size 432x288 with 1 Axes>"
      ]
     },
     "metadata": {
      "needs_background": "light"
     },
     "output_type": "display_data"
    }
   ],
   "source": [
    "# code to plot the four equally spaced vectors\n",
    "pi = np.pi\n",
    "\n",
    "X = np.array([\n",
    "    [np.cos(0),          np.sin(0)         ],\n",
    "    [np.cos(pi / 2),     np.sin(pi / 2)    ],\n",
    "    [np.cos(pi),     np.sin(pi)    ],\n",
    "    [np.cos(-pi / 2),     np.sin(-pi / 2)    ]\n",
    "])\n",
    "draw_vectors(*X)\n",
    "plt.gca().set_aspect('equal')"
   ]
  }
 ],
 "metadata": {
  "kernelspec": {
   "display_name": "Python 3.9.13 64-bit",
   "language": "python",
   "name": "python3"
  },
  "language_info": {
   "codemirror_mode": {
    "name": "ipython",
    "version": 3
   },
   "file_extension": ".py",
   "mimetype": "text/x-python",
   "name": "python",
   "nbconvert_exporter": "python",
   "pygments_lexer": "ipython3",
   "version": "3.9.13"
  },
  "vscode": {
   "interpreter": {
    "hash": "b0fa6594d8f4cbf19f97940f81e996739fb7646882a419484c72d19e05852a7e"
   }
  }
 },
 "nbformat": 4,
 "nbformat_minor": 4
}
