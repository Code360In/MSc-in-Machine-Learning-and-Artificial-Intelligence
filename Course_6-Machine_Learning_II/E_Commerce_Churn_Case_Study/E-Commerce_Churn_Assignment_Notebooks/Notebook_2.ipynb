{
 "cells": [
  {
   "cell_type": "code",
   "execution_count": 1,
   "metadata": {},
   "outputs": [
    {
     "name": "stdout",
     "output_type": "stream",
     "text": [
      "time: 336 µs (started: 2022-08-17 05:51:01 +00:00)\n"
     ]
    }
   ],
   "source": [
    "%load_ext autotime"
   ]
  },
  {
   "cell_type": "code",
   "execution_count": 2,
   "metadata": {},
   "outputs": [
    {
     "name": "stdout",
     "output_type": "stream",
     "text": [
      "time: 1.86 ms (started: 2022-08-17 05:51:01 +00:00)\n"
     ]
    }
   ],
   "source": [
    "# Setting the environment variables\n",
    "import os\n",
    "import sys\n",
    "os.environ[\"PYSPARK_PYTHON\"]=\"/usr/bin/python3\"\n",
    "os.environ[\"PYSPARK_DRIVER_PYTHON\"]=\"/usr/bin/python3\"\n",
    "os.environ[\"PYSPARK_DRIVER_PYTHON_OPTS\"]=\"notebook --no-browser\"\n",
    "os.environ[\"JAVA_HOME\"] = \"/usr/java/jdk1.8.0_161/jre\"\n",
    "os.environ[\"SPARK_HOME\"] = \"/home/ec2-user/spark-2.4.4-bin-hadoop2.7\"\n",
    "os.environ[\"PYLIB\"] = os.environ[\"SPARK_HOME\"] + \"/python/lib\"\n",
    "sys.path.insert(0, os.environ[\"PYLIB\"] + \"/py4j-0.10.7-src.zip\")\n",
    "sys.path.insert(0, os.environ[\"PYLIB\"] + \"/pyspark.zip\")"
   ]
  },
  {
   "cell_type": "code",
   "execution_count": 3,
   "metadata": {},
   "outputs": [
    {
     "name": "stdout",
     "output_type": "stream",
     "text": [
      "time: 9.41 s (started: 2022-08-17 05:51:01 +00:00)\n"
     ]
    }
   ],
   "source": [
    "# Spark environment\n",
    "from pyspark import SparkConf\n",
    "from pyspark.sql import SparkSession\n",
    "\n",
    "from pyspark.ml import Pipeline\n",
    "from pyspark.ml.classification import LogisticRegression\n",
    "from pyspark.ml.evaluation import MulticlassClassificationEvaluator\n",
    "from pyspark.ml.feature import OneHotEncoder, StringIndexer, VectorAssembler\n",
    "from pyspark.ml.tuning import CrossValidator, ParamGridBuilder\n",
    "\n",
    "# Python Utilities\n",
    "import matplotlib.pyplot as plt\n",
    "import numpy as np\n",
    "import pandas as pd\n",
    "import random\n",
    "import seaborn as sns"
   ]
  },
  {
   "cell_type": "markdown",
   "metadata": {},
   "source": [
    "# Ecommerce Churn Assignment"
   ]
  },
  {
   "cell_type": "markdown",
   "metadata": {},
   "source": [
    "The aim of the assignment is to build a model that predicts whether a person purchases an item after it has been added to the cart or not. Being a classification problem, you are expected to use your understanding of all the three models covered till now. You must select the most robust model and provide a solution that predicts the churn in the most suitable manner. \n",
    "\n",
    "For this assignment, you are provided the data associated with an e-commerce company for the month of October 2019. Your task is to first analyse the data, and then perform multiple steps towards the model building process.\n",
    "\n",
    "The broad tasks are:\n",
    "- Data Exploration\n",
    "- Feature Engineering\n",
    "- Model Selection\n",
    "- Model Inference"
   ]
  },
  {
   "cell_type": "markdown",
   "metadata": {},
   "source": [
    "### Data description"
   ]
  },
  {
   "cell_type": "markdown",
   "metadata": {},
   "source": [
    "The dataset stores the information of a customer session on the e-commerce platform. It records the activity and the associated parameters with it.\n",
    "\n",
    "- **event_time**: Date and time when user accesses the platform\n",
    "- **event_type**: Action performed by the customer\n",
    "            - View\n",
    "            - Cart\n",
    "            - Purchase\n",
    "            - Remove from cart\n",
    "- **product_id**: Unique number to identify the product in the event\n",
    "- **category_id**: Unique number to identify the category of the product\n",
    "- **category_code**: Stores primary and secondary categories of the product\n",
    "- **brand**: Brand associated with the product\n",
    "- **price**: Price of the product\n",
    "- **user_id**: Unique ID for a customer\n",
    "- **user_session**: Session ID for a user\n"
   ]
  },
  {
   "cell_type": "markdown",
   "metadata": {},
   "source": [
    "### Initialising the SparkSession"
   ]
  },
  {
   "cell_type": "markdown",
   "metadata": {},
   "source": [
    "The dataset provided is 5 GBs in size. Therefore, it is expected that you increase the driver memory to a greater number. You can refer to notebook 1 for the steps involved here."
   ]
  },
  {
   "cell_type": "code",
   "execution_count": 4,
   "metadata": {},
   "outputs": [
    {
     "data": {
      "text/html": [
       "\n",
       "            <div>\n",
       "                <p><b>SparkSession - in-memory</b></p>\n",
       "                \n",
       "        <div>\n",
       "            <p><b>SparkContext</b></p>\n",
       "\n",
       "            <p><a href=\"http://ip-172-31-22-223.ec2.internal:4040\">Spark UI</a></p>\n",
       "\n",
       "            <dl>\n",
       "              <dt>Version</dt>\n",
       "                <dd><code>v2.4.4</code></dd>\n",
       "              <dt>Master</dt>\n",
       "                <dd><code>local[*]</code></dd>\n",
       "              <dt>AppName</dt>\n",
       "                <dd><code>demo</code></dd>\n",
       "            </dl>\n",
       "        </div>\n",
       "        \n",
       "            </div>\n",
       "        "
      ],
      "text/plain": [
       "<pyspark.sql.session.SparkSession at 0x7f5243a5e6d0>"
      ]
     },
     "execution_count": 4,
     "metadata": {},
     "output_type": "execute_result"
    },
    {
     "name": "stdout",
     "output_type": "stream",
     "text": [
      "time: 48 s (started: 2022-08-17 05:51:11 +00:00)\n"
     ]
    }
   ],
   "source": [
    "MAX_MEMORY = \"14G\"\n",
    "\n",
    "spark = SparkSession \\\n",
    "    .builder \\\n",
    "    .appName(\"demo\") \\\n",
    "    .config(\"spark.driver.memory\", MAX_MEMORY) \\\n",
    "    .getOrCreate()\n",
    "\n",
    "spark.sparkContext.setLogLevel(\"ERROR\")\n",
    "spark"
   ]
  },
  {
   "cell_type": "code",
   "execution_count": 5,
   "metadata": {},
   "outputs": [
    {
     "name": "stdout",
     "output_type": "stream",
     "text": [
      "time: 5.19 s (started: 2022-08-17 05:51:59 +00:00)\n"
     ]
    }
   ],
   "source": [
    "# Loading the clean data\n",
    "df = spark.read.parquet(\"Parquets/cleaned_df.parquet\")"
   ]
  },
  {
   "cell_type": "code",
   "execution_count": null,
   "metadata": {},
   "outputs": [],
   "source": []
  },
  {
   "cell_type": "markdown",
   "metadata": {},
   "source": [
    "<hr>"
   ]
  },
  {
   "cell_type": "markdown",
   "metadata": {},
   "source": [
    "## Task 3: Model Selection\n",
    "3 models for classification:\t\n",
    "- Logistic Regression\n",
    "- Decision Tree\n",
    "- Random Forest"
   ]
  },
  {
   "cell_type": "markdown",
   "metadata": {},
   "source": [
    "### Model 1: Logistic Regression"
   ]
  },
  {
   "cell_type": "code",
   "execution_count": 6,
   "metadata": {},
   "outputs": [
    {
     "name": "stdout",
     "output_type": "stream",
     "text": [
      "time: 417 µs (started: 2022-08-17 05:52:04 +00:00)\n"
     ]
    }
   ],
   "source": [
    "# Additional steps for Logistic regression - Feature selection, Correlation, etc.\n"
   ]
  },
  {
   "cell_type": "code",
   "execution_count": null,
   "metadata": {},
   "outputs": [],
   "source": []
  },
  {
   "cell_type": "markdown",
   "metadata": {},
   "source": [
    "#### Feature Transformation"
   ]
  },
  {
   "cell_type": "code",
   "execution_count": 7,
   "metadata": {},
   "outputs": [
    {
     "name": "stdout",
     "output_type": "stream",
     "text": [
      "root\n",
      " |-- price: float (nullable = true)\n",
      " |-- day_of_week: integer (nullable = true)\n",
      " |-- category_code_primary: string (nullable = true)\n",
      " |-- category_code_secondary: string (nullable = true)\n",
      " |-- category_code_tertiary: string (nullable = true)\n",
      " |-- total_activities_count: integer (nullable = true)\n",
      " |-- user_product_count: integer (nullable = true)\n",
      " |-- category_secondary_count: integer (nullable = true)\n",
      " |-- average_price: float (nullable = true)\n",
      " |-- session_count: integer (nullable = true)\n",
      " |-- hours: integer (nullable = true)\n",
      " |-- brand: string (nullable = true)\n",
      " |-- is_purchased: integer (nullable = true)\n",
      "\n",
      "time: 25.5 ms (started: 2022-08-17 05:52:04 +00:00)\n"
     ]
    }
   ],
   "source": [
    "# Check if only the required columns are present to build the model\n",
    "# If not, drop the redundant columns\n",
    "df.printSchema()"
   ]
  },
  {
   "cell_type": "code",
   "execution_count": 8,
   "metadata": {},
   "outputs": [
    {
     "name": "stdout",
     "output_type": "stream",
     "text": [
      "+-----------+------+\n",
      "|day_of_week| count|\n",
      "+-----------+------+\n",
      "|          1|127641|\n",
      "|          6|137820|\n",
      "|          3|134835|\n",
      "|          5|127216|\n",
      "|          4|130523|\n",
      "|          7|126569|\n",
      "|          2|113839|\n",
      "+-----------+------+\n",
      "\n",
      "time: 3.9 s (started: 2022-08-17 05:52:04 +00:00)\n"
     ]
    }
   ],
   "source": [
    "df.groupBy(\"day_of_week\").count().show()"
   ]
  },
  {
   "cell_type": "code",
   "execution_count": 9,
   "metadata": {},
   "outputs": [
    {
     "name": "stdout",
     "output_type": "stream",
     "text": [
      "Categorical String Columns: ['category_code_primary', 'category_code_secondary', 'brand']\n",
      "time: 879 ms (started: 2022-08-17 05:52:08 +00:00)\n"
     ]
    }
   ],
   "source": [
    "# Categorising the attributes into its type - Continuous and Categorical\n",
    "string_cols = [\"category_code_primary\", \"category_code_secondary\", \"brand\"]\n",
    "\n",
    "print(f\"Categorical String Columns: {string_cols}\")\n",
    "string_indexers = [StringIndexer(inputCol=column, \n",
    "                                 outputCol=f\"{column}_stridx\") for column in string_cols]"
   ]
  },
  {
   "cell_type": "code",
   "execution_count": 10,
   "metadata": {},
   "outputs": [
    {
     "name": "stdout",
     "output_type": "stream",
     "text": [
      "Categorical Numerical Columns: ['category_code_primary_stridx', 'category_code_secondary_stridx', 'brand_stridx', 'hours']\n",
      "time: 19.5 ms (started: 2022-08-17 05:52:09 +00:00)\n"
     ]
    }
   ],
   "source": [
    "# Feature transformation for categorical features\n",
    "categorical_cols =  [f\"{col}_stridx\" for col in string_cols] + \\\n",
    "                    [\"hours\"]\n",
    "\n",
    "print(f\"Categorical Numerical Columns: {categorical_cols}\")                                       \n",
    "ohe_indexers = [OneHotEncoder(inputCol=column, \n",
    "                              outputCol=f\"{column}_ohe\") for column in categorical_cols]"
   ]
  },
  {
   "cell_type": "code",
   "execution_count": 11,
   "metadata": {},
   "outputs": [
    {
     "name": "stdout",
     "output_type": "stream",
     "text": [
      "Vector Assembler Features: ['category_code_primary_stridx_ohe', 'category_code_secondary_stridx_ohe', 'brand_stridx_ohe', 'hours_ohe', 'price', 'day_of_week', 'total_activities_count', 'user_product_count', 'average_price', 'category_secondary_count', 'session_count']\n",
      "time: 10.8 ms (started: 2022-08-17 05:52:09 +00:00)\n"
     ]
    }
   ],
   "source": [
    "# Vector assembler to combine all the features\n",
    "vector_columns = [f\"{col}_ohe\" for col in categorical_cols] + [\"price\", \"day_of_week\", \"total_activities_count\", \n",
    "                                                               \"user_product_count\", \"average_price\",\n",
    "                                                               \"category_secondary_count\", \"session_count\"]\n",
    "\n",
    "print(f\"Vector Assembler Features: {vector_columns}\")\n",
    "\n",
    "vector_assembler = VectorAssembler(inputCols=vector_columns, outputCol=\"features\")"
   ]
  },
  {
   "cell_type": "code",
   "execution_count": 12,
   "metadata": {},
   "outputs": [
    {
     "name": "stdout",
     "output_type": "stream",
     "text": [
      "time: 996 µs (started: 2022-08-17 05:52:09 +00:00)\n"
     ]
    }
   ],
   "source": [
    "# Pipeline for the tasks\n",
    "indexers = string_indexers + ohe_indexers + [vector_assembler]\n",
    "pipeline = Pipeline(stages=indexers)"
   ]
  },
  {
   "cell_type": "code",
   "execution_count": 13,
   "metadata": {},
   "outputs": [
    {
     "name": "stdout",
     "output_type": "stream",
     "text": [
      "time: 5.64 s (started: 2022-08-17 05:52:09 +00:00)\n"
     ]
    }
   ],
   "source": [
    "# Transforming the dataframe df\n",
    "df_transformed = pipeline.fit(df).transform(df)"
   ]
  },
  {
   "cell_type": "code",
   "execution_count": 14,
   "metadata": {},
   "outputs": [
    {
     "name": "stdout",
     "output_type": "stream",
     "text": [
      "root\n",
      " |-- price: float (nullable = true)\n",
      " |-- day_of_week: integer (nullable = true)\n",
      " |-- category_code_primary: string (nullable = true)\n",
      " |-- category_code_secondary: string (nullable = true)\n",
      " |-- category_code_tertiary: string (nullable = true)\n",
      " |-- total_activities_count: integer (nullable = true)\n",
      " |-- user_product_count: integer (nullable = true)\n",
      " |-- category_secondary_count: integer (nullable = true)\n",
      " |-- average_price: float (nullable = true)\n",
      " |-- session_count: integer (nullable = true)\n",
      " |-- hours: integer (nullable = true)\n",
      " |-- brand: string (nullable = true)\n",
      " |-- is_purchased: integer (nullable = true)\n",
      " |-- category_code_primary_stridx: double (nullable = false)\n",
      " |-- category_code_secondary_stridx: double (nullable = false)\n",
      " |-- brand_stridx: double (nullable = false)\n",
      " |-- category_code_primary_stridx_ohe: vector (nullable = true)\n",
      " |-- category_code_secondary_stridx_ohe: vector (nullable = true)\n",
      " |-- brand_stridx_ohe: vector (nullable = true)\n",
      " |-- hours_ohe: vector (nullable = true)\n",
      " |-- features: vector (nullable = true)\n",
      "\n",
      "time: 1.56 ms (started: 2022-08-17 05:52:14 +00:00)\n"
     ]
    }
   ],
   "source": [
    "# Schema of the transformed df\n",
    "df_transformed.printSchema()"
   ]
  },
  {
   "cell_type": "code",
   "execution_count": 15,
   "metadata": {},
   "outputs": [
    {
     "name": "stdout",
     "output_type": "stream",
     "text": [
      "+-------+-----------+---------------------+-----------------------+----------------------+----------------------+------------------+------------------------+-------------+-------------+-----+-------+------------+----------------------------+------------------------------+------------+--------------------------------+----------------------------------+----------------+-------------+-------------------------------------------------------------------------------------------------------------------+\n",
      "|price  |day_of_week|category_code_primary|category_code_secondary|category_code_tertiary|total_activities_count|user_product_count|category_secondary_count|average_price|session_count|hours|brand  |is_purchased|category_code_primary_stridx|category_code_secondary_stridx|brand_stridx|category_code_primary_stridx_ohe|category_code_secondary_stridx_ohe|brand_stridx_ohe|hours_ohe    |features                                                                                                           |\n",
      "+-------+-----------+---------------------+-----------------------+----------------------+----------------------+------------------+------------------------+-------------+-------------+-----+-------+------------+----------------------------+------------------------------+------------+--------------------------------+----------------------------------+----------------+-------------+-------------------------------------------------------------------------------------------------------------------+\n",
      "|755.49 |1          |electronics          |smartphone             |unavailable           |17                    |8                 |24                      |763.2492     |28           |0    |apple  |0           |0.0                         |0.0                           |1.0         |(13,[0],[1.0])                  |(39,[0],[1.0])                    |(18,[1],[1.0])  |(3,[0],[1.0])|(80,[0,13,53,70,73,74,75,76,77,78,79],[1.0,1.0,1.0,1.0,755.489990234375,1.0,17.0,8.0,763.2492065429688,24.0,28.0]) |\n",
      "|558.03 |5          |appliances           |kitchen                |mixer                 |5                     |4                 |20                      |452.95764    |21           |2    |others |0           |2.0                         |2.0                           |2.0         |(13,[2],[1.0])                  |(39,[2],[1.0])                    |(18,[2],[1.0])  |(3,[2],[1.0])|(80,[2,15,54,72,73,74,75,76,77,78,79],[1.0,1.0,1.0,1.0,558.030029296875,5.0,5.0,4.0,452.9576416015625,20.0,21.0])  |\n",
      "|545.63 |6          |electronics          |smartphone             |unavailable           |5                     |3                 |4                       |493.79       |5            |3    |samsung|0           |0.0                         |0.0                           |0.0         |(13,[0],[1.0])                  |(39,[0],[1.0])                    |(18,[0],[1.0])  |(3,[],[])    |(80,[0,13,52,73,74,75,76,77,78,79],[1.0,1.0,1.0,545.6300048828125,6.0,5.0,3.0,493.7900085449219,4.0,5.0])          |\n",
      "|164.59 |6          |electronics          |smartphone             |unavailable           |4                     |3                 |21                      |165.6309     |27           |1    |xiaomi |0           |0.0                         |0.0                           |3.0         |(13,[0],[1.0])                  |(39,[0],[1.0])                    |(18,[3],[1.0])  |(3,[1],[1.0])|(80,[0,13,55,71,73,74,75,76,77,78,79],[1.0,1.0,1.0,1.0,164.58999633789062,6.0,4.0,3.0,165.6309051513672,21.0,27.0])|\n",
      "|22.94  |1          |electronics          |audio                  |headphone             |3                     |2                 |10                      |50.12091     |11           |1    |xiaomi |0           |0.0                         |3.0                           |3.0         |(13,[0],[1.0])                  |(39,[3],[1.0])                    |(18,[3],[1.0])  |(3,[1],[1.0])|(80,[0,16,55,71,73,74,75,76,77,78,79],[1.0,1.0,1.0,1.0,22.940000534057617,1.0,3.0,2.0,50.12091064453125,10.0,11.0])|\n",
      "|460.63 |3          |electronics          |smartphone             |unavailable           |4                     |4                 |34                      |574.10486    |58           |0    |apple  |1           |0.0                         |0.0                           |1.0         |(13,[0],[1.0])                  |(39,[0],[1.0])                    |(18,[1],[1.0])  |(3,[0],[1.0])|(80,[0,13,53,70,73,74,75,76,77,78,79],[1.0,1.0,1.0,1.0,460.6300048828125,3.0,4.0,4.0,574.1048583984375,34.0,58.0]) |\n",
      "|288.03 |3          |electronics          |smartphone             |unavailable           |3                     |2                 |9                       |312.606      |19           |1    |samsung|1           |0.0                         |0.0                           |0.0         |(13,[0],[1.0])                  |(39,[0],[1.0])                    |(18,[0],[1.0])  |(3,[1],[1.0])|(80,[0,13,52,71,73,74,75,76,77,78,79],[1.0,1.0,1.0,1.0,288.0299987792969,3.0,3.0,2.0,312.6059875488281,9.0,19.0])  |\n",
      "|29.58  |1          |unavailable          |unavailable            |unavailable           |3                     |11                |180                     |62.871258    |468          |3    |others |1           |1.0                         |1.0                           |2.0         |(13,[1],[1.0])                  |(39,[1],[1.0])                    |(18,[2],[1.0])  |(3,[],[])    |(80,[1,14,54,73,74,75,76,77,78,79],[1.0,1.0,1.0,29.579999923706055,1.0,3.0,11.0,62.87125778198242,180.0,468.0])    |\n",
      "|50.32  |3          |unavailable          |unavailable            |unavailable           |5                     |2                 |2                       |50.32        |5            |0    |others |1           |1.0                         |1.0                           |2.0         |(13,[1],[1.0])                  |(39,[1],[1.0])                    |(18,[2],[1.0])  |(3,[0],[1.0])|(80,[1,14,54,70,73,74,75,76,77,78,79],[1.0,1.0,1.0,1.0,50.31999969482422,3.0,5.0,2.0,50.31999969482422,2.0,5.0])   |\n",
      "|50.32  |3          |unavailable          |unavailable            |unavailable           |5                     |2                 |2                       |50.32        |5            |0    |others |1           |1.0                         |1.0                           |2.0         |(13,[1],[1.0])                  |(39,[1],[1.0])                    |(18,[2],[1.0])  |(3,[0],[1.0])|(80,[1,14,54,70,73,74,75,76,77,78,79],[1.0,1.0,1.0,1.0,50.31999969482422,3.0,5.0,2.0,50.31999969482422,2.0,5.0])   |\n",
      "|122.98 |1          |electronics          |video                  |tv                    |5                     |3                 |3                       |122.98       |61           |1    |artel  |1           |0.0                         |4.0                           |12.0        |(13,[0],[1.0])                  |(39,[4],[1.0])                    |(18,[12],[1.0]) |(3,[1],[1.0])|(80,[0,17,64,71,73,74,75,76,77,78,79],[1.0,1.0,1.0,1.0,122.9800033569336,1.0,5.0,3.0,122.9800033569336,3.0,61.0])  |\n",
      "|130.76 |3          |electronics          |smartphone             |unavailable           |4                     |2                 |4                       |766.165      |8            |0    |samsung|1           |0.0                         |0.0                           |0.0         |(13,[0],[1.0])                  |(39,[0],[1.0])                    |(18,[0],[1.0])  |(3,[0],[1.0])|(80,[0,13,52,70,73,74,75,76,77,78,79],[1.0,1.0,1.0,1.0,130.75999450683594,3.0,4.0,2.0,766.1649780273438,4.0,8.0])  |\n",
      "|635.77 |6          |electronics          |clocks                 |unavailable           |3                     |2                 |26                      |1070.4691    |129          |1    |apple  |1           |0.0                         |6.0                           |1.0         |(13,[0],[1.0])                  |(39,[6],[1.0])                    |(18,[1],[1.0])  |(3,[1],[1.0])|(80,[0,19,53,71,73,74,75,76,77,78,79],[1.0,1.0,1.0,1.0,635.77001953125,6.0,3.0,2.0,1070.4691162109375,26.0,129.0]) |\n",
      "|244.51 |1          |electronics          |tablet                 |unavailable           |8                     |5                 |5                       |244.51       |24           |1    |samsung|1           |0.0                         |10.0                          |0.0         |(13,[0],[1.0])                  |(39,[10],[1.0])                   |(18,[0],[1.0])  |(3,[1],[1.0])|(80,[0,23,52,71,73,74,75,76,77,78,79],[1.0,1.0,1.0,1.0,244.50999450683594,1.0,8.0,5.0,244.50999450683594,5.0,24.0])|\n",
      "|244.51 |1          |electronics          |tablet                 |unavailable           |8                     |5                 |5                       |244.51       |24           |1    |samsung|1           |0.0                         |10.0                          |0.0         |(13,[0],[1.0])                  |(39,[10],[1.0])                   |(18,[0],[1.0])  |(3,[1],[1.0])|(80,[0,23,52,71,73,74,75,76,77,78,79],[1.0,1.0,1.0,1.0,244.50999450683594,1.0,8.0,5.0,244.50999450683594,5.0,24.0])|\n",
      "|126.1  |4          |appliances           |kitchen                |microwave             |12                    |4                 |7                       |126.1        |19           |1    |samsung|0           |2.0                         |2.0                           |0.0         |(13,[2],[1.0])                  |(39,[2],[1.0])                    |(18,[0],[1.0])  |(3,[1],[1.0])|(80,[2,15,52,71,73,74,75,76,77,78,79],[1.0,1.0,1.0,1.0,126.0999984741211,4.0,12.0,4.0,126.0999984741211,7.0,19.0]) |\n",
      "|131.92 |7          |electronics          |smartphone             |unavailable           |5                     |5                 |7                       |146.52455    |35           |1    |samsung|1           |0.0                         |0.0                           |0.0         |(13,[0],[1.0])                  |(39,[0],[1.0])                    |(18,[0],[1.0])  |(3,[1],[1.0])|(80,[0,13,52,71,73,74,75,76,77,78,79],[1.0,1.0,1.0,1.0,131.9199981689453,7.0,5.0,5.0,146.52455139160156,7.0,35.0]) |\n",
      "|1055.06|3          |electronics          |smartphone             |unavailable           |2                     |43                |84                      |1028.6536    |98           |1    |apple  |1           |0.0                         |0.0                           |1.0         |(13,[0],[1.0])                  |(39,[0],[1.0])                    |(18,[1],[1.0])  |(3,[1],[1.0])|(80,[0,13,53,71,73,74,75,76,77,78,79],[1.0,1.0,1.0,1.0,1055.06005859375,3.0,2.0,43.0,1028.653564453125,84.0,98.0]) |\n",
      "|1055.06|3          |electronics          |smartphone             |unavailable           |6                     |43                |84                      |1028.6536    |98           |1    |apple  |1           |0.0                         |0.0                           |1.0         |(13,[0],[1.0])                  |(39,[0],[1.0])                    |(18,[1],[1.0])  |(3,[1],[1.0])|(80,[0,13,53,71,73,74,75,76,77,78,79],[1.0,1.0,1.0,1.0,1055.06005859375,3.0,6.0,43.0,1028.653564453125,84.0,98.0]) |\n",
      "|1055.06|3          |electronics          |smartphone             |unavailable           |2                     |43                |84                      |1028.6536    |98           |2    |apple  |1           |0.0                         |0.0                           |1.0         |(13,[0],[1.0])                  |(39,[0],[1.0])                    |(18,[1],[1.0])  |(3,[2],[1.0])|(80,[0,13,53,72,73,74,75,76,77,78,79],[1.0,1.0,1.0,1.0,1055.06005859375,3.0,2.0,43.0,1028.653564453125,84.0,98.0]) |\n",
      "+-------+-----------+---------------------+-----------------------+----------------------+----------------------+------------------+------------------------+-------------+-------------+-----+-------+------------+----------------------------+------------------------------+------------+--------------------------------+----------------------------------+----------------+-------------+-------------------------------------------------------------------------------------------------------------------+\n",
      "only showing top 20 rows\n",
      "\n",
      "time: 612 ms (started: 2022-08-17 05:52:14 +00:00)\n"
     ]
    }
   ],
   "source": [
    "# Checking the elements of the transformed df - Top 20 rows\n",
    "df_transformed.show(20, truncate=False)"
   ]
  },
  {
   "cell_type": "code",
   "execution_count": 16,
   "metadata": {},
   "outputs": [
    {
     "name": "stdout",
     "output_type": "stream",
     "text": [
      "Saving Transformed Dataframe to 'Parquets/transformed_df.parquet'\n",
      "time: 15.3 s (started: 2022-08-17 05:52:15 +00:00)\n"
     ]
    }
   ],
   "source": [
    "# Storing the transformed df in S3 bucket to prevent repetition of steps again\n",
    "if not \"transformed_df.parquet\" in os.listdir(\"Parquets\"):\n",
    "    print(\"Saving Transformed Dataframe to 'Parquets/transformed_df.parquet'\")\n",
    "    df_transformed.coalesce(1).write.option(\"header\", \"true\").parquet(\"Parquets/transformed_df.parquet\")\n",
    "else:\n",
    "    print(\"Transformed Dataframe already available at 'Parquets/transformed_df.parquet'\")"
   ]
  },
  {
   "cell_type": "markdown",
   "metadata": {},
   "source": [
    "#### Train-test split"
   ]
  },
  {
   "cell_type": "code",
   "execution_count": 17,
   "metadata": {},
   "outputs": [
    {
     "name": "stdout",
     "output_type": "stream",
     "text": [
      "time: 24.7 ms (started: 2022-08-17 05:52:30 +00:00)\n"
     ]
    }
   ],
   "source": [
    "# Splitting the data into train and test (Remember you are expected to compare the model later)\n",
    "df_train, df_test = df_transformed.randomSplit([0.7, 0.3], seed=42)\n"
   ]
  },
  {
   "cell_type": "code",
   "execution_count": 18,
   "metadata": {},
   "outputs": [
    {
     "name": "stdout",
     "output_type": "stream",
     "text": [
      "Number of Train rows: 628038\n",
      "Number of Test rows: 270405\n",
      "time: 14.5 s (started: 2022-08-17 05:52:30 +00:00)\n"
     ]
    }
   ],
   "source": [
    "# Number of rows in train and test data\n",
    "print(f\"Number of Train rows: {df_train.count()}\")\n",
    "print(f\"Number of Test rows: {df_test.count()}\")"
   ]
  },
  {
   "cell_type": "markdown",
   "metadata": {},
   "source": [
    "#### Model Fitting"
   ]
  },
  {
   "cell_type": "code",
   "execution_count": 19,
   "metadata": {},
   "outputs": [
    {
     "name": "stdout",
     "output_type": "stream",
     "text": [
      "time: 549 µs (started: 2022-08-17 05:52:45 +00:00)\n"
     ]
    }
   ],
   "source": [
    "label_column = \"is_purchased\""
   ]
  },
  {
   "cell_type": "code",
   "execution_count": 20,
   "metadata": {},
   "outputs": [
    {
     "name": "stdout",
     "output_type": "stream",
     "text": [
      "time: 124 ms (started: 2022-08-17 05:52:45 +00:00)\n"
     ]
    }
   ],
   "source": [
    "# Building the model\n",
    "lr = LogisticRegression(featuresCol=\"features\", labelCol=label_column)"
   ]
  },
  {
   "cell_type": "code",
   "execution_count": 21,
   "metadata": {},
   "outputs": [
    {
     "name": "stdout",
     "output_type": "stream",
     "text": [
      "time: 33.7 s (started: 2022-08-17 05:52:45 +00:00)\n"
     ]
    }
   ],
   "source": [
    "# Fitting the model on transformed df\n",
    "lr_model = lr.fit(df_train)"
   ]
  },
  {
   "cell_type": "markdown",
   "metadata": {},
   "source": [
    "#### Model Analysis"
   ]
  },
  {
   "cell_type": "markdown",
   "metadata": {},
   "source": [
    "Required Steps:\n",
    "- Fit on test data\n",
    "- Performance analysis\n",
    "    - Appropriate Metric with reasoning\n",
    "    - Threshold selection"
   ]
  },
  {
   "cell_type": "code",
   "execution_count": 22,
   "metadata": {},
   "outputs": [
    {
     "name": "stdout",
     "output_type": "stream",
     "text": [
      "time: 371 ms (started: 2022-08-17 05:53:19 +00:00)\n"
     ]
    }
   ],
   "source": [
    "result_test = lr_model.evaluate(df_test)"
   ]
  },
  {
   "cell_type": "code",
   "execution_count": 23,
   "metadata": {},
   "outputs": [
    {
     "data": {
      "image/png": "[encoded data removed]",
      "text/plain": [
       "<Figure size 432x288 with 1 Axes>"
      ]
     },
     "metadata": {
      "needs_background": "light"
     },
     "output_type": "display_data"
    },
    {
     "name": "stdout",
     "output_type": "stream",
     "text": [
      "time: 14.6 s (started: 2022-08-17 05:53:19 +00:00)\n"
     ]
    }
   ],
   "source": [
    "sns.scatterplot(data=lr_model.summary.roc.toPandas(), x=\"FPR\", y=\"TPR\")\n",
    "plt.show()"
   ]
  },
  {
   "cell_type": "code",
   "execution_count": 24,
   "metadata": {},
   "outputs": [
    {
     "name": "stdout",
     "output_type": "stream",
     "text": [
      "Area under ROC: 0.6586096281782211\n",
      "time: 76.2 ms (started: 2022-08-17 05:53:33 +00:00)\n"
     ]
    }
   ],
   "source": [
    "print(f\"Area under ROC: {lr_model.summary.areaUnderROC}\")"
   ]
  },
  {
   "cell_type": "code",
   "execution_count": 25,
   "metadata": {},
   "outputs": [
    {
     "data": {
      "text/html": [
       "<div>\n",
       "<style scoped>\n",
       "    .dataframe tbody tr th:only-of-type {\n",
       "        vertical-align: middle;\n",
       "    }\n",
       "\n",
       "    .dataframe tbody tr th {\n",
       "        vertical-align: top;\n",
       "    }\n",
       "\n",
       "    .dataframe thead th {\n",
       "        text-align: right;\n",
       "    }\n",
       "</style>\n",
       "<table border=\"1\" class=\"dataframe\">\n",
       "  <thead>\n",
       "    <tr style=\"text-align: right;\">\n",
       "      <th></th>\n",
       "      <th>is_purchased</th>\n",
       "      <th>prediction</th>\n",
       "      <th>count</th>\n",
       "    </tr>\n",
       "  </thead>\n",
       "  <tbody>\n",
       "    <tr>\n",
       "      <th>0</th>\n",
       "      <td>0</td>\n",
       "      <td>0.0</td>\n",
       "      <td>30082</td>\n",
       "    </tr>\n",
       "    <tr>\n",
       "      <th>1</th>\n",
       "      <td>0</td>\n",
       "      <td>1.0</td>\n",
       "      <td>76244</td>\n",
       "    </tr>\n",
       "    <tr>\n",
       "      <th>2</th>\n",
       "      <td>1</td>\n",
       "      <td>0.0</td>\n",
       "      <td>21674</td>\n",
       "    </tr>\n",
       "    <tr>\n",
       "      <th>3</th>\n",
       "      <td>1</td>\n",
       "      <td>1.0</td>\n",
       "      <td>142405</td>\n",
       "    </tr>\n",
       "  </tbody>\n",
       "</table>\n",
       "</div>"
      ],
      "text/plain": [
       "   is_purchased  prediction   count\n",
       "0             0         0.0   30082\n",
       "1             0         1.0   76244\n",
       "2             1         0.0   21674\n",
       "3             1         1.0  142405"
      ]
     },
     "execution_count": 25,
     "metadata": {},
     "output_type": "execute_result"
    },
    {
     "name": "stdout",
     "output_type": "stream",
     "text": [
      "time: 1min 25s (started: 2022-08-17 05:53:34 +00:00)\n"
     ]
    }
   ],
   "source": [
    "results_df = result_test.predictions.coalesce(1)\n",
    "results_pd = results_df.toPandas()\n",
    "confusion_matrix_pd = results_pd.groupby([label_column, \"prediction\"]).size().reset_index(name=\"count\")\n",
    "confusion_matrix_pd.head()"
   ]
  },
  {
   "cell_type": "code",
   "execution_count": 26,
   "metadata": {},
   "outputs": [
    {
     "data": {
      "image/png": "[encoded data removed]",
      "text/plain": [
       "<Figure size 432x288 with 2 Axes>"
      ]
     },
     "metadata": {
      "needs_background": "light"
     },
     "output_type": "display_data"
    },
    {
     "name": "stdout",
     "output_type": "stream",
     "text": [
      "Recall/Sensitivity       : 0.8679050944971629\n",
      "Precision                : 0.6512949979190392\n",
      "Specificity              : 0.2829223332016628\n",
      "Negative Predictive Value: 0.5812272973181853\n",
      "F1 Score                 : 0.7441577308166635\n",
      "Negative F1 Score        : 0.38058729014056\n",
      "time: 246 ms (started: 2022-08-17 05:54:59 +00:00)\n"
     ]
    }
   ],
   "source": [
    "TP = confusion_matrix_pd[(confusion_matrix_pd[label_column]==1) & (confusion_matrix_pd.prediction==1)][\"count\"].values\n",
    "FP = confusion_matrix_pd[(confusion_matrix_pd[label_column]==0) & (confusion_matrix_pd.prediction==1)][\"count\"].values\n",
    "FN = confusion_matrix_pd[(confusion_matrix_pd[label_column]==1) & (confusion_matrix_pd.prediction==0)][\"count\"].values\n",
    "TN = confusion_matrix_pd[(confusion_matrix_pd[label_column]==0) & (confusion_matrix_pd.prediction==0)][\"count\"].values\n",
    "\n",
    "TP = TP[0] if bool(TP) else 0\n",
    "FP = FP[0] if bool(FP) else 0\n",
    "TN = TN[0] if bool(TN) else 0\n",
    "FN = FN[0] if bool(FN) else 0\n",
    "\n",
    "confussion_matrix = np.array([[TN, FP],\n",
    "                              [FN, TP]])\n",
    "sns.heatmap(confussion_matrix, annot=True, cmap=\"Pastel1\", fmt=\"g\")\n",
    "plt.show()\n",
    "recall = TP / (TP + FN)\n",
    "precision = TP / (TP + FP)\n",
    "specificity = TN / (TN + FP)\n",
    "negative_predictive_value = TN / (TN + FN)\n",
    "\n",
    "f1_score = 2 * (recall * precision) / (recall + precision)\n",
    "negative_f1_score = 2 * (specificity * negative_predictive_value) / \\\n",
    "                        (specificity + negative_predictive_value)\n",
    "\n",
    "print(f\"{'Recall/Sensitivity': <25}: {recall}\")\n",
    "print(f\"{'Precision': <25}: {precision}\")\n",
    "print(f\"{'Specificity': <25}: {specificity}\")\n",
    "print(f\"{'Negative Predictive Value': <25}: {negative_predictive_value}\")\n",
    "print(f\"{'F1 Score': <25}: {f1_score}\")\n",
    "print(f\"{'Negative F1 Score': <25}: {negative_f1_score}\")"
   ]
  },
  {
   "cell_type": "markdown",
   "metadata": {},
   "source": [
    "#### Updated model, if any\n",
    "Repeat the steps "
   ]
  },
  {
   "cell_type": "code",
   "execution_count": 27,
   "metadata": {},
   "outputs": [
    {
     "name": "stdout",
     "output_type": "stream",
     "text": [
      "time: 37min 3s (started: 2022-08-17 05:54:59 +00:00)\n"
     ]
    }
   ],
   "source": [
    "# Initialising LogisticRegression\n",
    "log_reg = LogisticRegression(featuresCol=\"features\", \n",
    "                             labelCol=\"is_purchased\", \n",
    "                             family=\"auto\")\n",
    "\n",
    "# Creating Parameter Grid search on LR model\n",
    "reg_params = [0.001, 0.01, 0.1, 0.2]\n",
    "max_iters = [10, 15, 20]\n",
    "thresholds = [0.4, 0.45, 0.5, 0.55, 0.6, 0.65]\n",
    "\n",
    "param_grid = ParamGridBuilder().addGrid(log_reg.regParam, reg_params) \\\n",
    "                               .addGrid(log_reg.maxIter, max_iters) \\\n",
    "                               .addGrid(log_reg.threshold, thresholds) \\\n",
    "                               .build()\n",
    "\n",
    "class_evaluator = MulticlassClassificationEvaluator(labelCol=label_column, \n",
    "                                                    metricName=\"accuracy\")\n",
    "\n",
    "cross_validator = CrossValidator(estimator=log_reg,\n",
    "                                 estimatorParamMaps=param_grid,\n",
    "                                 evaluator=class_evaluator,\n",
    "                                 numFolds=10,\n",
    "                                 parallelism=4)\n",
    "\n",
    "# Run cross-validation, and choose the best set of parameters.\n",
    "cross_validator_model = cross_validator.fit(df_train)\n",
    "\n",
    "# Make predictions on testing data and calculating ROC metrics and model accuracy. \n",
    "prediction = cross_validator_model.transform(df_test)"
   ]
  },
  {
   "cell_type": "code",
   "execution_count": 28,
   "metadata": {},
   "outputs": [
    {
     "name": "stdout",
     "output_type": "stream",
     "text": [
      "regParam = 0.001\n",
      "maxIter = 15\n",
      "threshold = 0.5\n",
      "time: 952 µs (started: 2022-08-17 06:32:02 +00:00)\n"
     ]
    }
   ],
   "source": [
    "best_model_params = cross_validator_model.getEstimatorParamMaps()[np.argmax(cross_validator_model.avgMetrics)]\n",
    "param_keys = list(best_model_params.keys())\n",
    "for param in param_keys:\n",
    "    print(f\"{param.name} = {best_model_params[param]}\")"
   ]
  },
  {
   "cell_type": "code",
   "execution_count": 29,
   "metadata": {},
   "outputs": [
    {
     "name": "stdout",
     "output_type": "stream",
     "text": [
      "time: 150 ms (started: 2022-08-17 06:32:02 +00:00)\n"
     ]
    }
   ],
   "source": [
    "best_model = cross_validator_model.bestModel\n",
    "best_model_result = best_model.evaluate(df_test)"
   ]
  },
  {
   "cell_type": "code",
   "execution_count": 30,
   "metadata": {},
   "outputs": [
    {
     "name": "stdout",
     "output_type": "stream",
     "text": [
      "Accuracy            : 0.637266322738115\n",
      "Area Under ROC      : 0.6577404346556953\n",
      "Precision By Label  : [0.5812705863789669, 0.6501884353493792]\n",
      "Recall By Label     : [0.2771758553881459, 0.8706111080637985]\n",
      "Weighted TPR        : 0.637266322738115\n",
      "Weighted FPR        : 0.4894793592861706\n",
      "time: 27.1 s (started: 2022-08-17 06:32:03 +00:00)\n"
     ]
    }
   ],
   "source": [
    "print(f\"{'Accuracy': <20}: {best_model_result.accuracy}\")\n",
    "print(f\"{'Area Under ROC': <20}: {best_model_result.areaUnderROC}\")\n",
    "print(f\"{'Precision By Label': <20}: {best_model_result.precisionByLabel}\")\n",
    "print(f\"{'Recall By Label': <20}: {best_model_result.recallByLabel}\")\n",
    "print(f\"{'Weighted TPR': <20}: {best_model_result.weightedTruePositiveRate}\")\n",
    "print(f\"{'Weighted FPR': <20}: {best_model_result.weightedFalsePositiveRate}\")"
   ]
  },
  {
   "cell_type": "code",
   "execution_count": 31,
   "metadata": {},
   "outputs": [
    {
     "name": "stdout",
     "output_type": "stream",
     "text": [
      "time: 327 ms (started: 2022-08-17 06:32:30 +00:00)\n"
     ]
    }
   ],
   "source": [
    "lr_model_path = \"Models/LogisticRegression\"\n",
    "best_model.save(lr_model_path)"
   ]
  },
  {
   "cell_type": "code",
   "execution_count": null,
   "metadata": {},
   "outputs": [],
   "source": []
  },
  {
   "cell_type": "code",
   "execution_count": null,
   "metadata": {},
   "outputs": [],
   "source": []
  }
 ],
 "metadata": {
  "kernelspec": {
   "display_name": "Python 3",
   "language": "python",
   "name": "python3"
  },
  "language_info": {
   "codemirror_mode": {
    "name": "ipython",
    "version": 3
   },
   "file_extension": ".py",
   "mimetype": "text/x-python",
   "name": "python",
   "nbconvert_exporter": "python",
   "pygments_lexer": "ipython3",
   "version": "3.7.9"
  }
 },
 "nbformat": 4,
 "nbformat_minor": 4
}
