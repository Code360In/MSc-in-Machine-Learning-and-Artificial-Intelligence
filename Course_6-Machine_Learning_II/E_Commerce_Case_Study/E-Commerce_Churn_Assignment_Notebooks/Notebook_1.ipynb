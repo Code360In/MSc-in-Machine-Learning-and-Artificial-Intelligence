{
 "cells": [
  {
   "cell_type": "code",
   "execution_count": 1,
   "metadata": {},
   "outputs": [
    {
     "name": "stdout",
     "output_type": "stream",
     "text": [
      "time: 610 µs (started: 2022-08-12 15:34:11 +00:00)\n"
     ]
    }
   ],
   "source": [
    "# Installing necessary dependent packages\n",
    "!pip3 install -q ipython-autotime\n",
    "!pip3 install -q matplotlib\n",
    "!pip3 install -q seaborn\n",
    "\n",
    "# Loading autotime for the notebook\n",
    "%load_ext autotime"
   ]
  },
  {
   "cell_type": "code",
   "execution_count": 2,
   "metadata": {},
   "outputs": [
    {
     "name": "stdout",
     "output_type": "stream",
     "text": [
      "time: 1.15 ms (started: 2022-08-12 15:34:11 +00:00)\n"
     ]
    }
   ],
   "source": [
    "# Setting the environment variables\n",
    "\n",
    "import os\n",
    "import sys\n",
    "os.environ[\"PYSPARK_PYTHON\"]=\"/usr/bin/python3\"\n",
    "os.environ[\"PYSPARK_DRIVER_PYTHON\"]=\"/usr/bin/python3\"\n",
    "os.environ[\"PYSPARK_DRIVER_PYTHON_OPTS\"]=\"notebook --no-browser\"\n",
    "os.environ[\"JAVA_HOME\"] = \"/usr/java/jdk1.8.0_161/jre\"\n",
    "os.environ[\"SPARK_HOME\"] = \"/home/ec2-user/spark-2.4.4-bin-hadoop2.7\"\n",
    "os.environ[\"PYLIB\"] = os.environ[\"SPARK_HOME\"] + \"/python/lib\"\n",
    "sys.path.insert(0, os.environ[\"PYLIB\"] + \"/py4j-0.10.7-src.zip\")\n",
    "sys.path.insert(0, os.environ[\"PYLIB\"] + \"/pyspark.zip\")"
   ]
  },
  {
   "cell_type": "markdown",
   "metadata": {},
   "source": [
    "# Ecommerce Churn Assignment"
   ]
  },
  {
   "cell_type": "markdown",
   "metadata": {},
   "source": [
    "The aim of the assignment is to build a model that predicts whether a person purchases an item after it has been added to the cart or not. Being a classification problem, you are expected to use your understanding of all the three models covered till now. You must select the most robust model and provide a solution that predicts the churn in the most suitable manner. \n",
    "\n",
    "For this assignment, you are provided the data associated with an e-commerce company for the month of October 2019. Your task is to first analyse the data, and then perform multiple steps towards the model building process.\n",
    "\n",
    "The broad tasks are:\n",
    "- Data Exploration\n",
    "- Feature Engineering\n",
    "- Model Selection\n",
    "- Model Inference"
   ]
  },
  {
   "cell_type": "markdown",
   "metadata": {},
   "source": [
    "### Data description"
   ]
  },
  {
   "cell_type": "markdown",
   "metadata": {},
   "source": [
    "The dataset stores the information of a customer session on the e-commerce platform. It records the activity and the associated parameters with it.\n",
    "\n",
    "- **event_time**: Date and time when user accesses the platform\n",
    "- **event_type**: Action performed by the customer\n",
    "            - View\n",
    "            - Cart\n",
    "            - Purchase\n",
    "            - Remove from cart\n",
    "- **product_id**: Unique number to identify the product in the event\n",
    "- **category_id**: Unique number to identify the category of the product\n",
    "- **category_code**: Stores primary and secondary categories of the product\n",
    "- **brand**: Brand associated with the product\n",
    "- **price**: Price of the product\n",
    "- **user_id**: Unique ID for a customer\n",
    "- **user_session**: Session ID for a user\n"
   ]
  },
  {
   "cell_type": "markdown",
   "metadata": {},
   "source": [
    "### Initialising the SparkSession"
   ]
  },
  {
   "cell_type": "markdown",
   "metadata": {},
   "source": [
    "The dataset provided is 5 GBs in size. Therefore, it is expected that you increase the driver memory to a greater number."
   ]
  },
  {
   "cell_type": "code",
   "execution_count": 3,
   "metadata": {},
   "outputs": [
    {
     "name": "stdout",
     "output_type": "stream",
     "text": [
      "time: 1.79 s (started: 2022-08-12 15:34:11 +00:00)\n"
     ]
    }
   ],
   "source": [
    "# Spark environment\n",
    "from pyspark import SparkConf\n",
    "from pyspark.sql import SparkSession\n",
    "\n",
    "# PySpark SQL function and Types\n",
    "from pyspark.sql import DataFrame\n",
    "from pyspark.sql import functions as F\n",
    "from pyspark.sql import types as T\n",
    "from pyspark.sql import Window as W\n",
    "\n",
    "# Python Utilities\n",
    "import matplotlib.pyplot as plt\n",
    "import numpy as np\n",
    "import pandas as pd\n",
    "import seaborn as sns"
   ]
  },
  {
   "cell_type": "code",
   "execution_count": 4,
   "metadata": {},
   "outputs": [
    {
     "data": {
      "text/html": [
       "\n",
       "            <div>\n",
       "                <p><b>SparkSession - in-memory</b></p>\n",
       "                \n",
       "        <div>\n",
       "            <p><b>SparkContext</b></p>\n",
       "\n",
       "            <p><a href=\"http://ip-172-31-15-133.ec2.internal:4040\">Spark UI</a></p>\n",
       "\n",
       "            <dl>\n",
       "              <dt>Version</dt>\n",
       "                <dd><code>v2.4.4</code></dd>\n",
       "              <dt>Master</dt>\n",
       "                <dd><code>local[*]</code></dd>\n",
       "              <dt>AppName</dt>\n",
       "                <dd><code>demo</code></dd>\n",
       "            </dl>\n",
       "        </div>\n",
       "        \n",
       "            </div>\n",
       "        "
      ],
      "text/plain": [
       "<pyspark.sql.session.SparkSession at 0x7f3ab05a7210>"
      ]
     },
     "execution_count": 4,
     "metadata": {},
     "output_type": "execute_result"
    },
    {
     "name": "stdout",
     "output_type": "stream",
     "text": [
      "time: 4.14 s (started: 2022-08-12 15:34:13 +00:00)\n"
     ]
    }
   ],
   "source": [
    "# initialising the session with 14 GB driver memory\n",
    "MAX_MEMORY = \"14G\"\n",
    "\n",
    "spark = SparkSession \\\n",
    "    .builder \\\n",
    "    .appName(\"demo\") \\\n",
    "    .config(\"spark.driver.memory\", MAX_MEMORY) \\\n",
    "    .getOrCreate()\n",
    "\n",
    "spark.sparkContext.setLogLevel(\"ERROR\")\n",
    "spark"
   ]
  },
  {
   "cell_type": "code",
   "execution_count": 5,
   "metadata": {},
   "outputs": [
    {
     "data": {
      "text/plain": [
       "'14G'"
      ]
     },
     "execution_count": 5,
     "metadata": {},
     "output_type": "execute_result"
    },
    {
     "name": "stdout",
     "output_type": "stream",
     "text": [
      "time: 24.2 ms (started: 2022-08-12 15:34:17 +00:00)\n"
     ]
    }
   ],
   "source": [
    "# Spark session with 14 GB driver memory\n",
    "spark.sparkContext.getConf().get('spark.driver.memory')"
   ]
  },
  {
   "cell_type": "code",
   "execution_count": 6,
   "metadata": {},
   "outputs": [
    {
     "name": "stdout",
     "output_type": "stream",
     "text": [
      "time: 1.97 s (started: 2022-08-12 15:34:17 +00:00)\n"
     ]
    }
   ],
   "source": [
    "# loading the dataset from the EC2 instance - 2019-Oct.csv\n",
    "\n",
    "file_path = \"../inputdata\"\n",
    "file_name = \"2019-Oct.csv\"\n",
    "\n",
    "schema = T.StructType([T.StructField(\"event_time\", T.StringType(), True),\n",
    "                       T.StructField(\"event_type\", T.StringType(), True),\n",
    "                       T.StructField(\"product_id\", T.IntegerType(), True),\n",
    "                       T.StructField(\"category_id\", T.StringType(), True),\n",
    "                       T.StructField(\"category_code\", T.StringType(), True),\n",
    "                       T.StructField(\"brand\", T.StringType(), True),\n",
    "                       T.StructField(\"price\", T.FloatType(), True),\n",
    "                       T.StructField(\"user_id\", T.IntegerType(), True),\n",
    "                       T.StructField(\"user_session\", T.StringType(), True)])\n",
    "\n",
    "df = spark.read.format(\"csv\").option(\"header\", \"true\").schema(schema).load(f\"{file_path}/{file_name}\")"
   ]
  },
  {
   "cell_type": "code",
   "execution_count": 7,
   "metadata": {},
   "outputs": [
    {
     "name": "stdout",
     "output_type": "stream",
     "text": [
      "RUNNING IN NON-DEBUG MODE with full dataset\n",
      "time: 2.66 ms (started: 2022-08-12 15:34:19 +00:00)\n"
     ]
    }
   ],
   "source": [
    "DEBUG_MODE = False\n",
    "\n",
    "if DEBUG_MODE:\n",
    "    sample_fraction = 0.0025\n",
    "    print(f\"RUNNING IN DEBUG MODE with {sample_fraction * 100}% of the data\")\n",
    "    print(f\"Original DataFrame count = {df.count()}\")\n",
    "    df = df.sample(withReplacement=False, fraction=sample_fraction, seed=42)\n",
    "    print(f\"Sampled DataFrame count = {df.count()}\")\n",
    "else:\n",
    "    print(\"RUNNING IN NON-DEBUG MODE with full dataset\")"
   ]
  },
  {
   "cell_type": "code",
   "execution_count": 8,
   "metadata": {},
   "outputs": [
    {
     "name": "stdout",
     "output_type": "stream",
     "text": [
      "+--------------------+----------+----------+-------------------+--------------------+--------+-------+---------+--------------------+\n",
      "|          event_time|event_type|product_id|        category_id|       category_code|   brand|  price|  user_id|        user_session|\n",
      "+--------------------+----------+----------+-------------------+--------------------+--------+-------+---------+--------------------+\n",
      "|2019-10-01 00:00:...|      view|  44600062|2103807459595387724|                null|shiseido|  35.79|541312140|72d76fde-8bb3-4e0...|\n",
      "|2019-10-01 00:00:...|      view|   3900821|2053013552326770905|appliances.enviro...|    aqua|   33.2|554748717|9333dfbd-b87a-470...|\n",
      "|2019-10-01 00:00:...|      view|  17200506|2053013559792632471|furniture.living_...|    null|  543.1|519107250|566511c2-e2e3-422...|\n",
      "|2019-10-01 00:00:...|      view|   1307067|2053013558920217191|  computers.notebook|  lenovo| 251.74|550050854|7c90fc70-0e80-459...|\n",
      "|2019-10-01 00:00:...|      view|   1004237|2053013555631882655|electronics.smart...|   apple|1081.98|535871217|c6bd7419-2748-4c5...|\n",
      "|2019-10-01 00:00:...|      view|   1480613|2053013561092866779|   computers.desktop|  pulser| 908.62|512742880|0d0d91c2-c9c2-4e8...|\n",
      "|2019-10-01 00:00:...|      view|  17300353|2053013553853497655|                null|   creed| 380.96|555447699|4fe811e9-91de-46d...|\n",
      "|2019-10-01 00:00:...|      view|  31500053|2053013558031024687|                null|luminarc|  41.16|550978835|6280d577-25c8-414...|\n",
      "|2019-10-01 00:00:...|      view|  28719074|2053013565480109009|  apparel.shoes.keds|   baden| 102.71|520571932|ac1cd4e5-a3ce-422...|\n",
      "|2019-10-01 00:00:...|      view|   1004545|2053013555631882655|electronics.smart...|  huawei| 566.01|537918940|406c46ed-90a4-478...|\n",
      "|2019-10-01 00:00:...|      view|   2900536|2053013554776244595|appliances.kitche...|elenberg|  51.46|555158050|b5bdd0b3-4ca2-4c5...|\n",
      "|2019-10-01 00:00:...|      view|   1005011|2053013555631882655|electronics.smart...| samsung| 900.64|530282093|50a293fb-5940-41b...|\n",
      "|2019-10-01 00:00:...|      view|   3900746|2053013552326770905|appliances.enviro...|   haier| 102.38|555444559|98b88fa0-d8fa-4b9...|\n",
      "|2019-10-01 00:00:...|      view|  44600062|2103807459595387724|                null|shiseido|  35.79|541312140|72d76fde-8bb3-4e0...|\n",
      "|2019-10-01 00:00:...|      view|  13500240|2053013557099889147|furniture.bedroom...|     brw|  93.18|555446365|7f0062d8-ead0-4e0...|\n",
      "|2019-10-01 00:00:...|      view|  23100006|2053013561638126333|                null|    null| 357.79|513642368|17566c27-0a8f-450...|\n",
      "|2019-10-01 00:00:...|      view|   1801995|2053013554415534427|electronics.video.tv|   haier| 193.03|537192226|e3151795-c355-4ef...|\n",
      "|2019-10-01 00:00:...|      view|  10900029|2053013555069845885|appliances.kitche...|   bosch|  58.95|519528062|901b9e3c-3f8f-414...|\n",
      "|2019-10-01 00:00:...|      view|   1306631|2053013558920217191|  computers.notebook|      hp| 580.89|550050854|7c90fc70-0e80-459...|\n",
      "|2019-10-01 00:00:...|      view|   1005135|2053013555631882655|electronics.smart...|   apple|1747.79|535871217|c6bd7419-2748-4c5...|\n",
      "+--------------------+----------+----------+-------------------+--------------------+--------+-------+---------+--------------------+\n",
      "only showing top 20 rows\n",
      "\n",
      "time: 2.17 s (started: 2022-08-12 15:34:19 +00:00)\n"
     ]
    }
   ],
   "source": [
    "# exploring the dataframe - top 20 rows\n",
    "df.show(20)"
   ]
  },
  {
   "cell_type": "code",
   "execution_count": 9,
   "metadata": {
    "scrolled": true
   },
   "outputs": [
    {
     "name": "stdout",
     "output_type": "stream",
     "text": [
      "root\n",
      " |-- event_time: string (nullable = true)\n",
      " |-- event_type: string (nullable = true)\n",
      " |-- product_id: integer (nullable = true)\n",
      " |-- category_id: string (nullable = true)\n",
      " |-- category_code: string (nullable = true)\n",
      " |-- brand: string (nullable = true)\n",
      " |-- price: float (nullable = true)\n",
      " |-- user_id: integer (nullable = true)\n",
      " |-- user_session: string (nullable = true)\n",
      "\n",
      "time: 12.9 ms (started: 2022-08-12 15:34:22 +00:00)\n"
     ]
    }
   ],
   "source": [
    "# exploring the dataframe - schema\n",
    "df.printSchema()"
   ]
  },
  {
   "cell_type": "code",
   "execution_count": 10,
   "metadata": {
    "scrolled": false
   },
   "outputs": [
    {
     "name": "stdout",
     "output_type": "stream",
     "text": [
      "Number of Rows are: 42448764\n",
      "Number of Columns are: 9\n",
      "time: 15.1 s (started: 2022-08-12 15:34:22 +00:00)\n"
     ]
    }
   ],
   "source": [
    "# Number of rows and columns in the dataset\n",
    "number_of_rows = df.count()\n",
    "print(f'Number of Rows are: {number_of_rows}')\n",
    "print(f'Number of Columns are: {len(df.columns)}')"
   ]
  },
  {
   "cell_type": "markdown",
   "metadata": {},
   "source": [
    "So, we have a huge dataset that contains 42 million rows.\n",
    "\n",
    "Now, tha dataset is loaded in Spark environment. Let's proceed with the desired tasks."
   ]
  },
  {
   "cell_type": "markdown",
   "metadata": {},
   "source": [
    "<hr>"
   ]
  },
  {
   "cell_type": "markdown",
   "metadata": {},
   "source": [
    "## Task 1 - Data Exploration\n",
    "\n",
    "**Find**\n",
    "- 5 most popular:\n",
    "    - Products sold by the e-commerce company in the month\n",
    "    - Brands on the platform\n",
    "    - Product categories\n",
    "- Number of unique users and the most active user on the platform\n",
    "- Average and maximum price for smartphones purchased by the customers\n",
    "<br>\n",
    "\n",
    "**Plot and comment**\n",
    "- Event-type funnel distribution in e-commerce shopping journey\n",
    "- Traffic on different days of the week\n",
    "\n",
    "Provide the results in a separate report."
   ]
  },
  {
   "cell_type": "code",
   "execution_count": 11,
   "metadata": {
    "scrolled": true
   },
   "outputs": [
    {
     "name": "stdout",
     "output_type": "stream",
     "text": [
      "+----------+------+\n",
      "|product_id| count|\n",
      "+----------+------+\n",
      "|   1004856|500354|\n",
      "|   1004767|438232|\n",
      "|   1005115|355786|\n",
      "|   1004833|237545|\n",
      "|   1004249|231070|\n",
      "+----------+------+\n",
      "only showing top 5 rows\n",
      "\n",
      "time: 43 s (started: 2022-08-12 15:34:37 +00:00)\n"
     ]
    }
   ],
   "source": [
    "# 5 most popular products sold\n",
    "df.groupBy(F.col(\"product_id\")).count().sort(F.desc(\"count\")).show(5)"
   ]
  },
  {
   "cell_type": "code",
   "execution_count": 12,
   "metadata": {},
   "outputs": [
    {
     "name": "stdout",
     "output_type": "stream",
     "text": [
      "+-------+-------+\n",
      "|  brand|  count|\n",
      "+-------+-------+\n",
      "|   null|6113008|\n",
      "|samsung|5282775|\n",
      "|  apple|4122554|\n",
      "| xiaomi|3083763|\n",
      "| huawei|1111205|\n",
      "+-------+-------+\n",
      "only showing top 5 rows\n",
      "\n",
      "time: 39.7 s (started: 2022-08-12 15:35:20 +00:00)\n"
     ]
    }
   ],
   "source": [
    "# 5 most popular brands\n",
    "df.groupBy(F.col(\"brand\")).count().sort(F.desc(\"count\")).show(5)"
   ]
  },
  {
   "cell_type": "code",
   "execution_count": 13,
   "metadata": {
    "scrolled": true
   },
   "outputs": [
    {
     "name": "stdout",
     "output_type": "stream",
     "text": [
      "+-----------------------+\n",
      "|count(DISTINCT user_id)|\n",
      "+-----------------------+\n",
      "|                3022290|\n",
      "+-----------------------+\n",
      "\n",
      "time: 41.9 s (started: 2022-08-12 15:35:59 +00:00)\n"
     ]
    }
   ],
   "source": [
    "# Number of unique users\n",
    "df.select(F.countDistinct(\"user_id\")).show()"
   ]
  },
  {
   "cell_type": "code",
   "execution_count": 14,
   "metadata": {
    "scrolled": true
   },
   "outputs": [
    {
     "name": "stdout",
     "output_type": "stream",
     "text": [
      "+---------+-----+\n",
      "|  user_id|count|\n",
      "+---------+-----+\n",
      "|512475445| 7436|\n",
      "|512365995| 4013|\n",
      "|526731152| 2912|\n",
      "|512505687| 2894|\n",
      "|513021392| 2862|\n",
      "+---------+-----+\n",
      "only showing top 5 rows\n",
      "\n",
      "time: 42 s (started: 2022-08-12 15:36:41 +00:00)\n"
     ]
    }
   ],
   "source": [
    "# The most active user on the platform\n",
    "df.groupBy(F.col(\"user_id\")).count().sort(F.desc(\"count\")).show(5)"
   ]
  },
  {
   "cell_type": "code",
   "execution_count": 15,
   "metadata": {},
   "outputs": [
    {
     "name": "stdout",
     "output_type": "stream",
     "text": [
      "+-----------------+---------+\n",
      "|        price_avg|price_max|\n",
      "+-----------------+---------+\n",
      "|290.3236605861753|  2574.07|\n",
      "+-----------------+---------+\n",
      "\n",
      "time: 34.8 s (started: 2022-08-12 15:37:23 +00:00)\n"
     ]
    }
   ],
   "source": [
    "# Average and Maximum price for smartphones purchased by the customers\n",
    "df.select(F.mean(\"price\").alias(\"price_avg\"), \n",
    "          F.max(\"price\").alias(\"price_max\")).show()"
   ]
  },
  {
   "cell_type": "code",
   "execution_count": 16,
   "metadata": {},
   "outputs": [
    {
     "name": "stdout",
     "output_type": "stream",
     "text": [
      "+-----------+-------+\n",
      "|day_of_week|  count|\n",
      "+-----------+-------+\n",
      "|          1|5855995|\n",
      "|          6|5829660|\n",
      "|          3|6801885|\n",
      "|          5|6380367|\n",
      "|          4|6652532|\n",
      "|          7|5606796|\n",
      "|          2|5321529|\n",
      "+-----------+-------+\n",
      "\n",
      "time: 45 s (started: 2022-08-12 15:37:58 +00:00)\n"
     ]
    }
   ],
   "source": [
    "df = df.withColumn(\"day_of_week\", F.dayofweek(F.col(\"event_time\")))\n",
    "df.groupBy(F.col(\"day_of_week\")).count().show()"
   ]
  },
  {
   "cell_type": "markdown",
   "metadata": {},
   "source": [
    " "
   ]
  },
  {
   "cell_type": "code",
   "execution_count": 17,
   "metadata": {},
   "outputs": [
    {
     "name": "stdout",
     "output_type": "stream",
     "text": [
      "time: 36.6 s (started: 2022-08-12 15:38:43 +00:00)\n"
     ]
    }
   ],
   "source": [
    "# Event-type funnel distribution\n",
    "# Remember Spark dataframe cannot be visualised directly\n",
    "df_sampled = df.select(F.col(\"event_type\")).sample(withReplacement=False, fraction=0.5, seed=42)\n",
    "pandas_df_event_type = df_sampled.groupBy(F.col(\"event_type\")).count().toPandas()"
   ]
  },
  {
   "cell_type": "code",
   "execution_count": 18,
   "metadata": {},
   "outputs": [
    {
     "data": {
      "image/png": "[encoded data removed]",
      "text/plain": [
       "<Figure size 432x288 with 1 Axes>"
      ]
     },
     "metadata": {
      "needs_background": "light"
     },
     "output_type": "display_data"
    },
    {
     "name": "stdout",
     "output_type": "stream",
     "text": [
      "time: 255 ms (started: 2022-08-12 15:39:20 +00:00)\n"
     ]
    }
   ],
   "source": [
    "sns.barplot(x=\"event_type\", y=\"count\", data=pandas_df_event_type)\n",
    "sns.set(rc={'figure.figsize': (15, 10)})\n",
    "plt.show()"
   ]
  },
  {
   "cell_type": "code",
   "execution_count": 19,
   "metadata": {},
   "outputs": [
    {
     "name": "stdout",
     "output_type": "stream",
     "text": [
      "time: 42 s (started: 2022-08-12 15:39:20 +00:00)\n"
     ]
    }
   ],
   "source": [
    "# Traffic on different days of the week\n",
    "# Remember Spark dataframe cannot be visualised directly\n",
    "df_sampled = df.select(F.col(\"day_of_week\")).sample(withReplacement=False, fraction=0.5, seed=42)\n",
    "df_day_of_week = df_sampled.groupBy(F.col(\"day_of_week\")).count()\n",
    "pandas_df_day_of_week = df_day_of_week.toPandas()"
   ]
  },
  {
   "cell_type": "code",
   "execution_count": 20,
   "metadata": {},
   "outputs": [
    {
     "data": {
      "image/png": "[encoded data removed]",
      "text/plain": [
       "<Figure size 1080x720 with 1 Axes>"
      ]
     },
     "metadata": {},
     "output_type": "display_data"
    },
    {
     "name": "stdout",
     "output_type": "stream",
     "text": [
      "time: 312 ms (started: 2022-08-12 15:40:02 +00:00)\n"
     ]
    }
   ],
   "source": [
    "sns.barplot(x=\"day_of_week\", y=\"count\", data=pandas_df_day_of_week)\n",
    "sns.set(rc={'figure.figsize': (15, 10)})\n",
    "plt.show()"
   ]
  },
  {
   "cell_type": "code",
   "execution_count": 21,
   "metadata": {},
   "outputs": [
    {
     "name": "stdout",
     "output_type": "stream",
     "text": [
      "time: 298 µs (started: 2022-08-12 15:40:02 +00:00)\n"
     ]
    }
   ],
   "source": [
    "# drop redundant column(s), if any\n"
   ]
  },
  {
   "cell_type": "markdown",
   "metadata": {},
   "source": [
    "<hr>"
   ]
  },
  {
   "cell_type": "markdown",
   "metadata": {},
   "source": [
    "## Task 2 - Feature Engineering\n",
    "\n",
    "- Handle missing values (provide justification for approach)\n",
    "- Generate the category code at 2 levels (Split into 2 columns)\n",
    "    - Example: electronics.video.tv - electronics, video\n",
    "- Capture user activity in different columns\n",
    "    - Total activities (view/cart/etc.) in the session\n",
    "    - Affinity towards a particular product (Product count for user)\n",
    "    - Affinity towards a category (Secondary category count for user)\n",
    "    - Average shopping expense for a product category (secondary)\n",
    "    - Number of user sessions\n",
    "- Impact of time: Day and Hour (Binning hours into 4 buckets)\n",
    "- Reduction in brands for analysis: Top 20 + ‘others’\n",
    "- Target variable generation: is_purchased\n"
   ]
  },
  {
   "cell_type": "code",
   "execution_count": 22,
   "metadata": {
    "scrolled": true
   },
   "outputs": [
    {
     "name": "stdout",
     "output_type": "stream",
     "text": [
      "+----------+----------+----------+-----------+-------------+---------+-----+-------+------------+-----------+\n",
      "|event_time|event_type|product_id|category_id|category_code|    brand|price|user_id|user_session|day_of_week|\n",
      "+----------+----------+----------+-----------+-------------+---------+-----+-------+------------+-----------+\n",
      "|       0.0|       0.0|       0.0|        0.0|  1.3515609E7|6113008.0|  0.0|    0.0|         2.0|        0.0|\n",
      "|       0.0|       0.0|       0.0|        0.0|      31.8398|  14.4009|  0.0|    0.0|         0.0|        0.0|\n",
      "+----------+----------+----------+-----------+-------------+---------+-----+-------+------------+-----------+\n",
      "\n",
      "time: 10min 16s (started: 2022-08-12 15:40:02 +00:00)\n"
     ]
    }
   ],
   "source": [
    "# Handling missing values \n",
    "import functools\n",
    " \n",
    "def unionAll(dfs):\n",
    "    return functools.reduce(lambda df1, df2: df1.union(df2.select(df1.columns)), dfs)\n",
    "\n",
    "df_missing_count = df.select([F.count(F.when(F.isnan(c) | F.col(c).isNull(), c)).alias(c) for c in df.columns])\n",
    "df_missing_percent = df.select([F.round((F.count(F.when(F.isnan(c) | \n",
    "                                                        F.col(c).isNull(), c))\n",
    "                                         /F.count(F.lit(1)))*100, 4).alias(c) for c in df.columns])\n",
    "\n",
    "df_missing = unionAll([df_missing_count, df_missing_percent])\n",
    "df_missing.show()\n"
   ]
  },
  {
   "cell_type": "code",
   "execution_count": null,
   "metadata": {},
   "outputs": [],
   "source": []
  },
  {
   "cell_type": "markdown",
   "metadata": {},
   "source": [
    "Reason for the action performed:\n",
    "\n"
   ]
  },
  {
   "cell_type": "code",
   "execution_count": 23,
   "metadata": {},
   "outputs": [
    {
     "name": "stdout",
     "output_type": "stream",
     "text": [
      "Number of duplicate rows = 18099, i.e., 0.0426% of the dataset\n",
      "time: 2min 28s (started: 2022-08-12 15:50:19 +00:00)\n"
     ]
    }
   ],
   "source": [
    "# Checking for duplicate entries\n",
    "df_duplicates = df.groupBy(*df.columns).count().filter(\"count > 1\")\n",
    "df_duplicates = df_duplicates.drop('count')\n",
    "number_of_rows_duplicates = df_duplicates.count()\n",
    "print(f\"Number of duplicate rows = {number_of_rows_duplicates}, i.e., \" + \n",
    "      f\"{(number_of_rows_duplicates/number_of_rows)*100:.4f}% of the dataset\")"
   ]
  },
  {
   "cell_type": "code",
   "execution_count": 24,
   "metadata": {},
   "outputs": [
    {
     "name": "stdout",
     "output_type": "stream",
     "text": [
      "time: 7.59 ms (started: 2022-08-12 15:52:47 +00:00)\n"
     ]
    }
   ],
   "source": [
    "# Take required action here\n",
    "df = df.dropDuplicates()"
   ]
  },
  {
   "cell_type": "code",
   "execution_count": 25,
   "metadata": {
    "scrolled": true
   },
   "outputs": [
    {
     "name": "stdout",
     "output_type": "stream",
     "text": [
      "time: 271 µs (started: 2022-08-12 15:52:47 +00:00)\n"
     ]
    }
   ],
   "source": [
    "# drop redundant column(s), if any\n"
   ]
  },
  {
   "cell_type": "markdown",
   "metadata": {},
   "source": [
    " "
   ]
  },
  {
   "cell_type": "code",
   "execution_count": 26,
   "metadata": {},
   "outputs": [
    {
     "name": "stdout",
     "output_type": "stream",
     "text": [
      "time: 88.9 ms (started: 2022-08-12 15:52:47 +00:00)\n"
     ]
    }
   ],
   "source": [
    "# Generating 2 columns from category code\n",
    "# Columns have only single entity (electronics.video.tv: electronics, video)\n",
    "# Check if split command works with '.' or Spark treats it as special character\n",
    "split_category_code = F.split(F.col(\"category_code\"), \"[.]\")\n",
    "df = df.withColumn(\"category_code_primary\", split_category_code.getItem(0)) \\\n",
    "        .withColumn(\"category_code_secondary\", split_category_code.getItem(1)) \\\n",
    "            .withColumn(\"category_code_tertiary\", split_category_code.getItem(2))"
   ]
  },
  {
   "cell_type": "code",
   "execution_count": 27,
   "metadata": {},
   "outputs": [
    {
     "name": "stdout",
     "output_type": "stream",
     "text": [
      "root\n",
      " |-- event_time: string (nullable = true)\n",
      " |-- event_type: string (nullable = true)\n",
      " |-- product_id: integer (nullable = true)\n",
      " |-- category_id: string (nullable = true)\n",
      " |-- category_code: string (nullable = true)\n",
      " |-- brand: string (nullable = true)\n",
      " |-- price: float (nullable = true)\n",
      " |-- user_id: integer (nullable = true)\n",
      " |-- user_session: string (nullable = true)\n",
      " |-- day_of_week: integer (nullable = true)\n",
      " |-- category_code_primary: string (nullable = true)\n",
      " |-- category_code_secondary: string (nullable = true)\n",
      " |-- category_code_tertiary: string (nullable = true)\n",
      "\n",
      "time: 1.65 ms (started: 2022-08-12 15:52:47 +00:00)\n"
     ]
    }
   ],
   "source": [
    "# Check if the column is added\n",
    "df.printSchema()"
   ]
  },
  {
   "cell_type": "code",
   "execution_count": 28,
   "metadata": {},
   "outputs": [
    {
     "name": "stdout",
     "output_type": "stream",
     "text": [
      "time: 4.37 ms (started: 2022-08-12 15:52:47 +00:00)\n"
     ]
    }
   ],
   "source": [
    "cols_to_remove = [\"category_code\"]\n",
    "df = df.drop(*cols_to_remove)"
   ]
  },
  {
   "cell_type": "markdown",
   "metadata": {},
   "source": [
    " "
   ]
  },
  {
   "cell_type": "code",
   "execution_count": 29,
   "metadata": {},
   "outputs": [
    {
     "name": "stdout",
     "output_type": "stream",
     "text": [
      "time: 120 ms (started: 2022-08-12 15:52:47 +00:00)\n"
     ]
    }
   ],
   "source": [
    "# Activities in a session by the user\n",
    "# Window functions can be helpful here\n",
    "df = df.withColumn(\"total_activities_count\", \n",
    "                   F.count(\"event_type\").over(W.partitionBy([F.col(\"user_id\"), F.col(\"user_session\")]))\n",
    "                   .cast(T.IntegerType()))"
   ]
  },
  {
   "cell_type": "code",
   "execution_count": 30,
   "metadata": {},
   "outputs": [
    {
     "name": "stdout",
     "output_type": "stream",
     "text": [
      "time: 37.4 ms (started: 2022-08-12 15:52:47 +00:00)\n"
     ]
    }
   ],
   "source": [
    "# View count for a product by the user\n",
    "# Window functions can be helpful here\n",
    "df = df.withColumn(\"user_product_count\", \n",
    "                   F.count(F.col(\"event_type\") == \"view\")\n",
    "                   .over(W.partitionBy([F.col(\"user_id\"), F.col(\"product_id\")]))\n",
    "                   .cast(T.IntegerType()))"
   ]
  },
  {
   "cell_type": "code",
   "execution_count": 31,
   "metadata": {},
   "outputs": [
    {
     "name": "stdout",
     "output_type": "stream",
     "text": [
      "time: 40.1 ms (started: 2022-08-12 15:52:47 +00:00)\n"
     ]
    }
   ],
   "source": [
    "# View count for the secondary category by the user\n",
    "# Window functions can be helpful here\n",
    "df = df.withColumn(\"category_secondary_count\", \n",
    "                   F.count(F.col(\"event_type\") == \"view\")\n",
    "                   .over(W.partitionBy([F.col(\"user_id\"), F.col(\"category_code_secondary\")]))\n",
    "                   .cast(T.IntegerType()))"
   ]
  },
  {
   "cell_type": "code",
   "execution_count": 32,
   "metadata": {},
   "outputs": [
    {
     "name": "stdout",
     "output_type": "stream",
     "text": [
      "time: 42.5 ms (started: 2022-08-12 15:52:47 +00:00)\n"
     ]
    }
   ],
   "source": [
    "# Average shopping expense for a product category\n",
    "# Window functions can be helpful here\n",
    "df = df.withColumn(\"average_price\", \n",
    "                   F.avg(F.col(\"price\"))\n",
    "                   .over(W.partitionBy([F.col(\"category_code_primary\"), \n",
    "                                        F.col(\"category_code_secondary\")]))\n",
    "                   .cast(T.DecimalType(scale=4)))"
   ]
  },
  {
   "cell_type": "code",
   "execution_count": 33,
   "metadata": {},
   "outputs": [
    {
     "name": "stdout",
     "output_type": "stream",
     "text": [
      "time: 28.2 ms (started: 2022-08-12 15:52:47 +00:00)\n"
     ]
    }
   ],
   "source": [
    "# Session count for a user\n",
    "# Window functions can be helpful here\n",
    "df = df.withColumn(\"session_count\", \n",
    "                   F.count(\"user_session\").over(W.partitionBy(\"user_id\"))\n",
    "                   .cast(T.IntegerType()))"
   ]
  },
  {
   "cell_type": "code",
   "execution_count": 34,
   "metadata": {},
   "outputs": [
    {
     "name": "stdout",
     "output_type": "stream",
     "text": [
      "root\n",
      " |-- event_time: string (nullable = true)\n",
      " |-- event_type: string (nullable = true)\n",
      " |-- product_id: integer (nullable = true)\n",
      " |-- category_id: string (nullable = true)\n",
      " |-- brand: string (nullable = true)\n",
      " |-- price: float (nullable = true)\n",
      " |-- user_id: integer (nullable = true)\n",
      " |-- user_session: string (nullable = true)\n",
      " |-- day_of_week: integer (nullable = true)\n",
      " |-- category_code_primary: string (nullable = true)\n",
      " |-- category_code_secondary: string (nullable = true)\n",
      " |-- category_code_tertiary: string (nullable = true)\n",
      " |-- total_activities_count: integer (nullable = false)\n",
      " |-- user_product_count: integer (nullable = false)\n",
      " |-- category_secondary_count: integer (nullable = false)\n",
      " |-- average_price: decimal(10,4) (nullable = true)\n",
      " |-- session_count: integer (nullable = false)\n",
      "\n",
      "time: 2.44 ms (started: 2022-08-12 15:52:47 +00:00)\n"
     ]
    }
   ],
   "source": [
    "df.printSchema()"
   ]
  },
  {
   "cell_type": "markdown",
   "metadata": {},
   "source": [
    " "
   ]
  },
  {
   "cell_type": "code",
   "execution_count": 35,
   "metadata": {},
   "outputs": [
    {
     "name": "stdout",
     "output_type": "stream",
     "text": [
      "time: 18.4 ms (started: 2022-08-12 15:52:47 +00:00)\n"
     ]
    }
   ],
   "source": [
    "# Generating the hour variable\n",
    "df = df.withColumn('hour', F.hour(F.to_timestamp(F.col(\"event_time\"), 'yyyy-MM-dd HH:mm:ss')))"
   ]
  },
  {
   "cell_type": "code",
   "execution_count": null,
   "metadata": {},
   "outputs": [],
   "source": []
  },
  {
   "cell_type": "markdown",
   "metadata": {},
   "source": [
    " "
   ]
  },
  {
   "cell_type": "code",
   "execution_count": 36,
   "metadata": {},
   "outputs": [
    {
     "name": "stdout",
     "output_type": "stream",
     "text": [
      "time: 2min 26s (started: 2022-08-12 15:52:47 +00:00)\n"
     ]
    }
   ],
   "source": [
    "# Reduction in brands for analysis: Top 20 + ‘others'\n",
    "df = df.withColumn(\"brand\", F.when(F.col(\"brand\").isNull(), \"others\").otherwise(F.col(\"brand\")))\n",
    "df_top_brands = df.groupBy(F.col(\"brand\")).count().sort(F.desc(\"count\")).select(F.col(\"brand\")).limit(21)\n",
    "top_brands = df_top_brands.toPandas().values.reshape(-1).tolist()"
   ]
  },
  {
   "cell_type": "code",
   "execution_count": 37,
   "metadata": {},
   "outputs": [
    {
     "name": "stdout",
     "output_type": "stream",
     "text": [
      "time: 140 ms (started: 2022-08-12 15:55:14 +00:00)\n"
     ]
    }
   ],
   "source": [
    "df = df.withColumn(\"brand\", F.when(F.col(\"brand\").isin(top_brands[1:]), F.col(\"brand\"))\n",
    "                            .otherwise(\"others\"))"
   ]
  },
  {
   "cell_type": "code",
   "execution_count": 38,
   "metadata": {},
   "outputs": [
    {
     "name": "stdout",
     "output_type": "stream",
     "text": [
      "+--------+--------+\n",
      "|   brand|   count|\n",
      "+--------+--------+\n",
      "| philips|  282504|\n",
      "|cordiant|  368045|\n",
      "|   apple| 4116981|\n",
      "|   casio|  257987|\n",
      "|    oppo|  482131|\n",
      "| redmond|  279620|\n",
      "|  others|22678765|\n",
      "|      lg|  561883|\n",
      "|    sony|  456429|\n",
      "|    acer|  427882|\n",
      "|   artel|  337966|\n",
      "| samsung| 5271172|\n",
      "| respect|  271164|\n",
      "| lucente|  655818|\n",
      "|  huawei| 1109758|\n",
      "|  lenovo|  337987|\n",
      "|      hp|  305133|\n",
      "|   bosch|  556877|\n",
      "|dauscher|  289734|\n",
      "|  xiaomi| 3080998|\n",
      "+--------+--------+\n",
      "only showing top 20 rows\n",
      "\n",
      "time: 2min 46s (started: 2022-08-12 15:55:15 +00:00)\n"
     ]
    }
   ],
   "source": [
    "df.groupBy('brand').count().show()"
   ]
  },
  {
   "cell_type": "markdown",
   "metadata": {},
   "source": [
    " "
   ]
  },
  {
   "cell_type": "code",
   "execution_count": 39,
   "metadata": {},
   "outputs": [
    {
     "name": "stdout",
     "output_type": "stream",
     "text": [
      "time: 314 µs (started: 2022-08-12 15:58:01 +00:00)\n"
     ]
    }
   ],
   "source": [
    "# Generating 'is_purchased' variable\n"
   ]
  },
  {
   "cell_type": "code",
   "execution_count": 40,
   "metadata": {},
   "outputs": [
    {
     "name": "stdout",
     "output_type": "stream",
     "text": [
      "time: 1.16 ms (started: 2022-08-12 15:58:01 +00:00)\n"
     ]
    }
   ],
   "source": [
    "# Dropping redundant rows\n",
    "# cols_to_remove = []\n",
    "# df = df.drop(*cols_to_remove)"
   ]
  },
  {
   "cell_type": "code",
   "execution_count": 41,
   "metadata": {},
   "outputs": [
    {
     "name": "stdout",
     "output_type": "stream",
     "text": [
      "+-----------------------+----------+----------+-------------------+------+------+---------+------------------------------------+-----------+---------------------+-----------------------+----------------------+----------------------+------------------+------------------------+-------------+-------------+----+\n",
      "|event_time             |event_type|product_id|category_id        |brand |price |user_id  |user_session                        |day_of_week|category_code_primary|category_code_secondary|category_code_tertiary|total_activities_count|user_product_count|category_secondary_count|average_price|session_count|hour|\n",
      "+-----------------------+----------+----------+-------------------+------+------+---------+------------------------------------+-----------+---------------------+-----------------------+----------------------+----------------------+------------------+------------------------+-------------+-------------+----+\n",
      "|2019-10-05 12:34:23 UTC|view      |18500054  |2053013552695869677|others|154.18|240522111|b74568ee-fd16-4538-943c-0f2718b87fba|7          |electronics          |tablet                 |null                  |1                     |2                 |2                       |341.4861     |34           |12  |\n",
      "|2019-10-05 09:07:30 UTC|view      |18500054  |2053013552695869677|others|154.18|240522111|cc654a5b-e561-4e6b-83aa-9b450a4f633c|7          |electronics          |tablet                 |null                  |1                     |2                 |2                       |341.4861     |34           |9   |\n",
      "|2019-10-17 05:50:03 UTC|view      |4804055   |2053013554658804075|apple |190.44|240522111|e11c1288-8be8-4dcb-ac97-78d7bc1b5305|5          |electronics          |audio                  |headphone             |5                     |5                 |27                      |121.1028     |34           |5   |\n",
      "|2019-10-21 16:24:07 UTC|view      |4804055   |2053013554658804075|apple |190.22|240522111|0a3c4be5-f76d-47d9-8bd2-556ba2505291|2          |electronics          |audio                  |headphone             |3                     |5                 |27                      |121.1028     |34           |16  |\n",
      "|2019-10-16 03:53:29 UTC|view      |4804055   |2053013554658804075|apple |190.45|240522111|36903e4d-c810-4864-b936-8c72a180ffa9|4          |electronics          |audio                  |headphone             |4                     |5                 |27                      |121.1028     |34           |3   |\n",
      "|2019-10-16 04:03:22 UTC|view      |4804055   |2053013554658804075|apple |190.44|240522111|db86d6e8-5fe0-4447-bf84-68bd97c494d6|4          |electronics          |audio                  |headphone             |2                     |5                 |27                      |121.1028     |34           |4   |\n",
      "|2019-10-16 04:37:40 UTC|view      |4804055   |2053013554658804075|apple |190.44|240522111|79cbe28b-7fa4-4e5d-80c4-ca7aa5adf1bc|4          |electronics          |audio                  |headphone             |1                     |5                 |27                      |121.1028     |34           |4   |\n",
      "|2019-10-17 05:46:33 UTC|view      |4804056   |2053013554658804075|apple |160.61|240522111|e11c1288-8be8-4dcb-ac97-78d7bc1b5305|5          |electronics          |audio                  |headphone             |5                     |16                |27                      |121.1028     |34           |5   |\n",
      "|2019-10-17 05:49:33 UTC|view      |4804056   |2053013554658804075|apple |160.61|240522111|e11c1288-8be8-4dcb-ac97-78d7bc1b5305|5          |electronics          |audio                  |headphone             |5                     |16                |27                      |121.1028     |34           |5   |\n",
      "|2019-10-17 05:50:37 UTC|view      |4804056   |2053013554658804075|apple |160.61|240522111|e11c1288-8be8-4dcb-ac97-78d7bc1b5305|5          |electronics          |audio                  |headphone             |5                     |16                |27                      |121.1028     |34           |5   |\n",
      "|2019-10-17 05:44:46 UTC|view      |4804056   |2053013554658804075|apple |160.61|240522111|e11c1288-8be8-4dcb-ac97-78d7bc1b5305|5          |electronics          |audio                  |headphone             |5                     |16                |27                      |121.1028     |34           |5   |\n",
      "|2019-10-21 16:23:07 UTC|view      |4804056   |2053013554658804075|apple |160.36|240522111|0a3c4be5-f76d-47d9-8bd2-556ba2505291|2          |electronics          |audio                  |headphone             |3                     |16                |27                      |121.1028     |34           |16  |\n",
      "|2019-10-21 16:24:50 UTC|view      |4804056   |2053013554658804075|apple |160.36|240522111|0a3c4be5-f76d-47d9-8bd2-556ba2505291|2          |electronics          |audio                  |headphone             |3                     |16                |27                      |121.1028     |34           |16  |\n",
      "|2019-10-16 03:52:46 UTC|view      |4804056   |2053013554658804075|apple |160.2 |240522111|36903e4d-c810-4864-b936-8c72a180ffa9|4          |electronics          |audio                  |headphone             |4                     |16                |27                      |121.1028     |34           |3   |\n",
      "|2019-10-17 05:35:20 UTC|view      |4804056   |2053013554658804075|apple |160.61|240522111|b92208ec-d1ec-4ab1-a056-c4f15ada4fc7|5          |electronics          |audio                  |headphone             |3                     |16                |27                      |121.1028     |34           |5   |\n",
      "|2019-10-17 05:31:56 UTC|view      |4804056   |2053013554658804075|apple |160.61|240522111|b92208ec-d1ec-4ab1-a056-c4f15ada4fc7|5          |electronics          |audio                  |headphone             |3                     |16                |27                      |121.1028     |34           |5   |\n",
      "|2019-10-17 05:29:44 UTC|view      |4804056   |2053013554658804075|apple |160.61|240522111|b92208ec-d1ec-4ab1-a056-c4f15ada4fc7|5          |electronics          |audio                  |headphone             |3                     |16                |27                      |121.1028     |34           |5   |\n",
      "|2019-10-23 04:06:16 UTC|view      |4804056   |2053013554658804075|apple |160.09|240522111|aec6beaf-4e6f-452d-b279-1ffbd7f3f939|4          |electronics          |audio                  |headphone             |1                     |16                |27                      |121.1028     |34           |4   |\n",
      "|2019-10-17 16:20:47 UTC|view      |4804056   |2053013554658804075|apple |160.62|240522111|bc9ccf60-a785-427a-8a39-c8d321608f17|5          |electronics          |audio                  |headphone             |1                     |16                |27                      |121.1028     |34           |16  |\n",
      "|2019-10-21 16:30:11 UTC|view      |4804056   |2053013554658804075|apple |160.36|240522111|72cde98c-b66d-4fb4-912c-726cdd7f514e|2          |electronics          |audio                  |headphone             |1                     |16                |27                      |121.1028     |34           |16  |\n",
      "+-----------------------+----------+----------+-------------------+------+------+---------+------------------------------------+-----------+---------------------+-----------------------+----------------------+----------------------+------------------+------------------------+-------------+-------------+----+\n",
      "only showing top 20 rows\n",
      "\n",
      "time: 8min 58s (started: 2022-08-12 15:58:01 +00:00)\n"
     ]
    }
   ],
   "source": [
    "# Printing the top 20 rows as output\n",
    "df.show(20, truncate=False)"
   ]
  },
  {
   "cell_type": "code",
   "execution_count": 42,
   "metadata": {},
   "outputs": [
    {
     "name": "stdout",
     "output_type": "stream",
     "text": [
      "time: 187 ms (started: 2022-08-12 16:07:00 +00:00)\n"
     ]
    }
   ],
   "source": [
    "# Dropping the redundant columns \n",
    "cols_to_remove = [\"event_time\", \"event_type\", \"user_session\"]\n",
    "df = df.drop(*cols_to_remove)"
   ]
  },
  {
   "cell_type": "code",
   "execution_count": 43,
   "metadata": {
    "scrolled": false
   },
   "outputs": [
    {
     "name": "stdout",
     "output_type": "stream",
     "text": [
      "root\n",
      " |-- product_id: integer (nullable = true)\n",
      " |-- category_id: string (nullable = true)\n",
      " |-- brand: string (nullable = true)\n",
      " |-- price: float (nullable = true)\n",
      " |-- user_id: integer (nullable = true)\n",
      " |-- day_of_week: integer (nullable = true)\n",
      " |-- category_code_primary: string (nullable = true)\n",
      " |-- category_code_secondary: string (nullable = true)\n",
      " |-- category_code_tertiary: string (nullable = true)\n",
      " |-- total_activities_count: integer (nullable = false)\n",
      " |-- user_product_count: integer (nullable = false)\n",
      " |-- category_secondary_count: integer (nullable = false)\n",
      " |-- average_price: decimal(10,4) (nullable = true)\n",
      " |-- session_count: integer (nullable = false)\n",
      " |-- hour: integer (nullable = true)\n",
      "\n",
      "time: 1.12 s (started: 2022-08-12 16:07:01 +00:00)\n"
     ]
    }
   ],
   "source": [
    "# Columns in df after feature engineering\n",
    "df.printSchema()"
   ]
  },
  {
   "cell_type": "code",
   "execution_count": 45,
   "metadata": {},
   "outputs": [
    {
     "name": "stdout",
     "output_type": "stream",
     "text": [
      "SAVING CLEANED DF IN NON-DEBUG MODE\n",
      "time: 11min 54s (started: 2022-08-12 16:07:34 +00:00)\n"
     ]
    }
   ],
   "source": [
    "# Storing the cleaned df in the instance to prevent repetition of steps again\n",
    "# Rename the file based on your preferences\n",
    "if DEBUG_MODE:\n",
    "    print(\"SAVING CLEANED DF IN DEBUG MODE\")\n",
    "    df.coalesce(1).write.option(\"header\", \"true\").parquet(\"cleaned_df_sampled.parquet\")\n",
    "else:\n",
    "    print(\"SAVING CLEANED DF IN NON-DEBUG MODE\")\n",
    "    df.coalesce(1).write.option(\"header\", \"true\").parquet(\"cleaned_df.parquet\")"
   ]
  },
  {
   "cell_type": "markdown",
   "metadata": {},
   "source": [
    "Proceed to another notebooks after saving the dataframe."
   ]
  }
 ],
 "metadata": {
  "kernelspec": {
   "display_name": "Python 3",
   "language": "python",
   "name": "python3"
  },
  "language_info": {
   "codemirror_mode": {
    "name": "ipython",
    "version": 3
   },
   "file_extension": ".py",
   "mimetype": "text/x-python",
   "name": "python",
   "nbconvert_exporter": "python",
   "pygments_lexer": "ipython3",
   "version": "3.7.9"
  }
 },
 "nbformat": 4,
 "nbformat_minor": 4
}
