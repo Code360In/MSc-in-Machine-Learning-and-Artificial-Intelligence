{
  "cells": [
    {
      "cell_type": "markdown",
      "metadata": {
        "id": "C3jrFculcy6B"
      },
      "source": [
        "# Regression Decision Tree"
      ]
    },
    {
      "cell_type": "markdown",
      "metadata": {
        "id": "GIgv_25zcy6C"
      },
      "source": [
        "For implementing Decision Tree with continuous variables, you will be using the LibSVM data. Such a dataset contains many missing values but Decision Trees can perform will with missing data as well. Hence, you will be implementing Decision Tree on this dataset."
      ]
    },
    {
      "cell_type": "code",
      "execution_count": 1,
      "metadata": {
        "id": "wbUNwl1_cy6D",
        "outputId": "ff7f2293-8e00-490c-ef6b-88a40e006411",
        "colab": {
          "base_uri": "https://localhost:8080/"
        }
      },
      "outputs": [
        {
          "output_type": "stream",
          "name": "stdout",
          "text": [
            "\u001b[K     |████████████████████████████████| 281.3 MB 42 kB/s \n",
            "\u001b[K     |████████████████████████████████| 199 kB 37.8 MB/s \n",
            "\u001b[?25h  Building wheel for pyspark (setup.py) ... \u001b[?25l\u001b[?25hdone\n",
            "time: 2.12 ms (started: 2022-07-25 13:04:20 +00:00)\n"
          ]
        }
      ],
      "source": [
        "# Installing necessary dependent packages\n",
        "!pip install -q ipython-autotime\n",
        "!pip install -q pyspark\n",
        "!pip install -q tqdm\n",
        "\n",
        "# Loading autotime for the notebook\n",
        "%load_ext autotime"
      ]
    },
    {
      "cell_type": "code",
      "source": [
        "def download_file_google_drive(id: str, f_name: str, f_save_path: str=\"\"):\n",
        "    \"\"\"\n",
        "    Download file from Google Drive\n",
        "\n",
        "    Args:\n",
        "        id (str): Google Drive File ID\n",
        "        f_name (str): File name\n",
        "        f_save_path (str): File save path. \n",
        "            default: Current working directory\n",
        "    \"\"\"\n",
        "    import os, requests\n",
        "\n",
        "    def get_confirm_token(response):\n",
        "        for key, value in response.cookies.items():\n",
        "            if key.startswith('download_warning'):\n",
        "                return value\n",
        "        return None\n",
        "\n",
        "    def save_response_content(response, destination):\n",
        "        CHUNK_SIZE = 32768\n",
        "        with open(destination, \"wb\") as f:\n",
        "            for chunk in response.iter_content(CHUNK_SIZE):\n",
        "                if chunk: # filter out keep-alive new chunks\n",
        "                    f.write(chunk)\n",
        "\n",
        "    URL = \"https://docs.google.com/uc?export=download\"\n",
        "\n",
        "    f_save_path = os.getcwd() if not f_save_path else f_save_path.rstrip(\"/\")\n",
        "    destination = f\"{f_save_path}/{f_name}\"\n",
        "\n",
        "    session = requests.Session()\n",
        "    response = session.get(URL, params = { 'id' : id }, stream = True)\n",
        "    token = get_confirm_token(response)\n",
        "\n",
        "    if token:\n",
        "        params = { 'id' : id, 'confirm' : token }\n",
        "        response = session.get(URL, params = params, stream = True)\n",
        "    save_response_content(response, destination)    "
      ],
      "metadata": {
        "colab": {
          "base_uri": "https://localhost:8080/"
        },
        "id": "VcmnOeQ4dMs0",
        "outputId": "15c38061-334e-4cf8-8d7f-b96a8087e622"
      },
      "execution_count": 3,
      "outputs": [
        {
          "output_type": "stream",
          "name": "stdout",
          "text": [
            "time: 20.1 ms (started: 2022-07-25 13:04:20 +00:00)\n"
          ]
        }
      ]
    },
    {
      "cell_type": "code",
      "source": [
        "data_files = {\"1JpQa3QOTe_GObKjg_mFpgi0BgXhfzc9N\": \"libsvm_data.txt\"}\n",
        "\n",
        "for file_id, file_name in data_files.items():\n",
        "    download_file_google_drive(file_id, file_name)"
      ],
      "metadata": {
        "colab": {
          "base_uri": "https://localhost:8080/"
        },
        "id": "JRJIVsYxdPcE",
        "outputId": "7e26b156-8440-41e1-fb53-c0ab5551db6c"
      },
      "execution_count": 4,
      "outputs": [
        {
          "output_type": "stream",
          "name": "stdout",
          "text": [
            "time: 706 ms (started: 2022-07-25 13:05:12 +00:00)\n"
          ]
        }
      ]
    },
    {
      "cell_type": "code",
      "execution_count": 5,
      "metadata": {
        "scrolled": true,
        "id": "5VY4tTOGcy6F",
        "colab": {
          "base_uri": "https://localhost:8080/"
        },
        "outputId": "4c06d0b2-9567-4060-f342-8650ff82eed7"
      },
      "outputs": [
        {
          "output_type": "stream",
          "name": "stdout",
          "text": [
            "time: 1.47 ms (started: 2022-07-25 13:05:15 +00:00)\n"
          ]
        }
      ],
      "source": [
        "# Load the libraries required for loading libSVM files\n",
        "# SparkSession\n",
        "from pyspark.sql import SparkSession\n",
        "from pyspark.mllib.util import MLUtils"
      ]
    },
    {
      "cell_type": "code",
      "execution_count": 6,
      "metadata": {
        "id": "Q2cMUTU8cy6G",
        "outputId": "632d3c0d-e244-44f4-e69a-054aa778c6d3",
        "colab": {
          "base_uri": "https://localhost:8080/"
        }
      },
      "outputs": [
        {
          "output_type": "stream",
          "name": "stdout",
          "text": [
            "time: 6.5 s (started: 2022-07-25 13:05:17 +00:00)\n"
          ]
        }
      ],
      "source": [
        "spark = SparkSession.builder.master(\"local\") \\\n",
        "                            .appName(\"LibSVM\") \\\n",
        "                            .config(\"spark.ui.port\", \"4050\") \\\n",
        "                            .getOrCreate()\n",
        "\n",
        "spark.sparkContext.setLogLevel(\"ERROR\")"
      ]
    },
    {
      "cell_type": "code",
      "execution_count": 8,
      "metadata": {
        "id": "4BTZrDTocy6G",
        "outputId": "bcb4f673-7456-4008-fadc-349df4f6dec0",
        "colab": {
          "base_uri": "https://localhost:8080/"
        }
      },
      "outputs": [
        {
          "output_type": "stream",
          "name": "stdout",
          "text": [
            "time: 3.32 s (started: 2022-07-25 14:18:18 +00:00)\n"
          ]
        }
      ],
      "source": [
        "# Load the data\n",
        "data = MLUtils.loadLibSVMFile(spark.sparkContext, \"/content/libsvm_data.txt\")"
      ]
    },
    {
      "cell_type": "code",
      "execution_count": 9,
      "metadata": {
        "id": "6eJLyRWecy6H",
        "colab": {
          "base_uri": "https://localhost:8080/"
        },
        "outputId": "7dfb9ec6-1086-44aa-e31f-2d78f38a1ce7"
      },
      "outputs": [
        {
          "output_type": "execute_result",
          "data": {
            "text/plain": [
              "[LabeledPoint(0.0, (692,[127,128,129,130,131,154,155,156,157,158,159,181,182,183,184,185,186,187,188,189,207,208,209,210,211,212,213,214,215,216,217,235,236,237,238,239,240,241,242,243,244,245,262,263,264,265,266,267,268,269,270,271,272,273,289,290,291,292,293,294,295,296,297,300,301,302,316,317,318,319,320,321,328,329,330,343,344,345,346,347,348,349,356,357,358,371,372,373,374,384,385,386,399,400,401,412,413,414,426,427,428,429,440,441,442,454,455,456,457,466,467,468,469,470,482,483,484,493,494,495,496,497,510,511,512,520,521,522,523,538,539,540,547,548,549,550,566,567,568,569,570,571,572,573,574,575,576,577,578,594,595,596,597,598,599,600,601,602,603,604,622,623,624,625,626,627,628,629,630,651,652,653,654,655,656,657],[51.0,159.0,253.0,159.0,50.0,48.0,238.0,252.0,252.0,252.0,237.0,54.0,227.0,253.0,252.0,239.0,233.0,252.0,57.0,6.0,10.0,60.0,224.0,252.0,253.0,252.0,202.0,84.0,252.0,253.0,122.0,163.0,252.0,252.0,252.0,253.0,252.0,252.0,96.0,189.0,253.0,167.0,51.0,238.0,253.0,253.0,190.0,114.0,253.0,228.0,47.0,79.0,255.0,168.0,48.0,238.0,252.0,252.0,179.0,12.0,75.0,121.0,21.0,253.0,243.0,50.0,38.0,165.0,253.0,233.0,208.0,84.0,253.0,252.0,165.0,7.0,178.0,252.0,240.0,71.0,19.0,28.0,253.0,252.0,195.0,57.0,252.0,252.0,63.0,253.0,252.0,195.0,198.0,253.0,190.0,255.0,253.0,196.0,76.0,246.0,252.0,112.0,253.0,252.0,148.0,85.0,252.0,230.0,25.0,7.0,135.0,253.0,186.0,12.0,85.0,252.0,223.0,7.0,131.0,252.0,225.0,71.0,85.0,252.0,145.0,48.0,165.0,252.0,173.0,86.0,253.0,225.0,114.0,238.0,253.0,162.0,85.0,252.0,249.0,146.0,48.0,29.0,85.0,178.0,225.0,253.0,223.0,167.0,56.0,85.0,252.0,252.0,252.0,229.0,215.0,252.0,252.0,252.0,196.0,130.0,28.0,199.0,252.0,252.0,253.0,252.0,252.0,233.0,145.0,25.0,128.0,252.0,253.0,252.0,141.0,37.0]))]"
            ]
          },
          "metadata": {},
          "execution_count": 9
        },
        {
          "output_type": "stream",
          "name": "stdout",
          "text": [
            "time: 766 ms (started: 2022-07-25 14:20:22 +00:00)\n"
          ]
        }
      ],
      "source": [
        "# View data\n",
        "data.take(1)"
      ]
    },
    {
      "cell_type": "code",
      "execution_count": 10,
      "metadata": {
        "id": "WPUCTVlocy6H",
        "colab": {
          "base_uri": "https://localhost:8080/"
        },
        "outputId": "5598e899-0061-4abc-9e75-863679fc8347"
      },
      "outputs": [
        {
          "output_type": "execute_result",
          "data": {
            "text/plain": [
              "100"
            ]
          },
          "metadata": {},
          "execution_count": 10
        },
        {
          "output_type": "stream",
          "name": "stdout",
          "text": [
            "time: 476 ms (started: 2022-07-25 14:20:27 +00:00)\n"
          ]
        }
      ],
      "source": [
        "# View the count of data\n",
        "data.count()"
      ]
    },
    {
      "cell_type": "markdown",
      "metadata": {
        "id": "DFx2w1wRcy6H"
      },
      "source": [
        "## Split data into train, test "
      ]
    },
    {
      "cell_type": "code",
      "execution_count": 12,
      "metadata": {
        "id": "jHIRyvEQcy6I",
        "colab": {
          "base_uri": "https://localhost:8080/"
        },
        "outputId": "48e21fe3-efca-49b4-968e-df482129f3d8"
      },
      "outputs": [
        {
          "output_type": "stream",
          "name": "stdout",
          "text": [
            "time: 1.45 ms (started: 2022-07-25 14:22:35 +00:00)\n"
          ]
        }
      ],
      "source": [
        "# Use randomSplit to split data into 70-30%\n",
        "(trainingData, testData) = data.randomSplit([0.7,0.3])"
      ]
    },
    {
      "cell_type": "code",
      "execution_count": 13,
      "metadata": {
        "id": "_TzGCxXhcy6I",
        "colab": {
          "base_uri": "https://localhost:8080/"
        },
        "outputId": "ea9f4059-e07e-4fd3-f464-8c139cc0739a"
      },
      "outputs": [
        {
          "output_type": "execute_result",
          "data": {
            "text/plain": [
              "69"
            ]
          },
          "metadata": {},
          "execution_count": 13
        },
        {
          "output_type": "stream",
          "name": "stdout",
          "text": [
            "time: 718 ms (started: 2022-07-25 14:22:36 +00:00)\n"
          ]
        }
      ],
      "source": [
        "# View the count of training data\n",
        "trainingData.count()"
      ]
    },
    {
      "cell_type": "code",
      "execution_count": 14,
      "metadata": {
        "id": "ARgw8zV9cy6I",
        "colab": {
          "base_uri": "https://localhost:8080/"
        },
        "outputId": "f4875790-a0b7-4f90-f704-b78c23b7dbd2"
      },
      "outputs": [
        {
          "output_type": "execute_result",
          "data": {
            "text/plain": [
              "31"
            ]
          },
          "metadata": {},
          "execution_count": 14
        },
        {
          "output_type": "stream",
          "name": "stdout",
          "text": [
            "time: 135 ms (started: 2022-07-25 14:22:46 +00:00)\n"
          ]
        }
      ],
      "source": [
        "# View the count of test data\n",
        "testData.count()"
      ]
    },
    {
      "cell_type": "markdown",
      "metadata": {
        "id": "D6-A3C7Ncy6I"
      },
      "source": [
        "## Train Decision Tree Regression Model"
      ]
    },
    {
      "cell_type": "code",
      "execution_count": 15,
      "metadata": {
        "id": "mM3PQ_WAcy6I",
        "colab": {
          "base_uri": "https://localhost:8080/"
        },
        "outputId": "24a44fcf-3cc5-48cd-dac5-5bb42c9c870a"
      },
      "outputs": [
        {
          "output_type": "stream",
          "name": "stdout",
          "text": [
            "time: 5.75 ms (started: 2022-07-25 14:22:57 +00:00)\n"
          ]
        }
      ],
      "source": [
        "# Import the libraries required for Decision Tree\n",
        "from pyspark.mllib.tree import DecisionTree, DecisionTreeModel\n"
      ]
    },
    {
      "cell_type": "code",
      "execution_count": 36,
      "metadata": {
        "id": "dtHq8kgxcy6I",
        "colab": {
          "base_uri": "https://localhost:8080/"
        },
        "outputId": "e47a0d2c-ecea-4205-bb71-1fa604bf6f51"
      },
      "outputs": [
        {
          "output_type": "stream",
          "name": "stdout",
          "text": [
            "time: 1.32 s (started: 2022-07-25 15:45:08 +00:00)\n"
          ]
        }
      ],
      "source": [
        "# Create a Decision Tree model\n",
        "model = DecisionTree.trainRegressor(trainingData,\n",
        "                                    categoricalFeaturesInfo={},\n",
        "                                    impurity=\"variance\",\n",
        "                                    maxDepth=2)"
      ]
    },
    {
      "cell_type": "code",
      "execution_count": 37,
      "metadata": {
        "id": "Cbfv3P0tcy6I",
        "colab": {
          "base_uri": "https://localhost:8080/"
        },
        "outputId": "8b09aacd-51ab-485b-dc63-539c62ed35ef"
      },
      "outputs": [
        {
          "output_type": "execute_result",
          "data": {
            "text/plain": [
              "DecisionTreeModel regressor of depth 1 with 3 nodes"
            ]
          },
          "metadata": {},
          "execution_count": 37
        },
        {
          "output_type": "stream",
          "name": "stdout",
          "text": [
            "time: 15.1 ms (started: 2022-07-25 15:45:09 +00:00)\n"
          ]
        }
      ],
      "source": [
        "# View the model created\n",
        "model"
      ]
    },
    {
      "cell_type": "markdown",
      "metadata": {
        "id": "Z0yJc18Mcy6J"
      },
      "source": [
        "## Prediction for Test data"
      ]
    },
    {
      "cell_type": "code",
      "execution_count": 38,
      "metadata": {
        "id": "4v8OHAqXcy6J",
        "colab": {
          "base_uri": "https://localhost:8080/"
        },
        "outputId": "2d77b79b-72a9-4525-9319-7cca5bba65d5"
      },
      "outputs": [
        {
          "output_type": "stream",
          "name": "stdout",
          "text": [
            "time: 47 ms (started: 2022-07-25 15:45:09 +00:00)\n"
          ]
        }
      ],
      "source": [
        "# Predict result based on model created\n",
        "predictions = model.predict(testData.map(lambda x: x.features))"
      ]
    },
    {
      "cell_type": "code",
      "execution_count": 39,
      "metadata": {
        "id": "0xhwlRJAcy6J",
        "colab": {
          "base_uri": "https://localhost:8080/"
        },
        "outputId": "b1e9f996-6f63-467c-a28a-1cc87242eae1"
      },
      "outputs": [
        {
          "output_type": "execute_result",
          "data": {
            "text/plain": [
              "[0.0, 0.0, 0.0, 0.0, 1.0, 1.0, 0.0, 0.0, 1.0, 0.0]"
            ]
          },
          "metadata": {},
          "execution_count": 39
        },
        {
          "output_type": "stream",
          "name": "stdout",
          "text": [
            "time: 600 ms (started: 2022-07-25 15:45:09 +00:00)\n"
          ]
        }
      ],
      "source": [
        "# View the predictions\n",
        "predictions.take(10)"
      ]
    },
    {
      "cell_type": "markdown",
      "metadata": {
        "id": "eiDrYA8ocy6J"
      },
      "source": [
        "## Label & Predict output together"
      ]
    },
    {
      "cell_type": "code",
      "execution_count": 40,
      "metadata": {
        "id": "ljd9fRuwcy6J",
        "colab": {
          "base_uri": "https://localhost:8080/"
        },
        "outputId": "83be911c-ece6-4051-9285-b60d93dbe93d"
      },
      "outputs": [
        {
          "output_type": "stream",
          "name": "stdout",
          "text": [
            "time: 19.8 ms (started: 2022-07-25 15:45:10 +00:00)\n"
          ]
        }
      ],
      "source": [
        "# Place the actual and predicted labels together to get a better understanding\n",
        "labelAndPreds = testData.map(lambda x: x.label).zip(predictions)"
      ]
    },
    {
      "cell_type": "code",
      "execution_count": 41,
      "metadata": {
        "id": "NWH27Cxhcy6J",
        "colab": {
          "base_uri": "https://localhost:8080/"
        },
        "outputId": "bc47959a-0d9d-423c-89b3-19878ccd0dfd"
      },
      "outputs": [
        {
          "output_type": "execute_result",
          "data": {
            "text/plain": [
              "[(0.0, 0.0),\n",
              " (1.0, 0.0),\n",
              " (0.0, 0.0),\n",
              " (0.0, 0.0),\n",
              " (1.0, 1.0),\n",
              " (1.0, 1.0),\n",
              " (0.0, 0.0),\n",
              " (0.0, 0.0),\n",
              " (1.0, 1.0),\n",
              " (0.0, 0.0)]"
            ]
          },
          "metadata": {},
          "execution_count": 41
        },
        {
          "output_type": "stream",
          "name": "stdout",
          "text": [
            "time: 131 ms (started: 2022-07-25 15:45:10 +00:00)\n"
          ]
        }
      ],
      "source": [
        "# View the actual and predicted labels together to get a better understanding\n",
        "labelAndPreds.take(10)"
      ]
    },
    {
      "cell_type": "markdown",
      "metadata": {
        "id": "xtVYq0Pwcy6J"
      },
      "source": [
        "## Calculate MSE"
      ]
    },
    {
      "cell_type": "code",
      "execution_count": 42,
      "metadata": {
        "id": "6v3hXILDcy6J",
        "colab": {
          "base_uri": "https://localhost:8080/"
        },
        "outputId": "660970fc-4346-47bb-fbc5-708a1d8b198b"
      },
      "outputs": [
        {
          "output_type": "execute_result",
          "data": {
            "text/plain": [
              "0.03225806451612903"
            ]
          },
          "metadata": {},
          "execution_count": 42
        },
        {
          "output_type": "stream",
          "name": "stdout",
          "text": [
            "time: 672 ms (started: 2022-07-25 15:45:10 +00:00)\n"
          ]
        }
      ],
      "source": [
        "# Calculate and view MSE value\n",
        "mse_value = labelAndPreds.map(lambda x: (x[0]-x[1])*(x[0]-x[1])).sum() / float(testData.count())\n",
        "mse_value"
      ]
    },
    {
      "cell_type": "markdown",
      "metadata": {
        "id": "mTn6wyqRcy6J"
      },
      "source": [
        "## Visualize Model in Debug Mode"
      ]
    },
    {
      "cell_type": "code",
      "execution_count": 43,
      "metadata": {
        "id": "TVAMAeancy6J",
        "colab": {
          "base_uri": "https://localhost:8080/"
        },
        "outputId": "d8dca23b-b592-4a85-8348-25ad1276498c"
      },
      "outputs": [
        {
          "output_type": "stream",
          "name": "stdout",
          "text": [
            "DecisionTreeModel regressor of depth 1 with 3 nodes\n",
            "  If (feature 434 <= 70.5)\n",
            "   Predict: 0.0\n",
            "  Else (feature 434 > 70.5)\n",
            "   Predict: 1.0\n",
            "\n",
            "time: 2.23 ms (started: 2022-07-25 15:45:12 +00:00)\n"
          ]
        }
      ],
      "source": [
        "# Print tree using model.toDebugString()\n",
        "print(model.toDebugString())"
      ]
    }
  ],
  "metadata": {
    "kernelspec": {
      "display_name": "Python 3.9.13 64-bit",
      "language": "python",
      "name": "python3"
    },
    "language_info": {
      "codemirror_mode": {
        "name": "ipython",
        "version": 3
      },
      "file_extension": ".py",
      "mimetype": "text/x-python",
      "name": "python",
      "nbconvert_exporter": "python",
      "pygments_lexer": "ipython3",
      "version": "3.9.13"
    },
    "vscode": {
      "interpreter": {
        "hash": "b0fa6594d8f4cbf19f97940f81e996739fb7646882a419484c72d19e05852a7e"
      }
    },
    "colab": {
      "name": "Regression_Spark_LibSVM.ipynb",
      "provenance": [],
      "collapsed_sections": []
    }
  },
  "nbformat": 4,
  "nbformat_minor": 0
}