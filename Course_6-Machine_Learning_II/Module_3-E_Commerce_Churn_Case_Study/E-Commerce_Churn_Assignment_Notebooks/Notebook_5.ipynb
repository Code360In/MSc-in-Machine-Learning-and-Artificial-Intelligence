{
 "cells": [
  {
   "cell_type": "code",
   "execution_count": 1,
   "metadata": {},
   "outputs": [
    {
     "name": "stdout",
     "output_type": "stream",
     "text": [
      "time: 315 µs (started: 2022-08-17 13:14:41 +00:00)\n"
     ]
    }
   ],
   "source": [
    "# Loading autotime for the notebook\n",
    "%load_ext autotime"
   ]
  },
  {
   "cell_type": "code",
   "execution_count": 2,
   "metadata": {},
   "outputs": [
    {
     "name": "stdout",
     "output_type": "stream",
     "text": [
      "time: 2.14 ms (started: 2022-08-17 13:14:41 +00:00)\n"
     ]
    }
   ],
   "source": [
    "# Setting the environment variables"
   ]
  },
  {
   "cell_type": "code",
   "execution_count": 3,
   "metadata": {},
   "outputs": [
    {
     "name": "stdout",
     "output_type": "stream",
     "text": [
      "time: 2.64 ms (started: 2022-08-17 13:14:41 +00:00)\n"
     ]
    }
   ],
   "source": [
    "import os\n",
    "import sys\n",
    "os.environ[\"PYSPARK_PYTHON\"]=\"/usr/bin/python3\"\n",
    "os.environ[\"PYSPARK_DRIVER_PYTHON\"]=\"/usr/bin/python3\"\n",
    "os.environ[\"PYSPARK_DRIVER_PYTHON_OPTS\"]=\"notebook --no-browser\"\n",
    "os.environ[\"JAVA_HOME\"] = \"/usr/java/jdk1.8.0_161/jre\"\n",
    "os.environ[\"SPARK_HOME\"] = \"/home/ec2-user/spark-2.4.4-bin-hadoop2.7\"\n",
    "os.environ[\"PYLIB\"] = os.environ[\"SPARK_HOME\"] + \"/python/lib\"\n",
    "sys.path.insert(0, os.environ[\"PYLIB\"] + \"/py4j-0.10.7-src.zip\")\n",
    "sys.path.insert(0, os.environ[\"PYLIB\"] + \"/pyspark.zip\")"
   ]
  },
  {
   "cell_type": "code",
   "execution_count": 4,
   "metadata": {},
   "outputs": [
    {
     "name": "stdout",
     "output_type": "stream",
     "text": [
      "time: 1.84 s (started: 2022-08-17 13:14:41 +00:00)\n"
     ]
    }
   ],
   "source": [
    "# Spark environment\n",
    "from pyspark import SparkConf\n",
    "from pyspark.sql import SparkSession\n",
    "from pyspark.sql import functions as F\n",
    "from pyspark.sql import types as T\n",
    "\n",
    "from pyspark.ml.classification import DecisionTreeClassifier, DecisionTreeClassificationModel\n",
    "from pyspark.ml.classification import LogisticRegression, LogisticRegressionModel\n",
    "from pyspark.ml.classification import RandomForestClassifier, RandomForestClassificationModel\n",
    "from pyspark.ml.evaluation import MulticlassClassificationEvaluator\n",
    "from pyspark.mllib.evaluation import MulticlassMetrics\n",
    "\n",
    "\n",
    "# Python Utilities\n",
    "import matplotlib.pyplot as plt\n",
    "import numpy as np\n",
    "import pandas as pd\n",
    "import seaborn as sns"
   ]
  },
  {
   "cell_type": "markdown",
   "metadata": {},
   "source": [
    "# Ecommerce Churn Assignment"
   ]
  },
  {
   "cell_type": "markdown",
   "metadata": {},
   "source": [
    "The aim of the assignment is to build a model that predicts whether a person purchases an item after it has been added to the cart or not. Being a classification problem, you are expected to use your understanding of all the three models covered till now. You must select the most robust model and provide a solution that predicts the churn in the most suitable manner. \n",
    "\n",
    "For this assignment, you are provided the data associated with an e-commerce company for the month of October 2019. Your task is to first analyse the data, and then perform multiple steps towards the model building process.\n",
    "\n",
    "The broad tasks are:\n",
    "- Data Exploration\n",
    "- Feature Engineering\n",
    "- Model Selection\n",
    "- Model Inference"
   ]
  },
  {
   "cell_type": "markdown",
   "metadata": {},
   "source": [
    "### Data description"
   ]
  },
  {
   "cell_type": "markdown",
   "metadata": {},
   "source": [
    "The dataset stores the information of a customer session on the e-commerce platform. It records the activity and the associated parameters with it.\n",
    "\n",
    "- **event_time**: Date and time when user accesses the platform\n",
    "- **event_type**: Action performed by the customer\n",
    "            - View\n",
    "            - Cart\n",
    "            - Purchase\n",
    "            - Remove from cart\n",
    "- **product_id**: Unique number to identify the product in the event\n",
    "- **category_id**: Unique number to identify the category of the product\n",
    "- **category_code**: Stores primary and secondary categories of the product\n",
    "- **brand**: Brand associated with the product\n",
    "- **price**: Price of the product\n",
    "- **user_id**: Unique ID for a customer\n",
    "- **user_session**: Session ID for a user\n"
   ]
  },
  {
   "cell_type": "markdown",
   "metadata": {},
   "source": [
    "### Initialising the SparkSession"
   ]
  },
  {
   "cell_type": "markdown",
   "metadata": {},
   "source": [
    "The dataset provided is 5 GBs in size. Therefore, it is expected that you increase the driver memory to a greater number. You can refer to notebook 1 for the steps involved here."
   ]
  },
  {
   "cell_type": "code",
   "execution_count": 5,
   "metadata": {},
   "outputs": [
    {
     "data": {
      "text/html": [
       "\n",
       "            <div>\n",
       "                <p><b>SparkSession - in-memory</b></p>\n",
       "                \n",
       "        <div>\n",
       "            <p><b>SparkContext</b></p>\n",
       "\n",
       "            <p><a href=\"http://ip-172-31-22-223.ec2.internal:4040\">Spark UI</a></p>\n",
       "\n",
       "            <dl>\n",
       "              <dt>Version</dt>\n",
       "                <dd><code>v2.4.4</code></dd>\n",
       "              <dt>Master</dt>\n",
       "                <dd><code>local[*]</code></dd>\n",
       "              <dt>AppName</dt>\n",
       "                <dd><code>demo</code></dd>\n",
       "            </dl>\n",
       "        </div>\n",
       "        \n",
       "            </div>\n",
       "        "
      ],
      "text/plain": [
       "<pyspark.sql.session.SparkSession at 0x7f18a6ef3610>"
      ]
     },
     "execution_count": 5,
     "metadata": {},
     "output_type": "execute_result"
    },
    {
     "name": "stdout",
     "output_type": "stream",
     "text": [
      "time: 3.79 s (started: 2022-08-17 13:14:43 +00:00)\n"
     ]
    }
   ],
   "source": [
    "MAX_MEMORY = \"14G\"\n",
    "\n",
    "spark = SparkSession \\\n",
    "    .builder \\\n",
    "    .appName(\"demo\") \\\n",
    "    .config(\"spark.driver.memory\", MAX_MEMORY) \\\n",
    "    .getOrCreate()\n",
    "\n",
    "spark.sparkContext.setLogLevel(\"ERROR\")\n",
    "spark"
   ]
  },
  {
   "cell_type": "code",
   "execution_count": 6,
   "metadata": {},
   "outputs": [
    {
     "name": "stdout",
     "output_type": "stream",
     "text": [
      "time: 2.81 s (started: 2022-08-17 13:14:47 +00:00)\n"
     ]
    }
   ],
   "source": [
    "# Loading the clean data\n",
    "df_transformed = spark.read.parquet(\"Parquets/transformed_df.parquet\")"
   ]
  },
  {
   "cell_type": "code",
   "execution_count": 7,
   "metadata": {},
   "outputs": [
    {
     "name": "stdout",
     "output_type": "stream",
     "text": [
      "time: 73.1 ms (started: 2022-08-17 13:14:50 +00:00)\n"
     ]
    }
   ],
   "source": [
    "# Splitting the data into train and test (Remember you are expected to compare the model later)\n",
    "df_train, df_test = df_transformed.randomSplit([0.7, 0.3], seed=42)"
   ]
  },
  {
   "cell_type": "code",
   "execution_count": 8,
   "metadata": {},
   "outputs": [
    {
     "name": "stdout",
     "output_type": "stream",
     "text": [
      "Number of Train rows: 628038\n",
      "Number of Test rows: 270405\n",
      "time: 23.3 s (started: 2022-08-17 13:14:50 +00:00)\n"
     ]
    }
   ],
   "source": [
    "# Number of rows in train and test data\n",
    "print(f\"Number of Train rows: {df_train.count()}\")\n",
    "print(f\"Number of Test rows: {df_test.count()}\")"
   ]
  },
  {
   "cell_type": "markdown",
   "metadata": {},
   "source": [
    "<hr>"
   ]
  },
  {
   "cell_type": "markdown",
   "metadata": {},
   "source": [
    "## Task 4: Model Inference\n",
    "\n",
    "- Feature Importance\n",
    "- Model Inference\n",
    "- Feature exploration"
   ]
  },
  {
   "cell_type": "code",
   "execution_count": 9,
   "metadata": {},
   "outputs": [
    {
     "name": "stdout",
     "output_type": "stream",
     "text": [
      "time: 390 µs (started: 2022-08-17 13:15:13 +00:00)\n"
     ]
    }
   ],
   "source": [
    "label_column = \"is_purchased\""
   ]
  },
  {
   "cell_type": "code",
   "execution_count": 10,
   "metadata": {
    "scrolled": false
   },
   "outputs": [
    {
     "name": "stdout",
     "output_type": "stream",
     "text": [
      "time: 4.1 s (started: 2022-08-17 13:15:13 +00:00)\n"
     ]
    }
   ],
   "source": [
    "lr_model = LogisticRegressionModel.load(\"Models/LogisticRegression\")\n",
    "dt_model = DecisionTreeClassificationModel.load(\"Models/DecisionTree\")\n",
    "rf_model = RandomForestClassificationModel.load(\"Models/RandomForest\")\n",
    "\n",
    "best_models = {\"LogisticRegression\": lr_model, \n",
    "               \"DecisionTree\": dt_model, \n",
    "               \"RandomForest\": rf_model}"
   ]
  },
  {
   "cell_type": "code",
   "execution_count": 11,
   "metadata": {},
   "outputs": [
    {
     "name": "stdout",
     "output_type": "stream",
     "text": [
      "time: 672 µs (started: 2022-08-17 13:15:17 +00:00)\n"
     ]
    }
   ],
   "source": [
    "def get_metrics(model):\n",
    "    df_result = model.transform(df_test)\n",
    "    preds_and_labels = df_result.select([\"prediction\", \"is_purchased\"]) \\\n",
    "                            .withColumn(\"label\", F.col(\"is_purchased\").cast(T.FloatType())) \\\n",
    "                            .withColumn(\"prediction\", F.col(\"prediction\").cast(T.FloatType())) \\\n",
    "                            .drop(\"is_purchased\") \\\n",
    "                            .orderBy(\"prediction\")\n",
    "    return MulticlassMetrics(preds_and_labels.rdd.map(tuple))"
   ]
  },
  {
   "cell_type": "code",
   "execution_count": 12,
   "metadata": {
    "scrolled": false
   },
   "outputs": [
    {
     "name": "stdout",
     "output_type": "stream",
     "text": [
      "*************************\n",
      "Model: LogisticRegression\n",
      "Confusion Matrix\n",
      "[[ 29471.  76855.]\n",
      " [ 21230. 142849.]]\n",
      "\n",
      "False Positive Rate : 0.12938889193620146\n",
      "Precision           : 0.6501884353493792\n",
      "Recall              : 0.8706111080637985\n",
      "F1-Score            : 0.3753621988575213\n",
      "Accuracy            : 0.637266322738115\n",
      "*************************\n",
      "\n",
      "\n",
      "*************************\n",
      "Model: DecisionTree\n",
      "Confusion Matrix\n",
      "[[ 80641.  25685.]\n",
      " [122783.  41296.]]\n",
      "\n",
      "False Positive Rate : 0.7483163598022904\n",
      "Precision           : 0.6165330466848807\n",
      "Recall              : 0.2516836401977096\n",
      "F1-Score            : 0.5206844229217111\n",
      "Accuracy            : 0.4509421053604778\n",
      "*************************\n",
      "\n",
      "\n",
      "*************************\n",
      "Model: RandomForest\n",
      "Confusion Matrix\n",
      "[[ 41047.  65279.]\n",
      " [ 50927. 113152.]]\n",
      "\n",
      "False Positive Rate : 0.3103809750181315\n",
      "Precision           : 0.6341498954778038\n",
      "Recall              : 0.6896190249818684\n",
      "F1-Score            : 0.4139889056984367\n",
      "Accuracy            : 0.5702520293633624\n",
      "*************************\n",
      "\n",
      "\n",
      "time: 1min 58s (started: 2022-08-17 13:15:17 +00:00)\n"
     ]
    }
   ],
   "source": [
    "model_metrics = {}\n",
    "idx = 0\n",
    "for name, model in best_models.items():\n",
    "    model_metrics[idx] = {}\n",
    "    model_metrics[idx][\"Name\"] = name\n",
    "    print(f\"{'*' * 25}\")\n",
    "    \n",
    "    print(f\"Model: {name}\")\n",
    "    metrics = get_metrics(model)\n",
    "    model_metrics[idx][\"Metrics\"] = metrics\n",
    "    \n",
    "    print(\"Confusion Matrix\")\n",
    "    conf_matrix = metrics.confusionMatrix().toArray()\n",
    "    model_metrics[idx][\"ConfusionMatrix\"] = conf_matrix\n",
    "    print(conf_matrix)\n",
    "    print()\n",
    "    \n",
    "    metric = metrics.falsePositiveRate(0.0)\n",
    "    model_metrics[idx][\"FalsePositiveRate\"] = metric\n",
    "    print(f\"{'False Positive Rate': <20}: {metric}\")\n",
    "    \n",
    "    metric = metrics.precision(1.0)\n",
    "    model_metrics[idx][\"Precision\"] = metric\n",
    "    print(f\"{'Precision': <20}: {metric}\")\n",
    "    \n",
    "    metric = metrics.recall(1.0)\n",
    "    model_metrics[idx][\"Recall\"] = metric\n",
    "    print(f\"{'Recall': <20}: {metric}\")\n",
    "    \n",
    "    metric = metrics.fMeasure(0.0, 1.0)\n",
    "    model_metrics[idx][\"F1-Score\"] = metric\n",
    "    print(f\"{'F1-Score': <20}: {metric}\")\n",
    "    \n",
    "    metric = metrics.accuracy\n",
    "    model_metrics[idx][\"Accuracy\"] = metric\n",
    "    print(f\"{'Accuracy': <20}: {metric}\")\n",
    "    \n",
    "    print(f\"{'*' * 25}\")\n",
    "    print(\"\\n\")\n",
    "    idx += 1\n"
   ]
  },
  {
   "cell_type": "code",
   "execution_count": 13,
   "metadata": {},
   "outputs": [
    {
     "name": "stdout",
     "output_type": "stream",
     "text": [
      "time: 6.97 ms (started: 2022-08-17 13:17:16 +00:00)\n"
     ]
    }
   ],
   "source": [
    "df = pd.DataFrame(model_metrics).T\n",
    "df.drop([\"Metrics\"], axis = 1, inplace = True) "
   ]
  },
  {
   "cell_type": "code",
   "execution_count": 14,
   "metadata": {},
   "outputs": [
    {
     "data": {
      "text/html": [
       "<div>\n",
       "<style scoped>\n",
       "    .dataframe tbody tr th:only-of-type {\n",
       "        vertical-align: middle;\n",
       "    }\n",
       "\n",
       "    .dataframe tbody tr th {\n",
       "        vertical-align: top;\n",
       "    }\n",
       "\n",
       "    .dataframe thead th {\n",
       "        text-align: right;\n",
       "    }\n",
       "</style>\n",
       "<table border=\"1\" class=\"dataframe\">\n",
       "  <thead>\n",
       "    <tr style=\"text-align: right;\">\n",
       "      <th></th>\n",
       "      <th>Name</th>\n",
       "      <th>ConfusionMatrix</th>\n",
       "      <th>FalsePositiveRate</th>\n",
       "      <th>Precision</th>\n",
       "      <th>Recall</th>\n",
       "      <th>F1-Score</th>\n",
       "      <th>Accuracy</th>\n",
       "    </tr>\n",
       "  </thead>\n",
       "  <tbody>\n",
       "    <tr>\n",
       "      <th>0</th>\n",
       "      <td>LogisticRegression</td>\n",
       "      <td>[[29471.0, 76855.0], [21230.0, 142849.0]]</td>\n",
       "      <td>0.129389</td>\n",
       "      <td>0.650188</td>\n",
       "      <td>0.870611</td>\n",
       "      <td>0.375362</td>\n",
       "      <td>0.637266</td>\n",
       "    </tr>\n",
       "    <tr>\n",
       "      <th>1</th>\n",
       "      <td>DecisionTree</td>\n",
       "      <td>[[80641.0, 25685.0], [122783.0, 41296.0]]</td>\n",
       "      <td>0.748316</td>\n",
       "      <td>0.616533</td>\n",
       "      <td>0.251684</td>\n",
       "      <td>0.520684</td>\n",
       "      <td>0.450942</td>\n",
       "    </tr>\n",
       "    <tr>\n",
       "      <th>2</th>\n",
       "      <td>RandomForest</td>\n",
       "      <td>[[41047.0, 65279.0], [50927.0, 113152.0]]</td>\n",
       "      <td>0.310381</td>\n",
       "      <td>0.63415</td>\n",
       "      <td>0.689619</td>\n",
       "      <td>0.413989</td>\n",
       "      <td>0.570252</td>\n",
       "    </tr>\n",
       "  </tbody>\n",
       "</table>\n",
       "</div>"
      ],
      "text/plain": [
       "                 Name                            ConfusionMatrix  \\\n",
       "0  LogisticRegression  [[29471.0, 76855.0], [21230.0, 142849.0]]   \n",
       "1        DecisionTree  [[80641.0, 25685.0], [122783.0, 41296.0]]   \n",
       "2        RandomForest  [[41047.0, 65279.0], [50927.0, 113152.0]]   \n",
       "\n",
       "  FalsePositiveRate Precision    Recall  F1-Score  Accuracy  \n",
       "0          0.129389  0.650188  0.870611  0.375362  0.637266  \n",
       "1          0.748316  0.616533  0.251684  0.520684  0.450942  \n",
       "2          0.310381   0.63415  0.689619  0.413989  0.570252  "
      ]
     },
     "execution_count": 14,
     "metadata": {},
     "output_type": "execute_result"
    },
    {
     "name": "stdout",
     "output_type": "stream",
     "text": [
      "time: 18.5 ms (started: 2022-08-17 13:17:16 +00:00)\n"
     ]
    }
   ],
   "source": [
    "df.head()"
   ]
  },
  {
   "cell_type": "code",
   "execution_count": 15,
   "metadata": {},
   "outputs": [
    {
     "name": "stdout",
     "output_type": "stream",
     "text": [
      "time: 1.57 ms (started: 2022-08-17 13:17:16 +00:00)\n"
     ]
    }
   ],
   "source": [
    "def extract_feature_name(dataframe,featuresVector,stat=False):\n",
    "    \"\"\"\n",
    "    dataframe: spark dataframe,  must contain the featuresVector column\n",
    "    featuresVector,string name of the features vector\n",
    "    stat: boolean, if True, return mean and sd\n",
    "    return a pandas dataframe, include columns\n",
    "    \"\"\"\n",
    "    from itertools import chain\n",
    "    try:\n",
    "        attrs = sorted(\n",
    "            (attr[\"idx\"], attr[\"name\"]) for attr in (chain(*dataframe\n",
    "                .schema[featuresVector]\n",
    "                .metadata[\"ml_attr\"][\"attrs\"].values()))) \n",
    "    except Exception as ex:\n",
    "        print(f\"\"\"\"error occur in extract_feature_name(), it looks like column {featuresVector} does not have such metadata.\n",
    "        error type:  {type(ex).__name__} , error message: {ex.args}\n",
    "        error handled by   fill the feature name with index\"\"\")\n",
    "        vectorsize=dataframe.rdd.collect()[0][featuresVector].size\n",
    "        attrs=zip(list(range(vectorsize)),list(range(vectorsize)))\n",
    "    df=pd.DataFrame(attrs,columns=['feature_index','feature_name'])\n",
    "    if stat:\n",
    "        from pyspark.ml.feature import StandardScaler\n",
    "        standardScaler = StandardScaler(inputCol=featuresVector, outputCol=\"scaled\")\n",
    "        smodel = standardScaler.fit(dataframe)\n",
    "        df['N']=dataframe.count()\n",
    "        df['mean']=smodel.mean.toArray()\n",
    "        df['std']=smodel.std.toArray()\n",
    "    return df\n",
    "\n",
    "def feature_importance(lrm_model, trainDF, trainFeatures, nonzero_only=True):\n",
    "    coef=extract_feature_name(trainDF,trainFeatures,stat=True)\n",
    "    coef['coef']=lrm_model.coefficients.toArray()\n",
    "    coef[\"std_coef\"]=coef[\"coef\"]*coef[\"std\"]\n",
    "    coef[\"feature_importance\"]=coef.std_coef.abs() \n",
    "    if nonzero_only:\n",
    "        coef=coef.loc[coef.coef!=0,:]    \n",
    "    coef.sort_values(by=[\"feature_importance\"],ascending=False,inplace=True)\n",
    "    coef.reset_index(drop=True,inplace=True)\n",
    "    coef=coef[['feature_index', 'feature_name','coef',  'mean', 'std',  'std_coef', 'feature_importance']]\n",
    "    return coef"
   ]
  },
  {
   "cell_type": "markdown",
   "metadata": {},
   "source": [
    "### Feature Importances"
   ]
  },
  {
   "cell_type": "markdown",
   "metadata": {},
   "source": [
    "#### Logitstic Regression"
   ]
  },
  {
   "cell_type": "code",
   "execution_count": 16,
   "metadata": {},
   "outputs": [
    {
     "data": {
      "text/html": [
       "<div>\n",
       "<style scoped>\n",
       "    .dataframe tbody tr th:only-of-type {\n",
       "        vertical-align: middle;\n",
       "    }\n",
       "\n",
       "    .dataframe tbody tr th {\n",
       "        vertical-align: top;\n",
       "    }\n",
       "\n",
       "    .dataframe thead th {\n",
       "        text-align: right;\n",
       "    }\n",
       "</style>\n",
       "<table border=\"1\" class=\"dataframe\">\n",
       "  <thead>\n",
       "    <tr style=\"text-align: right;\">\n",
       "      <th></th>\n",
       "      <th>feature_index</th>\n",
       "      <th>feature_name</th>\n",
       "      <th>coef</th>\n",
       "      <th>mean</th>\n",
       "      <th>std</th>\n",
       "      <th>std_coef</th>\n",
       "      <th>feature_importance</th>\n",
       "    </tr>\n",
       "  </thead>\n",
       "  <tbody>\n",
       "    <tr>\n",
       "      <th>0</th>\n",
       "      <td>76</td>\n",
       "      <td>user_product_count</td>\n",
       "      <td>0.069376</td>\n",
       "      <td>8.327858</td>\n",
       "      <td>11.987979</td>\n",
       "      <td>0.831679</td>\n",
       "      <td>0.831679</td>\n",
       "    </tr>\n",
       "    <tr>\n",
       "      <th>1</th>\n",
       "      <td>78</td>\n",
       "      <td>category_secondary_count</td>\n",
       "      <td>-0.006947</td>\n",
       "      <td>33.429711</td>\n",
       "      <td>59.136615</td>\n",
       "      <td>-0.410850</td>\n",
       "      <td>0.410850</td>\n",
       "    </tr>\n",
       "    <tr>\n",
       "      <th>2</th>\n",
       "      <td>79</td>\n",
       "      <td>session_count</td>\n",
       "      <td>0.002625</td>\n",
       "      <td>70.474443</td>\n",
       "      <td>108.726912</td>\n",
       "      <td>0.285459</td>\n",
       "      <td>0.285459</td>\n",
       "    </tr>\n",
       "    <tr>\n",
       "      <th>3</th>\n",
       "      <td>55</td>\n",
       "      <td>brand_stridx_ohe_xiaomi</td>\n",
       "      <td>-0.400531</td>\n",
       "      <td>0.113412</td>\n",
       "      <td>0.317096</td>\n",
       "      <td>-0.127007</td>\n",
       "      <td>0.127007</td>\n",
       "    </tr>\n",
       "    <tr>\n",
       "      <th>4</th>\n",
       "      <td>54</td>\n",
       "      <td>brand_stridx_ohe_others</td>\n",
       "      <td>-0.311619</td>\n",
       "      <td>0.181774</td>\n",
       "      <td>0.385658</td>\n",
       "      <td>-0.120178</td>\n",
       "      <td>0.120178</td>\n",
       "    </tr>\n",
       "    <tr>\n",
       "      <th>...</th>\n",
       "      <td>...</td>\n",
       "      <td>...</td>\n",
       "      <td>...</td>\n",
       "      <td>...</td>\n",
       "      <td>...</td>\n",
       "      <td>...</td>\n",
       "      <td>...</td>\n",
       "    </tr>\n",
       "    <tr>\n",
       "      <th>75</th>\n",
       "      <td>47</td>\n",
       "      <td>category_code_secondary_stridx_ohe_tshirt</td>\n",
       "      <td>-0.430444</td>\n",
       "      <td>0.000021</td>\n",
       "      <td>0.004550</td>\n",
       "      <td>-0.001958</td>\n",
       "      <td>0.001958</td>\n",
       "    </tr>\n",
       "    <tr>\n",
       "      <th>76</th>\n",
       "      <td>60</td>\n",
       "      <td>brand_stridx_ohe_acer</td>\n",
       "      <td>-0.018840</td>\n",
       "      <td>0.010155</td>\n",
       "      <td>0.100261</td>\n",
       "      <td>-0.001889</td>\n",
       "      <td>0.001889</td>\n",
       "    </tr>\n",
       "    <tr>\n",
       "      <th>77</th>\n",
       "      <td>49</td>\n",
       "      <td>category_code_secondary_stridx_ohe_cultivator</td>\n",
       "      <td>-0.073110</td>\n",
       "      <td>0.000010</td>\n",
       "      <td>0.003091</td>\n",
       "      <td>-0.000226</td>\n",
       "      <td>0.000226</td>\n",
       "    </tr>\n",
       "    <tr>\n",
       "      <th>78</th>\n",
       "      <td>40</td>\n",
       "      <td>category_code_secondary_stridx_ohe_trainer</td>\n",
       "      <td>-0.009815</td>\n",
       "      <td>0.000384</td>\n",
       "      <td>0.019585</td>\n",
       "      <td>-0.000192</td>\n",
       "      <td>0.000192</td>\n",
       "    </tr>\n",
       "    <tr>\n",
       "      <th>79</th>\n",
       "      <td>41</td>\n",
       "      <td>category_code_secondary_stridx_ohe_ironing_board</td>\n",
       "      <td>0.008253</td>\n",
       "      <td>0.000416</td>\n",
       "      <td>0.020382</td>\n",
       "      <td>0.000168</td>\n",
       "      <td>0.000168</td>\n",
       "    </tr>\n",
       "  </tbody>\n",
       "</table>\n",
       "<p>80 rows × 7 columns</p>\n",
       "</div>"
      ],
      "text/plain": [
       "    feature_index                                      feature_name      coef  \\\n",
       "0              76                                user_product_count  0.069376   \n",
       "1              78                          category_secondary_count -0.006947   \n",
       "2              79                                     session_count  0.002625   \n",
       "3              55                           brand_stridx_ohe_xiaomi -0.400531   \n",
       "4              54                           brand_stridx_ohe_others -0.311619   \n",
       "..            ...                                               ...       ...   \n",
       "75             47         category_code_secondary_stridx_ohe_tshirt -0.430444   \n",
       "76             60                             brand_stridx_ohe_acer -0.018840   \n",
       "77             49     category_code_secondary_stridx_ohe_cultivator -0.073110   \n",
       "78             40        category_code_secondary_stridx_ohe_trainer -0.009815   \n",
       "79             41  category_code_secondary_stridx_ohe_ironing_board  0.008253   \n",
       "\n",
       "         mean         std  std_coef  feature_importance  \n",
       "0    8.327858   11.987979  0.831679            0.831679  \n",
       "1   33.429711   59.136615 -0.410850            0.410850  \n",
       "2   70.474443  108.726912  0.285459            0.285459  \n",
       "3    0.113412    0.317096 -0.127007            0.127007  \n",
       "4    0.181774    0.385658 -0.120178            0.120178  \n",
       "..        ...         ...       ...                 ...  \n",
       "75   0.000021    0.004550 -0.001958            0.001958  \n",
       "76   0.010155    0.100261 -0.001889            0.001889  \n",
       "77   0.000010    0.003091 -0.000226            0.000226  \n",
       "78   0.000384    0.019585 -0.000192            0.000192  \n",
       "79   0.000416    0.020382  0.000168            0.000168  \n",
       "\n",
       "[80 rows x 7 columns]"
      ]
     },
     "execution_count": 16,
     "metadata": {},
     "output_type": "execute_result"
    },
    {
     "name": "stdout",
     "output_type": "stream",
     "text": [
      "time: 19.4 s (started: 2022-08-17 13:17:16 +00:00)\n"
     ]
    }
   ],
   "source": [
    "# feature_importances\n",
    "feature_importance(lrm_model=lr_model, \n",
    "                   trainDF=df_train, \n",
    "                   trainFeatures='features', \n",
    "                   nonzero_only=True)"
   ]
  },
  {
   "cell_type": "markdown",
   "metadata": {},
   "source": [
    "#### Decision Tree"
   ]
  },
  {
   "cell_type": "code",
   "execution_count": 17,
   "metadata": {},
   "outputs": [
    {
     "name": "stdout",
     "output_type": "stream",
     "text": [
      "time: 95.1 ms (started: 2022-08-17 13:17:35 +00:00)\n"
     ]
    }
   ],
   "source": [
    "f_type_to_flist_dict = df_test.schema['features'].metadata[\"ml_attr\"][\"attrs\"]\n",
    "feature_importances = dt_model.featureImportances.toArray()\n",
    "features = {}\n",
    "features[\"FeatureName\"] = []\n",
    "features[\"FeatureImportance\"] = []\n",
    "for _, f_list in f_type_to_flist_dict.items():\n",
    "    for f in f_list:\n",
    "        f_index = f['idx']\n",
    "        f_name = f['name']\n",
    "        features[\"FeatureName\"].append(f_name)\n",
    "        features[\"FeatureImportance\"].append(feature_importances[int(f_index)-1])\n",
    "\n",
    "features_pd = pd.DataFrame(features)"
   ]
  },
  {
   "cell_type": "code",
   "execution_count": 18,
   "metadata": {},
   "outputs": [
    {
     "data": {
      "text/html": [
       "<div>\n",
       "<style scoped>\n",
       "    .dataframe tbody tr th:only-of-type {\n",
       "        vertical-align: middle;\n",
       "    }\n",
       "\n",
       "    .dataframe tbody tr th {\n",
       "        vertical-align: top;\n",
       "    }\n",
       "\n",
       "    .dataframe thead th {\n",
       "        text-align: right;\n",
       "    }\n",
       "</style>\n",
       "<table border=\"1\" class=\"dataframe\">\n",
       "  <thead>\n",
       "    <tr style=\"text-align: right;\">\n",
       "      <th></th>\n",
       "      <th>FeatureNum</th>\n",
       "      <th>FeatureName</th>\n",
       "      <th>FeatureImportance</th>\n",
       "    </tr>\n",
       "  </thead>\n",
       "  <tbody>\n",
       "    <tr>\n",
       "      <th>0</th>\n",
       "      <td>6</td>\n",
       "      <td>session_count</td>\n",
       "      <td>0.168214</td>\n",
       "    </tr>\n",
       "    <tr>\n",
       "      <th>1</th>\n",
       "      <td>7</td>\n",
       "      <td>category_code_primary_stridx_ohe_electronics</td>\n",
       "      <td>0.168214</td>\n",
       "    </tr>\n",
       "    <tr>\n",
       "      <th>2</th>\n",
       "      <td>3</td>\n",
       "      <td>user_product_count</td>\n",
       "      <td>0.152178</td>\n",
       "    </tr>\n",
       "    <tr>\n",
       "      <th>3</th>\n",
       "      <td>5</td>\n",
       "      <td>category_secondary_count</td>\n",
       "      <td>0.147429</td>\n",
       "    </tr>\n",
       "    <tr>\n",
       "      <th>4</th>\n",
       "      <td>2</td>\n",
       "      <td>total_activities_count</td>\n",
       "      <td>0.127708</td>\n",
       "    </tr>\n",
       "    <tr>\n",
       "      <th>5</th>\n",
       "      <td>1</td>\n",
       "      <td>day_of_week</td>\n",
       "      <td>0.122082</td>\n",
       "    </tr>\n",
       "    <tr>\n",
       "      <th>6</th>\n",
       "      <td>4</td>\n",
       "      <td>average_price</td>\n",
       "      <td>0.099803</td>\n",
       "    </tr>\n",
       "    <tr>\n",
       "      <th>7</th>\n",
       "      <td>21</td>\n",
       "      <td>category_code_secondary_stridx_ohe_unavailable</td>\n",
       "      <td>0.025748</td>\n",
       "    </tr>\n",
       "    <tr>\n",
       "      <th>8</th>\n",
       "      <td>79</td>\n",
       "      <td>hours_ohe_2</td>\n",
       "      <td>0.015651</td>\n",
       "    </tr>\n",
       "    <tr>\n",
       "      <th>9</th>\n",
       "      <td>78</td>\n",
       "      <td>hours_ohe_1</td>\n",
       "      <td>0.014460</td>\n",
       "    </tr>\n",
       "    <tr>\n",
       "      <th>10</th>\n",
       "      <td>0</td>\n",
       "      <td>price</td>\n",
       "      <td>0.013018</td>\n",
       "    </tr>\n",
       "    <tr>\n",
       "      <th>11</th>\n",
       "      <td>60</td>\n",
       "      <td>brand_stridx_ohe_apple</td>\n",
       "      <td>0.011905</td>\n",
       "    </tr>\n",
       "    <tr>\n",
       "      <th>12</th>\n",
       "      <td>63</td>\n",
       "      <td>brand_stridx_ohe_huawei</td>\n",
       "      <td>0.011212</td>\n",
       "    </tr>\n",
       "    <tr>\n",
       "      <th>13</th>\n",
       "      <td>62</td>\n",
       "      <td>brand_stridx_ohe_xiaomi</td>\n",
       "      <td>0.007774</td>\n",
       "    </tr>\n",
       "    <tr>\n",
       "      <th>14</th>\n",
       "      <td>8</td>\n",
       "      <td>category_code_primary_stridx_ohe_unavailable</td>\n",
       "      <td>0.006899</td>\n",
       "    </tr>\n",
       "    <tr>\n",
       "      <th>15</th>\n",
       "      <td>9</td>\n",
       "      <td>category_code_primary_stridx_ohe_appliances</td>\n",
       "      <td>0.005326</td>\n",
       "    </tr>\n",
       "    <tr>\n",
       "      <th>16</th>\n",
       "      <td>64</td>\n",
       "      <td>brand_stridx_ohe_oppo</td>\n",
       "      <td>0.004740</td>\n",
       "    </tr>\n",
       "    <tr>\n",
       "      <th>17</th>\n",
       "      <td>10</td>\n",
       "      <td>category_code_primary_stridx_ohe_computers</td>\n",
       "      <td>0.004708</td>\n",
       "    </tr>\n",
       "    <tr>\n",
       "      <th>18</th>\n",
       "      <td>61</td>\n",
       "      <td>brand_stridx_ohe_others</td>\n",
       "      <td>0.004395</td>\n",
       "    </tr>\n",
       "    <tr>\n",
       "      <th>19</th>\n",
       "      <td>65</td>\n",
       "      <td>brand_stridx_ohe_lg</td>\n",
       "      <td>0.003474</td>\n",
       "    </tr>\n",
       "  </tbody>\n",
       "</table>\n",
       "</div>"
      ],
      "text/plain": [
       "    FeatureNum                                     FeatureName  \\\n",
       "0            6                                   session_count   \n",
       "1            7    category_code_primary_stridx_ohe_electronics   \n",
       "2            3                              user_product_count   \n",
       "3            5                        category_secondary_count   \n",
       "4            2                          total_activities_count   \n",
       "5            1                                     day_of_week   \n",
       "6            4                                   average_price   \n",
       "7           21  category_code_secondary_stridx_ohe_unavailable   \n",
       "8           79                                     hours_ohe_2   \n",
       "9           78                                     hours_ohe_1   \n",
       "10           0                                           price   \n",
       "11          60                          brand_stridx_ohe_apple   \n",
       "12          63                         brand_stridx_ohe_huawei   \n",
       "13          62                         brand_stridx_ohe_xiaomi   \n",
       "14           8    category_code_primary_stridx_ohe_unavailable   \n",
       "15           9     category_code_primary_stridx_ohe_appliances   \n",
       "16          64                           brand_stridx_ohe_oppo   \n",
       "17          10      category_code_primary_stridx_ohe_computers   \n",
       "18          61                         brand_stridx_ohe_others   \n",
       "19          65                             brand_stridx_ohe_lg   \n",
       "\n",
       "    FeatureImportance  \n",
       "0            0.168214  \n",
       "1            0.168214  \n",
       "2            0.152178  \n",
       "3            0.147429  \n",
       "4            0.127708  \n",
       "5            0.122082  \n",
       "6            0.099803  \n",
       "7            0.025748  \n",
       "8            0.015651  \n",
       "9            0.014460  \n",
       "10           0.013018  \n",
       "11           0.011905  \n",
       "12           0.011212  \n",
       "13           0.007774  \n",
       "14           0.006899  \n",
       "15           0.005326  \n",
       "16           0.004740  \n",
       "17           0.004708  \n",
       "18           0.004395  \n",
       "19           0.003474  "
      ]
     },
     "execution_count": 18,
     "metadata": {},
     "output_type": "execute_result"
    },
    {
     "name": "stdout",
     "output_type": "stream",
     "text": [
      "time: 16.6 ms (started: 2022-08-17 13:17:35 +00:00)\n"
     ]
    }
   ],
   "source": [
    "features_pd = features_pd.sort_values(by=[\"FeatureImportance\"], ascending=False).reset_index()\n",
    "features_pd.rename(columns={'index': 'FeatureNum'}, inplace=True, errors='raise')\n",
    "features_pd.head(20)"
   ]
  },
  {
   "cell_type": "markdown",
   "metadata": {},
   "source": [
    "#### Random Forest"
   ]
  },
  {
   "cell_type": "code",
   "execution_count": 19,
   "metadata": {},
   "outputs": [
    {
     "name": "stdout",
     "output_type": "stream",
     "text": [
      "time: 23.9 ms (started: 2022-08-17 13:17:35 +00:00)\n"
     ]
    }
   ],
   "source": [
    "f_type_to_flist_dict = df_test.schema['features'].metadata[\"ml_attr\"][\"attrs\"]\n",
    "feature_importances = rf_model.featureImportances.toArray()\n",
    "features = {}\n",
    "features[\"FeatureName\"] = []\n",
    "features[\"FeatureImportance\"] = []\n",
    "for _, f_list in f_type_to_flist_dict.items():\n",
    "    for f in f_list:\n",
    "        f_index = f['idx']\n",
    "        f_name = f['name']\n",
    "        features[\"FeatureName\"].append(f_name)\n",
    "        features[\"FeatureImportance\"].append(feature_importances[int(f_index)-1])\n",
    "\n",
    "features_pd = pd.DataFrame(features)"
   ]
  },
  {
   "cell_type": "code",
   "execution_count": 20,
   "metadata": {},
   "outputs": [
    {
     "data": {
      "text/html": [
       "<div>\n",
       "<style scoped>\n",
       "    .dataframe tbody tr th:only-of-type {\n",
       "        vertical-align: middle;\n",
       "    }\n",
       "\n",
       "    .dataframe tbody tr th {\n",
       "        vertical-align: top;\n",
       "    }\n",
       "\n",
       "    .dataframe thead th {\n",
       "        text-align: right;\n",
       "    }\n",
       "</style>\n",
       "<table border=\"1\" class=\"dataframe\">\n",
       "  <thead>\n",
       "    <tr style=\"text-align: right;\">\n",
       "      <th></th>\n",
       "      <th>FeatureNum</th>\n",
       "      <th>FeatureName</th>\n",
       "      <th>FeatureImportance</th>\n",
       "    </tr>\n",
       "  </thead>\n",
       "  <tbody>\n",
       "    <tr>\n",
       "      <th>0</th>\n",
       "      <td>3</td>\n",
       "      <td>user_product_count</td>\n",
       "      <td>0.328183</td>\n",
       "    </tr>\n",
       "    <tr>\n",
       "      <th>1</th>\n",
       "      <td>2</td>\n",
       "      <td>total_activities_count</td>\n",
       "      <td>0.220038</td>\n",
       "    </tr>\n",
       "    <tr>\n",
       "      <th>2</th>\n",
       "      <td>6</td>\n",
       "      <td>session_count</td>\n",
       "      <td>0.117040</td>\n",
       "    </tr>\n",
       "    <tr>\n",
       "      <th>3</th>\n",
       "      <td>7</td>\n",
       "      <td>category_code_primary_stridx_ohe_electronics</td>\n",
       "      <td>0.117040</td>\n",
       "    </tr>\n",
       "    <tr>\n",
       "      <th>4</th>\n",
       "      <td>5</td>\n",
       "      <td>category_secondary_count</td>\n",
       "      <td>0.052541</td>\n",
       "    </tr>\n",
       "    <tr>\n",
       "      <th>5</th>\n",
       "      <td>8</td>\n",
       "      <td>category_code_primary_stridx_ohe_unavailable</td>\n",
       "      <td>0.036847</td>\n",
       "    </tr>\n",
       "    <tr>\n",
       "      <th>6</th>\n",
       "      <td>4</td>\n",
       "      <td>average_price</td>\n",
       "      <td>0.036380</td>\n",
       "    </tr>\n",
       "    <tr>\n",
       "      <th>7</th>\n",
       "      <td>1</td>\n",
       "      <td>day_of_week</td>\n",
       "      <td>0.035777</td>\n",
       "    </tr>\n",
       "    <tr>\n",
       "      <th>8</th>\n",
       "      <td>62</td>\n",
       "      <td>brand_stridx_ohe_xiaomi</td>\n",
       "      <td>0.034705</td>\n",
       "    </tr>\n",
       "    <tr>\n",
       "      <th>9</th>\n",
       "      <td>21</td>\n",
       "      <td>category_code_secondary_stridx_ohe_unavailable</td>\n",
       "      <td>0.031552</td>\n",
       "    </tr>\n",
       "    <tr>\n",
       "      <th>10</th>\n",
       "      <td>9</td>\n",
       "      <td>category_code_primary_stridx_ohe_appliances</td>\n",
       "      <td>0.022174</td>\n",
       "    </tr>\n",
       "    <tr>\n",
       "      <th>11</th>\n",
       "      <td>60</td>\n",
       "      <td>brand_stridx_ohe_apple</td>\n",
       "      <td>0.020196</td>\n",
       "    </tr>\n",
       "    <tr>\n",
       "      <th>12</th>\n",
       "      <td>61</td>\n",
       "      <td>brand_stridx_ohe_others</td>\n",
       "      <td>0.013736</td>\n",
       "    </tr>\n",
       "    <tr>\n",
       "      <th>13</th>\n",
       "      <td>63</td>\n",
       "      <td>brand_stridx_ohe_huawei</td>\n",
       "      <td>0.011203</td>\n",
       "    </tr>\n",
       "    <tr>\n",
       "      <th>14</th>\n",
       "      <td>23</td>\n",
       "      <td>category_code_secondary_stridx_ohe_audio</td>\n",
       "      <td>0.005478</td>\n",
       "    </tr>\n",
       "    <tr>\n",
       "      <th>15</th>\n",
       "      <td>79</td>\n",
       "      <td>hours_ohe_2</td>\n",
       "      <td>0.004456</td>\n",
       "    </tr>\n",
       "    <tr>\n",
       "      <th>16</th>\n",
       "      <td>22</td>\n",
       "      <td>category_code_secondary_stridx_ohe_kitchen</td>\n",
       "      <td>0.004449</td>\n",
       "    </tr>\n",
       "    <tr>\n",
       "      <th>17</th>\n",
       "      <td>10</td>\n",
       "      <td>category_code_primary_stridx_ohe_computers</td>\n",
       "      <td>0.003646</td>\n",
       "    </tr>\n",
       "    <tr>\n",
       "      <th>18</th>\n",
       "      <td>25</td>\n",
       "      <td>category_code_secondary_stridx_ohe_environment</td>\n",
       "      <td>0.002362</td>\n",
       "    </tr>\n",
       "    <tr>\n",
       "      <th>19</th>\n",
       "      <td>78</td>\n",
       "      <td>hours_ohe_1</td>\n",
       "      <td>0.001879</td>\n",
       "    </tr>\n",
       "  </tbody>\n",
       "</table>\n",
       "</div>"
      ],
      "text/plain": [
       "    FeatureNum                                     FeatureName  \\\n",
       "0            3                              user_product_count   \n",
       "1            2                          total_activities_count   \n",
       "2            6                                   session_count   \n",
       "3            7    category_code_primary_stridx_ohe_electronics   \n",
       "4            5                        category_secondary_count   \n",
       "5            8    category_code_primary_stridx_ohe_unavailable   \n",
       "6            4                                   average_price   \n",
       "7            1                                     day_of_week   \n",
       "8           62                         brand_stridx_ohe_xiaomi   \n",
       "9           21  category_code_secondary_stridx_ohe_unavailable   \n",
       "10           9     category_code_primary_stridx_ohe_appliances   \n",
       "11          60                          brand_stridx_ohe_apple   \n",
       "12          61                         brand_stridx_ohe_others   \n",
       "13          63                         brand_stridx_ohe_huawei   \n",
       "14          23        category_code_secondary_stridx_ohe_audio   \n",
       "15          79                                     hours_ohe_2   \n",
       "16          22      category_code_secondary_stridx_ohe_kitchen   \n",
       "17          10      category_code_primary_stridx_ohe_computers   \n",
       "18          25  category_code_secondary_stridx_ohe_environment   \n",
       "19          78                                     hours_ohe_1   \n",
       "\n",
       "    FeatureImportance  \n",
       "0            0.328183  \n",
       "1            0.220038  \n",
       "2            0.117040  \n",
       "3            0.117040  \n",
       "4            0.052541  \n",
       "5            0.036847  \n",
       "6            0.036380  \n",
       "7            0.035777  \n",
       "8            0.034705  \n",
       "9            0.031552  \n",
       "10           0.022174  \n",
       "11           0.020196  \n",
       "12           0.013736  \n",
       "13           0.011203  \n",
       "14           0.005478  \n",
       "15           0.004456  \n",
       "16           0.004449  \n",
       "17           0.003646  \n",
       "18           0.002362  \n",
       "19           0.001879  "
      ]
     },
     "execution_count": 20,
     "metadata": {},
     "output_type": "execute_result"
    },
    {
     "name": "stdout",
     "output_type": "stream",
     "text": [
      "time: 17.3 ms (started: 2022-08-17 13:17:35 +00:00)\n"
     ]
    }
   ],
   "source": [
    "features_pd = features_pd.sort_values(by=[\"FeatureImportance\"], ascending=False).reset_index()\n",
    "features_pd.rename(columns={'index': 'FeatureNum'}, inplace=True, errors='raise')\n",
    "features_pd.head(20)"
   ]
  },
  {
   "cell_type": "code",
   "execution_count": null,
   "metadata": {},
   "outputs": [],
   "source": []
  }
 ],
 "metadata": {
  "kernelspec": {
   "display_name": "Python 3",
   "language": "python",
   "name": "python3"
  },
  "language_info": {
   "codemirror_mode": {
    "name": "ipython",
    "version": 3
   },
   "file_extension": ".py",
   "mimetype": "text/x-python",
   "name": "python",
   "nbconvert_exporter": "python",
   "pygments_lexer": "ipython3",
   "version": "3.7.9"
  }
 },
 "nbformat": 4,
 "nbformat_minor": 4
}
