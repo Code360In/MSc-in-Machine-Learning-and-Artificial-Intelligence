{
 "cells": [
  {
   "cell_type": "markdown",
   "metadata": {},
   "source": [
    "# Fetching Tweets in Real Time using Twitter API"
   ]
  },
  {
   "cell_type": "markdown",
   "metadata": {},
   "source": [
    "Tweepy library is used to route all the Live tweets to a TCP socket server.<br> \n",
    "This server is hosted in same local machine."
   ]
  },
  {
   "cell_type": "markdown",
   "metadata": {},
   "source": [
    "**Import tweepy library**"
   ]
  },
  {
   "cell_type": "code",
   "execution_count": 1,
   "metadata": {},
   "outputs": [
    {
     "name": "stdout",
     "output_type": "stream",
     "text": [
      "Collecting tweepy\n",
      "  Downloading tweepy-4.8.0-py2.py3-none-any.whl (77 kB)\n",
      "\u001b[K     |████████████████████████████████| 77 kB 8.5 MB/s  eta 0:00:01\n",
      "\u001b[?25hCollecting requests<3,>=2.27.0\n",
      "  Downloading requests-2.27.1-py2.py3-none-any.whl (63 kB)\n",
      "\u001b[K     |████████████████████████████████| 63 kB 3.1 MB/s  eta 0:00:01\n",
      "\u001b[?25hCollecting oauthlib<4,>=3.2.0\n",
      "  Downloading oauthlib-3.2.0-py3-none-any.whl (151 kB)\n",
      "\u001b[K     |████████████████████████████████| 151 kB 29.4 MB/s eta 0:00:01\n",
      "\u001b[?25hCollecting requests-oauthlib<2,>=1.2.0\n",
      "  Downloading requests_oauthlib-1.3.1-py2.py3-none-any.whl (23 kB)\n",
      "Collecting urllib3<1.27,>=1.21.1\n",
      "  Downloading urllib3-1.26.9-py2.py3-none-any.whl (138 kB)\n",
      "\u001b[K     |████████████████████████████████| 138 kB 34.0 MB/s eta 0:00:01\n",
      "\u001b[?25hCollecting idna<4,>=2.5; python_version >= \"3\"\n",
      "  Downloading idna-3.3-py3-none-any.whl (61 kB)\n",
      "\u001b[K     |████████████████████████████████| 61 kB 11.6 MB/s eta 0:00:01\n",
      "\u001b[?25hCollecting charset-normalizer~=2.0.0; python_version >= \"3\"\n",
      "  Downloading charset_normalizer-2.0.12-py3-none-any.whl (39 kB)\n",
      "Collecting certifi>=2017.4.17\n",
      "  Downloading certifi-2021.10.8-py2.py3-none-any.whl (149 kB)\n",
      "\u001b[K     |████████████████████████████████| 149 kB 36.4 MB/s eta 0:00:01\n",
      "\u001b[?25hInstalling collected packages: urllib3, idna, charset-normalizer, certifi, requests, oauthlib, requests-oauthlib, tweepy\n",
      "Successfully installed certifi-2021.10.8 charset-normalizer-2.0.12 idna-3.3 oauthlib-3.2.0 requests-2.27.1 requests-oauthlib-1.3.1 tweepy-4.8.0 urllib3-1.26.9\n"
     ]
    }
   ],
   "source": [
    "! pip3 install tweepy --user"
   ]
  },
  {
   "cell_type": "code",
   "execution_count": 2,
   "metadata": {},
   "outputs": [],
   "source": [
    "import tweepy"
   ]
  },
  {
   "cell_type": "markdown",
   "metadata": {},
   "source": [
    "**Import OAuthHandler**<br> Used for Authentication protocol (OAuth) of Twitter API."
   ]
  },
  {
   "cell_type": "code",
   "execution_count": 3,
   "metadata": {},
   "outputs": [],
   "source": [
    "from tweepy import OAuthHandler"
   ]
  },
  {
   "cell_type": "markdown",
   "metadata": {},
   "source": [
    "**Import Stream & StreamListner**<br> Listen to streaming data getting from the socket."
   ]
  },
  {
   "cell_type": "code",
   "execution_count": 5,
   "metadata": {},
   "outputs": [],
   "source": [
    "from tweepy import Stream"
   ]
  },
  {
   "cell_type": "markdown",
   "metadata": {},
   "source": [
    "**Import socket** <br> It is used to create socket connection with Localhost i.e. local server. <br>\n",
    "**Import Json** <br>Json is used because twitter data comes in json format."
   ]
  },
  {
   "cell_type": "code",
   "execution_count": 6,
   "metadata": {},
   "outputs": [],
   "source": [
    "import socket\n",
    "import json"
   ]
  },
  {
   "cell_type": "markdown",
   "metadata": {},
   "source": [
    "To connect to Twitter API, we need these 4 Keys. <br>\n",
    "It can be generated from https://apps.twitter.com/ by creating a new app."
   ]
  },
  {
   "cell_type": "code",
   "execution_count": 7,
   "metadata": {},
   "outputs": [],
   "source": [
    "consumer_key = 'cJxdE5SpqN6td3L34QjhqZF6j'\n",
    "consumer_secret = '4D6nrOWIsAnfB4Eojiaw62K1oHR0WiR27hXu9U0nRMR00kFYXu'\n",
    "access_token = '969589729527185408-HgwCsWXW5Y5DT5rLv6EaXWkfjY4Nqb0'\n",
    "access_secret = '41CkS9c4d0CXSovhDipl5pDimgkBMsqmX7NeyAAI0kgQe'"
   ]
  },
  {
   "cell_type": "markdown",
   "metadata": {},
   "source": [
    "#### Class TweetsListner\n",
    "    1.listening to the stream via StreamListener. \n",
    "    2.constrctor function (init) : initializing the socket. \n",
    "    3.tweet_data contains the tweet's json coming from the stream. \n",
    "    4.In the tweet's json object 'text' field contains the actual Tweet.\n",
    "    5.The actual tweet is extracted & sent to the client socket.\n",
    "    6.on_error is used to catch & throw errors."
   ]
  },
  {
   "cell_type": "code",
   "execution_count": 8,
   "metadata": {},
   "outputs": [],
   "source": [
    "class TweetsListener(tweepy.Stream):\n",
    "    def __init__(self, csocket):\n",
    "      self.client_socket = csocket\n",
    "        \n",
    "    def on_data(self, tweet_json):\n",
    "        try:\n",
    "            tweet_data = json.loads( tweet_json )\n",
    "            print(\"tweet_text: \", tweet_data['text'].encode('utf-8') )\n",
    "            print(\"created_at: \", tweet_data['created_at'])  \n",
    "            print(\"name: \", tweet_data['user']['name'])              \n",
    "            print(\"location: \", tweet_data['user']['location'])\n",
    "            print(\"\\n\")\n",
    "            s = tweet_data['text'] + \"\\n\"\n",
    "            print(s)\n",
    "            s = s.encode('utf-8')\n",
    "            self.client_socket.send( s )\n",
    "            return True\n",
    "        except BaseException as e:\n",
    "            print(\"Error on_data: %s\" % str(e))\n",
    "        return True\n",
    "\n",
    "    def on_error(self, status):\n",
    "        print(status)\n",
    "        return True"
   ]
  },
  {
   "cell_type": "markdown",
   "metadata": {},
   "source": [
    "### Function send_twitter_data():\n",
    "    1. auth is doing Authentication check using OAuthHandler. It uses 4 keys of Twitter APIs.\n",
    "    2. consumer_key & consumer_secret are like username & access_token & access_secret are like password.\n",
    "    3. twitter_stream will get the actual twitter live stream data.\n",
    "    4. It'll call Stream with auth & call the Class TweetsListner & pass c_socket info to the class.\n",
    "    5. From the stream of tweets, filter & take only tweets which contains \"corona\" word."
   ]
  },
  {
   "cell_type": "code",
   "execution_count": 10,
   "metadata": {},
   "outputs": [],
   "source": [
    "def send_twitter_data(c_socket):\n",
    "    auth = OAuthHandler(consumer_key, consumer_secret)\n",
    "    auth.set_access_token(access_token, access_secret)\n",
    "    twitter_stream_data = Stream(auth, TweetsListener(c_socket))\n",
    "    twitter_stream_data.filter(track=['corona'])"
   ]
  },
  {
   "cell_type": "markdown",
   "metadata": {},
   "source": [
    "### Socket Creation:\n",
    "    1. Socket is created by using socket function.\n",
    "    2. Host is localhost, which is machine IP, where this Jupyter notebook is running.\n",
    "    3. Port is 7773 (It can be anything, unique for this service)\n",
    "    4. Now bind host & port address to the socket."
   ]
  },
  {
   "cell_type": "code",
   "execution_count": 11,
   "metadata": {},
   "outputs": [
    {
     "name": "stdout",
     "output_type": "stream",
     "text": [
      "Listening on port: 7777\n"
     ]
    }
   ],
   "source": [
    "# Create a socket object\n",
    "s = socket.socket()\n",
    "\n",
    "# Get local machine name\n",
    "host = \"127.0.0.1\"\n",
    "\n",
    "# Reserve a port for your service.\n",
    "port = 7777\n",
    "\n",
    "# Bind to the port\n",
    "s.bind((host, port))\n",
    "\n",
    "# print\n",
    "print(f\"Listening on port: {str(port)}\")"
   ]
  },
  {
   "cell_type": "markdown",
   "metadata": {},
   "source": [
    "socket will wait & listen for few seconds. <br>\n",
    "After that connection is made."
   ]
  },
  {
   "cell_type": "code",
   "execution_count": 12,
   "metadata": {},
   "outputs": [],
   "source": [
    "# Now wait for client connection.\n",
    "s.listen(5)"
   ]
  },
  {
   "cell_type": "code",
   "execution_count": null,
   "metadata": {},
   "outputs": [],
   "source": [
    "# Establish connection with client.\n",
    "c, addr = s.accept()\n",
    "print(f\"Recieved response from: {str(addr)}\")"
   ]
  },
  {
   "cell_type": "code",
   "execution_count": null,
   "metadata": {},
   "outputs": [],
   "source": []
  },
  {
   "cell_type": "markdown",
   "metadata": {},
   "source": [
    "### Send live Tweets in real time to the Socket\n",
    "Function send_twitter_data will send all the Tweets containing word 'corona' to socket 'c' in real time.<br>\n",
    "This will be consumed in the next code of Spark Streaming to do Trend Analysis."
   ]
  },
  {
   "cell_type": "code",
   "execution_count": null,
   "metadata": {},
   "outputs": [],
   "source": []
  },
  {
   "cell_type": "code",
   "execution_count": null,
   "metadata": {},
   "outputs": [],
   "source": []
  },
  {
   "cell_type": "code",
   "execution_count": null,
   "metadata": {},
   "outputs": [],
   "source": []
  },
  {
   "cell_type": "code",
   "execution_count": null,
   "metadata": {},
   "outputs": [],
   "source": []
  }
 ],
 "metadata": {
  "kernelspec": {
   "display_name": "Python 3 (ipykernel)",
   "language": "python",
   "name": "python3"
  },
  "language_info": {
   "codemirror_mode": {
    "name": "ipython",
    "version": 3
   },
   "file_extension": ".py",
   "mimetype": "text/x-python",
   "name": "python",
   "nbconvert_exporter": "python",
   "pygments_lexer": "ipython3",
   "version": "3.9.10"
  }
 },
 "nbformat": 4,
 "nbformat_minor": 2
}
