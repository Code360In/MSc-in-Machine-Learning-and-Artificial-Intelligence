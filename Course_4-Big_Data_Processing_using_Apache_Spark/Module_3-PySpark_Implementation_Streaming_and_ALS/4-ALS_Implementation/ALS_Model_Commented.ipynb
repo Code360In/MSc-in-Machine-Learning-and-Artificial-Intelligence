{
 "cells": [
  {
   "cell_type": "markdown",
   "metadata": {},
   "source": [
    "## ALS implementation using Spark for Movie Recommendation"
   ]
  },
  {
   "cell_type": "markdown",
   "metadata": {},
   "source": [
    "Install Basic Libraries"
   ]
  },
  {
   "cell_type": "markdown",
   "metadata": {},
   "source": [
    "Import basic spark libraries"
   ]
  },
  {
   "cell_type": "code",
   "execution_count": 1,
   "metadata": {
    "execution": {
     "iopub.execute_input": "2022-05-11T21:58:55.980132Z",
     "iopub.status.busy": "2022-05-11T21:58:55.979721Z",
     "iopub.status.idle": "2022-05-11T21:59:36.997313Z",
     "shell.execute_reply": "2022-05-11T21:59:36.996521Z",
     "shell.execute_reply.started": "2022-05-11T21:58:55.980086Z"
    },
    "tags": []
   },
   "outputs": [
    {
     "data": {
      "application/vnd.jupyter.widget-view+json": {
       "model_id": "8bf9c8c081fb4443b9ff4232bea6f395",
       "version_major": 2,
       "version_minor": 0
      },
      "text/plain": [
       "VBox()"
      ]
     },
     "metadata": {},
     "output_type": "display_data"
    },
    {
     "name": "stdout",
     "output_type": "stream",
     "text": [
      "Starting Spark application\n"
     ]
    },
    {
     "data": {
      "text/html": [
       "<table>\n",
       "<tr><th>ID</th><th>YARN Application ID</th><th>Kind</th><th>State</th><th>Spark UI</th><th>Driver log</th><th>Current session?</th></tr><tr><td>0</td><td>application_1652306141784_0001</td><td>pyspark</td><td>idle</td><td><a target=\"_blank\" href=\"http://ip-172-31-21-201.ec2.internal:20888/proxy/application_1652306141784_0001/\">Link</a></td><td><a target=\"_blank\" href=\"http://ip-172-31-23-159.ec2.internal:8042/node/containerlogs/container_1652306141784_0001_01_000001/livy\">Link</a></td><td>✔</td></tr></table>"
      ],
      "text/plain": [
       "<IPython.core.display.HTML object>"
      ]
     },
     "metadata": {},
     "output_type": "display_data"
    },
    {
     "data": {
      "application/vnd.jupyter.widget-view+json": {
       "model_id": "",
       "version_major": 2,
       "version_minor": 0
      },
      "text/plain": [
       "FloatProgress(value=0.0, bar_style='info', description='Progress:', layout=Layout(height='25px', width='50%'),…"
      ]
     },
     "metadata": {},
     "output_type": "display_data"
    },
    {
     "name": "stdout",
     "output_type": "stream",
     "text": [
      "SparkSession available as 'spark'.\n"
     ]
    },
    {
     "data": {
      "application/vnd.jupyter.widget-view+json": {
       "model_id": "",
       "version_major": 2,
       "version_minor": 0
      },
      "text/plain": [
       "FloatProgress(value=0.0, bar_style='info', description='Progress:', layout=Layout(height='25px', width='50%'),…"
      ]
     },
     "metadata": {},
     "output_type": "display_data"
    }
   ],
   "source": [
    "from pyspark.ml.evaluation import RegressionEvaluator\n",
    "from pyspark.ml.recommendation import ALS\n",
    "from pyspark.sql import Row\n",
    "from pyspark.sql import SparkSession"
   ]
  },
  {
   "cell_type": "code",
   "execution_count": 2,
   "metadata": {
    "execution": {
     "iopub.execute_input": "2022-05-11T21:59:36.999225Z",
     "iopub.status.busy": "2022-05-11T21:59:36.998960Z",
     "iopub.status.idle": "2022-05-11T21:59:38.590773Z",
     "shell.execute_reply": "2022-05-11T21:59:38.589482Z",
     "shell.execute_reply.started": "2022-05-11T21:59:36.999187Z"
    },
    "tags": []
   },
   "outputs": [
    {
     "data": {
      "application/vnd.jupyter.widget-view+json": {
       "model_id": "9bb8e2316b40433bb8c52091c10d16b8",
       "version_major": 2,
       "version_minor": 0
      },
      "text/plain": [
       "VBox()"
      ]
     },
     "metadata": {},
     "output_type": "display_data"
    },
    {
     "data": {
      "application/vnd.jupyter.widget-view+json": {
       "model_id": "",
       "version_major": 2,
       "version_minor": 0
      },
      "text/plain": [
       "FloatProgress(value=0.0, bar_style='info', description='Progress:', layout=Layout(height='25px', width='50%'),…"
      ]
     },
     "metadata": {},
     "output_type": "display_data"
    }
   ],
   "source": [
    "spark = SparkSession.builder.appName(\"als\").getOrCreate()"
   ]
  },
  {
   "cell_type": "markdown",
   "metadata": {},
   "source": [
    "### Load Movie Ratings Data"
   ]
  },
  {
   "cell_type": "code",
   "execution_count": 3,
   "metadata": {
    "execution": {
     "iopub.execute_input": "2022-05-11T21:59:38.592937Z",
     "iopub.status.busy": "2022-05-11T21:59:38.592302Z",
     "iopub.status.idle": "2022-05-11T22:00:04.780757Z",
     "shell.execute_reply": "2022-05-11T22:00:04.779484Z",
     "shell.execute_reply.started": "2022-05-11T21:59:38.592772Z"
    },
    "tags": []
   },
   "outputs": [
    {
     "data": {
      "application/vnd.jupyter.widget-view+json": {
       "model_id": "2405d52300a74295bef5a83d7ea9e41d",
       "version_major": 2,
       "version_minor": 0
      },
      "text/plain": [
       "VBox()"
      ]
     },
     "metadata": {},
     "output_type": "display_data"
    },
    {
     "data": {
      "application/vnd.jupyter.widget-view+json": {
       "model_id": "",
       "version_major": 2,
       "version_minor": 0
      },
      "text/plain": [
       "FloatProgress(value=0.0, bar_style='info', description='Progress:', layout=Layout(height='25px', width='50%'),…"
      ]
     },
     "metadata": {},
     "output_type": "display_data"
    }
   ],
   "source": [
    "ratings = spark.read.csv(\"s3a://sparkdemonstration-mlc/ratings.csv\", inferSchema=True, header=True)"
   ]
  },
  {
   "cell_type": "code",
   "execution_count": 4,
   "metadata": {
    "execution": {
     "iopub.execute_input": "2022-05-11T22:00:04.782537Z",
     "iopub.status.busy": "2022-05-11T22:00:04.782160Z",
     "iopub.status.idle": "2022-05-11T22:00:05.844106Z",
     "shell.execute_reply": "2022-05-11T22:00:05.842546Z",
     "shell.execute_reply.started": "2022-05-11T22:00:04.782493Z"
    },
    "tags": []
   },
   "outputs": [
    {
     "data": {
      "application/vnd.jupyter.widget-view+json": {
       "model_id": "96e262e029944fe1998e455e507d2759",
       "version_major": 2,
       "version_minor": 0
      },
      "text/plain": [
       "VBox()"
      ]
     },
     "metadata": {},
     "output_type": "display_data"
    },
    {
     "data": {
      "application/vnd.jupyter.widget-view+json": {
       "model_id": "",
       "version_major": 2,
       "version_minor": 0
      },
      "text/plain": [
       "FloatProgress(value=0.0, bar_style='info', description='Progress:', layout=Layout(height='25px', width='50%'),…"
      ]
     },
     "metadata": {},
     "output_type": "display_data"
    },
    {
     "name": "stdout",
     "output_type": "stream",
     "text": [
      "+------+-------+------+----------+\n",
      "|userId|movieId|rating| timestamp|\n",
      "+------+-------+------+----------+\n",
      "|     1|    296|   5.0|1147880044|\n",
      "|     1|    306|   3.5|1147868817|\n",
      "|     1|    307|   5.0|1147868828|\n",
      "|     1|    665|   5.0|1147878820|\n",
      "|     1|    899|   3.5|1147868510|\n",
      "|     1|   1088|   4.0|1147868495|\n",
      "|     1|   1175|   3.5|1147868826|\n",
      "|     1|   1217|   3.5|1147878326|\n",
      "|     1|   1237|   5.0|1147868839|\n",
      "|     1|   1250|   4.0|1147868414|\n",
      "|     1|   1260|   3.5|1147877857|\n",
      "|     1|   1653|   4.0|1147868097|\n",
      "|     1|   2011|   2.5|1147868079|\n",
      "|     1|   2012|   2.5|1147868068|\n",
      "|     1|   2068|   2.5|1147869044|\n",
      "|     1|   2161|   3.5|1147868609|\n",
      "|     1|   2351|   4.5|1147877957|\n",
      "|     1|   2573|   4.0|1147878923|\n",
      "|     1|   2632|   5.0|1147878248|\n",
      "|     1|   2692|   5.0|1147869100|\n",
      "+------+-------+------+----------+\n",
      "only showing top 20 rows"
     ]
    }
   ],
   "source": [
    "ratings.show()"
   ]
  },
  {
   "cell_type": "code",
   "execution_count": 5,
   "metadata": {
    "execution": {
     "iopub.execute_input": "2022-05-11T22:00:05.849727Z",
     "iopub.status.busy": "2022-05-11T22:00:05.849001Z",
     "iopub.status.idle": "2022-05-11T22:00:21.961260Z",
     "shell.execute_reply": "2022-05-11T22:00:21.960452Z",
     "shell.execute_reply.started": "2022-05-11T22:00:05.849679Z"
    },
    "tags": []
   },
   "outputs": [
    {
     "data": {
      "application/vnd.jupyter.widget-view+json": {
       "model_id": "f6cda459238a4d1e9c248636933511a9",
       "version_major": 2,
       "version_minor": 0
      },
      "text/plain": [
       "VBox()"
      ]
     },
     "metadata": {},
     "output_type": "display_data"
    },
    {
     "data": {
      "application/vnd.jupyter.widget-view+json": {
       "model_id": "",
       "version_major": 2,
       "version_minor": 0
      },
      "text/plain": [
       "FloatProgress(value=0.0, bar_style='info', description='Progress:', layout=Layout(height='25px', width='50%'),…"
      ]
     },
     "metadata": {},
     "output_type": "display_data"
    },
    {
     "name": "stdout",
     "output_type": "stream",
     "text": [
      "+-------+------------------+------------------+------------------+--------------------+\n",
      "|summary|            userId|           movieId|            rating|           timestamp|\n",
      "+-------+------------------+------------------+------------------+--------------------+\n",
      "|  count|          25000095|          25000095|          25000095|            25000095|\n",
      "|   mean| 81189.28115381162|21387.981943268616| 3.533854451353085|1.2156014431215513E9|\n",
      "| stddev|46791.715897457056|39198.862101060215|1.0607439611423508|2.2687580805953684E8|\n",
      "|    min|                 1|                 1|               0.5|           789652009|\n",
      "|    max|            162541|            209171|               5.0|          1574327703|\n",
      "+-------+------------------+------------------+------------------+--------------------+"
     ]
    }
   ],
   "source": [
    "ratings.describe().show()"
   ]
  },
  {
   "cell_type": "markdown",
   "metadata": {},
   "source": [
    "## Visualize ratings data in Rating Matrix format"
   ]
  },
  {
   "cell_type": "code",
   "execution_count": 6,
   "metadata": {
    "execution": {
     "iopub.execute_input": "2022-05-11T22:00:21.971509Z",
     "iopub.status.busy": "2022-05-11T22:00:21.970787Z",
     "iopub.status.idle": "2022-05-11T22:00:23.533472Z",
     "shell.execute_reply": "2022-05-11T22:00:23.532640Z",
     "shell.execute_reply.started": "2022-05-11T22:00:21.971460Z"
    },
    "tags": []
   },
   "outputs": [
    {
     "data": {
      "application/vnd.jupyter.widget-view+json": {
       "model_id": "96a10be2e0d5407f8afc62e14ec6abe3",
       "version_major": 2,
       "version_minor": 0
      },
      "text/plain": [
       "VBox()"
      ]
     },
     "metadata": {},
     "output_type": "display_data"
    },
    {
     "data": {
      "application/vnd.jupyter.widget-view+json": {
       "model_id": "",
       "version_major": 2,
       "version_minor": 0
      },
      "text/plain": [
       "FloatProgress(value=0.0, bar_style='info', description='Progress:', layout=Layout(height='25px', width='50%'),…"
      ]
     },
     "metadata": {},
     "output_type": "display_data"
    }
   ],
   "source": [
    "ratings_small = spark.read.csv(\"s3a://sparkdemonstration-mlc/ratings_small.csv\", inferSchema=True, header=True)"
   ]
  },
  {
   "cell_type": "code",
   "execution_count": 7,
   "metadata": {
    "execution": {
     "iopub.execute_input": "2022-05-11T22:00:23.538270Z",
     "iopub.status.busy": "2022-05-11T22:00:23.537875Z",
     "iopub.status.idle": "2022-05-11T22:00:24.020082Z",
     "shell.execute_reply": "2022-05-11T22:00:24.019169Z",
     "shell.execute_reply.started": "2022-05-11T22:00:23.538224Z"
    },
    "tags": []
   },
   "outputs": [
    {
     "data": {
      "application/vnd.jupyter.widget-view+json": {
       "model_id": "3f35ec5f0ca34884b4f7821fa7f0ba5c",
       "version_major": 2,
       "version_minor": 0
      },
      "text/plain": [
       "VBox()"
      ]
     },
     "metadata": {},
     "output_type": "display_data"
    },
    {
     "data": {
      "application/vnd.jupyter.widget-view+json": {
       "model_id": "",
       "version_major": 2,
       "version_minor": 0
      },
      "text/plain": [
       "FloatProgress(value=0.0, bar_style='info', description='Progress:', layout=Layout(height='25px', width='50%'),…"
      ]
     },
     "metadata": {},
     "output_type": "display_data"
    }
   ],
   "source": [
    "ratings_small.createTempView(\"ratings_small_table\")"
   ]
  },
  {
   "cell_type": "code",
   "execution_count": 8,
   "metadata": {
    "execution": {
     "iopub.execute_input": "2022-05-11T22:00:24.023223Z",
     "iopub.status.busy": "2022-05-11T22:00:24.022747Z",
     "iopub.status.idle": "2022-05-11T22:00:27.051415Z",
     "shell.execute_reply": "2022-05-11T22:00:27.050649Z",
     "shell.execute_reply.started": "2022-05-11T22:00:24.022999Z"
    },
    "tags": []
   },
   "outputs": [
    {
     "data": {
      "application/vnd.jupyter.widget-view+json": {
       "model_id": "d5483b83d7784797b8c3e70697ff5bb8",
       "version_major": 2,
       "version_minor": 0
      },
      "text/plain": [
       "VBox()"
      ]
     },
     "metadata": {},
     "output_type": "display_data"
    },
    {
     "data": {
      "application/vnd.jupyter.widget-view+json": {
       "model_id": "",
       "version_major": 2,
       "version_minor": 0
      },
      "text/plain": [
       "FloatProgress(value=0.0, bar_style='info', description='Progress:', layout=Layout(height='25px', width='50%'),…"
      ]
     },
     "metadata": {},
     "output_type": "display_data"
    },
    {
     "name": "stdout",
     "output_type": "stream",
     "text": [
      "+------+-------+------+----------+\n",
      "|userId|movieId|rating| timestamp|\n",
      "+------+-------+------+----------+\n",
      "|  6947|     11|   2.0|1130275865|\n",
      "|  6947|     19|   3.5|1130275926|\n",
      "|  6947|    410|   1.5|1130275858|\n",
      "|  6947|    442|   3.5|1130275932|\n",
      "|  6947|    474|   4.0|1130275893|\n",
      "|  6947|    708|   2.5|1130275957|\n",
      "|  6947|    786|   2.5|1130275936|\n",
      "|  6947|    912|   5.0|1130275870|\n",
      "|  6947|   1221|   5.0|1130275875|\n",
      "|  6947|   1307|   3.5|1130275904|\n",
      "|  6947|   1527|   4.0|1130275882|\n",
      "|  6947|   1610|   4.0|1130275942|\n",
      "|  6947|   1784|   4.0|1130275929|\n",
      "|  6947|   1923|   4.0|1130275901|\n",
      "|  6947|   1961|   4.0|1130275896|\n",
      "|  6947|   2987|   3.5|1130275959|\n",
      "|  6947|   2997|   4.5|1130275890|\n",
      "|  6947|   4306|   3.5|1130275951|\n",
      "|  6947|   4993|   5.0|1130275944|\n",
      "|  6947|  36529|   3.0|1130276051|\n",
      "+------+-------+------+----------+\n",
      "only showing top 20 rows"
     ]
    }
   ],
   "source": [
    "spark.sql(\"select * from ratings_small_table\").show()"
   ]
  },
  {
   "cell_type": "code",
   "execution_count": 9,
   "metadata": {
    "execution": {
     "iopub.execute_input": "2022-05-11T22:00:27.053295Z",
     "iopub.status.busy": "2022-05-11T22:00:27.052758Z",
     "iopub.status.idle": "2022-05-11T22:00:35.250476Z",
     "shell.execute_reply": "2022-05-11T22:00:35.249685Z",
     "shell.execute_reply.started": "2022-05-11T22:00:27.053253Z"
    },
    "tags": []
   },
   "outputs": [
    {
     "data": {
      "application/vnd.jupyter.widget-view+json": {
       "model_id": "1661c65b110542e2a909299c790df058",
       "version_major": 2,
       "version_minor": 0
      },
      "text/plain": [
       "VBox()"
      ]
     },
     "metadata": {},
     "output_type": "display_data"
    },
    {
     "data": {
      "application/vnd.jupyter.widget-view+json": {
       "model_id": "",
       "version_major": 2,
       "version_minor": 0
      },
      "text/plain": [
       "FloatProgress(value=0.0, bar_style='info', description='Progress:', layout=Layout(height='25px', width='50%'),…"
      ]
     },
     "metadata": {},
     "output_type": "display_data"
    },
    {
     "name": "stdout",
     "output_type": "stream",
     "text": [
      "+------+----+----+----+----+----+----+----+----+----+----+----+----+----+----+----+----+----+----+----+----+----+----+----+----+----+----+----+----+----+----+----+----+----+----+----+----+----+----+----+-----+\n",
      "|userId|  11|  16|  19| 236| 410| 432| 442| 474| 708| 786| 912|1080|1219|1221|1258|1288|1307|1527|1610|1680|1784|1923|1961|1967|2012|2115|2406|2599|2618|2640|2710|2791|2797|2987|2997|3897|4306|4993|5222|36529|\n",
      "+------+----+----+----+----+----+----+----+----+----+----+----+----+----+----+----+----+----+----+----+----+----+----+----+----+----+----+----+----+----+----+----+----+----+----+----+----+----+----+----+-----+\n",
      "|  6947| 2.0|null| 3.5|null| 1.5|null| 3.5| 4.0| 2.5| 2.5| 5.0|null|null| 5.0|null|null| 3.5| 4.0| 4.0|null| 4.0| 4.0| 4.0|null|null|null|null|null|null|null|null|null|null| 3.5| 4.5|null| 3.5| 5.0|null|  3.0|\n",
      "|  6971|null| 3.0|null| 3.0|null| 1.0|null|null|null|null|null| 5.0| 1.0|null| 1.0| 4.5|null|null|null| 5.0|null|null|null| 4.0| 0.5| 3.5| 3.0| 5.0| 4.5| 1.0| 2.0| 1.5| 1.5|null|null| 5.0|null|null| 5.0| null|\n",
      "+------+----+----+----+----+----+----+----+----+----+----+----+----+----+----+----+----+----+----+----+----+----+----+----+----+----+----+----+----+----+----+----+----+----+----+----+----+----+----+----+-----+"
     ]
    }
   ],
   "source": [
    "spark.sql(\"select * from ratings_small_table\").groupBy(\"userId\").pivot(\"movieId\").max(\"rating\").show()"
   ]
  },
  {
   "cell_type": "markdown",
   "metadata": {},
   "source": [
    "### Load Movies Data"
   ]
  },
  {
   "cell_type": "code",
   "execution_count": 10,
   "metadata": {
    "execution": {
     "iopub.execute_input": "2022-05-11T22:00:35.252286Z",
     "iopub.status.busy": "2022-05-11T22:00:35.251737Z",
     "iopub.status.idle": "2022-05-11T22:00:37.265195Z",
     "shell.execute_reply": "2022-05-11T22:00:37.264194Z",
     "shell.execute_reply.started": "2022-05-11T22:00:35.252245Z"
    },
    "tags": []
   },
   "outputs": [
    {
     "data": {
      "application/vnd.jupyter.widget-view+json": {
       "model_id": "1bfe543c45e349129670b485d18965cf",
       "version_major": 2,
       "version_minor": 0
      },
      "text/plain": [
       "VBox()"
      ]
     },
     "metadata": {},
     "output_type": "display_data"
    },
    {
     "data": {
      "application/vnd.jupyter.widget-view+json": {
       "model_id": "",
       "version_major": 2,
       "version_minor": 0
      },
      "text/plain": [
       "FloatProgress(value=0.0, bar_style='info', description='Progress:', layout=Layout(height='25px', width='50%'),…"
      ]
     },
     "metadata": {},
     "output_type": "display_data"
    }
   ],
   "source": [
    "movies = spark.read.csv(\"s3a://sparkdemonstration-mlc/movies.csv\", inferSchema=True, header=True)"
   ]
  },
  {
   "cell_type": "code",
   "execution_count": 11,
   "metadata": {
    "execution": {
     "iopub.execute_input": "2022-05-11T22:00:37.266728Z",
     "iopub.status.busy": "2022-05-11T22:00:37.266466Z",
     "iopub.status.idle": "2022-05-11T22:00:38.561141Z",
     "shell.execute_reply": "2022-05-11T22:00:38.560142Z",
     "shell.execute_reply.started": "2022-05-11T22:00:37.266688Z"
    },
    "tags": []
   },
   "outputs": [
    {
     "data": {
      "application/vnd.jupyter.widget-view+json": {
       "model_id": "36c736a03efb4ab99807ce3990dfa217",
       "version_major": 2,
       "version_minor": 0
      },
      "text/plain": [
       "VBox()"
      ]
     },
     "metadata": {},
     "output_type": "display_data"
    },
    {
     "data": {
      "application/vnd.jupyter.widget-view+json": {
       "model_id": "",
       "version_major": 2,
       "version_minor": 0
      },
      "text/plain": [
       "FloatProgress(value=0.0, bar_style='info', description='Progress:', layout=Layout(height='25px', width='50%'),…"
      ]
     },
     "metadata": {},
     "output_type": "display_data"
    },
    {
     "name": "stdout",
     "output_type": "stream",
     "text": [
      "+-------+--------------------+--------------------+\n",
      "|movieId|               title|              genres|\n",
      "+-------+--------------------+--------------------+\n",
      "|      1|    Toy Story (1995)|Adventure|Animati...|\n",
      "|      2|      Jumanji (1995)|Adventure|Childre...|\n",
      "|      3|Grumpier Old Men ...|      Comedy|Romance|\n",
      "|      4|Waiting to Exhale...|Comedy|Drama|Romance|\n",
      "|      5|Father of the Bri...|              Comedy|\n",
      "|      6|         Heat (1995)|Action|Crime|Thri...|\n",
      "|      7|      Sabrina (1995)|      Comedy|Romance|\n",
      "|      8| Tom and Huck (1995)|  Adventure|Children|\n",
      "|      9| Sudden Death (1995)|              Action|\n",
      "|     10|    GoldenEye (1995)|Action|Adventure|...|\n",
      "|     11|American Presiden...|Comedy|Drama|Romance|\n",
      "|     12|Dracula: Dead and...|       Comedy|Horror|\n",
      "|     13|        Balto (1995)|Adventure|Animati...|\n",
      "|     14|        Nixon (1995)|               Drama|\n",
      "|     15|Cutthroat Island ...|Action|Adventure|...|\n",
      "|     16|       Casino (1995)|         Crime|Drama|\n",
      "|     17|Sense and Sensibi...|       Drama|Romance|\n",
      "|     18|   Four Rooms (1995)|              Comedy|\n",
      "|     19|Ace Ventura: When...|              Comedy|\n",
      "|     20|  Money Train (1995)|Action|Comedy|Cri...|\n",
      "+-------+--------------------+--------------------+\n",
      "only showing top 20 rows"
     ]
    }
   ],
   "source": [
    "movies.show()"
   ]
  },
  {
   "cell_type": "markdown",
   "metadata": {},
   "source": [
    "### Split the Rating data to Train & Test set"
   ]
  },
  {
   "cell_type": "code",
   "execution_count": 12,
   "metadata": {
    "execution": {
     "iopub.execute_input": "2022-05-11T22:00:38.566410Z",
     "iopub.status.busy": "2022-05-11T22:00:38.562610Z",
     "iopub.status.idle": "2022-05-11T22:00:39.958505Z",
     "shell.execute_reply": "2022-05-11T22:00:39.868219Z",
     "shell.execute_reply.started": "2022-05-11T22:00:38.566366Z"
    },
    "tags": []
   },
   "outputs": [
    {
     "data": {
      "application/vnd.jupyter.widget-view+json": {
       "model_id": "643a93b1b70544789776a9ca928e808a",
       "version_major": 2,
       "version_minor": 0
      },
      "text/plain": [
       "VBox()"
      ]
     },
     "metadata": {},
     "output_type": "display_data"
    },
    {
     "data": {
      "application/vnd.jupyter.widget-view+json": {
       "model_id": "",
       "version_major": 2,
       "version_minor": 0
      },
      "text/plain": [
       "FloatProgress(value=0.0, bar_style='info', description='Progress:', layout=Layout(height='25px', width='50%'),…"
      ]
     },
     "metadata": {},
     "output_type": "display_data"
    }
   ],
   "source": [
    "(train, test) = ratings.randomSplit([0.6, 0.4], seed=99)"
   ]
  },
  {
   "cell_type": "code",
   "execution_count": 13,
   "metadata": {
    "execution": {
     "iopub.execute_input": "2022-05-11T22:00:39.959995Z",
     "iopub.status.busy": "2022-05-11T22:00:39.959727Z",
     "iopub.status.idle": "2022-05-11T22:01:14.716920Z",
     "shell.execute_reply": "2022-05-11T22:01:14.714630Z",
     "shell.execute_reply.started": "2022-05-11T22:00:39.959956Z"
    },
    "tags": []
   },
   "outputs": [
    {
     "data": {
      "application/vnd.jupyter.widget-view+json": {
       "model_id": "b24adf9628ee4854b56a1040685878f2",
       "version_major": 2,
       "version_minor": 0
      },
      "text/plain": [
       "VBox()"
      ]
     },
     "metadata": {},
     "output_type": "display_data"
    },
    {
     "data": {
      "application/vnd.jupyter.widget-view+json": {
       "model_id": "",
       "version_major": 2,
       "version_minor": 0
      },
      "text/plain": [
       "FloatProgress(value=0.0, bar_style='info', description='Progress:', layout=Layout(height='25px', width='50%'),…"
      ]
     },
     "metadata": {},
     "output_type": "display_data"
    },
    {
     "name": "stdout",
     "output_type": "stream",
     "text": [
      "(14999312, 10000783, 25000095)"
     ]
    }
   ],
   "source": [
    "train.count(), test.count(), ratings.count()"
   ]
  },
  {
   "cell_type": "markdown",
   "metadata": {},
   "source": [
    "## ALS Model"
   ]
  },
  {
   "cell_type": "markdown",
   "metadata": {},
   "source": [
    "Note we set cold start strategy to 'drop' to ensure we don't get NaN evaluation metrics"
   ]
  },
  {
   "cell_type": "code",
   "execution_count": 14,
   "metadata": {
    "execution": {
     "iopub.execute_input": "2022-05-11T22:01:14.720992Z",
     "iopub.status.busy": "2022-05-11T22:01:14.719125Z",
     "iopub.status.idle": "2022-05-11T22:01:15.204207Z",
     "shell.execute_reply": "2022-05-11T22:01:15.203377Z",
     "shell.execute_reply.started": "2022-05-11T22:01:14.720942Z"
    },
    "tags": []
   },
   "outputs": [
    {
     "data": {
      "application/vnd.jupyter.widget-view+json": {
       "model_id": "9bfc6e0d6a0e436a99eb751a132e964d",
       "version_major": 2,
       "version_minor": 0
      },
      "text/plain": [
       "VBox()"
      ]
     },
     "metadata": {},
     "output_type": "display_data"
    },
    {
     "data": {
      "application/vnd.jupyter.widget-view+json": {
       "model_id": "",
       "version_major": 2,
       "version_minor": 0
      },
      "text/plain": [
       "FloatProgress(value=0.0, bar_style='info', description='Progress:', layout=Layout(height='25px', width='50%'),…"
      ]
     },
     "metadata": {},
     "output_type": "display_data"
    }
   ],
   "source": [
    "als = ALS(userCol=\"userId\", \n",
    "          itemCol=\"movieId\", \n",
    "          ratingCol=\"rating\",\n",
    "          maxIter=5, \n",
    "          regParam=0.05, \n",
    "          coldStartStrategy=\"drop\")\n"
   ]
  },
  {
   "cell_type": "markdown",
   "metadata": {},
   "source": [
    "Model Training"
   ]
  },
  {
   "cell_type": "code",
   "execution_count": 15,
   "metadata": {
    "execution": {
     "iopub.execute_input": "2022-05-11T22:01:15.205917Z",
     "iopub.status.busy": "2022-05-11T22:01:15.205650Z",
     "iopub.status.idle": "2022-05-11T22:02:18.759568Z",
     "shell.execute_reply": "2022-05-11T22:02:18.758486Z",
     "shell.execute_reply.started": "2022-05-11T22:01:15.205877Z"
    },
    "tags": []
   },
   "outputs": [
    {
     "data": {
      "application/vnd.jupyter.widget-view+json": {
       "model_id": "f0ba7e432b614d90990c4daecd8d039b",
       "version_major": 2,
       "version_minor": 0
      },
      "text/plain": [
       "VBox()"
      ]
     },
     "metadata": {},
     "output_type": "display_data"
    },
    {
     "data": {
      "application/vnd.jupyter.widget-view+json": {
       "model_id": "",
       "version_major": 2,
       "version_minor": 0
      },
      "text/plain": [
       "FloatProgress(value=0.0, bar_style='info', description='Progress:', layout=Layout(height='25px', width='50%'),…"
      ]
     },
     "metadata": {},
     "output_type": "display_data"
    }
   ],
   "source": [
    "model = als.fit(train)"
   ]
  },
  {
   "cell_type": "markdown",
   "metadata": {},
   "source": [
    "Predictions"
   ]
  },
  {
   "cell_type": "code",
   "execution_count": 16,
   "metadata": {
    "execution": {
     "iopub.execute_input": "2022-05-11T22:02:18.761905Z",
     "iopub.status.busy": "2022-05-11T22:02:18.761236Z",
     "iopub.status.idle": "2022-05-11T22:02:19.656346Z",
     "shell.execute_reply": "2022-05-11T22:02:19.655228Z",
     "shell.execute_reply.started": "2022-05-11T22:02:18.761860Z"
    }
   },
   "outputs": [
    {
     "data": {
      "application/vnd.jupyter.widget-view+json": {
       "model_id": "b7c26487c15946b28b0456373e7f0bc8",
       "version_major": 2,
       "version_minor": 0
      },
      "text/plain": [
       "VBox()"
      ]
     },
     "metadata": {},
     "output_type": "display_data"
    },
    {
     "data": {
      "application/vnd.jupyter.widget-view+json": {
       "model_id": "",
       "version_major": 2,
       "version_minor": 0
      },
      "text/plain": [
       "FloatProgress(value=0.0, bar_style='info', description='Progress:', layout=Layout(height='25px', width='50%'),…"
      ]
     },
     "metadata": {},
     "output_type": "display_data"
    }
   ],
   "source": [
    "predictions = model.transform(test)"
   ]
  },
  {
   "cell_type": "code",
   "execution_count": 17,
   "metadata": {
    "execution": {
     "iopub.execute_input": "2022-05-11T22:02:19.660109Z",
     "iopub.status.busy": "2022-05-11T22:02:19.659624Z",
     "iopub.status.idle": "2022-05-11T22:02:45.318599Z",
     "shell.execute_reply": "2022-05-11T22:02:45.316252Z",
     "shell.execute_reply.started": "2022-05-11T22:02:19.660066Z"
    },
    "tags": []
   },
   "outputs": [
    {
     "data": {
      "application/vnd.jupyter.widget-view+json": {
       "model_id": "baacece1bc63478f8da6c8df853d2bd8",
       "version_major": 2,
       "version_minor": 0
      },
      "text/plain": [
       "VBox()"
      ]
     },
     "metadata": {},
     "output_type": "display_data"
    },
    {
     "data": {
      "application/vnd.jupyter.widget-view+json": {
       "model_id": "",
       "version_major": 2,
       "version_minor": 0
      },
      "text/plain": [
       "FloatProgress(value=0.0, bar_style='info', description='Progress:', layout=Layout(height='25px', width='50%'),…"
      ]
     },
     "metadata": {},
     "output_type": "display_data"
    },
    {
     "name": "stdout",
     "output_type": "stream",
     "text": [
      "+------+-------+------+----------+----------+\n",
      "|userId|movieId|rating| timestamp|prediction|\n",
      "+------+-------+------+----------+----------+\n",
      "| 33138|    148|   2.5|1120729036| 2.6114197|\n",
      "| 99010|    148|   3.0| 837652881| 2.7796779|\n",
      "|108767|    148|   3.0|1276969740| 2.3441315|\n",
      "| 35969|    148|   2.0| 835094487|  2.797555|\n",
      "| 54331|    148|   2.0| 954702916| 3.0325062|\n",
      "| 14831|    148|   3.0| 944148276| 2.6185567|\n",
      "|145182|    148|   3.0| 944952722|  2.665872|\n",
      "|131516|    148|   3.0|1005621137| 2.6093786|\n",
      "|131314|    148|   3.5|1151344374| 2.6968293|\n",
      "| 81091|    148|   1.0| 834724500|  2.649352|\n",
      "| 84667|    148|   5.0| 832207176| 3.1719656|\n",
      "|162516|    148|   2.0|1175649451| 2.1095157|\n",
      "| 75209|    148|   2.0|1361853682| 2.0964894|\n",
      "|135330|    148|   3.0| 837773116|  2.145408|\n",
      "| 73977|    148|   2.0| 965106877| 3.3122435|\n",
      "| 31191|    148|   3.0| 944274839| 2.9038308|\n",
      "|132855|    148|   5.0| 829576446| 3.7497082|\n",
      "|100706|    148|   3.0| 848777439| 2.6662803|\n",
      "|109156|    148|   2.0| 989289917|  2.422843|\n",
      "| 19478|    148|   2.0| 954478151| 2.7890973|\n",
      "+------+-------+------+----------+----------+\n",
      "only showing top 20 rows"
     ]
    }
   ],
   "source": [
    "predictions.show()"
   ]
  },
  {
   "cell_type": "markdown",
   "metadata": {},
   "source": [
    "## Calculate the RMSE error"
   ]
  },
  {
   "attachments": {
    "image.png": {
     "image/png": "[encoded data removed]"
    }
   },
   "cell_type": "markdown",
   "metadata": {},
   "source": [
    "![](attachment:image.png)"
   ]
  },
  {
   "cell_type": "markdown",
   "metadata": {},
   "source": [
    "Evaluate the model by computing the RMSE on the test data"
   ]
  },
  {
   "cell_type": "code",
   "execution_count": 18,
   "metadata": {
    "execution": {
     "iopub.execute_input": "2022-05-11T22:02:45.323843Z",
     "iopub.status.busy": "2022-05-11T22:02:45.321667Z",
     "iopub.status.idle": "2022-05-11T22:02:45.581682Z",
     "shell.execute_reply": "2022-05-11T22:02:45.579042Z",
     "shell.execute_reply.started": "2022-05-11T22:02:45.323785Z"
    }
   },
   "outputs": [
    {
     "data": {
      "application/vnd.jupyter.widget-view+json": {
       "model_id": "644e922d4760454eb534cdd51774c16a",
       "version_major": 2,
       "version_minor": 0
      },
      "text/plain": [
       "VBox()"
      ]
     },
     "metadata": {},
     "output_type": "display_data"
    },
    {
     "data": {
      "application/vnd.jupyter.widget-view+json": {
       "model_id": "",
       "version_major": 2,
       "version_minor": 0
      },
      "text/plain": [
       "FloatProgress(value=0.0, bar_style='info', description='Progress:', layout=Layout(height='25px', width='50%'),…"
      ]
     },
     "metadata": {},
     "output_type": "display_data"
    }
   ],
   "source": [
    "evaluator = RegressionEvaluator(metricName=\"rmse\", \n",
    "                                labelCol=\"rating\",\n",
    "                                predictionCol=\"prediction\")"
   ]
  },
  {
   "cell_type": "code",
   "execution_count": 19,
   "metadata": {
    "execution": {
     "iopub.execute_input": "2022-05-11T22:02:45.585883Z",
     "iopub.status.busy": "2022-05-11T22:02:45.585548Z",
     "iopub.status.idle": "2022-05-11T22:03:16.766907Z",
     "shell.execute_reply": "2022-05-11T22:03:16.763805Z",
     "shell.execute_reply.started": "2022-05-11T22:02:45.585839Z"
    }
   },
   "outputs": [
    {
     "data": {
      "application/vnd.jupyter.widget-view+json": {
       "model_id": "98264e9fc5f6432d9e85dbbf7c4c5472",
       "version_major": 2,
       "version_minor": 0
      },
      "text/plain": [
       "VBox()"
      ]
     },
     "metadata": {},
     "output_type": "display_data"
    },
    {
     "data": {
      "application/vnd.jupyter.widget-view+json": {
       "model_id": "",
       "version_major": 2,
       "version_minor": 0
      },
      "text/plain": [
       "FloatProgress(value=0.0, bar_style='info', description='Progress:', layout=Layout(height='25px', width='50%'),…"
      ]
     },
     "metadata": {},
     "output_type": "display_data"
    }
   ],
   "source": [
    "rmse = evaluator.evaluate(predictions)"
   ]
  },
  {
   "cell_type": "markdown",
   "metadata": {},
   "source": [
    "## How to Choose optimal maxIter value"
   ]
  },
  {
   "cell_type": "markdown",
   "metadata": {},
   "source": [
    "While training the model we've used maxIter value as 5<br>which means there will be 5 iterations of the complete model to get the least error.<br>\n",
    "Its possible that we can get most optimal model is less than 5 or more then 5 iterations.<br>\n",
    "You have seen in the video that the iteration **value = 3** is optimal value to train the model.\n",
    "\n",
    "\n",
    "We can not run the python commands here when we set the kernel as PySpark to plot the graph between number of iterations and RMSE values."
   ]
  },
  {
   "cell_type": "code",
   "execution_count": 20,
   "metadata": {
    "execution": {
     "iopub.execute_input": "2022-05-11T22:03:16.771132Z",
     "iopub.status.busy": "2022-05-11T22:03:16.770605Z",
     "iopub.status.idle": "2022-05-11T22:08:19.482053Z",
     "shell.execute_reply": "2022-05-11T22:08:19.480662Z",
     "shell.execute_reply.started": "2022-05-11T22:03:16.770982Z"
    },
    "tags": []
   },
   "outputs": [
    {
     "data": {
      "application/vnd.jupyter.widget-view+json": {
       "model_id": "9a125cdbb8f54b268fbd19e75c8f3717",
       "version_major": 2,
       "version_minor": 0
      },
      "text/plain": [
       "VBox()"
      ]
     },
     "metadata": {},
     "output_type": "display_data"
    },
    {
     "data": {
      "application/vnd.jupyter.widget-view+json": {
       "model_id": "",
       "version_major": 2,
       "version_minor": 0
      },
      "text/plain": [
       "FloatProgress(value=0.0, bar_style='info', description='Progress:', layout=Layout(height='25px', width='50%'),…"
      ]
     },
     "metadata": {},
     "output_type": "display_data"
    },
    {
     "name": "stdout",
     "output_type": "stream",
     "text": [
      "Iteration Value: 1\n",
      "RMSE Value: 3.3014994397522326\n",
      "Iteration Value: 3\n",
      "RMSE Value: 0.8367987713618484\n",
      "Iteration Value: 5\n",
      "RMSE Value: 0.8107087115602115\n",
      "Iteration Value: 7\n",
      "RMSE Value: 0.8032392870709957"
     ]
    }
   ],
   "source": [
    "iter_array = [1, 3, 5, 7]\n",
    "\n",
    "rmse_list = []\n",
    "for iter_val in iter_array:\n",
    "    print(f\"Iteration Value: {iter_val}\")\n",
    "    als = ALS(userCol=\"userId\", \n",
    "          itemCol=\"movieId\", \n",
    "          ratingCol=\"rating\",\n",
    "          maxIter=iter_val, \n",
    "          regParam=0.05, \n",
    "          coldStartStrategy=\"drop\")\n",
    "    model = als.fit(train)\n",
    "    predictions = model.transform(test)\n",
    "    evaluator = RegressionEvaluator(metricName=\"rmse\", \n",
    "                                labelCol=\"rating\",\n",
    "                                predictionCol=\"prediction\")\n",
    "    rmse = evaluator.evaluate(predictions)\n",
    "    print(f\"RMSE Value: {rmse}\")\n",
    "    rmse_list.append(rmse)"
   ]
  },
  {
   "cell_type": "markdown",
   "metadata": {},
   "source": [
    "## Now train Model with most optimal maxIter value"
   ]
  },
  {
   "cell_type": "code",
   "execution_count": 21,
   "metadata": {
    "execution": {
     "iopub.execute_input": "2022-05-11T22:08:19.488256Z",
     "iopub.status.busy": "2022-05-11T22:08:19.485308Z",
     "iopub.status.idle": "2022-05-11T22:09:29.752352Z",
     "shell.execute_reply": "2022-05-11T22:09:29.751583Z",
     "shell.execute_reply.started": "2022-05-11T22:08:19.488206Z"
    }
   },
   "outputs": [
    {
     "data": {
      "application/vnd.jupyter.widget-view+json": {
       "model_id": "53c21fc67e2742fbae4f7c87509bc6be",
       "version_major": 2,
       "version_minor": 0
      },
      "text/plain": [
       "VBox()"
      ]
     },
     "metadata": {},
     "output_type": "display_data"
    },
    {
     "data": {
      "application/vnd.jupyter.widget-view+json": {
       "model_id": "",
       "version_major": 2,
       "version_minor": 0
      },
      "text/plain": [
       "FloatProgress(value=0.0, bar_style='info', description='Progress:', layout=Layout(height='25px', width='50%'),…"
      ]
     },
     "metadata": {},
     "output_type": "display_data"
    }
   ],
   "source": [
    "als = ALS(userCol=\"userId\", \n",
    "          itemCol=\"movieId\", \n",
    "          ratingCol=\"rating\",\n",
    "          maxIter=3, \n",
    "          regParam=0.05, \n",
    "          coldStartStrategy=\"drop\")\n",
    "model = als.fit(train)\n",
    "predictions = model.transform(test)\n",
    "evaluator = RegressionEvaluator(metricName=\"rmse\", \n",
    "                            labelCol=\"rating\",\n",
    "                            predictionCol=\"prediction\")\n",
    "rmse = evaluator.evaluate(predictions)"
   ]
  },
  {
   "cell_type": "code",
   "execution_count": 22,
   "metadata": {
    "execution": {
     "iopub.execute_input": "2022-05-11T22:09:29.753966Z",
     "iopub.status.busy": "2022-05-11T22:09:29.753477Z",
     "iopub.status.idle": "2022-05-11T22:09:30.049197Z",
     "shell.execute_reply": "2022-05-11T22:09:30.048054Z",
     "shell.execute_reply.started": "2022-05-11T22:09:29.753921Z"
    }
   },
   "outputs": [
    {
     "data": {
      "application/vnd.jupyter.widget-view+json": {
       "model_id": "d53d33ecce844adab8e069286ef7c6e8",
       "version_major": 2,
       "version_minor": 0
      },
      "text/plain": [
       "VBox()"
      ]
     },
     "metadata": {},
     "output_type": "display_data"
    },
    {
     "data": {
      "application/vnd.jupyter.widget-view+json": {
       "model_id": "",
       "version_major": 2,
       "version_minor": 0
      },
      "text/plain": [
       "FloatProgress(value=0.0, bar_style='info', description='Progress:', layout=Layout(height='25px', width='50%'),…"
      ]
     },
     "metadata": {},
     "output_type": "display_data"
    },
    {
     "name": "stdout",
     "output_type": "stream",
     "text": [
      "0.8367987713618484"
     ]
    }
   ],
   "source": [
    "rmse"
   ]
  },
  {
   "cell_type": "markdown",
   "metadata": {},
   "source": [
    "## Generate top 10 User Recommendation for a Movie"
   ]
  },
  {
   "cell_type": "code",
   "execution_count": 23,
   "metadata": {
    "execution": {
     "iopub.execute_input": "2022-05-11T22:09:30.051683Z",
     "iopub.status.busy": "2022-05-11T22:09:30.050905Z",
     "iopub.status.idle": "2022-05-11T22:09:31.126146Z",
     "shell.execute_reply": "2022-05-11T22:09:31.124356Z",
     "shell.execute_reply.started": "2022-05-11T22:09:30.051636Z"
    }
   },
   "outputs": [
    {
     "data": {
      "application/vnd.jupyter.widget-view+json": {
       "model_id": "32fa78180b1c416ab856ac77fc81a139",
       "version_major": 2,
       "version_minor": 0
      },
      "text/plain": [
       "VBox()"
      ]
     },
     "metadata": {},
     "output_type": "display_data"
    },
    {
     "data": {
      "application/vnd.jupyter.widget-view+json": {
       "model_id": "",
       "version_major": 2,
       "version_minor": 0
      },
      "text/plain": [
       "FloatProgress(value=0.0, bar_style='info', description='Progress:', layout=Layout(height='25px', width='50%'),…"
      ]
     },
     "metadata": {},
     "output_type": "display_data"
    }
   ],
   "source": [
    "moviesRecs = model.recommendForAllItems(10)"
   ]
  },
  {
   "cell_type": "code",
   "execution_count": 24,
   "metadata": {
    "execution": {
     "iopub.execute_input": "2022-05-11T22:09:31.127731Z",
     "iopub.status.busy": "2022-05-11T22:09:31.127372Z",
     "iopub.status.idle": "2022-05-11T22:11:51.367598Z",
     "shell.execute_reply": "2022-05-11T22:11:51.362156Z",
     "shell.execute_reply.started": "2022-05-11T22:09:31.127691Z"
    },
    "tags": []
   },
   "outputs": [
    {
     "data": {
      "application/vnd.jupyter.widget-view+json": {
       "model_id": "f8c53b8a251047979a8017c5787903cc",
       "version_major": 2,
       "version_minor": 0
      },
      "text/plain": [
       "VBox()"
      ]
     },
     "metadata": {},
     "output_type": "display_data"
    },
    {
     "data": {
      "application/vnd.jupyter.widget-view+json": {
       "model_id": "",
       "version_major": 2,
       "version_minor": 0
      },
      "text/plain": [
       "FloatProgress(value=0.0, bar_style='info', description='Progress:', layout=Layout(height='25px', width='50%'),…"
      ]
     },
     "metadata": {},
     "output_type": "display_data"
    },
    {
     "name": "stdout",
     "output_type": "stream",
     "text": [
      "+-------+--------------------+\n",
      "|movieId|     recommendations|\n",
      "+-------+--------------------+\n",
      "|    148|[[16331, 4.808739...|\n",
      "|    463|[[12810, 5.256575...|\n",
      "|    471|[[48436, 5.349968...|\n",
      "|    496|[[68990, 6.095554...|\n",
      "|    833|[[26659, 5.186154...|\n",
      "|   1088|[[42807, 5.939224...|\n",
      "|   1238|[[140441, 5.42793...|\n",
      "|   1342|[[140901, 5.77865...|\n",
      "|   1580|[[127639, 5.64917...|\n",
      "|   1591|[[94871, 5.330189...|\n",
      "|   1645|[[58129, 5.631418...|\n",
      "|   1829|[[109853, 5.61671...|\n",
      "|   1959|[[96262, 5.549501...|\n",
      "|   2122|[[160195, 6.06824...|\n",
      "|   2142|[[82361, 5.277450...|\n",
      "|   2366|[[6160, 6.0239935...|\n",
      "|   2659|[[26659, 5.527042...|\n",
      "|   2866|[[74833, 5.348984...|\n",
      "|   3175|[[74833, 5.451265...|\n",
      "|   3749|[[89889, 6.719330...|\n",
      "+-------+--------------------+\n",
      "only showing top 20 rows"
     ]
    }
   ],
   "source": [
    "moviesRecs.show()"
   ]
  },
  {
   "cell_type": "markdown",
   "metadata": {},
   "source": [
    "Join with the Movies data"
   ]
  },
  {
   "cell_type": "code",
   "execution_count": 25,
   "metadata": {
    "execution": {
     "iopub.execute_input": "2022-05-11T22:11:51.384296Z",
     "iopub.status.busy": "2022-05-11T22:11:51.383239Z",
     "iopub.status.idle": "2022-05-11T22:11:51.671799Z",
     "shell.execute_reply": "2022-05-11T22:11:51.671085Z",
     "shell.execute_reply.started": "2022-05-11T22:11:51.384244Z"
    }
   },
   "outputs": [
    {
     "data": {
      "application/vnd.jupyter.widget-view+json": {
       "model_id": "86b049f93891422e8a0c31bcd253b8af",
       "version_major": 2,
       "version_minor": 0
      },
      "text/plain": [
       "VBox()"
      ]
     },
     "metadata": {},
     "output_type": "display_data"
    },
    {
     "data": {
      "application/vnd.jupyter.widget-view+json": {
       "model_id": "",
       "version_major": 2,
       "version_minor": 0
      },
      "text/plain": [
       "FloatProgress(value=0.0, bar_style='info', description='Progress:', layout=Layout(height='25px', width='50%'),…"
      ]
     },
     "metadata": {},
     "output_type": "display_data"
    }
   ],
   "source": [
    "movies_joined = moviesRecs.join(movies, on=[\"movieId\"], how=\"left\")"
   ]
  },
  {
   "cell_type": "code",
   "execution_count": 26,
   "metadata": {
    "execution": {
     "iopub.execute_input": "2022-05-11T22:11:51.674821Z",
     "iopub.status.busy": "2022-05-11T22:11:51.674487Z",
     "iopub.status.idle": "2022-05-11T22:14:09.869805Z",
     "shell.execute_reply": "2022-05-11T22:14:09.868976Z",
     "shell.execute_reply.started": "2022-05-11T22:11:51.674781Z"
    }
   },
   "outputs": [
    {
     "data": {
      "application/vnd.jupyter.widget-view+json": {
       "model_id": "0dd283157df146fda0e9c928cdba2fb7",
       "version_major": 2,
       "version_minor": 0
      },
      "text/plain": [
       "VBox()"
      ]
     },
     "metadata": {},
     "output_type": "display_data"
    },
    {
     "data": {
      "application/vnd.jupyter.widget-view+json": {
       "model_id": "",
       "version_major": 2,
       "version_minor": 0
      },
      "text/plain": [
       "FloatProgress(value=0.0, bar_style='info', description='Progress:', layout=Layout(height='25px', width='50%'),…"
      ]
     },
     "metadata": {},
     "output_type": "display_data"
    },
    {
     "name": "stdout",
     "output_type": "stream",
     "text": [
      "+-------+--------------------+--------------------+--------------------+\n",
      "|movieId|     recommendations|               title|              genres|\n",
      "+-------+--------------------+--------------------+--------------------+\n",
      "|    148|[[16331, 4.808739...|Awfully Big Adven...|               Drama|\n",
      "|    463|[[12810, 5.256575...|Guilty as Sin (1993)|Crime|Drama|Thriller|\n",
      "|    471|[[48436, 5.349968...|Hudsucker Proxy, ...|              Comedy|\n",
      "|    496|[[68990, 6.095554...|What Happened Was...|Comedy|Drama|Roma...|\n",
      "|    833|[[26659, 5.186154...|High School High ...|              Comedy|\n",
      "|   1088|[[42807, 5.939224...|Dirty Dancing (1987)|Drama|Musical|Rom...|\n",
      "|   1238|[[140441, 5.42793...|   Local Hero (1983)|              Comedy|\n",
      "|   1342|[[140901, 5.77865...|     Candyman (1992)|     Horror|Thriller|\n",
      "|   1580|[[127639, 5.64917...|Men in Black (a.k...|Action|Comedy|Sci-Fi|\n",
      "|   1591|[[94871, 5.330189...|        Spawn (1997)|Action|Adventure|...|\n",
      "|   1645|[[58129, 5.631418...|The Devil's Advoc...|Drama|Mystery|Thr...|\n",
      "|   1829|[[109853, 5.61671...|  Chinese Box (1997)|       Drama|Romance|\n",
      "|   1959|[[96262, 5.549501...|Out of Africa (1985)|       Drama|Romance|\n",
      "|   2122|[[160195, 6.06824...|Children of the C...|     Horror|Thriller|\n",
      "|   2142|[[82361, 5.277450...|American Tail: Fi...|Adventure|Animati...|\n",
      "|   2366|[[6160, 6.0239935...|    King Kong (1933)|Action|Adventure|...|\n",
      "|   2659|[[26659, 5.527042...|It Came from Holl...|  Comedy|Documentary|\n",
      "|   2866|[[74833, 5.348984...|Buddy Holly Story...|               Drama|\n",
      "|   3175|[[74833, 5.451265...| Galaxy Quest (1999)|Adventure|Comedy|...|\n",
      "|   3749|[[89889, 6.719330...|Time Regained (Te...|               Drama|\n",
      "+-------+--------------------+--------------------+--------------------+\n",
      "only showing top 20 rows"
     ]
    }
   ],
   "source": [
    "movies_joined.show()"
   ]
  },
  {
   "cell_type": "code",
   "execution_count": 27,
   "metadata": {
    "execution": {
     "iopub.execute_input": "2022-05-11T22:14:09.871585Z",
     "iopub.status.busy": "2022-05-11T22:14:09.871217Z",
     "iopub.status.idle": "2022-05-11T22:16:30.254434Z",
     "shell.execute_reply": "2022-05-11T22:16:30.253692Z",
     "shell.execute_reply.started": "2022-05-11T22:14:09.871543Z"
    }
   },
   "outputs": [
    {
     "data": {
      "application/vnd.jupyter.widget-view+json": {
       "model_id": "d730e5cd4a7d41debe6129765e8bc813",
       "version_major": 2,
       "version_minor": 0
      },
      "text/plain": [
       "VBox()"
      ]
     },
     "metadata": {},
     "output_type": "display_data"
    },
    {
     "data": {
      "application/vnd.jupyter.widget-view+json": {
       "model_id": "",
       "version_major": 2,
       "version_minor": 0
      },
      "text/plain": [
       "FloatProgress(value=0.0, bar_style='info', description='Progress:', layout=Layout(height='25px', width='50%'),…"
      ]
     },
     "metadata": {},
     "output_type": "display_data"
    },
    {
     "name": "stdout",
     "output_type": "stream",
     "text": [
      "[Row(movieId=148, recommendations=[Row(userId=16331, rating=4.80873966217041), Row(userId=1571, rating=4.517165184020996), Row(userId=50936, rating=4.466872692108154), Row(userId=147970, rating=4.465632438659668), Row(userId=85184, rating=4.452655792236328), Row(userId=72047, rating=4.44678258895874), Row(userId=72715, rating=4.3974690437316895), Row(userId=142300, rating=4.388278484344482), Row(userId=112655, rating=4.343882083892822), Row(userId=90581, rating=4.332155704498291)], title='Awfully Big Adventure, An (1995)', genres='Drama')]"
     ]
    }
   ],
   "source": [
    "movies_joined.head(1)"
   ]
  },
  {
   "cell_type": "code",
   "execution_count": 28,
   "metadata": {
    "execution": {
     "iopub.execute_input": "2022-05-11T22:16:30.256094Z",
     "iopub.status.busy": "2022-05-11T22:16:30.255696Z",
     "iopub.status.idle": "2022-05-11T22:18:48.774897Z",
     "shell.execute_reply": "2022-05-11T22:18:48.773982Z",
     "shell.execute_reply.started": "2022-05-11T22:16:30.256053Z"
    }
   },
   "outputs": [
    {
     "data": {
      "application/vnd.jupyter.widget-view+json": {
       "model_id": "c1918a210279485d90f46503bc6c1647",
       "version_major": 2,
       "version_minor": 0
      },
      "text/plain": [
       "VBox()"
      ]
     },
     "metadata": {},
     "output_type": "display_data"
    },
    {
     "data": {
      "application/vnd.jupyter.widget-view+json": {
       "model_id": "",
       "version_major": 2,
       "version_minor": 0
      },
      "text/plain": [
       "FloatProgress(value=0.0, bar_style='info', description='Progress:', layout=Layout(height='25px', width='50%'),…"
      ]
     },
     "metadata": {},
     "output_type": "display_data"
    }
   ],
   "source": [
    "x = movies_joined.head(1)[0]"
   ]
  },
  {
   "cell_type": "code",
   "execution_count": 29,
   "metadata": {
    "execution": {
     "iopub.execute_input": "2022-05-11T22:18:48.776479Z",
     "iopub.status.busy": "2022-05-11T22:18:48.776160Z",
     "iopub.status.idle": "2022-05-11T22:18:49.059652Z",
     "shell.execute_reply": "2022-05-11T22:18:49.058547Z",
     "shell.execute_reply.started": "2022-05-11T22:18:48.776439Z"
    }
   },
   "outputs": [
    {
     "data": {
      "application/vnd.jupyter.widget-view+json": {
       "model_id": "2b8bbe42fbd647939a564a8859d34fc3",
       "version_major": 2,
       "version_minor": 0
      },
      "text/plain": [
       "VBox()"
      ]
     },
     "metadata": {},
     "output_type": "display_data"
    },
    {
     "data": {
      "application/vnd.jupyter.widget-view+json": {
       "model_id": "",
       "version_major": 2,
       "version_minor": 0
      },
      "text/plain": [
       "FloatProgress(value=0.0, bar_style='info', description='Progress:', layout=Layout(height='25px', width='50%'),…"
      ]
     },
     "metadata": {},
     "output_type": "display_data"
    },
    {
     "name": "stdout",
     "output_type": "stream",
     "text": [
      "'Awfully Big Adventure, An (1995)'"
     ]
    }
   ],
   "source": [
    "x[\"title\"]"
   ]
  },
  {
   "cell_type": "code",
   "execution_count": 30,
   "metadata": {
    "execution": {
     "iopub.execute_input": "2022-05-11T22:18:49.061946Z",
     "iopub.status.busy": "2022-05-11T22:18:49.061595Z",
     "iopub.status.idle": "2022-05-11T22:18:49.377519Z",
     "shell.execute_reply": "2022-05-11T22:18:49.376454Z",
     "shell.execute_reply.started": "2022-05-11T22:18:49.061908Z"
    }
   },
   "outputs": [
    {
     "data": {
      "application/vnd.jupyter.widget-view+json": {
       "model_id": "f51a6add9c7d4c43b1ffb828c859e24d",
       "version_major": 2,
       "version_minor": 0
      },
      "text/plain": [
       "VBox()"
      ]
     },
     "metadata": {},
     "output_type": "display_data"
    },
    {
     "data": {
      "application/vnd.jupyter.widget-view+json": {
       "model_id": "",
       "version_major": 2,
       "version_minor": 0
      },
      "text/plain": [
       "FloatProgress(value=0.0, bar_style='info', description='Progress:', layout=Layout(height='25px', width='50%'),…"
      ]
     },
     "metadata": {},
     "output_type": "display_data"
    },
    {
     "name": "stdout",
     "output_type": "stream",
     "text": [
      "[Row(userId=16331, rating=4.80873966217041), Row(userId=1571, rating=4.517165184020996), Row(userId=50936, rating=4.466872692108154), Row(userId=147970, rating=4.465632438659668), Row(userId=85184, rating=4.452655792236328), Row(userId=72047, rating=4.44678258895874), Row(userId=72715, rating=4.3974690437316895), Row(userId=142300, rating=4.388278484344482), Row(userId=112655, rating=4.343882083892822), Row(userId=90581, rating=4.332155704498291)]"
     ]
    }
   ],
   "source": [
    "x[\"recommendations\"]"
   ]
  },
  {
   "cell_type": "markdown",
   "metadata": {},
   "source": [
    "## Generate top 10 Recommended Movies for all the Users"
   ]
  },
  {
   "cell_type": "code",
   "execution_count": 31,
   "metadata": {
    "execution": {
     "iopub.execute_input": "2022-05-11T22:18:49.379589Z",
     "iopub.status.busy": "2022-05-11T22:18:49.378980Z",
     "iopub.status.idle": "2022-05-11T22:18:50.426655Z",
     "shell.execute_reply": "2022-05-11T22:18:50.425865Z",
     "shell.execute_reply.started": "2022-05-11T22:18:49.379545Z"
    }
   },
   "outputs": [
    {
     "data": {
      "application/vnd.jupyter.widget-view+json": {
       "model_id": "29d70ec9f282456c99702604951e9d3c",
       "version_major": 2,
       "version_minor": 0
      },
      "text/plain": [
       "VBox()"
      ]
     },
     "metadata": {},
     "output_type": "display_data"
    },
    {
     "data": {
      "application/vnd.jupyter.widget-view+json": {
       "model_id": "",
       "version_major": 2,
       "version_minor": 0
      },
      "text/plain": [
       "FloatProgress(value=0.0, bar_style='info', description='Progress:', layout=Layout(height='25px', width='50%'),…"
      ]
     },
     "metadata": {},
     "output_type": "display_data"
    }
   ],
   "source": [
    "usersRecs = model.recommendForAllUsers(10)"
   ]
  },
  {
   "cell_type": "code",
   "execution_count": 32,
   "metadata": {
    "execution": {
     "iopub.execute_input": "2022-05-11T22:18:50.428238Z",
     "iopub.status.busy": "2022-05-11T22:18:50.427961Z",
     "iopub.status.idle": "2022-05-11T22:21:24.709524Z",
     "shell.execute_reply": "2022-05-11T22:21:24.708225Z",
     "shell.execute_reply.started": "2022-05-11T22:18:50.428199Z"
    }
   },
   "outputs": [
    {
     "data": {
      "application/vnd.jupyter.widget-view+json": {
       "model_id": "550e9ec36e2b41d284aeb0aefa52eaa8",
       "version_major": 2,
       "version_minor": 0
      },
      "text/plain": [
       "VBox()"
      ]
     },
     "metadata": {},
     "output_type": "display_data"
    },
    {
     "data": {
      "application/vnd.jupyter.widget-view+json": {
       "model_id": "",
       "version_major": 2,
       "version_minor": 0
      },
      "text/plain": [
       "FloatProgress(value=0.0, bar_style='info', description='Progress:', layout=Layout(height='25px', width='50%'),…"
      ]
     },
     "metadata": {},
     "output_type": "display_data"
    },
    {
     "name": "stdout",
     "output_type": "stream",
     "text": [
      "+------+--------------------+\n",
      "|userId|     recommendations|\n",
      "+------+--------------------+\n",
      "|   148|[[159467, 10.6479...|\n",
      "|   463|[[205277, 13.4956...|\n",
      "|   471|[[205277, 11.3074...|\n",
      "|   496|[[159467, 12.8226...|\n",
      "|   833|[[205277, 9.64589...|\n",
      "|  1088|[[192689, 11.1298...|\n",
      "|  1238|[[205277, 11.7465...|\n",
      "|  1342|[[159467, 10.1648...|\n",
      "|  1580|[[205277, 11.4177...|\n",
      "|  1591|[[205277, 14.1689...|\n",
      "|  1645|[[205277, 10.8279...|\n",
      "|  1829|[[205277, 10.5778...|\n",
      "|  1959|[[205277, 12.3867...|\n",
      "|  2122|[[126941, 9.52316...|\n",
      "|  2142|[[205277, 11.1010...|\n",
      "|  2366|[[159467, 10.8546...|\n",
      "|  2659|[[151410, 11.4526...|\n",
      "|  2866|[[202231, 10.9842...|\n",
      "|  3175|[[205277, 10.8023...|\n",
      "|  3749|[[187999, 9.77896...|\n",
      "+------+--------------------+\n",
      "only showing top 20 rows"
     ]
    }
   ],
   "source": [
    "usersRecs.show()"
   ]
  },
  {
   "cell_type": "code",
   "execution_count": 33,
   "metadata": {
    "execution": {
     "iopub.execute_input": "2022-05-11T22:21:24.711799Z",
     "iopub.status.busy": "2022-05-11T22:21:24.711518Z",
     "iopub.status.idle": "2022-05-11T22:23:55.176095Z",
     "shell.execute_reply": "2022-05-11T22:23:55.151657Z",
     "shell.execute_reply.started": "2022-05-11T22:21:24.711758Z"
    }
   },
   "outputs": [
    {
     "data": {
      "application/vnd.jupyter.widget-view+json": {
       "model_id": "d01de4da998745e89d3060f0a95c3d41",
       "version_major": 2,
       "version_minor": 0
      },
      "text/plain": [
       "VBox()"
      ]
     },
     "metadata": {},
     "output_type": "display_data"
    },
    {
     "data": {
      "application/vnd.jupyter.widget-view+json": {
       "model_id": "",
       "version_major": 2,
       "version_minor": 0
      },
      "text/plain": [
       "FloatProgress(value=0.0, bar_style='info', description='Progress:', layout=Layout(height='25px', width='50%'),…"
      ]
     },
     "metadata": {},
     "output_type": "display_data"
    }
   ],
   "source": [
    "y = usersRecs.head(1)[0]"
   ]
  },
  {
   "cell_type": "code",
   "execution_count": 34,
   "metadata": {
    "execution": {
     "iopub.execute_input": "2022-05-11T22:23:55.184730Z",
     "iopub.status.busy": "2022-05-11T22:23:55.184151Z",
     "iopub.status.idle": "2022-05-11T22:23:55.649991Z",
     "shell.execute_reply": "2022-05-11T22:23:55.648910Z",
     "shell.execute_reply.started": "2022-05-11T22:23:55.184693Z"
    }
   },
   "outputs": [
    {
     "data": {
      "application/vnd.jupyter.widget-view+json": {
       "model_id": "cb15cbaefa8147ee87a5f09647eff1f1",
       "version_major": 2,
       "version_minor": 0
      },
      "text/plain": [
       "VBox()"
      ]
     },
     "metadata": {},
     "output_type": "display_data"
    },
    {
     "data": {
      "application/vnd.jupyter.widget-view+json": {
       "model_id": "",
       "version_major": 2,
       "version_minor": 0
      },
      "text/plain": [
       "FloatProgress(value=0.0, bar_style='info', description='Progress:', layout=Layout(height='25px', width='50%'),…"
      ]
     },
     "metadata": {},
     "output_type": "display_data"
    },
    {
     "name": "stdout",
     "output_type": "stream",
     "text": [
      "148"
     ]
    }
   ],
   "source": [
    "y[\"userId\"]"
   ]
  },
  {
   "cell_type": "code",
   "execution_count": 35,
   "metadata": {
    "execution": {
     "iopub.execute_input": "2022-05-11T22:23:55.660766Z",
     "iopub.status.busy": "2022-05-11T22:23:55.655197Z",
     "iopub.status.idle": "2022-05-11T22:23:56.167963Z",
     "shell.execute_reply": "2022-05-11T22:23:56.167164Z",
     "shell.execute_reply.started": "2022-05-11T22:23:55.660717Z"
    }
   },
   "outputs": [
    {
     "data": {
      "application/vnd.jupyter.widget-view+json": {
       "model_id": "0db8aa7ceefa4593b230d0f98c412c79",
       "version_major": 2,
       "version_minor": 0
      },
      "text/plain": [
       "VBox()"
      ]
     },
     "metadata": {},
     "output_type": "display_data"
    },
    {
     "data": {
      "application/vnd.jupyter.widget-view+json": {
       "model_id": "",
       "version_major": 2,
       "version_minor": 0
      },
      "text/plain": [
       "FloatProgress(value=0.0, bar_style='info', description='Progress:', layout=Layout(height='25px', width='50%'),…"
      ]
     },
     "metadata": {},
     "output_type": "display_data"
    },
    {
     "name": "stdout",
     "output_type": "stream",
     "text": [
      "[Row(movieId=159467, rating=10.64799690246582), Row(movieId=205277, rating=10.294464111328125), Row(movieId=202231, rating=10.207267761230469), Row(movieId=180851, rating=9.36663818359375), Row(movieId=111401, rating=9.36663818359375), Row(movieId=148741, rating=9.36663818359375), Row(movieId=154860, rating=9.36663818359375), Row(movieId=205741, rating=9.36663818359375), Row(movieId=146810, rating=9.36663818359375), Row(movieId=201190, rating=9.36663818359375)]"
     ]
    }
   ],
   "source": [
    "y[\"recommendations\"]"
   ]
  },
  {
   "cell_type": "markdown",
   "metadata": {},
   "source": [
    "## Write data to CSV & Load in Pandas for further analysis"
   ]
  },
  {
   "cell_type": "code",
   "execution_count": 36,
   "metadata": {
    "execution": {
     "iopub.execute_input": "2022-05-11T22:23:56.184839Z",
     "iopub.status.busy": "2022-05-11T22:23:56.183595Z",
     "iopub.status.idle": "2022-05-11T22:23:56.680680Z",
     "shell.execute_reply": "2022-05-11T22:23:56.679417Z",
     "shell.execute_reply.started": "2022-05-11T22:23:56.184774Z"
    }
   },
   "outputs": [
    {
     "data": {
      "application/vnd.jupyter.widget-view+json": {
       "model_id": "cc65df5dc4a341d88bf20e93ecfc63cf",
       "version_major": 2,
       "version_minor": 0
      },
      "text/plain": [
       "VBox()"
      ]
     },
     "metadata": {},
     "output_type": "display_data"
    },
    {
     "data": {
      "application/vnd.jupyter.widget-view+json": {
       "model_id": "",
       "version_major": 2,
       "version_minor": 0
      },
      "text/plain": [
       "FloatProgress(value=0.0, bar_style='info', description='Progress:', layout=Layout(height='25px', width='50%'),…"
      ]
     },
     "metadata": {},
     "output_type": "display_data"
    },
    {
     "name": "stderr",
     "output_type": "stream",
     "text": [
      "name 'userRecs' is not defined\n",
      "Traceback (most recent call last):\n",
      "NameError: name 'userRecs' is not defined\n",
      "\n"
     ]
    }
   ],
   "source": [
    "userRecs.toPandas().to_csv(\"movie_rec_output.csv\")"
   ]
  },
  {
   "cell_type": "code",
   "execution_count": 37,
   "metadata": {
    "execution": {
     "iopub.execute_input": "2022-05-11T22:23:56.746517Z",
     "iopub.status.busy": "2022-05-11T22:23:56.682766Z",
     "iopub.status.idle": "2022-05-11T22:23:57.059439Z",
     "shell.execute_reply": "2022-05-11T22:23:57.058748Z",
     "shell.execute_reply.started": "2022-05-11T22:23:56.746470Z"
    }
   },
   "outputs": [
    {
     "data": {
      "application/vnd.jupyter.widget-view+json": {
       "model_id": "10e073f99882403cb13475f1efce8067",
       "version_major": 2,
       "version_minor": 0
      },
      "text/plain": [
       "VBox()"
      ]
     },
     "metadata": {},
     "output_type": "display_data"
    },
    {
     "data": {
      "application/vnd.jupyter.widget-view+json": {
       "model_id": "",
       "version_major": 2,
       "version_minor": 0
      },
      "text/plain": [
       "FloatProgress(value=0.0, bar_style='info', description='Progress:', layout=Layout(height='25px', width='50%'),…"
      ]
     },
     "metadata": {},
     "output_type": "display_data"
    },
    {
     "name": "stderr",
     "output_type": "stream",
     "text": [
      "No module named 'pandas'\n",
      "Traceback (most recent call last):\n",
      "ModuleNotFoundError: No module named 'pandas'\n",
      "\n"
     ]
    }
   ],
   "source": [
    "import pandas as pd"
   ]
  },
  {
   "cell_type": "code",
   "execution_count": 38,
   "metadata": {
    "execution": {
     "iopub.execute_input": "2022-05-11T22:23:57.062377Z",
     "iopub.status.busy": "2022-05-11T22:23:57.062173Z",
     "iopub.status.idle": "2022-05-11T22:23:57.348165Z",
     "shell.execute_reply": "2022-05-11T22:23:57.347439Z",
     "shell.execute_reply.started": "2022-05-11T22:23:57.062352Z"
    }
   },
   "outputs": [
    {
     "data": {
      "application/vnd.jupyter.widget-view+json": {
       "model_id": "e295242ff9794ff79e1f77687dd478c0",
       "version_major": 2,
       "version_minor": 0
      },
      "text/plain": [
       "VBox()"
      ]
     },
     "metadata": {},
     "output_type": "display_data"
    },
    {
     "data": {
      "application/vnd.jupyter.widget-view+json": {
       "model_id": "",
       "version_major": 2,
       "version_minor": 0
      },
      "text/plain": [
       "FloatProgress(value=0.0, bar_style='info', description='Progress:', layout=Layout(height='25px', width='50%'),…"
      ]
     },
     "metadata": {},
     "output_type": "display_data"
    },
    {
     "name": "stderr",
     "output_type": "stream",
     "text": [
      "name 'df' is not defined\n",
      "Traceback (most recent call last):\n",
      "NameError: name 'df' is not defined\n",
      "\n"
     ]
    }
   ],
   "source": [
    "df = df.read_csv(\"movie_rec_output.csv\")"
   ]
  },
  {
   "cell_type": "markdown",
   "metadata": {},
   "source": [
    "## Get top 20 Movies Prediction"
   ]
  },
  {
   "cell_type": "code",
   "execution_count": 39,
   "metadata": {
    "execution": {
     "iopub.execute_input": "2022-05-11T22:23:57.349650Z",
     "iopub.status.busy": "2022-05-11T22:23:57.349364Z",
     "iopub.status.idle": "2022-05-11T22:23:57.577765Z",
     "shell.execute_reply": "2022-05-11T22:23:57.576944Z",
     "shell.execute_reply.started": "2022-05-11T22:23:57.349586Z"
    }
   },
   "outputs": [
    {
     "data": {
      "application/vnd.jupyter.widget-view+json": {
       "model_id": "e569d987e3e645f7b048b50fca818d23",
       "version_major": 2,
       "version_minor": 0
      },
      "text/plain": [
       "VBox()"
      ]
     },
     "metadata": {},
     "output_type": "display_data"
    },
    {
     "data": {
      "application/vnd.jupyter.widget-view+json": {
       "model_id": "",
       "version_major": 2,
       "version_minor": 0
      },
      "text/plain": [
       "FloatProgress(value=0.0, bar_style='info', description='Progress:', layout=Layout(height='25px', width='50%'),…"
      ]
     },
     "metadata": {},
     "output_type": "display_data"
    }
   ],
   "source": [
    "top_movies = predictions.orderBy(\"prediction\", ascending=False)"
   ]
  },
  {
   "cell_type": "code",
   "execution_count": null,
   "metadata": {
    "execution": {
     "iopub.execute_input": "2022-05-11T22:23:57.579464Z",
     "iopub.status.busy": "2022-05-11T22:23:57.579202Z"
    }
   },
   "outputs": [
    {
     "data": {
      "application/vnd.jupyter.widget-view+json": {
       "model_id": "2dcdc903236f44bf9010b714f302be9c",
       "version_major": 2,
       "version_minor": 0
      },
      "text/plain": [
       "VBox()"
      ]
     },
     "metadata": {},
     "output_type": "display_data"
    },
    {
     "data": {
      "application/vnd.jupyter.widget-view+json": {
       "model_id": "8c760cb7be334bb6bee126dac73ef103",
       "version_major": 2,
       "version_minor": 0
      },
      "text/plain": [
       "FloatProgress(value=0.0, bar_style='info', description='Progress:', layout=Layout(height='25px', width='50%'),…"
      ]
     },
     "metadata": {},
     "output_type": "display_data"
    }
   ],
   "source": [
    "top_movies.show()"
   ]
  },
  {
   "cell_type": "code",
   "execution_count": null,
   "metadata": {},
   "outputs": [],
   "source": [
    "top_movies_joined = top_movies.join(movies, on=[\"movieId\"], how=\"left\")"
   ]
  },
  {
   "cell_type": "code",
   "execution_count": null,
   "metadata": {},
   "outputs": [],
   "source": [
    "top_movies_joined.show()"
   ]
  }
 ],
 "metadata": {
  "kernelspec": {
   "display_name": "PySpark",
   "language": "",
   "name": "pysparkkernel"
  },
  "language_info": {
   "codemirror_mode": {
    "name": "python",
    "version": 2
   },
   "mimetype": "text/x-python",
   "name": "pyspark",
   "pygments_lexer": "python2"
  }
 },
 "nbformat": 4,
 "nbformat_minor": 4
}
