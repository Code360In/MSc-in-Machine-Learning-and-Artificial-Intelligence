{
 "cells": [
  {
   "cell_type": "markdown",
   "metadata": {},
   "source": [
    "## Import libraries:\n"
   ]
  },
  {
   "cell_type": "code",
   "execution_count": 1,
   "metadata": {
    "execution": {
     "iopub.execute_input": "2022-05-13T00:03:56.961835Z",
     "iopub.status.busy": "2022-05-13T00:03:56.960930Z",
     "iopub.status.idle": "2022-05-13T00:04:38.804491Z",
     "shell.execute_reply": "2022-05-13T00:04:38.803766Z",
     "shell.execute_reply.started": "2022-05-13T00:03:56.961794Z"
    },
    "tags": []
   },
   "outputs": [
    {
     "data": {
      "application/vnd.jupyter.widget-view+json": {
       "model_id": "795bba77f6d04688acfcf053e6899f9e",
       "version_major": 2,
       "version_minor": 0
      },
      "text/plain": [
       "VBox()"
      ]
     },
     "metadata": {},
     "output_type": "display_data"
    },
    {
     "name": "stdout",
     "output_type": "stream",
     "text": [
      "Starting Spark application\n"
     ]
    },
    {
     "data": {
      "text/html": [
       "<table>\n",
       "<tr><th>ID</th><th>YARN Application ID</th><th>Kind</th><th>State</th><th>Spark UI</th><th>Driver log</th><th>Current session?</th></tr><tr><td>3</td><td>application_1652395577609_0004</td><td>pyspark</td><td>idle</td><td><a target=\"_blank\" href=\"http://ip-172-31-18-30.ec2.internal:20888/proxy/application_1652395577609_0004/\">Link</a></td><td><a target=\"_blank\" href=\"http://ip-172-31-25-95.ec2.internal:8042/node/containerlogs/container_1652395577609_0004_01_000001/livy\">Link</a></td><td>✔</td></tr></table>"
      ],
      "text/plain": [
       "<IPython.core.display.HTML object>"
      ]
     },
     "metadata": {},
     "output_type": "display_data"
    },
    {
     "data": {
      "application/vnd.jupyter.widget-view+json": {
       "model_id": "",
       "version_major": 2,
       "version_minor": 0
      },
      "text/plain": [
       "FloatProgress(value=0.0, bar_style='info', description='Progress:', layout=Layout(height='25px', width='50%'),…"
      ]
     },
     "metadata": {},
     "output_type": "display_data"
    },
    {
     "name": "stdout",
     "output_type": "stream",
     "text": [
      "SparkSession available as 'spark'.\n"
     ]
    },
    {
     "data": {
      "application/vnd.jupyter.widget-view+json": {
       "model_id": "",
       "version_major": 2,
       "version_minor": 0
      },
      "text/plain": [
       "FloatProgress(value=0.0, bar_style='info', description='Progress:', layout=Layout(height='25px', width='50%'),…"
      ]
     },
     "metadata": {},
     "output_type": "display_data"
    }
   ],
   "source": [
    "from pyspark.ml.evaluation import RegressionEvaluator\n",
    "from pyspark.ml.recommendation import ALS\n",
    "from pyspark.sql import Row\n",
    "from pyspark.sql import SparkSession"
   ]
  },
  {
   "cell_type": "code",
   "execution_count": 2,
   "metadata": {
    "execution": {
     "iopub.execute_input": "2022-05-13T00:04:38.808252Z",
     "iopub.status.busy": "2022-05-13T00:04:38.808053Z",
     "iopub.status.idle": "2022-05-13T00:04:40.371594Z",
     "shell.execute_reply": "2022-05-13T00:04:40.370711Z",
     "shell.execute_reply.started": "2022-05-13T00:04:38.808226Z"
    }
   },
   "outputs": [
    {
     "data": {
      "application/vnd.jupyter.widget-view+json": {
       "model_id": "d0570e1569194661a9350ddd253c06ee",
       "version_major": 2,
       "version_minor": 0
      },
      "text/plain": [
       "VBox()"
      ]
     },
     "metadata": {},
     "output_type": "display_data"
    },
    {
     "data": {
      "application/vnd.jupyter.widget-view+json": {
       "model_id": "",
       "version_major": 2,
       "version_minor": 0
      },
      "text/plain": [
       "FloatProgress(value=0.0, bar_style='info', description='Progress:', layout=Layout(height='25px', width='50%'),…"
      ]
     },
     "metadata": {},
     "output_type": "display_data"
    }
   ],
   "source": [
    "spark = SparkSession.builder.appName(\"als\").getOrCreate()"
   ]
  },
  {
   "cell_type": "markdown",
   "metadata": {},
   "source": [
    "## Load Movie Ratings Data"
   ]
  },
  {
   "cell_type": "code",
   "execution_count": 3,
   "metadata": {
    "execution": {
     "iopub.execute_input": "2022-05-13T00:04:40.377994Z",
     "iopub.status.busy": "2022-05-13T00:04:40.376524Z",
     "iopub.status.idle": "2022-05-13T00:05:06.569262Z",
     "shell.execute_reply": "2022-05-13T00:05:06.567514Z",
     "shell.execute_reply.started": "2022-05-13T00:04:40.377947Z"
    },
    "tags": []
   },
   "outputs": [
    {
     "data": {
      "application/vnd.jupyter.widget-view+json": {
       "model_id": "8db07cd075e442a3a6224a27f376d0fa",
       "version_major": 2,
       "version_minor": 0
      },
      "text/plain": [
       "VBox()"
      ]
     },
     "metadata": {},
     "output_type": "display_data"
    },
    {
     "data": {
      "application/vnd.jupyter.widget-view+json": {
       "model_id": "",
       "version_major": 2,
       "version_minor": 0
      },
      "text/plain": [
       "FloatProgress(value=0.0, bar_style='info', description='Progress:', layout=Layout(height='25px', width='50%'),…"
      ]
     },
     "metadata": {},
     "output_type": "display_data"
    }
   ],
   "source": [
    "# Load the ratings data into a dataframe\n",
    "ratings = spark.read.csv(\"s3a://sparkdemonstration-mlc/ratings.csv\", inferSchema=True, header=True)"
   ]
  },
  {
   "cell_type": "code",
   "execution_count": 4,
   "metadata": {
    "execution": {
     "iopub.execute_input": "2022-05-13T00:05:06.619914Z",
     "iopub.status.busy": "2022-05-13T00:05:06.585083Z",
     "iopub.status.idle": "2022-05-13T00:05:07.774335Z",
     "shell.execute_reply": "2022-05-13T00:05:07.773488Z",
     "shell.execute_reply.started": "2022-05-13T00:05:06.619790Z"
    },
    "tags": []
   },
   "outputs": [
    {
     "data": {
      "application/vnd.jupyter.widget-view+json": {
       "model_id": "dfeae8cda07d4d098a9113163c81fa22",
       "version_major": 2,
       "version_minor": 0
      },
      "text/plain": [
       "VBox()"
      ]
     },
     "metadata": {},
     "output_type": "display_data"
    },
    {
     "data": {
      "application/vnd.jupyter.widget-view+json": {
       "model_id": "",
       "version_major": 2,
       "version_minor": 0
      },
      "text/plain": [
       "FloatProgress(value=0.0, bar_style='info', description='Progress:', layout=Layout(height='25px', width='50%'),…"
      ]
     },
     "metadata": {},
     "output_type": "display_data"
    },
    {
     "name": "stdout",
     "output_type": "stream",
     "text": [
      "+------+-------+------+----------+\n",
      "|userId|movieId|rating| timestamp|\n",
      "+------+-------+------+----------+\n",
      "|     1|    296|   5.0|1147880044|\n",
      "|     1|    306|   3.5|1147868817|\n",
      "|     1|    307|   5.0|1147868828|\n",
      "|     1|    665|   5.0|1147878820|\n",
      "|     1|    899|   3.5|1147868510|\n",
      "|     1|   1088|   4.0|1147868495|\n",
      "|     1|   1175|   3.5|1147868826|\n",
      "|     1|   1217|   3.5|1147878326|\n",
      "|     1|   1237|   5.0|1147868839|\n",
      "|     1|   1250|   4.0|1147868414|\n",
      "|     1|   1260|   3.5|1147877857|\n",
      "|     1|   1653|   4.0|1147868097|\n",
      "|     1|   2011|   2.5|1147868079|\n",
      "|     1|   2012|   2.5|1147868068|\n",
      "|     1|   2068|   2.5|1147869044|\n",
      "|     1|   2161|   3.5|1147868609|\n",
      "|     1|   2351|   4.5|1147877957|\n",
      "|     1|   2573|   4.0|1147878923|\n",
      "|     1|   2632|   5.0|1147878248|\n",
      "|     1|   2692|   5.0|1147869100|\n",
      "+------+-------+------+----------+\n",
      "only showing top 20 rows"
     ]
    }
   ],
   "source": [
    "# Print the ratings dataframe\n",
    "ratings.show()"
   ]
  },
  {
   "cell_type": "code",
   "execution_count": 5,
   "metadata": {
    "execution": {
     "iopub.execute_input": "2022-05-13T00:05:07.776119Z",
     "iopub.status.busy": "2022-05-13T00:05:07.775621Z",
     "iopub.status.idle": "2022-05-13T00:05:08.076275Z",
     "shell.execute_reply": "2022-05-13T00:05:08.075315Z",
     "shell.execute_reply.started": "2022-05-13T00:05:07.776076Z"
    },
    "tags": []
   },
   "outputs": [
    {
     "data": {
      "application/vnd.jupyter.widget-view+json": {
       "model_id": "43c1004a36494c1985e8c29ff395d485",
       "version_major": 2,
       "version_minor": 0
      },
      "text/plain": [
       "VBox()"
      ]
     },
     "metadata": {},
     "output_type": "display_data"
    },
    {
     "data": {
      "application/vnd.jupyter.widget-view+json": {
       "model_id": "",
       "version_major": 2,
       "version_minor": 0
      },
      "text/plain": [
       "FloatProgress(value=0.0, bar_style='info', description='Progress:', layout=Layout(height='25px', width='50%'),…"
      ]
     },
     "metadata": {},
     "output_type": "display_data"
    }
   ],
   "source": [
    "# Drop the timestamp column from the ratings dataframe.\n",
    "ratings = ratings.drop(\"timestamp\")"
   ]
  },
  {
   "cell_type": "code",
   "execution_count": 6,
   "metadata": {
    "execution": {
     "iopub.execute_input": "2022-05-13T00:05:08.077899Z",
     "iopub.status.busy": "2022-05-13T00:05:08.077500Z",
     "iopub.status.idle": "2022-05-13T00:05:09.137389Z",
     "shell.execute_reply": "2022-05-13T00:05:09.136233Z",
     "shell.execute_reply.started": "2022-05-13T00:05:08.077859Z"
    },
    "tags": []
   },
   "outputs": [
    {
     "data": {
      "application/vnd.jupyter.widget-view+json": {
       "model_id": "e0ab0f41c1d140ce861addd3f74cf3fa",
       "version_major": 2,
       "version_minor": 0
      },
      "text/plain": [
       "VBox()"
      ]
     },
     "metadata": {},
     "output_type": "display_data"
    },
    {
     "data": {
      "application/vnd.jupyter.widget-view+json": {
       "model_id": "",
       "version_major": 2,
       "version_minor": 0
      },
      "text/plain": [
       "FloatProgress(value=0.0, bar_style='info', description='Progress:', layout=Layout(height='25px', width='50%'),…"
      ]
     },
     "metadata": {},
     "output_type": "display_data"
    },
    {
     "name": "stdout",
     "output_type": "stream",
     "text": [
      "+------+-------+------+\n",
      "|userId|movieId|rating|\n",
      "+------+-------+------+\n",
      "|     1|    296|   5.0|\n",
      "|     1|    306|   3.5|\n",
      "|     1|    307|   5.0|\n",
      "|     1|    665|   5.0|\n",
      "|     1|    899|   3.5|\n",
      "|     1|   1088|   4.0|\n",
      "|     1|   1175|   3.5|\n",
      "|     1|   1217|   3.5|\n",
      "|     1|   1237|   5.0|\n",
      "|     1|   1250|   4.0|\n",
      "|     1|   1260|   3.5|\n",
      "|     1|   1653|   4.0|\n",
      "|     1|   2011|   2.5|\n",
      "|     1|   2012|   2.5|\n",
      "|     1|   2068|   2.5|\n",
      "|     1|   2161|   3.5|\n",
      "|     1|   2351|   4.5|\n",
      "|     1|   2573|   4.0|\n",
      "|     1|   2632|   5.0|\n",
      "|     1|   2692|   5.0|\n",
      "+------+-------+------+\n",
      "only showing top 20 rows"
     ]
    }
   ],
   "source": [
    "# Print the rating dataframe after dropping the timestamp column.\n",
    "ratings.show()"
   ]
  },
  {
   "cell_type": "markdown",
   "metadata": {},
   "source": [
    "## Load New User Data"
   ]
  },
  {
   "cell_type": "code",
   "execution_count": 7,
   "metadata": {
    "execution": {
     "iopub.execute_input": "2022-05-13T00:05:09.141044Z",
     "iopub.status.busy": "2022-05-13T00:05:09.140758Z",
     "iopub.status.idle": "2022-05-13T00:05:10.306101Z",
     "shell.execute_reply": "2022-05-13T00:05:10.304299Z",
     "shell.execute_reply.started": "2022-05-13T00:05:09.141002Z"
    },
    "tags": []
   },
   "outputs": [
    {
     "data": {
      "application/vnd.jupyter.widget-view+json": {
       "model_id": "e72ed81af7d1485bada115bd93cd8cb3",
       "version_major": 2,
       "version_minor": 0
      },
      "text/plain": [
       "VBox()"
      ]
     },
     "metadata": {},
     "output_type": "display_data"
    },
    {
     "data": {
      "application/vnd.jupyter.widget-view+json": {
       "model_id": "",
       "version_major": 2,
       "version_minor": 0
      },
      "text/plain": [
       "FloatProgress(value=0.0, bar_style='info', description='Progress:', layout=Layout(height='25px', width='50%'),…"
      ]
     },
     "metadata": {},
     "output_type": "display_data"
    }
   ],
   "source": [
    "# Load the New user's ratings data into a dataframe New_user_rating\n",
    "New_user_rating = spark.read.csv(\"s3a://sparkdemonstration-mlc/New_user_rating.csv\", inferSchema=True, header=True)"
   ]
  },
  {
   "cell_type": "code",
   "execution_count": 8,
   "metadata": {
    "execution": {
     "iopub.execute_input": "2022-05-13T00:05:10.308902Z",
     "iopub.status.busy": "2022-05-13T00:05:10.308280Z",
     "iopub.status.idle": "2022-05-13T00:05:11.066376Z",
     "shell.execute_reply": "2022-05-13T00:05:11.061836Z",
     "shell.execute_reply.started": "2022-05-13T00:05:10.308856Z"
    }
   },
   "outputs": [
    {
     "data": {
      "application/vnd.jupyter.widget-view+json": {
       "model_id": "1bc24b9d1f26498f98c1a0e7b9cc5aaf",
       "version_major": 2,
       "version_minor": 0
      },
      "text/plain": [
       "VBox()"
      ]
     },
     "metadata": {},
     "output_type": "display_data"
    },
    {
     "data": {
      "application/vnd.jupyter.widget-view+json": {
       "model_id": "",
       "version_major": 2,
       "version_minor": 0
      },
      "text/plain": [
       "FloatProgress(value=0.0, bar_style='info', description='Progress:', layout=Layout(height='25px', width='50%'),…"
      ]
     },
     "metadata": {},
     "output_type": "display_data"
    },
    {
     "name": "stdout",
     "output_type": "stream",
     "text": [
      "+------+-------+------+\n",
      "|userId|movieId|rating|\n",
      "+------+-------+------+\n",
      "|162542|  85788|   3.5|\n",
      "|162542| 104908|   3.0|\n",
      "|162542| 109487|   4.5|\n",
      "|162542|   8533|   4.0|\n",
      "|162542|   4995|   3.5|\n",
      "|162542|  89470|   3.0|\n",
      "|162542|      2|   4.0|\n",
      "|162542| 122916|   5.0|\n",
      "|162542|   6534|   4.5|\n",
      "|162542|  60040|   3.0|\n",
      "|162542| 122912|   4.0|\n",
      "|162542| 122914|   4.5|\n",
      "|162542| 103688|   3.5|\n",
      "|162542| 135701|   4.0|\n",
      "|162542|  99007|   4.0|\n",
      "|162542|  70334|   4.5|\n",
      "|162542|  97938|   4.0|\n",
      "|162542|  59784|   4.5|\n",
      "|162542|  87222|   3.5|\n",
      "|162542| 149406|   3.0|\n",
      "+------+-------+------+\n",
      "only showing top 20 rows"
     ]
    }
   ],
   "source": [
    "New_user_rating.show()"
   ]
  },
  {
   "cell_type": "markdown",
   "metadata": {},
   "source": [
    "## Concatenate the Movie Rating data with new user Data."
   ]
  },
  {
   "cell_type": "code",
   "execution_count": 9,
   "metadata": {
    "execution": {
     "iopub.execute_input": "2022-05-13T00:05:11.070329Z",
     "iopub.status.busy": "2022-05-13T00:05:11.070027Z",
     "iopub.status.idle": "2022-05-13T00:05:11.899518Z",
     "shell.execute_reply": "2022-05-13T00:05:11.898697Z",
     "shell.execute_reply.started": "2022-05-13T00:05:11.070298Z"
    }
   },
   "outputs": [
    {
     "data": {
      "application/vnd.jupyter.widget-view+json": {
       "model_id": "f1687cfd465846d18c6e848e35c0b554",
       "version_major": 2,
       "version_minor": 0
      },
      "text/plain": [
       "VBox()"
      ]
     },
     "metadata": {},
     "output_type": "display_data"
    },
    {
     "data": {
      "application/vnd.jupyter.widget-view+json": {
       "model_id": "",
       "version_major": 2,
       "version_minor": 0
      },
      "text/plain": [
       "FloatProgress(value=0.0, bar_style='info', description='Progress:', layout=Layout(height='25px', width='50%'),…"
      ]
     },
     "metadata": {},
     "output_type": "display_data"
    }
   ],
   "source": [
    "# Concatenate the ratings and New_user_rating dataframes into single dataframe.\n",
    "rating_final = ratings.union(New_user_rating)"
   ]
  },
  {
   "cell_type": "code",
   "execution_count": 10,
   "metadata": {
    "execution": {
     "iopub.execute_input": "2022-05-13T00:05:11.954811Z",
     "iopub.status.busy": "2022-05-13T00:05:11.900927Z",
     "iopub.status.idle": "2022-05-13T00:05:27.297572Z",
     "shell.execute_reply": "2022-05-13T00:05:27.296495Z",
     "shell.execute_reply.started": "2022-05-13T00:05:11.954771Z"
    }
   },
   "outputs": [
    {
     "data": {
      "application/vnd.jupyter.widget-view+json": {
       "model_id": "76543b0cd0b64b679ea430c7735fa78d",
       "version_major": 2,
       "version_minor": 0
      },
      "text/plain": [
       "VBox()"
      ]
     },
     "metadata": {},
     "output_type": "display_data"
    },
    {
     "data": {
      "application/vnd.jupyter.widget-view+json": {
       "model_id": "",
       "version_major": 2,
       "version_minor": 0
      },
      "text/plain": [
       "FloatProgress(value=0.0, bar_style='info', description='Progress:', layout=Layout(height='25px', width='50%'),…"
      ]
     },
     "metadata": {},
     "output_type": "display_data"
    },
    {
     "name": "stdout",
     "output_type": "stream",
     "text": [
      "+-------+-----------------+-----------------+------------------+\n",
      "|summary|           userId|          movieId|            rating|\n",
      "+-------+-----------------+-----------------+------------------+\n",
      "|  count|         25000145|         25000145|          25000145|\n",
      "|   mean|81189.44385830562|21388.09762391378|3.5338546436430667|\n",
      "| stddev|46791.81054576984|39198.98818722356|1.0607436520838271|\n",
      "|    min|                1|                1|               0.5|\n",
      "|    max|           162542|           209171|               5.0|\n",
      "+-------+-----------------+-----------------+------------------+"
     ]
    }
   ],
   "source": [
    "# Describe the \"rating_final\" dataframe.\n",
    "rating_final.describe().show()"
   ]
  },
  {
   "cell_type": "markdown",
   "metadata": {},
   "source": [
    "## Load Movies Data"
   ]
  },
  {
   "cell_type": "code",
   "execution_count": 11,
   "metadata": {
    "execution": {
     "iopub.execute_input": "2022-05-13T00:05:27.299595Z",
     "iopub.status.busy": "2022-05-13T00:05:27.299034Z",
     "iopub.status.idle": "2022-05-13T00:05:28.907205Z",
     "shell.execute_reply": "2022-05-13T00:05:28.906293Z",
     "shell.execute_reply.started": "2022-05-13T00:05:27.299554Z"
    }
   },
   "outputs": [
    {
     "data": {
      "application/vnd.jupyter.widget-view+json": {
       "model_id": "0911e182f4f94e6cb14c435f15395704",
       "version_major": 2,
       "version_minor": 0
      },
      "text/plain": [
       "VBox()"
      ]
     },
     "metadata": {},
     "output_type": "display_data"
    },
    {
     "data": {
      "application/vnd.jupyter.widget-view+json": {
       "model_id": "",
       "version_major": 2,
       "version_minor": 0
      },
      "text/plain": [
       "FloatProgress(value=0.0, bar_style='info', description='Progress:', layout=Layout(height='25px', width='50%'),…"
      ]
     },
     "metadata": {},
     "output_type": "display_data"
    }
   ],
   "source": [
    "# Load the Movies data into a dataframe\n",
    "movies = spark.read.csv(\"s3a://sparkdemonstration-mlc/movies.csv\",inferSchema=True, header=True)"
   ]
  },
  {
   "cell_type": "code",
   "execution_count": 12,
   "metadata": {
    "execution": {
     "iopub.execute_input": "2022-05-13T00:05:28.909891Z",
     "iopub.status.busy": "2022-05-13T00:05:28.909573Z",
     "iopub.status.idle": "2022-05-13T00:05:30.074117Z",
     "shell.execute_reply": "2022-05-13T00:05:30.073022Z",
     "shell.execute_reply.started": "2022-05-13T00:05:28.909851Z"
    }
   },
   "outputs": [
    {
     "data": {
      "application/vnd.jupyter.widget-view+json": {
       "model_id": "d987ef43b66146e598aaaca9bdb35847",
       "version_major": 2,
       "version_minor": 0
      },
      "text/plain": [
       "VBox()"
      ]
     },
     "metadata": {},
     "output_type": "display_data"
    },
    {
     "data": {
      "application/vnd.jupyter.widget-view+json": {
       "model_id": "",
       "version_major": 2,
       "version_minor": 0
      },
      "text/plain": [
       "FloatProgress(value=0.0, bar_style='info', description='Progress:', layout=Layout(height='25px', width='50%'),…"
      ]
     },
     "metadata": {},
     "output_type": "display_data"
    },
    {
     "name": "stdout",
     "output_type": "stream",
     "text": [
      "+-------+--------------------+--------------------+\n",
      "|movieId|               title|              genres|\n",
      "+-------+--------------------+--------------------+\n",
      "|      1|    Toy Story (1995)|Adventure|Animati...|\n",
      "|      2|      Jumanji (1995)|Adventure|Childre...|\n",
      "|      3|Grumpier Old Men ...|      Comedy|Romance|\n",
      "|      4|Waiting to Exhale...|Comedy|Drama|Romance|\n",
      "|      5|Father of the Bri...|              Comedy|\n",
      "|      6|         Heat (1995)|Action|Crime|Thri...|\n",
      "|      7|      Sabrina (1995)|      Comedy|Romance|\n",
      "|      8| Tom and Huck (1995)|  Adventure|Children|\n",
      "|      9| Sudden Death (1995)|              Action|\n",
      "|     10|    GoldenEye (1995)|Action|Adventure|...|\n",
      "|     11|American Presiden...|Comedy|Drama|Romance|\n",
      "|     12|Dracula: Dead and...|       Comedy|Horror|\n",
      "|     13|        Balto (1995)|Adventure|Animati...|\n",
      "|     14|        Nixon (1995)|               Drama|\n",
      "|     15|Cutthroat Island ...|Action|Adventure|...|\n",
      "|     16|       Casino (1995)|         Crime|Drama|\n",
      "|     17|Sense and Sensibi...|       Drama|Romance|\n",
      "|     18|   Four Rooms (1995)|              Comedy|\n",
      "|     19|Ace Ventura: When...|              Comedy|\n",
      "|     20|  Money Train (1995)|Action|Comedy|Cri...|\n",
      "+-------+--------------------+--------------------+\n",
      "only showing top 20 rows"
     ]
    }
   ],
   "source": [
    "# Print the Movies data.\n",
    "movies.show()"
   ]
  },
  {
   "cell_type": "markdown",
   "metadata": {},
   "source": [
    "## Split the Rating data to Train & Test set"
   ]
  },
  {
   "cell_type": "code",
   "execution_count": 13,
   "metadata": {
    "execution": {
     "iopub.execute_input": "2022-05-13T00:05:30.075915Z",
     "iopub.status.busy": "2022-05-13T00:05:30.075462Z",
     "iopub.status.idle": "2022-05-13T00:06:03.427531Z",
     "shell.execute_reply": "2022-05-13T00:06:03.426442Z",
     "shell.execute_reply.started": "2022-05-13T00:05:30.075872Z"
    }
   },
   "outputs": [
    {
     "data": {
      "application/vnd.jupyter.widget-view+json": {
       "model_id": "0808329b809a4619bdadaec86fe5629e",
       "version_major": 2,
       "version_minor": 0
      },
      "text/plain": [
       "VBox()"
      ]
     },
     "metadata": {},
     "output_type": "display_data"
    },
    {
     "data": {
      "application/vnd.jupyter.widget-view+json": {
       "model_id": "",
       "version_major": 2,
       "version_minor": 0
      },
      "text/plain": [
       "FloatProgress(value=0.0, bar_style='info', description='Progress:', layout=Layout(height='25px', width='50%'),…"
      ]
     },
     "metadata": {},
     "output_type": "display_data"
    },
    {
     "name": "stdout",
     "output_type": "stream",
     "text": [
      "(14999340, 10000805, 25000095)"
     ]
    }
   ],
   "source": [
    "# Split the \"rating_final\" data into training and test data.\n",
    "(train, test) = rating_final.randomSplit([0.6, 0.4], seed=99)\n",
    "train.count(), test.count(), ratings.count()"
   ]
  },
  {
   "cell_type": "markdown",
   "metadata": {},
   "source": [
    "## ALS Model Building with iteration value = 3"
   ]
  },
  {
   "cell_type": "code",
   "execution_count": 14,
   "metadata": {
    "execution": {
     "iopub.execute_input": "2022-05-13T00:06:03.442406Z",
     "iopub.status.busy": "2022-05-13T00:06:03.434399Z",
     "iopub.status.idle": "2022-05-13T00:06:55.159165Z",
     "shell.execute_reply": "2022-05-13T00:06:55.156920Z",
     "shell.execute_reply.started": "2022-05-13T00:06:03.442331Z"
    }
   },
   "outputs": [
    {
     "data": {
      "application/vnd.jupyter.widget-view+json": {
       "model_id": "acf19d06d980411ba53a46adff08854b",
       "version_major": 2,
       "version_minor": 0
      },
      "text/plain": [
       "VBox()"
      ]
     },
     "metadata": {},
     "output_type": "display_data"
    },
    {
     "data": {
      "application/vnd.jupyter.widget-view+json": {
       "model_id": "",
       "version_major": 2,
       "version_minor": 0
      },
      "text/plain": [
       "FloatProgress(value=0.0, bar_style='info', description='Progress:', layout=Layout(height='25px', width='50%'),…"
      ]
     },
     "metadata": {},
     "output_type": "display_data"
    }
   ],
   "source": [
    "# Build the ALS model.\n",
    "als = ALS(userCol=\"userId\", \n",
    "          itemCol=\"movieId\", \n",
    "          ratingCol=\"rating\",\n",
    "          maxIter=3, \n",
    "          regParam=0.05, \n",
    "          coldStartStrategy=\"drop\")\n",
    "model = als.fit(train)"
   ]
  },
  {
   "cell_type": "code",
   "execution_count": 15,
   "metadata": {
    "execution": {
     "iopub.execute_input": "2022-05-13T00:06:55.167198Z",
     "iopub.status.busy": "2022-05-13T00:06:55.166884Z",
     "iopub.status.idle": "2022-05-13T00:07:26.748062Z",
     "shell.execute_reply": "2022-05-13T00:07:26.744540Z",
     "shell.execute_reply.started": "2022-05-13T00:06:55.167155Z"
    }
   },
   "outputs": [
    {
     "data": {
      "application/vnd.jupyter.widget-view+json": {
       "model_id": "c4da12b967d346ec9b7254d06c44a768",
       "version_major": 2,
       "version_minor": 0
      },
      "text/plain": [
       "VBox()"
      ]
     },
     "metadata": {},
     "output_type": "display_data"
    },
    {
     "data": {
      "application/vnd.jupyter.widget-view+json": {
       "model_id": "",
       "version_major": 2,
       "version_minor": 0
      },
      "text/plain": [
       "FloatProgress(value=0.0, bar_style='info', description='Progress:', layout=Layout(height='25px', width='50%'),…"
      ]
     },
     "metadata": {},
     "output_type": "display_data"
    },
    {
     "name": "stdout",
     "output_type": "stream",
     "text": [
      "0.8367943684127919"
     ]
    }
   ],
   "source": [
    "# Print the RMSE value.\n",
    "predictions = model.transform(test)\n",
    "evaluator = RegressionEvaluator(metricName=\"rmse\", \n",
    "                            labelCol=\"rating\",\n",
    "                            predictionCol=\"prediction\")\n",
    "rmse = evaluator.evaluate(predictions)\n",
    "print(rmse)"
   ]
  },
  {
   "cell_type": "markdown",
   "metadata": {},
   "source": [
    "## Recommend the top 20 movies to the new user with user id = 162542"
   ]
  },
  {
   "cell_type": "code",
   "execution_count": 16,
   "metadata": {
    "execution": {
     "iopub.execute_input": "2022-05-13T00:07:26.763493Z",
     "iopub.status.busy": "2022-05-13T00:07:26.758836Z",
     "iopub.status.idle": "2022-05-13T00:07:27.839151Z",
     "shell.execute_reply": "2022-05-13T00:07:27.838397Z",
     "shell.execute_reply.started": "2022-05-13T00:07:26.763436Z"
    }
   },
   "outputs": [
    {
     "data": {
      "application/vnd.jupyter.widget-view+json": {
       "model_id": "5c0b6c4773fb4556a2f845c10e0bc34f",
       "version_major": 2,
       "version_minor": 0
      },
      "text/plain": [
       "VBox()"
      ]
     },
     "metadata": {},
     "output_type": "display_data"
    },
    {
     "data": {
      "application/vnd.jupyter.widget-view+json": {
       "model_id": "",
       "version_major": 2,
       "version_minor": 0
      },
      "text/plain": [
       "FloatProgress(value=0.0, bar_style='info', description='Progress:', layout=Layout(height='25px', width='50%'),…"
      ]
     },
     "metadata": {},
     "output_type": "display_data"
    }
   ],
   "source": [
    "# Get the top 20 movie recommendations for all the users.\n",
    "userRecs = model.recommendForAllUsers(20)"
   ]
  },
  {
   "cell_type": "code",
   "execution_count": 17,
   "metadata": {
    "execution": {
     "iopub.execute_input": "2022-05-13T00:07:27.840656Z",
     "iopub.status.busy": "2022-05-13T00:07:27.840272Z",
     "iopub.status.idle": "2022-05-13T00:11:06.884946Z",
     "shell.execute_reply": "2022-05-13T00:11:06.883987Z",
     "shell.execute_reply.started": "2022-05-13T00:07:27.840617Z"
    }
   },
   "outputs": [
    {
     "data": {
      "application/vnd.jupyter.widget-view+json": {
       "model_id": "80734f552caf4b9dab4eb42c35d01eaf",
       "version_major": 2,
       "version_minor": 0
      },
      "text/plain": [
       "VBox()"
      ]
     },
     "metadata": {},
     "output_type": "display_data"
    },
    {
     "data": {
      "application/vnd.jupyter.widget-view+json": {
       "model_id": "",
       "version_major": 2,
       "version_minor": 0
      },
      "text/plain": [
       "FloatProgress(value=0.0, bar_style='info', description='Progress:', layout=Layout(height='25px', width='50%'),…"
      ]
     },
     "metadata": {},
     "output_type": "display_data"
    },
    {
     "name": "stdout",
     "output_type": "stream",
     "text": [
      "+------+--------------------+\n",
      "|userId|     recommendations|\n",
      "+------+--------------------+\n",
      "|   148|[[159467, 10.6528...|\n",
      "|   463|[[205277, 13.4987...|\n",
      "|   471|[[205277, 11.3107...|\n",
      "|   496|[[159467, 12.8232...|\n",
      "|   833|[[205277, 9.64507...|\n",
      "|  1088|[[192689, 11.1319...|\n",
      "|  1238|[[205277, 11.7469...|\n",
      "|  1342|[[159467, 10.1689...|\n",
      "|  1580|[[205277, 11.4177...|\n",
      "|  1591|[[205277, 14.1690...|\n",
      "|  1645|[[205277, 10.8278...|\n",
      "|  1829|[[205277, 10.5792...|\n",
      "|  1959|[[205277, 12.3869...|\n",
      "|  2122|[[126941, 9.51770...|\n",
      "|  2142|[[205277, 11.1007...|\n",
      "|  2366|[[159467, 10.8585...|\n",
      "|  2659|[[151410, 11.4519...|\n",
      "|  2866|[[202231, 10.9826...|\n",
      "|  3175|[[205277, 10.8022...|\n",
      "|  3749|[[187999, 9.77840...|\n",
      "+------+--------------------+\n",
      "only showing top 20 rows"
     ]
    }
   ],
   "source": [
    "# Print the userRecs.\n",
    "userRecs.show()"
   ]
  },
  {
   "cell_type": "code",
   "execution_count": 18,
   "metadata": {
    "execution": {
     "iopub.execute_input": "2022-05-13T00:11:06.886840Z",
     "iopub.status.busy": "2022-05-13T00:11:06.886346Z",
     "iopub.status.idle": "2022-05-13T00:14:33.595652Z",
     "shell.execute_reply": "2022-05-13T00:14:33.594835Z",
     "shell.execute_reply.started": "2022-05-13T00:11:06.886799Z"
    },
    "tags": []
   },
   "outputs": [
    {
     "data": {
      "application/vnd.jupyter.widget-view+json": {
       "model_id": "873b93c5bc92452fb8326b76da072305",
       "version_major": 2,
       "version_minor": 0
      },
      "text/plain": [
       "VBox()"
      ]
     },
     "metadata": {},
     "output_type": "display_data"
    },
    {
     "data": {
      "application/vnd.jupyter.widget-view+json": {
       "model_id": "",
       "version_major": 2,
       "version_minor": 0
      },
      "text/plain": [
       "FloatProgress(value=0.0, bar_style='info', description='Progress:', layout=Layout(height='25px', width='50%'),…"
      ]
     },
     "metadata": {},
     "output_type": "display_data"
    }
   ],
   "source": [
    "# Filter the recommendations of top 10 movies for userId 162542 from \"userRecs\".\n",
    "df = userRecs.where(userRecs.userId == 162542).collect()"
   ]
  },
  {
   "cell_type": "code",
   "execution_count": 19,
   "metadata": {
    "execution": {
     "iopub.execute_input": "2022-05-13T00:14:33.597459Z",
     "iopub.status.busy": "2022-05-13T00:14:33.597080Z",
     "iopub.status.idle": "2022-05-13T00:14:33.886376Z",
     "shell.execute_reply": "2022-05-13T00:14:33.885130Z",
     "shell.execute_reply.started": "2022-05-13T00:14:33.597418Z"
    },
    "tags": []
   },
   "outputs": [
    {
     "data": {
      "application/vnd.jupyter.widget-view+json": {
       "model_id": "4ac60208e4e248acb49803a1b679dc6d",
       "version_major": 2,
       "version_minor": 0
      },
      "text/plain": [
       "VBox()"
      ]
     },
     "metadata": {},
     "output_type": "display_data"
    },
    {
     "data": {
      "application/vnd.jupyter.widget-view+json": {
       "model_id": "",
       "version_major": 2,
       "version_minor": 0
      },
      "text/plain": [
       "FloatProgress(value=0.0, bar_style='info', description='Progress:', layout=Layout(height='25px', width='50%'),…"
      ]
     },
     "metadata": {},
     "output_type": "display_data"
    },
    {
     "name": "stdout",
     "output_type": "stream",
     "text": [
      "<class 'list'>"
     ]
    }
   ],
   "source": [
    "# Get the type of the data structure of 'df'\n",
    "type(df)"
   ]
  },
  {
   "cell_type": "code",
   "execution_count": 20,
   "metadata": {
    "execution": {
     "iopub.execute_input": "2022-05-13T00:14:33.887718Z",
     "iopub.status.busy": "2022-05-13T00:14:33.887516Z",
     "iopub.status.idle": "2022-05-13T00:14:34.186557Z",
     "shell.execute_reply": "2022-05-13T00:14:34.185773Z",
     "shell.execute_reply.started": "2022-05-13T00:14:33.887692Z"
    },
    "tags": []
   },
   "outputs": [
    {
     "data": {
      "application/vnd.jupyter.widget-view+json": {
       "model_id": "8694941b878a417bb79b0ca5fd3884b1",
       "version_major": 2,
       "version_minor": 0
      },
      "text/plain": [
       "VBox()"
      ]
     },
     "metadata": {},
     "output_type": "display_data"
    },
    {
     "data": {
      "application/vnd.jupyter.widget-view+json": {
       "model_id": "",
       "version_major": 2,
       "version_minor": 0
      },
      "text/plain": [
       "FloatProgress(value=0.0, bar_style='info', description='Progress:', layout=Layout(height='25px', width='50%'),…"
      ]
     },
     "metadata": {},
     "output_type": "display_data"
    }
   ],
   "source": [
    "# Convert the 'df' object into the dataframe.\n",
    "df = spark.createDataFrame(df)"
   ]
  },
  {
   "cell_type": "code",
   "execution_count": 21,
   "metadata": {
    "execution": {
     "iopub.execute_input": "2022-05-13T00:14:34.188362Z",
     "iopub.status.busy": "2022-05-13T00:14:34.187937Z",
     "iopub.status.idle": "2022-05-13T00:14:44.242375Z",
     "shell.execute_reply": "2022-05-13T00:14:44.241578Z",
     "shell.execute_reply.started": "2022-05-13T00:14:34.188320Z"
    },
    "tags": []
   },
   "outputs": [
    {
     "data": {
      "application/vnd.jupyter.widget-view+json": {
       "model_id": "42f1de14b88e4e6a8087e15a0364ab8a",
       "version_major": 2,
       "version_minor": 0
      },
      "text/plain": [
       "VBox()"
      ]
     },
     "metadata": {},
     "output_type": "display_data"
    },
    {
     "data": {
      "application/vnd.jupyter.widget-view+json": {
       "model_id": "",
       "version_major": 2,
       "version_minor": 0
      },
      "text/plain": [
       "FloatProgress(value=0.0, bar_style='info', description='Progress:', layout=Layout(height='25px', width='50%'),…"
      ]
     },
     "metadata": {},
     "output_type": "display_data"
    },
    {
     "name": "stdout",
     "output_type": "stream",
     "text": [
      "Row(userId=162542, recommendations=[Row(movieId=205277, rating=9.24085521697998), Row(movieId=174529, rating=9.075715065002441), Row(movieId=194160, rating=7.9748358726501465), Row(movieId=26968, rating=7.767980098724365), Row(movieId=202231, rating=7.633571624755859), Row(movieId=126941, rating=7.5803046226501465), Row(movieId=179979, rating=7.420927047729492), Row(movieId=194202, rating=7.349876403808594), Row(movieId=176235, rating=7.2541656494140625), Row(movieId=36816, rating=7.252978324890137), Row(movieId=101954, rating=7.151526927947998), Row(movieId=185655, rating=7.103945732116699), Row(movieId=171873, rating=6.98195219039917), Row(movieId=184891, rating=6.979526042938232), Row(movieId=92516, rating=6.920289516448975), Row(movieId=206911, rating=6.917118549346924), Row(movieId=134037, rating=6.902005672454834), Row(movieId=142871, rating=6.900271415710449), Row(movieId=175625, rating=6.872191429138184), Row(movieId=155042, rating=6.864363670349121)])"
     ]
    }
   ],
   "source": [
    "# Print the df dataframe.\n",
    "df.head()"
   ]
  },
  {
   "cell_type": "code",
   "execution_count": 22,
   "metadata": {
    "execution": {
     "iopub.execute_input": "2022-05-13T00:14:44.244718Z",
     "iopub.status.busy": "2022-05-13T00:14:44.244114Z",
     "iopub.status.idle": "2022-05-13T00:14:45.461329Z",
     "shell.execute_reply": "2022-05-13T00:14:45.456821Z",
     "shell.execute_reply.started": "2022-05-13T00:14:44.244677Z"
    }
   },
   "outputs": [
    {
     "data": {
      "application/vnd.jupyter.widget-view+json": {
       "model_id": "e743dd6f560247bcb331f18fc525961d",
       "version_major": 2,
       "version_minor": 0
      },
      "text/plain": [
       "VBox()"
      ]
     },
     "metadata": {},
     "output_type": "display_data"
    },
    {
     "data": {
      "application/vnd.jupyter.widget-view+json": {
       "model_id": "",
       "version_major": 2,
       "version_minor": 0
      },
      "text/plain": [
       "FloatProgress(value=0.0, bar_style='info', description='Progress:', layout=Layout(height='25px', width='50%'),…"
      ]
     },
     "metadata": {},
     "output_type": "display_data"
    },
    {
     "name": "stdout",
     "output_type": "stream",
     "text": [
      "+-------+------------------+\n",
      "|movieId|            rating|\n",
      "+-------+------------------+\n",
      "| 205277|  9.24085521697998|\n",
      "| 174529| 9.075715065002441|\n",
      "| 194160|7.9748358726501465|\n",
      "|  26968| 7.767980098724365|\n",
      "| 202231| 7.633571624755859|\n",
      "| 126941|7.5803046226501465|\n",
      "| 179979| 7.420927047729492|\n",
      "| 194202| 7.349876403808594|\n",
      "| 176235|7.2541656494140625|\n",
      "|  36816| 7.252978324890137|\n",
      "| 101954| 7.151526927947998|\n",
      "| 185655| 7.103945732116699|\n",
      "| 171873|  6.98195219039917|\n",
      "| 184891| 6.979526042938232|\n",
      "|  92516| 6.920289516448975|\n",
      "| 206911| 6.917118549346924|\n",
      "| 134037| 6.902005672454834|\n",
      "| 142871| 6.900271415710449|\n",
      "| 175625| 6.872191429138184|\n",
      "| 155042| 6.864363670349121|\n",
      "+-------+------------------+"
     ]
    }
   ],
   "source": [
    "# Get the recommended movies for the userId 162542 into df1 list.\n",
    "df1 = df.head()[1]\n",
    "\n",
    "#convert the df1 into dataframe.\n",
    "df1 = spark.createDataFrame(df1)\n",
    "df1.show()"
   ]
  },
  {
   "cell_type": "code",
   "execution_count": 23,
   "metadata": {
    "execution": {
     "iopub.execute_input": "2022-05-13T00:14:45.463947Z",
     "iopub.status.busy": "2022-05-13T00:14:45.463718Z",
     "iopub.status.idle": "2022-05-13T00:14:46.174278Z",
     "shell.execute_reply": "2022-05-13T00:14:46.173245Z",
     "shell.execute_reply.started": "2022-05-13T00:14:45.463919Z"
    },
    "tags": []
   },
   "outputs": [
    {
     "data": {
      "application/vnd.jupyter.widget-view+json": {
       "model_id": "2207cfece2464b788bc3bb3e0de74612",
       "version_major": 2,
       "version_minor": 0
      },
      "text/plain": [
       "VBox()"
      ]
     },
     "metadata": {},
     "output_type": "display_data"
    },
    {
     "data": {
      "application/vnd.jupyter.widget-view+json": {
       "model_id": "",
       "version_major": 2,
       "version_minor": 0
      },
      "text/plain": [
       "FloatProgress(value=0.0, bar_style='info', description='Progress:', layout=Layout(height='25px', width='50%'),…"
      ]
     },
     "metadata": {},
     "output_type": "display_data"
    }
   ],
   "source": [
    "# Join the df1 dataframe with movies data to see the name of the recommended movies.\n",
    "userRecs_joined = df1.join(movies, on=[\"movieId\"], how=\"left\")"
   ]
  },
  {
   "cell_type": "code",
   "execution_count": 24,
   "metadata": {
    "execution": {
     "iopub.execute_input": "2022-05-13T00:14:46.176575Z",
     "iopub.status.busy": "2022-05-13T00:14:46.175850Z",
     "iopub.status.idle": "2022-05-13T00:14:48.464369Z",
     "shell.execute_reply": "2022-05-13T00:14:48.377118Z",
     "shell.execute_reply.started": "2022-05-13T00:14:46.176532Z"
    },
    "tags": []
   },
   "outputs": [
    {
     "data": {
      "application/vnd.jupyter.widget-view+json": {
       "model_id": "62215063af9e494f892eeada8f35cb66",
       "version_major": 2,
       "version_minor": 0
      },
      "text/plain": [
       "VBox()"
      ]
     },
     "metadata": {},
     "output_type": "display_data"
    },
    {
     "data": {
      "application/vnd.jupyter.widget-view+json": {
       "model_id": "",
       "version_major": 2,
       "version_minor": 0
      },
      "text/plain": [
       "FloatProgress(value=0.0, bar_style='info', description='Progress:', layout=Layout(height='25px', width='50%'),…"
      ]
     },
     "metadata": {},
     "output_type": "display_data"
    },
    {
     "name": "stdout",
     "output_type": "stream",
     "text": [
      "+-------+------------------+--------------------+--------------------+\n",
      "|movieId|            rating|               title|              genres|\n",
      "+-------+------------------+--------------------+--------------------+\n",
      "| 205277|  9.24085521697998|   Inside Out (1991)|Comedy|Drama|Romance|\n",
      "| 174529| 9.075715065002441|The Easter Bunny ...|Animation|Childre...|\n",
      "| 194160|7.9748358726501465|  The Carrier (1988)|Drama|Horror|Thri...|\n",
      "|  26968| 7.767980098724365|  Cremaster 5 (1997)|       Drama|Musical|\n",
      "| 202231| 7.633571624755859|       Foster (2018)|         Documentary|\n",
      "| 126941|7.5803046226501465|Joni's Promise (2...|              Comedy|\n",
      "| 179979| 7.420927047729492|Heroes Above All ...|  Adventure|Children|\n",
      "| 194202| 7.349876403808594|     Betrayed (2018)|  (no genres listed)|\n",
      "| 176235|7.2541656494140625|Pooh's Heffalump ...|  Animation|Children|\n",
      "|  36816| 7.252978324890137|Angel in My Pocke...|              Comedy|\n",
      "| 101954| 7.151526927947998|Alex in Wonderlan...|        Comedy|Drama|\n",
      "| 185655| 7.103945732116699|WWE: The Top 100 ...|         Documentary|\n",
      "| 171873|  6.98195219039917|     Warhouse (2013)|     Horror|Thriller|\n",
      "| 184891| 6.979526042938232|Don't Talk to Ire...|  (no genres listed)|\n",
      "|  92516| 6.920289516448975|She Gods of Shark...|           Adventure|\n",
      "| 206911| 6.917118549346924|Garfield's Thanks...|           Animation|\n",
      "| 134037| 6.902005672454834|War-Time Romance ...|  (no genres listed)|\n",
      "| 142871| 6.900271415710449|O Pátio das Canti...|              Comedy|\n",
      "| 175625| 6.872191429138184|The Dragon Spell ...|Adventure|Animati...|\n",
      "| 155042| 6.864363670349121|Children of Besla...|         Documentary|\n",
      "+-------+------------------+--------------------+--------------------+"
     ]
    }
   ],
   "source": [
    "# Print the recommended movies for the new user with userId 162542.\n",
    "userRecs_joined.show()"
   ]
  }
 ],
 "metadata": {
  "kernelspec": {
   "display_name": "PySpark",
   "language": "",
   "name": "pysparkkernel"
  },
  "language_info": {
   "codemirror_mode": {
    "name": "python",
    "version": 2
   },
   "mimetype": "text/x-python",
   "name": "pyspark",
   "pygments_lexer": "python2"
  }
 },
 "nbformat": 4,
 "nbformat_minor": 4
}
