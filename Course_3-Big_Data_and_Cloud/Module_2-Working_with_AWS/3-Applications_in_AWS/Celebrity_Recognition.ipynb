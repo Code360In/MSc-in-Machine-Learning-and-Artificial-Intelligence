{
 "cells": [
  {
   "cell_type": "markdown",
   "metadata": {},
   "source": [
    "## Celebritiy Rekcognition"
   ]
  },
  {
   "cell_type": "markdown",
   "metadata": {},
   "source": [
    "### Goal\n",
    "The goal of the below case study, is to create an application that detects celebrieties in an image and stores the name of the first celebrity a in database for future purposes.\n",
    "\n",
    "Below are the sequence of steps that you will be doing:\n",
    "\n",
    "#### Preparatory Phase:\n",
    "\n",
    "1. Use CLI to create\n",
    "    - EC2 instance\n",
    "    - RDS instance\n",
    "    - S3 bucket\n",
    "2. Create appropriate role for each service used in the application\n",
    "3. Create an EC2 instance with Jupyter notebook installed\n",
    "\n",
    "\n",
    "#### Implementation phase:\n",
    "\n",
    "1. Upload an image in the S3 bucket\n",
    "2. Create a Lambda function that calls Amazon Rekognition service to detect the celebrities in the image.\n",
    "3. Invoke the Lambda function to extract the celebrity in the image.\n",
    "4. Store the file name and celebrity name in RDS database\n",
    "6. Retrieve the list of all images and details from the database and display in the notebook.\n",
    " "
   ]
  },
  {
   "cell_type": "markdown",
   "metadata": {},
   "source": [
    "### Implementation Phase\n",
    "\n",
    "#### Image Upload "
   ]
  },
  {
   "cell_type": "code",
   "execution_count": null,
   "metadata": {},
   "outputs": [],
   "source": [
    "# installing the boto3 package\n",
    "!pip3 install boto3 --user"
   ]
  },
  {
   "cell_type": "code",
   "execution_count": null,
   "metadata": {},
   "outputs": [],
   "source": [
    "# importing boto3 library to access AWS services in Python\n",
    "import boto3"
   ]
  },
  {
   "cell_type": "code",
   "execution_count": null,
   "metadata": {},
   "outputs": [],
   "source": [
    "# Specifying the attributes for file upload\n",
    "file_name = 'Jeff_Bezos.jpeg'"
   ]
  },
  {
   "cell_type": "code",
   "execution_count": null,
   "metadata": {},
   "outputs": [],
   "source": [
    "# initiating the S3 client\n",
    "s3 = boto3.client('s3')"
   ]
  },
  {
   "cell_type": "code",
   "execution_count": null,
   "metadata": {},
   "outputs": [],
   "source": [
    "# Retrieve the list of existing buckets\n",
    "response = s3.list_buckets()"
   ]
  },
  {
   "cell_type": "code",
   "execution_count": null,
   "metadata": {},
   "outputs": [],
   "source": [
    "# List the bucket names\n",
    "for bucket in response['Buckets']:\n",
    "    print(bucket['name'])"
   ]
  },
  {
   "cell_type": "code",
   "execution_count": null,
   "metadata": {},
   "outputs": [],
   "source": [
    "# Uploading the file on S3\n",
    "bucket = 'testbuck-3'\n",
    "object_name = 'Jeff_Bezos.jpeg'\n",
    "s3.upload_file(file_name, bucket, object_name)"
   ]
  },
  {
   "cell_type": "code",
   "execution_count": null,
   "metadata": {},
   "outputs": [],
   "source": [
    "# Retrieving the list of objects\n",
    "\n",
    "response = s3.list_objects(Bucket=bucket)\n",
    "for object in response['Contents']:\n",
    "    print(object['Key'])"
   ]
  },
  {
   "cell_type": "markdown",
   "metadata": {},
   "source": [
    "#### Lamda function - Creation\n",
    "\n",
    "#Creating the handler file in the folder lambda (to be performed in separate file)"
   ]
  },
  {
   "cell_type": "code",
   "execution_count": null,
   "metadata": {},
   "outputs": [],
   "source": [
    "# Installing boto3 in a target folder\n",
    "\n",
    "!pip3 install boto3 --target ./lambda/boto3 boto3"
   ]
  },
  {
   "cell_type": "code",
   "execution_count": null,
   "metadata": {},
   "outputs": [],
   "source": [
    "# Zipping the files together\n",
    "\n",
    "%cd lambda\n",
    "!zip -r9 ../celebrity_detector.zip ."
   ]
  },
  {
   "cell_type": "code",
   "execution_count": null,
   "metadata": {},
   "outputs": [],
   "source": [
    "# Creating the function\n",
    "\n",
    "!aws lambda create-function \\\n",
    "--function-name celebrity_detector \\\n",
    "--runtime python3.7 \\\n",
    "--zip-file fileb://celebrity_detector.zip \\\n",
    "--handler handler.lambda_handler \\\n",
    "--role arn:aws:iam::549124685073:role/csdrole \\\n",
    "--region us-east-1"
   ]
  },
  {
   "cell_type": "markdown",
   "metadata": {},
   "source": [
    "#### Lamda function - Invoke AWS lambda"
   ]
  },
  {
   "cell_type": "code",
   "execution_count": null,
   "metadata": {},
   "outputs": [],
   "source": [
    "# Invoking the function\n",
    "\n",
    "import json\n",
    "lam = boto3.client('lambda',region_name='us-east-1')\n",
    "\n",
    "response = lam.invoke(FunctionName = 'celebrity_detector',\n",
    "                      InvocationType = 'RequestResponse',\n",
    "                      LogType = 'Tail',\n",
    "                      Payload = json.dumps({\"bucket\":bucket,\"object_name\":object_name}))"
   ]
  },
  {
   "cell_type": "code",
   "execution_count": null,
   "metadata": {},
   "outputs": [],
   "source": [
    "# Storing and printing the results in a variable\n",
    "\n",
    "celebrity_name = response['Payload'].read().decode('utf8')\n",
    "print(celebrity_name)"
   ]
  },
  {
   "cell_type": "markdown",
   "metadata": {},
   "source": [
    "#### Database Operations"
   ]
  },
  {
   "cell_type": "code",
   "execution_count": null,
   "metadata": {},
   "outputs": [],
   "source": [
    "# Installing the connector\n",
    "\n",
    "!pip3 install mysql-connector --user"
   ]
  },
  {
   "cell_type": "code",
   "execution_count": null,
   "metadata": {},
   "outputs": [],
   "source": [
    "# Importing the library\n",
    "\n",
    "import mysql.connector"
   ]
  },
  {
   "cell_type": "code",
   "execution_count": null,
   "metadata": {},
   "outputs": [],
   "source": [
    "# Connector object\n",
    "\n",
    "dbc = mysql.connector.connect(\n",
    "    host = \"test-instance.cpt4oatcfnxe.us-east-1.rds.amazonaws.com\",\n",
    "    user = \"master\",\n",
    "    passwd = \"casestudy\",\n",
    "    port = 3306,\n",
    "    db = \"celebrities\"\n",
    ")"
   ]
  },
  {
   "cell_type": "code",
   "execution_count": null,
   "metadata": {},
   "outputs": [],
   "source": [
    "# Defining the cursor object\n",
    "\n",
    "cur = dbc.cursor()"
   ]
  },
  {
   "cell_type": "code",
   "execution_count": null,
   "metadata": {},
   "outputs": [],
   "source": [
    "# Creating the table\n",
    "\n",
    "cur.execute(\"CREATE TABLE celebrities (image VARCHAR(255), celebrity VARCHAR(255))\")"
   ]
  },
  {
   "cell_type": "code",
   "execution_count": null,
   "metadata": {},
   "outputs": [],
   "source": [
    "# Inserting the values into columns\n",
    "\n",
    "sql = \"INSERT INTO celebrities (image, celebrity) VALUES (%s, %s)\"\n",
    "val = (file_name, celebrity_name)\n",
    "cur.execute(sql, val)"
   ]
  },
  {
   "cell_type": "code",
   "execution_count": null,
   "metadata": {},
   "outputs": [],
   "source": [
    "# Read the stored values from RDS\n",
    "\n",
    "cur.execute(\"SELECT image, celebrities FROM celebrities\")\n",
    "result = cur.fetchall()"
   ]
  },
  {
   "cell_type": "code",
   "execution_count": null,
   "metadata": {},
   "outputs": [],
   "source": [
    "# Displaying the results\n",
    "\n",
    "print(result)"
   ]
  }
 ],
 "metadata": {
  "kernelspec": {
   "display_name": "Python 3",
   "language": "python",
   "name": "python3"
  },
  "language_info": {
   "codemirror_mode": {
    "name": "ipython",
    "version": 3
   },
   "file_extension": ".py",
   "mimetype": "text/x-python",
   "name": "python",
   "nbconvert_exporter": "python",
   "pygments_lexer": "ipython3",
   "version": "3.7.0"
  }
 },
 "nbformat": 4,
 "nbformat_minor": 2
}
