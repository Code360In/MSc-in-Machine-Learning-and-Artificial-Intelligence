{
 "cells": [
  {
   "cell_type": "markdown",
   "metadata": {},
   "source": [
    "### PART A: Frequent Itemset Generation"
   ]
  },
  {
   "cell_type": "code",
   "execution_count": 1,
   "metadata": {
    "colab": {},
    "colab_type": "code",
    "id": "W-IzOGLJqfJW"
   },
   "outputs": [
    {
     "data": {
      "text/html": [
       "<div>\n",
       "<style scoped>\n",
       "    .dataframe tbody tr th:only-of-type {\n",
       "        vertical-align: middle;\n",
       "    }\n",
       "\n",
       "    .dataframe tbody tr th {\n",
       "        vertical-align: top;\n",
       "    }\n",
       "\n",
       "    .dataframe thead th {\n",
       "        text-align: right;\n",
       "    }\n",
       "</style>\n",
       "<table border=\"1\" class=\"dataframe\">\n",
       "  <thead>\n",
       "    <tr style=\"text-align: right;\">\n",
       "      <th></th>\n",
       "      <th>0</th>\n",
       "      <th>1</th>\n",
       "      <th>2</th>\n",
       "      <th>3</th>\n",
       "      <th>4</th>\n",
       "      <th>5</th>\n",
       "      <th>6</th>\n",
       "      <th>7</th>\n",
       "      <th>8</th>\n",
       "      <th>9</th>\n",
       "      <th>10</th>\n",
       "      <th>11</th>\n",
       "      <th>12</th>\n",
       "      <th>13</th>\n",
       "      <th>14</th>\n",
       "      <th>15</th>\n",
       "      <th>16</th>\n",
       "      <th>17</th>\n",
       "      <th>18</th>\n",
       "      <th>19</th>\n",
       "    </tr>\n",
       "  </thead>\n",
       "  <tbody>\n",
       "    <tr>\n",
       "      <th>0</th>\n",
       "      <td>shrimp</td>\n",
       "      <td>almonds</td>\n",
       "      <td>avocado</td>\n",
       "      <td>vegetables mix</td>\n",
       "      <td>green grapes</td>\n",
       "      <td>whole weat flour</td>\n",
       "      <td>yams</td>\n",
       "      <td>cottage cheese</td>\n",
       "      <td>energy drink</td>\n",
       "      <td>tomato juice</td>\n",
       "      <td>low fat yogurt</td>\n",
       "      <td>green tea</td>\n",
       "      <td>honey</td>\n",
       "      <td>salad</td>\n",
       "      <td>mineral water</td>\n",
       "      <td>salmon</td>\n",
       "      <td>antioxydant juice</td>\n",
       "      <td>frozen smoothie</td>\n",
       "      <td>spinach</td>\n",
       "      <td>olive oil</td>\n",
       "    </tr>\n",
       "    <tr>\n",
       "      <th>1</th>\n",
       "      <td>burgers</td>\n",
       "      <td>meatballs</td>\n",
       "      <td>eggs</td>\n",
       "      <td>NaN</td>\n",
       "      <td>NaN</td>\n",
       "      <td>NaN</td>\n",
       "      <td>NaN</td>\n",
       "      <td>NaN</td>\n",
       "      <td>NaN</td>\n",
       "      <td>NaN</td>\n",
       "      <td>NaN</td>\n",
       "      <td>NaN</td>\n",
       "      <td>NaN</td>\n",
       "      <td>NaN</td>\n",
       "      <td>NaN</td>\n",
       "      <td>NaN</td>\n",
       "      <td>NaN</td>\n",
       "      <td>NaN</td>\n",
       "      <td>NaN</td>\n",
       "      <td>NaN</td>\n",
       "    </tr>\n",
       "    <tr>\n",
       "      <th>2</th>\n",
       "      <td>chutney</td>\n",
       "      <td>NaN</td>\n",
       "      <td>NaN</td>\n",
       "      <td>NaN</td>\n",
       "      <td>NaN</td>\n",
       "      <td>NaN</td>\n",
       "      <td>NaN</td>\n",
       "      <td>NaN</td>\n",
       "      <td>NaN</td>\n",
       "      <td>NaN</td>\n",
       "      <td>NaN</td>\n",
       "      <td>NaN</td>\n",
       "      <td>NaN</td>\n",
       "      <td>NaN</td>\n",
       "      <td>NaN</td>\n",
       "      <td>NaN</td>\n",
       "      <td>NaN</td>\n",
       "      <td>NaN</td>\n",
       "      <td>NaN</td>\n",
       "      <td>NaN</td>\n",
       "    </tr>\n",
       "    <tr>\n",
       "      <th>3</th>\n",
       "      <td>turkey</td>\n",
       "      <td>avocado</td>\n",
       "      <td>NaN</td>\n",
       "      <td>NaN</td>\n",
       "      <td>NaN</td>\n",
       "      <td>NaN</td>\n",
       "      <td>NaN</td>\n",
       "      <td>NaN</td>\n",
       "      <td>NaN</td>\n",
       "      <td>NaN</td>\n",
       "      <td>NaN</td>\n",
       "      <td>NaN</td>\n",
       "      <td>NaN</td>\n",
       "      <td>NaN</td>\n",
       "      <td>NaN</td>\n",
       "      <td>NaN</td>\n",
       "      <td>NaN</td>\n",
       "      <td>NaN</td>\n",
       "      <td>NaN</td>\n",
       "      <td>NaN</td>\n",
       "    </tr>\n",
       "    <tr>\n",
       "      <th>4</th>\n",
       "      <td>mineral water</td>\n",
       "      <td>milk</td>\n",
       "      <td>energy bar</td>\n",
       "      <td>whole wheat rice</td>\n",
       "      <td>green tea</td>\n",
       "      <td>NaN</td>\n",
       "      <td>NaN</td>\n",
       "      <td>NaN</td>\n",
       "      <td>NaN</td>\n",
       "      <td>NaN</td>\n",
       "      <td>NaN</td>\n",
       "      <td>NaN</td>\n",
       "      <td>NaN</td>\n",
       "      <td>NaN</td>\n",
       "      <td>NaN</td>\n",
       "      <td>NaN</td>\n",
       "      <td>NaN</td>\n",
       "      <td>NaN</td>\n",
       "      <td>NaN</td>\n",
       "      <td>NaN</td>\n",
       "    </tr>\n",
       "    <tr>\n",
       "      <th>5</th>\n",
       "      <td>low fat yogurt</td>\n",
       "      <td>NaN</td>\n",
       "      <td>NaN</td>\n",
       "      <td>NaN</td>\n",
       "      <td>NaN</td>\n",
       "      <td>NaN</td>\n",
       "      <td>NaN</td>\n",
       "      <td>NaN</td>\n",
       "      <td>NaN</td>\n",
       "      <td>NaN</td>\n",
       "      <td>NaN</td>\n",
       "      <td>NaN</td>\n",
       "      <td>NaN</td>\n",
       "      <td>NaN</td>\n",
       "      <td>NaN</td>\n",
       "      <td>NaN</td>\n",
       "      <td>NaN</td>\n",
       "      <td>NaN</td>\n",
       "      <td>NaN</td>\n",
       "      <td>NaN</td>\n",
       "    </tr>\n",
       "    <tr>\n",
       "      <th>6</th>\n",
       "      <td>whole wheat pasta</td>\n",
       "      <td>french fries</td>\n",
       "      <td>NaN</td>\n",
       "      <td>NaN</td>\n",
       "      <td>NaN</td>\n",
       "      <td>NaN</td>\n",
       "      <td>NaN</td>\n",
       "      <td>NaN</td>\n",
       "      <td>NaN</td>\n",
       "      <td>NaN</td>\n",
       "      <td>NaN</td>\n",
       "      <td>NaN</td>\n",
       "      <td>NaN</td>\n",
       "      <td>NaN</td>\n",
       "      <td>NaN</td>\n",
       "      <td>NaN</td>\n",
       "      <td>NaN</td>\n",
       "      <td>NaN</td>\n",
       "      <td>NaN</td>\n",
       "      <td>NaN</td>\n",
       "    </tr>\n",
       "    <tr>\n",
       "      <th>7</th>\n",
       "      <td>soup</td>\n",
       "      <td>light cream</td>\n",
       "      <td>shallot</td>\n",
       "      <td>NaN</td>\n",
       "      <td>NaN</td>\n",
       "      <td>NaN</td>\n",
       "      <td>NaN</td>\n",
       "      <td>NaN</td>\n",
       "      <td>NaN</td>\n",
       "      <td>NaN</td>\n",
       "      <td>NaN</td>\n",
       "      <td>NaN</td>\n",
       "      <td>NaN</td>\n",
       "      <td>NaN</td>\n",
       "      <td>NaN</td>\n",
       "      <td>NaN</td>\n",
       "      <td>NaN</td>\n",
       "      <td>NaN</td>\n",
       "      <td>NaN</td>\n",
       "      <td>NaN</td>\n",
       "    </tr>\n",
       "    <tr>\n",
       "      <th>8</th>\n",
       "      <td>frozen vegetables</td>\n",
       "      <td>spaghetti</td>\n",
       "      <td>green tea</td>\n",
       "      <td>NaN</td>\n",
       "      <td>NaN</td>\n",
       "      <td>NaN</td>\n",
       "      <td>NaN</td>\n",
       "      <td>NaN</td>\n",
       "      <td>NaN</td>\n",
       "      <td>NaN</td>\n",
       "      <td>NaN</td>\n",
       "      <td>NaN</td>\n",
       "      <td>NaN</td>\n",
       "      <td>NaN</td>\n",
       "      <td>NaN</td>\n",
       "      <td>NaN</td>\n",
       "      <td>NaN</td>\n",
       "      <td>NaN</td>\n",
       "      <td>NaN</td>\n",
       "      <td>NaN</td>\n",
       "    </tr>\n",
       "    <tr>\n",
       "      <th>9</th>\n",
       "      <td>french fries</td>\n",
       "      <td>NaN</td>\n",
       "      <td>NaN</td>\n",
       "      <td>NaN</td>\n",
       "      <td>NaN</td>\n",
       "      <td>NaN</td>\n",
       "      <td>NaN</td>\n",
       "      <td>NaN</td>\n",
       "      <td>NaN</td>\n",
       "      <td>NaN</td>\n",
       "      <td>NaN</td>\n",
       "      <td>NaN</td>\n",
       "      <td>NaN</td>\n",
       "      <td>NaN</td>\n",
       "      <td>NaN</td>\n",
       "      <td>NaN</td>\n",
       "      <td>NaN</td>\n",
       "      <td>NaN</td>\n",
       "      <td>NaN</td>\n",
       "      <td>NaN</td>\n",
       "    </tr>\n",
       "  </tbody>\n",
       "</table>\n",
       "</div>"
      ],
      "text/plain": [
       "                  0             1           2                 3   \\\n",
       "0             shrimp       almonds     avocado    vegetables mix   \n",
       "1            burgers     meatballs        eggs               NaN   \n",
       "2            chutney           NaN         NaN               NaN   \n",
       "3             turkey       avocado         NaN               NaN   \n",
       "4      mineral water          milk  energy bar  whole wheat rice   \n",
       "5     low fat yogurt           NaN         NaN               NaN   \n",
       "6  whole wheat pasta  french fries         NaN               NaN   \n",
       "7               soup   light cream     shallot               NaN   \n",
       "8  frozen vegetables     spaghetti   green tea               NaN   \n",
       "9       french fries           NaN         NaN               NaN   \n",
       "\n",
       "             4                 5     6               7             8   \\\n",
       "0  green grapes  whole weat flour  yams  cottage cheese  energy drink   \n",
       "1           NaN               NaN   NaN             NaN           NaN   \n",
       "2           NaN               NaN   NaN             NaN           NaN   \n",
       "3           NaN               NaN   NaN             NaN           NaN   \n",
       "4     green tea               NaN   NaN             NaN           NaN   \n",
       "5           NaN               NaN   NaN             NaN           NaN   \n",
       "6           NaN               NaN   NaN             NaN           NaN   \n",
       "7           NaN               NaN   NaN             NaN           NaN   \n",
       "8           NaN               NaN   NaN             NaN           NaN   \n",
       "9           NaN               NaN   NaN             NaN           NaN   \n",
       "\n",
       "             9               10         11     12     13             14  \\\n",
       "0  tomato juice  low fat yogurt  green tea  honey  salad  mineral water   \n",
       "1           NaN             NaN        NaN    NaN    NaN            NaN   \n",
       "2           NaN             NaN        NaN    NaN    NaN            NaN   \n",
       "3           NaN             NaN        NaN    NaN    NaN            NaN   \n",
       "4           NaN             NaN        NaN    NaN    NaN            NaN   \n",
       "5           NaN             NaN        NaN    NaN    NaN            NaN   \n",
       "6           NaN             NaN        NaN    NaN    NaN            NaN   \n",
       "7           NaN             NaN        NaN    NaN    NaN            NaN   \n",
       "8           NaN             NaN        NaN    NaN    NaN            NaN   \n",
       "9           NaN             NaN        NaN    NaN    NaN            NaN   \n",
       "\n",
       "       15                 16               17       18         19  \n",
       "0  salmon  antioxydant juice  frozen smoothie  spinach  olive oil  \n",
       "1     NaN                NaN              NaN      NaN        NaN  \n",
       "2     NaN                NaN              NaN      NaN        NaN  \n",
       "3     NaN                NaN              NaN      NaN        NaN  \n",
       "4     NaN                NaN              NaN      NaN        NaN  \n",
       "5     NaN                NaN              NaN      NaN        NaN  \n",
       "6     NaN                NaN              NaN      NaN        NaN  \n",
       "7     NaN                NaN              NaN      NaN        NaN  \n",
       "8     NaN                NaN              NaN      NaN        NaN  \n",
       "9     NaN                NaN              NaN      NaN        NaN  "
      ]
     },
     "execution_count": 1,
     "metadata": {},
     "output_type": "execute_result"
    }
   ],
   "source": [
    "# Importing the libraries and the dataset\n",
    "\n",
    "import numpy as np \n",
    "import pandas as pd\n",
    "\n",
    "Market_Data = pd.read_csv('Market_Basket_Optimisation.csv',index_col=None, header = None ) # Use your local path here\n",
    "\n",
    "Market_Data.head(10)"
   ]
  },
  {
   "cell_type": "code",
   "execution_count": 2,
   "metadata": {},
   "outputs": [],
   "source": [
    "# Converting the Market Dataset into a nested list\n",
    "dataSet = []\n",
    "\n",
    "for index, transaction in Market_Data.iterrows():\n",
    "    cleaned_transaction = transaction[~transaction.isnull()].tolist()\n",
    "    dataSet.append(cleaned_transaction)"
   ]
  },
  {
   "cell_type": "markdown",
   "metadata": {},
   "source": [
    "#### 1. The createItem function"
   ]
  },
  {
   "cell_type": "code",
   "execution_count": 3,
   "metadata": {
    "colab": {},
    "colab_type": "code",
    "id": "tJWZCKKWqfJn"
   },
   "outputs": [],
   "source": [
    "# For the given dataset writing a function to return the list of distinct items in the dataset\n",
    "\n",
    "def createItem(dataSet):\n",
    "    \n",
    "    itemList = []\n",
    "    \n",
    "    for transaction in dataSet:\n",
    "        for item in transaction:\n",
    "            if not [item] in itemList:\n",
    "                \n",
    "                 # creating unique single lists in Itemlist. ie list of all items\n",
    "                itemList.append([item])\n",
    "                \n",
    "    itemList.sort()\n",
    "    \n",
    "    return list(map(frozenset, itemList))"
   ]
  },
  {
   "cell_type": "markdown",
   "metadata": {},
   "source": [
    "#### 2. The scanData function"
   ]
  },
  {
   "cell_type": "code",
   "execution_count": 4,
   "metadata": {
    "colab": {},
    "colab_type": "code",
    "id": "tJWZCKKWqfJn"
   },
   "outputs": [],
   "source": [
    "# Returns an Itemset and dictionary with Support values\n",
    "\n",
    "def scanData(data, itemsetk, minSupport):\n",
    "    \n",
    "    tempDict = {}\n",
    "    \n",
    "    for transaction in data:\n",
    "        for item in itemsetk:\n",
    "            if item.issubset(transaction):\n",
    "                if not item in tempDict: \n",
    "                    tempDict[item]=1 # tempDict contains number of all items\n",
    "                else: \n",
    "                    tempDict[item] += 1\n",
    "    \n",
    "    numItems = float(len(data))\n",
    "    freqItemset = []\n",
    "    supportDict = {}\n",
    "    \n",
    "    for key in tempDict:\n",
    "        support = tempDict[key]/numItems \n",
    "        \n",
    "        if support >= minSupport:\n",
    "            freqItemset.insert(0,key) # freqItemset contains all frequent items\n",
    "        supportDict[key] = support # contains support of all items\n",
    "    \n",
    "    return freqItemset, supportDict"
   ]
  },
  {
   "cell_type": "markdown",
   "metadata": {},
   "source": [
    "#### 3. The itemSetGenerator function"
   ]
  },
  {
   "cell_type": "code",
   "execution_count": 5,
   "metadata": {
    "colab": {},
    "colab_type": "code",
    "id": "tJWZCKKWqfJn"
   },
   "outputs": [],
   "source": [
    "# Creating Higher order Itemsets\n",
    "\n",
    "def itemSetGenerator(itemsetk, k):\n",
    " \n",
    "    higherOrderitemset = []\n",
    "    lenitemsetk = len(itemsetk)\n",
    "    \n",
    "    \n",
    "    for i in range(lenitemsetk):\n",
    "        for j in range(i+1, lenitemsetk): \n",
    "            L1 = sorted(list(itemsetk[i]))[:k-2] \n",
    "            L2 = sorted(list(itemsetk[j]))[:k-2] \n",
    "            \n",
    "            # Two frequent itemsets of order k are merged only if their k-1 itemsets are identical\n",
    "            if L1 == L2:\n",
    "                higherOrderitemset.append(itemsetk[i] | itemsetk[j]) # Performing set union creates itemset with n+1 items\n",
    "               \n",
    "    return higherOrderitemset"
   ]
  },
  {
   "cell_type": "markdown",
   "metadata": {},
   "source": [
    "#### 4. Frequent Itemsets Generation"
   ]
  },
  {
   "cell_type": "code",
   "execution_count": 6,
   "metadata": {
    "colab": {},
    "colab_type": "code",
    "id": "tJWZCKKWqfJn"
   },
   "outputs": [],
   "source": [
    "def apriori(dataSet, minSupport):\n",
    "    \n",
    "    itemList = createItem(dataSet) # Creating frozenset of items\n",
    "    \n",
    "    \n",
    "    # Generating all the frequent 1-itemsets and the support of those items\n",
    "    freqItemset1, supportDict = scanData(dataSet, itemList, minSupport)\n",
    "    freqItemsets = [freqItemset1]\n",
    "    k = 2 \n",
    "    \n",
    "    while (len(freqItemsets[k-2]) > 0): # Incrementing k until we no longer find any kth order itemsets\n",
    "        \n",
    "        itemsetk = itemSetGenerator(freqItemsets[k-2], k) # Generating itemsets of order k\n",
    "        \n",
    "        # Generating the frequent itemset for the kth order and support for each of these itemsets\n",
    "        freqItemsetk, supportDictk = scanData(dataSet, itemsetk, minSupport) \n",
    "        \n",
    "        supportDict.update(supportDictk)\n",
    "        freqItemsets.append(freqItemsetk)\n",
    "        \n",
    "        k += 1\n",
    "    return freqItemsets, supportDict"
   ]
  },
  {
   "cell_type": "markdown",
   "metadata": {},
   "source": [
    "Calculate the maximum possible two itemsets.\n",
    "- 140\n",
    "- 120\n",
    "- 7140\n",
    "- 5240"
   ]
  },
  {
   "cell_type": "code",
   "execution_count": 7,
   "metadata": {},
   "outputs": [
    {
     "data": {
      "text/plain": [
       "120"
      ]
     },
     "execution_count": 7,
     "metadata": {},
     "output_type": "execute_result"
    }
   ],
   "source": [
    "# Identify the distinct items involved in the dataset\n",
    "\n",
    "\"\"\"\n",
    "To identify the maximum possible two itemsets, the first step would be to identify \n",
    "the total number of items in the given dataset.\n",
    "\"\"\"\n",
    "\n",
    "Items = createItem(dataSet)\n",
    "len(Items)"
   ]
  },
  {
   "cell_type": "code",
   "execution_count": 8,
   "metadata": {},
   "outputs": [
    {
     "name": "stdout",
     "output_type": "stream",
     "text": [
      "7140\n"
     ]
    }
   ],
   "source": [
    "# Calculate the number of possible two itemsets\n",
    "\"\"\"\n",
    "Next step is to calculate nCr since you need all the possible two-item combinations. \n",
    "Here n is the total number of distinct items\n",
    "\n",
    "120C2 = 7140 \n",
    "\n",
    "Note: Instead of calculating this manually, you can write a function to \n",
    "calculate nCr for given values of n and r.\n",
    "\"\"\"\n",
    "import operator as op\n",
    "from functools import reduce\n",
    "\n",
    "def ncr(n, r):\n",
    "    r = min(r, n-r)\n",
    "    numer = reduce(op.mul, range(n, n-r, -1), 1)\n",
    "    denom = reduce(op.mul, range(1, r+1), 1)\n",
    "    return numer // denom\n",
    "\n",
    "print(ncr(120, 2))"
   ]
  },
  {
   "cell_type": "markdown",
   "metadata": {},
   "source": [
    " Identify the support of itemset {'eggs','mineral water','spaghetti'} [ Round the value upto three decimal points]\n",
    "\n",
    "- 0.022\n",
    "- 0.034\n",
    "- 0.014\n",
    "- 0.052\n",
    "\n",
    "Identify the number of transaction where items eggs, mineral water and spaghetti are bought together\n",
    "\n",
    "- 165\n",
    "- 255\n",
    "- 392\n",
    "- 107"
   ]
  },
  {
   "cell_type": "code",
   "execution_count": 10,
   "metadata": {},
   "outputs": [
    {
     "name": "stdout",
     "output_type": "stream",
     "text": [
      "Support for itemset {'eggs', 'mineral water', 'spaghetti'} = 0.014264764698040262\n"
     ]
    }
   ],
   "source": [
    "# Find the support of the itemset {'eggs', 'mineral water', 'spaghetti'}\n",
    "\n",
    "\"\"\"\n",
    "In the frequent itemset generation phase, a support dictionary is created \n",
    "with itemset as the key and support as the value. You can find the \n",
    "support value of the given itemset using this support dictionary.\n",
    "\n",
    "\"\"\"\n",
    "\n",
    "freqItemsets, supportDict = apriori(dataSet, 0.001)\n",
    "x = frozenset({'eggs', 'mineral water', 'spaghetti'})\n",
    "supportX = supportDict[x]\n",
    "print(f\"Support for itemset {{'eggs', 'mineral water', 'spaghetti'}} = {supportX}\")"
   ]
  },
  {
   "cell_type": "code",
   "execution_count": 11,
   "metadata": {},
   "outputs": [
    {
     "name": "stdout",
     "output_type": "stream",
     "text": [
      "Total number of transaction for the itemset {'eggs', 'mineral water', 'spaghetti'} = 107.0\n"
     ]
    }
   ],
   "source": [
    "# Identify the total number of Transactions in the dataset\n",
    "\n",
    "lengthTxn = len(dataSet)\n",
    "print(f\"Total number of transaction for the itemset {{'eggs', 'mineral water', 'spaghetti'}} = {supportX * lengthTxn}\")\n"
   ]
  },
  {
   "cell_type": "markdown",
   "metadata": {},
   "source": [
    "Identify the number of frequent itemsets involving both chocolate and mineral water if minSupport is defined as 0.001\n",
    "\n",
    "- 244\n",
    "- 502\n",
    "- 343\n",
    "- 156"
   ]
  },
  {
   "cell_type": "code",
   "execution_count": 12,
   "metadata": {},
   "outputs": [],
   "source": [
    "# Generate the frequent itemsets when minSupport = 0.001\n",
    "\n",
    "\"\"\"\n",
    "First, you generate all the frequent itemsets.\n",
    "\"\"\"\n",
    "\n",
    "freqItemsets, supportDict= apriori(dataSet, minSupport=0.001)\n"
   ]
  },
  {
   "cell_type": "code",
   "execution_count": 13,
   "metadata": {},
   "outputs": [
    {
     "name": "stdout",
     "output_type": "stream",
     "text": [
      "245\n"
     ]
    }
   ],
   "source": [
    "# Write a code to find the number of frequent itemset containing both chocolate and mineral water\n",
    "\n",
    "\"\"\"\n",
    "Then you write a function to check if a particular frequent \n",
    "itemset contains the items chocolate and mineral water.\n",
    "\"\"\"\n",
    "\n",
    "x = frozenset({'chocolate', 'mineral water'})\n",
    "count = 0\n",
    "\n",
    "for itemsetsK in freqItemsets:\n",
    "    for items in itemsetsK:\n",
    "        if items.intersection(x) == frozenset({'chocolate', 'mineral water'}) :\n",
    "            count = count +1\n",
    "                   \n",
    "print(count)\n"
   ]
  },
  {
   "cell_type": "markdown",
   "metadata": {},
   "source": [
    "### PART B: Rule Generation"
   ]
  },
  {
   "cell_type": "markdown",
   "metadata": {},
   "source": [
    "#### 5. The ‘calcConf’ function"
   ]
  },
  {
   "cell_type": "code",
   "execution_count": 14,
   "metadata": {
    "colab": {},
    "colab_type": "code",
    "id": "SelwPmIDqfKE"
   },
   "outputs": [],
   "source": [
    "def calcConf(freqSet, H, supportDict, bigRuleList, minConf, minLift):\n",
    "\n",
    "    prunedH = []\n",
    "    \n",
    "    for conseq in H:\n",
    "        # calculate confidence\n",
    "        conf = supportDict[freqSet]/supportDict[freqSet - conseq] \n",
    "        \n",
    "        # calculate lift\n",
    "        lift = supportDict[freqSet]/(supportDict[freqSet - conseq]*supportDict[conseq])\n",
    "        \n",
    "        if conf >= minConf and lift >= minLift:\n",
    "            bigRuleList.append((freqSet-conseq, conseq, conf, lift))\n",
    "            print(freqSet-conseq, '--->', conseq, '; confidence = ', \"{:.5f}\".format(conf), ', lift = ', \"{:.5f}\".format(lift))\n",
    "            prunedH.append(conseq)\n",
    "\n",
    "    return prunedH"
   ]
  },
  {
   "cell_type": "markdown",
   "metadata": {},
   "source": [
    "#### 6. The rulesFromConseq function\n"
   ]
  },
  {
   "cell_type": "code",
   "execution_count": 15,
   "metadata": {
    "colab": {},
    "colab_type": "code",
    "id": "SelwPmIDqfKE"
   },
   "outputs": [],
   "source": [
    "def rulesFromConseq(freqSet, H, supportDict, bigRuleList, minConf, minLift):\n",
    "\n",
    "    m = len(H[0]) # Order of the consequent while generating the rules\n",
    "         \n",
    "    H = calcConf(freqSet, H, supportDict, bigRuleList, minConf, minLift)\n",
    "    if len(H)>1: # For len(H)<=1, you cannot generate higher order cadnidates\n",
    "        \n",
    "        # creating higher order candidates\n",
    "        Hmp1 = itemSetGenerator(H, m+1) \n",
    "        \n",
    "        if Hmp1 == []: # This will happen if higher order consequent itemsets are not possible\n",
    "            # Hmp1 will be an empty list if the itemsets in H don't satisfy the condition for merging\n",
    "            return 0\n",
    "        \n",
    "        if (len(Hmp1[0]) < len(freqSet)):\n",
    "            # Generate rules while the order of the itemsets in Hmp1 is less than the number of items in the frequent itemset\n",
    "            rulesFromConseq(freqSet, Hmp1, supportDict, bigRuleList, minConf, minLift)"
   ]
  },
  {
   "cell_type": "markdown",
   "metadata": {},
   "source": [
    "#### 7. The generateRules function\n"
   ]
  },
  {
   "cell_type": "code",
   "execution_count": 16,
   "metadata": {
    "colab": {},
    "colab_type": "code",
    "id": "SelwPmIDqfKE"
   },
   "outputs": [],
   "source": [
    "def generateRules(freqItemsets, supportDict, minConf, minLift):  #supportDict is a dictionary coming from scanData\n",
    "    bigRuleList = []\n",
    "    for i in range(1, len(freqItemsets)): # Only get the sets with two or more items\n",
    "        for freqSet in freqItemsets[i]:\n",
    "            H1 = [frozenset([item]) for item in freqSet]  \n",
    "            if (i > 1):\n",
    "                rulesFromConseq(freqSet, H1, supportDict, bigRuleList, minConf, minLift)\n",
    "            else:\n",
    "                calcConf(freqSet, H1, supportDict, bigRuleList, minConf, minLift)\n",
    "    return bigRuleList "
   ]
  },
  {
   "cell_type": "code",
   "execution_count": 17,
   "metadata": {},
   "outputs": [],
   "source": [
    "# In the code for generating rules, implement the computation of Lift\n",
    "\n",
    "\n",
    "\"\"\"\n",
    "In the code to generate rules, you need to add a new metric lift. \n",
    "For this, you can do either of the two things; You can modify the code \n",
    "such that each method takes metric lift as an input parameter specified \n",
    "by the user. or During the computation of confidence, you can add the \n",
    "computation for lift. Then you can generate the rules append rules to \n",
    "the final list only when the lift is greater than the specified value\n",
    "\n",
    "\"\"\"\n",
    "\n",
    "\n",
    "minSupport=0.05\n",
    "\n",
    "\n",
    "freqItemsets, supportDict= apriori(dataSet, minSupport)\n",
    "\n"
   ]
  },
  {
   "cell_type": "code",
   "execution_count": 18,
   "metadata": {},
   "outputs": [
    {
     "name": "stdout",
     "output_type": "stream",
     "text": [
      "frozenset({'mineral water'}) ---> frozenset({'chocolate'}) ; confidence =  0.22092 , lift =  1.34833\n",
      "frozenset({'chocolate'}) ---> frozenset({'mineral water'}) ; confidence =  0.32140 , lift =  1.34833\n",
      "frozenset({'mineral water'}) ---> frozenset({'spaghetti'}) ; confidence =  0.25056 , lift =  1.43909\n",
      "frozenset({'spaghetti'}) ---> frozenset({'mineral water'}) ; confidence =  0.34303 , lift =  1.43909\n"
     ]
    }
   ],
   "source": [
    "# Generate the rules when minSupport = 0.05, minConfidence = 0.2 and lift >1.2 \n",
    "minConfidence = 0.2\n",
    "minLift = 1.2\n",
    "rules= generateRules(freqItemsets, supportDict, minConfidence, minLift)\n"
   ]
  },
  {
   "cell_type": "code",
   "execution_count": 19,
   "metadata": {},
   "outputs": [
    {
     "data": {
      "text/plain": [
       "4"
      ]
     },
     "execution_count": 19,
     "metadata": {},
     "output_type": "execute_result"
    }
   ],
   "source": [
    "# count the number of rules\n",
    "\n",
    "len(rules)"
   ]
  },
  {
   "cell_type": "markdown",
   "metadata": {},
   "source": [
    "Imagine that for some threshold support value, the itemset  {'eggs','chocolate','spaghetti'} is found to be a frequent itemset. Now for the rule {'chocolate'} --> {'spaghetti', 'eggs'} to be valid what can be the max value of minConfidence? [More than one answer type question]\n",
    "\n",
    "- 0.08\n",
    "- 0.04\n",
    "- 0.06\n",
    "- 0.01"
   ]
  },
  {
   "cell_type": "code",
   "execution_count": 20,
   "metadata": {},
   "outputs": [],
   "source": [
    "#Itendify the support of {'eggs', 'mineral water', 'chocolate'}\n",
    "\n",
    "\n"
   ]
  },
  {
   "cell_type": "code",
   "execution_count": 21,
   "metadata": {},
   "outputs": [],
   "source": [
    "# What will be the confidence of the rule {'chocolate'} --> {'spaghetti', 'eggs'}\n",
    "\n",
    "\n"
   ]
  },
  {
   "cell_type": "markdown",
   "metadata": {},
   "source": [
    "It is given that “for some threshold support, the itemset \n",
    "{'eggs','chocolate', 'spaghetti'} is found to be frequent”.\n",
    "For this statement to be valid you need to assume a minSupport \n",
    "such that this will be part of the frequent itemsets. \n",
    "\n",
    "Using the support dictionary identify the supports of  itemsets \n",
    "{'chocolate'} and {'eggs','chocolate','spaghetti'}. \n",
    "\n",
    "Using these two values you can find the confidence of the rule \n",
    "{'chocolate'} --> {'spaghetti', 'eggs'}. \n",
    "\n",
    "Finally, for this rule to be valid, the value of minimum Confidence should be \n",
    "less than the calculated value.\n",
    "\n",
    "\n",
    "Ans: 0.01, 0.04, 0.06\n"
   ]
  }
 ],
 "metadata": {
  "colab": {
   "collapsed_sections": [],
   "name": "Apriori Algorithm.ipynb",
   "provenance": []
  },
  "kernelspec": {
   "display_name": "Python 3",
   "language": "python",
   "name": "python3"
  },
  "language_info": {
   "codemirror_mode": {
    "name": "ipython",
    "version": 3
   },
   "file_extension": ".py",
   "mimetype": "text/x-python",
   "name": "python",
   "nbconvert_exporter": "python",
   "pygments_lexer": "ipython3",
   "version": "3.8.8"
  }
 },
 "nbformat": 4,
 "nbformat_minor": 1
}
