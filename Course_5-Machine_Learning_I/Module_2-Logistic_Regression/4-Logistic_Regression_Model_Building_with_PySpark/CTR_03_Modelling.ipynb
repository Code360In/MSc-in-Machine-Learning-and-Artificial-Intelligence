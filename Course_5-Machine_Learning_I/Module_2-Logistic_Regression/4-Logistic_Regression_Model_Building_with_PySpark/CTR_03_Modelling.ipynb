{
 "cells": [
  {
   "cell_type": "code",
   "execution_count": 1,
   "metadata": {
    "execution": {
     "iopub.execute_input": "2022-07-06T11:30:41.064268Z",
     "iopub.status.busy": "2022-07-06T11:30:41.063862Z",
     "iopub.status.idle": "2022-07-06T11:31:31.084006Z",
     "shell.execute_reply": "2022-07-06T11:31:31.083403Z",
     "shell.execute_reply.started": "2022-07-06T11:30:41.064230Z"
    },
    "tags": []
   },
   "outputs": [
    {
     "data": {
      "application/vnd.jupyter.widget-view+json": {
       "model_id": "6d399e2c108d4d24b898442bbe06deac",
       "version_major": 2,
       "version_minor": 0
      },
      "text/plain": [
       "VBox()"
      ]
     },
     "metadata": {},
     "output_type": "display_data"
    },
    {
     "name": "stdout",
     "output_type": "stream",
     "text": [
      "Starting Spark application\n"
     ]
    },
    {
     "data": {
      "text/html": [
       "<table>\n",
       "<tr><th>ID</th><th>YARN Application ID</th><th>Kind</th><th>State</th><th>Spark UI</th><th>Driver log</th><th>User</th><th>Current session?</th></tr><tr><td>2</td><td>application_1657104984405_0003</td><td>pyspark</td><td>idle</td><td><a target=\"_blank\" href=\"http://ip-172-31-26-8.ec2.internal:20888/proxy/application_1657104984405_0003/\" class=\"emr-proxy-link\" emr-resource=\"j-CML9YXJXVZ4F\n",
       "\" application-id=\"application_1657104984405_0003\">Link</a></td><td><a target=\"_blank\" href=\"http://ip-172-31-22-25.ec2.internal:8042/node/containerlogs/container_1657104984405_0003_01_000001/livy\" >Link</a></td><td>None</td><td>✔</td></tr></table>"
      ],
      "text/plain": [
       "<IPython.core.display.HTML object>"
      ]
     },
     "metadata": {},
     "output_type": "display_data"
    },
    {
     "data": {
      "application/vnd.jupyter.widget-view+json": {
       "model_id": "",
       "version_major": 2,
       "version_minor": 0
      },
      "text/plain": [
       "FloatProgress(value=0.0, bar_style='info', description='Progress:', layout=Layout(height='25px', width='50%'),…"
      ]
     },
     "metadata": {},
     "output_type": "display_data"
    },
    {
     "name": "stdout",
     "output_type": "stream",
     "text": [
      "SparkSession available as 'spark'.\n"
     ]
    },
    {
     "data": {
      "application/vnd.jupyter.widget-view+json": {
       "model_id": "",
       "version_major": 2,
       "version_minor": 0
      },
      "text/plain": [
       "FloatProgress(value=0.0, bar_style='info', description='Progress:', layout=Layout(height='25px', width='50%'),…"
      ]
     },
     "metadata": {},
     "output_type": "display_data"
    },
    {
     "name": "stdout",
     "output_type": "stream",
     "text": [
      "root\n",
      " |-- click: boolean (nullable = true)\n",
      " |-- C1: integer (nullable = true)\n",
      " |-- banner_pos: integer (nullable = true)\n",
      " |-- site_id: string (nullable = true)\n",
      " |-- site_domain: string (nullable = true)\n",
      " |-- site_category: string (nullable = true)\n",
      " |-- app_id: string (nullable = true)\n",
      " |-- app_domain: string (nullable = true)\n",
      " |-- app_category: string (nullable = true)\n",
      " |-- device_id: string (nullable = true)\n",
      " |-- device_ip: string (nullable = true)\n",
      " |-- device_model: string (nullable = true)\n",
      " |-- device_type: integer (nullable = true)\n",
      " |-- device_conn_type: integer (nullable = true)\n",
      " |-- C14: integer (nullable = true)\n",
      " |-- C15: integer (nullable = true)\n",
      " |-- C16: integer (nullable = true)\n",
      " |-- C17: integer (nullable = true)\n",
      " |-- C18: integer (nullable = true)\n",
      " |-- C19: integer (nullable = true)\n",
      " |-- C20: integer (nullable = true)\n",
      " |-- C21: integer (nullable = true)\n",
      " |-- month: integer (nullable = true)\n",
      " |-- dayofweek: integer (nullable = true)\n",
      " |-- day: integer (nullable = true)\n",
      " |-- hour: integer (nullable = true)"
     ]
    }
   ],
   "source": [
    "df = spark.read.csv('s3://machine-learning-upgrad-bucket/Data_for_Quiz_Segment.csv', header=True, inferSchema=True)\n",
    "df.printSchema()"
   ]
  },
  {
   "cell_type": "code",
   "execution_count": 2,
   "metadata": {
    "execution": {
     "iopub.execute_input": "2022-07-06T11:31:31.085557Z",
     "iopub.status.busy": "2022-07-06T11:31:31.085296Z",
     "iopub.status.idle": "2022-07-06T11:31:31.358470Z",
     "shell.execute_reply": "2022-07-06T11:31:31.357631Z",
     "shell.execute_reply.started": "2022-07-06T11:31:31.085520Z"
    },
    "tags": []
   },
   "outputs": [
    {
     "data": {
      "application/vnd.jupyter.widget-view+json": {
       "model_id": "a0ddb72dcd144d3c8877c4653bdcd2ac",
       "version_major": 2,
       "version_minor": 0
      },
      "text/plain": [
       "VBox()"
      ]
     },
     "metadata": {},
     "output_type": "display_data"
    },
    {
     "data": {
      "application/vnd.jupyter.widget-view+json": {
       "model_id": "",
       "version_major": 2,
       "version_minor": 0
      },
      "text/plain": [
       "FloatProgress(value=0.0, bar_style='info', description='Progress:', layout=Layout(height='25px', width='50%'),…"
      ]
     },
     "metadata": {},
     "output_type": "display_data"
    }
   ],
   "source": [
    "#Same fucntion as earlier to draw a sample from the data set. \n",
    "\n",
    "from pyspark.sql.types import IntegerType\n",
    "from math import floor\n",
    "from pyspark.sql.functions import rand\n",
    "from pyspark.sql.functions import col\n",
    "\n",
    "def stratifiedSample(df, N, labelCol=\"y\"):\n",
    "    ctx = df.groupby(labelCol).count()\n",
    "    ctx = ctx.withColumn('frac', col(\"count\") / df.count())\n",
    "    frac = ctx.select(\"y\", \"frac\").rdd.collectAsMap()\n",
    "    pos = int(floor(frac[1] * N))\n",
    "    neg = int(floor(frac[0] * N))\n",
    "    posDF = df.filter(col(labelCol) == 1).orderBy(rand()).limit(pos)\n",
    "    negDF = df.filter(col(labelCol) == 0).orderBy(rand()).limit(neg)\n",
    "    return posDF.unionAll(negDF)\n",
    "\n",
    "df = df.withColumn(\"y\", df[\"click\"].cast(IntegerType()))"
   ]
  },
  {
   "cell_type": "code",
   "execution_count": 3,
   "metadata": {
    "execution": {
     "iopub.execute_input": "2022-07-06T11:31:31.360349Z",
     "iopub.status.busy": "2022-07-06T11:31:31.360099Z",
     "iopub.status.idle": "2022-07-06T11:31:34.668678Z",
     "shell.execute_reply": "2022-07-06T11:31:34.667994Z",
     "shell.execute_reply.started": "2022-07-06T11:31:31.360313Z"
    },
    "tags": []
   },
   "outputs": [
    {
     "data": {
      "application/vnd.jupyter.widget-view+json": {
       "model_id": "48bcbb1924c349d099eb6bcdb2a064f8",
       "version_major": 2,
       "version_minor": 0
      },
      "text/plain": [
       "VBox()"
      ]
     },
     "metadata": {},
     "output_type": "display_data"
    },
    {
     "data": {
      "application/vnd.jupyter.widget-view+json": {
       "model_id": "",
       "version_major": 2,
       "version_minor": 0
      },
      "text/plain": [
       "FloatProgress(value=0.0, bar_style='info', description='Progress:', layout=Layout(height='25px', width='50%'),…"
      ]
     },
     "metadata": {},
     "output_type": "display_data"
    }
   ],
   "source": [
    "xdf = stratifiedSample(df, 5_000_000)"
   ]
  },
  {
   "cell_type": "code",
   "execution_count": 4,
   "metadata": {
    "execution": {
     "iopub.execute_input": "2022-07-06T11:31:34.669981Z",
     "iopub.status.busy": "2022-07-06T11:31:34.669806Z",
     "iopub.status.idle": "2022-07-06T11:31:34.742049Z",
     "shell.execute_reply": "2022-07-06T11:31:34.741425Z",
     "shell.execute_reply.started": "2022-07-06T11:31:34.669960Z"
    },
    "tags": []
   },
   "outputs": [
    {
     "data": {
      "application/vnd.jupyter.widget-view+json": {
       "model_id": "dae476052ce44ed0822b228ed08d2e84",
       "version_major": 2,
       "version_minor": 0
      },
      "text/plain": [
       "VBox()"
      ]
     },
     "metadata": {},
     "output_type": "display_data"
    },
    {
     "data": {
      "application/vnd.jupyter.widget-view+json": {
       "model_id": "",
       "version_major": 2,
       "version_minor": 0
      },
      "text/plain": [
       "FloatProgress(value=0.0, bar_style='info', description='Progress:', layout=Layout(height='25px', width='50%'),…"
      ]
     },
     "metadata": {},
     "output_type": "display_data"
    }
   ],
   "source": [
    "#seperate neumerical and catagorical columns into lists for ease of use\n",
    "\n",
    "categorical = ['banner_pos', 'site_category', 'site_domain', 'device_type', 'app_domain', 'app_category',\n",
    "               'device_model']\n",
    "numerical = ['month', 'day', 'hour']"
   ]
  },
  {
   "cell_type": "code",
   "execution_count": 5,
   "metadata": {
    "execution": {
     "iopub.execute_input": "2022-07-06T11:31:34.743487Z",
     "iopub.status.busy": "2022-07-06T11:31:34.743075Z",
     "iopub.status.idle": "2022-07-06T11:31:35.008341Z",
     "shell.execute_reply": "2022-07-06T11:31:35.007593Z",
     "shell.execute_reply.started": "2022-07-06T11:31:34.743328Z"
    },
    "tags": []
   },
   "outputs": [
    {
     "data": {
      "application/vnd.jupyter.widget-view+json": {
       "model_id": "3d379cbf2daa4163befaaa6bb90ccc79",
       "version_major": 2,
       "version_minor": 0
      },
      "text/plain": [
       "VBox()"
      ]
     },
     "metadata": {},
     "output_type": "display_data"
    },
    {
     "data": {
      "application/vnd.jupyter.widget-view+json": {
       "model_id": "",
       "version_major": 2,
       "version_minor": 0
      },
      "text/plain": [
       "FloatProgress(value=0.0, bar_style='info', description='Progress:', layout=Layout(height='25px', width='50%'),…"
      ]
     },
     "metadata": {},
     "output_type": "display_data"
    }
   ],
   "source": [
    "from pyspark.ml.feature import StringIndexer"
   ]
  },
  {
   "cell_type": "code",
   "execution_count": 6,
   "metadata": {
    "execution": {
     "iopub.execute_input": "2022-07-06T11:31:35.009771Z",
     "iopub.status.busy": "2022-07-06T11:31:35.009496Z",
     "iopub.status.idle": "2022-07-06T11:31:37.377236Z",
     "shell.execute_reply": "2022-07-06T11:31:37.376476Z",
     "shell.execute_reply.started": "2022-07-06T11:31:35.009734Z"
    },
    "tags": []
   },
   "outputs": [
    {
     "data": {
      "application/vnd.jupyter.widget-view+json": {
       "model_id": "aff613ecee8b414082968ff8dcb7c76d",
       "version_major": 2,
       "version_minor": 0
      },
      "text/plain": [
       "VBox()"
      ]
     },
     "metadata": {},
     "output_type": "display_data"
    },
    {
     "data": {
      "application/vnd.jupyter.widget-view+json": {
       "model_id": "",
       "version_major": 2,
       "version_minor": 0
      },
      "text/plain": [
       "FloatProgress(value=0.0, bar_style='info', description='Progress:', layout=Layout(height='25px', width='50%'),…"
      ]
     },
     "metadata": {},
     "output_type": "display_data"
    },
    {
     "name": "stdout",
     "output_type": "stream",
     "text": [
      "+----------+-------------+-----------+-----------+----------+------------+------------+\n",
      "|banner_pos|site_category|site_domain|device_type|app_domain|app_category|device_model|\n",
      "+----------+-------------+-----------+-----------+----------+------------+------------+\n",
      "|         0|     28905ebd|   f3845767|          1|  7801e8d9|    07d7df22|    8a4875bd|\n",
      "|         1|     f028772b|   17d996e6|          1|  7801e8d9|    07d7df22|    8a4875bd|\n",
      "|         0|     28905ebd|   f3845767|          1|  7801e8d9|    07d7df22|    be87996b|\n",
      "|         0|     3e814130|   2296b5b3|          1|  7801e8d9|    07d7df22|    6e1e2240|\n",
      "|         1|     f028772b|   7e091613|          1|  7801e8d9|    07d7df22|    e9b8d8d7|\n",
      "+----------+-------------+-----------+-----------+----------+------------+------------+"
     ]
    }
   ],
   "source": [
    "# use the list created earlier to inpect the data. The * used brfore the list signifies that the list can be of any size. \n",
    "xdf.select(*categorical).limit(5).show()"
   ]
  },
  {
   "cell_type": "code",
   "execution_count": 7,
   "metadata": {
    "execution": {
     "iopub.execute_input": "2022-07-06T11:31:37.378631Z",
     "iopub.status.busy": "2022-07-06T11:31:37.378329Z",
     "iopub.status.idle": "2022-07-06T11:31:44.811133Z",
     "shell.execute_reply": "2022-07-06T11:31:44.810261Z",
     "shell.execute_reply.started": "2022-07-06T11:31:37.378598Z"
    },
    "tags": []
   },
   "outputs": [
    {
     "data": {
      "application/vnd.jupyter.widget-view+json": {
       "model_id": "de91cf8960084f1c9c00cf5ea301df7f",
       "version_major": 2,
       "version_minor": 0
      },
      "text/plain": [
       "VBox()"
      ]
     },
     "metadata": {},
     "output_type": "display_data"
    },
    {
     "data": {
      "application/vnd.jupyter.widget-view+json": {
       "model_id": "",
       "version_major": 2,
       "version_minor": 0
      },
      "text/plain": [
       "FloatProgress(value=0.0, bar_style='info', description='Progress:', layout=Layout(height='25px', width='50%'),…"
      ]
     },
     "metadata": {},
     "output_type": "display_data"
    }
   ],
   "source": [
    "# use the list notation to interate through string index for the columns in the list\n",
    "\n",
    "stringCols = ['site_category', 'site_domain', 'app_domain', 'app_category', 'device_model']\n",
    "newCols = []\n",
    "for c in stringCols:\n",
    "    #the putput columns will be marked bu \"_x\" for easy identification\n",
    "    si = StringIndexer(inputCol=c, outputCol=c + '_ix')\n",
    "    xdf = si.fit(xdf).transform(xdf)\n",
    "    # adding the output columns with indexed data into a new list. \n",
    "    newCols.append(c + '_ix')"
   ]
  },
  {
   "cell_type": "code",
   "execution_count": 8,
   "metadata": {
    "execution": {
     "iopub.execute_input": "2022-07-06T11:31:44.813765Z",
     "iopub.status.busy": "2022-07-06T11:31:44.813505Z",
     "iopub.status.idle": "2022-07-06T11:31:44.876080Z",
     "shell.execute_reply": "2022-07-06T11:31:44.875475Z",
     "shell.execute_reply.started": "2022-07-06T11:31:44.813730Z"
    },
    "tags": []
   },
   "outputs": [
    {
     "data": {
      "application/vnd.jupyter.widget-view+json": {
       "model_id": "e5fd0c0b2ede443abeabea334eb08954",
       "version_major": 2,
       "version_minor": 0
      },
      "text/plain": [
       "VBox()"
      ]
     },
     "metadata": {},
     "output_type": "display_data"
    },
    {
     "data": {
      "application/vnd.jupyter.widget-view+json": {
       "model_id": "",
       "version_major": 2,
       "version_minor": 0
      },
      "text/plain": [
       "FloatProgress(value=0.0, bar_style='info', description='Progress:', layout=Layout(height='25px', width='50%'),…"
      ]
     },
     "metadata": {},
     "output_type": "display_data"
    },
    {
     "name": "stdout",
     "output_type": "stream",
     "text": [
      "['site_category_ix', 'site_domain_ix', 'app_domain_ix', 'app_category_ix', 'device_model_ix', 'banner_pos', 'device_type']"
     ]
    }
   ],
   "source": [
    "# add the nuemerical type columns to the list. \n",
    "cCols = newCols + ['banner_pos', 'device_type']\n",
    "cCols"
   ]
  },
  {
   "cell_type": "code",
   "execution_count": 9,
   "metadata": {
    "execution": {
     "iopub.execute_input": "2022-07-06T11:31:44.877347Z",
     "iopub.status.busy": "2022-07-06T11:31:44.877132Z",
     "iopub.status.idle": "2022-07-06T11:31:46.151203Z",
     "shell.execute_reply": "2022-07-06T11:31:46.150629Z",
     "shell.execute_reply.started": "2022-07-06T11:31:44.877321Z"
    },
    "tags": []
   },
   "outputs": [
    {
     "data": {
      "application/vnd.jupyter.widget-view+json": {
       "model_id": "f387a68cae144f2bbc4375bf38cbbb64",
       "version_major": 2,
       "version_minor": 0
      },
      "text/plain": [
       "VBox()"
      ]
     },
     "metadata": {},
     "output_type": "display_data"
    },
    {
     "data": {
      "application/vnd.jupyter.widget-view+json": {
       "model_id": "",
       "version_major": 2,
       "version_minor": 0
      },
      "text/plain": [
       "FloatProgress(value=0.0, bar_style='info', description='Progress:', layout=Layout(height='25px', width='50%'),…"
      ]
     },
     "metadata": {},
     "output_type": "display_data"
    }
   ],
   "source": [
    "#encolde all the columns in the list together\n",
    "from pyspark.ml.feature import OneHotEncoderEstimator\n",
    "\n",
    "ohe = OneHotEncoderEstimator(inputCols=cCols, outputCols=[c+'Enc' for c in cCols])\n",
    "oh_encoder = ohe.fit(xdf)\n",
    "xdf = oh_encoder.transform(xdf)"
   ]
  },
  {
   "cell_type": "code",
   "execution_count": 10,
   "metadata": {
    "execution": {
     "iopub.execute_input": "2022-07-06T11:31:46.152221Z",
     "iopub.status.busy": "2022-07-06T11:31:46.152042Z",
     "iopub.status.idle": "2022-07-06T11:31:46.215018Z",
     "shell.execute_reply": "2022-07-06T11:31:46.214285Z",
     "shell.execute_reply.started": "2022-07-06T11:31:46.152199Z"
    },
    "tags": []
   },
   "outputs": [
    {
     "data": {
      "application/vnd.jupyter.widget-view+json": {
       "model_id": "45fa140474c84b9799f469e5d26dcad2",
       "version_major": 2,
       "version_minor": 0
      },
      "text/plain": [
       "VBox()"
      ]
     },
     "metadata": {},
     "output_type": "display_data"
    },
    {
     "data": {
      "application/vnd.jupyter.widget-view+json": {
       "model_id": "",
       "version_major": 2,
       "version_minor": 0
      },
      "text/plain": [
       "FloatProgress(value=0.0, bar_style='info', description='Progress:', layout=Layout(height='25px', width='50%'),…"
      ]
     },
     "metadata": {},
     "output_type": "display_data"
    }
   ],
   "source": [
    "from pyspark.ml.feature import VectorAssembler\n",
    "from pyspark.ml.classification import LogisticRegression"
   ]
  },
  {
   "cell_type": "code",
   "execution_count": 11,
   "metadata": {
    "execution": {
     "iopub.execute_input": "2022-07-06T11:31:46.217873Z",
     "iopub.status.busy": "2022-07-06T11:31:46.216856Z",
     "iopub.status.idle": "2022-07-06T11:31:46.540018Z",
     "shell.execute_reply": "2022-07-06T11:31:46.539279Z",
     "shell.execute_reply.started": "2022-07-06T11:31:46.217831Z"
    },
    "tags": []
   },
   "outputs": [
    {
     "data": {
      "application/vnd.jupyter.widget-view+json": {
       "model_id": "3b983c0bc11742499f618e64a2e2cf4b",
       "version_major": 2,
       "version_minor": 0
      },
      "text/plain": [
       "VBox()"
      ]
     },
     "metadata": {},
     "output_type": "display_data"
    },
    {
     "data": {
      "application/vnd.jupyter.widget-view+json": {
       "model_id": "",
       "version_major": 2,
       "version_minor": 0
      },
      "text/plain": [
       "FloatProgress(value=0.0, bar_style='info', description='Progress:', layout=Layout(height='25px', width='50%'),…"
      ]
     },
     "metadata": {},
     "output_type": "display_data"
    }
   ],
   "source": [
    "#create a feature vector using the vector assembler. \n",
    "trainCols = [c+'Enc' for c in cCols] + numerical\n",
    "assembler = VectorAssembler(inputCols=trainCols, outputCol='features')\n",
    "xdf = assembler.transform(xdf)"
   ]
  },
  {
   "cell_type": "code",
   "execution_count": 12,
   "metadata": {
    "execution": {
     "iopub.execute_input": "2022-07-06T11:31:46.541485Z",
     "iopub.status.busy": "2022-07-06T11:31:46.541186Z",
     "iopub.status.idle": "2022-07-06T11:32:03.691425Z",
     "shell.execute_reply": "2022-07-06T11:32:03.658121Z",
     "shell.execute_reply.started": "2022-07-06T11:31:46.541447Z"
    },
    "tags": []
   },
   "outputs": [
    {
     "data": {
      "application/vnd.jupyter.widget-view+json": {
       "model_id": "cd11399ce5de4137b9308b76458b9084",
       "version_major": 2,
       "version_minor": 0
      },
      "text/plain": [
       "VBox()"
      ]
     },
     "metadata": {},
     "output_type": "display_data"
    },
    {
     "data": {
      "application/vnd.jupyter.widget-view+json": {
       "model_id": "",
       "version_major": 2,
       "version_minor": 0
      },
      "text/plain": [
       "FloatProgress(value=0.0, bar_style='info', description='Progress:', layout=Layout(height='25px', width='50%'),…"
      ]
     },
     "metadata": {},
     "output_type": "display_data"
    }
   ],
   "source": [
    "#create the logistic regression object\n",
    "lr = LogisticRegression(featuresCol='features', labelCol='y')\n",
    "#Model fit it iver the data \n",
    "model = lr.fit(xdf)\n",
    "#evlautate the data using the evaluate method. \n",
    "result = model.evaluate(xdf)"
   ]
  },
  {
   "cell_type": "code",
   "execution_count": 13,
   "metadata": {
    "execution": {
     "iopub.execute_input": "2022-07-06T11:32:03.701638Z",
     "iopub.status.busy": "2022-07-06T11:32:03.701462Z",
     "iopub.status.idle": "2022-07-06T11:32:06.880950Z",
     "shell.execute_reply": "2022-07-06T11:32:06.871325Z",
     "shell.execute_reply.started": "2022-07-06T11:32:03.701615Z"
    },
    "tags": []
   },
   "outputs": [
    {
     "data": {
      "application/vnd.jupyter.widget-view+json": {
       "model_id": "a0f6a7bb00d4480c8e2456562603c1a1",
       "version_major": 2,
       "version_minor": 0
      },
      "text/plain": [
       "VBox()"
      ]
     },
     "metadata": {},
     "output_type": "display_data"
    },
    {
     "data": {
      "application/vnd.jupyter.widget-view+json": {
       "model_id": "",
       "version_major": 2,
       "version_minor": 0
      },
      "text/plain": [
       "FloatProgress(value=0.0, bar_style='info', description='Progress:', layout=Layout(height='25px', width='50%'),…"
      ]
     },
     "metadata": {},
     "output_type": "display_data"
    },
    {
     "name": "stdout",
     "output_type": "stream",
     "text": [
      "0.8773"
     ]
    }
   ],
   "source": [
    "#getting the result metrics 'accuracy'\n",
    "result.accuracy"
   ]
  },
  {
   "cell_type": "code",
   "execution_count": 14,
   "metadata": {
    "execution": {
     "iopub.execute_input": "2022-07-06T11:32:06.898665Z",
     "iopub.status.busy": "2022-07-06T11:32:06.898494Z",
     "iopub.status.idle": "2022-07-06T11:32:09.282238Z",
     "shell.execute_reply": "2022-07-06T11:32:09.274242Z",
     "shell.execute_reply.started": "2022-07-06T11:32:06.898644Z"
    },
    "tags": []
   },
   "outputs": [
    {
     "data": {
      "application/vnd.jupyter.widget-view+json": {
       "model_id": "da2d31686f4b4e2dbd68f9e10bc9ee9f",
       "version_major": 2,
       "version_minor": 0
      },
      "text/plain": [
       "VBox()"
      ]
     },
     "metadata": {},
     "output_type": "display_data"
    },
    {
     "data": {
      "application/vnd.jupyter.widget-view+json": {
       "model_id": "",
       "version_major": 2,
       "version_minor": 0
      },
      "text/plain": [
       "FloatProgress(value=0.0, bar_style='info', description='Progress:', layout=Layout(height='25px', width='50%'),…"
      ]
     },
     "metadata": {},
     "output_type": "display_data"
    },
    {
     "name": "stdout",
     "output_type": "stream",
     "text": [
      "0.8550420392156863"
     ]
    }
   ],
   "source": [
    "#getting the result metrics 'Area under ROC'\n",
    "result.areaUnderROC"
   ]
  },
  {
   "cell_type": "code",
   "execution_count": 15,
   "metadata": {
    "execution": {
     "iopub.execute_input": "2022-07-06T11:32:09.304970Z",
     "iopub.status.busy": "2022-07-06T11:32:09.304803Z",
     "iopub.status.idle": "2022-07-06T11:32:10.896546Z",
     "shell.execute_reply": "2022-07-06T11:32:10.885740Z",
     "shell.execute_reply.started": "2022-07-06T11:32:09.304948Z"
    },
    "tags": []
   },
   "outputs": [
    {
     "data": {
      "application/vnd.jupyter.widget-view+json": {
       "model_id": "689cada3101a452bb93bc06fa2a334a2",
       "version_major": 2,
       "version_minor": 0
      },
      "text/plain": [
       "VBox()"
      ]
     },
     "metadata": {},
     "output_type": "display_data"
    },
    {
     "data": {
      "application/vnd.jupyter.widget-view+json": {
       "model_id": "",
       "version_major": 2,
       "version_minor": 0
      },
      "text/plain": [
       "FloatProgress(value=0.0, bar_style='info', description='Progress:', layout=Layout(height='25px', width='50%'),…"
      ]
     },
     "metadata": {},
     "output_type": "display_data"
    },
    {
     "name": "stdout",
     "output_type": "stream",
     "text": [
      "[0.9850588235294118, 0.26666666666666666]"
     ]
    }
   ],
   "source": [
    "#getting the result metrics 'Reacll by label'. the first recall is for the label 0 and the second one is for the label 1\n",
    "result.recallByLabel"
   ]
  }
 ],
 "metadata": {
  "kernelspec": {
   "display_name": "PySpark",
   "language": "python",
   "name": "pysparkkernel"
  },
  "language_info": {
   "codemirror_mode": {
    "name": "python",
    "version": 3
   },
   "file_extension": ".py",
   "mimetype": "text/x-python",
   "name": "pyspark",
   "pygments_lexer": "python3"
  }
 },
 "nbformat": 4,
 "nbformat_minor": 4
}
