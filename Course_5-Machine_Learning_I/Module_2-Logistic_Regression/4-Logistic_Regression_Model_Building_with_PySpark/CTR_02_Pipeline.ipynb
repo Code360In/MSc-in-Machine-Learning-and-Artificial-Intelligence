{
 "cells": [
  {
   "cell_type": "code",
   "execution_count": 1,
   "metadata": {
    "execution": {
     "iopub.execute_input": "2022-07-06T11:29:04.479074Z",
     "iopub.status.busy": "2022-07-06T11:29:04.478889Z",
     "iopub.status.idle": "2022-07-06T11:29:38.764469Z",
     "shell.execute_reply": "2022-07-06T11:29:38.763615Z",
     "shell.execute_reply.started": "2022-07-06T11:29:04.479052Z"
    }
   },
   "outputs": [
    {
     "data": {
      "application/vnd.jupyter.widget-view+json": {
       "model_id": "ce8a8937a8374662a4db583fe71d3a08",
       "version_major": 2,
       "version_minor": 0
      },
      "text/plain": [
       "VBox()"
      ]
     },
     "metadata": {},
     "output_type": "display_data"
    },
    {
     "name": "stdout",
     "output_type": "stream",
     "text": [
      "Starting Spark application\n"
     ]
    },
    {
     "data": {
      "text/html": [
       "<table>\n",
       "<tr><th>ID</th><th>YARN Application ID</th><th>Kind</th><th>State</th><th>Spark UI</th><th>Driver log</th><th>User</th><th>Current session?</th></tr><tr><td>1</td><td>application_1657104984405_0002</td><td>pyspark</td><td>idle</td><td><a target=\"_blank\" href=\"http://ip-172-31-26-8.ec2.internal:20888/proxy/application_1657104984405_0002/\" class=\"emr-proxy-link\" emr-resource=\"j-CML9YXJXVZ4F\n",
       "\" application-id=\"application_1657104984405_0002\">Link</a></td><td><a target=\"_blank\" href=\"http://ip-172-31-22-25.ec2.internal:8042/node/containerlogs/container_1657104984405_0002_01_000001/livy\" >Link</a></td><td>None</td><td>✔</td></tr></table>"
      ],
      "text/plain": [
       "<IPython.core.display.HTML object>"
      ]
     },
     "metadata": {},
     "output_type": "display_data"
    },
    {
     "data": {
      "application/vnd.jupyter.widget-view+json": {
       "model_id": "",
       "version_major": 2,
       "version_minor": 0
      },
      "text/plain": [
       "FloatProgress(value=0.0, bar_style='info', description='Progress:', layout=Layout(height='25px', width='50%'),…"
      ]
     },
     "metadata": {},
     "output_type": "display_data"
    },
    {
     "name": "stdout",
     "output_type": "stream",
     "text": [
      "SparkSession available as 'spark'.\n"
     ]
    },
    {
     "data": {
      "application/vnd.jupyter.widget-view+json": {
       "model_id": "",
       "version_major": 2,
       "version_minor": 0
      },
      "text/plain": [
       "FloatProgress(value=0.0, bar_style='info', description='Progress:', layout=Layout(height='25px', width='50%'),…"
      ]
     },
     "metadata": {},
     "output_type": "display_data"
    },
    {
     "name": "stdout",
     "output_type": "stream",
     "text": [
      "root\n",
      " |-- click: boolean (nullable = true)\n",
      " |-- C1: integer (nullable = true)\n",
      " |-- banner_pos: integer (nullable = true)\n",
      " |-- site_id: string (nullable = true)\n",
      " |-- site_domain: string (nullable = true)\n",
      " |-- site_category: string (nullable = true)\n",
      " |-- app_id: string (nullable = true)\n",
      " |-- app_domain: string (nullable = true)\n",
      " |-- app_category: string (nullable = true)\n",
      " |-- device_id: string (nullable = true)\n",
      " |-- device_ip: string (nullable = true)\n",
      " |-- device_model: string (nullable = true)\n",
      " |-- device_type: integer (nullable = true)\n",
      " |-- device_conn_type: integer (nullable = true)\n",
      " |-- C14: integer (nullable = true)\n",
      " |-- C15: integer (nullable = true)\n",
      " |-- C16: integer (nullable = true)\n",
      " |-- C17: integer (nullable = true)\n",
      " |-- C18: integer (nullable = true)\n",
      " |-- C19: integer (nullable = true)\n",
      " |-- C20: integer (nullable = true)\n",
      " |-- C21: integer (nullable = true)\n",
      " |-- month: integer (nullable = true)\n",
      " |-- dayofweek: integer (nullable = true)\n",
      " |-- day: integer (nullable = true)\n",
      " |-- hour: integer (nullable = true)"
     ]
    }
   ],
   "source": [
    "#Reading the data from the S3 bucket. \n",
    "#Note: to initialise spark session 'spark' was not called. Directly running a spark command will create a spark session by itself.  \n",
    "\n",
    "df = spark.read.csv('s3://machine-learning-upgrad-bucket/Data_for_Quiz_Segment.csv', header=True, inferSchema=True)\n",
    "df.printSchema()"
   ]
  },
  {
   "cell_type": "code",
   "execution_count": 2,
   "metadata": {
    "execution": {
     "iopub.execute_input": "2022-07-06T11:29:38.766088Z",
     "iopub.status.busy": "2022-07-06T11:29:38.765810Z",
     "iopub.status.idle": "2022-07-06T11:29:39.074682Z",
     "shell.execute_reply": "2022-07-06T11:29:39.073941Z",
     "shell.execute_reply.started": "2022-07-06T11:29:38.766050Z"
    }
   },
   "outputs": [
    {
     "data": {
      "application/vnd.jupyter.widget-view+json": {
       "model_id": "11f0d4cc9a0c449b91bc74816041f1e5",
       "version_major": 2,
       "version_minor": 0
      },
      "text/plain": [
       "VBox()"
      ]
     },
     "metadata": {},
     "output_type": "display_data"
    },
    {
     "data": {
      "application/vnd.jupyter.widget-view+json": {
       "model_id": "",
       "version_major": 2,
       "version_minor": 0
      },
      "text/plain": [
       "FloatProgress(value=0.0, bar_style='info', description='Progress:', layout=Layout(height='25px', width='50%'),…"
      ]
     },
     "metadata": {},
     "output_type": "display_data"
    }
   ],
   "source": [
    "# cast the click column to interger data type. \n",
    "\n",
    "from pyspark.sql.types import IntegerType\n",
    "\n",
    "df = df.withColumn(\"y\", df[\"click\"].cast(IntegerType()))"
   ]
  },
  {
   "cell_type": "markdown",
   "metadata": {},
   "source": [
    "## Stratified Sampling"
   ]
  },
  {
   "cell_type": "code",
   "execution_count": 3,
   "metadata": {
    "execution": {
     "iopub.execute_input": "2022-07-06T11:29:39.076670Z",
     "iopub.status.busy": "2022-07-06T11:29:39.076262Z",
     "iopub.status.idle": "2022-07-06T11:29:39.406502Z",
     "shell.execute_reply": "2022-07-06T11:29:39.405751Z",
     "shell.execute_reply.started": "2022-07-06T11:29:39.076633Z"
    }
   },
   "outputs": [
    {
     "data": {
      "application/vnd.jupyter.widget-view+json": {
       "model_id": "875915c8e8fb48b3ac5475b3420df721",
       "version_major": 2,
       "version_minor": 0
      },
      "text/plain": [
       "VBox()"
      ]
     },
     "metadata": {},
     "output_type": "display_data"
    },
    {
     "data": {
      "application/vnd.jupyter.widget-view+json": {
       "model_id": "",
       "version_major": 2,
       "version_minor": 0
      },
      "text/plain": [
       "FloatProgress(value=0.0, bar_style='info', description='Progress:', layout=Layout(height='25px', width='50%'),…"
      ]
     },
     "metadata": {},
     "output_type": "display_data"
    }
   ],
   "source": [
    "#A user defined function for sampling the data. \n",
    "\n",
    "from math import floor\n",
    "from pyspark.sql.functions import rand\n",
    "from pyspark.sql.functions import col\n",
    "\n",
    "def stratifiedSample(df, N, labelCol=\"y\"):\n",
    "    ctx = df.groupby(labelCol).count()\n",
    "    ctx = ctx.withColumn('frac', col(\"count\") / df.count())\n",
    "    frac = ctx.select(\"y\", \"frac\").rdd.collectAsMap()\n",
    "    pos = int(floor(frac[1] * N))\n",
    "    neg = int(floor(frac[0] * N))\n",
    "    posDF = df.filter(col(labelCol) == 1).orderBy(rand()).limit(pos)\n",
    "    negDF = df.filter(col(labelCol) == 0).orderBy(rand()).limit(neg)\n",
    "    return posDF.unionAll(negDF)"
   ]
  },
  {
   "cell_type": "code",
   "execution_count": 4,
   "metadata": {
    "execution": {
     "iopub.execute_input": "2022-07-06T11:29:39.410147Z",
     "iopub.status.busy": "2022-07-06T11:29:39.407889Z",
     "iopub.status.idle": "2022-07-06T11:29:44.769128Z",
     "shell.execute_reply": "2022-07-06T11:29:44.768435Z",
     "shell.execute_reply.started": "2022-07-06T11:29:39.410106Z"
    }
   },
   "outputs": [
    {
     "data": {
      "application/vnd.jupyter.widget-view+json": {
       "model_id": "1af674951be04f599be6485622e62d3e",
       "version_major": 2,
       "version_minor": 0
      },
      "text/plain": [
       "VBox()"
      ]
     },
     "metadata": {},
     "output_type": "display_data"
    },
    {
     "data": {
      "application/vnd.jupyter.widget-view+json": {
       "model_id": "",
       "version_major": 2,
       "version_minor": 0
      },
      "text/plain": [
       "FloatProgress(value=0.0, bar_style='info', description='Progress:', layout=Layout(height='25px', width='50%'),…"
      ]
     },
     "metadata": {},
     "output_type": "display_data"
    }
   ],
   "source": [
    "# use the function created to sample the 5M rows from the complete dataset. \n",
    "\n",
    "xdf = stratifiedSample(df, 5_000_000)"
   ]
  },
  {
   "cell_type": "code",
   "execution_count": 5,
   "metadata": {
    "execution": {
     "iopub.execute_input": "2022-07-06T11:29:44.770449Z",
     "iopub.status.busy": "2022-07-06T11:29:44.770178Z",
     "iopub.status.idle": "2022-07-06T11:29:47.102644Z",
     "shell.execute_reply": "2022-07-06T11:29:47.101909Z",
     "shell.execute_reply.started": "2022-07-06T11:29:44.770405Z"
    }
   },
   "outputs": [
    {
     "data": {
      "application/vnd.jupyter.widget-view+json": {
       "model_id": "bf78a55ec6364f06a449758059b87fb9",
       "version_major": 2,
       "version_minor": 0
      },
      "text/plain": [
       "VBox()"
      ]
     },
     "metadata": {},
     "output_type": "display_data"
    },
    {
     "data": {
      "application/vnd.jupyter.widget-view+json": {
       "model_id": "",
       "version_major": 2,
       "version_minor": 0
      },
      "text/plain": [
       "FloatProgress(value=0.0, bar_style='info', description='Progress:', layout=Layout(height='25px', width='50%'),…"
      ]
     },
     "metadata": {},
     "output_type": "display_data"
    },
    {
     "name": "stdout",
     "output_type": "stream",
     "text": [
      "+---+-----+\n",
      "|  y|count|\n",
      "+---+-----+\n",
      "|  1| 1500|\n",
      "|  0| 8500|\n",
      "+---+-----+"
     ]
    }
   ],
   "source": [
    "#Check the distribution of calss labels in the data set\n",
    "\n",
    "xdf.groupby(\"y\").count().show()"
   ]
  },
  {
   "cell_type": "code",
   "execution_count": 6,
   "metadata": {
    "execution": {
     "iopub.execute_input": "2022-07-06T11:29:47.104074Z",
     "iopub.status.busy": "2022-07-06T11:29:47.103676Z",
     "iopub.status.idle": "2022-07-06T11:29:53.530033Z",
     "shell.execute_reply": "2022-07-06T11:29:53.521002Z",
     "shell.execute_reply.started": "2022-07-06T11:29:47.104036Z"
    }
   },
   "outputs": [
    {
     "data": {
      "application/vnd.jupyter.widget-view+json": {
       "model_id": "4cc05698cbc447f88563def0efa9183b",
       "version_major": 2,
       "version_minor": 0
      },
      "text/plain": [
       "VBox()"
      ]
     },
     "metadata": {},
     "output_type": "display_data"
    },
    {
     "data": {
      "application/vnd.jupyter.widget-view+json": {
       "model_id": "",
       "version_major": 2,
       "version_minor": 0
      },
      "text/plain": [
       "FloatProgress(value=0.0, bar_style='info', description='Progress:', layout=Layout(height='25px', width='50%'),…"
      ]
     },
     "metadata": {},
     "output_type": "display_data"
    },
    {
     "name": "stdout",
     "output_type": "stream",
     "text": [
      "+---+-----+----+\n",
      "|  y|count|frac|\n",
      "+---+-----+----+\n",
      "|  1| 1500|0.15|\n",
      "|  0| 8500|0.85|\n",
      "+---+-----+----+"
     ]
    }
   ],
   "source": [
    "# calculate the factions in the dataset\n",
    "\n",
    "xdf.groupby(\"y\").count().withColumn(\"frac\", col(\"count\") / xdf.count()).show()"
   ]
  },
  {
   "cell_type": "markdown",
   "metadata": {},
   "source": [
    "## Feature Extraction / Transformation\n",
    "\n",
    "### One-Hot-Encoding"
   ]
  },
  {
   "cell_type": "code",
   "execution_count": 7,
   "metadata": {
    "execution": {
     "iopub.execute_input": "2022-07-06T11:29:53.531068Z",
     "iopub.status.busy": "2022-07-06T11:29:53.530888Z",
     "iopub.status.idle": "2022-07-06T11:29:54.343907Z",
     "shell.execute_reply": "2022-07-06T11:29:54.342931Z",
     "shell.execute_reply.started": "2022-07-06T11:29:53.531046Z"
    }
   },
   "outputs": [
    {
     "data": {
      "application/vnd.jupyter.widget-view+json": {
       "model_id": "506f60c188194ca49f623ff495c46563",
       "version_major": 2,
       "version_minor": 0
      },
      "text/plain": [
       "VBox()"
      ]
     },
     "metadata": {},
     "output_type": "display_data"
    },
    {
     "data": {
      "application/vnd.jupyter.widget-view+json": {
       "model_id": "",
       "version_major": 2,
       "version_minor": 0
      },
      "text/plain": [
       "FloatProgress(value=0.0, bar_style='info', description='Progress:', layout=Layout(height='25px', width='50%'),…"
      ]
     },
     "metadata": {},
     "output_type": "display_data"
    },
    {
     "name": "stdout",
     "output_type": "stream",
     "text": [
      "+----------+\n",
      "|banner_pos|\n",
      "+----------+\n",
      "|         0|\n",
      "|         1|\n",
      "|         0|\n",
      "|         0|\n",
      "|         0|\n",
      "|         1|\n",
      "|         1|\n",
      "|         0|\n",
      "|         0|\n",
      "|         0|\n",
      "|         1|\n",
      "|         0|\n",
      "|         1|\n",
      "|         0|\n",
      "|         1|\n",
      "|         0|\n",
      "|         0|\n",
      "|         0|\n",
      "|         0|\n",
      "|         1|\n",
      "+----------+\n",
      "only showing top 20 rows"
     ]
    }
   ],
   "source": [
    "# explore the banner position variable\n",
    "\n",
    "xdf.select(\"banner_pos\").show()"
   ]
  },
  {
   "cell_type": "code",
   "execution_count": 8,
   "metadata": {
    "execution": {
     "iopub.execute_input": "2022-07-06T11:29:54.346393Z",
     "iopub.status.busy": "2022-07-06T11:29:54.346128Z",
     "iopub.status.idle": "2022-07-06T11:29:55.660994Z",
     "shell.execute_reply": "2022-07-06T11:29:55.660367Z",
     "shell.execute_reply.started": "2022-07-06T11:29:54.346355Z"
    }
   },
   "outputs": [
    {
     "data": {
      "application/vnd.jupyter.widget-view+json": {
       "model_id": "ad659f670a914a718285d9d89ba41aae",
       "version_major": 2,
       "version_minor": 0
      },
      "text/plain": [
       "VBox()"
      ]
     },
     "metadata": {},
     "output_type": "display_data"
    },
    {
     "data": {
      "application/vnd.jupyter.widget-view+json": {
       "model_id": "",
       "version_major": 2,
       "version_minor": 0
      },
      "text/plain": [
       "FloatProgress(value=0.0, bar_style='info', description='Progress:', layout=Layout(height='25px', width='50%'),…"
      ]
     },
     "metadata": {},
     "output_type": "display_data"
    },
    {
     "name": "stdout",
     "output_type": "stream",
     "text": [
      "+----------+\n",
      "|banner_pos|\n",
      "+----------+\n",
      "|         1|\n",
      "|         3|\n",
      "|         4|\n",
      "|         2|\n",
      "|         7|\n",
      "|         0|\n",
      "+----------+"
     ]
    }
   ],
   "source": [
    "# get unique values from the banner_pos column\n",
    "\n",
    "xdf.select(\"banner_pos\").distinct().show()"
   ]
  },
  {
   "cell_type": "code",
   "execution_count": 9,
   "metadata": {
    "execution": {
     "iopub.execute_input": "2022-07-06T11:29:55.662841Z",
     "iopub.status.busy": "2022-07-06T11:29:55.662580Z",
     "iopub.status.idle": "2022-07-06T11:29:58.907157Z",
     "shell.execute_reply": "2022-07-06T11:29:58.778739Z",
     "shell.execute_reply.started": "2022-07-06T11:29:55.662802Z"
    }
   },
   "outputs": [
    {
     "data": {
      "application/vnd.jupyter.widget-view+json": {
       "model_id": "f18ec8341aae4f87a89975e5a311a429",
       "version_major": 2,
       "version_minor": 0
      },
      "text/plain": [
       "VBox()"
      ]
     },
     "metadata": {},
     "output_type": "display_data"
    },
    {
     "data": {
      "application/vnd.jupyter.widget-view+json": {
       "model_id": "",
       "version_major": 2,
       "version_minor": 0
      },
      "text/plain": [
       "FloatProgress(value=0.0, bar_style='info', description='Progress:', layout=Layout(height='25px', width='50%'),…"
      ]
     },
     "metadata": {},
     "output_type": "display_data"
    },
    {
     "name": "stdout",
     "output_type": "stream",
     "text": [
      "+-------------+\n",
      "|banner_posEnc|\n",
      "+-------------+\n",
      "|(7,[0],[1.0])|\n",
      "|(7,[1],[1.0])|\n",
      "|(7,[0],[1.0])|\n",
      "|(7,[0],[1.0])|\n",
      "|(7,[0],[1.0])|\n",
      "|(7,[1],[1.0])|\n",
      "|(7,[1],[1.0])|\n",
      "|(7,[0],[1.0])|\n",
      "|(7,[0],[1.0])|\n",
      "|(7,[0],[1.0])|\n",
      "|(7,[1],[1.0])|\n",
      "|(7,[0],[1.0])|\n",
      "|(7,[1],[1.0])|\n",
      "|(7,[0],[1.0])|\n",
      "|(7,[1],[1.0])|\n",
      "|(7,[0],[1.0])|\n",
      "|(7,[0],[1.0])|\n",
      "|(7,[0],[1.0])|\n",
      "|(7,[0],[1.0])|\n",
      "|(7,[1],[1.0])|\n",
      "+-------------+\n",
      "only showing top 20 rows"
     ]
    }
   ],
   "source": [
    "# onehot encoding \n",
    "#import the onehot encoder\n",
    "from pyspark.ml.feature import OneHotEncoderEstimator\n",
    "#create the encoder object\n",
    "ohe = OneHotEncoderEstimator(inputCols=['banner_pos'], outputCols=['banner_posEnc'])\n",
    "#fit the obejct to the dataframe\n",
    "oh_encoder = ohe.fit(xdf)\n",
    "#tranform the dataframe, by adding the \n",
    "encoded = oh_encoder.transform(xdf)\n",
    "\n",
    "encoded.select(\"banner_posEnc\").show()"
   ]
  },
  {
   "cell_type": "markdown",
   "metadata": {},
   "source": [
    "## String Indexing + One-Hot Encoding"
   ]
  },
  {
   "cell_type": "code",
   "execution_count": 10,
   "metadata": {
    "execution": {
     "iopub.execute_input": "2022-07-06T11:29:58.909113Z",
     "iopub.status.busy": "2022-07-06T11:29:58.908878Z",
     "iopub.status.idle": "2022-07-06T11:30:00.251799Z",
     "shell.execute_reply": "2022-07-06T11:30:00.251182Z",
     "shell.execute_reply.started": "2022-07-06T11:29:58.909088Z"
    }
   },
   "outputs": [
    {
     "data": {
      "application/vnd.jupyter.widget-view+json": {
       "model_id": "25830ca96a0a41bdb3001f2d4f352cf7",
       "version_major": 2,
       "version_minor": 0
      },
      "text/plain": [
       "VBox()"
      ]
     },
     "metadata": {},
     "output_type": "display_data"
    },
    {
     "data": {
      "application/vnd.jupyter.widget-view+json": {
       "model_id": "",
       "version_major": 2,
       "version_minor": 0
      },
      "text/plain": [
       "FloatProgress(value=0.0, bar_style='info', description='Progress:', layout=Layout(height='25px', width='50%'),…"
      ]
     },
     "metadata": {},
     "output_type": "display_data"
    },
    {
     "name": "stdout",
     "output_type": "stream",
     "text": [
      "15"
     ]
    }
   ],
   "source": [
    "#exploring the site catagore column\n",
    "encoded.select(\"site_category\").distinct().count()"
   ]
  },
  {
   "cell_type": "code",
   "execution_count": 11,
   "metadata": {
    "execution": {
     "iopub.execute_input": "2022-07-06T11:30:00.253105Z",
     "iopub.status.busy": "2022-07-06T11:30:00.252846Z",
     "iopub.status.idle": "2022-07-06T11:30:01.898422Z",
     "shell.execute_reply": "2022-07-06T11:30:01.610341Z",
     "shell.execute_reply.started": "2022-07-06T11:30:00.253068Z"
    }
   },
   "outputs": [
    {
     "data": {
      "application/vnd.jupyter.widget-view+json": {
       "model_id": "3b45afa9baa24a74b8ec407e9cb864b2",
       "version_major": 2,
       "version_minor": 0
      },
      "text/plain": [
       "VBox()"
      ]
     },
     "metadata": {},
     "output_type": "display_data"
    },
    {
     "data": {
      "application/vnd.jupyter.widget-view+json": {
       "model_id": "",
       "version_major": 2,
       "version_minor": 0
      },
      "text/plain": [
       "FloatProgress(value=0.0, bar_style='info', description='Progress:', layout=Layout(height='25px', width='50%'),…"
      ]
     },
     "metadata": {},
     "output_type": "display_data"
    },
    {
     "name": "stdout",
     "output_type": "stream",
     "text": [
      "+-------------+\n",
      "|site_category|\n",
      "+-------------+\n",
      "|     3e814130|\n",
      "|     f028772b|\n",
      "|     28905ebd|\n",
      "|     28905ebd|\n",
      "|     50e219e0|\n",
      "+-------------+"
     ]
    }
   ],
   "source": [
    "encoded.select(\"site_category\").limit(5).show()"
   ]
  },
  {
   "cell_type": "code",
   "execution_count": 12,
   "metadata": {
    "execution": {
     "iopub.execute_input": "2022-07-06T11:30:01.908228Z",
     "iopub.status.busy": "2022-07-06T11:30:01.908036Z",
     "iopub.status.idle": "2022-07-06T11:30:05.376115Z",
     "shell.execute_reply": "2022-07-06T11:30:05.375402Z",
     "shell.execute_reply.started": "2022-07-06T11:30:01.908206Z"
    }
   },
   "outputs": [
    {
     "data": {
      "application/vnd.jupyter.widget-view+json": {
       "model_id": "13bf3866a55e4046b3706dfaef8d1888",
       "version_major": 2,
       "version_minor": 0
      },
      "text/plain": [
       "VBox()"
      ]
     },
     "metadata": {},
     "output_type": "display_data"
    },
    {
     "data": {
      "application/vnd.jupyter.widget-view+json": {
       "model_id": "",
       "version_major": 2,
       "version_minor": 0
      },
      "text/plain": [
       "FloatProgress(value=0.0, bar_style='info', description='Progress:', layout=Layout(height='25px', width='50%'),…"
      ]
     },
     "metadata": {},
     "output_type": "display_data"
    },
    {
     "name": "stdout",
     "output_type": "stream",
     "text": [
      "+-------------------+\n",
      "|site_category_ixEnc|\n",
      "+-------------------+\n",
      "|     (14,[3],[1.0])|\n",
      "|     (14,[1],[1.0])|\n",
      "|     (14,[2],[1.0])|\n",
      "|     (14,[2],[1.0])|\n",
      "|     (14,[0],[1.0])|\n",
      "|     (14,[1],[1.0])|\n",
      "|     (14,[1],[1.0])|\n",
      "|     (14,[0],[1.0])|\n",
      "|     (14,[2],[1.0])|\n",
      "|     (14,[0],[1.0])|\n",
      "|     (14,[1],[1.0])|\n",
      "|     (14,[1],[1.0])|\n",
      "|     (14,[1],[1.0])|\n",
      "|     (14,[0],[1.0])|\n",
      "|     (14,[1],[1.0])|\n",
      "|     (14,[0],[1.0])|\n",
      "|     (14,[2],[1.0])|\n",
      "|     (14,[1],[1.0])|\n",
      "|     (14,[0],[1.0])|\n",
      "|     (14,[1],[1.0])|\n",
      "+-------------------+\n",
      "only showing top 20 rows"
     ]
    }
   ],
   "source": [
    "# import the string indexer\n",
    "from pyspark.ml.feature import StringIndexer\n",
    "#similar to the one hot encoder, create a string indexer object and fit it to the dataframe, use the fitted object to transform the dataset.\n",
    "si = StringIndexer(inputCol='site_category', outputCol='site_category_ix')\n",
    "encoded = si.fit(encoded).transform(encoded)\n",
    "#use the output of the sting indexer as an input to the onehot encoder. \n",
    "ohe = OneHotEncoderEstimator(inputCols=['site_category_ix'], outputCols=['site_category_ixEnc'])\n",
    "oh_encoder = ohe.fit(encoded)\n",
    "encoded = oh_encoder.transform(encoded)\n",
    "\n",
    "encoded.select(\"site_category_ixEnc\").show()"
   ]
  },
  {
   "cell_type": "markdown",
   "metadata": {},
   "source": [
    "### Collecting Encoded Features - VectorAssembler"
   ]
  },
  {
   "cell_type": "code",
   "execution_count": 13,
   "metadata": {
    "execution": {
     "iopub.execute_input": "2022-07-06T11:30:05.377462Z",
     "iopub.status.busy": "2022-07-06T11:30:05.377197Z",
     "iopub.status.idle": "2022-07-06T11:30:06.675368Z",
     "shell.execute_reply": "2022-07-06T11:30:06.674625Z",
     "shell.execute_reply.started": "2022-07-06T11:30:05.377427Z"
    }
   },
   "outputs": [
    {
     "data": {
      "application/vnd.jupyter.widget-view+json": {
       "model_id": "2adfb6974bc0419b908be5b8b84fced1",
       "version_major": 2,
       "version_minor": 0
      },
      "text/plain": [
       "VBox()"
      ]
     },
     "metadata": {},
     "output_type": "display_data"
    },
    {
     "data": {
      "application/vnd.jupyter.widget-view+json": {
       "model_id": "",
       "version_major": 2,
       "version_minor": 0
      },
      "text/plain": [
       "FloatProgress(value=0.0, bar_style='info', description='Progress:', layout=Layout(height='25px', width='50%'),…"
      ]
     },
     "metadata": {},
     "output_type": "display_data"
    },
    {
     "name": "stdout",
     "output_type": "stream",
     "text": [
      "+--------------------+\n",
      "|            features|\n",
      "+--------------------+\n",
      "|(25,[3,14,21,22,2...|\n",
      "|(25,[1,15,21,22,2...|\n",
      "|(25,[2,14,21,22,2...|\n",
      "|(25,[2,14,21,22,2...|\n",
      "|(25,[0,14,21,22,2...|\n",
      "|(25,[1,15,21,22,2...|\n",
      "|(25,[1,15,21,22,2...|\n",
      "|(25,[0,14,21,22,2...|\n",
      "|(25,[2,14,21,22,2...|\n",
      "|(25,[0,14,21,22,2...|\n",
      "|(25,[1,15,21,22,2...|\n",
      "|(25,[1,14,21,22,2...|\n",
      "|(25,[1,15,21,22,2...|\n",
      "|(25,[0,14,21,22,2...|\n",
      "|(25,[1,15,21,22,2...|\n",
      "|(25,[0,14,21,22,2...|\n",
      "|(25,[2,14,21,22,2...|\n",
      "|(25,[1,14,21,22,2...|\n",
      "|(25,[0,14,21,23],...|\n",
      "|(25,[1,15,21,22,2...|\n",
      "+--------------------+\n",
      "only showing top 20 rows"
     ]
    }
   ],
   "source": [
    "#import the vector assembler \n",
    "from pyspark.ml.feature import VectorAssembler\n",
    "\n",
    "#create the assembler object\n",
    "assembler = VectorAssembler(inputCols=[\"site_category_ixEnc\", \"banner_posEnc\",\n",
    "                                       \"month\", \"dayofweek\", \"day\", \"hour\"],\n",
    "                            outputCol=\"features\")\n",
    "#transform the data frame using the assembler object. \n",
    "encoded = assembler.transform(encoded)\n",
    "encoded.select(\"features\").show()"
   ]
  },
  {
   "cell_type": "markdown",
   "metadata": {},
   "source": [
    "## Putting it all together - pipelines"
   ]
  },
  {
   "cell_type": "code",
   "execution_count": 14,
   "metadata": {
    "execution": {
     "iopub.execute_input": "2022-07-06T11:30:06.676400Z",
     "iopub.status.busy": "2022-07-06T11:30:06.676208Z",
     "iopub.status.idle": "2022-07-06T11:30:09.048548Z",
     "shell.execute_reply": "2022-07-06T11:30:08.999437Z",
     "shell.execute_reply.started": "2022-07-06T11:30:06.676376Z"
    },
    "tags": []
   },
   "outputs": [
    {
     "data": {
      "application/vnd.jupyter.widget-view+json": {
       "model_id": "b4d7cf0970734c65b4d71971c9ac2b30",
       "version_major": 2,
       "version_minor": 0
      },
      "text/plain": [
       "VBox()"
      ]
     },
     "metadata": {},
     "output_type": "display_data"
    },
    {
     "data": {
      "application/vnd.jupyter.widget-view+json": {
       "model_id": "",
       "version_major": 2,
       "version_minor": 0
      },
      "text/plain": [
       "FloatProgress(value=0.0, bar_style='info', description='Progress:', layout=Layout(height='25px', width='50%'),…"
      ]
     },
     "metadata": {},
     "output_type": "display_data"
    },
    {
     "name": "stdout",
     "output_type": "stream",
     "text": [
      "+--------------------+\n",
      "|            features|\n",
      "+--------------------+\n",
      "|(25,[3,14,21,22,2...|\n",
      "|(25,[1,15,21,22,2...|\n",
      "|(25,[2,14,21,22,2...|\n",
      "|(25,[2,14,21,22,2...|\n",
      "|(25,[0,14,21,22,2...|\n",
      "|(25,[1,15,21,22,2...|\n",
      "|(25,[1,15,21,22,2...|\n",
      "|(25,[0,14,21,22,2...|\n",
      "|(25,[2,14,21,22,2...|\n",
      "|(25,[0,14,21,22,2...|\n",
      "|(25,[1,15,21,22,2...|\n",
      "|(25,[1,14,21,22,2...|\n",
      "|(25,[1,15,21,22,2...|\n",
      "|(25,[0,14,21,22,2...|\n",
      "|(25,[1,15,21,22,2...|\n",
      "|(25,[0,14,21,22,2...|\n",
      "|(25,[2,14,21,22,2...|\n",
      "|(25,[1,14,21,22,2...|\n",
      "|(25,[0,14,21,23],...|\n",
      "|(25,[1,15,21,22,2...|\n",
      "+--------------------+\n",
      "only showing top 20 rows"
     ]
    }
   ],
   "source": [
    "# import pipline API\n",
    "from pyspark.ml import Pipeline\n",
    "#create the bjects of all the setps you want to pipeline\n",
    "si = StringIndexer(inputCol='site_category', outputCol='site_category_ix')\n",
    "ohe = OneHotEncoderEstimator(inputCols=['site_category_ix', 'banner_pos'],\n",
    "                             outputCols=['site_category_ixEnc', 'banner_posEnc'])\n",
    "assembler = VectorAssembler(inputCols=[\"site_category_ixEnc\", \"banner_posEnc\",\n",
    "                                       \"month\", \"dayofweek\", \"day\", \"hour\"],\n",
    "                            outputCol=\"features\")\n",
    "#create the pipeline object\n",
    "pipeline = Pipeline(stages=[si, ohe, assembler])\n",
    "#use the object to transform the dataframe \n",
    "encoded = pipeline.fit(xdf).transform(xdf)\n",
    "\n",
    "encoded.select(\"features\").show()"
   ]
  }
 ],
 "metadata": {
  "kernelspec": {
   "display_name": "PySpark",
   "language": "python",
   "name": "pysparkkernel"
  },
  "language_info": {
   "codemirror_mode": {
    "name": "python",
    "version": 3
   },
   "file_extension": ".py",
   "mimetype": "text/x-python",
   "name": "pyspark",
   "pygments_lexer": "python3"
  }
 },
 "nbformat": 4,
 "nbformat_minor": 4
}
