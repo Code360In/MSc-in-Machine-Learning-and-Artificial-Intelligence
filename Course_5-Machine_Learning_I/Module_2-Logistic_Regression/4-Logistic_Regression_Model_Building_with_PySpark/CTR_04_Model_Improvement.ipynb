{
 "cells": [
  {
   "cell_type": "code",
   "execution_count": 1,
   "metadata": {
    "execution": {
     "iopub.execute_input": "2022-07-06T12:38:59.029544Z",
     "iopub.status.busy": "2022-07-06T12:38:59.029283Z",
     "iopub.status.idle": "2022-07-06T12:39:39.235794Z",
     "shell.execute_reply": "2022-07-06T12:39:39.235037Z",
     "shell.execute_reply.started": "2022-07-06T12:38:59.029518Z"
    }
   },
   "outputs": [
    {
     "data": {
      "application/vnd.jupyter.widget-view+json": {
       "model_id": "3c0c30c3ad8546e9a9b9fbee83e33874",
       "version_major": 2,
       "version_minor": 0
      },
      "text/plain": [
       "VBox()"
      ]
     },
     "metadata": {},
     "output_type": "display_data"
    },
    {
     "name": "stdout",
     "output_type": "stream",
     "text": [
      "Starting Spark application\n"
     ]
    },
    {
     "data": {
      "text/html": [
       "<table>\n",
       "<tr><th>ID</th><th>YARN Application ID</th><th>Kind</th><th>State</th><th>Spark UI</th><th>Driver log</th><th>User</th><th>Current session?</th></tr><tr><td>4</td><td>application_1657104984405_0005</td><td>pyspark</td><td>idle</td><td><a target=\"_blank\" href=\"http://ip-172-31-26-8.ec2.internal:20888/proxy/application_1657104984405_0005/\" class=\"emr-proxy-link\" emr-resource=\"j-CML9YXJXVZ4F\n",
       "\" application-id=\"application_1657104984405_0005\">Link</a></td><td><a target=\"_blank\" href=\"http://ip-172-31-22-25.ec2.internal:8042/node/containerlogs/container_1657104984405_0005_01_000001/livy\" >Link</a></td><td>None</td><td>✔</td></tr></table>"
      ],
      "text/plain": [
       "<IPython.core.display.HTML object>"
      ]
     },
     "metadata": {},
     "output_type": "display_data"
    },
    {
     "data": {
      "application/vnd.jupyter.widget-view+json": {
       "model_id": "",
       "version_major": 2,
       "version_minor": 0
      },
      "text/plain": [
       "FloatProgress(value=0.0, bar_style='info', description='Progress:', layout=Layout(height='25px', width='50%'),…"
      ]
     },
     "metadata": {},
     "output_type": "display_data"
    },
    {
     "name": "stdout",
     "output_type": "stream",
     "text": [
      "SparkSession available as 'spark'.\n"
     ]
    },
    {
     "data": {
      "application/vnd.jupyter.widget-view+json": {
       "model_id": "",
       "version_major": 2,
       "version_minor": 0
      },
      "text/plain": [
       "FloatProgress(value=0.0, bar_style='info', description='Progress:', layout=Layout(height='25px', width='50%'),…"
      ]
     },
     "metadata": {},
     "output_type": "display_data"
    },
    {
     "name": "stdout",
     "output_type": "stream",
     "text": [
      "root\n",
      " |-- click: boolean (nullable = true)\n",
      " |-- C1: integer (nullable = true)\n",
      " |-- banner_pos: integer (nullable = true)\n",
      " |-- site_id: string (nullable = true)\n",
      " |-- site_domain: string (nullable = true)\n",
      " |-- site_category: string (nullable = true)\n",
      " |-- app_id: string (nullable = true)\n",
      " |-- app_domain: string (nullable = true)\n",
      " |-- app_category: string (nullable = true)\n",
      " |-- device_id: string (nullable = true)\n",
      " |-- device_ip: string (nullable = true)\n",
      " |-- device_model: string (nullable = true)\n",
      " |-- device_type: integer (nullable = true)\n",
      " |-- device_conn_type: integer (nullable = true)\n",
      " |-- C14: integer (nullable = true)\n",
      " |-- C15: integer (nullable = true)\n",
      " |-- C16: integer (nullable = true)\n",
      " |-- C17: integer (nullable = true)\n",
      " |-- C18: integer (nullable = true)\n",
      " |-- C19: integer (nullable = true)\n",
      " |-- C20: integer (nullable = true)\n",
      " |-- C21: integer (nullable = true)\n",
      " |-- month: integer (nullable = true)\n",
      " |-- dayofweek: integer (nullable = true)\n",
      " |-- day: integer (nullable = true)\n",
      " |-- hour: integer (nullable = true)\n",
      " |-- y: integer (nullable = true)"
     ]
    }
   ],
   "source": [
    "#import the larger data set and draw a stratified sample from it. \n",
    "\n",
    "df = spark.read.csv('s3://machine-learning-upgrad-bucket/Data_for_Quiz_Segment.csv', header=True, inferSchema=True)\n",
    "\n",
    "from pyspark.sql.types import IntegerType\n",
    "from math import floor\n",
    "from pyspark.sql.functions import rand\n",
    "from pyspark.sql.functions import col\n",
    "\n",
    "def stratifiedSample(df, N, labelCol=\"y\"):\n",
    "    ctx = df.groupby(labelCol).count()\n",
    "    ctx = ctx.withColumn('frac', col(\"count\") / df.count())\n",
    "    frac = ctx.select(\"y\", \"frac\").rdd.collectAsMap()\n",
    "    pos = int(floor(frac[1] * N))\n",
    "    neg = int(floor(frac[0] * N))\n",
    "    posDF = df.filter(col(labelCol) == 1).orderBy(rand()).limit(pos)\n",
    "    negDF = df.filter(col(labelCol) == 0).orderBy(rand()).limit(neg)\n",
    "    return posDF.unionAll(negDF).orderBy(rand())\n",
    "\n",
    "df = df.withColumn(\"y\", df[\"click\"].cast(IntegerType()))\n",
    "xdf = stratifiedSample(df, 1_000_000)\n",
    "\n",
    "xdf.printSchema()"
   ]
  },
  {
   "cell_type": "code",
   "execution_count": 2,
   "metadata": {
    "execution": {
     "iopub.execute_input": "2022-07-06T12:39:39.237722Z",
     "iopub.status.busy": "2022-07-06T12:39:39.237335Z",
     "iopub.status.idle": "2022-07-06T12:39:41.546375Z",
     "shell.execute_reply": "2022-07-06T12:39:41.545704Z",
     "shell.execute_reply.started": "2022-07-06T12:39:39.237686Z"
    }
   },
   "outputs": [
    {
     "data": {
      "application/vnd.jupyter.widget-view+json": {
       "model_id": "b37c4c8a233243989e07c1c1b534da27",
       "version_major": 2,
       "version_minor": 0
      },
      "text/plain": [
       "VBox()"
      ]
     },
     "metadata": {},
     "output_type": "display_data"
    },
    {
     "data": {
      "application/vnd.jupyter.widget-view+json": {
       "model_id": "",
       "version_major": 2,
       "version_minor": 0
      },
      "text/plain": [
       "FloatProgress(value=0.0, bar_style='info', description='Progress:', layout=Layout(height='25px', width='50%'),…"
      ]
     },
     "metadata": {},
     "output_type": "display_data"
    },
    {
     "name": "stdout",
     "output_type": "stream",
     "text": [
      "+----+----------+-----------+-------------+----------+------------+------------+-----------+----------------+-----+---+---+----+---+----+------+---+\n",
      "|  C1|banner_pos|site_domain|site_category|app_domain|app_category|device_model|device_type|device_conn_type|  C14|C15|C16| C17|C18| C19|   C20|C21|\n",
      "+----+----------+-----------+-------------+----------+------------+------------+-----------+----------------+-----+---+---+----+---+----+------+---+\n",
      "|1005|         0|   7687a86e|     3e814130|  7801e8d9|    07d7df22|    2891f384|          1|               0|17654|300|250|1994|  2|  39|100084| 33|\n",
      "|1005|         0|   c4e18dd6|     50e219e0|  2347f47a|    09481d60|    365e64e3|          1|               0|  375|320| 50| 112|  3|1319|100144| 15|\n",
      "|1010|         1|   c4e18dd6|     50e219e0|  7801e8d9|    0f2161f8|    f07e20f8|          4|               0|21790|320| 50|2513|  3|  35|    -1| 68|\n",
      "|1005|         0|   f3845767|     28905ebd|  7801e8d9|    07d7df22|    977a2929|          1|               2|15704|320| 50|1722|  0|  35|100084| 79|\n",
      "|1005|         0|   f3845767|     28905ebd|  7801e8d9|    07d7df22|    ecb851b2|          1|               0|21732|320| 50|2502|  0|  35|100084|221|\n",
      "|1005|         1|   7e091613|     f028772b|  7801e8d9|    07d7df22|    03683bd4|          1|               0|22267|320| 50|2566|  3| 815|100156| 42|\n",
      "|1005|         0|   f3845767|     28905ebd|  7801e8d9|    07d7df22|    2203a096|          1|               0|15705|320| 50|1722|  0|  35|    -1| 79|\n",
      "|1005|         0|   c4e18dd6|     50e219e0|  2347f47a|    8ded1f7a|    794346bd|          1|               2|15706|320| 50|1722|  0|  35|    -1| 79|\n",
      "|1005|         0|   9d54950b|     f028772b|  7801e8d9|    07d7df22|    df36cdb8|          1|               0|20997|320| 50|2369|  0| 809|100111| 46|\n",
      "|1005|         0|   f3845767|     28905ebd|  7801e8d9|    07d7df22|    76f67383|          1|               0|15708|320| 50|1722|  0|  35|    -1| 79|\n",
      "|1005|         0|   c4e18dd6|     50e219e0|  2347f47a|    0f2161f8|    589a99ad|          1|               0|20365|300|250|2333|  0|  39|    -1|157|\n",
      "|1005|         1|   7e091613|     f028772b|  7801e8d9|    07d7df22|    f60c2fd3|          1|               0|22246|320| 50|2566|  3|  41|100156| 42|\n",
      "|1005|         1|   9690165f|     f028772b|  7801e8d9|    07d7df22|    d787e91b|          1|               0|20251|320| 50|2323|  0| 687|100081| 48|\n",
      "|1005|         0|   c4e18dd6|     50e219e0|  2347f47a|    fc6fa53d|    1f0bc64f|          1|               3|15701|320| 50|1722|  0|  35|100084| 79|\n",
      "|1005|         1|   7e091613|     f028772b|  7801e8d9|    07d7df22|    cad4c01d|          1|               0|19143|320| 50|2181|  0| 169|100156|111|\n",
      "|1005|         0|   c4e18dd6|     50e219e0|  2347f47a|    0f2161f8|    be87996b|          1|               2| 8330|320| 50| 761|  3| 175|    -1| 23|\n",
      "|1005|         1|   9cf7de2f|     f028772b|  7801e8d9|    07d7df22|    5ec45883|          1|               0|17894|320| 50|2039|  2|  39|    -1| 32|\n",
      "|1005|         0|   c4e18dd6|     50e219e0|  2347f47a|    f95efa07|    7060ec22|          1|               2|  375|320| 50| 112|  3|1319|    -1| 15|\n",
      "|1005|         0|   f3845767|     28905ebd|  7801e8d9|    07d7df22|    3f67c4c4|          1|               0|15699|320| 50|1722|  0|  35|100083| 79|\n",
      "|1005|         0|   c4e18dd6|     50e219e0|  ae637522|    0f2161f8|    36b67a2a|          1|               0|15840|320| 50|1741|  3| 175|100113|100|\n",
      "+----+----------+-----------+-------------+----------+------------+------------+-----------+----------------+-----+---+---+----+---+----+------+---+\n",
      "only showing top 20 rows"
     ]
    }
   ],
   "source": [
    "# Create the list of categorical columns to display them, \n",
    "\n",
    "cCols = ['C1', 'banner_pos', 'site_domain', 'site_category', 'app_domain',\n",
    "           'app_category', 'device_model', 'device_type', 'device_conn_type']\n",
    "cCols += ['C{}'.format(i) for i in range(14, 22)]\n",
    "xdf.select(*cCols).show()"
   ]
  },
  {
   "cell_type": "code",
   "execution_count": 3,
   "metadata": {
    "execution": {
     "iopub.execute_input": "2022-07-06T12:39:41.548004Z",
     "iopub.status.busy": "2022-07-06T12:39:41.547608Z",
     "iopub.status.idle": "2022-07-06T12:39:56.956069Z",
     "shell.execute_reply": "2022-07-06T12:39:56.952196Z",
     "shell.execute_reply.started": "2022-07-06T12:39:41.547968Z"
    }
   },
   "outputs": [
    {
     "data": {
      "application/vnd.jupyter.widget-view+json": {
       "model_id": "d4ea7af624b349b99265e290a860d3b7",
       "version_major": 2,
       "version_minor": 0
      },
      "text/plain": [
       "VBox()"
      ]
     },
     "metadata": {},
     "output_type": "display_data"
    },
    {
     "data": {
      "application/vnd.jupyter.widget-view+json": {
       "model_id": "",
       "version_major": 2,
       "version_minor": 0
      },
      "text/plain": [
       "FloatProgress(value=0.0, bar_style='info', description='Progress:', layout=Layout(height='25px', width='50%'),…"
      ]
     },
     "metadata": {},
     "output_type": "display_data"
    }
   ],
   "source": [
    "# The catagorical columns which are represented as strings need to be string indexed. \n",
    "# Running these columns through the string indexer. \n",
    "\n",
    "from pyspark.ml.feature import StringIndexer, OneHotEncoderEstimator, VectorAssembler\n",
    "\n",
    "stringCols = ['site_domain', 'site_category', 'app_domain', 'app_category', 'device_model']\n",
    "for c in stringCols:\n",
    "    outCol = c + '_ix'\n",
    "    si = StringIndexer(inputCol=c, outputCol=outCol)\n",
    "    xdf = si.fit(xdf).transform(xdf)"
   ]
  },
  {
   "cell_type": "code",
   "execution_count": 4,
   "metadata": {
    "execution": {
     "iopub.execute_input": "2022-07-06T12:39:56.963361Z",
     "iopub.status.busy": "2022-07-06T12:39:56.963113Z",
     "iopub.status.idle": "2022-07-06T12:39:57.084500Z",
     "shell.execute_reply": "2022-07-06T12:39:57.083898Z",
     "shell.execute_reply.started": "2022-07-06T12:39:56.963308Z"
    },
    "tags": []
   },
   "outputs": [
    {
     "data": {
      "application/vnd.jupyter.widget-view+json": {
       "model_id": "c0909ec1e35446b09c70964b01bb2377",
       "version_major": 2,
       "version_minor": 0
      },
      "text/plain": [
       "VBox()"
      ]
     },
     "metadata": {},
     "output_type": "display_data"
    },
    {
     "data": {
      "application/vnd.jupyter.widget-view+json": {
       "model_id": "",
       "version_major": 2,
       "version_minor": 0
      },
      "text/plain": [
       "FloatProgress(value=0.0, bar_style='info', description='Progress:', layout=Layout(height='25px', width='50%'),…"
      ]
     },
     "metadata": {},
     "output_type": "display_data"
    }
   ],
   "source": [
    "# The column C20 has negative values, the logistoc regression estimator cannot have negative catagorical values. \n",
    "# Handle columns C20 to make all its calues positve. \n",
    "\n",
    "from pyspark.sql.functions import udf\n",
    "from pyspark.sql.types import IntegerType\n",
    "\n",
    "posMapper = udf(lambda x: 0 if x < 0 else x)\n",
    "xdf = xdf.withColumn('C20_1', posMapper(xdf['C20']))\n",
    "xdf = xdf.withColumn(\"C20_1int\", xdf['C20_1'].cast(IntegerType()))\n",
    "\n",
    "categoricalCols = [c+'_ix' for c in ['site_domain', 'site_category', 'app_domain', 'app_category', 'device_model']]\n",
    "categoricalCols += ['C1', 'C14', 'C15', 'C16', 'C17', 'C19', 'C20_1int', 'C21']"
   ]
  },
  {
   "cell_type": "code",
   "execution_count": 5,
   "metadata": {
    "execution": {
     "iopub.execute_input": "2022-07-06T12:39:57.085947Z",
     "iopub.status.busy": "2022-07-06T12:39:57.085701Z",
     "iopub.status.idle": "2022-07-06T12:40:04.496949Z",
     "shell.execute_reply": "2022-07-06T12:40:04.496346Z",
     "shell.execute_reply.started": "2022-07-06T12:39:57.085914Z"
    }
   },
   "outputs": [
    {
     "data": {
      "application/vnd.jupyter.widget-view+json": {
       "model_id": "fc8d854e14b64a7781dcd30757f86810",
       "version_major": 2,
       "version_minor": 0
      },
      "text/plain": [
       "VBox()"
      ]
     },
     "metadata": {},
     "output_type": "display_data"
    },
    {
     "data": {
      "application/vnd.jupyter.widget-view+json": {
       "model_id": "",
       "version_major": 2,
       "version_minor": 0
      },
      "text/plain": [
       "FloatProgress(value=0.0, bar_style='info', description='Progress:', layout=Layout(height='25px', width='50%'),…"
      ]
     },
     "metadata": {},
     "output_type": "display_data"
    }
   ],
   "source": [
    "# Run all the catagorical columns through the one hot encoder\n",
    "# Including those which you got from the output of the string indexer. \n",
    "\n",
    "ohe = OneHotEncoderEstimator(inputCols=categoricalCols, outputCols=[c+'Enc' for c in categoricalCols])\n",
    "enc_model = ohe.fit(xdf)\n",
    "xdf = enc_model.transform(xdf)"
   ]
  },
  {
   "cell_type": "code",
   "execution_count": 6,
   "metadata": {
    "execution": {
     "iopub.execute_input": "2022-07-06T12:40:04.498210Z",
     "iopub.status.busy": "2022-07-06T12:40:04.497962Z",
     "iopub.status.idle": "2022-07-06T12:40:05.779048Z",
     "shell.execute_reply": "2022-07-06T12:40:05.778328Z",
     "shell.execute_reply.started": "2022-07-06T12:40:04.498175Z"
    }
   },
   "outputs": [
    {
     "data": {
      "application/vnd.jupyter.widget-view+json": {
       "model_id": "97bc53b85ef84a4f8a36e4c4f177ecdd",
       "version_major": 2,
       "version_minor": 0
      },
      "text/plain": [
       "VBox()"
      ]
     },
     "metadata": {},
     "output_type": "display_data"
    },
    {
     "data": {
      "application/vnd.jupyter.widget-view+json": {
       "model_id": "",
       "version_major": 2,
       "version_minor": 0
      },
      "text/plain": [
       "FloatProgress(value=0.0, bar_style='info', description='Progress:', layout=Layout(height='25px', width='50%'),…"
      ]
     },
     "metadata": {},
     "output_type": "display_data"
    },
    {
     "name": "stdout",
     "output_type": "stream",
     "text": [
      "+-----+\n",
      "|month|\n",
      "+-----+\n",
      "|   10|\n",
      "+-----+"
     ]
    }
   ],
   "source": [
    "# Combine all the training columns in one list. \n",
    "# Drop the month column as there is no change in the column at all, so it does not effect the predictability of the model.\n",
    "\n",
    "trainCols = [c+'Enc' for c in categoricalCols]\n",
    "trainCols += ['hour', 'day', 'dayofweek']\n",
    "xdf.select('month').distinct().show()"
   ]
  },
  {
   "cell_type": "code",
   "execution_count": 7,
   "metadata": {
    "execution": {
     "iopub.execute_input": "2022-07-06T12:40:05.781390Z",
     "iopub.status.busy": "2022-07-06T12:40:05.781135Z",
     "iopub.status.idle": "2022-07-06T12:40:06.560528Z",
     "shell.execute_reply": "2022-07-06T12:40:06.559909Z",
     "shell.execute_reply.started": "2022-07-06T12:40:05.781354Z"
    }
   },
   "outputs": [
    {
     "data": {
      "application/vnd.jupyter.widget-view+json": {
       "model_id": "65020870837f4c3ea5495d5ee9d2715b",
       "version_major": 2,
       "version_minor": 0
      },
      "text/plain": [
       "VBox()"
      ]
     },
     "metadata": {},
     "output_type": "display_data"
    },
    {
     "data": {
      "application/vnd.jupyter.widget-view+json": {
       "model_id": "",
       "version_major": 2,
       "version_minor": 0
      },
      "text/plain": [
       "FloatProgress(value=0.0, bar_style='info', description='Progress:', layout=Layout(height='25px', width='50%'),…"
      ]
     },
     "metadata": {},
     "output_type": "display_data"
    }
   ],
   "source": [
    "# Combine the all the feature columns into a single vector, called features. \n",
    "\n",
    "assembler = VectorAssembler(inputCols=trainCols, outputCol='features')\n",
    "xdf = assembler.transform(xdf)"
   ]
  },
  {
   "cell_type": "code",
   "execution_count": 8,
   "metadata": {
    "execution": {
     "iopub.execute_input": "2022-07-06T12:40:06.561810Z",
     "iopub.status.busy": "2022-07-06T12:40:06.561617Z",
     "iopub.status.idle": "2022-07-06T12:54:33.809937Z",
     "shell.execute_reply": "2022-07-06T12:54:33.809329Z",
     "shell.execute_reply.started": "2022-07-06T12:40:06.561787Z"
    }
   },
   "outputs": [
    {
     "data": {
      "application/vnd.jupyter.widget-view+json": {
       "model_id": "7768e2808103478db5a11feb6d05d98e",
       "version_major": 2,
       "version_minor": 0
      },
      "text/plain": [
       "VBox()"
      ]
     },
     "metadata": {},
     "output_type": "display_data"
    },
    {
     "data": {
      "application/vnd.jupyter.widget-view+json": {
       "model_id": "",
       "version_major": 2,
       "version_minor": 0
      },
      "text/plain": [
       "FloatProgress(value=0.0, bar_style='info', description='Progress:', layout=Layout(height='25px', width='50%'),…"
      ]
     },
     "metadata": {},
     "output_type": "display_data"
    }
   ],
   "source": [
    "# Create a logistic regression with with venilla settings and run it over the data frame. \n",
    "\n",
    "from pyspark.ml.classification import LogisticRegression\n",
    "\n",
    "lr = LogisticRegression(featuresCol='features', labelCol='y')\n",
    "model = lr.fit(xdf)\n",
    "result = model.evaluate(xdf)"
   ]
  },
  {
   "cell_type": "code",
   "execution_count": 9,
   "metadata": {
    "execution": {
     "iopub.execute_input": "2022-07-06T12:54:33.811028Z",
     "iopub.status.busy": "2022-07-06T12:54:33.810845Z",
     "iopub.status.idle": "2022-07-06T12:54:45.514783Z",
     "shell.execute_reply": "2022-07-06T12:54:45.514182Z",
     "shell.execute_reply.started": "2022-07-06T12:54:33.811005Z"
    }
   },
   "outputs": [
    {
     "data": {
      "application/vnd.jupyter.widget-view+json": {
       "model_id": "5acd59cce9964284ba590895653e8065",
       "version_major": 2,
       "version_minor": 0
      },
      "text/plain": [
       "VBox()"
      ]
     },
     "metadata": {},
     "output_type": "display_data"
    },
    {
     "data": {
      "application/vnd.jupyter.widget-view+json": {
       "model_id": "",
       "version_major": 2,
       "version_minor": 0
      },
      "text/plain": [
       "FloatProgress(value=0.0, bar_style='info', description='Progress:', layout=Layout(height='25px', width='50%'),…"
      ]
     },
     "metadata": {},
     "output_type": "display_data"
    },
    {
     "name": "stdout",
     "output_type": "stream",
     "text": [
      "0.9121159215686276"
     ]
    }
   ],
   "source": [
    "result.areaUnderROC"
   ]
  },
  {
   "cell_type": "code",
   "execution_count": 10,
   "metadata": {
    "execution": {
     "iopub.execute_input": "2022-07-06T12:54:45.515802Z",
     "iopub.status.busy": "2022-07-06T12:54:45.515625Z",
     "iopub.status.idle": "2022-07-06T12:55:00.876234Z",
     "shell.execute_reply": "2022-07-06T12:55:00.875534Z",
     "shell.execute_reply.started": "2022-07-06T12:54:45.515779Z"
    }
   },
   "outputs": [
    {
     "data": {
      "application/vnd.jupyter.widget-view+json": {
       "model_id": "d4d9530ea8f847288838576a9eef48dd",
       "version_major": 2,
       "version_minor": 0
      },
      "text/plain": [
       "VBox()"
      ]
     },
     "metadata": {},
     "output_type": "display_data"
    },
    {
     "data": {
      "application/vnd.jupyter.widget-view+json": {
       "model_id": "",
       "version_major": 2,
       "version_minor": 0
      },
      "text/plain": [
       "FloatProgress(value=0.0, bar_style='info', description='Progress:', layout=Layout(height='25px', width='50%'),…"
      ]
     },
     "metadata": {},
     "output_type": "display_data"
    },
    {
     "name": "stdout",
     "output_type": "stream",
     "text": [
      "[0.9807058823529412, 0.4106666666666667]"
     ]
    }
   ],
   "source": [
    "result.recallByLabel"
   ]
  },
  {
   "cell_type": "code",
   "execution_count": 11,
   "metadata": {
    "execution": {
     "iopub.execute_input": "2022-07-06T12:55:00.877538Z",
     "iopub.status.busy": "2022-07-06T12:55:00.877282Z",
     "iopub.status.idle": "2022-07-06T12:55:03.180414Z",
     "shell.execute_reply": "2022-07-06T12:55:03.179719Z",
     "shell.execute_reply.started": "2022-07-06T12:55:00.877502Z"
    }
   },
   "outputs": [
    {
     "data": {
      "application/vnd.jupyter.widget-view+json": {
       "model_id": "676e6297a5294918978f869686d843ac",
       "version_major": 2,
       "version_minor": 0
      },
      "text/plain": [
       "VBox()"
      ]
     },
     "metadata": {},
     "output_type": "display_data"
    },
    {
     "data": {
      "application/vnd.jupyter.widget-view+json": {
       "model_id": "",
       "version_major": 2,
       "version_minor": 0
      },
      "text/plain": [
       "FloatProgress(value=0.0, bar_style='info', description='Progress:', layout=Layout(height='25px', width='50%'),…"
      ]
     },
     "metadata": {},
     "output_type": "display_data"
    }
   ],
   "source": [
    "# draw a new sample from the dataset\n",
    "\n",
    "test = stratifiedSample(xdf, 100)"
   ]
  },
  {
   "cell_type": "code",
   "execution_count": 12,
   "metadata": {
    "execution": {
     "iopub.execute_input": "2022-07-06T12:55:03.181851Z",
     "iopub.status.busy": "2022-07-06T12:55:03.181588Z",
     "iopub.status.idle": "2022-07-06T12:55:38.697721Z",
     "shell.execute_reply": "2022-07-06T12:55:38.697142Z",
     "shell.execute_reply.started": "2022-07-06T12:55:03.181815Z"
    }
   },
   "outputs": [
    {
     "data": {
      "application/vnd.jupyter.widget-view+json": {
       "model_id": "64e113d2f2ee4cf2850e160734b8269d",
       "version_major": 2,
       "version_minor": 0
      },
      "text/plain": [
       "VBox()"
      ]
     },
     "metadata": {},
     "output_type": "display_data"
    },
    {
     "data": {
      "application/vnd.jupyter.widget-view+json": {
       "model_id": "",
       "version_major": 2,
       "version_minor": 0
      },
      "text/plain": [
       "FloatProgress(value=0.0, bar_style='info', description='Progress:', layout=Layout(height='25px', width='50%'),…"
      ]
     },
     "metadata": {},
     "output_type": "display_data"
    }
   ],
   "source": [
    "# Use the model to evaluate the dataframe\n",
    "# NOTE: the new sample is drawn from the same precessed data frame.\n",
    "# For the evaluate method to work the same feature vector needs to be present in the data frame\n",
    "# TIP: Draw a larger than needed dataset for preprocessing. Then splitit into train and test datasets before training. \n",
    "# This will ensure all the required prepocessing is done on the test dataset as well. \n",
    "\n",
    "test_results = model.evaluate(test)"
   ]
  },
  {
   "cell_type": "code",
   "execution_count": 13,
   "metadata": {
    "execution": {
     "iopub.execute_input": "2022-07-06T12:55:38.698806Z",
     "iopub.status.busy": "2022-07-06T12:55:38.698634Z",
     "iopub.status.idle": "2022-07-06T12:55:50.039294Z",
     "shell.execute_reply": "2022-07-06T12:55:50.038712Z",
     "shell.execute_reply.started": "2022-07-06T12:55:38.698784Z"
    },
    "tags": []
   },
   "outputs": [
    {
     "data": {
      "application/vnd.jupyter.widget-view+json": {
       "model_id": "fec22a53959c49a9ad1a59b314e4ac66",
       "version_major": 2,
       "version_minor": 0
      },
      "text/plain": [
       "VBox()"
      ]
     },
     "metadata": {},
     "output_type": "display_data"
    },
    {
     "data": {
      "application/vnd.jupyter.widget-view+json": {
       "model_id": "",
       "version_major": 2,
       "version_minor": 0
      },
      "text/plain": [
       "FloatProgress(value=0.0, bar_style='info', description='Progress:', layout=Layout(height='25px', width='50%'),…"
      ]
     },
     "metadata": {},
     "output_type": "display_data"
    },
    {
     "name": "stdout",
     "output_type": "stream",
     "text": [
      "+-----+----+----------+--------+-----------+-------------+--------+----------+------------+---------+---------+------------+-----------+----------------+-----+---+---+----+---+----+------+---+-----+---------+---+----+---+--------------+----------------+-------------+---------------+---------------+------+--------+-----------------+-----------------+-------------------+----------------+------------------+------------------+-------------------+--------------------+-------------------+-------------------+-----------------+-----------------+--------------------+--------------------+--------------------+--------------------+----------+\n",
      "|click|  C1|banner_pos| site_id|site_domain|site_category|  app_id|app_domain|app_category|device_id|device_ip|device_model|device_type|device_conn_type|  C14|C15|C16| C17|C18| C19|   C20|C21|month|dayofweek|day|hour|  y|site_domain_ix|site_category_ix|app_domain_ix|app_category_ix|device_model_ix| C20_1|C20_1int|           C15Enc|           C21Enc|             C17Enc|app_domain_ixEnc|app_category_ixEnc|device_model_ixEnc|             C19Enc|              C14Enc|site_category_ixEnc|              C1Enc|site_domain_ixEnc|           C16Enc|         C20_1intEnc|            features|       rawPrediction|         probability|prediction|\n",
      "+-----+----+----------+--------+-----------+-------------+--------+----------+------------+---------+---------+------------+-----------+----------------+-----+---+---+----+---+----+------+---+-----+---------+---+----+---+--------------+----------------+-------------+---------------+---------------+------+--------+-----------------+-----------------+-------------------+----------------+------------------+------------------+-------------------+--------------------+-------------------+-------------------+-----------------+-----------------+--------------------+--------------------+--------------------+--------------------+----------+\n",
      "| true|1005|         0|83a0ad1a|   5c9ae867|     f028772b|ecad2386|  7801e8d9|    07d7df22| a99f214a| 9b8a580c|    8a4875bd|          1|               0|19950|320| 50|1800|  3| 167|100079| 23|   10|        3| 30|   8|  1|          23.0|             1.0|          0.0|            0.0|            0.0|100079|  100079|(768,[320],[1.0])| (253,[23],[1.0])|(2756,[1800],[1.0])|  (41,[0],[1.0])|    (13,[0],[1.0])|  (1375,[0],[1.0])| (1839,[167],[1.0])|(24041,[19950],[1...|     (14,[1],[1.0])|(1012,[1005],[1.0])| (471,[23],[1.0])|(1024,[50],[1.0])|(100248,[100079],...|(133858,[23,472,4...|[2.78007481281385...|[0.94158955919814...|       0.0|\n",
      "| true|1005|         0|85f751fd|   c4e18dd6|     50e219e0|03528b27|  2347f47a|    8ded1f7a| a99f214a| b6f47b26|    be6db1d7|          1|               0| 6991|320| 50| 613|  2|  39|100233| 32|   10|        1| 21|   8|  1|           0.0|             0.0|          1.0|            3.0|            3.0|100233|  100233|(768,[320],[1.0])| (253,[32],[1.0])| (2756,[613],[1.0])|  (41,[1],[1.0])|    (13,[3],[1.0])|  (1375,[3],[1.0])|  (1839,[39],[1.0])|(24041,[6991],[1.0])|     (14,[0],[1.0])|(1012,[1005],[1.0])|  (471,[0],[1.0])|(1024,[50],[1.0])|(100248,[100233],...|(133858,[0,471,48...|[0.16533826528272...|[0.54124066032291...|       0.0|\n",
      "|false|1005|         0|85f751fd|   c4e18dd6|     50e219e0|92f5800b|  ae637522|    0f2161f8| a99f214a| b6949769|    e1eae715|          1|               3|21189|320| 50|2424|  1| 161|100190| 71|   10|        4| 24|  17|  0|           0.0|             0.0|          2.0|            1.0|           11.0|100190|  100190|(768,[320],[1.0])| (253,[71],[1.0])|(2756,[2424],[1.0])|  (41,[2],[1.0])|    (13,[1],[1.0])| (1375,[11],[1.0])| (1839,[161],[1.0])|(24041,[21189],[1...|     (14,[0],[1.0])|(1012,[1005],[1.0])|  (471,[0],[1.0])|(1024,[50],[1.0])|(100248,[100190],...|(133858,[0,471,48...|[2.30162122367399...|[0.90901121905299...|       0.0|\n",
      "|false|1005|         0|826d04d2|   05a0f9ec|     c0dd3be3|ecad2386|  7801e8d9|    07d7df22| a99f214a| abd44a4b|    07bb0685|          1|               0|19771|320| 50|2227|  0| 679|100079| 48|   10|        4| 24|  16|  0|         383.0|             8.0|          0.0|            0.0|          390.0|100079|  100079|(768,[320],[1.0])| (253,[48],[1.0])|(2756,[2227],[1.0])|  (41,[0],[1.0])|    (13,[0],[1.0])|(1375,[390],[1.0])| (1839,[679],[1.0])|(24041,[19771],[1...|     (14,[8],[1.0])|(1012,[1005],[1.0])|(471,[383],[1.0])|(1024,[50],[1.0])|(100248,[100079],...|(133858,[383,479,...|[14.1391045538619...|[0.99999927645657...|       0.0|\n",
      "|false|1005|         0|1fbe01fe|   f3845767|     28905ebd|ecad2386|  7801e8d9|    07d7df22| a99f214a| 7c52c072|    8d96a23d|          1|               2|15702|320| 50|1722|  0|  35|    -1| 79|   10|        3| 23|  16|  0|           1.0|             2.0|          0.0|            0.0|          148.0|     0|       0|(768,[320],[1.0])| (253,[79],[1.0])|(2756,[1722],[1.0])|  (41,[0],[1.0])|    (13,[0],[1.0])|(1375,[148],[1.0])|  (1839,[35],[1.0])|(24041,[15702],[1...|     (14,[2],[1.0])|(1012,[1005],[1.0])|  (471,[1],[1.0])|(1024,[50],[1.0])|  (100248,[0],[1.0])|(133858,[1,473,48...|[12.8294770070937...|[0.99999731942621...|       0.0|\n",
      "|false|1005|         0|6256f5b4|   28f93029|     f028772b|ecad2386|  7801e8d9|    07d7df22| a99f214a| c5420cad|    5096d134|          1|               0|16615|320| 50|1863|  3|  39|    -1| 23|   10|        1| 28|   2|  0|          13.0|             1.0|          0.0|            0.0|           13.0|     0|       0|(768,[320],[1.0])| (253,[23],[1.0])|(2756,[1863],[1.0])|  (41,[0],[1.0])|    (13,[0],[1.0])| (1375,[13],[1.0])|  (1839,[39],[1.0])|(24041,[16615],[1...|     (14,[1],[1.0])|(1012,[1005],[1.0])| (471,[13],[1.0])|(1024,[50],[1.0])|  (100248,[0],[1.0])|(133858,[13,472,4...|[1.99233025447159...|[0.87998944908034...|       0.0|\n",
      "|false|1005|         0|1fbe01fe|   f3845767|     28905ebd|ecad2386|  7801e8d9|    07d7df22| a99f214a| 693bff3e|    8a4875bd|          1|               0|15699|320| 50|1722|  0|  35|    -1| 79|   10|        6| 26|  14|  0|           1.0|             2.0|          0.0|            0.0|            0.0|     0|       0|(768,[320],[1.0])| (253,[79],[1.0])|(2756,[1722],[1.0])|  (41,[0],[1.0])|    (13,[0],[1.0])|  (1375,[0],[1.0])|  (1839,[35],[1.0])|(24041,[15699],[1...|     (14,[2],[1.0])|(1012,[1005],[1.0])|  (471,[1],[1.0])|(1024,[50],[1.0])|  (100248,[0],[1.0])|(133858,[1,473,48...|[1.48890025451041...|[0.81591314942185...|       0.0|\n",
      "|false|1005|         0|85f751fd|   c4e18dd6|     50e219e0|92f5800b|  ae637522|    0f2161f8| a99f214a| c708ec66|    1277f67f|          1|               2|21189|320| 50|2424|  1| 161|    -1| 71|   10|        4| 24|  15|  0|           0.0|             0.0|          2.0|            1.0|          403.0|     0|       0|(768,[320],[1.0])| (253,[71],[1.0])|(2756,[2424],[1.0])|  (41,[2],[1.0])|    (13,[1],[1.0])|(1375,[403],[1.0])| (1839,[161],[1.0])|(24041,[21189],[1...|     (14,[0],[1.0])|(1012,[1005],[1.0])|  (471,[0],[1.0])|(1024,[50],[1.0])|  (100248,[0],[1.0])|(133858,[0,471,48...|[6.04429847863785...|[0.99763426616432...|       0.0|\n",
      "|false|1005|         1|5b4d2eda|   16a36ef3|     f028772b|ecad2386|  7801e8d9|    07d7df22| a99f214a| cf3fbb4e|    5ef191d3|          1|               0|17875|320| 50|2036|  3|  47|    -1|156|   10|        3| 23|  15|  0|           5.0|             1.0|          0.0|            0.0|          173.0|     0|       0|(768,[320],[1.0])|(253,[156],[1.0])|(2756,[2036],[1.0])|  (41,[0],[1.0])|    (13,[0],[1.0])|(1375,[173],[1.0])|  (1839,[47],[1.0])|(24041,[17875],[1...|     (14,[1],[1.0])|(1012,[1005],[1.0])|  (471,[5],[1.0])|(1024,[50],[1.0])|  (100248,[0],[1.0])|(133858,[5,472,48...|[2.04506496815215...|[0.88544801064101...|       0.0|\n",
      "|false|1005|         0|9f737c63|   5449fde7|     f028772b|ecad2386|  7801e8d9|    07d7df22| a99f214a| 5164deaf|    8ce34352|          1|               0|16920|320| 50|1899|  0| 431|    -1|117|   10|        3| 23|   9|  0|          73.0|             1.0|          0.0|            0.0|           46.0|     0|       0|(768,[320],[1.0])|(253,[117],[1.0])|(2756,[1899],[1.0])|  (41,[0],[1.0])|    (13,[0],[1.0])| (1375,[46],[1.0])| (1839,[431],[1.0])|(24041,[16920],[1...|     (14,[1],[1.0])|(1012,[1005],[1.0])| (471,[73],[1.0])|(1024,[50],[1.0])|  (100248,[0],[1.0])|(133858,[73,472,4...|[10.3401945182952...|[0.99996769300623...|       0.0|\n",
      "|false|1005|         1|0c2fe9d6|   27e3c518|     28905ebd|ecad2386|  7801e8d9|    07d7df22| a99f214a| 01c2969b|    d787e91b|          1|               0|20277|320| 50|2281|  3|  47|100181| 42|   10|        1| 21|   8|  0|          32.0|             2.0|          0.0|            0.0|            1.0|100181|  100181|(768,[320],[1.0])| (253,[42],[1.0])|(2756,[2281],[1.0])|  (41,[0],[1.0])|    (13,[0],[1.0])|  (1375,[1],[1.0])|  (1839,[47],[1.0])|(24041,[20277],[1...|     (14,[2],[1.0])|(1012,[1005],[1.0])| (471,[32],[1.0])|(1024,[50],[1.0])|(100248,[100181],...|(133858,[32,473,4...|[3.21087726995792...|[0.96124156253138...|       0.0|\n",
      "|false|1005|         0|1fbe01fe|   f3845767|     28905ebd|ecad2386|  7801e8d9|    07d7df22| a99f214a| 59ac940d|    23885c9e|          1|               0|20108|320| 50|2299|  2|1327|    -1| 52|   10|        5| 25|  16|  0|           1.0|             2.0|          0.0|            0.0|           98.0|     0|       0|(768,[320],[1.0])| (253,[52],[1.0])|(2756,[2299],[1.0])|  (41,[0],[1.0])|    (13,[0],[1.0])| (1375,[98],[1.0])|(1839,[1327],[1.0])|(24041,[20108],[1...|     (14,[2],[1.0])|(1012,[1005],[1.0])|  (471,[1],[1.0])|(1024,[50],[1.0])|  (100248,[0],[1.0])|(133858,[1,473,48...|[2.26034784208199...|[0.90553938889514...|       0.0|\n",
      "|false|1005|         0|85f751fd|   c4e18dd6|     50e219e0|febd1138|  82e27996|    0f2161f8| a99f214a| 9bc294da|    aad45b01|          1|               0|21611|320| 50|2480|  3| 297|100111| 61|   10|        6| 26|  16|  0|           0.0|             0.0|          4.0|            1.0|           20.0|100111|  100111|(768,[320],[1.0])| (253,[61],[1.0])|(2756,[2480],[1.0])|  (41,[4],[1.0])|    (13,[1],[1.0])| (1375,[20],[1.0])| (1839,[297],[1.0])|(24041,[21611],[1...|     (14,[0],[1.0])|(1012,[1005],[1.0])|  (471,[0],[1.0])|(1024,[50],[1.0])|(100248,[100111],...|(133858,[0,471,48...|[2.40677719601646...|[0.91734264082255...|       0.0|\n",
      "|false|1005|         0|4bf5bbe2|   6b560cc1|     28905ebd|ecad2386|  7801e8d9|    07d7df22| a99f214a| 44fb85a4|    32fa85fb|          1|               0|19665|320| 50|2253|  2| 303|100065| 52|   10|        5| 25|   0|  0|          28.0|             2.0|          0.0|            0.0|          453.0|100065|  100065|(768,[320],[1.0])| (253,[52],[1.0])|(2756,[2253],[1.0])|  (41,[0],[1.0])|    (13,[0],[1.0])|(1375,[453],[1.0])| (1839,[303],[1.0])|(24041,[19665],[1...|     (14,[2],[1.0])|(1012,[1005],[1.0])| (471,[28],[1.0])|(1024,[50],[1.0])|(100248,[100065],...|(133858,[28,473,4...|[19.4415952977629...|[0.99999999639734...|       0.0|\n",
      "|false|1005|         0|1fbe01fe|   f3845767|     28905ebd|ecad2386|  7801e8d9|    07d7df22| a99f214a| 44f3076f|    36d749e5|          1|               0|23160|320| 50|2667|  0|  35|    -1|221|   10|        1| 28|  11|  0|           1.0|             2.0|          0.0|            0.0|           34.0|     0|       0|(768,[320],[1.0])|(253,[221],[1.0])|(2756,[2667],[1.0])|  (41,[0],[1.0])|    (13,[0],[1.0])| (1375,[34],[1.0])|  (1839,[35],[1.0])|(24041,[23160],[1...|     (14,[2],[1.0])|(1012,[1005],[1.0])|  (471,[1],[1.0])|(1024,[50],[1.0])|  (100248,[0],[1.0])|(133858,[1,473,48...|[3.66162806576913...|[0.97495282566611...|       0.0|\n",
      "|false|1005|         1|0ed75ebe|   7885b01e|     3e814130|ecad2386|  7801e8d9|    07d7df22| a99f214a| 42fdd9e4|    d4897fef|          1|               0|22680|320| 50|2528|  0|  39|100079|221|   10|        1| 28|   6|  0|         217.0|             3.0|          0.0|            0.0|            9.0|100079|  100079|(768,[320],[1.0])|(253,[221],[1.0])|(2756,[2528],[1.0])|  (41,[0],[1.0])|    (13,[0],[1.0])|  (1375,[9],[1.0])|  (1839,[39],[1.0])|(24041,[22680],[1...|     (14,[3],[1.0])|(1012,[1005],[1.0])|(471,[217],[1.0])|(1024,[50],[1.0])|(100248,[100079],...|(133858,[217,474,...|[11.6088033155462...|[0.99999091433263...|       0.0|\n",
      "|false|1005|         0|1fbe01fe|   f3845767|     28905ebd|ecad2386|  7801e8d9|    07d7df22| a99f214a| 8e949a91|    8a4875bd|          1|               0|21732|320| 50|2502|  0|  35|    -1|221|   10|        2| 22|   5|  0|           1.0|             2.0|          0.0|            0.0|            0.0|     0|       0|(768,[320],[1.0])|(253,[221],[1.0])|(2756,[2502],[1.0])|  (41,[0],[1.0])|    (13,[0],[1.0])|  (1375,[0],[1.0])|  (1839,[35],[1.0])|(24041,[21732],[1...|     (14,[2],[1.0])|(1012,[1005],[1.0])|  (471,[1],[1.0])|(1024,[50],[1.0])|  (100248,[0],[1.0])|(133858,[1,473,48...|[12.0824988680171...|[0.99999434236459...|       0.0|\n",
      "| true|1005|         1|e8f79e60|   c4342784|     f028772b|ecad2386|  7801e8d9|    07d7df22| a99f214a| 737dfd7d|    c038c37d|          1|               0|22680|320| 50|2528|  0|  39|100076|221|   10|        1| 28|   7|  1|          12.0|             1.0|          0.0|            0.0|          939.0|100076|  100076|(768,[320],[1.0])|(253,[221],[1.0])|(2756,[2528],[1.0])|  (41,[0],[1.0])|    (13,[0],[1.0])|(1375,[939],[1.0])|  (1839,[39],[1.0])|(24041,[22680],[1...|     (14,[1],[1.0])|(1012,[1005],[1.0])| (471,[12],[1.0])|(1024,[50],[1.0])|(100248,[100076],...|(133858,[12,472,4...|[-18.343395973276...|[1.08034967283008...|       1.0|\n",
      "|false|1005|         0|2328ee8e|   7804dea6|     f028772b|ecad2386|  7801e8d9|    07d7df22| a99f214a| ff8dd461|    836d2439|          1|               0|20634|320| 50|2374|  3|  39|    -1| 23|   10|        5| 25|  15|  0|          69.0|             1.0|          0.0|            0.0|          108.0|     0|       0|(768,[320],[1.0])| (253,[23],[1.0])|(2756,[2374],[1.0])|  (41,[0],[1.0])|    (13,[0],[1.0])|(1375,[108],[1.0])|  (1839,[39],[1.0])|(24041,[20634],[1...|     (14,[1],[1.0])|(1012,[1005],[1.0])| (471,[69],[1.0])|(1024,[50],[1.0])|  (100248,[0],[1.0])|(133858,[69,472,4...|[1.57651850133065...|[0.82871088760495...|       0.0|\n",
      "| true|1005|         0|85f751fd|   c4e18dd6|     50e219e0|e2a1ca37|  2347f47a|    8ded1f7a| b9e33727| 6376a831|    57b3c6c3|          1|               0|17016|320| 50|1873|  3|  39|    -1| 23|   10|        2| 22|  19|  1|           0.0|             0.0|          1.0|            3.0|          131.0|     0|       0|(768,[320],[1.0])| (253,[23],[1.0])|(2756,[1873],[1.0])|  (41,[1],[1.0])|    (13,[3],[1.0])|(1375,[131],[1.0])|  (1839,[39],[1.0])|(24041,[17016],[1...|     (14,[0],[1.0])|(1012,[1005],[1.0])|  (471,[0],[1.0])|(1024,[50],[1.0])|  (100248,[0],[1.0])|(133858,[0,471,48...|[2.50598599613793...|[0.92456039657652...|       0.0|\n",
      "+-----+----+----------+--------+-----------+-------------+--------+----------+------------+---------+---------+------------+-----------+----------------+-----+---+---+----+---+----+------+---+-----+---------+---+----+---+--------------+----------------+-------------+---------------+---------------+------+--------+-----------------+-----------------+-------------------+----------------+------------------+------------------+-------------------+--------------------+-------------------+-------------------+-----------------+-----------------+--------------------+--------------------+--------------------+--------------------+----------+\n",
      "only showing top 20 rows"
     ]
    }
   ],
   "source": [
    "# Get the transformed dataset with all the added columns, such as prediction, probability\n",
    "\n",
    "test_results.predictions.show()"
   ]
  }
 ],
 "metadata": {
  "kernelspec": {
   "display_name": "PySpark",
   "language": "python",
   "name": "pysparkkernel"
  },
  "language_info": {
   "codemirror_mode": {
    "name": "python",
    "version": 3
   },
   "file_extension": ".py",
   "mimetype": "text/x-python",
   "name": "pyspark",
   "pygments_lexer": "python3"
  }
 },
 "nbformat": 4,
 "nbformat_minor": 4
}
