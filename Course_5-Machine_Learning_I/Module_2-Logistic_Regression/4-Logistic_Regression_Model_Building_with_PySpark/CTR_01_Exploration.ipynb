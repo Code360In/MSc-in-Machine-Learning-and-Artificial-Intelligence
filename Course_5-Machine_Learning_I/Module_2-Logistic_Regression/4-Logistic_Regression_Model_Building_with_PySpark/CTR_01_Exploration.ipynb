{
 "cells": [
  {
   "cell_type": "code",
   "execution_count": 1,
   "metadata": {
    "execution": {
     "iopub.execute_input": "2022-07-06T11:25:49.349884Z",
     "iopub.status.busy": "2022-07-06T11:25:49.349697Z",
     "iopub.status.idle": "2022-07-06T11:26:29.542076Z",
     "shell.execute_reply": "2022-07-06T11:26:29.541381Z",
     "shell.execute_reply.started": "2022-07-06T11:25:49.349862Z"
    },
    "tags": []
   },
   "outputs": [
    {
     "data": {
      "application/vnd.jupyter.widget-view+json": {
       "model_id": "11bb1ab5d8fd4a0497539d4bc040f013",
       "version_major": 2,
       "version_minor": 0
      },
      "text/plain": [
       "VBox()"
      ]
     },
     "metadata": {},
     "output_type": "display_data"
    },
    {
     "name": "stdout",
     "output_type": "stream",
     "text": [
      "Starting Spark application\n"
     ]
    },
    {
     "data": {
      "text/html": [
       "<table>\n",
       "<tr><th>ID</th><th>YARN Application ID</th><th>Kind</th><th>State</th><th>Spark UI</th><th>Driver log</th><th>User</th><th>Current session?</th></tr><tr><td>0</td><td>application_1657104984405_0001</td><td>pyspark</td><td>idle</td><td><a target=\"_blank\" href=\"http://ip-172-31-26-8.ec2.internal:20888/proxy/application_1657104984405_0001/\" class=\"emr-proxy-link\" emr-resource=\"j-CML9YXJXVZ4F\n",
       "\" application-id=\"application_1657104984405_0001\">Link</a></td><td><a target=\"_blank\" href=\"http://ip-172-31-24-113.ec2.internal:8042/node/containerlogs/container_1657104984405_0001_01_000001/livy\" >Link</a></td><td>None</td><td>✔</td></tr></table>"
      ],
      "text/plain": [
       "<IPython.core.display.HTML object>"
      ]
     },
     "metadata": {},
     "output_type": "display_data"
    },
    {
     "data": {
      "application/vnd.jupyter.widget-view+json": {
       "model_id": "",
       "version_major": 2,
       "version_minor": 0
      },
      "text/plain": [
       "FloatProgress(value=0.0, bar_style='info', description='Progress:', layout=Layout(height='25px', width='50%'),…"
      ]
     },
     "metadata": {},
     "output_type": "display_data"
    },
    {
     "name": "stdout",
     "output_type": "stream",
     "text": [
      "SparkSession available as 'spark'.\n"
     ]
    },
    {
     "data": {
      "application/vnd.jupyter.widget-view+json": {
       "model_id": "",
       "version_major": 2,
       "version_minor": 0
      },
      "text/plain": [
       "FloatProgress(value=0.0, bar_style='info', description='Progress:', layout=Layout(height='25px', width='50%'),…"
      ]
     },
     "metadata": {},
     "output_type": "display_data"
    },
    {
     "name": "stdout",
     "output_type": "stream",
     "text": [
      "<pyspark.sql.session.SparkSession object at 0x7f9ba0099910>"
     ]
    }
   ],
   "source": [
    "# calling a \"spark\" to create a spark session\n",
    "\n",
    "spark"
   ]
  },
  {
   "cell_type": "code",
   "execution_count": 2,
   "metadata": {
    "execution": {
     "iopub.execute_input": "2022-07-06T11:26:29.543680Z",
     "iopub.status.busy": "2022-07-06T11:26:29.543430Z",
     "iopub.status.idle": "2022-07-06T11:26:42.961957Z",
     "shell.execute_reply": "2022-07-06T11:26:42.961370Z",
     "shell.execute_reply.started": "2022-07-06T11:26:29.543645Z"
    },
    "tags": []
   },
   "outputs": [
    {
     "data": {
      "application/vnd.jupyter.widget-view+json": {
       "model_id": "4d3d126e547f4091ae86d87acddd87e7",
       "version_major": 2,
       "version_minor": 0
      },
      "text/plain": [
       "VBox()"
      ]
     },
     "metadata": {},
     "output_type": "display_data"
    },
    {
     "data": {
      "application/vnd.jupyter.widget-view+json": {
       "model_id": "",
       "version_major": 2,
       "version_minor": 0
      },
      "text/plain": [
       "FloatProgress(value=0.0, bar_style='info', description='Progress:', layout=Layout(height='25px', width='50%'),…"
      ]
     },
     "metadata": {},
     "output_type": "display_data"
    },
    {
     "name": "stdout",
     "output_type": "stream",
     "text": [
      "root\n",
      " |-- click: boolean (nullable = true)\n",
      " |-- C1: integer (nullable = true)\n",
      " |-- banner_pos: integer (nullable = true)\n",
      " |-- site_id: string (nullable = true)\n",
      " |-- site_domain: string (nullable = true)\n",
      " |-- site_category: string (nullable = true)\n",
      " |-- app_id: string (nullable = true)\n",
      " |-- app_domain: string (nullable = true)\n",
      " |-- app_category: string (nullable = true)\n",
      " |-- device_id: string (nullable = true)\n",
      " |-- device_ip: string (nullable = true)\n",
      " |-- device_model: string (nullable = true)\n",
      " |-- device_type: integer (nullable = true)\n",
      " |-- device_conn_type: integer (nullable = true)\n",
      " |-- C14: integer (nullable = true)\n",
      " |-- C15: integer (nullable = true)\n",
      " |-- C16: integer (nullable = true)\n",
      " |-- C17: integer (nullable = true)\n",
      " |-- C18: integer (nullable = true)\n",
      " |-- C19: integer (nullable = true)\n",
      " |-- C20: integer (nullable = true)\n",
      " |-- C21: integer (nullable = true)\n",
      " |-- month: integer (nullable = true)\n",
      " |-- dayofweek: integer (nullable = true)\n",
      " |-- day: integer (nullable = true)\n",
      " |-- hour: integer (nullable = true)"
     ]
    }
   ],
   "source": [
    "# read data from the S3 bucket\n",
    "df = sqlContext.read.csv('s3://machine-learning-upgrad-bucket/Data_for_Quiz_Segment.csv', header=True, inferSchema=True)\n",
    "df.printSchema()"
   ]
  },
  {
   "cell_type": "code",
   "execution_count": 3,
   "metadata": {
    "execution": {
     "iopub.execute_input": "2022-07-06T11:26:42.963417Z",
     "iopub.status.busy": "2022-07-06T11:26:42.963202Z",
     "iopub.status.idle": "2022-07-06T11:26:45.272008Z",
     "shell.execute_reply": "2022-07-06T11:26:45.271408Z",
     "shell.execute_reply.started": "2022-07-06T11:26:42.963390Z"
    },
    "tags": []
   },
   "outputs": [
    {
     "data": {
      "application/vnd.jupyter.widget-view+json": {
       "model_id": "262c94d6a324429abae2420f88acfd1b",
       "version_major": 2,
       "version_minor": 0
      },
      "text/plain": [
       "VBox()"
      ]
     },
     "metadata": {},
     "output_type": "display_data"
    },
    {
     "data": {
      "application/vnd.jupyter.widget-view+json": {
       "model_id": "",
       "version_major": 2,
       "version_minor": 0
      },
      "text/plain": [
       "FloatProgress(value=0.0, bar_style='info', description='Progress:', layout=Layout(height='25px', width='50%'),…"
      ]
     },
     "metadata": {},
     "output_type": "display_data"
    },
    {
     "name": "stdout",
     "output_type": "stream",
     "text": [
      "+-----+-----+\n",
      "|click|count|\n",
      "+-----+-----+\n",
      "| true| 1500|\n",
      "|false| 8500|\n",
      "+-----+-----+"
     ]
    }
   ],
   "source": [
    "# find the distribution of trues and false in the data set.\n",
    "\n",
    "df.groupby('click').count().show()"
   ]
  },
  {
   "cell_type": "code",
   "execution_count": 4,
   "metadata": {
    "execution": {
     "iopub.execute_input": "2022-07-06T11:26:45.273338Z",
     "iopub.status.busy": "2022-07-06T11:26:45.273159Z",
     "iopub.status.idle": "2022-07-06T11:26:46.723675Z",
     "shell.execute_reply": "2022-07-06T11:26:46.722956Z",
     "shell.execute_reply.started": "2022-07-06T11:26:45.273314Z"
    },
    "tags": []
   },
   "outputs": [
    {
     "data": {
      "application/vnd.jupyter.widget-view+json": {
       "model_id": "81853e587237475da36511a93302bf28",
       "version_major": 2,
       "version_minor": 0
      },
      "text/plain": [
       "VBox()"
      ]
     },
     "metadata": {},
     "output_type": "display_data"
    },
    {
     "data": {
      "application/vnd.jupyter.widget-view+json": {
       "model_id": "",
       "version_major": 2,
       "version_minor": 0
      },
      "text/plain": [
       "FloatProgress(value=0.0, bar_style='info', description='Progress:', layout=Layout(height='25px', width='50%'),…"
      ]
     },
     "metadata": {},
     "output_type": "display_data"
    },
    {
     "name": "stdout",
     "output_type": "stream",
     "text": [
      "+----+-----+\n",
      "|  C1|count|\n",
      "+----+-----+\n",
      "|1005| 9170|\n",
      "|1007|   11|\n",
      "|1001|    1|\n",
      "|1012|   28|\n",
      "|1010|  226|\n",
      "|1002|  564|\n",
      "+----+-----+"
     ]
    }
   ],
   "source": [
    "# find the distribution of categories of C1 in the data set\n",
    "\n",
    "df.groupBy('C1').count().show()"
   ]
  },
  {
   "cell_type": "code",
   "execution_count": 5,
   "metadata": {
    "execution": {
     "iopub.execute_input": "2022-07-06T11:26:46.725073Z",
     "iopub.status.busy": "2022-07-06T11:26:46.724817Z",
     "iopub.status.idle": "2022-07-06T11:26:47.009219Z",
     "shell.execute_reply": "2022-07-06T11:26:47.008571Z",
     "shell.execute_reply.started": "2022-07-06T11:26:46.725038Z"
    },
    "tags": []
   },
   "outputs": [
    {
     "data": {
      "application/vnd.jupyter.widget-view+json": {
       "model_id": "2c120553bd934368bde629d28279816b",
       "version_major": 2,
       "version_minor": 0
      },
      "text/plain": [
       "VBox()"
      ]
     },
     "metadata": {},
     "output_type": "display_data"
    },
    {
     "data": {
      "application/vnd.jupyter.widget-view+json": {
       "model_id": "",
       "version_major": 2,
       "version_minor": 0
      },
      "text/plain": [
       "FloatProgress(value=0.0, bar_style='info', description='Progress:', layout=Layout(height='25px', width='50%'),…"
      ]
     },
     "metadata": {},
     "output_type": "display_data"
    }
   ],
   "source": [
    "# change the label column from ture and false to 1 and 0.\n",
    "from pyspark.sql.types import IntegerType\n",
    "\n",
    "df = df.withColumn(\"y\", df[\"click\"].cast(IntegerType()))"
   ]
  },
  {
   "cell_type": "code",
   "execution_count": 6,
   "metadata": {
    "execution": {
     "iopub.execute_input": "2022-07-06T11:26:47.010350Z",
     "iopub.status.busy": "2022-07-06T11:26:47.010149Z",
     "iopub.status.idle": "2022-07-06T11:26:48.414009Z",
     "shell.execute_reply": "2022-07-06T11:26:48.390783Z",
     "shell.execute_reply.started": "2022-07-06T11:26:47.010323Z"
    },
    "tags": []
   },
   "outputs": [
    {
     "data": {
      "application/vnd.jupyter.widget-view+json": {
       "model_id": "bb3bc6cd16e24c70be0218172800f2f7",
       "version_major": 2,
       "version_minor": 0
      },
      "text/plain": [
       "VBox()"
      ]
     },
     "metadata": {},
     "output_type": "display_data"
    },
    {
     "data": {
      "application/vnd.jupyter.widget-view+json": {
       "model_id": "",
       "version_major": 2,
       "version_minor": 0
      },
      "text/plain": [
       "FloatProgress(value=0.0, bar_style='info', description='Progress:', layout=Layout(height='25px', width='50%'),…"
      ]
     },
     "metadata": {},
     "output_type": "display_data"
    },
    {
     "name": "stdout",
     "output_type": "stream",
     "text": [
      "Percentage of Clicks: 15.0"
     ]
    }
   ],
   "source": [
    "click_percent = (df.filter(\"y==1\").count()/df.count())*100\n",
    "print(f\"Percentage of Clicks: {click_percent}\")"
   ]
  },
  {
   "cell_type": "code",
   "execution_count": 7,
   "metadata": {
    "execution": {
     "iopub.execute_input": "2022-07-06T11:26:48.436475Z",
     "iopub.status.busy": "2022-07-06T11:26:48.436162Z",
     "iopub.status.idle": "2022-07-06T11:26:50.159270Z",
     "shell.execute_reply": "2022-07-06T11:26:50.150245Z",
     "shell.execute_reply.started": "2022-07-06T11:26:48.436434Z"
    }
   },
   "outputs": [
    {
     "data": {
      "application/vnd.jupyter.widget-view+json": {
       "model_id": "96efb730e79041838938d71332255ac5",
       "version_major": 2,
       "version_minor": 0
      },
      "text/plain": [
       "VBox()"
      ]
     },
     "metadata": {},
     "output_type": "display_data"
    },
    {
     "data": {
      "application/vnd.jupyter.widget-view+json": {
       "model_id": "",
       "version_major": 2,
       "version_minor": 0
      },
      "text/plain": [
       "FloatProgress(value=0.0, bar_style='info', description='Progress:', layout=Layout(height='25px', width='50%'),…"
      ]
     },
     "metadata": {},
     "output_type": "display_data"
    },
    {
     "name": "stdout",
     "output_type": "stream",
     "text": [
      "+----+-------------------+\n",
      "|  C1|             avg(y)|\n",
      "+----+-------------------+\n",
      "|1005| 0.1509269356597601|\n",
      "|1007|                0.0|\n",
      "|1001|                0.0|\n",
      "|1012|0.14285714285714285|\n",
      "|1010|0.06637168141592921|\n",
      "|1002|0.17198581560283688|\n",
      "+----+-------------------+"
     ]
    }
   ],
   "source": [
    "# Find the percentage of 'true' labels present in each category of C1.\n",
    "\n",
    "df.groupby('C1').agg({'y': 'mean'}).show()"
   ]
  },
  {
   "cell_type": "code",
   "execution_count": 8,
   "metadata": {
    "execution": {
     "iopub.execute_input": "2022-07-06T11:26:50.164770Z",
     "iopub.status.busy": "2022-07-06T11:26:50.164589Z",
     "iopub.status.idle": "2022-07-06T11:26:51.489829Z",
     "shell.execute_reply": "2022-07-06T11:26:51.489121Z",
     "shell.execute_reply.started": "2022-07-06T11:26:50.164747Z"
    }
   },
   "outputs": [
    {
     "data": {
      "application/vnd.jupyter.widget-view+json": {
       "model_id": "9731d4fb6d2e4f8f90d2be50c4dfa993",
       "version_major": 2,
       "version_minor": 0
      },
      "text/plain": [
       "VBox()"
      ]
     },
     "metadata": {},
     "output_type": "display_data"
    },
    {
     "data": {
      "application/vnd.jupyter.widget-view+json": {
       "model_id": "",
       "version_major": 2,
       "version_minor": 0
      },
      "text/plain": [
       "FloatProgress(value=0.0, bar_style='info', description='Progress:', layout=Layout(height='25px', width='50%'),…"
      ]
     },
     "metadata": {},
     "output_type": "display_data"
    },
    {
     "name": "stdout",
     "output_type": "stream",
     "text": [
      "+----------+-------------------+\n",
      "|banner_pos|             avg(y)|\n",
      "+----------+-------------------+\n",
      "|         1|0.15577534440127164|\n",
      "|         3|                0.0|\n",
      "|         4|                0.5|\n",
      "|         2| 0.3333333333333333|\n",
      "|         7|                0.5|\n",
      "|         0|0.14719038300251608|\n",
      "+----------+-------------------+"
     ]
    }
   ],
   "source": [
    "#same analysis as earlier on banner possition column\n",
    "\n",
    "df.groupby('banner_pos').agg({'y': 'mean'}).show()"
   ]
  },
  {
   "cell_type": "code",
   "execution_count": 9,
   "metadata": {
    "execution": {
     "iopub.execute_input": "2022-07-06T11:26:51.491097Z",
     "iopub.status.busy": "2022-07-06T11:26:51.490868Z",
     "iopub.status.idle": "2022-07-06T11:26:53.400319Z",
     "shell.execute_reply": "2022-07-06T11:26:53.399565Z",
     "shell.execute_reply.started": "2022-07-06T11:26:51.491063Z"
    }
   },
   "outputs": [
    {
     "data": {
      "application/vnd.jupyter.widget-view+json": {
       "model_id": "357599c5d11a4ea4a2c0711c40daa56c",
       "version_major": 2,
       "version_minor": 0
      },
      "text/plain": [
       "VBox()"
      ]
     },
     "metadata": {},
     "output_type": "display_data"
    },
    {
     "data": {
      "application/vnd.jupyter.widget-view+json": {
       "model_id": "",
       "version_major": 2,
       "version_minor": 0
      },
      "text/plain": [
       "FloatProgress(value=0.0, bar_style='info', description='Progress:', layout=Layout(height='25px', width='50%'),…"
      ]
     },
     "metadata": {},
     "output_type": "display_data"
    },
    {
     "name": "stdout",
     "output_type": "stream",
     "text": [
      "+-----------+-------------+--------+-----+\n",
      "|site_domain|site_category| site_id|count|\n",
      "+-----------+-------------+--------+-----+\n",
      "|   c64eedbf|     f028772b|baad47dc|    1|\n",
      "|   c4e18dd6|     50e219e0|052ba598|    1|\n",
      "|   c4e18dd6|     50e219e0|34855652|    1|\n",
      "|   bd6d812f|     f028772b|57ef2c87|   81|\n",
      "|   db11867b|     c0dd3be3|d266097b|    9|\n",
      "|   7256c623|     50e219e0|cc1b7a47|    5|\n",
      "|   0dde25ec|     f028772b|17caea14|   91|\n",
      "|   4b3cef6f|     f028772b|17a9a9bb|    1|\n",
      "|   2ec930cc|     f028772b|4bdfbbaf|    1|\n",
      "|   c4e18dd6|     50e219e0|066a0884|    1|\n",
      "|   e16ceb4b|     28905ebd|f9c69707|   14|\n",
      "|   3fa3aa64|     f028772b|a8c88b36|    4|\n",
      "|   471fd2c7|     f028772b|7db40700|    1|\n",
      "|   7a880170|     50e219e0|afa9c558|    1|\n",
      "|   effa675a|     50e219e0|69bc54b5|    1|\n",
      "|   b9c4ab81|     f028772b|cd58172f|    3|\n",
      "|   01cb1dc6|     50e219e0|3ce4be5b|    1|\n",
      "|   e6221ce3|     50e219e0|56e4c612|    1|\n",
      "|   c4e18dd6|     50e219e0|69bc54b5|    1|\n",
      "|   7b1e349b|     335d28a8|a469e235|    3|\n",
      "+-----------+-------------+--------+-----+\n",
      "only showing top 20 rows"
     ]
    }
   ],
   "source": [
    "# Explore the differnet combinations by combining multiple fetures and display the number of true classes in each.  \n",
    "\n",
    "df.groupby('site_domain', 'site_category', 'site_id').count().show()"
   ]
  },
  {
   "cell_type": "code",
   "execution_count": 10,
   "metadata": {
    "execution": {
     "iopub.execute_input": "2022-07-06T11:26:53.401427Z",
     "iopub.status.busy": "2022-07-06T11:26:53.401229Z",
     "iopub.status.idle": "2022-07-06T11:26:55.757467Z",
     "shell.execute_reply": "2022-07-06T11:26:55.756634Z",
     "shell.execute_reply.started": "2022-07-06T11:26:53.401401Z"
    },
    "tags": []
   },
   "outputs": [
    {
     "data": {
      "application/vnd.jupyter.widget-view+json": {
       "model_id": "25eb40984899428885c049dcf06ab68f",
       "version_major": 2,
       "version_minor": 0
      },
      "text/plain": [
       "VBox()"
      ]
     },
     "metadata": {},
     "output_type": "display_data"
    },
    {
     "data": {
      "application/vnd.jupyter.widget-view+json": {
       "model_id": "",
       "version_major": 2,
       "version_minor": 0
      },
      "text/plain": [
       "FloatProgress(value=0.0, bar_style='info', description='Progress:', layout=Layout(height='25px', width='50%'),…"
      ]
     },
     "metadata": {},
     "output_type": "display_data"
    },
    {
     "name": "stdout",
     "output_type": "stream",
     "text": [
      "+----+-------------------+\n",
      "|  C1|             avg(y)|\n",
      "+----+-------------------+\n",
      "|1005| 0.1509269356597601|\n",
      "|1007|                0.0|\n",
      "|1001|                0.0|\n",
      "|1012|0.14285714285714285|\n",
      "|1010|0.06637168141592921|\n",
      "|1002|0.17198581560283688|\n",
      "+----+-------------------+\n",
      "\n",
      "+-----+-------------------+\n",
      "|  C14|             avg(y)|\n",
      "+-----+-------------------+\n",
      "|20382|                0.0|\n",
      "|22990|               0.25|\n",
      "|23709|                0.0|\n",
      "|23123|                0.0|\n",
      "|22225|                0.0|\n",
      "|22116|                0.5|\n",
      "|23141|                0.0|\n",
      "|22265|                0.0|\n",
      "|21311|                0.0|\n",
      "|23994|                0.0|\n",
      "|23202|                0.0|\n",
      "|22802|                0.0|\n",
      "|22262|                0.0|\n",
      "|22202|                0.0|\n",
      "|16352|                0.0|\n",
      "|21411|                0.5|\n",
      "|22106|                0.4|\n",
      "|23739|                0.0|\n",
      "|18496|                1.0|\n",
      "|22104|0.16666666666666666|\n",
      "+-----+-------------------+\n",
      "only showing top 20 rows\n",
      "\n",
      "+---+--------------------+\n",
      "|C15|              avg(y)|\n",
      "+---+--------------------+\n",
      "|300| 0.33211678832116787|\n",
      "|320|  0.1397883937159346|\n",
      "|728|0.058823529411764705|\n",
      "|768|                 1.0|\n",
      "|216|  0.1038961038961039|\n",
      "+---+--------------------+\n",
      "\n",
      "+----+--------------------+\n",
      "| C16|              avg(y)|\n",
      "+----+--------------------+\n",
      "| 250|  0.3981042654028436|\n",
      "|  90|0.058823529411764705|\n",
      "|  36|  0.1038961038961039|\n",
      "|  50|  0.1393087411478702|\n",
      "| 480| 0.18181818181818182|\n",
      "|1024|                 1.0|\n",
      "+----+--------------------+"
     ]
    }
   ],
   "source": [
    "df = df.withColumn(\"y\", df[\"click\"].cast(IntegerType()))\n",
    "df.groupby('C1').agg({'y': 'mean'}).show()\n",
    "\n",
    "df = df.withColumn(\"y\", df[\"click\"].cast(IntegerType()))\n",
    "df.groupby('C14').agg({'y': 'mean'}).show()\n",
    "\n",
    "df = df.withColumn(\"y\", df[\"click\"].cast(IntegerType()))\n",
    "df.groupby('C15').agg({'y': 'mean'}).show()\n",
    "\n",
    "df = df.withColumn(\"y\", df[\"click\"].cast(IntegerType()))\n",
    "df.groupby('C16').agg({'y': 'mean'}).show()"
   ]
  }
 ],
 "metadata": {
  "kernelspec": {
   "display_name": "PySpark",
   "language": "python",
   "name": "pysparkkernel"
  },
  "language_info": {
   "codemirror_mode": {
    "name": "python",
    "version": 3
   },
   "file_extension": ".py",
   "mimetype": "text/x-python",
   "name": "pyspark",
   "pygments_lexer": "python3"
  }
 },
 "nbformat": 4,
 "nbformat_minor": 4
}
