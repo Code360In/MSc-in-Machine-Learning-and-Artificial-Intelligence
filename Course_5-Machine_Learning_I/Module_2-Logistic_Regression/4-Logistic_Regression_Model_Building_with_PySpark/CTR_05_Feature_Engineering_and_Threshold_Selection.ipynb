{
  "cells": [
    {
      "cell_type": "markdown",
      "metadata": {
        "id": "qokLRIyt14lx"
      },
      "source": [
        "# Feature engineering"
      ]
    },
    {
      "cell_type": "code",
      "source": [
        "!pip install -q pyspark\n",
        "!pip install -q ipython-autotime"
      ],
      "metadata": {
        "id": "DWmRmF5P0bQU"
      },
      "execution_count": 1,
      "outputs": []
    },
    {
      "cell_type": "code",
      "source": [
        "%load_ext autotime"
      ],
      "metadata": {
        "colab": {
          "base_uri": "https://localhost:8080/"
        },
        "id": "g3tAE8n8JLMW",
        "outputId": "57204089-ffac-4983-cb9d-13f827080379"
      },
      "execution_count": 2,
      "outputs": [
        {
          "output_type": "stream",
          "name": "stdout",
          "text": [
            "time: 134 µs (started: 2022-07-08 19:30:48 +00:00)\n"
          ]
        }
      ]
    },
    {
      "cell_type": "code",
      "source": [
        "def download_file_google_drive(id: str, f_name: str, f_save_path: str=\"\"):\n",
        "    \"\"\"\n",
        "    Download file from Google Drive\n",
        "\n",
        "    Args:\n",
        "        id (str): Google Drive File ID\n",
        "        f_name (str): File name\n",
        "        f_save_path (str): File save path. \n",
        "            default: Current working directory\n",
        "    \"\"\"\n",
        "    import os, requests\n",
        "\n",
        "    def get_confirm_token(response):\n",
        "        for key, value in response.cookies.items():\n",
        "            if key.startswith('download_warning'):\n",
        "                return value\n",
        "        return None\n",
        "\n",
        "    def save_response_content(response, destination):\n",
        "        CHUNK_SIZE = 32768\n",
        "        with open(destination, \"wb\") as f:\n",
        "            for chunk in response.iter_content(CHUNK_SIZE):\n",
        "                if chunk: # filter out keep-alive new chunks\n",
        "                    f.write(chunk)\n",
        "\n",
        "    URL = \"https://docs.google.com/uc?export=download\"\n",
        "\n",
        "    f_save_path = os.getcwd() if not f_save_path else f_save_path.rstrip(\"/\")\n",
        "    destination = f\"{f_save_path}/{f_name}\"\n",
        "\n",
        "    session = requests.Session()\n",
        "    response = session.get(URL, params = { 'id' : id }, stream = True)\n",
        "    token = get_confirm_token(response)\n",
        "\n",
        "    if token:\n",
        "        params = { 'id' : id, 'confirm' : token }\n",
        "        response = session.get(URL, params = params, stream = True)\n",
        "    save_response_content(response, destination)    \n",
        "   \n",
        "\n",
        "                \n",
        "file_id = \"1dacdNyWhG2Kqbhkk_SdRqKMzjUGDC_BO\"\n",
        "file_name = 'Model_Improvement_Dataset.csv'\n",
        "download_file_google_drive(file_id, file_name)"
      ],
      "metadata": {
        "id": "z4_ZR9MY5UFC",
        "colab": {
          "base_uri": "https://localhost:8080/"
        },
        "outputId": "1c0614e7-4135-4ab2-9b02-08e5bd5ee732"
      },
      "execution_count": 3,
      "outputs": [
        {
          "output_type": "stream",
          "name": "stdout",
          "text": [
            "time: 2.3 s (started: 2022-07-08 19:30:48 +00:00)\n"
          ]
        }
      ]
    },
    {
      "cell_type": "code",
      "execution_count": 4,
      "metadata": {
        "id": "WN1j_eN414l0",
        "colab": {
          "base_uri": "https://localhost:8080/"
        },
        "outputId": "cffb47f7-a92b-4712-ccb1-a4bab3240c96"
      },
      "outputs": [
        {
          "output_type": "stream",
          "name": "stdout",
          "text": [
            "time: 7.17 s (started: 2022-07-08 19:30:51 +00:00)\n"
          ]
        }
      ],
      "source": [
        "# start a spark application\n",
        "from pyspark.sql import SparkSession\n",
        "\n",
        "spark = SparkSession.builder\\\n",
        "        .master(\"local\")\\\n",
        "        .appName(\"Colab\")\\\n",
        "        .config('spark.ui.port', '4050')\\\n",
        "        .getOrCreate()"
      ]
    },
    {
      "cell_type": "code",
      "execution_count": 5,
      "metadata": {
        "colab": {
          "base_uri": "https://localhost:8080/"
        },
        "id": "fzTXuTaR14l1",
        "outputId": "dd92b050-8acb-472f-b759-1ee1458233a9"
      },
      "outputs": [
        {
          "output_type": "stream",
          "name": "stderr",
          "text": [
            "/usr/local/lib/python3.7/dist-packages/pyspark/sql/context.py:114: FutureWarning: Deprecated in 3.0.0. Use SparkSession.builder.getOrCreate() instead.\n",
            "  FutureWarning,\n"
          ]
        },
        {
          "output_type": "stream",
          "name": "stdout",
          "text": [
            "time: 15.1 s (started: 2022-07-08 19:30:58 +00:00)\n"
          ]
        }
      ],
      "source": [
        "# read the data \n",
        "from pyspark.sql import SQLContext\n",
        "sqlContext = SQLContext(spark)\n",
        "\n",
        "df = sqlContext.read.csv(\"/content/Model_Improvement_Dataset.csv\", header=True, inferSchema=True)"
      ]
    },
    {
      "cell_type": "code",
      "source": [
        "from pyspark.sql.types import IntegerType\n",
        "from math import floor\n",
        "from pyspark.sql.functions import rand\n",
        "from pyspark.sql.functions import col\n",
        "\n",
        "def stratifiedSample(df, N, labelCol=\"y\"):\n",
        "    ctx = df.groupby(labelCol).count()\n",
        "    ctx = ctx.withColumn('frac', col(\"count\") / df.count())\n",
        "    frac = ctx.select(\"y\", \"frac\").rdd.collectAsMap()\n",
        "    pos = int(floor(frac[1] * N))\n",
        "    neg = int(floor(frac[0] * N))\n",
        "    posDF = df.filter(col(labelCol) == 1).orderBy(rand()).limit(pos)\n",
        "    negDF = df.filter(col(labelCol) == 0).orderBy(rand()).limit(neg)\n",
        "    return posDF.unionAll(negDF).orderBy(rand())\n",
        "\n",
        "df = df.withColumn(\"y\", df[\"click\"].cast(IntegerType()))\n",
        "xdf = stratifiedSample(df, 1_000_000)\n",
        "\n",
        "xdf.printSchema()"
      ],
      "metadata": {
        "colab": {
          "base_uri": "https://localhost:8080/"
        },
        "id": "FmKPrUREWCQf",
        "outputId": "4154bcd2-41ff-4d8d-efc3-6b345a80c9a6"
      },
      "execution_count": 6,
      "outputs": [
        {
          "output_type": "stream",
          "name": "stdout",
          "text": [
            "root\n",
            " |-- click: boolean (nullable = true)\n",
            " |-- C1: integer (nullable = true)\n",
            " |-- banner_pos: integer (nullable = true)\n",
            " |-- site_id: string (nullable = true)\n",
            " |-- site_domain: string (nullable = true)\n",
            " |-- site_category: string (nullable = true)\n",
            " |-- app_id: string (nullable = true)\n",
            " |-- app_domain: string (nullable = true)\n",
            " |-- app_category: string (nullable = true)\n",
            " |-- device_id: string (nullable = true)\n",
            " |-- device_ip: string (nullable = true)\n",
            " |-- device_model: string (nullable = true)\n",
            " |-- device_type: integer (nullable = true)\n",
            " |-- device_conn_type: integer (nullable = true)\n",
            " |-- C14: integer (nullable = true)\n",
            " |-- C15: integer (nullable = true)\n",
            " |-- C16: integer (nullable = true)\n",
            " |-- C17: integer (nullable = true)\n",
            " |-- C18: integer (nullable = true)\n",
            " |-- C19: integer (nullable = true)\n",
            " |-- C20: integer (nullable = true)\n",
            " |-- C21: integer (nullable = true)\n",
            " |-- month: integer (nullable = true)\n",
            " |-- dayofweek: integer (nullable = true)\n",
            " |-- day: integer (nullable = true)\n",
            " |-- hour: integer (nullable = true)\n",
            " |-- y: integer (nullable = true)\n",
            "\n",
            "time: 4.3 s (started: 2022-07-08 19:31:13 +00:00)\n"
          ]
        }
      ]
    },
    {
      "cell_type": "code",
      "source": [
        "xdf.printSchema()"
      ],
      "metadata": {
        "colab": {
          "base_uri": "https://localhost:8080/"
        },
        "id": "ViBclhI9w7Db",
        "outputId": "263ee334-0859-468d-8675-62bc8eee803d"
      },
      "execution_count": 7,
      "outputs": [
        {
          "output_type": "stream",
          "name": "stdout",
          "text": [
            "root\n",
            " |-- click: boolean (nullable = true)\n",
            " |-- C1: integer (nullable = true)\n",
            " |-- banner_pos: integer (nullable = true)\n",
            " |-- site_id: string (nullable = true)\n",
            " |-- site_domain: string (nullable = true)\n",
            " |-- site_category: string (nullable = true)\n",
            " |-- app_id: string (nullable = true)\n",
            " |-- app_domain: string (nullable = true)\n",
            " |-- app_category: string (nullable = true)\n",
            " |-- device_id: string (nullable = true)\n",
            " |-- device_ip: string (nullable = true)\n",
            " |-- device_model: string (nullable = true)\n",
            " |-- device_type: integer (nullable = true)\n",
            " |-- device_conn_type: integer (nullable = true)\n",
            " |-- C14: integer (nullable = true)\n",
            " |-- C15: integer (nullable = true)\n",
            " |-- C16: integer (nullable = true)\n",
            " |-- C17: integer (nullable = true)\n",
            " |-- C18: integer (nullable = true)\n",
            " |-- C19: integer (nullable = true)\n",
            " |-- C20: integer (nullable = true)\n",
            " |-- C21: integer (nullable = true)\n",
            " |-- month: integer (nullable = true)\n",
            " |-- dayofweek: integer (nullable = true)\n",
            " |-- day: integer (nullable = true)\n",
            " |-- hour: integer (nullable = true)\n",
            " |-- y: integer (nullable = true)\n",
            "\n",
            "time: 7.22 ms (started: 2022-07-08 19:31:17 +00:00)\n"
          ]
        }
      ]
    },
    {
      "cell_type": "code",
      "execution_count": 8,
      "metadata": {
        "colab": {
          "base_uri": "https://localhost:8080/"
        },
        "id": "fhjH0fM914l2",
        "outputId": "7af7b519-6a7b-486e-c1e5-5a3158424c2e"
      },
      "outputs": [
        {
          "output_type": "stream",
          "name": "stdout",
          "text": [
            "+--------+-----------+-------------+--------+----------+------------+\n",
            "| site_id|site_domain|site_category|  app_id|app_domain|app_category|\n",
            "+--------+-----------+-------------+--------+----------+------------+\n",
            "|5bcf81a2|   9d54950b|     f028772b|ecad2386|  7801e8d9|    07d7df22|\n",
            "|85f751fd|   c4e18dd6|     50e219e0|7e7baafa|  2347f47a|    0f2161f8|\n",
            "|a7853007|   7e091613|     f028772b|ecad2386|  7801e8d9|    07d7df22|\n",
            "|1fbe01fe|   f3845767|     28905ebd|ecad2386|  7801e8d9|    07d7df22|\n",
            "|85f751fd|   c4e18dd6|     50e219e0|576ea112|  2347f47a|    0f2161f8|\n",
            "|85f751fd|   c4e18dd6|     50e219e0|e2a1ca37|  2347f47a|    8ded1f7a|\n",
            "|e151e245|   7e091613|     f028772b|ecad2386|  7801e8d9|    07d7df22|\n",
            "|6c5b482c|   7687a86e|     3e814130|ecad2386|  7801e8d9|    07d7df22|\n",
            "|1fbe01fe|   f3845767|     28905ebd|ecad2386|  7801e8d9|    07d7df22|\n",
            "|85f751fd|   c4e18dd6|     50e219e0|febd1138|  82e27996|    0f2161f8|\n",
            "|85f751fd|   c4e18dd6|     50e219e0|febd1138|  82e27996|    0f2161f8|\n",
            "|85f751fd|   c4e18dd6|     50e219e0|9c13b419|  2347f47a|    f95efa07|\n",
            "|85f751fd|   c4e18dd6|     50e219e0|e2fcccd2|  5c5a694b|    0f2161f8|\n",
            "|85f751fd|   c4e18dd6|     50e219e0|7e0b0e58|  7801e8d9|    0f2161f8|\n",
            "|85f751fd|   c4e18dd6|     50e219e0|e96773f0|  2347f47a|    0f2161f8|\n",
            "|ce3307ec|   7e091613|     f028772b|ecad2386|  7801e8d9|    07d7df22|\n",
            "|85f751fd|   c4e18dd6|     50e219e0|de691c68|  df32afa9|    cef3e649|\n",
            "|1fbe01fe|   f3845767|     28905ebd|ecad2386|  7801e8d9|    07d7df22|\n",
            "|df7971d4|   ace5b8fd|     50e219e0|ecad2386|  7801e8d9|    07d7df22|\n",
            "|85f751fd|   c4e18dd6|     50e219e0|93d786c6|  2347f47a|    0f2161f8|\n",
            "+--------+-----------+-------------+--------+----------+------------+\n",
            "only showing top 20 rows\n",
            "\n",
            "time: 3.15 s (started: 2022-07-08 19:31:17 +00:00)\n"
          ]
        }
      ],
      "source": [
        "# select the columns 'site_id','site_domain','site_category','app_id','app_domain','app_category' and display them, \n",
        "# so that you can analyse the values as they were shown in the segment \n",
        "\n",
        "cols = [\"site_id\", \"site_domain\", \"site_category\", \"app_id\", \"app_domain\", \"app_category\"]\n",
        "xdf.select(*cols).show()\n"
      ]
    },
    {
      "cell_type": "code",
      "execution_count": 9,
      "metadata": {
        "id": "R46nYfwc14l2",
        "colab": {
          "base_uri": "https://localhost:8080/"
        },
        "outputId": "8576babb-e4f5-4d10-db90-7b0b91f9312d"
      },
      "outputs": [
        {
          "output_type": "stream",
          "name": "stdout",
          "text": [
            "time: 96 ms (started: 2022-07-08 19:31:20 +00:00)\n"
          ]
        }
      ],
      "source": [
        "# create 3 new columns in the datafeame named 'pub_id', 'pub_domain', 'pub_category' \n",
        "# these columns will have the data from 'site_id','site_domain','site_category'\n",
        "# Use the withColumn method \n",
        "\n",
        "xdf = xdf.withColumn(\"pub_id\", xdf[\"site_id\"])\n",
        "xdf = xdf.withColumn(\"pub_domain\", xdf[\"site_domain\"])\n",
        "xdf = xdf.withColumn(\"pub_category\", xdf[\"site_category\"])"
      ]
    },
    {
      "cell_type": "code",
      "execution_count": 10,
      "metadata": {
        "id": "Ap18CCHu14l3",
        "colab": {
          "base_uri": "https://localhost:8080/"
        },
        "outputId": "ffdb7f8d-26af-4e12-a4ba-ca1724769041"
      },
      "outputs": [
        {
          "output_type": "stream",
          "name": "stdout",
          "text": [
            "time: 202 ms (started: 2022-07-08 19:31:20 +00:00)\n"
          ]
        }
      ],
      "source": [
        "# replace the values in the columns 'pub_id', 'pub_domain', 'pub_category' with the values 'app_id','app_domain','app_category'\n",
        "# the replcement should only happen if the value in site_id is '85f751fd'\n",
        "# you will need withColumn and when functions\n",
        "\n",
        "from pyspark.sql import functions as F\n",
        "\n",
        "xdf = xdf.withColumn(\"pub_id\", F.when(F.col(\"site_id\") == \"85f751fd\", F.col(\"app_id\")).otherwise(F.col(\"site_id\")))\n",
        "xdf = xdf.withColumn(\"pub_domain\", F.when(F.col(\"site_id\") == \"85f751fd\", F.col(\"app_domain\")).otherwise(F.col(\"site_domain\")))\n",
        "xdf = xdf.withColumn(\"pub_category\", F.when(F.col(\"site_id\") == \"85f751fd\", F.col(\"app_category\")).otherwise(F.col(\"site_category\")))\n"
      ]
    },
    {
      "cell_type": "code",
      "execution_count": 11,
      "metadata": {
        "id": "CUjcMAdy14l3",
        "colab": {
          "base_uri": "https://localhost:8080/"
        },
        "outputId": "f656f207-df90-4db2-f8f9-243079594405"
      },
      "outputs": [
        {
          "output_type": "stream",
          "name": "stdout",
          "text": [
            "time: 54.6 ms (started: 2022-07-08 19:31:21 +00:00)\n"
          ]
        }
      ],
      "source": [
        "# drop all the columns which are now redundunt \n",
        "xdf = xdf.drop(*tuple(cols))"
      ]
    },
    {
      "cell_type": "code",
      "execution_count": 12,
      "metadata": {
        "colab": {
          "base_uri": "https://localhost:8080/"
        },
        "id": "GqZkSEox14l4",
        "outputId": "a4c8b3e7-6fe1-497c-ad5c-2227325bb37e"
      },
      "outputs": [
        {
          "output_type": "stream",
          "name": "stdout",
          "text": [
            "+---------+-----+\n",
            "|device_id|count|\n",
            "+---------+-----+\n",
            "| a99f214a|82579|\n",
            "| c357dbff|   62|\n",
            "| 0f7c61dc|   51|\n",
            "| afeffc18|   34|\n",
            "| 936e92fb|   27|\n",
            "| cef4c8cc|   12|\n",
            "| 28dc8687|   11|\n",
            "| 9af87478|    9|\n",
            "| d857ffbb|    9|\n",
            "| 02da5312|    8|\n",
            "| b09da1c4|    7|\n",
            "| 987552d1|    7|\n",
            "| 3cdb4052|    6|\n",
            "| 03559b29|    6|\n",
            "| 1168ce02|    5|\n",
            "| abab24a7|    5|\n",
            "| 69401309|    4|\n",
            "| 787d2bb0|    4|\n",
            "| 2c112522|    4|\n",
            "| 243bd3ab|    4|\n",
            "+---------+-----+\n",
            "only showing top 20 rows\n",
            "\n",
            "time: 2.81 s (started: 2022-07-08 19:31:21 +00:00)\n"
          ]
        }
      ],
      "source": [
        "# check the frequency of each category in device_id. did you get a similar distribution to the one shown in the segment? \n",
        "# use groupBy and count\n",
        "from pyspark.sql.functions import desc\n",
        "\n",
        "xdf.groupby(\"device_id\").count().sort(desc(\"count\")).show()"
      ]
    },
    {
      "cell_type": "code",
      "execution_count": 13,
      "metadata": {
        "id": "AWxAQWsn14l4",
        "colab": {
          "base_uri": "https://localhost:8080/"
        },
        "outputId": "bd00827c-d9b1-40e8-8eaf-136c71f39b9b"
      },
      "outputs": [
        {
          "output_type": "stream",
          "name": "stdout",
          "text": [
            "time: 57.5 ms (started: 2022-07-08 19:31:24 +00:00)\n"
          ]
        }
      ],
      "source": [
        "# combine device_ip and device_type to form a new column which can identify users. \n",
        "# name the new column 'user' with data from device_id\n",
        "xdf = xdf.withColumn(\"user\", xdf[\"device_id\"])"
      ]
    },
    {
      "cell_type": "code",
      "execution_count": 14,
      "metadata": {
        "id": "pjpBOiYS14l5",
        "colab": {
          "base_uri": "https://localhost:8080/"
        },
        "outputId": "65e32e89-f4be-4d21-ce7a-fafdf2aa9ebe"
      },
      "outputs": [
        {
          "output_type": "stream",
          "name": "stdout",
          "text": [
            "time: 95.2 ms (started: 2022-07-08 19:31:24 +00:00)\n"
          ]
        }
      ],
      "source": [
        "# In that column whereever the device_id is missing use a combination of device_ip and device_type\n",
        "# You will have to use the withcolumn along with a when condition. \n",
        "# You will the combination of device id and device ip can be done usin the following code. \n",
        "# from pyspark.sql import functions as sf\n",
        "# sf.concat(sf.col('device_ip'),sf.lit('-'), sf.col('device_model'))\n",
        "\n",
        "# use this code inside a when condition\n",
        "\n",
        "xdf = xdf.withColumn(\"user\", F.when(F.col(\"device_id\") == \"a99f214a\", \n",
        "                                    F.concat(F.col(\"device_ip\"), \n",
        "                                             F.lit(\"-\"), \n",
        "                                             F.col(\"device_model\"))).otherwise(F.col(\"device_id\")))"
      ]
    },
    {
      "cell_type": "code",
      "execution_count": 15,
      "metadata": {
        "colab": {
          "base_uri": "https://localhost:8080/"
        },
        "id": "1zChZhHi14l5",
        "outputId": "df354abe-838a-463b-a4dd-a78b153290ee"
      },
      "outputs": [
        {
          "output_type": "stream",
          "name": "stdout",
          "text": [
            "+-----------------+-----+\n",
            "|             user|count|\n",
            "+-----------------+-----+\n",
            "|af62faf4-3bb1ddd7|   96|\n",
            "|285aa37d-3bb1ddd7|   92|\n",
            "|2f323f36-3bb1ddd7|   92|\n",
            "|6394f6f6-3bb1ddd7|   91|\n",
            "|d90a7774-3bb1ddd7|   88|\n",
            "|af9205f9-3bb1ddd7|   88|\n",
            "|6b9769f2-8a4875bd|   87|\n",
            "|009a7861-3bb1ddd7|   86|\n",
            "|930ec31d-3bb1ddd7|   84|\n",
            "|431b3174-8a4875bd|   69|\n",
            "|         c357dbff|   62|\n",
            "|         0f7c61dc|   51|\n",
            "|6394f6f6-03683bd4|   38|\n",
            "|af9205f9-cad4c01d|   35|\n",
            "|         afeffc18|   34|\n",
            "|6b9769f2-1f0bc64f|   33|\n",
            "|af62faf4-cad4c01d|   33|\n",
            "|af62faf4-03683bd4|   32|\n",
            "|930ec31d-cad4c01d|   30|\n",
            "|009a7861-03683bd4|   30|\n",
            "+-----------------+-----+\n",
            "only showing top 20 rows\n",
            "\n",
            "time: 3.73 s (started: 2022-07-08 19:31:24 +00:00)\n"
          ]
        }
      ],
      "source": [
        "# find the frequency of each category in the user column, save this frequency in a new coulumn in the data frame\n",
        "# join this dataframe with the earlier df, make sure that when you join all the rows \n",
        "# form the original table need to be present in the final table as well.\n",
        "# use the join table command\n",
        "xdf.groupby(\"user\").count().sort(desc(\"count\")).show()\n"
      ]
    },
    {
      "cell_type": "code",
      "execution_count": 16,
      "metadata": {
        "id": "f-vUo5kc14l6",
        "colab": {
          "base_uri": "https://localhost:8080/"
        },
        "outputId": "2c0b1d05-2781-4b0c-aff7-3cbf78239dad"
      },
      "outputs": [
        {
          "output_type": "stream",
          "name": "stdout",
          "text": [
            "time: 171 ms (started: 2022-07-08 19:31:27 +00:00)\n"
          ]
        }
      ],
      "source": [
        "# combine user and hour column to make a new columns user-hour. \n",
        "# again add a columns with the frequency of occurance each user-hour combiation\n",
        "\n",
        "xdf = xdf.withColumn(\"user_hour\", F.concat(F.col(\"user\"), \n",
        "                                           F.lit(\"-\"), \n",
        "                                           F.col(\"hour\")))"
      ]
    },
    {
      "cell_type": "code",
      "execution_count": 17,
      "metadata": {
        "id": "K8H_UzX014l6",
        "colab": {
          "base_uri": "https://localhost:8080/"
        },
        "outputId": "b20d970f-30ad-4c97-bb6c-de815e8c38a3"
      },
      "outputs": [
        {
          "output_type": "stream",
          "name": "stdout",
          "text": [
            "time: 43 ms (started: 2022-07-08 19:31:28 +00:00)\n"
          ]
        }
      ],
      "source": [
        "# drop all redundent columns\n",
        "\n",
        "redundent_cols = [\"device_id\", \"device_ip\", \"device_model\", \"user\", \"month\", \"hour\"]\n",
        "\n",
        "xdf = xdf.drop(*tuple(redundent_cols))\n"
      ]
    },
    {
      "cell_type": "code",
      "execution_count": 18,
      "metadata": {
        "id": "i6kB_1hA14l6",
        "colab": {
          "base_uri": "https://localhost:8080/"
        },
        "outputId": "2a93aa78-724c-4026-f672-24c53d36b97a"
      },
      "outputs": [
        {
          "output_type": "stream",
          "name": "stdout",
          "text": [
            "+-----+---+----------+-----------+----------------+----+---+---+---+---+---+---+---+---------+---+---+------+----------+------------+---------+\n",
            "|click| C1|banner_pos|device_type|device_conn_type| C14|C15|C16|C17|C18|C19|C20|C21|dayofweek|day|  y|pub_id|pub_domain|pub_category|user_hour|\n",
            "+-----+---+----------+-----------+----------------+----+---+---+---+---+---+---+---+---------+---+---+------+----------+------------+---------+\n",
            "|    2|  7|         7|          4|               4|1722|  8|  9|399|  4| 64|154| 60|        7| 10|  2|  2837|      1427|          40|    97154|\n",
            "+-----+---+----------+-----------+----------------+----+---+---+---+---+---+---+---+---------+---+---+------+----------+------------+---------+\n",
            "\n",
            "time: 6.8 s (started: 2022-07-08 19:31:28 +00:00)\n"
          ]
        }
      ],
      "source": [
        "# find the number of catagories in each columns \n",
        "# use the countdistinct method\n",
        "# create a list of all columns and then loop through each column counting the distinct values in it. \n",
        "\n",
        "from pyspark.sql.functions import col, countDistinct\n",
        "\n",
        "xdf.agg(*(countDistinct(col(c)).alias(c) for c in xdf.columns)).show()\n",
        "\n",
        "# here * instructs the add function to accept whatever number of columns are inside the brakets. \n"
      ]
    },
    {
      "cell_type": "code",
      "execution_count": 19,
      "metadata": {
        "id": "g95b8p2w14l7",
        "colab": {
          "base_uri": "https://localhost:8080/"
        },
        "outputId": "7d69da59-7f4a-4131-9c94-23d73e0a24b5"
      },
      "outputs": [
        {
          "output_type": "stream",
          "name": "stdout",
          "text": [
            "time: 1.17 ms (started: 2022-07-08 19:31:35 +00:00)\n"
          ]
        }
      ],
      "source": [
        "# drop colums which have lot of dictinct catagories. \n"
      ]
    },
    {
      "cell_type": "markdown",
      "metadata": {
        "id": "H-ftLbOh14l7"
      },
      "source": [
        "# Algorithm Building\n",
        "\n",
        "Earlier in the module, Jaidev has performed model building exercise. You can refer to his notebooks for help.."
      ]
    },
    {
      "cell_type": "code",
      "execution_count": 20,
      "metadata": {
        "id": "eYx4X2Qp14l7",
        "colab": {
          "base_uri": "https://localhost:8080/"
        },
        "outputId": "b2a95634-3764-4c5d-80a0-87f42a8cc211"
      },
      "outputs": [
        {
          "output_type": "stream",
          "name": "stdout",
          "text": [
            "time: 310 ms (started: 2022-07-08 19:31:35 +00:00)\n"
          ]
        }
      ],
      "source": [
        "# import all the necessary libraries \n",
        "from pyspark.ml.classification import LogisticRegression\n",
        "from pyspark.ml.feature import StringIndexer, OneHotEncoder, VectorAssembler\n",
        "from pyspark.sql.functions import udf\n",
        "from pyspark.sql.types import IntegerType"
      ]
    },
    {
      "cell_type": "code",
      "execution_count": 21,
      "metadata": {
        "id": "jUh8sBap14l7",
        "colab": {
          "base_uri": "https://localhost:8080/"
        },
        "outputId": "269a50b3-b1f7-42cf-d689-5bcb67abe0d1"
      },
      "outputs": [
        {
          "output_type": "stream",
          "name": "stdout",
          "text": [
            "+----+----------+-----------+----------------+\n",
            "|  C1|banner_pos|device_type|device_conn_type|\n",
            "+----+----------+-----------+----------------+\n",
            "|1005|         0|          1|               0|\n",
            "|1005|         0|          1|               0|\n",
            "|1005|         1|          1|               0|\n",
            "|1005|         0|          1|               0|\n",
            "|1005|         0|          1|               2|\n",
            "|1005|         0|          1|               2|\n",
            "|1005|         1|          1|               0|\n",
            "|1005|         0|          1|               0|\n",
            "|1005|         0|          1|               0|\n",
            "|1005|         0|          1|               0|\n",
            "|1005|         0|          1|               0|\n",
            "|1005|         0|          1|               0|\n",
            "|1005|         0|          1|               0|\n",
            "|1005|         0|          1|               0|\n",
            "|1005|         0|          1|               0|\n",
            "|1005|         1|          1|               0|\n",
            "|1005|         0|          1|               0|\n",
            "|1005|         0|          1|               0|\n",
            "|1002|         0|          0|               0|\n",
            "|1005|         0|          1|               0|\n",
            "+----+----------+-----------+----------------+\n",
            "only showing top 20 rows\n",
            "\n",
            "time: 2.07 s (started: 2022-07-08 19:31:35 +00:00)\n"
          ]
        }
      ],
      "source": [
        "# create a list of catagorical columns wich are represented by integers. these will not be sent through the string indexer\n",
        "\n",
        "categorical_cols = [\"C1\", \"banner_pos\", \"device_type\", \"device_conn_type\"]\n",
        "xdf.select(*categorical_cols).show()"
      ]
    },
    {
      "cell_type": "code",
      "execution_count": 22,
      "metadata": {
        "id": "iti8Lx7e14l8",
        "colab": {
          "base_uri": "https://localhost:8080/"
        },
        "outputId": "e4c0748e-4063-42a8-98b7-9ba2edf42798"
      },
      "outputs": [
        {
          "output_type": "stream",
          "name": "stdout",
          "text": [
            "time: 97.5 ms (started: 2022-07-08 19:31:37 +00:00)\n"
          ]
        }
      ],
      "source": [
        "# if you remember form the earlier model building exercise the column C20 has negative values. \n",
        "# replace the negative values with 0. you can use the same UDF made by Jaidev. \n",
        "\n",
        "posMapper = udf(lambda x: 0 if x < 0 else x)\n",
        "xdf = xdf.withColumn(\"C20\", posMapper(xdf[\"C20\"]))\n",
        "xdf = xdf.withColumn(\"C20\", xdf[\"C20\"].cast(IntegerType()))"
      ]
    },
    {
      "cell_type": "code",
      "execution_count": 23,
      "metadata": {
        "id": "uJOIyQbe14l8",
        "colab": {
          "base_uri": "https://localhost:8080/"
        },
        "outputId": "d3d672d3-d0ef-4bec-a8ca-c376750c4a37"
      },
      "outputs": [
        {
          "output_type": "stream",
          "name": "stdout",
          "text": [
            "time: 18.1 s (started: 2022-07-08 19:31:37 +00:00)\n"
          ]
        }
      ],
      "source": [
        "# run the string indexer on the columns which are categorical but are represented by strings.\n",
        "\n",
        "stringCols = [\"pub_id\", \"pub_domain\", \"pub_category\", \"user_hour\"]\n",
        "for c in stringCols:\n",
        "    outCol = c + \"_ix\"\n",
        "    si = StringIndexer(inputCol=c, outputCol=outCol)\n",
        "    xdf = si.fit(xdf).transform(xdf)"
      ]
    },
    {
      "cell_type": "code",
      "execution_count": 24,
      "metadata": {
        "id": "G1d9TSk_14l8",
        "colab": {
          "base_uri": "https://localhost:8080/"
        },
        "outputId": "6dd687f6-7f0f-41e6-d6ed-f9546b7856f9"
      },
      "outputs": [
        {
          "output_type": "stream",
          "name": "stdout",
          "text": [
            "time: 2.82 ms (started: 2022-07-08 19:31:55 +00:00)\n"
          ]
        }
      ],
      "source": [
        "# add the resultant columns from string indexer into the catagorical columns list. \n",
        "# make sure that you have the right column name for C20 as it has beed processed separately. \n",
        "\n",
        "categorical_cols.extend([f\"{c}_ix\" for c in [\"pub_id\", \"pub_domain\", \"pub_category\", \"user_hour\"]])\n",
        "categorical_cols.extend([f\"C{i}\" for i in range(14, 22)])"
      ]
    },
    {
      "cell_type": "code",
      "execution_count": 25,
      "metadata": {
        "id": "28A3PLdK14l8",
        "colab": {
          "base_uri": "https://localhost:8080/"
        },
        "outputId": "549ec99f-4e27-4661-e3a6-38e2399a9f16"
      },
      "outputs": [
        {
          "output_type": "stream",
          "name": "stdout",
          "text": [
            "time: 9.89 s (started: 2022-07-08 19:31:55 +00:00)\n"
          ]
        }
      ],
      "source": [
        "# run all the categorical columns through the one hot encoder \n",
        "ohe = OneHotEncoder(inputCols=categorical_cols, outputCols=[f\"{c}_enc\" for c in categorical_cols])\n",
        "xdf = ohe.fit(xdf).transform(xdf)"
      ]
    },
    {
      "cell_type": "code",
      "execution_count": 26,
      "metadata": {
        "id": "okTFpmdQ14l8",
        "colab": {
          "base_uri": "https://localhost:8080/"
        },
        "outputId": "9d980656-06a1-4989-b9a1-0008b70102c8"
      },
      "outputs": [
        {
          "output_type": "stream",
          "name": "stdout",
          "text": [
            "time: 2.09 s (started: 2022-07-08 19:32:05 +00:00)\n"
          ]
        }
      ],
      "source": [
        "# use the vector assember to combine all the encoded columns and the continuous variable columns \n",
        "\n",
        "train_cols = [f\"{c}_enc\" for c in categorical_cols]\n",
        "train_cols.extend([\"dayofweek\", \"day\"])\n",
        "\n",
        "assembler = VectorAssembler(inputCols=train_cols, outputCol='features')\n",
        "xdf = assembler.transform(xdf)"
      ]
    },
    {
      "cell_type": "code",
      "execution_count": 27,
      "metadata": {
        "id": "U0kWdP8n14l9",
        "colab": {
          "base_uri": "https://localhost:8080/"
        },
        "outputId": "387c5be3-e633-4b35-9c23-39336d2dc731"
      },
      "outputs": [
        {
          "output_type": "stream",
          "name": "stdout",
          "text": [
            "time: 40.4 ms (started: 2022-07-08 19:32:07 +00:00)\n"
          ]
        }
      ],
      "source": [
        "# split the data into training and testing data set\n",
        "\n",
        "train, test = xdf.randomSplit([0.7, 0.3], seed=42)"
      ]
    },
    {
      "cell_type": "code",
      "execution_count": 28,
      "metadata": {
        "id": "heHIReLE14l9",
        "colab": {
          "base_uri": "https://localhost:8080/"
        },
        "outputId": "dd778a55-4bec-4154-b0e0-106da2ce2455"
      },
      "outputs": [
        {
          "output_type": "stream",
          "name": "stdout",
          "text": [
            "time: 6min 51s (started: 2022-07-08 19:32:07 +00:00)\n"
          ]
        }
      ],
      "source": [
        "# train model in the training dataset \n",
        "\n",
        "lr = LogisticRegression(featuresCol=\"features\", labelCol=\"y\")\n",
        "model = lr.fit(train)"
      ]
    },
    {
      "cell_type": "code",
      "execution_count": 29,
      "metadata": {
        "id": "tOvLU4dJ14l9",
        "colab": {
          "base_uri": "https://localhost:8080/"
        },
        "outputId": "893903f3-9b61-47a7-dc34-b158b6231fc2"
      },
      "outputs": [
        {
          "output_type": "stream",
          "name": "stdout",
          "text": [
            "time: 11.5 s (started: 2022-07-08 19:38:58 +00:00)\n"
          ]
        }
      ],
      "source": [
        "# use the model to predict the class labels of test data. \n",
        "\n",
        "test_results = model.evaluate(test)"
      ]
    },
    {
      "cell_type": "code",
      "execution_count": 30,
      "metadata": {
        "id": "ozlXVcwz14l9",
        "colab": {
          "base_uri": "https://localhost:8080/"
        },
        "outputId": "f2fec057-90b5-4aac-f49c-66722b9b52a6"
      },
      "outputs": [
        {
          "output_type": "stream",
          "name": "stdout",
          "text": [
            "+-----+----+----------+-----------+----------------+-----+---+---+----+---+----+------+---+---------+---+---+--------+----------+------------+--------------------+---------+-------------+---------------+------------+-------------------+--------------+---------------+--------------------+-------------------+------------------+-------------------+--------------------+--------------------+------------------+------------------+-------------------+-------------+-------------------+--------------------+-----------------+--------------------+--------------------+--------------------+----------+\n",
            "|click|  C1|banner_pos|device_type|device_conn_type|  C14|C15|C16| C17|C18| C19|   C20|C21|dayofweek|day|  y|  pub_id|pub_domain|pub_category|           user_hour|pub_id_ix|pub_domain_ix|pub_category_ix|user_hour_ix|             C1_enc|banner_pos_enc|device_type_enc|device_conn_type_enc|      pub_id_ix_enc| pub_domain_ix_enc|pub_category_ix_enc|    user_hour_ix_enc|             C14_enc|           C15_enc|           C16_enc|            C17_enc|      C18_enc|            C19_enc|             C20_enc|          C21_enc|            features|       rawPrediction|         probability|prediction|\n",
            "+-----+----+----------+-----------+----------------+-----+---+---+----+---+----+------+---+---------+---+---+--------+----------+------------+--------------------+---------+-------------+---------------+------------+-------------------+--------------+---------------+--------------------+-------------------+------------------+-------------------+--------------------+--------------------+------------------+------------------+-------------------+-------------+-------------------+--------------------+-----------------+--------------------+--------------------+--------------------+----------+\n",
            "|false|1001|         0|          1|               0|17863|300|250|2036|  3|  47|     0|156|        5| 25|  0|56259825|  7801e8d9|    0f2161f8|          98e43dae-9|   2125.0|          4.0|            1.0|     58932.0|(1012,[1001],[1.0])| (7,[0],[1.0])|  (5,[1],[1.0])|       (5,[0],[1.0])|(2836,[2125],[1.0])|  (1426,[4],[1.0])|     (39,[1],[1.0])|(97153,[58932],[1...|(24043,[17863],[1...|(1024,[300],[1.0])|(1024,[250],[1.0])|(2757,[2036],[1.0])|    (3,[],[])|  (1839,[47],[1.0])|  (100248,[0],[1.0])|(255,[156],[1.0])|(233678,[1001,101...|[23.6916995495825...|[0.99999999994861...|       0.0|\n",
            "|false|1001|         0|          1|               0|20153|320| 50|2307|  3| 163|100020| 61|        1| 28|  0|38cf96e8|  7801e8d9|    2281a340|          fcb0ecb5-5|   1175.0|          4.0|           30.0|     95911.0|(1012,[1001],[1.0])| (7,[0],[1.0])|  (5,[1],[1.0])|       (5,[0],[1.0])|(2836,[1175],[1.0])|  (1426,[4],[1.0])|    (39,[30],[1.0])|(97153,[95911],[1...|(24043,[20153],[1...|(1024,[320],[1.0])| (1024,[50],[1.0])|(2757,[2307],[1.0])|    (3,[],[])| (1839,[163],[1.0])|(100248,[100020],...| (255,[61],[1.0])|(233678,[1001,101...|[37.4690493463758...|           [1.0,0.0]|       0.0|\n",
            "|false|1001|         0|          1|               0|20476|320| 50|2348|  3| 427|100004| 61|        3| 23|  0|338021e2|  7801e8d9|    4681bb9d| 4ab2348a-f07e20f8-5|    723.0|          4.0|           26.0|     29584.0|(1012,[1001],[1.0])| (7,[0],[1.0])|  (5,[1],[1.0])|       (5,[0],[1.0])| (2836,[723],[1.0])|  (1426,[4],[1.0])|    (39,[26],[1.0])|(97153,[29584],[1...|(24043,[20476],[1...|(1024,[320],[1.0])| (1024,[50],[1.0])|(2757,[2348],[1.0])|    (3,[],[])| (1839,[427],[1.0])|(100248,[100004],...| (255,[61],[1.0])|(233678,[1001,101...|[29.6038411179339...|[0.99999999999986...|       0.0|\n",
            "|false|1001|         0|          1|               0|20476|320| 50|2348|  3| 427|100005| 61|        2| 22|  0|338021e2|  7801e8d9|    4681bb9d| 1aa3e960-f07e20f8-4|    723.0|          4.0|           26.0|     11834.0|(1012,[1001],[1.0])| (7,[0],[1.0])|  (5,[1],[1.0])|       (5,[0],[1.0])| (2836,[723],[1.0])|  (1426,[4],[1.0])|    (39,[26],[1.0])|(97153,[11834],[1...|(24043,[20476],[1...|(1024,[320],[1.0])| (1024,[50],[1.0])|(2757,[2348],[1.0])|    (3,[],[])| (1839,[427],[1.0])|(100248,[100005],...| (255,[61],[1.0])|(233678,[1001,101...|[30.2042529851063...|[0.99999999999992...|       0.0|\n",
            "|false|1001|         0|          1|               2|20153|320| 50|2307|  3| 163|     0| 61|        0| 27|  0|52c718ba|  c4e18dd6|    9ccfa2ea|d86dc672-f07e20f8-13|   2107.0|         14.0|           38.0|     82558.0|(1012,[1001],[1.0])| (7,[0],[1.0])|  (5,[1],[1.0])|       (5,[2],[1.0])|(2836,[2107],[1.0])| (1426,[14],[1.0])|    (39,[38],[1.0])|(97153,[82558],[1...|(24043,[20153],[1...|(1024,[320],[1.0])| (1024,[50],[1.0])|(2757,[2307],[1.0])|    (3,[],[])| (1839,[163],[1.0])|  (100248,[0],[1.0])| (255,[61],[1.0])|(233678,[1001,101...|[21.8023377515973...|[0.99999999966008...|       0.0|\n",
            "|false|1001|         0|          1|               2|20476|320| 50|2348|  3| 427|100003| 61|        2| 22|  0|338021e2|  7801e8d9|    4681bb9d| 2f4bacf9-f07e20f8-6|    723.0|          4.0|           26.0|     19457.0|(1012,[1001],[1.0])| (7,[0],[1.0])|  (5,[1],[1.0])|       (5,[2],[1.0])| (2836,[723],[1.0])|  (1426,[4],[1.0])|    (39,[26],[1.0])|(97153,[19457],[1...|(24043,[20476],[1...|(1024,[320],[1.0])| (1024,[50],[1.0])|(2757,[2348],[1.0])|    (3,[],[])| (1839,[427],[1.0])|(100248,[100003],...| (255,[61],[1.0])|(233678,[1001,101...|[31.1717124632638...|[0.99999999999997...|       0.0|\n",
            "|false|1001|         0|          1|               2|20476|320| 50|2348|  3| 427|100003| 61|        3| 23|  0|338021e2|  7801e8d9|    4681bb9d| 0c6f8531-f07e20f8-8|    723.0|          4.0|           26.0|      6622.0|(1012,[1001],[1.0])| (7,[0],[1.0])|  (5,[1],[1.0])|       (5,[2],[1.0])| (2836,[723],[1.0])|  (1426,[4],[1.0])|    (39,[26],[1.0])|(97153,[6622],[1.0])|(24043,[20476],[1...|(1024,[320],[1.0])| (1024,[50],[1.0])|(2757,[2348],[1.0])|    (3,[],[])| (1839,[427],[1.0])|(100248,[100003],...| (255,[61],[1.0])|(233678,[1001,101...|[31.2291952767863...|[0.99999999999997...|       0.0|\n",
            "|false|1002|         0|          0|               0|  381|300| 50| 112|  3|1319|     0| 15|        0| 27|  0|df1cdc6c|  7801e8d9|    07d7df22|         6b8bd70d-19|   2686.0|          4.0|            8.0|     41778.0|(1012,[1002],[1.0])| (7,[0],[1.0])|  (5,[0],[1.0])|       (5,[0],[1.0])|(2836,[2686],[1.0])|  (1426,[4],[1.0])|     (39,[8],[1.0])|(97153,[41778],[1...| (24043,[381],[1.0])|(1024,[300],[1.0])| (1024,[50],[1.0])| (2757,[112],[1.0])|    (3,[],[])|(1839,[1319],[1.0])|  (100248,[0],[1.0])| (255,[15],[1.0])|(233678,[1002,101...|[11.2452956853029...|[0.99998693153855...|       0.0|\n",
            "|false|1002|         0|          0|               0|  381|300| 50| 112|  3|1319|     0| 15|        2| 22|  0|c0d05ade|  7801e8d9|    07d7df22|         23e0965a-23|    694.0|          4.0|            8.0|     15275.0|(1012,[1002],[1.0])| (7,[0],[1.0])|  (5,[0],[1.0])|       (5,[0],[1.0])| (2836,[694],[1.0])|  (1426,[4],[1.0])|     (39,[8],[1.0])|(97153,[15275],[1...| (24043,[381],[1.0])|(1024,[300],[1.0])| (1024,[50],[1.0])| (2757,[112],[1.0])|    (3,[],[])|(1839,[1319],[1.0])|  (100248,[0],[1.0])| (255,[15],[1.0])|(233678,[1002,101...|[24.9742990768011...|[0.99999999998575...|       0.0|\n",
            "|false|1002|         0|          0|               0|  381|300| 50| 112|  3|1319|     0| 15|        3| 23|  0|75ae11c1|  7801e8d9|    07d7df22|         90941946-11|   1225.0|          4.0|            8.0|     55800.0|(1012,[1002],[1.0])| (7,[0],[1.0])|  (5,[0],[1.0])|       (5,[0],[1.0])|(2836,[1225],[1.0])|  (1426,[4],[1.0])|     (39,[8],[1.0])|(97153,[55800],[1...| (24043,[381],[1.0])|(1024,[300],[1.0])| (1024,[50],[1.0])| (2757,[112],[1.0])|    (3,[],[])|(1839,[1319],[1.0])|  (100248,[0],[1.0])| (255,[15],[1.0])|(233678,[1002,101...|[-37.084000627729...|[7.84554577197792...|       1.0|\n",
            "|false|1002|         0|          0|               0|  381|300| 50| 112|  3|1319|     0| 15|        3| 30|  0|c0d05ade|  7801e8d9|    07d7df22|          0f94ea53-7|    694.0|          4.0|            8.0|      7701.0|(1012,[1002],[1.0])| (7,[0],[1.0])|  (5,[0],[1.0])|       (5,[0],[1.0])| (2836,[694],[1.0])|  (1426,[4],[1.0])|     (39,[8],[1.0])|(97153,[7701],[1.0])| (24043,[381],[1.0])|(1024,[300],[1.0])| (1024,[50],[1.0])| (2757,[112],[1.0])|    (3,[],[])|(1839,[1319],[1.0])|  (100248,[0],[1.0])| (255,[15],[1.0])|(233678,[1002,101...|[25.2049460601290...|[0.99999999998868...|       0.0|\n",
            "|false|1002|         0|          0|               0|  381|300| 50| 112|  3|1319|100193| 15|        1| 28|  0|3df060eb|  7801e8d9|    07d7df22|         9fa0df8b-21|   2011.0|          4.0|            8.0|     61393.0|(1012,[1002],[1.0])| (7,[0],[1.0])|  (5,[0],[1.0])|       (5,[0],[1.0])|(2836,[2011],[1.0])|  (1426,[4],[1.0])|     (39,[8],[1.0])|(97153,[61393],[1...| (24043,[381],[1.0])|(1024,[300],[1.0])| (1024,[50],[1.0])| (2757,[112],[1.0])|    (3,[],[])|(1839,[1319],[1.0])|(100248,[100193],...| (255,[15],[1.0])|(233678,[1002,101...|[13.1791657812640...|[0.99999811044209...|       0.0|\n",
            "|false|1002|         0|          0|               0|  451|300| 50| 122|  3|1327|     0| 15|        3| 23|  0|59ca80c4|  7801e8d9|    07d7df22|          aad4d201-7|   1046.0|          4.0|            8.0|     65681.0|(1012,[1002],[1.0])| (7,[0],[1.0])|  (5,[0],[1.0])|       (5,[0],[1.0])|(2836,[1046],[1.0])|  (1426,[4],[1.0])|     (39,[8],[1.0])|(97153,[65681],[1...| (24043,[451],[1.0])|(1024,[300],[1.0])| (1024,[50],[1.0])| (2757,[122],[1.0])|    (3,[],[])|(1839,[1327],[1.0])|  (100248,[0],[1.0])| (255,[15],[1.0])|(233678,[1002,101...|[-31.276607519402...|[2.61060966587335...|       1.0|\n",
            "|false|1002|         0|          0|               0|  451|300| 50| 122|  3|1327|     0| 15|        4| 24|  0|75ae11c1|  7801e8d9|    07d7df22|          80289959-5|   1225.0|          4.0|            8.0|     49635.0|(1012,[1002],[1.0])| (7,[0],[1.0])|  (5,[0],[1.0])|       (5,[0],[1.0])|(2836,[1225],[1.0])|  (1426,[4],[1.0])|     (39,[8],[1.0])|(97153,[49635],[1...| (24043,[451],[1.0])|(1024,[300],[1.0])| (1024,[50],[1.0])| (2757,[122],[1.0])|    (3,[],[])|(1839,[1327],[1.0])|  (100248,[0],[1.0])| (255,[15],[1.0])|(233678,[1002,101...|[-31.088733143515...|[3.15017547741224...|       1.0|\n",
            "|false|1002|         0|          0|               0| 4687|320| 50| 423|  2|  39|     0| 32|        0| 27|  0|38c202aa|  7f744e4e|    50e219e0|         9c473512-20|    229.0|        775.0|            4.0|     60283.0|(1012,[1002],[1.0])| (7,[0],[1.0])|  (5,[0],[1.0])|       (5,[0],[1.0])| (2836,[229],[1.0])|(1426,[775],[1.0])|     (39,[4],[1.0])|(97153,[60283],[1...|(24043,[4687],[1.0])|(1024,[320],[1.0])| (1024,[50],[1.0])| (2757,[423],[1.0])|(3,[2],[1.0])|  (1839,[39],[1.0])|  (100248,[0],[1.0])| (255,[32],[1.0])|(233678,[1002,101...|[32.4391047657740...|[0.99999999999999...|       0.0|\n",
            "|false|1002|         0|          0|               0| 4687|320| 50| 423|  2|  39|     0| 32|        0| 27|  0|cc1b7a47|  7256c623|    50e219e0|         1fa2f883-11|    312.0|         36.0|            4.0|     13699.0|(1012,[1002],[1.0])| (7,[0],[1.0])|  (5,[0],[1.0])|       (5,[0],[1.0])| (2836,[312],[1.0])| (1426,[36],[1.0])|     (39,[4],[1.0])|(97153,[13699],[1...|(24043,[4687],[1.0])|(1024,[320],[1.0])| (1024,[50],[1.0])| (2757,[423],[1.0])|(3,[2],[1.0])|  (1839,[39],[1.0])|  (100248,[0],[1.0])| (255,[32],[1.0])|(233678,[1002,101...|[26.6065445346185...|[0.99999999999721...|       0.0|\n",
            "|false|1002|         0|          0|               0| 4687|320| 50| 423|  2|  39|     0| 32|        0| 27|  0|cc1b7a47|  7256c623|    50e219e0|         93c73143-13|    312.0|         36.0|            4.0|     57044.0|(1012,[1002],[1.0])| (7,[0],[1.0])|  (5,[0],[1.0])|       (5,[0],[1.0])| (2836,[312],[1.0])| (1426,[36],[1.0])|     (39,[4],[1.0])|(97153,[57044],[1...|(24043,[4687],[1.0])|(1024,[320],[1.0])| (1024,[50],[1.0])| (2757,[423],[1.0])|(3,[2],[1.0])|  (1839,[39],[1.0])|  (100248,[0],[1.0])| (255,[32],[1.0])|(233678,[1002,101...|[26.6065445346185...|[0.99999999999721...|       0.0|\n",
            "|false|1002|         0|          0|               0| 4687|320| 50| 423|  2|  39|     0| 32|        1| 28|  0|38c202aa|  fe3e9d9a|    50e219e0|          20364c7a-8|    229.0|        484.0|            4.0|     13906.0|(1012,[1002],[1.0])| (7,[0],[1.0])|  (5,[0],[1.0])|       (5,[0],[1.0])| (2836,[229],[1.0])|(1426,[484],[1.0])|     (39,[4],[1.0])|(97153,[13906],[1...|(24043,[4687],[1.0])|(1024,[320],[1.0])| (1024,[50],[1.0])| (2757,[423],[1.0])|(3,[2],[1.0])|  (1839,[39],[1.0])|  (100248,[0],[1.0])| (255,[32],[1.0])|(233678,[1002,101...|[31.9283472659952...|[0.99999999999998...|       0.0|\n",
            "|false|1002|         0|          0|               0| 4687|320| 50| 423|  2|  39|     0| 32|        2| 29|  0|48c42b43|  de0f0f82|    50e219e0|          ffc46e4f-9|    335.0|         57.0|            4.0|     97080.0|(1012,[1002],[1.0])| (7,[0],[1.0])|  (5,[0],[1.0])|       (5,[0],[1.0])| (2836,[335],[1.0])| (1426,[57],[1.0])|     (39,[4],[1.0])|(97153,[97080],[1...|(24043,[4687],[1.0])|(1024,[320],[1.0])| (1024,[50],[1.0])| (2757,[423],[1.0])|(3,[2],[1.0])|  (1839,[39],[1.0])|  (100248,[0],[1.0])| (255,[32],[1.0])|(233678,[1002,101...|[28.8538174903465...|[0.99999999999970...|       0.0|\n",
            "|false|1002|         0|          0|               0| 4687|320| 50| 423|  2|  39|     0| 32|        3| 23|  0|38c202aa|  4afa254d|    50e219e0|          c99dd855-6|    229.0|        444.0|            4.0|     77150.0|(1012,[1002],[1.0])| (7,[0],[1.0])|  (5,[0],[1.0])|       (5,[0],[1.0])| (2836,[229],[1.0])|(1426,[444],[1.0])|     (39,[4],[1.0])|(97153,[77150],[1...|(24043,[4687],[1.0])|(1024,[320],[1.0])| (1024,[50],[1.0])| (2757,[423],[1.0])|(3,[2],[1.0])|  (1839,[39],[1.0])|  (100248,[0],[1.0])| (255,[32],[1.0])|(233678,[1002,101...|[32.4575936323356...|[0.99999999999999...|       0.0|\n",
            "+-----+----+----------+-----------+----------------+-----+---+---+----+---+----+------+---+---------+---+---+--------+----------+------------+--------------------+---------+-------------+---------------+------------+-------------------+--------------+---------------+--------------------+-------------------+------------------+-------------------+--------------------+--------------------+------------------+------------------+-------------------+-------------+-------------------+--------------------+-----------------+--------------------+--------------------+--------------------+----------+\n",
            "only showing top 20 rows\n",
            "\n",
            "time: 13.8 s (started: 2022-07-08 19:39:10 +00:00)\n"
          ]
        }
      ],
      "source": [
        "# analyise the predictions \n",
        "\n",
        "preds_df = test_results.predictions\n",
        "preds_df.show()"
      ]
    },
    {
      "cell_type": "code",
      "source": [
        "preds_df.describe()"
      ],
      "metadata": {
        "colab": {
          "base_uri": "https://localhost:8080/"
        },
        "id": "fhnbLuO7RUWp",
        "outputId": "468d71f7-4d75-41ff-e505-80c5a843c1a8"
      },
      "execution_count": 31,
      "outputs": [
        {
          "output_type": "execute_result",
          "data": {
            "text/plain": [
              "DataFrame[summary: string, C1: string, banner_pos: string, device_type: string, device_conn_type: string, C14: string, C15: string, C16: string, C17: string, C18: string, C19: string, C20: string, C21: string, dayofweek: string, day: string, y: string, pub_id: string, pub_domain: string, pub_category: string, user_hour: string, pub_id_ix: string, pub_domain_ix: string, pub_category_ix: string, user_hour_ix: string, prediction: string]"
            ]
          },
          "metadata": {},
          "execution_count": 31
        },
        {
          "output_type": "stream",
          "name": "stdout",
          "text": [
            "time: 31.3 s (started: 2022-07-08 19:39:24 +00:00)\n"
          ]
        }
      ]
    },
    {
      "cell_type": "code",
      "execution_count": 32,
      "metadata": {
        "id": "USF5gU1a14l9",
        "colab": {
          "base_uri": "https://localhost:8080/"
        },
        "outputId": "d61f3b3c-7d81-48a7-ebe9-5df63e0f8ce6"
      },
      "outputs": [
        {
          "output_type": "stream",
          "name": "stdout",
          "text": [
            "time: 1.23 ms (started: 2022-07-08 19:39:55 +00:00)\n"
          ]
        }
      ],
      "source": [
        "# Write the prediction data frame so that when you need it you can directly call that dataframe. No need to train again\n",
        "# use you AWS acccout to create an S3 bucket \n",
        "\n",
        "# preds_df.toPandas().to_csv(\"test_results.csv\")"
      ]
    },
    {
      "cell_type": "markdown",
      "metadata": {
        "id": "l6X5R0BB14l9"
      },
      "source": [
        "# Finding the right threshold\n",
        "\n"
      ]
    },
    {
      "cell_type": "code",
      "execution_count": 33,
      "metadata": {
        "id": "vEO1IjQ614l9",
        "colab": {
          "base_uri": "https://localhost:8080/"
        },
        "outputId": "2350c824-aebd-4779-c2b9-73053b22fa1f"
      },
      "outputs": [
        {
          "output_type": "stream",
          "name": "stdout",
          "text": [
            "+-----+----+----------+-----------+----------------+-----+---+---+----+---+----+------+---+---------+---+---+--------+----------+------------+--------------------+---------+-------------+---------------+------------+-------------------+--------------+---------------+--------------------+-------------------+------------------+-------------------+--------------------+--------------------+------------------+------------------+-------------------+-------------+-------------------+--------------------+-----------------+--------------------+--------------------+--------------------+----------+\n",
            "|click|  C1|banner_pos|device_type|device_conn_type|  C14|C15|C16| C17|C18| C19|   C20|C21|dayofweek|day|  y|  pub_id|pub_domain|pub_category|           user_hour|pub_id_ix|pub_domain_ix|pub_category_ix|user_hour_ix|             C1_enc|banner_pos_enc|device_type_enc|device_conn_type_enc|      pub_id_ix_enc| pub_domain_ix_enc|pub_category_ix_enc|    user_hour_ix_enc|             C14_enc|           C15_enc|           C16_enc|            C17_enc|      C18_enc|            C19_enc|             C20_enc|          C21_enc|            features|       rawPrediction|         probability|prediction|\n",
            "+-----+----+----------+-----------+----------------+-----+---+---+----+---+----+------+---+---------+---+---+--------+----------+------------+--------------------+---------+-------------+---------------+------------+-------------------+--------------+---------------+--------------------+-------------------+------------------+-------------------+--------------------+--------------------+------------------+------------------+-------------------+-------------+-------------------+--------------------+-----------------+--------------------+--------------------+--------------------+----------+\n",
            "|false|1001|         0|          1|               0|17863|300|250|2036|  3|  47|     0|156|        5| 25|  0|56259825|  7801e8d9|    0f2161f8|          98e43dae-9|   2125.0|          4.0|            1.0|     58932.0|(1012,[1001],[1.0])| (7,[0],[1.0])|  (5,[1],[1.0])|       (5,[0],[1.0])|(2836,[2125],[1.0])|  (1426,[4],[1.0])|     (39,[1],[1.0])|(97153,[58932],[1...|(24043,[17863],[1...|(1024,[300],[1.0])|(1024,[250],[1.0])|(2757,[2036],[1.0])|    (3,[],[])|  (1839,[47],[1.0])|  (100248,[0],[1.0])|(255,[156],[1.0])|(233678,[1001,101...|[23.6916995495825...|[0.99999999994861...|       0.0|\n",
            "|false|1001|         0|          1|               0|20153|320| 50|2307|  3| 163|100020| 61|        1| 28|  0|38cf96e8|  7801e8d9|    2281a340|          fcb0ecb5-5|   1175.0|          4.0|           30.0|     95911.0|(1012,[1001],[1.0])| (7,[0],[1.0])|  (5,[1],[1.0])|       (5,[0],[1.0])|(2836,[1175],[1.0])|  (1426,[4],[1.0])|    (39,[30],[1.0])|(97153,[95911],[1...|(24043,[20153],[1...|(1024,[320],[1.0])| (1024,[50],[1.0])|(2757,[2307],[1.0])|    (3,[],[])| (1839,[163],[1.0])|(100248,[100020],...| (255,[61],[1.0])|(233678,[1001,101...|[37.4690493463758...|           [1.0,0.0]|       0.0|\n",
            "|false|1001|         0|          1|               0|20476|320| 50|2348|  3| 427|100004| 61|        3| 23|  0|338021e2|  7801e8d9|    4681bb9d| 4ab2348a-f07e20f8-5|    723.0|          4.0|           26.0|     29584.0|(1012,[1001],[1.0])| (7,[0],[1.0])|  (5,[1],[1.0])|       (5,[0],[1.0])| (2836,[723],[1.0])|  (1426,[4],[1.0])|    (39,[26],[1.0])|(97153,[29584],[1...|(24043,[20476],[1...|(1024,[320],[1.0])| (1024,[50],[1.0])|(2757,[2348],[1.0])|    (3,[],[])| (1839,[427],[1.0])|(100248,[100004],...| (255,[61],[1.0])|(233678,[1001,101...|[29.6038411179339...|[0.99999999999986...|       0.0|\n",
            "|false|1001|         0|          1|               0|20476|320| 50|2348|  3| 427|100005| 61|        2| 22|  0|338021e2|  7801e8d9|    4681bb9d| 1aa3e960-f07e20f8-4|    723.0|          4.0|           26.0|     11834.0|(1012,[1001],[1.0])| (7,[0],[1.0])|  (5,[1],[1.0])|       (5,[0],[1.0])| (2836,[723],[1.0])|  (1426,[4],[1.0])|    (39,[26],[1.0])|(97153,[11834],[1...|(24043,[20476],[1...|(1024,[320],[1.0])| (1024,[50],[1.0])|(2757,[2348],[1.0])|    (3,[],[])| (1839,[427],[1.0])|(100248,[100005],...| (255,[61],[1.0])|(233678,[1001,101...|[30.2042529851063...|[0.99999999999992...|       0.0|\n",
            "|false|1001|         0|          1|               2|20153|320| 50|2307|  3| 163|     0| 61|        0| 27|  0|52c718ba|  c4e18dd6|    9ccfa2ea|d86dc672-f07e20f8-13|   2107.0|         14.0|           38.0|     82558.0|(1012,[1001],[1.0])| (7,[0],[1.0])|  (5,[1],[1.0])|       (5,[2],[1.0])|(2836,[2107],[1.0])| (1426,[14],[1.0])|    (39,[38],[1.0])|(97153,[82558],[1...|(24043,[20153],[1...|(1024,[320],[1.0])| (1024,[50],[1.0])|(2757,[2307],[1.0])|    (3,[],[])| (1839,[163],[1.0])|  (100248,[0],[1.0])| (255,[61],[1.0])|(233678,[1001,101...|[21.8023377515973...|[0.99999999966008...|       0.0|\n",
            "|false|1001|         0|          1|               2|20476|320| 50|2348|  3| 427|100003| 61|        2| 22|  0|338021e2|  7801e8d9|    4681bb9d| 2f4bacf9-f07e20f8-6|    723.0|          4.0|           26.0|     19457.0|(1012,[1001],[1.0])| (7,[0],[1.0])|  (5,[1],[1.0])|       (5,[2],[1.0])| (2836,[723],[1.0])|  (1426,[4],[1.0])|    (39,[26],[1.0])|(97153,[19457],[1...|(24043,[20476],[1...|(1024,[320],[1.0])| (1024,[50],[1.0])|(2757,[2348],[1.0])|    (3,[],[])| (1839,[427],[1.0])|(100248,[100003],...| (255,[61],[1.0])|(233678,[1001,101...|[31.1717124632638...|[0.99999999999997...|       0.0|\n",
            "|false|1001|         0|          1|               2|20476|320| 50|2348|  3| 427|100003| 61|        3| 23|  0|338021e2|  7801e8d9|    4681bb9d| 0c6f8531-f07e20f8-8|    723.0|          4.0|           26.0|      6622.0|(1012,[1001],[1.0])| (7,[0],[1.0])|  (5,[1],[1.0])|       (5,[2],[1.0])| (2836,[723],[1.0])|  (1426,[4],[1.0])|    (39,[26],[1.0])|(97153,[6622],[1.0])|(24043,[20476],[1...|(1024,[320],[1.0])| (1024,[50],[1.0])|(2757,[2348],[1.0])|    (3,[],[])| (1839,[427],[1.0])|(100248,[100003],...| (255,[61],[1.0])|(233678,[1001,101...|[31.2291952767863...|[0.99999999999997...|       0.0|\n",
            "|false|1002|         0|          0|               0|  381|300| 50| 112|  3|1319|     0| 15|        0| 27|  0|df1cdc6c|  7801e8d9|    07d7df22|         6b8bd70d-19|   2686.0|          4.0|            8.0|     41778.0|(1012,[1002],[1.0])| (7,[0],[1.0])|  (5,[0],[1.0])|       (5,[0],[1.0])|(2836,[2686],[1.0])|  (1426,[4],[1.0])|     (39,[8],[1.0])|(97153,[41778],[1...| (24043,[381],[1.0])|(1024,[300],[1.0])| (1024,[50],[1.0])| (2757,[112],[1.0])|    (3,[],[])|(1839,[1319],[1.0])|  (100248,[0],[1.0])| (255,[15],[1.0])|(233678,[1002,101...|[11.2452956853029...|[0.99998693153855...|       0.0|\n",
            "|false|1002|         0|          0|               0|  381|300| 50| 112|  3|1319|     0| 15|        2| 22|  0|c0d05ade|  7801e8d9|    07d7df22|         23e0965a-23|    694.0|          4.0|            8.0|     15275.0|(1012,[1002],[1.0])| (7,[0],[1.0])|  (5,[0],[1.0])|       (5,[0],[1.0])| (2836,[694],[1.0])|  (1426,[4],[1.0])|     (39,[8],[1.0])|(97153,[15275],[1...| (24043,[381],[1.0])|(1024,[300],[1.0])| (1024,[50],[1.0])| (2757,[112],[1.0])|    (3,[],[])|(1839,[1319],[1.0])|  (100248,[0],[1.0])| (255,[15],[1.0])|(233678,[1002,101...|[24.9742990768011...|[0.99999999998575...|       0.0|\n",
            "|false|1002|         0|          0|               0|  381|300| 50| 112|  3|1319|     0| 15|        3| 23|  0|75ae11c1|  7801e8d9|    07d7df22|         90941946-11|   1225.0|          4.0|            8.0|     55800.0|(1012,[1002],[1.0])| (7,[0],[1.0])|  (5,[0],[1.0])|       (5,[0],[1.0])|(2836,[1225],[1.0])|  (1426,[4],[1.0])|     (39,[8],[1.0])|(97153,[55800],[1...| (24043,[381],[1.0])|(1024,[300],[1.0])| (1024,[50],[1.0])| (2757,[112],[1.0])|    (3,[],[])|(1839,[1319],[1.0])|  (100248,[0],[1.0])| (255,[15],[1.0])|(233678,[1002,101...|[-37.084000627729...|[7.84554577197792...|       1.0|\n",
            "|false|1002|         0|          0|               0|  381|300| 50| 112|  3|1319|     0| 15|        3| 30|  0|c0d05ade|  7801e8d9|    07d7df22|          0f94ea53-7|    694.0|          4.0|            8.0|      7701.0|(1012,[1002],[1.0])| (7,[0],[1.0])|  (5,[0],[1.0])|       (5,[0],[1.0])| (2836,[694],[1.0])|  (1426,[4],[1.0])|     (39,[8],[1.0])|(97153,[7701],[1.0])| (24043,[381],[1.0])|(1024,[300],[1.0])| (1024,[50],[1.0])| (2757,[112],[1.0])|    (3,[],[])|(1839,[1319],[1.0])|  (100248,[0],[1.0])| (255,[15],[1.0])|(233678,[1002,101...|[25.2049460601290...|[0.99999999998868...|       0.0|\n",
            "|false|1002|         0|          0|               0|  381|300| 50| 112|  3|1319|100193| 15|        1| 28|  0|3df060eb|  7801e8d9|    07d7df22|         9fa0df8b-21|   2011.0|          4.0|            8.0|     61393.0|(1012,[1002],[1.0])| (7,[0],[1.0])|  (5,[0],[1.0])|       (5,[0],[1.0])|(2836,[2011],[1.0])|  (1426,[4],[1.0])|     (39,[8],[1.0])|(97153,[61393],[1...| (24043,[381],[1.0])|(1024,[300],[1.0])| (1024,[50],[1.0])| (2757,[112],[1.0])|    (3,[],[])|(1839,[1319],[1.0])|(100248,[100193],...| (255,[15],[1.0])|(233678,[1002,101...|[13.1791657812640...|[0.99999811044209...|       0.0|\n",
            "|false|1002|         0|          0|               0|  451|300| 50| 122|  3|1327|     0| 15|        3| 23|  0|59ca80c4|  7801e8d9|    07d7df22|          aad4d201-7|   1046.0|          4.0|            8.0|     65681.0|(1012,[1002],[1.0])| (7,[0],[1.0])|  (5,[0],[1.0])|       (5,[0],[1.0])|(2836,[1046],[1.0])|  (1426,[4],[1.0])|     (39,[8],[1.0])|(97153,[65681],[1...| (24043,[451],[1.0])|(1024,[300],[1.0])| (1024,[50],[1.0])| (2757,[122],[1.0])|    (3,[],[])|(1839,[1327],[1.0])|  (100248,[0],[1.0])| (255,[15],[1.0])|(233678,[1002,101...|[-31.276607519402...|[2.61060966587335...|       1.0|\n",
            "|false|1002|         0|          0|               0|  451|300| 50| 122|  3|1327|     0| 15|        4| 24|  0|75ae11c1|  7801e8d9|    07d7df22|          80289959-5|   1225.0|          4.0|            8.0|     49635.0|(1012,[1002],[1.0])| (7,[0],[1.0])|  (5,[0],[1.0])|       (5,[0],[1.0])|(2836,[1225],[1.0])|  (1426,[4],[1.0])|     (39,[8],[1.0])|(97153,[49635],[1...| (24043,[451],[1.0])|(1024,[300],[1.0])| (1024,[50],[1.0])| (2757,[122],[1.0])|    (3,[],[])|(1839,[1327],[1.0])|  (100248,[0],[1.0])| (255,[15],[1.0])|(233678,[1002,101...|[-31.088733143515...|[3.15017547741224...|       1.0|\n",
            "|false|1002|         0|          0|               0| 4687|320| 50| 423|  2|  39|     0| 32|        0| 27|  0|38c202aa|  7f744e4e|    50e219e0|         9c473512-20|    229.0|        775.0|            4.0|     60283.0|(1012,[1002],[1.0])| (7,[0],[1.0])|  (5,[0],[1.0])|       (5,[0],[1.0])| (2836,[229],[1.0])|(1426,[775],[1.0])|     (39,[4],[1.0])|(97153,[60283],[1...|(24043,[4687],[1.0])|(1024,[320],[1.0])| (1024,[50],[1.0])| (2757,[423],[1.0])|(3,[2],[1.0])|  (1839,[39],[1.0])|  (100248,[0],[1.0])| (255,[32],[1.0])|(233678,[1002,101...|[32.4391047657740...|[0.99999999999999...|       0.0|\n",
            "|false|1002|         0|          0|               0| 4687|320| 50| 423|  2|  39|     0| 32|        0| 27|  0|cc1b7a47|  7256c623|    50e219e0|         1fa2f883-11|    312.0|         36.0|            4.0|     13699.0|(1012,[1002],[1.0])| (7,[0],[1.0])|  (5,[0],[1.0])|       (5,[0],[1.0])| (2836,[312],[1.0])| (1426,[36],[1.0])|     (39,[4],[1.0])|(97153,[13699],[1...|(24043,[4687],[1.0])|(1024,[320],[1.0])| (1024,[50],[1.0])| (2757,[423],[1.0])|(3,[2],[1.0])|  (1839,[39],[1.0])|  (100248,[0],[1.0])| (255,[32],[1.0])|(233678,[1002,101...|[26.6065445346185...|[0.99999999999721...|       0.0|\n",
            "|false|1002|         0|          0|               0| 4687|320| 50| 423|  2|  39|     0| 32|        0| 27|  0|cc1b7a47|  7256c623|    50e219e0|         93c73143-13|    312.0|         36.0|            4.0|     57044.0|(1012,[1002],[1.0])| (7,[0],[1.0])|  (5,[0],[1.0])|       (5,[0],[1.0])| (2836,[312],[1.0])| (1426,[36],[1.0])|     (39,[4],[1.0])|(97153,[57044],[1...|(24043,[4687],[1.0])|(1024,[320],[1.0])| (1024,[50],[1.0])| (2757,[423],[1.0])|(3,[2],[1.0])|  (1839,[39],[1.0])|  (100248,[0],[1.0])| (255,[32],[1.0])|(233678,[1002,101...|[26.6065445346185...|[0.99999999999721...|       0.0|\n",
            "|false|1002|         0|          0|               0| 4687|320| 50| 423|  2|  39|     0| 32|        1| 28|  0|38c202aa|  fe3e9d9a|    50e219e0|          20364c7a-8|    229.0|        484.0|            4.0|     13906.0|(1012,[1002],[1.0])| (7,[0],[1.0])|  (5,[0],[1.0])|       (5,[0],[1.0])| (2836,[229],[1.0])|(1426,[484],[1.0])|     (39,[4],[1.0])|(97153,[13906],[1...|(24043,[4687],[1.0])|(1024,[320],[1.0])| (1024,[50],[1.0])| (2757,[423],[1.0])|(3,[2],[1.0])|  (1839,[39],[1.0])|  (100248,[0],[1.0])| (255,[32],[1.0])|(233678,[1002,101...|[31.9283472659952...|[0.99999999999998...|       0.0|\n",
            "|false|1002|         0|          0|               0| 4687|320| 50| 423|  2|  39|     0| 32|        2| 29|  0|48c42b43|  de0f0f82|    50e219e0|          ffc46e4f-9|    335.0|         57.0|            4.0|     97080.0|(1012,[1002],[1.0])| (7,[0],[1.0])|  (5,[0],[1.0])|       (5,[0],[1.0])| (2836,[335],[1.0])| (1426,[57],[1.0])|     (39,[4],[1.0])|(97153,[97080],[1...|(24043,[4687],[1.0])|(1024,[320],[1.0])| (1024,[50],[1.0])| (2757,[423],[1.0])|(3,[2],[1.0])|  (1839,[39],[1.0])|  (100248,[0],[1.0])| (255,[32],[1.0])|(233678,[1002,101...|[28.8538174903465...|[0.99999999999970...|       0.0|\n",
            "|false|1002|         0|          0|               0| 4687|320| 50| 423|  2|  39|     0| 32|        3| 23|  0|38c202aa|  4afa254d|    50e219e0|          c99dd855-6|    229.0|        444.0|            4.0|     77150.0|(1012,[1002],[1.0])| (7,[0],[1.0])|  (5,[0],[1.0])|       (5,[0],[1.0])| (2836,[229],[1.0])|(1426,[444],[1.0])|     (39,[4],[1.0])|(97153,[77150],[1...|(24043,[4687],[1.0])|(1024,[320],[1.0])| (1024,[50],[1.0])| (2757,[423],[1.0])|(3,[2],[1.0])|  (1839,[39],[1.0])|  (100248,[0],[1.0])| (255,[32],[1.0])|(233678,[1002,101...|[32.4575936323356...|[0.99999999999999...|       0.0|\n",
            "+-----+----+----------+-----------+----------------+-----+---+---+----+---+----+------+---+---------+---+---+--------+----------+------------+--------------------+---------+-------------+---------------+------------+-------------------+--------------+---------------+--------------------+-------------------+------------------+-------------------+--------------------+--------------------+------------------+------------------+-------------------+-------------+-------------------+--------------------+-----------------+--------------------+--------------------+--------------------+----------+\n",
            "only showing top 20 rows\n",
            "\n",
            "time: 16 s (started: 2022-07-08 19:39:55 +00:00)\n"
          ]
        }
      ],
      "source": [
        "# Read the data from the result data frame you created. \n",
        "\n",
        "preds_df.show()"
      ]
    },
    {
      "cell_type": "code",
      "execution_count": 34,
      "metadata": {
        "id": "1ILQy-kj14l9",
        "colab": {
          "base_uri": "https://localhost:8080/"
        },
        "outputId": "f3ddcadc-b24a-4346-bed7-099b5d9973e8"
      },
      "outputs": [
        {
          "output_type": "stream",
          "name": "stdout",
          "text": [
            "time: 43.9 ms (started: 2022-07-08 19:40:11 +00:00)\n"
          ]
        }
      ],
      "source": [
        "# Create a new data frame with only the columns y and probabilities \n",
        "final_df = preds_df[\"y\", \"probability\"]\n"
      ]
    },
    {
      "cell_type": "code",
      "source": [
        "final_df.show()"
      ],
      "metadata": {
        "colab": {
          "base_uri": "https://localhost:8080/"
        },
        "id": "soVPTCho4NGW",
        "outputId": "3a41ae29-4f60-456f-c772-5b3b71e3d1bf"
      },
      "execution_count": 35,
      "outputs": [
        {
          "output_type": "stream",
          "name": "stdout",
          "text": [
            "+---+--------------------+\n",
            "|  y|         probability|\n",
            "+---+--------------------+\n",
            "|  0|[0.99999999994861...|\n",
            "|  0|           [1.0,0.0]|\n",
            "|  0|[0.99999999999986...|\n",
            "|  0|[0.99999999999992...|\n",
            "|  0|[0.99999999966008...|\n",
            "|  0|[0.99999999999997...|\n",
            "|  0|[0.99999999999997...|\n",
            "|  0|[0.99998693153855...|\n",
            "|  0|[0.99999999998575...|\n",
            "|  0|[7.84554577197792...|\n",
            "|  0|[0.99999999998868...|\n",
            "|  0|[0.99999811044209...|\n",
            "|  0|[2.61060966587335...|\n",
            "|  0|[3.15017547741224...|\n",
            "|  0|[0.99999999999999...|\n",
            "|  0|[0.99999999999721...|\n",
            "|  0|[0.99999999999721...|\n",
            "|  0|[0.99999999999998...|\n",
            "|  0|[0.99999999999970...|\n",
            "|  0|[0.99999999999999...|\n",
            "+---+--------------------+\n",
            "only showing top 20 rows\n",
            "\n",
            "time: 14.5 s (started: 2022-07-08 19:40:11 +00:00)\n"
          ]
        }
      ]
    },
    {
      "cell_type": "code",
      "execution_count": 36,
      "metadata": {
        "id": "nQuVLOZp14l9",
        "colab": {
          "base_uri": "https://localhost:8080/"
        },
        "outputId": "21112de7-c0bf-463a-b53e-022072f7fd0b"
      },
      "outputs": [
        {
          "output_type": "stream",
          "name": "stdout",
          "text": [
            "time: 2.65 ms (started: 2022-07-08 19:40:25 +00:00)\n"
          ]
        }
      ],
      "source": [
        "# the probability is a dense vector column. \n",
        "# You will haave to find a way to access the value of the probability refering to the positive class. \n",
        "# create a function to access the probability of the positive class form the 'probability' column\n",
        "\n",
        "from pyspark.sql.functions import udf, when\n",
        "from pyspark.sql.types import FloatType\n",
        "\n",
        "element_extrac = udf(lambda v:float(v[1]),FloatType())"
      ]
    },
    {
      "cell_type": "code",
      "execution_count": 37,
      "metadata": {
        "id": "ETCszVOn14l9",
        "colab": {
          "base_uri": "https://localhost:8080/"
        },
        "outputId": "0745d6c0-c17a-44fe-a79c-8cbd2ee023ee"
      },
      "outputs": [
        {
          "output_type": "stream",
          "name": "stdout",
          "text": [
            "time: 1.28 ms (started: 2022-07-08 19:40:26 +00:00)\n"
          ]
        }
      ],
      "source": [
        "# Now you have the probabilities, your task is to add a class column. \n",
        "# To create this column, compare the probabilities with the threshold and decide the class. \n",
        "# You can make a loop which will repeat the same action for different thresholds\n",
        "# Use the filter and count functions to find the true positives, false positives, false negatives. (inside the loop)\n",
        "# Using these values, find the precision and recall for diffrent thresholds. (inside the loop)\n"
      ]
    },
    {
      "cell_type": "code",
      "source": [
        ""
      ],
      "metadata": {
        "id": "mWNQ7a4aJAIE"
      },
      "execution_count": 37,
      "outputs": []
    },
    {
      "cell_type": "code",
      "execution_count": 38,
      "metadata": {
        "id": "of0wF0aQ14l-",
        "colab": {
          "base_uri": "https://localhost:8080/"
        },
        "outputId": "28b458b8-048d-4189-ded9-daa2db602201"
      },
      "outputs": [
        {
          "output_type": "stream",
          "name": "stdout",
          "text": [
            "time: 779 µs (started: 2022-07-08 19:40:26 +00:00)\n"
          ]
        }
      ],
      "source": [
        "# Use the precision and recall to make a choice of threshold. \n",
        "\n"
      ]
    },
    {
      "cell_type": "markdown",
      "source": [
        "## Practice Questions"
      ],
      "metadata": {
        "id": "TyJkeRFYiXqP"
      }
    },
    {
      "cell_type": "code",
      "source": [
        "file_id = \"1QgfDsksChGJ5-XmDk7-sn9le2up7ThnF\"\n",
        "file_name = 'segment1.csv'\n",
        "download_file_google_drive(file_id, file_name)"
      ],
      "metadata": {
        "colab": {
          "base_uri": "https://localhost:8080/"
        },
        "id": "xagmWTJEq5gL",
        "outputId": "93ce31ff-fe8a-4d5b-8f5b-79ca6e0b8e82"
      },
      "execution_count": 39,
      "outputs": [
        {
          "output_type": "stream",
          "name": "stdout",
          "text": [
            "time: 1.01 s (started: 2022-07-08 19:40:26 +00:00)\n"
          ]
        }
      ]
    },
    {
      "cell_type": "code",
      "source": [
        "df = sqlContext.read.csv(\"/content/segment1.csv\", header=True, inferSchema=True)"
      ],
      "metadata": {
        "colab": {
          "base_uri": "https://localhost:8080/"
        },
        "id": "gy_LWMzje3Nh",
        "outputId": "f0c28517-6794-443a-e97e-49f6cc51a124"
      },
      "execution_count": 40,
      "outputs": [
        {
          "output_type": "stream",
          "name": "stdout",
          "text": [
            "time: 705 ms (started: 2022-07-08 19:40:27 +00:00)\n"
          ]
        }
      ]
    },
    {
      "cell_type": "code",
      "source": [
        "df.show()"
      ],
      "metadata": {
        "colab": {
          "base_uri": "https://localhost:8080/"
        },
        "id": "g-K1EAKkfBok",
        "outputId": "73a3ff58-6fe9-4c47-eef2-cdef1523178d"
      },
      "execution_count": 41,
      "outputs": [
        {
          "output_type": "stream",
          "name": "stdout",
          "text": [
            "+-----+----+----------+--------+-----------+-------------+--------+----------+------------+---------+---------+------------+-----------+----------------+-----+---+---+----+---+----+------+---+-----+---------+---+----+\n",
            "|click|  C1|banner_pos| site_id|site_domain|site_category|  app_id|app_domain|add_category|device_id|device_ip|device_model|device_type|device_conn_type|  C14|C15|C16| C17|C18| C19|   C20|C21|month|dayofweek|day|hour|\n",
            "+-----+----+----------+--------+-----------+-------------+--------+----------+------------+---------+---------+------------+-----------+----------------+-----+---+---+----+---+----+------+---+-----+---------+---+----+\n",
            "|false|1005|         1|5ee41ff2|   17d996e6|     f028772b|ecad2386|  7801e8d9|    07d7df22| a99f214a| bd03f834|    daa861e9|          1|               0|20251|320| 50|2323|  0| 687|100081| 48|   10|        2| 22|   8|\n",
            "|false|1005|         0|dcc019de|   250469f8|     3e814130|ecad2386|  7801e8d9|    07d7df22| a99f214a| a84d1037|    ecb851b2|          1|               0| 8330|320| 50| 761|  3| 175|100077| 23|   10|        1| 21|   7|\n",
            "|false|1005|         0|85f751fd|   c4e18dd6|     50e219e0|92f5800b|  ae637522|    0f2161f8| a99f214a| dd5e04d0|    2692a96a|          1|               3|21191|320| 50|2424|  1| 161|100189| 71|   10|        5| 25|  14|\n",
            "|false|1002|         0|3e447381|   49772f16|     50e219e0|ecad2386|  7801e8d9|    07d7df22| feb52061| f9452f17|    a12e847c|          0|               0|17081|320| 50|1921|  3|  47|    -1| 23|   10|        6| 26|  16|\n",
            "|false|1005|         0|9a977531|   a434fa42|     f028772b|ecad2386|  7801e8d9|    07d7df22| a99f214a| c1c017f1|    9b0f71c2|          1|               0|19772|320| 50|2227|  0| 679|    -1| 48|   10|        1| 21|  16|\n",
            "|false|1005|         1|43d6df75|   27e3c518|     28905ebd|ecad2386|  7801e8d9|    07d7df22| a99f214a| ca50a496|    1f0bc64f|          1|               0| 6563|320| 50| 572|  2|  39|    -1| 32|   10|        1| 21|  20|\n",
            "|false|1005|         0|47753f16|   9ece7167|     f028772b|ecad2386|  7801e8d9|    07d7df22| a99f214a| 8e055518|    dc08543d|          1|               0|16859|320| 50|1887|  3|  39|100199| 23|   10|        3| 30|  10|\n",
            "|false|1005|         0|1fbe01fe|   f3845767|     28905ebd|ecad2386|  7801e8d9|    07d7df22| a99f214a| 4ddaaefd|    779d90c2|          1|               0|20108|320| 50|2299|  2|1327|    -1| 52|   10|        5| 25|  17|\n",
            "|false|1005|         0|85f751fd|   c4e18dd6|     50e219e0|92f5800b|  ae637522|    0f2161f8| a99f214a| b62ca626|    496515fa|          1|               3|21191|320| 50|2424|  1| 161|100189| 71|   10|        6| 26|  10|\n",
            "|false|1002|         0|7b86de5b|   7352ce80|     50e219e0|ecad2386|  7801e8d9|    07d7df22| ebb98339| 45b07b26|    5a2f7cf8|          0|               0| 5299|320| 50| 479|  3|  39|100075| 23|   10|        6| 26|  12|\n",
            "| true|1005|         1|5ee41ff2|   17d996e6|     f028772b|ecad2386|  7801e8d9|    07d7df22| a99f214a| 19fde48c|    8a4875bd|          1|               0|19950|320| 50|1800|  3| 167|100077| 23|   10|        6| 26|   4|\n",
            "|false|1005|         0|85f751fd|   c4e18dd6|     50e219e0|febd1138|  82e27996|    0f2161f8| a99f214a| adf6caf6|    3eb8d368|          1|               0|20508|320| 50|2351|  3| 163|100020| 61|   10|        5| 25|  23|\n",
            "|false|1002|         0|a0a4523d|   6a9dcbd8|     50e219e0|ecad2386|  7801e8d9|    07d7df22| 059cef41| 61bb2292|    072c9f1e|          0|               0|21412|320| 50|2467|  2| 167|100075| 23|   10|        0| 27|  19|\n",
            "|false|1005|         0|1fbe01fe|   f3845767|     28905ebd|ecad2386|  7801e8d9|    07d7df22| a99f214a| 2b557efd|    b78e6543|          1|               0|15703|320| 50|1722|  0|  35|100084| 79|   10|        5| 25|  18|\n",
            "|false|1005|         1|ba9aee1b|   9eaf88fa|     f028772b|ecad2386|  7801e8d9|    07d7df22| a99f214a| 87375a97|    3e7932d7|          1|               0|19771|320| 50|2227|  0| 935|100081| 48|   10|        1| 28|   4|\n",
            "|false|1005|         0|d9750ee7|   98572c79|     f028772b|ecad2386|  7801e8d9|    07d7df22| a99f214a| 8a014cbb|    9dcb1cd1|          1|               0|15708|320| 50|1722|  0|  35|    -1| 79|   10|        1| 21|   2|\n",
            "|false|1005|         0|1fbe01fe|   f3845767|     28905ebd|ecad2386|  7801e8d9|    07d7df22| a99f214a| 8fcc5fbb|    4ea23a13|          1|               0|15699|320| 50|1722|  0|  35|    -1| 79|   10|        3| 23|  14|\n",
            "|false|1005|         0|2b1ddb24|   98acf46c|     3e814130|ecad2386|  7801e8d9|    07d7df22| a99f214a| 22b66417|    3937b3bf|          1|               0|23635|320| 50|2708|  2|  39|    -1| 23|   10|        3| 30|   8|\n",
            "|false|1005|         1|856e6d3f|   58a89a43|     f028772b|ecad2386|  7801e8d9|    07d7df22| a99f214a| cc5db87f|    8f5c9827|          1|               0|19772|320| 50|2227|  0| 679|100075| 48|   10|        2| 22|   8|\n",
            "| true|1005|         1|5114c672|   3f2f3819|     3e814130|ecad2386|  7801e8d9|    07d7df22| a99f214a| a180d667|    d787e91b|          1|               0|19771|320| 50|2227|  0| 679|100075| 48|   10|        3| 23|  16|\n",
            "+-----+----+----------+--------+-----------+-------------+--------+----------+------------+---------+---------+------------+-----------+----------------+-----+---+---+----+---+----+------+---+-----+---------+---+----+\n",
            "only showing top 20 rows\n",
            "\n",
            "time: 400 ms (started: 2022-07-08 19:40:27 +00:00)\n"
          ]
        }
      ]
    },
    {
      "cell_type": "code",
      "source": [
        "df = sqlContext.read.csv(\"/content/segment1.csv\", header=True, inferSchema=True)\n",
        "\n",
        "si  = StringIndexer(inputCol='C14', outputCol='C14_si')\n",
        "df = si.fit(df).transform(df)\n",
        "ohe = OneHotEncoder(inputCols=['C14_si'], outputCols=['C14_enc'])\n",
        "df= ohe.fit(df).transform(df)\n",
        "df.select('C14_enc').show()"
      ],
      "metadata": {
        "colab": {
          "base_uri": "https://localhost:8080/"
        },
        "id": "fCoyDqQWiWPI",
        "outputId": "17c96d32-c546-4acd-a2eb-199115de9278"
      },
      "execution_count": 42,
      "outputs": [
        {
          "output_type": "stream",
          "name": "stdout",
          "text": [
            "+-----------------+\n",
            "|          C14_enc|\n",
            "+-----------------+\n",
            "| (964,[34],[1.0])|\n",
            "|  (964,[7],[1.0])|\n",
            "|  (964,[3],[1.0])|\n",
            "|(964,[107],[1.0])|\n",
            "|  (964,[6],[1.0])|\n",
            "| (964,[31],[1.0])|\n",
            "|(964,[153],[1.0])|\n",
            "| (964,[10],[1.0])|\n",
            "|  (964,[3],[1.0])|\n",
            "|(964,[139],[1.0])|\n",
            "|  (964,[8],[1.0])|\n",
            "| (964,[57],[1.0])|\n",
            "|(964,[205],[1.0])|\n",
            "| (964,[11],[1.0])|\n",
            "|  (964,[2],[1.0])|\n",
            "| (964,[15],[1.0])|\n",
            "| (964,[14],[1.0])|\n",
            "|(964,[367],[1.0])|\n",
            "|  (964,[6],[1.0])|\n",
            "|  (964,[2],[1.0])|\n",
            "+-----------------+\n",
            "only showing top 20 rows\n",
            "\n",
            "time: 1.31 s (started: 2022-07-08 19:40:28 +00:00)\n"
          ]
        }
      ]
    },
    {
      "cell_type": "code",
      "source": [
        "df = sqlContext.read.csv(\"/content/segment1.csv\", header=True, inferSchema=True)\n",
        "\n",
        "df = df.withColumn(\"y\", df[\"click\"].cast(IntegerType()))\n",
        "\n",
        "posMapper = udf(lambda x: 0 if x < 0 else x)\n",
        "df = df.withColumn('C20_1', posMapper(df['C20']))\n",
        "df = df.withColumn(\"C20_1int\", df['C20_1'].cast(IntegerType()))\n",
        "\n",
        "\n",
        "col = ['C1','C14','C15','C16','C17','C18','C19','C20_1int','C21']\n",
        "ohe = OneHotEncoder(inputCols=col, outputCols=[c +'enc' for c in col])\n",
        "df= ohe.fit(df).transform(df)\n",
        "\n",
        "trainCols = [c+'enc' for c in col]\n",
        "\n",
        "from pyspark.ml.feature import VectorAssembler\n",
        "assembler = VectorAssembler(inputCols=trainCols, outputCol='features')\n",
        "df = assembler.transform(df)\n",
        "\n",
        "train, test = df.randomSplit([0.8, 0.2], seed=12345)\n",
        "\n",
        "from pyspark.ml.classification import LogisticRegression\n",
        "\n",
        "lr = LogisticRegression(featuresCol='features', labelCol='y')\n",
        "model = lr.fit(train)\n",
        "\n",
        "result_test = model.evaluate(test)\n",
        "\n",
        "result_test.areaUnderROC"
      ],
      "metadata": {
        "colab": {
          "base_uri": "https://localhost:8080/"
        },
        "id": "x6ZiZE-_iWL_",
        "outputId": "b3c579e2-f236-4251-c59e-a2dc4d738375"
      },
      "execution_count": 43,
      "outputs": [
        {
          "output_type": "execute_result",
          "data": {
            "text/plain": [
              "0.6589750007219658"
            ]
          },
          "metadata": {},
          "execution_count": 43
        },
        {
          "output_type": "stream",
          "name": "stdout",
          "text": [
            "time: 3min 48s (started: 2022-07-08 19:40:29 +00:00)\n"
          ]
        }
      ]
    },
    {
      "cell_type": "code",
      "source": [
        "df = sqlContext.read.csv(\"/content/segment1.csv\", header=True, inferSchema=True)\n",
        "\n",
        "df = df.withColumn(\"y\", df[\"click\"].cast(IntegerType()))\n",
        "\n",
        "posMapper = udf(lambda x: 0 if x < 0 else x)\n",
        "df = df.withColumn('C20_1', posMapper(df['C20']))\n",
        "df = df.withColumn(\"C20_1int\", df['C20_1'].cast(IntegerType()))\n",
        "\n",
        "\n",
        "col = ['C1','C14','C15','C16','C17','C18','C19','C20_1int','C21']\n",
        "ohe = OneHotEncoder(inputCols=col, outputCols=[c +'enc' for c in col])\n",
        "df= ohe.fit(df).transform(df)\n",
        "\n",
        "trainCols = [c+'enc' for c in col]\n",
        "\n",
        "from pyspark.ml.feature import VectorAssembler\n",
        "assembler = VectorAssembler(inputCols=trainCols, outputCol='features')\n",
        "df = assembler.transform(df)\n",
        "\n",
        "train, test = df.randomSplit([0.8, 0.2], seed=12345)\n",
        "\n",
        "from pyspark.ml.classification import LogisticRegression\n",
        "\n",
        "lr = LogisticRegression(featuresCol='features', labelCol='y')\n",
        "model = lr.fit(train)\n",
        "\n",
        "result_test = model.evaluate(test)\n",
        "\n",
        "result_test.recallByLabel"
      ],
      "metadata": {
        "colab": {
          "base_uri": "https://localhost:8080/"
        },
        "id": "OcM9EsH6iWI3",
        "outputId": "6e1aa1f9-a99a-4d6c-ee26-7d250784fad1"
      },
      "execution_count": 44,
      "outputs": [
        {
          "output_type": "execute_result",
          "data": {
            "text/plain": [
              "[0.9770992366412213, 0.06885245901639345]"
            ]
          },
          "metadata": {},
          "execution_count": 44
        },
        {
          "output_type": "stream",
          "name": "stdout",
          "text": [
            "time: 3min 42s (started: 2022-07-08 19:44:18 +00:00)\n"
          ]
        }
      ]
    },
    {
      "cell_type": "code",
      "source": [
        "df = sqlContext.read.csv(\"/content/segment1.csv\", header=True, inferSchema=True)\n",
        "\n",
        "df = df.withColumn(\"y\", df[\"click\"].cast(IntegerType()))\n",
        "\n",
        "posMapper = udf(lambda x: 0 if x < 0 else x)\n",
        "df = df.withColumn('C20_1', posMapper(df['C20']))\n",
        "df = df.withColumn(\"C20_1int\", df['C20_1'].cast(IntegerType()))\n",
        "\n",
        "col = ['C1','C14','C15','C16','C17','C18','C19','C20_1int','C21']\n",
        "ohe = OneHotEncoder(inputCols=col, outputCols=[c +'enc' for c in col])\n",
        "df= ohe.fit(df).transform(df)\n",
        "\n",
        "trainCols = [c+'enc' for c in col]\n",
        "\n",
        "from pyspark.ml.feature import VectorAssembler\n",
        "assembler = VectorAssembler(inputCols=trainCols, outputCol='features')\n",
        "df = assembler.transform(df)\n",
        "\n",
        "train, test = df.randomSplit([0.8, 0.2], seed=12345)\n",
        "\n",
        "from pyspark.ml.classification import LogisticRegression\n",
        "\n",
        "lr = LogisticRegression(featuresCol='features', labelCol='y')\n",
        "model = lr.fit(train)\n",
        "\n",
        "result_test = model.evaluate(test)\n",
        "\n",
        "result_test.areaUnderROC"
      ],
      "metadata": {
        "colab": {
          "base_uri": "https://localhost:8080/"
        },
        "id": "AGyM_562iV9a",
        "outputId": "39bb6233-7386-4d21-c742-a592bd50ee61"
      },
      "execution_count": 45,
      "outputs": [
        {
          "output_type": "execute_result",
          "data": {
            "text/plain": [
              "0.6589750007219658"
            ]
          },
          "metadata": {},
          "execution_count": 45
        },
        {
          "output_type": "stream",
          "name": "stdout",
          "text": [
            "time: 3min 39s (started: 2022-07-08 19:48:00 +00:00)\n"
          ]
        }
      ]
    },
    {
      "cell_type": "code",
      "source": [
        "%unload_ext autotime"
      ],
      "metadata": {
        "id": "ZdqlNCe8fD4n"
      },
      "execution_count": 46,
      "outputs": []
    }
  ],
  "metadata": {
    "kernelspec": {
      "display_name": "Python 3",
      "language": "python",
      "name": "python3"
    },
    "language_info": {
      "codemirror_mode": {
        "name": "ipython",
        "version": 3
      },
      "file_extension": ".py",
      "mimetype": "text/x-python",
      "name": "python",
      "nbconvert_exporter": "python",
      "pygments_lexer": "ipython3",
      "version": "3.7.6"
    },
    "colab": {
      "name": "CTR_05_Feature_Engineering_and_Threshold_Selection.ipynb",
      "provenance": [],
      "collapsed_sections": []
    }
  },
  "nbformat": 4,
  "nbformat_minor": 0
}