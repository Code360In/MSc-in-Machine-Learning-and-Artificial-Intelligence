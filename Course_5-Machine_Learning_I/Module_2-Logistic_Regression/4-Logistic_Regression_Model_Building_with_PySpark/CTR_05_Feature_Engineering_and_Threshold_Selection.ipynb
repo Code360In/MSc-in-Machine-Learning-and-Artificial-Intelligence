{
  "cells": [
    {
      "cell_type": "markdown",
      "metadata": {
        "id": "qokLRIyt14lx"
      },
      "source": [
        "# Feature engineering"
      ]
    },
    {
      "cell_type": "code",
      "source": [
        "!pip install -q pyspark\n",
        "!pip install -q ipython-autotime"
      ],
      "metadata": {
        "colab": {
          "base_uri": "https://localhost:8080/"
        },
        "id": "DWmRmF5P0bQU",
        "outputId": "5f0459ef-08b2-4392-b0e0-c6385e2614fa"
      },
      "execution_count": null,
      "outputs": [
        {
          "output_type": "stream",
          "name": "stdout",
          "text": [
            "\u001b[K     |████████████████████████████████| 281.3 MB 42 kB/s \n",
            "\u001b[K     |████████████████████████████████| 199 kB 46.4 MB/s \n",
            "\u001b[?25h  Building wheel for pyspark (setup.py) ... \u001b[?25l\u001b[?25hdone\n"
          ]
        }
      ]
    },
    {
      "cell_type": "code",
      "source": [
        "%load_ext autotime"
      ],
      "metadata": {
        "colab": {
          "base_uri": "https://localhost:8080/"
        },
        "id": "g3tAE8n8JLMW",
        "outputId": "303dab36-7d88-47d2-b384-f1a0fad598d0"
      },
      "execution_count": null,
      "outputs": [
        {
          "output_type": "stream",
          "name": "stdout",
          "text": [
            "time: 131 µs (started: 2022-07-08 05:09:48 +00:00)\n"
          ]
        }
      ]
    },
    {
      "cell_type": "code",
      "source": [
        "def download_file_google_drive(id: str, f_name: str, f_save_path: str=\"\"):\n",
        "    \"\"\"\n",
        "    Download file from Google Drive\n",
        "\n",
        "    Args:\n",
        "        id (str): Google Drive File ID\n",
        "        f_name (str): File name\n",
        "        f_save_path (str): File save path. \n",
        "            default: Current working directory\n",
        "    \"\"\"\n",
        "    import os, requests\n",
        "\n",
        "    def get_confirm_token(response):\n",
        "        for key, value in response.cookies.items():\n",
        "            if key.startswith('download_warning'):\n",
        "                return value\n",
        "        return None\n",
        "\n",
        "    def save_response_content(response, destination):\n",
        "        CHUNK_SIZE = 32768\n",
        "        with open(destination, \"wb\") as f:\n",
        "            for chunk in response.iter_content(CHUNK_SIZE):\n",
        "                if chunk: # filter out keep-alive new chunks\n",
        "                    f.write(chunk)\n",
        "\n",
        "    URL = \"https://docs.google.com/uc?export=download\"\n",
        "\n",
        "    f_save_path = os.getcwd() if not f_save_path else f_save_path.rstrip(\"/\")\n",
        "    destination = f\"{f_save_path}/{f_name}\"\n",
        "\n",
        "    session = requests.Session()\n",
        "    response = session.get(URL, params = { 'id' : id }, stream = True)\n",
        "    token = get_confirm_token(response)\n",
        "\n",
        "    if token:\n",
        "        params = { 'id' : id, 'confirm' : token }\n",
        "        response = session.get(URL, params = params, stream = True)\n",
        "    save_response_content(response, destination)    \n",
        "   \n",
        "\n",
        "                \n",
        "file_id = \"1dacdNyWhG2Kqbhkk_SdRqKMzjUGDC_BO\"\n",
        "file_name = 'Model_Improvement_Dataset.csv'\n",
        "download_file_google_drive(file_id, file_name)"
      ],
      "metadata": {
        "id": "z4_ZR9MY5UFC",
        "colab": {
          "base_uri": "https://localhost:8080/"
        },
        "outputId": "54b93849-84f4-4bfe-f419-a6467993c27e"
      },
      "execution_count": null,
      "outputs": [
        {
          "output_type": "stream",
          "name": "stdout",
          "text": [
            "time: 1.94 s (started: 2022-07-08 05:09:48 +00:00)\n"
          ]
        }
      ]
    },
    {
      "cell_type": "code",
      "execution_count": null,
      "metadata": {
        "id": "WN1j_eN414l0",
        "colab": {
          "base_uri": "https://localhost:8080/"
        },
        "outputId": "a22336f5-8c06-430d-d7f1-5903b03bfe04"
      },
      "outputs": [
        {
          "output_type": "stream",
          "name": "stdout",
          "text": [
            "time: 8.96 s (started: 2022-07-08 05:09:50 +00:00)\n"
          ]
        }
      ],
      "source": [
        "# start a spark application\n",
        "from pyspark.sql import SparkSession\n",
        "\n",
        "spark = SparkSession.builder\\\n",
        "        .master(\"local\")\\\n",
        "        .appName(\"Colab\")\\\n",
        "        .config('spark.ui.port', '4050')\\\n",
        "        .getOrCreate()"
      ]
    },
    {
      "cell_type": "code",
      "execution_count": null,
      "metadata": {
        "colab": {
          "base_uri": "https://localhost:8080/"
        },
        "id": "fzTXuTaR14l1",
        "outputId": "9566e0c2-4b27-4131-cde3-0c9aa269d7a7"
      },
      "outputs": [
        {
          "output_type": "stream",
          "name": "stderr",
          "text": [
            "/usr/local/lib/python3.7/dist-packages/pyspark/sql/context.py:114: FutureWarning: Deprecated in 3.0.0. Use SparkSession.builder.getOrCreate() instead.\n",
            "  FutureWarning,\n"
          ]
        },
        {
          "output_type": "stream",
          "name": "stdout",
          "text": [
            "time: 12.3 s (started: 2022-07-08 05:09:59 +00:00)\n"
          ]
        }
      ],
      "source": [
        "# read the data \n",
        "from pyspark.sql import SQLContext\n",
        "sqlContext = SQLContext(spark)\n",
        "\n",
        "df = sqlContext.read.csv(\"/content/Model_Improvement_Dataset.csv\", header=True, inferSchema=True)"
      ]
    },
    {
      "cell_type": "code",
      "source": [
        "from pyspark.sql.types import IntegerType\n",
        "from math import floor\n",
        "from pyspark.sql.functions import rand\n",
        "from pyspark.sql.functions import col\n",
        "\n",
        "def stratifiedSample(df, N, labelCol=\"y\"):\n",
        "    ctx = df.groupby(labelCol).count()\n",
        "    ctx = ctx.withColumn('frac', col(\"count\") / df.count())\n",
        "    frac = ctx.select(\"y\", \"frac\").rdd.collectAsMap()\n",
        "    pos = int(floor(frac[1] * N))\n",
        "    neg = int(floor(frac[0] * N))\n",
        "    posDF = df.filter(col(labelCol) == 1).orderBy(rand()).limit(pos)\n",
        "    negDF = df.filter(col(labelCol) == 0).orderBy(rand()).limit(neg)\n",
        "    return posDF.unionAll(negDF).orderBy(rand())\n",
        "\n",
        "df = df.withColumn(\"y\", df[\"click\"].cast(IntegerType()))\n",
        "xdf = stratifiedSample(df, 1_000_000)\n",
        "\n",
        "xdf.printSchema()"
      ],
      "metadata": {
        "colab": {
          "base_uri": "https://localhost:8080/"
        },
        "id": "FmKPrUREWCQf",
        "outputId": "af7aa93d-8bde-49f0-b0b5-7d6fa3191452"
      },
      "execution_count": null,
      "outputs": [
        {
          "output_type": "stream",
          "name": "stdout",
          "text": [
            "root\n",
            " |-- click: boolean (nullable = true)\n",
            " |-- C1: integer (nullable = true)\n",
            " |-- banner_pos: integer (nullable = true)\n",
            " |-- site_id: string (nullable = true)\n",
            " |-- site_domain: string (nullable = true)\n",
            " |-- site_category: string (nullable = true)\n",
            " |-- app_id: string (nullable = true)\n",
            " |-- app_domain: string (nullable = true)\n",
            " |-- app_category: string (nullable = true)\n",
            " |-- device_id: string (nullable = true)\n",
            " |-- device_ip: string (nullable = true)\n",
            " |-- device_model: string (nullable = true)\n",
            " |-- device_type: integer (nullable = true)\n",
            " |-- device_conn_type: integer (nullable = true)\n",
            " |-- C14: integer (nullable = true)\n",
            " |-- C15: integer (nullable = true)\n",
            " |-- C16: integer (nullable = true)\n",
            " |-- C17: integer (nullable = true)\n",
            " |-- C18: integer (nullable = true)\n",
            " |-- C19: integer (nullable = true)\n",
            " |-- C20: integer (nullable = true)\n",
            " |-- C21: integer (nullable = true)\n",
            " |-- month: integer (nullable = true)\n",
            " |-- dayofweek: integer (nullable = true)\n",
            " |-- day: integer (nullable = true)\n",
            " |-- hour: integer (nullable = true)\n",
            " |-- y: integer (nullable = true)\n",
            "\n",
            "time: 3.5 s (started: 2022-07-08 05:10:12 +00:00)\n"
          ]
        }
      ]
    },
    {
      "cell_type": "code",
      "source": [
        "xdf.printSchema()"
      ],
      "metadata": {
        "colab": {
          "base_uri": "https://localhost:8080/"
        },
        "id": "ViBclhI9w7Db",
        "outputId": "67e70f7e-811f-498b-ac9d-4d75f994a7e5"
      },
      "execution_count": null,
      "outputs": [
        {
          "output_type": "stream",
          "name": "stdout",
          "text": [
            "root\n",
            " |-- click: boolean (nullable = true)\n",
            " |-- C1: integer (nullable = true)\n",
            " |-- banner_pos: integer (nullable = true)\n",
            " |-- site_id: string (nullable = true)\n",
            " |-- site_domain: string (nullable = true)\n",
            " |-- site_category: string (nullable = true)\n",
            " |-- app_id: string (nullable = true)\n",
            " |-- app_domain: string (nullable = true)\n",
            " |-- app_category: string (nullable = true)\n",
            " |-- device_id: string (nullable = true)\n",
            " |-- device_ip: string (nullable = true)\n",
            " |-- device_model: string (nullable = true)\n",
            " |-- device_type: integer (nullable = true)\n",
            " |-- device_conn_type: integer (nullable = true)\n",
            " |-- C14: integer (nullable = true)\n",
            " |-- C15: integer (nullable = true)\n",
            " |-- C16: integer (nullable = true)\n",
            " |-- C17: integer (nullable = true)\n",
            " |-- C18: integer (nullable = true)\n",
            " |-- C19: integer (nullable = true)\n",
            " |-- C20: integer (nullable = true)\n",
            " |-- C21: integer (nullable = true)\n",
            " |-- month: integer (nullable = true)\n",
            " |-- dayofweek: integer (nullable = true)\n",
            " |-- day: integer (nullable = true)\n",
            " |-- hour: integer (nullable = true)\n",
            " |-- y: integer (nullable = true)\n",
            "\n",
            "time: 7.57 ms (started: 2022-07-08 05:10:15 +00:00)\n"
          ]
        }
      ]
    },
    {
      "cell_type": "code",
      "execution_count": null,
      "metadata": {
        "colab": {
          "base_uri": "https://localhost:8080/"
        },
        "id": "fhjH0fM914l2",
        "outputId": "90fcb4eb-f748-4c86-c15e-d08100fe8c87"
      },
      "outputs": [
        {
          "output_type": "stream",
          "name": "stdout",
          "text": [
            "+--------+-----------+-------------+--------+----------+------------+\n",
            "| site_id|site_domain|site_category|  app_id|app_domain|app_category|\n",
            "+--------+-----------+-------------+--------+----------+------------+\n",
            "|178a7b89|   b4598159|     f028772b|ecad2386|  7801e8d9|    07d7df22|\n",
            "|1fbe01fe|   f3845767|     28905ebd|ecad2386|  7801e8d9|    07d7df22|\n",
            "|1fbe01fe|   f3845767|     28905ebd|ecad2386|  7801e8d9|    07d7df22|\n",
            "|1fbe01fe|   f3845767|     28905ebd|ecad2386|  7801e8d9|    07d7df22|\n",
            "|3dc2d6de|   e2a5dc06|     3e814130|ecad2386|  7801e8d9|    07d7df22|\n",
            "|85f751fd|   c4e18dd6|     50e219e0|51cedd4e|  aefc06bd|    0f2161f8|\n",
            "|5b4d2eda|   16a36ef3|     f028772b|ecad2386|  7801e8d9|    07d7df22|\n",
            "|1fbe01fe|   f3845767|     28905ebd|ecad2386|  7801e8d9|    07d7df22|\n",
            "|85f751fd|   c4e18dd6|     50e219e0|a5184c22|  b8d325c3|    0f2161f8|\n",
            "|e151e245|   7e091613|     f028772b|ecad2386|  7801e8d9|    07d7df22|\n",
            "|85f751fd|   c4e18dd6|     50e219e0|f888bf4c|  5b9c592b|    0f2161f8|\n",
            "|1fbe01fe|   f3845767|     28905ebd|ecad2386|  7801e8d9|    07d7df22|\n",
            "|a7853007|   7e091613|     f028772b|ecad2386|  7801e8d9|    07d7df22|\n",
            "|1fbe01fe|   f3845767|     28905ebd|ecad2386|  7801e8d9|    07d7df22|\n",
            "|b7e9786d|   b12b9f85|     f028772b|ecad2386|  7801e8d9|    07d7df22|\n",
            "|5b08c53b|   7687a86e|     3e814130|ecad2386|  7801e8d9|    07d7df22|\n",
            "|d9750ee7|   98572c79|     f028772b|ecad2386|  7801e8d9|    07d7df22|\n",
            "|e023ba3e|   75f9ddc3|     f028772b|ecad2386|  7801e8d9|    07d7df22|\n",
            "|5b787406|   f3ca2e42|     50e219e0|ecad2386|  7801e8d9|    07d7df22|\n",
            "|d8bb8687|   98e6755b|     3e814130|ecad2386|  7801e8d9|    07d7df22|\n",
            "+--------+-----------+-------------+--------+----------+------------+\n",
            "only showing top 20 rows\n",
            "\n",
            "time: 2.66 s (started: 2022-07-08 05:10:15 +00:00)\n"
          ]
        }
      ],
      "source": [
        "# select the columns 'site_id','site_domain','site_category','app_id','app_domain','app_category' and display them, \n",
        "# so that you can analyse the values as they were shown in the segment \n",
        "\n",
        "cols = [\"site_id\", \"site_domain\", \"site_category\", \"app_id\", \"app_domain\", \"app_category\"]\n",
        "xdf.select(*cols).show()\n"
      ]
    },
    {
      "cell_type": "code",
      "execution_count": null,
      "metadata": {
        "id": "R46nYfwc14l2",
        "colab": {
          "base_uri": "https://localhost:8080/"
        },
        "outputId": "833d43e4-cf15-40c3-9651-9e1381524bc3"
      },
      "outputs": [
        {
          "output_type": "stream",
          "name": "stdout",
          "text": [
            "time: 102 ms (started: 2022-07-08 05:10:18 +00:00)\n"
          ]
        }
      ],
      "source": [
        "# create 3 new columns in the datafeame named 'pub_id', 'pub_domain', 'pub_category' \n",
        "# these columns will have the data from 'site_id','site_domain','site_category'\n",
        "# Use the withColumn method \n",
        "\n",
        "xdf = xdf.withColumn(\"pub_id\", xdf[\"site_id\"])\n",
        "xdf = xdf.withColumn(\"pub_domain\", xdf[\"site_domain\"])\n",
        "xdf = xdf.withColumn(\"pub_category\", xdf[\"site_category\"])"
      ]
    },
    {
      "cell_type": "code",
      "execution_count": null,
      "metadata": {
        "id": "Ap18CCHu14l3",
        "colab": {
          "base_uri": "https://localhost:8080/"
        },
        "outputId": "8277a0a3-c63a-459b-842f-140a14adc461"
      },
      "outputs": [
        {
          "output_type": "stream",
          "name": "stdout",
          "text": [
            "time: 201 ms (started: 2022-07-08 05:10:18 +00:00)\n"
          ]
        }
      ],
      "source": [
        "# replace the values in the columns 'pub_id', 'pub_domain', 'pub_category' with the values 'app_id','app_domain','app_category'\n",
        "# the replcement should only happen if the value in site_id is '85f751fd'\n",
        "# you will need withColumn and when functions\n",
        "\n",
        "from pyspark.sql import functions as F\n",
        "\n",
        "xdf = xdf.withColumn(\"pub_id\", F.when(F.col(\"site_id\") == \"85f751fd\", F.col(\"app_id\")).otherwise(F.col(\"site_id\")))\n",
        "xdf = xdf.withColumn(\"pub_domain\", F.when(F.col(\"site_id\") == \"85f751fd\", F.col(\"app_domain\")).otherwise(F.col(\"site_domain\")))\n",
        "xdf = xdf.withColumn(\"pub_category\", F.when(F.col(\"site_id\") == \"85f751fd\", F.col(\"app_category\")).otherwise(F.col(\"site_category\")))\n"
      ]
    },
    {
      "cell_type": "code",
      "execution_count": null,
      "metadata": {
        "id": "CUjcMAdy14l3",
        "colab": {
          "base_uri": "https://localhost:8080/"
        },
        "outputId": "21ac7b07-4501-47cc-f23d-a94d30fdc223"
      },
      "outputs": [
        {
          "output_type": "stream",
          "name": "stdout",
          "text": [
            "time: 41.4 ms (started: 2022-07-08 05:10:18 +00:00)\n"
          ]
        }
      ],
      "source": [
        "# drop all the columns which are now redundunt \n",
        "xdf = xdf.drop(*tuple(cols))"
      ]
    },
    {
      "cell_type": "code",
      "execution_count": null,
      "metadata": {
        "colab": {
          "base_uri": "https://localhost:8080/"
        },
        "id": "GqZkSEox14l4",
        "outputId": "8e3e0b3f-c92c-475e-bd50-7442321d2dea"
      },
      "outputs": [
        {
          "output_type": "stream",
          "name": "stdout",
          "text": [
            "+---------+-----+\n",
            "|device_id|count|\n",
            "+---------+-----+\n",
            "| a99f214a|82579|\n",
            "| c357dbff|   62|\n",
            "| 0f7c61dc|   51|\n",
            "| afeffc18|   34|\n",
            "| 936e92fb|   27|\n",
            "| cef4c8cc|   12|\n",
            "| 28dc8687|   11|\n",
            "| 9af87478|    9|\n",
            "| d857ffbb|    9|\n",
            "| 02da5312|    8|\n",
            "| b09da1c4|    7|\n",
            "| 987552d1|    7|\n",
            "| 3cdb4052|    6|\n",
            "| 03559b29|    6|\n",
            "| 1168ce02|    5|\n",
            "| abab24a7|    5|\n",
            "| 69401309|    4|\n",
            "| 787d2bb0|    4|\n",
            "| 2c112522|    4|\n",
            "| 243bd3ab|    4|\n",
            "+---------+-----+\n",
            "only showing top 20 rows\n",
            "\n",
            "time: 2.9 s (started: 2022-07-08 05:10:18 +00:00)\n"
          ]
        }
      ],
      "source": [
        "# check the frequency of each category in device_id. did you get a similar distribution to the one shown in the segment? \n",
        "# use groupBy and count\n",
        "from pyspark.sql.functions import desc\n",
        "\n",
        "xdf.groupby(\"device_id\").count().sort(desc(\"count\")).show()"
      ]
    },
    {
      "cell_type": "code",
      "execution_count": null,
      "metadata": {
        "id": "AWxAQWsn14l4",
        "colab": {
          "base_uri": "https://localhost:8080/"
        },
        "outputId": "f99fd0a5-b986-4888-dbfd-08b363b30e25"
      },
      "outputs": [
        {
          "output_type": "stream",
          "name": "stdout",
          "text": [
            "time: 54.3 ms (started: 2022-07-08 05:10:21 +00:00)\n"
          ]
        }
      ],
      "source": [
        "# combine device_ip and device_type to form a new column which can identify users. \n",
        "# name the new column 'user' with data from device_id\n",
        "xdf = xdf.withColumn(\"user\", xdf[\"device_id\"])"
      ]
    },
    {
      "cell_type": "code",
      "execution_count": null,
      "metadata": {
        "id": "pjpBOiYS14l5",
        "colab": {
          "base_uri": "https://localhost:8080/"
        },
        "outputId": "49c6653b-197c-49ae-c93a-0a0c8e652d8a"
      },
      "outputs": [
        {
          "output_type": "stream",
          "name": "stdout",
          "text": [
            "time: 70.3 ms (started: 2022-07-08 05:10:21 +00:00)\n"
          ]
        }
      ],
      "source": [
        "# In that column whereever the device_id is missing use a combination of device_ip and device_type\n",
        "# You will have to use the withcolumn along with a when condition. \n",
        "# You will the combination of device id and device ip can be done usin the following code. \n",
        "# from pyspark.sql import functions as sf\n",
        "# sf.concat(sf.col('device_ip'),sf.lit('-'), sf.col('device_model'))\n",
        "\n",
        "# use this code inside a when condition\n",
        "\n",
        "xdf = xdf.withColumn(\"user\", F.when(F.col(\"device_id\") == \"a99f214a\", \n",
        "                                    F.concat(F.col(\"device_ip\"), \n",
        "                                             F.lit(\"-\"), \n",
        "                                             F.col(\"device_model\"))).otherwise(F.col(\"device_id\")))"
      ]
    },
    {
      "cell_type": "code",
      "execution_count": null,
      "metadata": {
        "colab": {
          "base_uri": "https://localhost:8080/"
        },
        "id": "1zChZhHi14l5",
        "outputId": "9a52ecd4-62af-4040-cddf-f42ab584e564"
      },
      "outputs": [
        {
          "output_type": "stream",
          "name": "stdout",
          "text": [
            "+-----------------+-----+\n",
            "|             user|count|\n",
            "+-----------------+-----+\n",
            "|af62faf4-3bb1ddd7|   96|\n",
            "|285aa37d-3bb1ddd7|   92|\n",
            "|2f323f36-3bb1ddd7|   92|\n",
            "|6394f6f6-3bb1ddd7|   91|\n",
            "|d90a7774-3bb1ddd7|   88|\n",
            "|af9205f9-3bb1ddd7|   88|\n",
            "|6b9769f2-8a4875bd|   87|\n",
            "|009a7861-3bb1ddd7|   86|\n",
            "|930ec31d-3bb1ddd7|   84|\n",
            "|431b3174-8a4875bd|   69|\n",
            "|         c357dbff|   62|\n",
            "|         0f7c61dc|   51|\n",
            "|6394f6f6-03683bd4|   38|\n",
            "|af9205f9-cad4c01d|   35|\n",
            "|         afeffc18|   34|\n",
            "|6b9769f2-1f0bc64f|   33|\n",
            "|af62faf4-cad4c01d|   33|\n",
            "|af62faf4-03683bd4|   32|\n",
            "|930ec31d-cad4c01d|   30|\n",
            "|009a7861-03683bd4|   30|\n",
            "+-----------------+-----+\n",
            "only showing top 20 rows\n",
            "\n",
            "time: 2.97 s (started: 2022-07-08 05:10:21 +00:00)\n"
          ]
        }
      ],
      "source": [
        "# find the frequency of each category in the user column, save this frequency in a new coulumn in the data frame\n",
        "# join this dataframe with the earlier df, make sure that when you join all the rows \n",
        "# form the original table need to be present in the final table as well.\n",
        "# use the join table command\n",
        "xdf.groupby(\"user\").count().sort(desc(\"count\")).show()\n"
      ]
    },
    {
      "cell_type": "code",
      "execution_count": null,
      "metadata": {
        "id": "f-vUo5kc14l6",
        "colab": {
          "base_uri": "https://localhost:8080/"
        },
        "outputId": "9bb21672-66c9-4934-f512-4ede4627df82"
      },
      "outputs": [
        {
          "output_type": "stream",
          "name": "stdout",
          "text": [
            "time: 77 ms (started: 2022-07-08 05:10:24 +00:00)\n"
          ]
        }
      ],
      "source": [
        "# combine user and hour column to make a new columns user-hour. \n",
        "# again add a columns with the frequency of occurance each user-hour combiation\n",
        "\n",
        "xdf = xdf.withColumn(\"user_hour\", F.concat(F.col(\"user\"), \n",
        "                                           F.lit(\"-\"), \n",
        "                                           F.col(\"hour\")))"
      ]
    },
    {
      "cell_type": "code",
      "execution_count": null,
      "metadata": {
        "id": "K8H_UzX014l6",
        "colab": {
          "base_uri": "https://localhost:8080/"
        },
        "outputId": "c6dcc3fd-e1a8-47f5-f086-604dfdc795a9"
      },
      "outputs": [
        {
          "output_type": "stream",
          "name": "stdout",
          "text": [
            "time: 47.4 ms (started: 2022-07-08 05:10:24 +00:00)\n"
          ]
        }
      ],
      "source": [
        "# drop all redundent columns\n",
        "\n",
        "redundent_cols = [\"device_id\", \"device_ip\", \"device_model\", \"user\", \"month\", \"hour\"]\n",
        "\n",
        "xdf = xdf.drop(*tuple(redundent_cols))\n"
      ]
    },
    {
      "cell_type": "code",
      "execution_count": null,
      "metadata": {
        "id": "i6kB_1hA14l6",
        "colab": {
          "base_uri": "https://localhost:8080/"
        },
        "outputId": "3de26e37-7d66-4dad-9636-2d60b9f02772"
      },
      "outputs": [
        {
          "output_type": "stream",
          "name": "stdout",
          "text": [
            "+-----+---+----------+-----------+----------------+----+---+---+---+---+---+---+---+---------+---+---+------+----------+------------+---------+\n",
            "|click| C1|banner_pos|device_type|device_conn_type| C14|C15|C16|C17|C18|C19|C20|C21|dayofweek|day|  y|pub_id|pub_domain|pub_category|user_hour|\n",
            "+-----+---+----------+-----------+----------------+----+---+---+---+---+---+---+---+---------+---+---+------+----------+------------+---------+\n",
            "|    2|  7|         7|          4|               4|1722|  8|  9|399|  4| 64|154| 60|        7| 10|  2|  2837|      1427|          40|    97154|\n",
            "+-----+---+----------+-----------+----------------+----+---+---+---+---+---+---+---+---------+---+---+------+----------+------------+---------+\n",
            "\n",
            "time: 6.27 s (started: 2022-07-08 05:10:24 +00:00)\n"
          ]
        }
      ],
      "source": [
        "# find the number of catagories in each columns \n",
        "# use the countdistinct method\n",
        "# create a list of all columns and then loop through each column counting the distinct values in it. \n",
        "\n",
        "from pyspark.sql.functions import col, countDistinct\n",
        "\n",
        "xdf.agg(*(countDistinct(col(c)).alias(c) for c in xdf.columns)).show()\n",
        "\n",
        "# here * instructs the add function to accept whatever number of columns are inside the brakets. \n"
      ]
    },
    {
      "cell_type": "code",
      "execution_count": null,
      "metadata": {
        "id": "g95b8p2w14l7",
        "colab": {
          "base_uri": "https://localhost:8080/"
        },
        "outputId": "060b52c3-192d-44b4-d584-a45ec9d37869"
      },
      "outputs": [
        {
          "output_type": "stream",
          "name": "stdout",
          "text": [
            "time: 1.23 ms (started: 2022-07-08 05:10:31 +00:00)\n"
          ]
        }
      ],
      "source": [
        "# drop colums which have lot of dictinct catagories. \n"
      ]
    },
    {
      "cell_type": "markdown",
      "metadata": {
        "id": "H-ftLbOh14l7"
      },
      "source": [
        "# Algorithm Building\n",
        "\n",
        "Earlier in the module, Jaidev has performed model building exercise. You can refer to his notebooks for help.."
      ]
    },
    {
      "cell_type": "code",
      "execution_count": null,
      "metadata": {
        "id": "eYx4X2Qp14l7",
        "colab": {
          "base_uri": "https://localhost:8080/"
        },
        "outputId": "0c1804b4-40f5-43d9-8721-a1ea5fa92650"
      },
      "outputs": [
        {
          "output_type": "stream",
          "name": "stdout",
          "text": [
            "time: 330 ms (started: 2022-07-08 05:10:31 +00:00)\n"
          ]
        }
      ],
      "source": [
        "# import all the necessary libraries \n",
        "from pyspark.ml.classification import LogisticRegression\n",
        "from pyspark.ml.feature import StringIndexer, OneHotEncoder, VectorAssembler\n",
        "from pyspark.sql.functions import udf\n",
        "from pyspark.sql.types import IntegerType"
      ]
    },
    {
      "cell_type": "code",
      "execution_count": null,
      "metadata": {
        "id": "jUh8sBap14l7",
        "colab": {
          "base_uri": "https://localhost:8080/"
        },
        "outputId": "76e07513-ac30-4252-a665-87933001b5d3"
      },
      "outputs": [
        {
          "output_type": "stream",
          "name": "stdout",
          "text": [
            "+----+----------+-----------+----------------+\n",
            "|  C1|banner_pos|device_type|device_conn_type|\n",
            "+----+----------+-----------+----------------+\n",
            "|1005|         1|          1|               0|\n",
            "|1005|         0|          1|               0|\n",
            "|1005|         0|          1|               0|\n",
            "|1005|         0|          1|               0|\n",
            "|1005|         1|          1|               0|\n",
            "|1005|         0|          1|               0|\n",
            "|1005|         1|          1|               0|\n",
            "|1005|         0|          1|               0|\n",
            "|1005|         0|          1|               0|\n",
            "|1005|         1|          1|               0|\n",
            "|1005|         0|          1|               0|\n",
            "|1005|         0|          1|               0|\n",
            "|1005|         1|          1|               0|\n",
            "|1005|         0|          1|               0|\n",
            "|1005|         1|          1|               0|\n",
            "|1005|         0|          1|               0|\n",
            "|1005|         1|          1|               0|\n",
            "|1005|         1|          1|               0|\n",
            "|1002|         0|          0|               0|\n",
            "|1005|         0|          1|               0|\n",
            "+----+----------+-----------+----------------+\n",
            "only showing top 20 rows\n",
            "\n",
            "time: 1.65 s (started: 2022-07-08 05:10:31 +00:00)\n"
          ]
        }
      ],
      "source": [
        "# create a list of catagorical columns wich are represented by integers. these will not be sent through the string indexer\n",
        "\n",
        "categorical_cols = [\"C1\", \"banner_pos\", \"device_type\", \"device_conn_type\"]\n",
        "xdf.select(*categorical_cols).show()"
      ]
    },
    {
      "cell_type": "code",
      "execution_count": null,
      "metadata": {
        "id": "iti8Lx7e14l8",
        "colab": {
          "base_uri": "https://localhost:8080/"
        },
        "outputId": "03a3c3ea-fb34-4c6f-f221-63f0df09f449"
      },
      "outputs": [
        {
          "output_type": "stream",
          "name": "stdout",
          "text": [
            "time: 126 ms (started: 2022-07-08 05:10:33 +00:00)\n"
          ]
        }
      ],
      "source": [
        "# if you remember form the earlier model building exercise the column C20 has negative values. \n",
        "# replace the negative values with 0. you can use the same UDF made by Jaidev. \n",
        "\n",
        "posMapper = udf(lambda x: 0 if x < 0 else x)\n",
        "xdf = xdf.withColumn(\"C20\", posMapper(xdf[\"C20\"]))\n",
        "xdf = xdf.withColumn(\"C20\", xdf[\"C20\"].cast(IntegerType()))"
      ]
    },
    {
      "cell_type": "code",
      "execution_count": null,
      "metadata": {
        "id": "uJOIyQbe14l8",
        "colab": {
          "base_uri": "https://localhost:8080/"
        },
        "outputId": "9171988b-604a-4017-d554-37e95c179ef4"
      },
      "outputs": [
        {
          "output_type": "stream",
          "name": "stdout",
          "text": [
            "time: 18.8 s (started: 2022-07-08 05:10:33 +00:00)\n"
          ]
        }
      ],
      "source": [
        "# run the string indexer on the columns which are categorical but are represented by strings.\n",
        "\n",
        "stringCols = [\"pub_id\", \"pub_domain\", \"pub_category\", \"user_hour\"]\n",
        "for c in stringCols:\n",
        "    outCol = c + \"_ix\"\n",
        "    si = StringIndexer(inputCol=c, outputCol=outCol)\n",
        "    xdf = si.fit(xdf).transform(xdf)"
      ]
    },
    {
      "cell_type": "code",
      "execution_count": null,
      "metadata": {
        "id": "G1d9TSk_14l8",
        "colab": {
          "base_uri": "https://localhost:8080/"
        },
        "outputId": "70b05ad4-e2a8-4a65-e7d9-68f88b2e945b"
      },
      "outputs": [
        {
          "output_type": "stream",
          "name": "stdout",
          "text": [
            "time: 2.87 ms (started: 2022-07-08 05:10:52 +00:00)\n"
          ]
        }
      ],
      "source": [
        "# add the resultant columns from string indexer into the catagorical columns list. \n",
        "# make sure that you have the right column name for C20 as it has beed processed separately. \n",
        "\n",
        "categorical_cols.extend([f\"{c}_ix\" for c in [\"pub_id\", \"pub_domain\", \"pub_category\", \"user_hour\"]])\n",
        "categorical_cols.extend([f\"C{i}\" for i in range(14, 22)])"
      ]
    },
    {
      "cell_type": "code",
      "execution_count": null,
      "metadata": {
        "id": "28A3PLdK14l8",
        "colab": {
          "base_uri": "https://localhost:8080/"
        },
        "outputId": "f28d4860-f98f-45ed-e962-5fa359ff76ee"
      },
      "outputs": [
        {
          "output_type": "stream",
          "name": "stdout",
          "text": [
            "time: 8.92 s (started: 2022-07-08 05:10:52 +00:00)\n"
          ]
        }
      ],
      "source": [
        "# run all the categorical columns through the one hot encoder \n",
        "ohe = OneHotEncoder(inputCols=categorical_cols, outputCols=[f\"{c}_enc\" for c in categorical_cols])\n",
        "xdf = ohe.fit(xdf).transform(xdf)"
      ]
    },
    {
      "cell_type": "code",
      "execution_count": null,
      "metadata": {
        "id": "okTFpmdQ14l8",
        "colab": {
          "base_uri": "https://localhost:8080/"
        },
        "outputId": "3abc36fc-c022-4e66-afe1-583d01dd6a6a"
      },
      "outputs": [
        {
          "output_type": "stream",
          "name": "stdout",
          "text": [
            "time: 2.37 s (started: 2022-07-08 05:11:01 +00:00)\n"
          ]
        }
      ],
      "source": [
        "# use the vector assember to combine all the encoded columns and the continuous variable columns \n",
        "\n",
        "train_cols = [f\"{c}_enc\" for c in categorical_cols]\n",
        "train_cols.extend([\"dayofweek\", \"day\"])\n",
        "\n",
        "assembler = VectorAssembler(inputCols=train_cols, outputCol='features')\n",
        "xdf = assembler.transform(xdf)"
      ]
    },
    {
      "cell_type": "code",
      "execution_count": null,
      "metadata": {
        "id": "U0kWdP8n14l9",
        "colab": {
          "base_uri": "https://localhost:8080/"
        },
        "outputId": "447f909f-e545-4147-922b-4dfac9c2e8bd"
      },
      "outputs": [
        {
          "output_type": "stream",
          "name": "stdout",
          "text": [
            "time: 63 ms (started: 2022-07-08 05:11:03 +00:00)\n"
          ]
        }
      ],
      "source": [
        "# split the data into training and testing data set\n",
        "\n",
        "train, test = xdf.randomSplit([0.7, 0.3], seed=42)"
      ]
    },
    {
      "cell_type": "code",
      "execution_count": null,
      "metadata": {
        "id": "heHIReLE14l9",
        "colab": {
          "base_uri": "https://localhost:8080/"
        },
        "outputId": "0fa19ba7-0026-4d8d-cf81-fe3296444450"
      },
      "outputs": [
        {
          "output_type": "stream",
          "name": "stdout",
          "text": [
            "time: 7min (started: 2022-07-08 05:11:03 +00:00)\n"
          ]
        }
      ],
      "source": [
        "# train model in the training dataset \n",
        "\n",
        "lr = LogisticRegression(featuresCol=\"features\", labelCol=\"y\")\n",
        "model = lr.fit(train)"
      ]
    },
    {
      "cell_type": "code",
      "execution_count": null,
      "metadata": {
        "id": "tOvLU4dJ14l9",
        "colab": {
          "base_uri": "https://localhost:8080/"
        },
        "outputId": "ee0d48c6-84c3-40ec-a1cd-ba6bc7425621"
      },
      "outputs": [
        {
          "output_type": "stream",
          "name": "stdout",
          "text": [
            "time: 11.4 s (started: 2022-07-08 05:18:04 +00:00)\n"
          ]
        }
      ],
      "source": [
        "# use the model to predict the class labels of test data. \n",
        "\n",
        "test_results = model.evaluate(test)"
      ]
    },
    {
      "cell_type": "code",
      "execution_count": null,
      "metadata": {
        "id": "ozlXVcwz14l9",
        "colab": {
          "base_uri": "https://localhost:8080/"
        },
        "outputId": "e6e9bc71-ca81-45a4-f4ed-037a820f765e"
      },
      "outputs": [
        {
          "output_type": "stream",
          "name": "stdout",
          "text": [
            "+-----+----+----------+-----------+----------------+-----+---+---+----+---+----+------+---+---------+---+---+--------+----------+------------+--------------------+---------+-------------+---------------+------------+-------------------+--------------+---------------+--------------------+-------------------+------------------+-------------------+--------------------+--------------------+------------------+------------------+-------------------+-------------+-------------------+--------------------+-----------------+--------------------+--------------------+--------------------+----------+\n",
            "|click|  C1|banner_pos|device_type|device_conn_type|  C14|C15|C16| C17|C18| C19|   C20|C21|dayofweek|day|  y|  pub_id|pub_domain|pub_category|           user_hour|pub_id_ix|pub_domain_ix|pub_category_ix|user_hour_ix|             C1_enc|banner_pos_enc|device_type_enc|device_conn_type_enc|      pub_id_ix_enc| pub_domain_ix_enc|pub_category_ix_enc|    user_hour_ix_enc|             C14_enc|           C15_enc|           C16_enc|            C17_enc|      C18_enc|            C19_enc|             C20_enc|          C21_enc|            features|       rawPrediction|         probability|prediction|\n",
            "+-----+----+----------+-----------+----------------+-----+---+---+----+---+----+------+---+---------+---+---+--------+----------+------------+--------------------+---------+-------------+---------------+------------+-------------------+--------------+---------------+--------------------+-------------------+------------------+-------------------+--------------------+--------------------+------------------+------------------+-------------------+-------------+-------------------+--------------------+-----------------+--------------------+--------------------+--------------------+----------+\n",
            "|false|1001|         0|          1|               0|17863|300|250|2036|  3|  47|     0|156|        5| 25|  0|56259825|  7801e8d9|    0f2161f8|          98e43dae-9|   2125.0|          4.0|            1.0|     58932.0|(1012,[1001],[1.0])| (7,[0],[1.0])|  (5,[1],[1.0])|       (5,[0],[1.0])|(2836,[2125],[1.0])|  (1426,[4],[1.0])|     (39,[1],[1.0])|(97153,[58932],[1...|(24043,[17863],[1...|(1024,[300],[1.0])|(1024,[250],[1.0])|(2757,[2036],[1.0])|    (3,[],[])|  (1839,[47],[1.0])|  (100248,[0],[1.0])|(255,[156],[1.0])|(233678,[1001,101...|[23.6916995495825...|[0.99999999994861...|       0.0|\n",
            "|false|1001|         0|          1|               0|20153|320| 50|2307|  3| 163|100020| 61|        1| 28|  0|38cf96e8|  7801e8d9|    2281a340|          fcb0ecb5-5|   1175.0|          4.0|           30.0|     95911.0|(1012,[1001],[1.0])| (7,[0],[1.0])|  (5,[1],[1.0])|       (5,[0],[1.0])|(2836,[1175],[1.0])|  (1426,[4],[1.0])|    (39,[30],[1.0])|(97153,[95911],[1...|(24043,[20153],[1...|(1024,[320],[1.0])| (1024,[50],[1.0])|(2757,[2307],[1.0])|    (3,[],[])| (1839,[163],[1.0])|(100248,[100020],...| (255,[61],[1.0])|(233678,[1001,101...|[37.4690493463758...|           [1.0,0.0]|       0.0|\n",
            "|false|1001|         0|          1|               0|20476|320| 50|2348|  3| 427|100004| 61|        3| 23|  0|338021e2|  7801e8d9|    4681bb9d| 4ab2348a-f07e20f8-5|    723.0|          4.0|           26.0|     29584.0|(1012,[1001],[1.0])| (7,[0],[1.0])|  (5,[1],[1.0])|       (5,[0],[1.0])| (2836,[723],[1.0])|  (1426,[4],[1.0])|    (39,[26],[1.0])|(97153,[29584],[1...|(24043,[20476],[1...|(1024,[320],[1.0])| (1024,[50],[1.0])|(2757,[2348],[1.0])|    (3,[],[])| (1839,[427],[1.0])|(100248,[100004],...| (255,[61],[1.0])|(233678,[1001,101...|[29.6038411179339...|[0.99999999999986...|       0.0|\n",
            "|false|1001|         0|          1|               0|20476|320| 50|2348|  3| 427|100005| 61|        2| 22|  0|338021e2|  7801e8d9|    4681bb9d| 1aa3e960-f07e20f8-4|    723.0|          4.0|           26.0|     11834.0|(1012,[1001],[1.0])| (7,[0],[1.0])|  (5,[1],[1.0])|       (5,[0],[1.0])| (2836,[723],[1.0])|  (1426,[4],[1.0])|    (39,[26],[1.0])|(97153,[11834],[1...|(24043,[20476],[1...|(1024,[320],[1.0])| (1024,[50],[1.0])|(2757,[2348],[1.0])|    (3,[],[])| (1839,[427],[1.0])|(100248,[100005],...| (255,[61],[1.0])|(233678,[1001,101...|[30.2042529851063...|[0.99999999999992...|       0.0|\n",
            "|false|1001|         0|          1|               2|20153|320| 50|2307|  3| 163|     0| 61|        0| 27|  0|52c718ba|  c4e18dd6|    9ccfa2ea|d86dc672-f07e20f8-13|   2107.0|         14.0|           38.0|     82558.0|(1012,[1001],[1.0])| (7,[0],[1.0])|  (5,[1],[1.0])|       (5,[2],[1.0])|(2836,[2107],[1.0])| (1426,[14],[1.0])|    (39,[38],[1.0])|(97153,[82558],[1...|(24043,[20153],[1...|(1024,[320],[1.0])| (1024,[50],[1.0])|(2757,[2307],[1.0])|    (3,[],[])| (1839,[163],[1.0])|  (100248,[0],[1.0])| (255,[61],[1.0])|(233678,[1001,101...|[21.8023377515973...|[0.99999999966008...|       0.0|\n",
            "|false|1001|         0|          1|               2|20476|320| 50|2348|  3| 427|100003| 61|        2| 22|  0|338021e2|  7801e8d9|    4681bb9d| 2f4bacf9-f07e20f8-6|    723.0|          4.0|           26.0|     19457.0|(1012,[1001],[1.0])| (7,[0],[1.0])|  (5,[1],[1.0])|       (5,[2],[1.0])| (2836,[723],[1.0])|  (1426,[4],[1.0])|    (39,[26],[1.0])|(97153,[19457],[1...|(24043,[20476],[1...|(1024,[320],[1.0])| (1024,[50],[1.0])|(2757,[2348],[1.0])|    (3,[],[])| (1839,[427],[1.0])|(100248,[100003],...| (255,[61],[1.0])|(233678,[1001,101...|[31.1717124632638...|[0.99999999999997...|       0.0|\n",
            "|false|1001|         0|          1|               2|20476|320| 50|2348|  3| 427|100003| 61|        3| 23|  0|338021e2|  7801e8d9|    4681bb9d| 0c6f8531-f07e20f8-8|    723.0|          4.0|           26.0|      6622.0|(1012,[1001],[1.0])| (7,[0],[1.0])|  (5,[1],[1.0])|       (5,[2],[1.0])| (2836,[723],[1.0])|  (1426,[4],[1.0])|    (39,[26],[1.0])|(97153,[6622],[1.0])|(24043,[20476],[1...|(1024,[320],[1.0])| (1024,[50],[1.0])|(2757,[2348],[1.0])|    (3,[],[])| (1839,[427],[1.0])|(100248,[100003],...| (255,[61],[1.0])|(233678,[1001,101...|[31.2291952767863...|[0.99999999999997...|       0.0|\n",
            "|false|1002|         0|          0|               0|  381|300| 50| 112|  3|1319|     0| 15|        0| 27|  0|df1cdc6c|  7801e8d9|    07d7df22|         6b8bd70d-19|   2686.0|          4.0|            8.0|     41778.0|(1012,[1002],[1.0])| (7,[0],[1.0])|  (5,[0],[1.0])|       (5,[0],[1.0])|(2836,[2686],[1.0])|  (1426,[4],[1.0])|     (39,[8],[1.0])|(97153,[41778],[1...| (24043,[381],[1.0])|(1024,[300],[1.0])| (1024,[50],[1.0])| (2757,[112],[1.0])|    (3,[],[])|(1839,[1319],[1.0])|  (100248,[0],[1.0])| (255,[15],[1.0])|(233678,[1002,101...|[11.2452956853029...|[0.99998693153855...|       0.0|\n",
            "|false|1002|         0|          0|               0|  381|300| 50| 112|  3|1319|     0| 15|        2| 22|  0|c0d05ade|  7801e8d9|    07d7df22|         23e0965a-23|    694.0|          4.0|            8.0|     15275.0|(1012,[1002],[1.0])| (7,[0],[1.0])|  (5,[0],[1.0])|       (5,[0],[1.0])| (2836,[694],[1.0])|  (1426,[4],[1.0])|     (39,[8],[1.0])|(97153,[15275],[1...| (24043,[381],[1.0])|(1024,[300],[1.0])| (1024,[50],[1.0])| (2757,[112],[1.0])|    (3,[],[])|(1839,[1319],[1.0])|  (100248,[0],[1.0])| (255,[15],[1.0])|(233678,[1002,101...|[24.9742990768011...|[0.99999999998575...|       0.0|\n",
            "|false|1002|         0|          0|               0|  381|300| 50| 112|  3|1319|     0| 15|        3| 23|  0|75ae11c1|  7801e8d9|    07d7df22|         90941946-11|   1225.0|          4.0|            8.0|     55800.0|(1012,[1002],[1.0])| (7,[0],[1.0])|  (5,[0],[1.0])|       (5,[0],[1.0])|(2836,[1225],[1.0])|  (1426,[4],[1.0])|     (39,[8],[1.0])|(97153,[55800],[1...| (24043,[381],[1.0])|(1024,[300],[1.0])| (1024,[50],[1.0])| (2757,[112],[1.0])|    (3,[],[])|(1839,[1319],[1.0])|  (100248,[0],[1.0])| (255,[15],[1.0])|(233678,[1002,101...|[-37.084000627729...|[7.84554577197792...|       1.0|\n",
            "|false|1002|         0|          0|               0|  381|300| 50| 112|  3|1319|     0| 15|        3| 30|  0|c0d05ade|  7801e8d9|    07d7df22|          0f94ea53-7|    694.0|          4.0|            8.0|      7701.0|(1012,[1002],[1.0])| (7,[0],[1.0])|  (5,[0],[1.0])|       (5,[0],[1.0])| (2836,[694],[1.0])|  (1426,[4],[1.0])|     (39,[8],[1.0])|(97153,[7701],[1.0])| (24043,[381],[1.0])|(1024,[300],[1.0])| (1024,[50],[1.0])| (2757,[112],[1.0])|    (3,[],[])|(1839,[1319],[1.0])|  (100248,[0],[1.0])| (255,[15],[1.0])|(233678,[1002,101...|[25.2049460601290...|[0.99999999998868...|       0.0|\n",
            "|false|1002|         0|          0|               0|  381|300| 50| 112|  3|1319|100193| 15|        1| 28|  0|3df060eb|  7801e8d9|    07d7df22|         9fa0df8b-21|   2011.0|          4.0|            8.0|     61393.0|(1012,[1002],[1.0])| (7,[0],[1.0])|  (5,[0],[1.0])|       (5,[0],[1.0])|(2836,[2011],[1.0])|  (1426,[4],[1.0])|     (39,[8],[1.0])|(97153,[61393],[1...| (24043,[381],[1.0])|(1024,[300],[1.0])| (1024,[50],[1.0])| (2757,[112],[1.0])|    (3,[],[])|(1839,[1319],[1.0])|(100248,[100193],...| (255,[15],[1.0])|(233678,[1002,101...|[13.1791657812640...|[0.99999811044209...|       0.0|\n",
            "|false|1002|         0|          0|               0|  451|300| 50| 122|  3|1327|     0| 15|        3| 23|  0|59ca80c4|  7801e8d9|    07d7df22|          aad4d201-7|   1046.0|          4.0|            8.0|     65681.0|(1012,[1002],[1.0])| (7,[0],[1.0])|  (5,[0],[1.0])|       (5,[0],[1.0])|(2836,[1046],[1.0])|  (1426,[4],[1.0])|     (39,[8],[1.0])|(97153,[65681],[1...| (24043,[451],[1.0])|(1024,[300],[1.0])| (1024,[50],[1.0])| (2757,[122],[1.0])|    (3,[],[])|(1839,[1327],[1.0])|  (100248,[0],[1.0])| (255,[15],[1.0])|(233678,[1002,101...|[-31.276607519402...|[2.61060966587335...|       1.0|\n",
            "|false|1002|         0|          0|               0|  451|300| 50| 122|  3|1327|     0| 15|        4| 24|  0|75ae11c1|  7801e8d9|    07d7df22|          80289959-5|   1225.0|          4.0|            8.0|     49635.0|(1012,[1002],[1.0])| (7,[0],[1.0])|  (5,[0],[1.0])|       (5,[0],[1.0])|(2836,[1225],[1.0])|  (1426,[4],[1.0])|     (39,[8],[1.0])|(97153,[49635],[1...| (24043,[451],[1.0])|(1024,[300],[1.0])| (1024,[50],[1.0])| (2757,[122],[1.0])|    (3,[],[])|(1839,[1327],[1.0])|  (100248,[0],[1.0])| (255,[15],[1.0])|(233678,[1002,101...|[-31.088733143515...|[3.15017547741224...|       1.0|\n",
            "|false|1002|         0|          0|               0| 4687|320| 50| 423|  2|  39|     0| 32|        0| 27|  0|38c202aa|  7f744e4e|    50e219e0|         9c473512-20|    229.0|        775.0|            4.0|     60283.0|(1012,[1002],[1.0])| (7,[0],[1.0])|  (5,[0],[1.0])|       (5,[0],[1.0])| (2836,[229],[1.0])|(1426,[775],[1.0])|     (39,[4],[1.0])|(97153,[60283],[1...|(24043,[4687],[1.0])|(1024,[320],[1.0])| (1024,[50],[1.0])| (2757,[423],[1.0])|(3,[2],[1.0])|  (1839,[39],[1.0])|  (100248,[0],[1.0])| (255,[32],[1.0])|(233678,[1002,101...|[32.4391047657740...|[0.99999999999999...|       0.0|\n",
            "|false|1002|         0|          0|               0| 4687|320| 50| 423|  2|  39|     0| 32|        0| 27|  0|cc1b7a47|  7256c623|    50e219e0|         1fa2f883-11|    312.0|         36.0|            4.0|     13699.0|(1012,[1002],[1.0])| (7,[0],[1.0])|  (5,[0],[1.0])|       (5,[0],[1.0])| (2836,[312],[1.0])| (1426,[36],[1.0])|     (39,[4],[1.0])|(97153,[13699],[1...|(24043,[4687],[1.0])|(1024,[320],[1.0])| (1024,[50],[1.0])| (2757,[423],[1.0])|(3,[2],[1.0])|  (1839,[39],[1.0])|  (100248,[0],[1.0])| (255,[32],[1.0])|(233678,[1002,101...|[26.6065445346185...|[0.99999999999721...|       0.0|\n",
            "|false|1002|         0|          0|               0| 4687|320| 50| 423|  2|  39|     0| 32|        0| 27|  0|cc1b7a47|  7256c623|    50e219e0|         93c73143-13|    312.0|         36.0|            4.0|     57044.0|(1012,[1002],[1.0])| (7,[0],[1.0])|  (5,[0],[1.0])|       (5,[0],[1.0])| (2836,[312],[1.0])| (1426,[36],[1.0])|     (39,[4],[1.0])|(97153,[57044],[1...|(24043,[4687],[1.0])|(1024,[320],[1.0])| (1024,[50],[1.0])| (2757,[423],[1.0])|(3,[2],[1.0])|  (1839,[39],[1.0])|  (100248,[0],[1.0])| (255,[32],[1.0])|(233678,[1002,101...|[26.6065445346185...|[0.99999999999721...|       0.0|\n",
            "|false|1002|         0|          0|               0| 4687|320| 50| 423|  2|  39|     0| 32|        1| 28|  0|38c202aa|  fe3e9d9a|    50e219e0|          20364c7a-8|    229.0|        484.0|            4.0|     13906.0|(1012,[1002],[1.0])| (7,[0],[1.0])|  (5,[0],[1.0])|       (5,[0],[1.0])| (2836,[229],[1.0])|(1426,[484],[1.0])|     (39,[4],[1.0])|(97153,[13906],[1...|(24043,[4687],[1.0])|(1024,[320],[1.0])| (1024,[50],[1.0])| (2757,[423],[1.0])|(3,[2],[1.0])|  (1839,[39],[1.0])|  (100248,[0],[1.0])| (255,[32],[1.0])|(233678,[1002,101...|[31.9283472659952...|[0.99999999999998...|       0.0|\n",
            "|false|1002|         0|          0|               0| 4687|320| 50| 423|  2|  39|     0| 32|        2| 29|  0|48c42b43|  de0f0f82|    50e219e0|          ffc46e4f-9|    335.0|         57.0|            4.0|     97080.0|(1012,[1002],[1.0])| (7,[0],[1.0])|  (5,[0],[1.0])|       (5,[0],[1.0])| (2836,[335],[1.0])| (1426,[57],[1.0])|     (39,[4],[1.0])|(97153,[97080],[1...|(24043,[4687],[1.0])|(1024,[320],[1.0])| (1024,[50],[1.0])| (2757,[423],[1.0])|(3,[2],[1.0])|  (1839,[39],[1.0])|  (100248,[0],[1.0])| (255,[32],[1.0])|(233678,[1002,101...|[28.8538174903465...|[0.99999999999970...|       0.0|\n",
            "|false|1002|         0|          0|               0| 4687|320| 50| 423|  2|  39|     0| 32|        3| 23|  0|38c202aa|  4afa254d|    50e219e0|          c99dd855-6|    229.0|        444.0|            4.0|     77150.0|(1012,[1002],[1.0])| (7,[0],[1.0])|  (5,[0],[1.0])|       (5,[0],[1.0])| (2836,[229],[1.0])|(1426,[444],[1.0])|     (39,[4],[1.0])|(97153,[77150],[1...|(24043,[4687],[1.0])|(1024,[320],[1.0])| (1024,[50],[1.0])| (2757,[423],[1.0])|(3,[2],[1.0])|  (1839,[39],[1.0])|  (100248,[0],[1.0])| (255,[32],[1.0])|(233678,[1002,101...|[32.4575936323356...|[0.99999999999999...|       0.0|\n",
            "+-----+----+----------+-----------+----------------+-----+---+---+----+---+----+------+---+---------+---+---+--------+----------+------------+--------------------+---------+-------------+---------------+------------+-------------------+--------------+---------------+--------------------+-------------------+------------------+-------------------+--------------------+--------------------+------------------+------------------+-------------------+-------------+-------------------+--------------------+-----------------+--------------------+--------------------+--------------------+----------+\n",
            "only showing top 20 rows\n",
            "\n",
            "time: 14.9 s (started: 2022-07-08 05:27:19 +00:00)\n"
          ]
        }
      ],
      "source": [
        "# analyise the predictions \n",
        "\n",
        "preds_df = test_results.predictions\n",
        "preds_df.show()"
      ]
    },
    {
      "cell_type": "code",
      "source": [
        "preds_df.describe()"
      ],
      "metadata": {
        "colab": {
          "base_uri": "https://localhost:8080/"
        },
        "id": "fhnbLuO7RUWp",
        "outputId": "f165429b-9910-458e-e96d-e02181e5ec8b"
      },
      "execution_count": null,
      "outputs": [
        {
          "output_type": "execute_result",
          "data": {
            "text/plain": [
              "DataFrame[summary: string, C1: string, banner_pos: string, device_type: string, device_conn_type: string, C14: string, C15: string, C16: string, C17: string, C18: string, C19: string, C20: string, C21: string, dayofweek: string, day: string, y: string, pub_id: string, pub_domain: string, pub_category: string, user_hour: string, pub_id_ix: string, pub_domain_ix: string, pub_category_ix: string, user_hour_ix: string, prediction: string]"
            ]
          },
          "metadata": {},
          "execution_count": 35
        },
        {
          "output_type": "stream",
          "name": "stdout",
          "text": [
            "time: 31.4 s (started: 2022-07-08 05:28:08 +00:00)\n"
          ]
        }
      ]
    },
    {
      "cell_type": "code",
      "execution_count": null,
      "metadata": {
        "id": "USF5gU1a14l9",
        "colab": {
          "base_uri": "https://localhost:8080/",
          "height": 371
        },
        "outputId": "97d5a894-7811-4e64-cb66-705bb1576c69"
      },
      "outputs": [
        {
          "output_type": "error",
          "ename": "KeyboardInterrupt",
          "evalue": "ignored",
          "traceback": [
            "\u001b[0;31m---------------------------------------------------------------------------\u001b[0m",
            "\u001b[0;31mKeyboardInterrupt\u001b[0m                         Traceback (most recent call last)",
            "\u001b[0;32m<ipython-input-36-eee3067f5c6e>\u001b[0m in \u001b[0;36m<module>\u001b[0;34m()\u001b[0m\n\u001b[1;32m      2\u001b[0m \u001b[0;31m# use you AWS acccout to create an S3 bucket\u001b[0m\u001b[0;34m\u001b[0m\u001b[0;34m\u001b[0m\u001b[0;34m\u001b[0m\u001b[0m\n\u001b[1;32m      3\u001b[0m \u001b[0;34m\u001b[0m\u001b[0m\n\u001b[0;32m----> 4\u001b[0;31m \u001b[0mpreds_df\u001b[0m\u001b[0;34m.\u001b[0m\u001b[0mtoPandas\u001b[0m\u001b[0;34m(\u001b[0m\u001b[0;34m)\u001b[0m\u001b[0;34m.\u001b[0m\u001b[0mto_csv\u001b[0m\u001b[0;34m(\u001b[0m\u001b[0;34m\"test_results.csv\"\u001b[0m\u001b[0;34m)\u001b[0m\u001b[0;34m\u001b[0m\u001b[0;34m\u001b[0m\u001b[0m\n\u001b[0m",
            "\u001b[0;32m/usr/local/lib/python3.7/dist-packages/pyspark/sql/pandas/conversion.py\u001b[0m in \u001b[0;36mtoPandas\u001b[0;34m(self)\u001b[0m\n\u001b[1;32m    203\u001b[0m \u001b[0;34m\u001b[0m\u001b[0m\n\u001b[1;32m    204\u001b[0m         \u001b[0;31m# Below is toPandas without Arrow optimization.\u001b[0m\u001b[0;34m\u001b[0m\u001b[0;34m\u001b[0m\u001b[0;34m\u001b[0m\u001b[0m\n\u001b[0;32m--> 205\u001b[0;31m         \u001b[0mpdf\u001b[0m \u001b[0;34m=\u001b[0m \u001b[0mpd\u001b[0m\u001b[0;34m.\u001b[0m\u001b[0mDataFrame\u001b[0m\u001b[0;34m.\u001b[0m\u001b[0mfrom_records\u001b[0m\u001b[0;34m(\u001b[0m\u001b[0mself\u001b[0m\u001b[0;34m.\u001b[0m\u001b[0mcollect\u001b[0m\u001b[0;34m(\u001b[0m\u001b[0;34m)\u001b[0m\u001b[0;34m,\u001b[0m \u001b[0mcolumns\u001b[0m\u001b[0;34m=\u001b[0m\u001b[0mself\u001b[0m\u001b[0;34m.\u001b[0m\u001b[0mcolumns\u001b[0m\u001b[0;34m)\u001b[0m\u001b[0;34m\u001b[0m\u001b[0;34m\u001b[0m\u001b[0m\n\u001b[0m\u001b[1;32m    206\u001b[0m         \u001b[0mcolumn_counter\u001b[0m \u001b[0;34m=\u001b[0m \u001b[0mCounter\u001b[0m\u001b[0;34m(\u001b[0m\u001b[0mself\u001b[0m\u001b[0;34m.\u001b[0m\u001b[0mcolumns\u001b[0m\u001b[0;34m)\u001b[0m\u001b[0;34m\u001b[0m\u001b[0;34m\u001b[0m\u001b[0m\n\u001b[1;32m    207\u001b[0m \u001b[0;34m\u001b[0m\u001b[0m\n",
            "\u001b[0;32m/usr/local/lib/python3.7/dist-packages/pyspark/sql/dataframe.py\u001b[0m in \u001b[0;36mcollect\u001b[0;34m(self)\u001b[0m\n\u001b[1;32m    816\u001b[0m         \u001b[0;32mwith\u001b[0m \u001b[0mSCCallSiteSync\u001b[0m\u001b[0;34m(\u001b[0m\u001b[0mself\u001b[0m\u001b[0;34m.\u001b[0m\u001b[0m_sc\u001b[0m\u001b[0;34m)\u001b[0m\u001b[0;34m:\u001b[0m\u001b[0;34m\u001b[0m\u001b[0;34m\u001b[0m\u001b[0m\n\u001b[1;32m    817\u001b[0m             \u001b[0msock_info\u001b[0m \u001b[0;34m=\u001b[0m \u001b[0mself\u001b[0m\u001b[0;34m.\u001b[0m\u001b[0m_jdf\u001b[0m\u001b[0;34m.\u001b[0m\u001b[0mcollectToPython\u001b[0m\u001b[0;34m(\u001b[0m\u001b[0;34m)\u001b[0m\u001b[0;34m\u001b[0m\u001b[0;34m\u001b[0m\u001b[0m\n\u001b[0;32m--> 818\u001b[0;31m         \u001b[0;32mreturn\u001b[0m \u001b[0mlist\u001b[0m\u001b[0;34m(\u001b[0m\u001b[0m_load_from_socket\u001b[0m\u001b[0;34m(\u001b[0m\u001b[0msock_info\u001b[0m\u001b[0;34m,\u001b[0m \u001b[0mBatchedSerializer\u001b[0m\u001b[0;34m(\u001b[0m\u001b[0mCPickleSerializer\u001b[0m\u001b[0;34m(\u001b[0m\u001b[0;34m)\u001b[0m\u001b[0;34m)\u001b[0m\u001b[0;34m)\u001b[0m\u001b[0;34m)\u001b[0m\u001b[0;34m\u001b[0m\u001b[0;34m\u001b[0m\u001b[0m\n\u001b[0m\u001b[1;32m    819\u001b[0m \u001b[0;34m\u001b[0m\u001b[0m\n\u001b[1;32m    820\u001b[0m     \u001b[0;32mdef\u001b[0m \u001b[0mtoLocalIterator\u001b[0m\u001b[0;34m(\u001b[0m\u001b[0mself\u001b[0m\u001b[0;34m,\u001b[0m \u001b[0mprefetchPartitions\u001b[0m\u001b[0;34m:\u001b[0m \u001b[0mbool\u001b[0m \u001b[0;34m=\u001b[0m \u001b[0;32mFalse\u001b[0m\u001b[0;34m)\u001b[0m \u001b[0;34m->\u001b[0m \u001b[0mIterator\u001b[0m\u001b[0;34m[\u001b[0m\u001b[0mRow\u001b[0m\u001b[0;34m]\u001b[0m\u001b[0;34m:\u001b[0m\u001b[0;34m\u001b[0m\u001b[0;34m\u001b[0m\u001b[0m\n",
            "\u001b[0;32m/usr/local/lib/python3.7/dist-packages/pyspark/serializers.py\u001b[0m in \u001b[0;36mload_stream\u001b[0;34m(self, stream)\u001b[0m\n\u001b[1;32m    149\u001b[0m         \u001b[0;32mwhile\u001b[0m \u001b[0;32mTrue\u001b[0m\u001b[0;34m:\u001b[0m\u001b[0;34m\u001b[0m\u001b[0;34m\u001b[0m\u001b[0m\n\u001b[1;32m    150\u001b[0m             \u001b[0;32mtry\u001b[0m\u001b[0;34m:\u001b[0m\u001b[0;34m\u001b[0m\u001b[0;34m\u001b[0m\u001b[0m\n\u001b[0;32m--> 151\u001b[0;31m                 \u001b[0;32myield\u001b[0m \u001b[0mself\u001b[0m\u001b[0;34m.\u001b[0m\u001b[0m_read_with_length\u001b[0m\u001b[0;34m(\u001b[0m\u001b[0mstream\u001b[0m\u001b[0;34m)\u001b[0m\u001b[0;34m\u001b[0m\u001b[0;34m\u001b[0m\u001b[0m\n\u001b[0m\u001b[1;32m    152\u001b[0m             \u001b[0;32mexcept\u001b[0m \u001b[0mEOFError\u001b[0m\u001b[0;34m:\u001b[0m\u001b[0;34m\u001b[0m\u001b[0;34m\u001b[0m\u001b[0m\n\u001b[1;32m    153\u001b[0m                 \u001b[0;32mreturn\u001b[0m\u001b[0;34m\u001b[0m\u001b[0;34m\u001b[0m\u001b[0m\n",
            "\u001b[0;32m/usr/local/lib/python3.7/dist-packages/pyspark/serializers.py\u001b[0m in \u001b[0;36m_read_with_length\u001b[0;34m(self, stream)\u001b[0m\n\u001b[1;32m    168\u001b[0m         \u001b[0;32melif\u001b[0m \u001b[0mlength\u001b[0m \u001b[0;34m==\u001b[0m \u001b[0mSpecialLengths\u001b[0m\u001b[0;34m.\u001b[0m\u001b[0mNULL\u001b[0m\u001b[0;34m:\u001b[0m\u001b[0;34m\u001b[0m\u001b[0;34m\u001b[0m\u001b[0m\n\u001b[1;32m    169\u001b[0m             \u001b[0;32mreturn\u001b[0m \u001b[0;32mNone\u001b[0m\u001b[0;34m\u001b[0m\u001b[0;34m\u001b[0m\u001b[0m\n\u001b[0;32m--> 170\u001b[0;31m         \u001b[0mobj\u001b[0m \u001b[0;34m=\u001b[0m \u001b[0mstream\u001b[0m\u001b[0;34m.\u001b[0m\u001b[0mread\u001b[0m\u001b[0;34m(\u001b[0m\u001b[0mlength\u001b[0m\u001b[0;34m)\u001b[0m\u001b[0;34m\u001b[0m\u001b[0;34m\u001b[0m\u001b[0m\n\u001b[0m\u001b[1;32m    171\u001b[0m         \u001b[0;32mif\u001b[0m \u001b[0mlen\u001b[0m\u001b[0;34m(\u001b[0m\u001b[0mobj\u001b[0m\u001b[0;34m)\u001b[0m \u001b[0;34m<\u001b[0m \u001b[0mlength\u001b[0m\u001b[0;34m:\u001b[0m\u001b[0;34m\u001b[0m\u001b[0;34m\u001b[0m\u001b[0m\n\u001b[1;32m    172\u001b[0m             \u001b[0;32mraise\u001b[0m \u001b[0mEOFError\u001b[0m\u001b[0;34m\u001b[0m\u001b[0;34m\u001b[0m\u001b[0m\n",
            "\u001b[0;32m/usr/lib/python3.7/socket.py\u001b[0m in \u001b[0;36mreadinto\u001b[0;34m(self, b)\u001b[0m\n\u001b[1;32m    587\u001b[0m         \u001b[0;32mwhile\u001b[0m \u001b[0;32mTrue\u001b[0m\u001b[0;34m:\u001b[0m\u001b[0;34m\u001b[0m\u001b[0;34m\u001b[0m\u001b[0m\n\u001b[1;32m    588\u001b[0m             \u001b[0;32mtry\u001b[0m\u001b[0;34m:\u001b[0m\u001b[0;34m\u001b[0m\u001b[0;34m\u001b[0m\u001b[0m\n\u001b[0;32m--> 589\u001b[0;31m                 \u001b[0;32mreturn\u001b[0m \u001b[0mself\u001b[0m\u001b[0;34m.\u001b[0m\u001b[0m_sock\u001b[0m\u001b[0;34m.\u001b[0m\u001b[0mrecv_into\u001b[0m\u001b[0;34m(\u001b[0m\u001b[0mb\u001b[0m\u001b[0;34m)\u001b[0m\u001b[0;34m\u001b[0m\u001b[0;34m\u001b[0m\u001b[0m\n\u001b[0m\u001b[1;32m    590\u001b[0m             \u001b[0;32mexcept\u001b[0m \u001b[0mtimeout\u001b[0m\u001b[0;34m:\u001b[0m\u001b[0;34m\u001b[0m\u001b[0;34m\u001b[0m\u001b[0m\n\u001b[1;32m    591\u001b[0m                 \u001b[0mself\u001b[0m\u001b[0;34m.\u001b[0m\u001b[0m_timeout_occurred\u001b[0m \u001b[0;34m=\u001b[0m \u001b[0;32mTrue\u001b[0m\u001b[0;34m\u001b[0m\u001b[0;34m\u001b[0m\u001b[0m\n",
            "\u001b[0;31mKeyboardInterrupt\u001b[0m: "
          ]
        },
        {
          "output_type": "stream",
          "name": "stdout",
          "text": [
            "time: 2h 10min 44s (started: 2022-07-08 05:32:16 +00:00)\n"
          ]
        }
      ],
      "source": [
        "# Write the prediction data frame so that when you need it you can directly call that dataframe. No need to train again\n",
        "# use you AWS acccout to create an S3 bucket \n",
        "\n",
        "# preds_df.toPandas().to_csv(\"test_results.csv\")"
      ]
    },
    {
      "cell_type": "markdown",
      "metadata": {
        "id": "l6X5R0BB14l9"
      },
      "source": [
        "# Finding the right threshold\n",
        "\n"
      ]
    },
    {
      "cell_type": "code",
      "execution_count": null,
      "metadata": {
        "id": "vEO1IjQ614l9",
        "colab": {
          "base_uri": "https://localhost:8080/"
        },
        "outputId": "002a7157-c18f-491e-f01e-ba7771a5005a"
      },
      "outputs": [
        {
          "output_type": "stream",
          "name": "stdout",
          "text": [
            "+-----+----+----------+-----------+----------------+-----+---+---+----+---+----+------+---+---------+---+---+--------+----------+------------+--------------------+---------+-------------+---------------+------------+-------------------+--------------+---------------+--------------------+-------------------+------------------+-------------------+--------------------+--------------------+------------------+------------------+-------------------+-------------+-------------------+--------------------+-----------------+--------------------+--------------------+--------------------+----------+\n",
            "|click|  C1|banner_pos|device_type|device_conn_type|  C14|C15|C16| C17|C18| C19|   C20|C21|dayofweek|day|  y|  pub_id|pub_domain|pub_category|           user_hour|pub_id_ix|pub_domain_ix|pub_category_ix|user_hour_ix|             C1_enc|banner_pos_enc|device_type_enc|device_conn_type_enc|      pub_id_ix_enc| pub_domain_ix_enc|pub_category_ix_enc|    user_hour_ix_enc|             C14_enc|           C15_enc|           C16_enc|            C17_enc|      C18_enc|            C19_enc|             C20_enc|          C21_enc|            features|       rawPrediction|         probability|prediction|\n",
            "+-----+----+----------+-----------+----------------+-----+---+---+----+---+----+------+---+---------+---+---+--------+----------+------------+--------------------+---------+-------------+---------------+------------+-------------------+--------------+---------------+--------------------+-------------------+------------------+-------------------+--------------------+--------------------+------------------+------------------+-------------------+-------------+-------------------+--------------------+-----------------+--------------------+--------------------+--------------------+----------+\n",
            "|false|1001|         0|          1|               0|17863|300|250|2036|  3|  47|     0|156|        5| 25|  0|56259825|  7801e8d9|    0f2161f8|          98e43dae-9|   2125.0|          4.0|            1.0|     58932.0|(1012,[1001],[1.0])| (7,[0],[1.0])|  (5,[1],[1.0])|       (5,[0],[1.0])|(2836,[2125],[1.0])|  (1426,[4],[1.0])|     (39,[1],[1.0])|(97153,[58932],[1...|(24043,[17863],[1...|(1024,[300],[1.0])|(1024,[250],[1.0])|(2757,[2036],[1.0])|    (3,[],[])|  (1839,[47],[1.0])|  (100248,[0],[1.0])|(255,[156],[1.0])|(233678,[1001,101...|[23.6916995495825...|[0.99999999994861...|       0.0|\n",
            "|false|1001|         0|          1|               0|20153|320| 50|2307|  3| 163|100020| 61|        1| 28|  0|38cf96e8|  7801e8d9|    2281a340|          fcb0ecb5-5|   1175.0|          4.0|           30.0|     95911.0|(1012,[1001],[1.0])| (7,[0],[1.0])|  (5,[1],[1.0])|       (5,[0],[1.0])|(2836,[1175],[1.0])|  (1426,[4],[1.0])|    (39,[30],[1.0])|(97153,[95911],[1...|(24043,[20153],[1...|(1024,[320],[1.0])| (1024,[50],[1.0])|(2757,[2307],[1.0])|    (3,[],[])| (1839,[163],[1.0])|(100248,[100020],...| (255,[61],[1.0])|(233678,[1001,101...|[37.4690493463758...|           [1.0,0.0]|       0.0|\n",
            "|false|1001|         0|          1|               0|20476|320| 50|2348|  3| 427|100004| 61|        3| 23|  0|338021e2|  7801e8d9|    4681bb9d| 4ab2348a-f07e20f8-5|    723.0|          4.0|           26.0|     29584.0|(1012,[1001],[1.0])| (7,[0],[1.0])|  (5,[1],[1.0])|       (5,[0],[1.0])| (2836,[723],[1.0])|  (1426,[4],[1.0])|    (39,[26],[1.0])|(97153,[29584],[1...|(24043,[20476],[1...|(1024,[320],[1.0])| (1024,[50],[1.0])|(2757,[2348],[1.0])|    (3,[],[])| (1839,[427],[1.0])|(100248,[100004],...| (255,[61],[1.0])|(233678,[1001,101...|[29.6038411179339...|[0.99999999999986...|       0.0|\n",
            "|false|1001|         0|          1|               0|20476|320| 50|2348|  3| 427|100005| 61|        2| 22|  0|338021e2|  7801e8d9|    4681bb9d| 1aa3e960-f07e20f8-4|    723.0|          4.0|           26.0|     11834.0|(1012,[1001],[1.0])| (7,[0],[1.0])|  (5,[1],[1.0])|       (5,[0],[1.0])| (2836,[723],[1.0])|  (1426,[4],[1.0])|    (39,[26],[1.0])|(97153,[11834],[1...|(24043,[20476],[1...|(1024,[320],[1.0])| (1024,[50],[1.0])|(2757,[2348],[1.0])|    (3,[],[])| (1839,[427],[1.0])|(100248,[100005],...| (255,[61],[1.0])|(233678,[1001,101...|[30.2042529851063...|[0.99999999999992...|       0.0|\n",
            "|false|1001|         0|          1|               2|20153|320| 50|2307|  3| 163|     0| 61|        0| 27|  0|52c718ba|  c4e18dd6|    9ccfa2ea|d86dc672-f07e20f8-13|   2107.0|         14.0|           38.0|     82558.0|(1012,[1001],[1.0])| (7,[0],[1.0])|  (5,[1],[1.0])|       (5,[2],[1.0])|(2836,[2107],[1.0])| (1426,[14],[1.0])|    (39,[38],[1.0])|(97153,[82558],[1...|(24043,[20153],[1...|(1024,[320],[1.0])| (1024,[50],[1.0])|(2757,[2307],[1.0])|    (3,[],[])| (1839,[163],[1.0])|  (100248,[0],[1.0])| (255,[61],[1.0])|(233678,[1001,101...|[21.8023377515973...|[0.99999999966008...|       0.0|\n",
            "|false|1001|         0|          1|               2|20476|320| 50|2348|  3| 427|100003| 61|        2| 22|  0|338021e2|  7801e8d9|    4681bb9d| 2f4bacf9-f07e20f8-6|    723.0|          4.0|           26.0|     19457.0|(1012,[1001],[1.0])| (7,[0],[1.0])|  (5,[1],[1.0])|       (5,[2],[1.0])| (2836,[723],[1.0])|  (1426,[4],[1.0])|    (39,[26],[1.0])|(97153,[19457],[1...|(24043,[20476],[1...|(1024,[320],[1.0])| (1024,[50],[1.0])|(2757,[2348],[1.0])|    (3,[],[])| (1839,[427],[1.0])|(100248,[100003],...| (255,[61],[1.0])|(233678,[1001,101...|[31.1717124632638...|[0.99999999999997...|       0.0|\n",
            "|false|1001|         0|          1|               2|20476|320| 50|2348|  3| 427|100003| 61|        3| 23|  0|338021e2|  7801e8d9|    4681bb9d| 0c6f8531-f07e20f8-8|    723.0|          4.0|           26.0|      6622.0|(1012,[1001],[1.0])| (7,[0],[1.0])|  (5,[1],[1.0])|       (5,[2],[1.0])| (2836,[723],[1.0])|  (1426,[4],[1.0])|    (39,[26],[1.0])|(97153,[6622],[1.0])|(24043,[20476],[1...|(1024,[320],[1.0])| (1024,[50],[1.0])|(2757,[2348],[1.0])|    (3,[],[])| (1839,[427],[1.0])|(100248,[100003],...| (255,[61],[1.0])|(233678,[1001,101...|[31.2291952767863...|[0.99999999999997...|       0.0|\n",
            "|false|1002|         0|          0|               0|  381|300| 50| 112|  3|1319|     0| 15|        0| 27|  0|df1cdc6c|  7801e8d9|    07d7df22|         6b8bd70d-19|   2686.0|          4.0|            8.0|     41778.0|(1012,[1002],[1.0])| (7,[0],[1.0])|  (5,[0],[1.0])|       (5,[0],[1.0])|(2836,[2686],[1.0])|  (1426,[4],[1.0])|     (39,[8],[1.0])|(97153,[41778],[1...| (24043,[381],[1.0])|(1024,[300],[1.0])| (1024,[50],[1.0])| (2757,[112],[1.0])|    (3,[],[])|(1839,[1319],[1.0])|  (100248,[0],[1.0])| (255,[15],[1.0])|(233678,[1002,101...|[11.2452956853029...|[0.99998693153855...|       0.0|\n",
            "|false|1002|         0|          0|               0|  381|300| 50| 112|  3|1319|     0| 15|        2| 22|  0|c0d05ade|  7801e8d9|    07d7df22|         23e0965a-23|    694.0|          4.0|            8.0|     15275.0|(1012,[1002],[1.0])| (7,[0],[1.0])|  (5,[0],[1.0])|       (5,[0],[1.0])| (2836,[694],[1.0])|  (1426,[4],[1.0])|     (39,[8],[1.0])|(97153,[15275],[1...| (24043,[381],[1.0])|(1024,[300],[1.0])| (1024,[50],[1.0])| (2757,[112],[1.0])|    (3,[],[])|(1839,[1319],[1.0])|  (100248,[0],[1.0])| (255,[15],[1.0])|(233678,[1002,101...|[24.9742990768011...|[0.99999999998575...|       0.0|\n",
            "|false|1002|         0|          0|               0|  381|300| 50| 112|  3|1319|     0| 15|        3| 23|  0|75ae11c1|  7801e8d9|    07d7df22|         90941946-11|   1225.0|          4.0|            8.0|     55800.0|(1012,[1002],[1.0])| (7,[0],[1.0])|  (5,[0],[1.0])|       (5,[0],[1.0])|(2836,[1225],[1.0])|  (1426,[4],[1.0])|     (39,[8],[1.0])|(97153,[55800],[1...| (24043,[381],[1.0])|(1024,[300],[1.0])| (1024,[50],[1.0])| (2757,[112],[1.0])|    (3,[],[])|(1839,[1319],[1.0])|  (100248,[0],[1.0])| (255,[15],[1.0])|(233678,[1002,101...|[-37.084000627729...|[7.84554577197792...|       1.0|\n",
            "|false|1002|         0|          0|               0|  381|300| 50| 112|  3|1319|     0| 15|        3| 30|  0|c0d05ade|  7801e8d9|    07d7df22|          0f94ea53-7|    694.0|          4.0|            8.0|      7701.0|(1012,[1002],[1.0])| (7,[0],[1.0])|  (5,[0],[1.0])|       (5,[0],[1.0])| (2836,[694],[1.0])|  (1426,[4],[1.0])|     (39,[8],[1.0])|(97153,[7701],[1.0])| (24043,[381],[1.0])|(1024,[300],[1.0])| (1024,[50],[1.0])| (2757,[112],[1.0])|    (3,[],[])|(1839,[1319],[1.0])|  (100248,[0],[1.0])| (255,[15],[1.0])|(233678,[1002,101...|[25.2049460601290...|[0.99999999998868...|       0.0|\n",
            "|false|1002|         0|          0|               0|  381|300| 50| 112|  3|1319|100193| 15|        1| 28|  0|3df060eb|  7801e8d9|    07d7df22|         9fa0df8b-21|   2011.0|          4.0|            8.0|     61393.0|(1012,[1002],[1.0])| (7,[0],[1.0])|  (5,[0],[1.0])|       (5,[0],[1.0])|(2836,[2011],[1.0])|  (1426,[4],[1.0])|     (39,[8],[1.0])|(97153,[61393],[1...| (24043,[381],[1.0])|(1024,[300],[1.0])| (1024,[50],[1.0])| (2757,[112],[1.0])|    (3,[],[])|(1839,[1319],[1.0])|(100248,[100193],...| (255,[15],[1.0])|(233678,[1002,101...|[13.1791657812640...|[0.99999811044209...|       0.0|\n",
            "|false|1002|         0|          0|               0|  451|300| 50| 122|  3|1327|     0| 15|        3| 23|  0|59ca80c4|  7801e8d9|    07d7df22|          aad4d201-7|   1046.0|          4.0|            8.0|     65681.0|(1012,[1002],[1.0])| (7,[0],[1.0])|  (5,[0],[1.0])|       (5,[0],[1.0])|(2836,[1046],[1.0])|  (1426,[4],[1.0])|     (39,[8],[1.0])|(97153,[65681],[1...| (24043,[451],[1.0])|(1024,[300],[1.0])| (1024,[50],[1.0])| (2757,[122],[1.0])|    (3,[],[])|(1839,[1327],[1.0])|  (100248,[0],[1.0])| (255,[15],[1.0])|(233678,[1002,101...|[-31.276607519402...|[2.61060966587335...|       1.0|\n",
            "|false|1002|         0|          0|               0|  451|300| 50| 122|  3|1327|     0| 15|        4| 24|  0|75ae11c1|  7801e8d9|    07d7df22|          80289959-5|   1225.0|          4.0|            8.0|     49635.0|(1012,[1002],[1.0])| (7,[0],[1.0])|  (5,[0],[1.0])|       (5,[0],[1.0])|(2836,[1225],[1.0])|  (1426,[4],[1.0])|     (39,[8],[1.0])|(97153,[49635],[1...| (24043,[451],[1.0])|(1024,[300],[1.0])| (1024,[50],[1.0])| (2757,[122],[1.0])|    (3,[],[])|(1839,[1327],[1.0])|  (100248,[0],[1.0])| (255,[15],[1.0])|(233678,[1002,101...|[-31.088733143515...|[3.15017547741224...|       1.0|\n",
            "|false|1002|         0|          0|               0| 4687|320| 50| 423|  2|  39|     0| 32|        0| 27|  0|38c202aa|  7f744e4e|    50e219e0|         9c473512-20|    229.0|        775.0|            4.0|     60283.0|(1012,[1002],[1.0])| (7,[0],[1.0])|  (5,[0],[1.0])|       (5,[0],[1.0])| (2836,[229],[1.0])|(1426,[775],[1.0])|     (39,[4],[1.0])|(97153,[60283],[1...|(24043,[4687],[1.0])|(1024,[320],[1.0])| (1024,[50],[1.0])| (2757,[423],[1.0])|(3,[2],[1.0])|  (1839,[39],[1.0])|  (100248,[0],[1.0])| (255,[32],[1.0])|(233678,[1002,101...|[32.4391047657740...|[0.99999999999999...|       0.0|\n",
            "|false|1002|         0|          0|               0| 4687|320| 50| 423|  2|  39|     0| 32|        0| 27|  0|cc1b7a47|  7256c623|    50e219e0|         1fa2f883-11|    312.0|         36.0|            4.0|     13699.0|(1012,[1002],[1.0])| (7,[0],[1.0])|  (5,[0],[1.0])|       (5,[0],[1.0])| (2836,[312],[1.0])| (1426,[36],[1.0])|     (39,[4],[1.0])|(97153,[13699],[1...|(24043,[4687],[1.0])|(1024,[320],[1.0])| (1024,[50],[1.0])| (2757,[423],[1.0])|(3,[2],[1.0])|  (1839,[39],[1.0])|  (100248,[0],[1.0])| (255,[32],[1.0])|(233678,[1002,101...|[26.6065445346185...|[0.99999999999721...|       0.0|\n",
            "|false|1002|         0|          0|               0| 4687|320| 50| 423|  2|  39|     0| 32|        0| 27|  0|cc1b7a47|  7256c623|    50e219e0|         93c73143-13|    312.0|         36.0|            4.0|     57044.0|(1012,[1002],[1.0])| (7,[0],[1.0])|  (5,[0],[1.0])|       (5,[0],[1.0])| (2836,[312],[1.0])| (1426,[36],[1.0])|     (39,[4],[1.0])|(97153,[57044],[1...|(24043,[4687],[1.0])|(1024,[320],[1.0])| (1024,[50],[1.0])| (2757,[423],[1.0])|(3,[2],[1.0])|  (1839,[39],[1.0])|  (100248,[0],[1.0])| (255,[32],[1.0])|(233678,[1002,101...|[26.6065445346185...|[0.99999999999721...|       0.0|\n",
            "|false|1002|         0|          0|               0| 4687|320| 50| 423|  2|  39|     0| 32|        1| 28|  0|38c202aa|  fe3e9d9a|    50e219e0|          20364c7a-8|    229.0|        484.0|            4.0|     13906.0|(1012,[1002],[1.0])| (7,[0],[1.0])|  (5,[0],[1.0])|       (5,[0],[1.0])| (2836,[229],[1.0])|(1426,[484],[1.0])|     (39,[4],[1.0])|(97153,[13906],[1...|(24043,[4687],[1.0])|(1024,[320],[1.0])| (1024,[50],[1.0])| (2757,[423],[1.0])|(3,[2],[1.0])|  (1839,[39],[1.0])|  (100248,[0],[1.0])| (255,[32],[1.0])|(233678,[1002,101...|[31.9283472659952...|[0.99999999999998...|       0.0|\n",
            "|false|1002|         0|          0|               0| 4687|320| 50| 423|  2|  39|     0| 32|        2| 29|  0|48c42b43|  de0f0f82|    50e219e0|          ffc46e4f-9|    335.0|         57.0|            4.0|     97080.0|(1012,[1002],[1.0])| (7,[0],[1.0])|  (5,[0],[1.0])|       (5,[0],[1.0])| (2836,[335],[1.0])| (1426,[57],[1.0])|     (39,[4],[1.0])|(97153,[97080],[1...|(24043,[4687],[1.0])|(1024,[320],[1.0])| (1024,[50],[1.0])| (2757,[423],[1.0])|(3,[2],[1.0])|  (1839,[39],[1.0])|  (100248,[0],[1.0])| (255,[32],[1.0])|(233678,[1002,101...|[28.8538174903465...|[0.99999999999970...|       0.0|\n",
            "|false|1002|         0|          0|               0| 4687|320| 50| 423|  2|  39|     0| 32|        3| 23|  0|38c202aa|  4afa254d|    50e219e0|          c99dd855-6|    229.0|        444.0|            4.0|     77150.0|(1012,[1002],[1.0])| (7,[0],[1.0])|  (5,[0],[1.0])|       (5,[0],[1.0])| (2836,[229],[1.0])|(1426,[444],[1.0])|     (39,[4],[1.0])|(97153,[77150],[1...|(24043,[4687],[1.0])|(1024,[320],[1.0])| (1024,[50],[1.0])| (2757,[423],[1.0])|(3,[2],[1.0])|  (1839,[39],[1.0])|  (100248,[0],[1.0])| (255,[32],[1.0])|(233678,[1002,101...|[32.4575936323356...|[0.99999999999999...|       0.0|\n",
            "+-----+----+----------+-----------+----------------+-----+---+---+----+---+----+------+---+---------+---+---+--------+----------+------------+--------------------+---------+-------------+---------------+------------+-------------------+--------------+---------------+--------------------+-------------------+------------------+-------------------+--------------------+--------------------+------------------+------------------+-------------------+-------------+-------------------+--------------------+-----------------+--------------------+--------------------+--------------------+----------+\n",
            "only showing top 20 rows\n",
            "\n",
            "time: 15.8 s (started: 2022-07-08 07:43:28 +00:00)\n"
          ]
        }
      ],
      "source": [
        "# Read the data from the result data frame you created. \n",
        "\n",
        "preds_df.show()"
      ]
    },
    {
      "cell_type": "code",
      "execution_count": null,
      "metadata": {
        "id": "1ILQy-kj14l9",
        "colab": {
          "base_uri": "https://localhost:8080/"
        },
        "outputId": "7ebb31ed-30fd-4769-a134-a0e2dd403fc9"
      },
      "outputs": [
        {
          "output_type": "stream",
          "name": "stdout",
          "text": [
            "time: 36.2 ms (started: 2022-07-08 08:15:26 +00:00)\n"
          ]
        }
      ],
      "source": [
        "# Create a new data frame with only the columns y and probabilities \n",
        "final_df = preds_df[\"y\", \"probability\"]\n"
      ]
    },
    {
      "cell_type": "code",
      "source": [
        "final_df.show()"
      ],
      "metadata": {
        "colab": {
          "base_uri": "https://localhost:8080/"
        },
        "id": "soVPTCho4NGW",
        "outputId": "3f74d49e-5dde-4b69-aa79-d7ed38d3736a"
      },
      "execution_count": null,
      "outputs": [
        {
          "output_type": "stream",
          "name": "stdout",
          "text": [
            "+---+--------------------+\n",
            "|  y|         probability|\n",
            "+---+--------------------+\n",
            "|  0|[0.99999999994861...|\n",
            "|  0|           [1.0,0.0]|\n",
            "|  0|[0.99999999999986...|\n",
            "|  0|[0.99999999999992...|\n",
            "|  0|[0.99999999966008...|\n",
            "|  0|[0.99999999999997...|\n",
            "|  0|[0.99999999999997...|\n",
            "|  0|[0.99998693153855...|\n",
            "|  0|[0.99999999998575...|\n",
            "|  0|[7.84554577197792...|\n",
            "|  0|[0.99999999998868...|\n",
            "|  0|[0.99999811044209...|\n",
            "|  0|[2.61060966587335...|\n",
            "|  0|[3.15017547741224...|\n",
            "|  0|[0.99999999999999...|\n",
            "|  0|[0.99999999999721...|\n",
            "|  0|[0.99999999999721...|\n",
            "|  0|[0.99999999999998...|\n",
            "|  0|[0.99999999999970...|\n",
            "|  0|[0.99999999999999...|\n",
            "+---+--------------------+\n",
            "only showing top 20 rows\n",
            "\n",
            "time: 16.3 s (started: 2022-07-08 08:15:45 +00:00)\n"
          ]
        }
      ]
    },
    {
      "cell_type": "code",
      "execution_count": null,
      "metadata": {
        "id": "nQuVLOZp14l9",
        "colab": {
          "base_uri": "https://localhost:8080/"
        },
        "outputId": "52eca593-ab9c-4d5f-8c25-f410f77b135c"
      },
      "outputs": [
        {
          "output_type": "stream",
          "name": "stdout",
          "text": [
            "time: 5.07 ms (started: 2022-07-08 09:28:02 +00:00)\n"
          ]
        }
      ],
      "source": [
        "# the probability is a dense vector column. \n",
        "# You will haave to find a way to access the value of the probability refering to the positive class. \n",
        "# create a function to access the probability of the positive class form the 'probability' column\n",
        "\n",
        "from pyspark.sql.functions import udf, when\n",
        "from pyspark.sql.types import FloatType\n",
        "\n",
        "element_extrac = udf(lambda v:float(v[1]),FloatType())"
      ]
    },
    {
      "cell_type": "code",
      "execution_count": null,
      "metadata": {
        "id": "ETCszVOn14l9"
      },
      "outputs": [],
      "source": [
        "# Now you have the probabilities, your task is to add a class column. \n",
        "# To create this column, compare the probabilities with the threshold and decide the class. \n",
        "# You can make a loop which will repeat the same action for different thresholds\n",
        "# Use the filter and count functions to find the true positives, false positives, false negatives. (inside the loop)\n",
        "# Using these values, find the precision and recall for diffrent thresholds. (inside the loop)\n"
      ]
    },
    {
      "cell_type": "code",
      "source": [
        ""
      ],
      "metadata": {
        "id": "mWNQ7a4aJAIE"
      },
      "execution_count": null,
      "outputs": []
    },
    {
      "cell_type": "code",
      "execution_count": null,
      "metadata": {
        "id": "of0wF0aQ14l-"
      },
      "outputs": [],
      "source": [
        "# Use the precision and recall to make a choice of threshold. \n",
        "\n"
      ]
    },
    {
      "cell_type": "code",
      "source": [
        "%unload_ext autotime"
      ],
      "metadata": {
        "id": "i2diuxeaJQpW"
      },
      "execution_count": null,
      "outputs": []
    }
  ],
  "metadata": {
    "kernelspec": {
      "display_name": "Python 3",
      "language": "python",
      "name": "python3"
    },
    "language_info": {
      "codemirror_mode": {
        "name": "ipython",
        "version": 3
      },
      "file_extension": ".py",
      "mimetype": "text/x-python",
      "name": "python",
      "nbconvert_exporter": "python",
      "pygments_lexer": "ipython3",
      "version": "3.7.6"
    },
    "colab": {
      "name": "CTR_05_Feature_Engineering_and_Threshold_Selection.ipynb",
      "provenance": [],
      "collapsed_sections": []
    }
  },
  "nbformat": 4,
  "nbformat_minor": 0
}