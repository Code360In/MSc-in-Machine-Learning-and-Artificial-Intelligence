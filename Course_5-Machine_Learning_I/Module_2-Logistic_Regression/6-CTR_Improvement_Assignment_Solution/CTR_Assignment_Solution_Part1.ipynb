{
 "cells": [
  {
   "cell_type": "code",
   "execution_count": 1,
   "metadata": {
    "execution": {
     "iopub.execute_input": "2022-07-10T05:41:13.914479Z",
     "iopub.status.busy": "2022-07-10T05:41:13.914271Z",
     "iopub.status.idle": "2022-07-10T05:41:44.906680Z",
     "shell.execute_reply": "2022-07-10T05:41:44.905984Z",
     "shell.execute_reply.started": "2022-07-10T05:41:13.914453Z"
    },
    "scrolled": true,
    "tags": []
   },
   "outputs": [
    {
     "data": {
      "application/vnd.jupyter.widget-view+json": {
       "model_id": "89fdd4ba3e114fb587a61e5834b4852f",
       "version_major": 2,
       "version_minor": 0
      },
      "text/plain": [
       "VBox()"
      ]
     },
     "metadata": {},
     "output_type": "display_data"
    },
    {
     "name": "stdout",
     "output_type": "stream",
     "text": [
      "Starting Spark application\n"
     ]
    },
    {
     "data": {
      "text/html": [
       "<table>\n",
       "<tr><th>ID</th><th>YARN Application ID</th><th>Kind</th><th>State</th><th>Spark UI</th><th>Driver log</th><th>User</th><th>Current session?</th></tr><tr><td>1</td><td>application_1657430784872_0002</td><td>pyspark</td><td>idle</td><td><a target=\"_blank\" href=\"http://ip-172-31-21-180.ec2.internal:20888/proxy/application_1657430784872_0002/\" class=\"emr-proxy-link\" emr-resource=\"j-1O7NXOUY5AUJ8\n",
       "\" application-id=\"application_1657430784872_0002\">Link</a></td><td><a target=\"_blank\" href=\"http://ip-172-31-24-33.ec2.internal:8042/node/containerlogs/container_1657430784872_0002_01_000001/livy\" >Link</a></td><td>None</td><td>✔</td></tr></table>"
      ],
      "text/plain": [
       "<IPython.core.display.HTML object>"
      ]
     },
     "metadata": {},
     "output_type": "display_data"
    },
    {
     "data": {
      "application/vnd.jupyter.widget-view+json": {
       "model_id": "",
       "version_major": 2,
       "version_minor": 0
      },
      "text/plain": [
       "FloatProgress(value=0.0, bar_style='info', description='Progress:', layout=Layout(height='25px', width='50%'),…"
      ]
     },
     "metadata": {},
     "output_type": "display_data"
    },
    {
     "name": "stdout",
     "output_type": "stream",
     "text": [
      "SparkSession available as 'spark'.\n"
     ]
    },
    {
     "data": {
      "application/vnd.jupyter.widget-view+json": {
       "model_id": "",
       "version_major": 2,
       "version_minor": 0
      },
      "text/plain": [
       "FloatProgress(value=0.0, bar_style='info', description='Progress:', layout=Layout(height='25px', width='50%'),…"
      ]
     },
     "metadata": {},
     "output_type": "display_data"
    },
    {
     "name": "stdout",
     "output_type": "stream",
     "text": [
      "<pyspark.sql.session.SparkSession object at 0x7f35ee8e0810>"
     ]
    }
   ],
   "source": [
    "spark"
   ]
  },
  {
   "cell_type": "code",
   "execution_count": 2,
   "metadata": {
    "execution": {
     "iopub.execute_input": "2022-07-10T05:41:44.908336Z",
     "iopub.status.busy": "2022-07-10T05:41:44.907914Z",
     "iopub.status.idle": "2022-07-10T05:41:45.020966Z",
     "shell.execute_reply": "2022-07-10T05:41:45.020256Z",
     "shell.execute_reply.started": "2022-07-10T05:41:44.908297Z"
    }
   },
   "outputs": [
    {
     "data": {
      "application/vnd.jupyter.widget-view+json": {
       "model_id": "d6ba1119babe4f42a36e1228aecf66a3",
       "version_major": 2,
       "version_minor": 0
      },
      "text/plain": [
       "VBox()"
      ]
     },
     "metadata": {},
     "output_type": "display_data"
    },
    {
     "data": {
      "application/vnd.jupyter.widget-view+json": {
       "model_id": "",
       "version_major": 2,
       "version_minor": 0
      },
      "text/plain": [
       "FloatProgress(value=0.0, bar_style='info', description='Progress:', layout=Layout(height='25px', width='50%'),…"
      ]
     },
     "metadata": {},
     "output_type": "display_data"
    }
   ],
   "source": [
    "# %%configure -f \n",
    "#  {\"executorMemory\": \"3072M\", \"driverMemory \": \"6000M\", \"executorCores\": 8}"
   ]
  },
  {
   "cell_type": "code",
   "execution_count": 3,
   "metadata": {
    "execution": {
     "iopub.execute_input": "2022-07-10T05:41:45.022516Z",
     "iopub.status.busy": "2022-07-10T05:41:45.022338Z",
     "iopub.status.idle": "2022-07-10T05:41:56.685320Z",
     "shell.execute_reply": "2022-07-10T05:41:56.684735Z",
     "shell.execute_reply.started": "2022-07-10T05:41:45.022494Z"
    }
   },
   "outputs": [
    {
     "data": {
      "application/vnd.jupyter.widget-view+json": {
       "model_id": "fd10ec3277d341b3a224bab8c688fa8d",
       "version_major": 2,
       "version_minor": 0
      },
      "text/plain": [
       "VBox()"
      ]
     },
     "metadata": {},
     "output_type": "display_data"
    },
    {
     "data": {
      "application/vnd.jupyter.widget-view+json": {
       "model_id": "",
       "version_major": 2,
       "version_minor": 0
      },
      "text/plain": [
       "FloatProgress(value=0.0, bar_style='info', description='Progress:', layout=Layout(height='25px', width='50%'),…"
      ]
     },
     "metadata": {},
     "output_type": "display_data"
    }
   ],
   "source": [
    "# read the data \n",
    "df = sqlContext.read.csv('s3://machine-learning-upgrad-bucket/Model_Improvement_Dataset.csv', header=True, inferSchema=True)"
   ]
  },
  {
   "cell_type": "code",
   "execution_count": 4,
   "metadata": {
    "execution": {
     "iopub.execute_input": "2022-07-10T05:41:56.686596Z",
     "iopub.status.busy": "2022-07-10T05:41:56.686426Z",
     "iopub.status.idle": "2022-07-10T05:41:56.954774Z",
     "shell.execute_reply": "2022-07-10T05:41:56.954134Z",
     "shell.execute_reply.started": "2022-07-10T05:41:56.686574Z"
    }
   },
   "outputs": [
    {
     "data": {
      "application/vnd.jupyter.widget-view+json": {
       "model_id": "53ec134d79dc4696ad8ebc43c2c29ee2",
       "version_major": 2,
       "version_minor": 0
      },
      "text/plain": [
       "VBox()"
      ]
     },
     "metadata": {},
     "output_type": "display_data"
    },
    {
     "data": {
      "application/vnd.jupyter.widget-view+json": {
       "model_id": "",
       "version_major": 2,
       "version_minor": 0
      },
      "text/plain": [
       "FloatProgress(value=0.0, bar_style='info', description='Progress:', layout=Layout(height='25px', width='50%'),…"
      ]
     },
     "metadata": {},
     "output_type": "display_data"
    },
    {
     "name": "stdout",
     "output_type": "stream",
     "text": [
      "root\n",
      " |-- click: boolean (nullable = true)\n",
      " |-- C1: integer (nullable = true)\n",
      " |-- banner_pos: integer (nullable = true)\n",
      " |-- site_id: string (nullable = true)\n",
      " |-- site_domain: string (nullable = true)\n",
      " |-- site_category: string (nullable = true)\n",
      " |-- app_id: string (nullable = true)\n",
      " |-- app_domain: string (nullable = true)\n",
      " |-- app_category: string (nullable = true)\n",
      " |-- device_id: string (nullable = true)\n",
      " |-- device_ip: string (nullable = true)\n",
      " |-- device_model: string (nullable = true)\n",
      " |-- device_type: integer (nullable = true)\n",
      " |-- device_conn_type: integer (nullable = true)\n",
      " |-- C14: integer (nullable = true)\n",
      " |-- C15: integer (nullable = true)\n",
      " |-- C16: integer (nullable = true)\n",
      " |-- C17: integer (nullable = true)\n",
      " |-- C18: integer (nullable = true)\n",
      " |-- C19: integer (nullable = true)\n",
      " |-- C20: integer (nullable = true)\n",
      " |-- C21: integer (nullable = true)\n",
      " |-- month: integer (nullable = true)\n",
      " |-- dayofweek: integer (nullable = true)\n",
      " |-- day: integer (nullable = true)\n",
      " |-- hour: integer (nullable = true)\n",
      " |-- y: integer (nullable = true)"
     ]
    }
   ],
   "source": [
    "df.printSchema()"
   ]
  },
  {
   "cell_type": "code",
   "execution_count": 5,
   "metadata": {
    "execution": {
     "iopub.execute_input": "2022-07-10T05:41:56.956042Z",
     "iopub.status.busy": "2022-07-10T05:41:56.955792Z",
     "iopub.status.idle": "2022-07-10T05:41:57.743110Z",
     "shell.execute_reply": "2022-07-10T05:41:57.742371Z",
     "shell.execute_reply.started": "2022-07-10T05:41:56.956005Z"
    }
   },
   "outputs": [
    {
     "data": {
      "application/vnd.jupyter.widget-view+json": {
       "model_id": "2c8e4a4f4e98493f91790118dfe4b7de",
       "version_major": 2,
       "version_minor": 0
      },
      "text/plain": [
       "VBox()"
      ]
     },
     "metadata": {},
     "output_type": "display_data"
    },
    {
     "data": {
      "application/vnd.jupyter.widget-view+json": {
       "model_id": "",
       "version_major": 2,
       "version_minor": 0
      },
      "text/plain": [
       "FloatProgress(value=0.0, bar_style='info', description='Progress:', layout=Layout(height='25px', width='50%'),…"
      ]
     },
     "metadata": {},
     "output_type": "display_data"
    },
    {
     "name": "stdout",
     "output_type": "stream",
     "text": [
      "+--------+-----------+-------------+--------+----------+------------+\n",
      "| site_id|site_domain|site_category|  app_id|app_domain|app_category|\n",
      "+--------+-----------+-------------+--------+----------+------------+\n",
      "|856e6d3f|   58a89a43|     f028772b|ecad2386|  7801e8d9|    07d7df22|\n",
      "|e151e245|   7e091613|     f028772b|ecad2386|  7801e8d9|    07d7df22|\n",
      "|e3c09f3a|   d262cf1e|     28905ebd|ecad2386|  7801e8d9|    07d7df22|\n",
      "|0da94452|   248e439f|     50e219e0|ecad2386|  7801e8d9|    07d7df22|\n",
      "|1fbe01fe|   f3845767|     28905ebd|ecad2386|  7801e8d9|    07d7df22|\n",
      "|d9750ee7|   98572c79|     f028772b|ecad2386|  7801e8d9|    07d7df22|\n",
      "|83a0ad1a|   5c9ae867|     f028772b|ecad2386|  7801e8d9|    07d7df22|\n",
      "|85f751fd|   c4e18dd6|     50e219e0|98fed791|  d9b5648e|    0f2161f8|\n",
      "|85f751fd|   c4e18dd6|     50e219e0|fc6dc16f|  5c5a694b|    0f2161f8|\n",
      "|1fbe01fe|   f3845767|     28905ebd|ecad2386|  7801e8d9|    07d7df22|\n",
      "|1fbe01fe|   f3845767|     28905ebd|ecad2386|  7801e8d9|    07d7df22|\n",
      "|57fe1b20|   5b626596|     f028772b|ecad2386|  7801e8d9|    07d7df22|\n",
      "|85f751fd|   c4e18dd6|     50e219e0|febd1138|  82e27996|    0f2161f8|\n",
      "|1fbe01fe|   f3845767|     28905ebd|ecad2386|  7801e8d9|    07d7df22|\n",
      "|5b08c53b|   7687a86e|     3e814130|ecad2386|  7801e8d9|    07d7df22|\n",
      "|ac696ed4|   c7dcd9d1|     f66779e6|ecad2386|  7801e8d9|    07d7df22|\n",
      "|b99a2c43|   cc962a1f|     f028772b|ecad2386|  7801e8d9|    07d7df22|\n",
      "|85f751fd|   c4e18dd6|     50e219e0|92f5800b|  ae637522|    0f2161f8|\n",
      "|5bcf81a2|   9d54950b|     f028772b|ecad2386|  7801e8d9|    07d7df22|\n",
      "|85f751fd|   c4e18dd6|     50e219e0|ce183bbd|  ae637522|    cef3e649|\n",
      "+--------+-----------+-------------+--------+----------+------------+\n",
      "only showing top 20 rows"
     ]
    }
   ],
   "source": [
    "# select the columns 'site_id','site_domain','site_category','app_id','app_domain','app_category' and display them, \n",
    "# so that you can analyse the values as they were shown in the segment \n",
    "\n",
    "df.select(['site_id','site_domain','site_category','app_id','app_domain','app_category']).show()"
   ]
  },
  {
   "cell_type": "code",
   "execution_count": 6,
   "metadata": {
    "execution": {
     "iopub.execute_input": "2022-07-10T05:41:57.744502Z",
     "iopub.status.busy": "2022-07-10T05:41:57.744244Z",
     "iopub.status.idle": "2022-07-10T05:41:58.030968Z",
     "shell.execute_reply": "2022-07-10T05:41:58.030398Z",
     "shell.execute_reply.started": "2022-07-10T05:41:57.744466Z"
    }
   },
   "outputs": [
    {
     "data": {
      "application/vnd.jupyter.widget-view+json": {
       "model_id": "b064d61826bb4a75bb3d6eb511194fcc",
       "version_major": 2,
       "version_minor": 0
      },
      "text/plain": [
       "VBox()"
      ]
     },
     "metadata": {},
     "output_type": "display_data"
    },
    {
     "data": {
      "application/vnd.jupyter.widget-view+json": {
       "model_id": "",
       "version_major": 2,
       "version_minor": 0
      },
      "text/plain": [
       "FloatProgress(value=0.0, bar_style='info', description='Progress:', layout=Layout(height='25px', width='50%'),…"
      ]
     },
     "metadata": {},
     "output_type": "display_data"
    }
   ],
   "source": [
    "# create 3 new columns in the datafeame named 'pub_id', 'pub_domain', 'pub_category' \n",
    "# these columns will have the data from 'site_id','site_domain','site_category'\n",
    "# Use the withColumn method \n",
    "\n",
    "df = df.withColumn('pub_id',df['site_id'])\n",
    "df = df.withColumn('pub_domain',df['site_domain'])\n",
    "df = df.withColumn('pub_category',df['site_category'])"
   ]
  },
  {
   "cell_type": "code",
   "execution_count": 7,
   "metadata": {
    "execution": {
     "iopub.execute_input": "2022-07-10T05:41:58.032035Z",
     "iopub.status.busy": "2022-07-10T05:41:58.031848Z",
     "iopub.status.idle": "2022-07-10T05:41:58.306550Z",
     "shell.execute_reply": "2022-07-10T05:41:58.305999Z",
     "shell.execute_reply.started": "2022-07-10T05:41:58.032012Z"
    }
   },
   "outputs": [
    {
     "data": {
      "application/vnd.jupyter.widget-view+json": {
       "model_id": "e340a470654c40beb2f4757fae68a91a",
       "version_major": 2,
       "version_minor": 0
      },
      "text/plain": [
       "VBox()"
      ]
     },
     "metadata": {},
     "output_type": "display_data"
    },
    {
     "data": {
      "application/vnd.jupyter.widget-view+json": {
       "model_id": "",
       "version_major": 2,
       "version_minor": 0
      },
      "text/plain": [
       "FloatProgress(value=0.0, bar_style='info', description='Progress:', layout=Layout(height='25px', width='50%'),…"
      ]
     },
     "metadata": {},
     "output_type": "display_data"
    }
   ],
   "source": [
    "# replace the values in the columns 'pub_id', 'pub_domain', 'pub_category' with the values 'app_id','app_domain','app_category'\n",
    "# the replcement should only happen if the value in site_id is '85f751fd'\n",
    "# you will need withColumn and when functions\n",
    "\n",
    "from pyspark.sql.functions import when\n",
    "\n",
    "df = df.withColumn(\"pub_id\",when(df[\"pub_id\"] == '85f751fd', df['app_id']).otherwise(df[\"pub_id\"]))\n",
    "df = df.withColumn(\"pub_domain\",when(df[\"pub_id\"] == '85f751fd', df['app_domain']).otherwise(df[\"pub_domain\"]))\n",
    "df = df.withColumn(\"pub_category\",when(df[\"pub_id\"] == '85f751fd', df['app_category']).otherwise(df[\"pub_category\"]))"
   ]
  },
  {
   "cell_type": "code",
   "execution_count": 8,
   "metadata": {
    "execution": {
     "iopub.execute_input": "2022-07-10T05:41:58.308411Z",
     "iopub.status.busy": "2022-07-10T05:41:58.308227Z",
     "iopub.status.idle": "2022-07-10T05:41:58.635421Z",
     "shell.execute_reply": "2022-07-10T05:41:58.634791Z",
     "shell.execute_reply.started": "2022-07-10T05:41:58.308387Z"
    }
   },
   "outputs": [
    {
     "data": {
      "application/vnd.jupyter.widget-view+json": {
       "model_id": "2c73423b50e84dff96b451baf2203e33",
       "version_major": 2,
       "version_minor": 0
      },
      "text/plain": [
       "VBox()"
      ]
     },
     "metadata": {},
     "output_type": "display_data"
    },
    {
     "data": {
      "application/vnd.jupyter.widget-view+json": {
       "model_id": "",
       "version_major": 2,
       "version_minor": 0
      },
      "text/plain": [
       "FloatProgress(value=0.0, bar_style='info', description='Progress:', layout=Layout(height='25px', width='50%'),…"
      ]
     },
     "metadata": {},
     "output_type": "display_data"
    }
   ],
   "source": [
    "# drop all the columns which are now redundunt \n",
    "\n",
    "df = df.drop('app_category','site_id','site_domain','site_category','app_id','app_domain')"
   ]
  },
  {
   "cell_type": "code",
   "execution_count": 9,
   "metadata": {
    "execution": {
     "iopub.execute_input": "2022-07-10T05:41:58.636812Z",
     "iopub.status.busy": "2022-07-10T05:41:58.636636Z",
     "iopub.status.idle": "2022-07-10T05:41:58.706123Z",
     "shell.execute_reply": "2022-07-10T05:41:58.705438Z",
     "shell.execute_reply.started": "2022-07-10T05:41:58.636790Z"
    }
   },
   "outputs": [
    {
     "data": {
      "application/vnd.jupyter.widget-view+json": {
       "model_id": "a0e91b30a0f7488c896fb207e1dfbe24",
       "version_major": 2,
       "version_minor": 0
      },
      "text/plain": [
       "VBox()"
      ]
     },
     "metadata": {},
     "output_type": "display_data"
    },
    {
     "data": {
      "application/vnd.jupyter.widget-view+json": {
       "model_id": "",
       "version_major": 2,
       "version_minor": 0
      },
      "text/plain": [
       "FloatProgress(value=0.0, bar_style='info', description='Progress:', layout=Layout(height='25px', width='50%'),…"
      ]
     },
     "metadata": {},
     "output_type": "display_data"
    },
    {
     "name": "stdout",
     "output_type": "stream",
     "text": [
      "['click', 'C1', 'banner_pos', 'device_id', 'device_ip', 'device_model', 'device_type', 'device_conn_type', 'C14', 'C15', 'C16', 'C17', 'C18', 'C19', 'C20', 'C21', 'month', 'dayofweek', 'day', 'hour', 'y', 'pub_id', 'pub_domain', 'pub_category']"
     ]
    }
   ],
   "source": [
    "df.columns"
   ]
  },
  {
   "cell_type": "code",
   "execution_count": 10,
   "metadata": {
    "execution": {
     "iopub.execute_input": "2022-07-10T05:41:58.707489Z",
     "iopub.status.busy": "2022-07-10T05:41:58.707224Z",
     "iopub.status.idle": "2022-07-10T05:42:02.094166Z",
     "shell.execute_reply": "2022-07-10T05:42:02.093563Z",
     "shell.execute_reply.started": "2022-07-10T05:41:58.707454Z"
    }
   },
   "outputs": [
    {
     "data": {
      "application/vnd.jupyter.widget-view+json": {
       "model_id": "599df14097c44fc897dc91bd90583a74",
       "version_major": 2,
       "version_minor": 0
      },
      "text/plain": [
       "VBox()"
      ]
     },
     "metadata": {},
     "output_type": "display_data"
    },
    {
     "data": {
      "application/vnd.jupyter.widget-view+json": {
       "model_id": "",
       "version_major": 2,
       "version_minor": 0
      },
      "text/plain": [
       "FloatProgress(value=0.0, bar_style='info', description='Progress:', layout=Layout(height='25px', width='50%'),…"
      ]
     },
     "metadata": {},
     "output_type": "display_data"
    },
    {
     "name": "stdout",
     "output_type": "stream",
     "text": [
      "+---------+-----+\n",
      "|device_id|count|\n",
      "+---------+-----+\n",
      "| a99f214a|82579|\n",
      "| c357dbff|   62|\n",
      "| 0f7c61dc|   51|\n",
      "| afeffc18|   34|\n",
      "| 936e92fb|   27|\n",
      "| cef4c8cc|   12|\n",
      "| 28dc8687|   11|\n",
      "| 9af87478|    9|\n",
      "| d857ffbb|    9|\n",
      "| 02da5312|    8|\n",
      "| b09da1c4|    7|\n",
      "| 987552d1|    7|\n",
      "| 3cdb4052|    6|\n",
      "| 03559b29|    6|\n",
      "| 1168ce02|    5|\n",
      "| abab24a7|    5|\n",
      "| bc8b6d57|    4|\n",
      "| 243bd3ab|    4|\n",
      "| 2c112522|    4|\n",
      "| 787d2bb0|    4|\n",
      "+---------+-----+\n",
      "only showing top 20 rows"
     ]
    }
   ],
   "source": [
    "# check the frequency of each category in device_id. did you get a similar distribution to the one shown in the segment? \n",
    "# use groupBy and count\n",
    "\n",
    "from pyspark.sql.functions import desc\n",
    "\n",
    "df.groupBy(\"device_id\").count().sort(desc(\"count\")).show()"
   ]
  },
  {
   "cell_type": "code",
   "execution_count": 11,
   "metadata": {
    "execution": {
     "iopub.execute_input": "2022-07-10T05:42:02.095388Z",
     "iopub.status.busy": "2022-07-10T05:42:02.095055Z",
     "iopub.status.idle": "2022-07-10T05:42:02.164284Z",
     "shell.execute_reply": "2022-07-10T05:42:02.163622Z",
     "shell.execute_reply.started": "2022-07-10T05:42:02.095355Z"
    }
   },
   "outputs": [
    {
     "data": {
      "application/vnd.jupyter.widget-view+json": {
       "model_id": "ef1196278a9c45d2a6dee88bf0caa58b",
       "version_major": 2,
       "version_minor": 0
      },
      "text/plain": [
       "VBox()"
      ]
     },
     "metadata": {},
     "output_type": "display_data"
    },
    {
     "data": {
      "application/vnd.jupyter.widget-view+json": {
       "model_id": "",
       "version_major": 2,
       "version_minor": 0
      },
      "text/plain": [
       "FloatProgress(value=0.0, bar_style='info', description='Progress:', layout=Layout(height='25px', width='50%'),…"
      ]
     },
     "metadata": {},
     "output_type": "display_data"
    }
   ],
   "source": [
    "# combine device_id, device_ip and device_type to form a new column which can identify users. \n",
    "# name the new column 'user' with data from device_id\n",
    "\n",
    "df = df.withColumn('user',df['device_id'] )"
   ]
  },
  {
   "cell_type": "code",
   "execution_count": 12,
   "metadata": {
    "execution": {
     "iopub.execute_input": "2022-07-10T05:42:02.165564Z",
     "iopub.status.busy": "2022-07-10T05:42:02.165313Z",
     "iopub.status.idle": "2022-07-10T05:42:02.439760Z",
     "shell.execute_reply": "2022-07-10T05:42:02.439085Z",
     "shell.execute_reply.started": "2022-07-10T05:42:02.165528Z"
    }
   },
   "outputs": [
    {
     "data": {
      "application/vnd.jupyter.widget-view+json": {
       "model_id": "2b80d472d0e84f548c414470e1a776a5",
       "version_major": 2,
       "version_minor": 0
      },
      "text/plain": [
       "VBox()"
      ]
     },
     "metadata": {},
     "output_type": "display_data"
    },
    {
     "data": {
      "application/vnd.jupyter.widget-view+json": {
       "model_id": "",
       "version_major": 2,
       "version_minor": 0
      },
      "text/plain": [
       "FloatProgress(value=0.0, bar_style='info', description='Progress:', layout=Layout(height='25px', width='50%'),…"
      ]
     },
     "metadata": {},
     "output_type": "display_data"
    }
   ],
   "source": [
    "# In that column whereever the device_id is missing use a combination of device_ip and device_type\n",
    "# You will have to use the withcolumn along with a when condition. \n",
    "# You will the combination of device id and device ip can be done using the following code. \n",
    "from pyspark.sql import functions as sf\n",
    "# sf.concat(sf.col('device_ip'),sf.lit('-'), sf.col('device_model'))\n",
    "\n",
    "# use this code inside a when condition\n",
    "\n",
    "df = df.withColumn('user', \n",
    "                   when(df[\"device_id\"] == 'a99f214a', sf.concat(sf.col('device_ip'),sf.lit('-'), sf.col('device_model')))\n",
    "                   .otherwise(df[\"device_id\"]))"
   ]
  },
  {
   "cell_type": "code",
   "execution_count": 13,
   "metadata": {
    "execution": {
     "iopub.execute_input": "2022-07-10T05:42:02.440803Z",
     "iopub.status.busy": "2022-07-10T05:42:02.440619Z",
     "iopub.status.idle": "2022-07-10T05:42:02.735496Z",
     "shell.execute_reply": "2022-07-10T05:42:02.734869Z",
     "shell.execute_reply.started": "2022-07-10T05:42:02.440781Z"
    }
   },
   "outputs": [
    {
     "data": {
      "application/vnd.jupyter.widget-view+json": {
       "model_id": "87081275b0f7471ab6a8558f3dc888cd",
       "version_major": 2,
       "version_minor": 0
      },
      "text/plain": [
       "VBox()"
      ]
     },
     "metadata": {},
     "output_type": "display_data"
    },
    {
     "data": {
      "application/vnd.jupyter.widget-view+json": {
       "model_id": "",
       "version_major": 2,
       "version_minor": 0
      },
      "text/plain": [
       "FloatProgress(value=0.0, bar_style='info', description='Progress:', layout=Layout(height='25px', width='50%'),…"
      ]
     },
     "metadata": {},
     "output_type": "display_data"
    },
    {
     "name": "stdout",
     "output_type": "stream",
     "text": [
      "['click', 'C1', 'banner_pos', 'device_id', 'device_ip', 'device_model', 'device_type', 'device_conn_type', 'C14', 'C15', 'C16', 'C17', 'C18', 'C19', 'C20', 'C21', 'month', 'dayofweek', 'day', 'hour', 'y', 'pub_id', 'pub_domain', 'pub_category', 'user', 'user_count']"
     ]
    }
   ],
   "source": [
    "# find the frequency of each category in the user column, save this frequency in a new coulumn in the data frame\n",
    "# join this dataframe with the earlier df, make sure that when you join all the rows \n",
    "# form the original table need to be present in the final table as well.\n",
    "# use the join table command\n",
    "\n",
    "# Create a new dataframe with the counts frequency of each user. \n",
    "u_count = df.groupBy(\"user\").count().sort(desc(\"count\"))\n",
    "u_count = u_count.withColumnRenamed('user','user_d')\n",
    "u_count = u_count.withColumnRenamed('count','user_count')\n",
    "\n",
    "# Join above created data framw with the orginal dataframe \n",
    "df_j1 = df.join(u_count, df.user==u_count.user_d, \"left\").drop('user_d')\n",
    "\n",
    "# To check the transformation call the columns from df\n",
    "df_j1.columns"
   ]
  },
  {
   "cell_type": "code",
   "execution_count": 14,
   "metadata": {
    "execution": {
     "iopub.execute_input": "2022-07-10T05:42:02.736743Z",
     "iopub.status.busy": "2022-07-10T05:42:02.736436Z",
     "iopub.status.idle": "2022-07-10T05:42:03.027717Z",
     "shell.execute_reply": "2022-07-10T05:42:03.027081Z",
     "shell.execute_reply.started": "2022-07-10T05:42:02.736711Z"
    }
   },
   "outputs": [
    {
     "data": {
      "application/vnd.jupyter.widget-view+json": {
       "model_id": "892be14ff84a4276840e83b7a4db62da",
       "version_major": 2,
       "version_minor": 0
      },
      "text/plain": [
       "VBox()"
      ]
     },
     "metadata": {},
     "output_type": "display_data"
    },
    {
     "data": {
      "application/vnd.jupyter.widget-view+json": {
       "model_id": "",
       "version_major": 2,
       "version_minor": 0
      },
      "text/plain": [
       "FloatProgress(value=0.0, bar_style='info', description='Progress:', layout=Layout(height='25px', width='50%'),…"
      ]
     },
     "metadata": {},
     "output_type": "display_data"
    },
    {
     "name": "stdout",
     "output_type": "stream",
     "text": [
      "['click', 'C1', 'banner_pos', 'device_id', 'device_ip', 'device_model', 'device_type', 'device_conn_type', 'C14', 'C15', 'C16', 'C17', 'C18', 'C19', 'C20', 'C21', 'month', 'dayofweek', 'day', 'hour', 'y', 'pub_id', 'pub_domain', 'pub_category', 'user', 'user_count', 'user_hour', 'user_hour_count']"
     ]
    }
   ],
   "source": [
    "# combine user and hour column to make a new columns user-hour. \n",
    "df_j1 = df_j1.withColumn('user_hour', sf.concat(sf.col('user'),sf.lit('-'), sf.col('hour')))\n",
    "\n",
    "# again add a columns with the frequency of occurance each user-hour combiation\n",
    "# new data frome for frequency of user-hour combination\n",
    "u_count_h = df_j1.groupBy(\"user_hour\").count().sort(desc(\"count\"))\n",
    "u_count_h = u_count_h.withColumnRenamed('user_hour','user_hour_d')\n",
    "u_count_h = u_count_h.withColumnRenamed('count','user_hour_count')\n",
    "\n",
    "# join the new dataframe with df_j1\n",
    "df_j2= df_j1.join(u_count_h, df_j1.user_hour==u_count_h.user_hour_d, \"left\").drop('user_hour_d')\n",
    "\n",
    "# Check the columns to know that the trnaformation is done\n",
    "df_j2.columns"
   ]
  },
  {
   "cell_type": "code",
   "execution_count": 15,
   "metadata": {
    "execution": {
     "iopub.execute_input": "2022-07-10T05:42:03.028839Z",
     "iopub.status.busy": "2022-07-10T05:42:03.028660Z",
     "iopub.status.idle": "2022-07-10T05:42:03.306833Z",
     "shell.execute_reply": "2022-07-10T05:42:03.306261Z",
     "shell.execute_reply.started": "2022-07-10T05:42:03.028816Z"
    }
   },
   "outputs": [
    {
     "data": {
      "application/vnd.jupyter.widget-view+json": {
       "model_id": "41b0bcb7a2324e9da8ec305e5c954953",
       "version_major": 2,
       "version_minor": 0
      },
      "text/plain": [
       "VBox()"
      ]
     },
     "metadata": {},
     "output_type": "display_data"
    },
    {
     "data": {
      "application/vnd.jupyter.widget-view+json": {
       "model_id": "",
       "version_major": 2,
       "version_minor": 0
      },
      "text/plain": [
       "FloatProgress(value=0.0, bar_style='info', description='Progress:', layout=Layout(height='25px', width='50%'),…"
      ]
     },
     "metadata": {},
     "output_type": "display_data"
    }
   ],
   "source": [
    "# drop all redundent columns\n",
    "\n",
    "df=df_j2.drop( 'device_id', 'device_ip', 'device_model','user','user_hour','month')\n",
    "\n",
    "# dropping month as it has only one value it does not contribute in predictions. \n",
    "# This was demonstrated by Jaidev"
   ]
  },
  {
   "cell_type": "code",
   "execution_count": 16,
   "metadata": {
    "execution": {
     "iopub.execute_input": "2022-07-10T05:42:03.308198Z",
     "iopub.status.busy": "2022-07-10T05:42:03.307926Z",
     "iopub.status.idle": "2022-07-10T05:42:12.688062Z",
     "shell.execute_reply": "2022-07-10T05:42:12.687251Z",
     "shell.execute_reply.started": "2022-07-10T05:42:03.308161Z"
    }
   },
   "outputs": [
    {
     "data": {
      "application/vnd.jupyter.widget-view+json": {
       "model_id": "c4f0c49df1724aa9a259b860a2d1aa0d",
       "version_major": 2,
       "version_minor": 0
      },
      "text/plain": [
       "VBox()"
      ]
     },
     "metadata": {},
     "output_type": "display_data"
    },
    {
     "data": {
      "application/vnd.jupyter.widget-view+json": {
       "model_id": "",
       "version_major": 2,
       "version_minor": 0
      },
      "text/plain": [
       "FloatProgress(value=0.0, bar_style='info', description='Progress:', layout=Layout(height='25px', width='50%'),…"
      ]
     },
     "metadata": {},
     "output_type": "display_data"
    },
    {
     "name": "stdout",
     "output_type": "stream",
     "text": [
      "+-----+---+----------+-----------+----------------+----+---+---+---+---+---+---+---+---------+---+----+---+------+----------+------------+----------+---------------+\n",
      "|click| C1|banner_pos|device_type|device_conn_type| C14|C15|C16|C17|C18|C19|C20|C21|dayofweek|day|hour|  y|pub_id|pub_domain|pub_category|user_count|user_hour_count|\n",
      "+-----+---+----------+-----------+----------------+----+---+---+---+---+---+---+---+---------+---+----+---+------+----------+------------+----------+---------------+\n",
      "|    2|  7|         7|          4|               4|1722|  8|  9|399|  4| 64|154| 60|        7| 10|  24|  2|  2837|      1331|          19|        45|             12|\n",
      "+-----+---+----------+-----------+----------------+----+---+---+---+---+---+---+---+---------+---+----+---+------+----------+------------+----------+---------------+"
     ]
    }
   ],
   "source": [
    "# find the number of catagories in each columns \n",
    "# use the countdistinct method\n",
    "# create a list of all columns and then loop through each column counting the distinct values in it. \n",
    "\n",
    "from pyspark.sql.functions import col, countDistinct\n",
    "\n",
    "df.agg(*(countDistinct(col(c)).alias(c) for c in df.columns)).show()\n",
    "\n",
    "# here * instructs the agg function to accept whatever number of columns are inside the brakets. "
   ]
  },
  {
   "cell_type": "code",
   "execution_count": 17,
   "metadata": {
    "execution": {
     "iopub.execute_input": "2022-07-10T05:42:12.689361Z",
     "iopub.status.busy": "2022-07-10T05:42:12.689116Z",
     "iopub.status.idle": "2022-07-10T05:42:12.759900Z",
     "shell.execute_reply": "2022-07-10T05:42:12.759209Z",
     "shell.execute_reply.started": "2022-07-10T05:42:12.689325Z"
    }
   },
   "outputs": [
    {
     "data": {
      "application/vnd.jupyter.widget-view+json": {
       "model_id": "fc05b14129984b1197f1b4c826b3f55f",
       "version_major": 2,
       "version_minor": 0
      },
      "text/plain": [
       "VBox()"
      ]
     },
     "metadata": {},
     "output_type": "display_data"
    },
    {
     "data": {
      "application/vnd.jupyter.widget-view+json": {
       "model_id": "",
       "version_major": 2,
       "version_minor": 0
      },
      "text/plain": [
       "FloatProgress(value=0.0, bar_style='info', description='Progress:', layout=Layout(height='25px', width='50%'),…"
      ]
     },
     "metadata": {},
     "output_type": "display_data"
    }
   ],
   "source": [
    "# drop colums which have lot of dictinct catagories. \n",
    "\n",
    "df=df.drop('pub_id','pub_domain','C14','C17')"
   ]
  },
  {
   "cell_type": "markdown",
   "metadata": {},
   "source": [
    "# Algorithm Building\n",
    "\n",
    "Earlier in the module, Jaidev has performed model building exercise. You can refer to his notebooks for help."
   ]
  },
  {
   "cell_type": "code",
   "execution_count": 18,
   "metadata": {
    "execution": {
     "iopub.execute_input": "2022-07-10T05:42:12.761379Z",
     "iopub.status.busy": "2022-07-10T05:42:12.761130Z",
     "iopub.status.idle": "2022-07-10T05:42:13.039062Z",
     "shell.execute_reply": "2022-07-10T05:42:13.038291Z",
     "shell.execute_reply.started": "2022-07-10T05:42:12.761345Z"
    }
   },
   "outputs": [
    {
     "data": {
      "application/vnd.jupyter.widget-view+json": {
       "model_id": "d1dc35dfb6a4498da39e8f1b12ceb59c",
       "version_major": 2,
       "version_minor": 0
      },
      "text/plain": [
       "VBox()"
      ]
     },
     "metadata": {},
     "output_type": "display_data"
    },
    {
     "data": {
      "application/vnd.jupyter.widget-view+json": {
       "model_id": "",
       "version_major": 2,
       "version_minor": 0
      },
      "text/plain": [
       "FloatProgress(value=0.0, bar_style='info', description='Progress:', layout=Layout(height='25px', width='50%'),…"
      ]
     },
     "metadata": {},
     "output_type": "display_data"
    }
   ],
   "source": [
    "# import all the necessary libraries \n",
    "\n",
    "from pyspark.sql.functions import udf\n",
    "from pyspark.sql.types import IntegerType\n",
    "from pyspark.ml.feature import StringIndexer, OneHotEncoderEstimator, VectorAssembler"
   ]
  },
  {
   "cell_type": "code",
   "execution_count": 19,
   "metadata": {
    "execution": {
     "iopub.execute_input": "2022-07-10T05:42:13.040490Z",
     "iopub.status.busy": "2022-07-10T05:42:13.040227Z",
     "iopub.status.idle": "2022-07-10T05:42:13.110082Z",
     "shell.execute_reply": "2022-07-10T05:42:13.109429Z",
     "shell.execute_reply.started": "2022-07-10T05:42:13.040455Z"
    }
   },
   "outputs": [
    {
     "data": {
      "application/vnd.jupyter.widget-view+json": {
       "model_id": "6ab2ed94c7e84ffb8d111e267378aa6f",
       "version_major": 2,
       "version_minor": 0
      },
      "text/plain": [
       "VBox()"
      ]
     },
     "metadata": {},
     "output_type": "display_data"
    },
    {
     "data": {
      "application/vnd.jupyter.widget-view+json": {
       "model_id": "",
       "version_major": 2,
       "version_minor": 0
      },
      "text/plain": [
       "FloatProgress(value=0.0, bar_style='info', description='Progress:', layout=Layout(height='25px', width='50%'),…"
      ]
     },
     "metadata": {},
     "output_type": "display_data"
    }
   ],
   "source": [
    "# create a list of catagorical columns wich are represented by integers. these will not be sent through the one hot encoder\n",
    "\n",
    "cCols = ['C1', 'banner_pos', 'device_type', 'device_conn_type']\n",
    "cCols += ['C18','C19','C21','C15','C16']"
   ]
  },
  {
   "cell_type": "code",
   "execution_count": 20,
   "metadata": {
    "execution": {
     "iopub.execute_input": "2022-07-10T05:42:13.111409Z",
     "iopub.status.busy": "2022-07-10T05:42:13.111153Z",
     "iopub.status.idle": "2022-07-10T05:42:13.393051Z",
     "shell.execute_reply": "2022-07-10T05:42:13.392416Z",
     "shell.execute_reply.started": "2022-07-10T05:42:13.111372Z"
    }
   },
   "outputs": [
    {
     "data": {
      "application/vnd.jupyter.widget-view+json": {
       "model_id": "f325b9de7021474c81bdf35f1fe4bbe7",
       "version_major": 2,
       "version_minor": 0
      },
      "text/plain": [
       "VBox()"
      ]
     },
     "metadata": {},
     "output_type": "display_data"
    },
    {
     "data": {
      "application/vnd.jupyter.widget-view+json": {
       "model_id": "",
       "version_major": 2,
       "version_minor": 0
      },
      "text/plain": [
       "FloatProgress(value=0.0, bar_style='info', description='Progress:', layout=Layout(height='25px', width='50%'),…"
      ]
     },
     "metadata": {},
     "output_type": "display_data"
    }
   ],
   "source": [
    "# if you remember form the earlier model building exercise the column C20 has negative values. \n",
    "# replace the negative values with 0. you can use the same UDF made by Jaidev. \n",
    "\n",
    "from pyspark.sql.functions import udf\n",
    "from pyspark.sql.types import IntegerType\n",
    "\n",
    "posMapper = udf(lambda x: 0 if x < 0 else x)\n",
    "df = df.withColumn('C20_1', posMapper(df['C20']))\n",
    "df = df.withColumn(\"C20_1int\", df['C20_1'].cast(IntegerType()))"
   ]
  },
  {
   "cell_type": "code",
   "execution_count": 21,
   "metadata": {
    "execution": {
     "iopub.execute_input": "2022-07-10T05:42:13.394491Z",
     "iopub.status.busy": "2022-07-10T05:42:13.394240Z",
     "iopub.status.idle": "2022-07-10T05:42:20.779945Z",
     "shell.execute_reply": "2022-07-10T05:42:20.779181Z",
     "shell.execute_reply.started": "2022-07-10T05:42:13.394455Z"
    }
   },
   "outputs": [
    {
     "data": {
      "application/vnd.jupyter.widget-view+json": {
       "model_id": "60f4bff994914aed8da9f24fd3e16e97",
       "version_major": 2,
       "version_minor": 0
      },
      "text/plain": [
       "VBox()"
      ]
     },
     "metadata": {},
     "output_type": "display_data"
    },
    {
     "data": {
      "application/vnd.jupyter.widget-view+json": {
       "model_id": "",
       "version_major": 2,
       "version_minor": 0
      },
      "text/plain": [
       "FloatProgress(value=0.0, bar_style='info', description='Progress:', layout=Layout(height='25px', width='50%'),…"
      ]
     },
     "metadata": {},
     "output_type": "display_data"
    }
   ],
   "source": [
    "# run the string indexer on the columns which are categorical but are represented by strings.\n",
    "# adding a string on the end of the output column to make it easy to identify\n",
    "\n",
    "stringCols = ['pub_category']\n",
    "for c in stringCols:\n",
    "    outCol = c + '_ix'\n",
    "    si = StringIndexer(inputCol=c, outputCol=outCol)\n",
    "    df = si.fit(df).transform(df)"
   ]
  },
  {
   "cell_type": "code",
   "execution_count": 22,
   "metadata": {
    "execution": {
     "iopub.execute_input": "2022-07-10T05:42:20.781651Z",
     "iopub.status.busy": "2022-07-10T05:42:20.781368Z",
     "iopub.status.idle": "2022-07-10T05:42:20.871797Z",
     "shell.execute_reply": "2022-07-10T05:42:20.871104Z",
     "shell.execute_reply.started": "2022-07-10T05:42:20.781614Z"
    }
   },
   "outputs": [
    {
     "data": {
      "application/vnd.jupyter.widget-view+json": {
       "model_id": "dc2438cac5c348cabc6ed4f3fb5d0718",
       "version_major": 2,
       "version_minor": 0
      },
      "text/plain": [
       "VBox()"
      ]
     },
     "metadata": {},
     "output_type": "display_data"
    },
    {
     "data": {
      "application/vnd.jupyter.widget-view+json": {
       "model_id": "",
       "version_major": 2,
       "version_minor": 0
      },
      "text/plain": [
       "FloatProgress(value=0.0, bar_style='info', description='Progress:', layout=Layout(height='25px', width='50%'),…"
      ]
     },
     "metadata": {},
     "output_type": "display_data"
    },
    {
     "name": "stdout",
     "output_type": "stream",
     "text": [
      "['C1', 'banner_pos', 'device_type', 'device_conn_type', 'C18', 'C19', 'C21', 'C15', 'C16', 'pub_category_ix', 'C20_1int']"
     ]
    }
   ],
   "source": [
    "# add the resultant columns from string indexer into the catagorical columns list. \n",
    "# make sure that you have the right column name for C20 as it has beed processed separately. \n",
    "\n",
    "cCols+=['pub_category_ix','C20_1int']\n",
    "cCols"
   ]
  },
  {
   "cell_type": "code",
   "execution_count": 23,
   "metadata": {
    "execution": {
     "iopub.execute_input": "2022-07-10T05:42:20.877943Z",
     "iopub.status.busy": "2022-07-10T05:42:20.877623Z",
     "iopub.status.idle": "2022-07-10T05:42:32.253227Z",
     "shell.execute_reply": "2022-07-10T05:42:32.252667Z",
     "shell.execute_reply.started": "2022-07-10T05:42:20.877904Z"
    }
   },
   "outputs": [
    {
     "data": {
      "application/vnd.jupyter.widget-view+json": {
       "model_id": "f7adbb5b8b714897bc2c0b1bd312bd9b",
       "version_major": 2,
       "version_minor": 0
      },
      "text/plain": [
       "VBox()"
      ]
     },
     "metadata": {},
     "output_type": "display_data"
    },
    {
     "data": {
      "application/vnd.jupyter.widget-view+json": {
       "model_id": "",
       "version_major": 2,
       "version_minor": 0
      },
      "text/plain": [
       "FloatProgress(value=0.0, bar_style='info', description='Progress:', layout=Layout(height='25px', width='50%'),…"
      ]
     },
     "metadata": {},
     "output_type": "display_data"
    }
   ],
   "source": [
    "# run all the categorical columns through the one hot encoder \n",
    "\n",
    "ohe = OneHotEncoderEstimator(inputCols=cCols, outputCols=[c+'Enc' for c in cCols])\n",
    "enc_model = ohe.fit(df)\n",
    "df = enc_model.transform(df)"
   ]
  },
  {
   "cell_type": "code",
   "execution_count": 24,
   "metadata": {
    "execution": {
     "iopub.execute_input": "2022-07-10T05:42:32.254720Z",
     "iopub.status.busy": "2022-07-10T05:42:32.254421Z",
     "iopub.status.idle": "2022-07-10T05:42:33.025599Z",
     "shell.execute_reply": "2022-07-10T05:42:33.025009Z",
     "shell.execute_reply.started": "2022-07-10T05:42:32.254687Z"
    }
   },
   "outputs": [
    {
     "data": {
      "application/vnd.jupyter.widget-view+json": {
       "model_id": "dc3357019cae48bd9400adaab83d1b03",
       "version_major": 2,
       "version_minor": 0
      },
      "text/plain": [
       "VBox()"
      ]
     },
     "metadata": {},
     "output_type": "display_data"
    },
    {
     "data": {
      "application/vnd.jupyter.widget-view+json": {
       "model_id": "",
       "version_major": 2,
       "version_minor": 0
      },
      "text/plain": [
       "FloatProgress(value=0.0, bar_style='info', description='Progress:', layout=Layout(height='25px', width='50%'),…"
      ]
     },
     "metadata": {},
     "output_type": "display_data"
    }
   ],
   "source": [
    "# use the vector assember to combine all the encoded columns and the continuous variable columns \n",
    "\n",
    "# add the neumerical columns to the list of encoded traning columns\n",
    "trainCols = [c+'Enc' for c in cCols]\n",
    "trainCols += ['hour', 'day', 'dayofweek','user_hour_count','user_count']\n",
    "\n",
    "#configure the assembler object and use it to transform df\n",
    "assembler = VectorAssembler(inputCols=trainCols, outputCol='features')\n",
    "df = assembler.transform(df)"
   ]
  },
  {
   "cell_type": "code",
   "execution_count": 25,
   "metadata": {
    "execution": {
     "iopub.execute_input": "2022-07-10T05:42:33.026635Z",
     "iopub.status.busy": "2022-07-10T05:42:33.026464Z",
     "iopub.status.idle": "2022-07-10T05:42:33.306234Z",
     "shell.execute_reply": "2022-07-10T05:42:33.305613Z",
     "shell.execute_reply.started": "2022-07-10T05:42:33.026613Z"
    }
   },
   "outputs": [
    {
     "data": {
      "application/vnd.jupyter.widget-view+json": {
       "model_id": "47cbe1372d334a3d9e8a06e37fb21357",
       "version_major": 2,
       "version_minor": 0
      },
      "text/plain": [
       "VBox()"
      ]
     },
     "metadata": {},
     "output_type": "display_data"
    },
    {
     "data": {
      "application/vnd.jupyter.widget-view+json": {
       "model_id": "",
       "version_major": 2,
       "version_minor": 0
      },
      "text/plain": [
       "FloatProgress(value=0.0, bar_style='info', description='Progress:', layout=Layout(height='25px', width='50%'),…"
      ]
     },
     "metadata": {},
     "output_type": "display_data"
    }
   ],
   "source": [
    "# split the data into training and testing data set\n",
    "\n",
    "df_train, df_test = df.randomSplit([0.7,0.3])"
   ]
  },
  {
   "cell_type": "code",
   "execution_count": 26,
   "metadata": {
    "execution": {
     "iopub.execute_input": "2022-07-10T05:42:33.307534Z",
     "iopub.status.busy": "2022-07-10T05:42:33.307288Z",
     "iopub.status.idle": "2022-07-10T06:06:16.475132Z",
     "shell.execute_reply": "2022-07-10T06:06:16.474549Z",
     "shell.execute_reply.started": "2022-07-10T05:42:33.307499Z"
    }
   },
   "outputs": [
    {
     "data": {
      "application/vnd.jupyter.widget-view+json": {
       "model_id": "c4534f0d35de42e1946f14e615216fa5",
       "version_major": 2,
       "version_minor": 0
      },
      "text/plain": [
       "VBox()"
      ]
     },
     "metadata": {},
     "output_type": "display_data"
    },
    {
     "data": {
      "application/vnd.jupyter.widget-view+json": {
       "model_id": "",
       "version_major": 2,
       "version_minor": 0
      },
      "text/plain": [
       "FloatProgress(value=0.0, bar_style='info', description='Progress:', layout=Layout(height='25px', width='50%'),…"
      ]
     },
     "metadata": {},
     "output_type": "display_data"
    }
   ],
   "source": [
    "# train model in the training dataset\n",
    "\n",
    "# import the logistic model\n",
    "from pyspark.ml.classification import LogisticRegression\n",
    "\n",
    "# create the logistic model, configure it and call fit it to the data. \n",
    "lr = LogisticRegression(featuresCol='features', labelCol='y')\n",
    "model = lr.fit(df_train)"
   ]
  },
  {
   "cell_type": "code",
   "execution_count": 27,
   "metadata": {
    "execution": {
     "iopub.execute_input": "2022-07-10T06:06:16.476126Z",
     "iopub.status.busy": "2022-07-10T06:06:16.475922Z",
     "iopub.status.idle": "2022-07-10T06:07:08.394505Z",
     "shell.execute_reply": "2022-07-10T06:07:08.393590Z",
     "shell.execute_reply.started": "2022-07-10T06:06:16.476089Z"
    }
   },
   "outputs": [
    {
     "data": {
      "application/vnd.jupyter.widget-view+json": {
       "model_id": "9bbca045e84e4d2ab07d4ca807160a95",
       "version_major": 2,
       "version_minor": 0
      },
      "text/plain": [
       "VBox()"
      ]
     },
     "metadata": {},
     "output_type": "display_data"
    },
    {
     "data": {
      "application/vnd.jupyter.widget-view+json": {
       "model_id": "",
       "version_major": 2,
       "version_minor": 0
      },
      "text/plain": [
       "FloatProgress(value=0.0, bar_style='info', description='Progress:', layout=Layout(height='25px', width='50%'),…"
      ]
     },
     "metadata": {},
     "output_type": "display_data"
    },
    {
     "name": "stdout",
     "output_type": "stream",
     "text": [
      "[0.9948645937813441, 0.02392626005099039]"
     ]
    }
   ],
   "source": [
    "# use the model to predict the class labels of test data. \n",
    "\n",
    "result_test = model.evaluate(df_test)\n",
    "\n",
    "result_test.recallByLabel"
   ]
  },
  {
   "cell_type": "code",
   "execution_count": 28,
   "metadata": {
    "execution": {
     "iopub.execute_input": "2022-07-10T06:07:08.396152Z",
     "iopub.status.busy": "2022-07-10T06:07:08.395877Z",
     "iopub.status.idle": "2022-07-10T06:07:21.785471Z",
     "shell.execute_reply": "2022-07-10T06:07:21.784725Z",
     "shell.execute_reply.started": "2022-07-10T06:07:08.396116Z"
    },
    "tags": []
   },
   "outputs": [
    {
     "data": {
      "application/vnd.jupyter.widget-view+json": {
       "model_id": "d3fd14e0ebbd4680b76eea840695f08d",
       "version_major": 2,
       "version_minor": 0
      },
      "text/plain": [
       "VBox()"
      ]
     },
     "metadata": {},
     "output_type": "display_data"
    },
    {
     "data": {
      "application/vnd.jupyter.widget-view+json": {
       "model_id": "",
       "version_major": 2,
       "version_minor": 0
      },
      "text/plain": [
       "FloatProgress(value=0.0, bar_style='info', description='Progress:', layout=Layout(height='25px', width='50%'),…"
      ]
     },
     "metadata": {},
     "output_type": "display_data"
    }
   ],
   "source": [
    "# Write the prediction data frame so that when you need it you can directly call that dataframe. No need to train again\n",
    "# use your AWS account to create an S3 bucket \n",
    "\n",
    "# create an S3 buket in your aws account.write the data there.\n",
    "result_test.predictions.coalesce(1).write.option(\"header\", \"true\").parquet(\"s3://machine-learning-upgrad-bucket/testresult1.parquet\")\n",
    "\n",
    "# parquet format is necessary as few columns in the dataframe are in dense vector format and you cannot save them in csv format.\n",
    "# coalesce here is used to make sure the file written a single file. If this is not set the written file will be inparts. "
   ]
  },
  {
   "cell_type": "markdown",
   "metadata": {},
   "source": [
    "At this point you can terminate the m4.xlarge cluster and start a m4.large cluster then continue further. "
   ]
  }
 ],
 "metadata": {
  "kernelspec": {
   "display_name": "PySpark",
   "language": "python",
   "name": "pysparkkernel"
  },
  "language_info": {
   "codemirror_mode": {
    "name": "python",
    "version": 3
   },
   "file_extension": ".py",
   "mimetype": "text/x-python",
   "name": "pyspark",
   "pygments_lexer": "python3"
  }
 },
 "nbformat": 4,
 "nbformat_minor": 4
}
