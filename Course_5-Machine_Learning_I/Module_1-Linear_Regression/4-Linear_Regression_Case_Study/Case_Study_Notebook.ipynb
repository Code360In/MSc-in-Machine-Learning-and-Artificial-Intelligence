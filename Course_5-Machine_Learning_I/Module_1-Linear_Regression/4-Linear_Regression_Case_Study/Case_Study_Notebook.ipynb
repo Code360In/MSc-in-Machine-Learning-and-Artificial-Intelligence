{
 "cells": [
  {
   "cell_type": "code",
   "execution_count": 1,
   "metadata": {
    "execution": {
     "iopub.execute_input": "2022-06-24T19:12:01.132210Z",
     "iopub.status.busy": "2022-06-24T19:12:01.131894Z",
     "iopub.status.idle": "2022-06-24T19:12:25.845017Z",
     "shell.execute_reply": "2022-06-24T19:12:25.844313Z",
     "shell.execute_reply.started": "2022-06-24T19:12:01.132181Z"
    },
    "tags": []
   },
   "outputs": [
    {
     "data": {
      "application/vnd.jupyter.widget-view+json": {
       "model_id": "839ae7894c8b4fe0900a24481525993e",
       "version_major": 2,
       "version_minor": 0
      },
      "text/plain": [
       "VBox()"
      ]
     },
     "metadata": {},
     "output_type": "display_data"
    },
    {
     "name": "stdout",
     "output_type": "stream",
     "text": [
      "Starting Spark application\n"
     ]
    },
    {
     "data": {
      "text/html": [
       "<table>\n",
       "<tr><th>ID</th><th>YARN Application ID</th><th>Kind</th><th>State</th><th>Spark UI</th><th>Driver log</th><th>User</th><th>Current session?</th></tr><tr><td>2</td><td>application_1656091988918_0003</td><td>pyspark</td><td>idle</td><td><a target=\"_blank\" href=\"http://ip-172-31-17-63.ec2.internal:20888/proxy/application_1656091988918_0003/\" class=\"emr-proxy-link\" emr-resource=\"j-2LZNKGUH6FYWA\n",
       "\" application-id=\"application_1656091988918_0003\">Link</a></td><td><a target=\"_blank\" href=\"http://ip-172-31-31-141.ec2.internal:8042/node/containerlogs/container_1656091988918_0003_01_000001/livy\" >Link</a></td><td>None</td><td>✔</td></tr></table>"
      ],
      "text/plain": [
       "<IPython.core.display.HTML object>"
      ]
     },
     "metadata": {},
     "output_type": "display_data"
    },
    {
     "data": {
      "application/vnd.jupyter.widget-view+json": {
       "model_id": "",
       "version_major": 2,
       "version_minor": 0
      },
      "text/plain": [
       "FloatProgress(value=0.0, bar_style='info', description='Progress:', layout=Layout(height='25px', width='50%'),…"
      ]
     },
     "metadata": {},
     "output_type": "display_data"
    },
    {
     "name": "stdout",
     "output_type": "stream",
     "text": [
      "SparkSession available as 'spark'.\n"
     ]
    },
    {
     "data": {
      "application/vnd.jupyter.widget-view+json": {
       "model_id": "",
       "version_major": 2,
       "version_minor": 0
      },
      "text/plain": [
       "FloatProgress(value=0.0, bar_style='info', description='Progress:', layout=Layout(height='25px', width='50%'),…"
      ]
     },
     "metadata": {},
     "output_type": "display_data"
    },
    {
     "name": "stdout",
     "output_type": "stream",
     "text": [
      "<pyspark.sql.session.SparkSession object at 0x7f3024386810>"
     ]
    }
   ],
   "source": [
    "spark"
   ]
  },
  {
   "cell_type": "code",
   "execution_count": 2,
   "metadata": {
    "execution": {
     "iopub.execute_input": "2022-06-24T19:12:25.846531Z",
     "iopub.status.busy": "2022-06-24T19:12:25.846289Z",
     "iopub.status.idle": "2022-06-24T19:14:07.616854Z",
     "shell.execute_reply": "2022-06-24T19:14:07.616144Z",
     "shell.execute_reply.started": "2022-06-24T19:12:25.846498Z"
    },
    "tags": []
   },
   "outputs": [
    {
     "data": {
      "application/vnd.jupyter.widget-view+json": {
       "model_id": "f91b289412b24c09832011955280c387",
       "version_major": 2,
       "version_minor": 0
      },
      "text/plain": [
       "VBox()"
      ]
     },
     "metadata": {},
     "output_type": "display_data"
    },
    {
     "data": {
      "application/vnd.jupyter.widget-view+json": {
       "model_id": "",
       "version_major": 2,
       "version_minor": 0
      },
      "text/plain": [
       "FloatProgress(value=0.0, bar_style='info', description='Progress:', layout=Layout(height='25px', width='50%'),…"
      ]
     },
     "metadata": {},
     "output_type": "display_data"
    },
    {
     "name": "stdout",
     "output_type": "stream",
     "text": [
      "DataFrame[key: timestamp, fare_amount: double, pickup_datetime: string, pickup_longitude: double, pickup_latitude: double, dropoff_longitude: double, dropoff_latitude: double, passenger_count: int]"
     ]
    }
   ],
   "source": [
    "df = sqlContext.read.csv('s3a://linear-regression-mlc/train.csv', header=True, inferSchema=True)\n",
    "# Using a smaller dataset of 10M rows\n",
    "df = df.limit(1_000_000)\n",
    "df = df.dropna()\n",
    "df.cache()"
   ]
  },
  {
   "cell_type": "code",
   "execution_count": 3,
   "metadata": {
    "execution": {
     "iopub.execute_input": "2022-06-24T19:14:07.618193Z",
     "iopub.status.busy": "2022-06-24T19:14:07.618024Z",
     "iopub.status.idle": "2022-06-24T19:15:49.218507Z",
     "shell.execute_reply": "2022-06-24T19:15:49.217836Z",
     "shell.execute_reply.started": "2022-06-24T19:14:07.618171Z"
    },
    "tags": []
   },
   "outputs": [
    {
     "data": {
      "application/vnd.jupyter.widget-view+json": {
       "model_id": "3b20a9fab4da4021bfd3f848a5987ef7",
       "version_major": 2,
       "version_minor": 0
      },
      "text/plain": [
       "VBox()"
      ]
     },
     "metadata": {},
     "output_type": "display_data"
    },
    {
     "data": {
      "application/vnd.jupyter.widget-view+json": {
       "model_id": "",
       "version_major": 2,
       "version_minor": 0
      },
      "text/plain": [
       "FloatProgress(value=0.0, bar_style='info', description='Progress:', layout=Layout(height='25px', width='50%'),…"
      ]
     },
     "metadata": {},
     "output_type": "display_data"
    },
    {
     "name": "stdout",
     "output_type": "stream",
     "text": [
      "+-------------------+-----------+--------------------+------------------+-----------------+-----------------+-----------------+---------------+\n",
      "|                key|fare_amount|     pickup_datetime|  pickup_longitude|  pickup_latitude|dropoff_longitude| dropoff_latitude|passenger_count|\n",
      "+-------------------+-----------+--------------------+------------------+-----------------+-----------------+-----------------+---------------+\n",
      "|2010-02-08 22:14:00|        6.5|2010-02-08 22:14:...|        -73.948425|        40.774048|       -73.965362|        40.757485|              1|\n",
      "|2010-06-18 15:26:00|       13.3|2010-06-18 15:26:...|        -73.976297|        40.789097|       -74.004615|        40.742228|              5|\n",
      "|2014-11-18 20:33:40|        6.5|2014-11-18 20:33:...|        -73.982605|        40.762357|       -73.995942|        40.753806|              1|\n",
      "|2011-06-14 20:38:00|       20.5|2011-06-14 20:38:...|        -74.009922|        40.720078|       -73.955662|        40.783623|              1|\n",
      "|2011-06-21 07:08:16|       12.9|2011-06-21 07:08:...|        -73.988674|        40.769243|       -74.013859|          40.7148|              1|\n",
      "|2009-02-10 19:17:09|        8.7|2009-02-10 19:17:...|        -73.984701|         40.75292|       -73.975942|        40.753268|              1|\n",
      "|2009-08-07 22:03:00|        8.1|2009-08-07 22:03:...|        -73.997858|        40.735862|       -73.970953|        40.748578|              1|\n",
      "|2009-10-14 02:38:00|        5.7|2009-10-14 02:38:...|        -74.004987|        40.751317|       -74.005983|        40.739782|              2|\n",
      "|2012-07-13 15:01:23|       49.8|2012-07-13 15:01:...|        -73.971699|        40.749703|       -73.783315|        40.643829|              1|\n",
      "|2013-11-22 00:09:00|        5.0|2013-11-22 00:09:...|        -73.995747|        40.731917|       -73.991752|        40.727147|              2|\n",
      "|2014-10-30 11:08:00|        6.0|2014-10-30 11:08:...|        -73.974718|        40.754657|       -73.980602|        40.745572|              1|\n",
      "|2012-02-16 04:11:14|       11.7|2012-02-16 04:11:...|        -73.968726|        40.761735|       -74.005537|        40.726763|              1|\n",
      "|2012-12-04 15:46:10|        6.5|2012-12-04 15:46:...|        -73.969647|        40.759351|       -73.953085|        40.772864|              1|\n",
      "|2013-05-11 23:57:00|       11.5|2013-05-11 23:57:...|        -73.981385|        40.733032|       -73.956017|        40.776155|              6|\n",
      "|2010-12-08 06:27:46|      19.07|2010-12-08 06:27:...|        -73.982321|        40.739807|       -73.894669|        40.729073|              1|\n",
      "|2011-03-29 02:46:00|        6.1|2011-03-29 02:46:...|        -73.967212|        40.758777|       -73.980225|        40.738887|              5|\n",
      "|2014-01-13 22:43:00|       16.5|2014-01-13 22:43:...|        -73.981832|        40.767775|        -73.95085|        40.784257|              1|\n",
      "|2014-04-30 18:09:00|       16.5|2014-04-30 18:09:...|        -73.977805|        40.764342|       -73.990932|        40.756247|              5|\n",
      "|2015-03-10 18:33:13|       10.0|2015-03-10 18:33:...|-73.95569610595703|40.77937698364258|-73.9319076538086|40.79793930053711|              1|\n",
      "|2012-01-10 15:53:00|        7.7|2012-01-10 15:53:...|        -73.968432|        40.758957|       -73.987983|        40.748905|              1|\n",
      "+-------------------+-----------+--------------------+------------------+-----------------+-----------------+-----------------+---------------+\n",
      "only showing top 20 rows"
     ]
    }
   ],
   "source": [
    "df.show()"
   ]
  },
  {
   "cell_type": "code",
   "execution_count": 4,
   "metadata": {
    "execution": {
     "iopub.execute_input": "2022-06-24T19:15:49.220199Z",
     "iopub.status.busy": "2022-06-24T19:15:49.219947Z",
     "iopub.status.idle": "2022-06-24T19:15:49.483364Z",
     "shell.execute_reply": "2022-06-24T19:15:49.482689Z",
     "shell.execute_reply.started": "2022-06-24T19:15:49.220160Z"
    }
   },
   "outputs": [
    {
     "data": {
      "application/vnd.jupyter.widget-view+json": {
       "model_id": "8353cdca480742d1b45001bac9b5698b",
       "version_major": 2,
       "version_minor": 0
      },
      "text/plain": [
       "VBox()"
      ]
     },
     "metadata": {},
     "output_type": "display_data"
    },
    {
     "data": {
      "application/vnd.jupyter.widget-view+json": {
       "model_id": "",
       "version_major": 2,
       "version_minor": 0
      },
      "text/plain": [
       "FloatProgress(value=0.0, bar_style='info', description='Progress:', layout=Layout(height='25px', width='50%'),…"
      ]
     },
     "metadata": {},
     "output_type": "display_data"
    }
   ],
   "source": [
    "from pyspark.ml.feature import VectorAssembler\n",
    "from pyspark.ml.regression import LinearRegression"
   ]
  },
  {
   "cell_type": "code",
   "execution_count": 5,
   "metadata": {
    "execution": {
     "iopub.execute_input": "2022-06-24T19:15:49.484703Z",
     "iopub.status.busy": "2022-06-24T19:15:49.484449Z",
     "iopub.status.idle": "2022-06-24T19:15:49.754290Z",
     "shell.execute_reply": "2022-06-24T19:15:49.753554Z",
     "shell.execute_reply.started": "2022-06-24T19:15:49.484666Z"
    },
    "tags": []
   },
   "outputs": [
    {
     "data": {
      "application/vnd.jupyter.widget-view+json": {
       "model_id": "9a2934c3eb0e45c686862614a83f1c39",
       "version_major": 2,
       "version_minor": 0
      },
      "text/plain": [
       "VBox()"
      ]
     },
     "metadata": {},
     "output_type": "display_data"
    },
    {
     "data": {
      "application/vnd.jupyter.widget-view+json": {
       "model_id": "",
       "version_major": 2,
       "version_minor": 0
      },
      "text/plain": [
       "FloatProgress(value=0.0, bar_style='info', description='Progress:', layout=Layout(height='25px', width='50%'),…"
      ]
     },
     "metadata": {},
     "output_type": "display_data"
    }
   ],
   "source": [
    "inputCols = [\"dropoff_latitude\",\n",
    "             \"dropoff_longitude\",\n",
    "             \"pickup_latitude\",\n",
    "             \"pickup_longitude\",\n",
    "             \"passenger_count\"]\n",
    "assembler = VectorAssembler(inputCols = inputCols , outputCol = 'features')\n",
    "dataset = assembler.transform(df)"
   ]
  },
  {
   "cell_type": "code",
   "execution_count": 6,
   "metadata": {
    "execution": {
     "iopub.execute_input": "2022-06-24T19:15:49.755786Z",
     "iopub.status.busy": "2022-06-24T19:15:49.755391Z",
     "iopub.status.idle": "2022-06-24T19:15:59.092623Z",
     "shell.execute_reply": "2022-06-24T19:15:59.092020Z",
     "shell.execute_reply.started": "2022-06-24T19:15:49.755727Z"
    }
   },
   "outputs": [
    {
     "data": {
      "application/vnd.jupyter.widget-view+json": {
       "model_id": "b51ba4cf149843be9abeaae2347898a4",
       "version_major": 2,
       "version_minor": 0
      },
      "text/plain": [
       "VBox()"
      ]
     },
     "metadata": {},
     "output_type": "display_data"
    },
    {
     "data": {
      "application/vnd.jupyter.widget-view+json": {
       "model_id": "",
       "version_major": 2,
       "version_minor": 0
      },
      "text/plain": [
       "FloatProgress(value=0.0, bar_style='info', description='Progress:', layout=Layout(height='25px', width='50%'),…"
      ]
     },
     "metadata": {},
     "output_type": "display_data"
    }
   ],
   "source": [
    "lr = LinearRegression(featuresCol = 'features', labelCol = 'fare_amount')\n",
    "model = lr.fit(dataset)\n",
    "summary = model.evaluate(dataset)"
   ]
  },
  {
   "cell_type": "code",
   "execution_count": 7,
   "metadata": {
    "execution": {
     "iopub.execute_input": "2022-06-24T19:15:59.093642Z",
     "iopub.status.busy": "2022-06-24T19:15:59.093473Z",
     "iopub.status.idle": "2022-06-24T19:15:59.148767Z",
     "shell.execute_reply": "2022-06-24T19:15:59.148118Z",
     "shell.execute_reply.started": "2022-06-24T19:15:59.093620Z"
    }
   },
   "outputs": [
    {
     "data": {
      "application/vnd.jupyter.widget-view+json": {
       "model_id": "d98615ef731244bda13c8f9faea6ae6f",
       "version_major": 2,
       "version_minor": 0
      },
      "text/plain": [
       "VBox()"
      ]
     },
     "metadata": {},
     "output_type": "display_data"
    },
    {
     "data": {
      "application/vnd.jupyter.widget-view+json": {
       "model_id": "",
       "version_major": 2,
       "version_minor": 0
      },
      "text/plain": [
       "FloatProgress(value=0.0, bar_style='info', description='Progress:', layout=Layout(height='25px', width='50%'),…"
      ]
     },
     "metadata": {},
     "output_type": "display_data"
    },
    {
     "name": "stdout",
     "output_type": "stream",
     "text": [
      "0.000245481100044298"
     ]
    }
   ],
   "source": [
    "summary.r2"
   ]
  },
  {
   "cell_type": "code",
   "execution_count": 8,
   "metadata": {
    "execution": {
     "iopub.execute_input": "2022-06-24T19:15:59.151530Z",
     "iopub.status.busy": "2022-06-24T19:15:59.151285Z",
     "iopub.status.idle": "2022-06-24T19:15:59.932291Z",
     "shell.execute_reply": "2022-06-24T19:15:59.931543Z",
     "shell.execute_reply.started": "2022-06-24T19:15:59.151495Z"
    }
   },
   "outputs": [
    {
     "data": {
      "application/vnd.jupyter.widget-view+json": {
       "model_id": "4cf94903e3784ef7bb168ad7e284a7fd",
       "version_major": 2,
       "version_minor": 0
      },
      "text/plain": [
       "VBox()"
      ]
     },
     "metadata": {},
     "output_type": "display_data"
    },
    {
     "data": {
      "application/vnd.jupyter.widget-view+json": {
       "model_id": "",
       "version_major": 2,
       "version_minor": 0
      },
      "text/plain": [
       "FloatProgress(value=0.0, bar_style='info', description='Progress:', layout=Layout(height='25px', width='50%'),…"
      ]
     },
     "metadata": {},
     "output_type": "display_data"
    },
    {
     "name": "stdout",
     "output_type": "stream",
     "text": [
      "[Row(max(pickup_latitude)=2009.26628)]"
     ]
    }
   ],
   "source": [
    "df.agg({'pickup_latitude':'max'}).collect()"
   ]
  },
  {
   "cell_type": "code",
   "execution_count": 9,
   "metadata": {
    "execution": {
     "iopub.execute_input": "2022-06-24T19:15:59.934328Z",
     "iopub.status.busy": "2022-06-24T19:15:59.934075Z",
     "iopub.status.idle": "2022-06-24T19:16:00.206477Z",
     "shell.execute_reply": "2022-06-24T19:16:00.205681Z",
     "shell.execute_reply.started": "2022-06-24T19:15:59.934293Z"
    }
   },
   "outputs": [
    {
     "data": {
      "application/vnd.jupyter.widget-view+json": {
       "model_id": "96c16d6b2e104bbebe295e5e925e01fc",
       "version_major": 2,
       "version_minor": 0
      },
      "text/plain": [
       "VBox()"
      ]
     },
     "metadata": {},
     "output_type": "display_data"
    },
    {
     "data": {
      "application/vnd.jupyter.widget-view+json": {
       "model_id": "",
       "version_major": 2,
       "version_minor": 0
      },
      "text/plain": [
       "FloatProgress(value=0.0, bar_style='info', description='Progress:', layout=Layout(height='25px', width='50%'),…"
      ]
     },
     "metadata": {},
     "output_type": "display_data"
    }
   ],
   "source": [
    "#NYC lies between 73 and 75 degrees West, and 40 and 42 degrees north\n",
    "\n",
    "TOP, BOTTOM, LEFT, RIGHT = 42, 40 ,-75, -73\n",
    "df = df.filter(df['pickup_latitude'] >= BOTTOM)\n",
    "df = df.filter(df['pickup_latitude'] <= TOP)\n",
    "df = df.filter(df['pickup_longitude'] <= RIGHT)\n",
    "df = df.filter(df['pickup_longitude'] >= LEFT)\n",
    "\n",
    "df = df.filter(df['dropoff_latitude'] >= BOTTOM)\n",
    "df = df.filter(df['dropoff_latitude'] <= TOP)\n",
    "df = df.filter(df['dropoff_longitude'] <= RIGHT)\n",
    "df = df.filter(df['dropoff_longitude'] >= LEFT)"
   ]
  },
  {
   "cell_type": "code",
   "execution_count": 10,
   "metadata": {
    "execution": {
     "iopub.execute_input": "2022-06-24T19:16:00.208207Z",
     "iopub.status.busy": "2022-06-24T19:16:00.207957Z",
     "iopub.status.idle": "2022-06-24T19:16:01.039317Z",
     "shell.execute_reply": "2022-06-24T19:16:01.038619Z",
     "shell.execute_reply.started": "2022-06-24T19:16:00.208172Z"
    }
   },
   "outputs": [
    {
     "data": {
      "application/vnd.jupyter.widget-view+json": {
       "model_id": "5597f044108846cead41b990c89c2c77",
       "version_major": 2,
       "version_minor": 0
      },
      "text/plain": [
       "VBox()"
      ]
     },
     "metadata": {},
     "output_type": "display_data"
    },
    {
     "data": {
      "application/vnd.jupyter.widget-view+json": {
       "model_id": "",
       "version_major": 2,
       "version_minor": 0
      },
      "text/plain": [
       "FloatProgress(value=0.0, bar_style='info', description='Progress:', layout=Layout(height='25px', width='50%'),…"
      ]
     },
     "metadata": {},
     "output_type": "display_data"
    },
    {
     "name": "stdout",
     "output_type": "stream",
     "text": [
      "978872"
     ]
    }
   ],
   "source": [
    "df.count()"
   ]
  },
  {
   "cell_type": "code",
   "execution_count": 11,
   "metadata": {
    "execution": {
     "iopub.execute_input": "2022-06-24T19:16:01.040813Z",
     "iopub.status.busy": "2022-06-24T19:16:01.040550Z",
     "iopub.status.idle": "2022-06-24T19:16:01.808391Z",
     "shell.execute_reply": "2022-06-24T19:16:01.807652Z",
     "shell.execute_reply.started": "2022-06-24T19:16:01.040775Z"
    }
   },
   "outputs": [
    {
     "data": {
      "application/vnd.jupyter.widget-view+json": {
       "model_id": "07481dce8b6d4cfbaac23b054af5fba0",
       "version_major": 2,
       "version_minor": 0
      },
      "text/plain": [
       "VBox()"
      ]
     },
     "metadata": {},
     "output_type": "display_data"
    },
    {
     "data": {
      "application/vnd.jupyter.widget-view+json": {
       "model_id": "",
       "version_major": 2,
       "version_minor": 0
      },
      "text/plain": [
       "FloatProgress(value=0.0, bar_style='info', description='Progress:', layout=Layout(height='25px', width='50%'),…"
      ]
     },
     "metadata": {},
     "output_type": "display_data"
    },
    {
     "name": "stdout",
     "output_type": "stream",
     "text": [
      "[Row(min(passenger_count)=0)]"
     ]
    }
   ],
   "source": [
    "df.agg({'passenger_count':'min'}).collect()"
   ]
  },
  {
   "cell_type": "code",
   "execution_count": 12,
   "metadata": {
    "execution": {
     "iopub.execute_input": "2022-06-24T19:16:01.809519Z",
     "iopub.status.busy": "2022-06-24T19:16:01.809334Z",
     "iopub.status.idle": "2022-06-24T19:16:01.869668Z",
     "shell.execute_reply": "2022-06-24T19:16:01.868989Z",
     "shell.execute_reply.started": "2022-06-24T19:16:01.809494Z"
    }
   },
   "outputs": [
    {
     "data": {
      "application/vnd.jupyter.widget-view+json": {
       "model_id": "a0226df27f814eb9ab360c0fdb283d19",
       "version_major": 2,
       "version_minor": 0
      },
      "text/plain": [
       "VBox()"
      ]
     },
     "metadata": {},
     "output_type": "display_data"
    },
    {
     "data": {
      "application/vnd.jupyter.widget-view+json": {
       "model_id": "",
       "version_major": 2,
       "version_minor": 0
      },
      "text/plain": [
       "FloatProgress(value=0.0, bar_style='info', description='Progress:', layout=Layout(height='25px', width='50%'),…"
      ]
     },
     "metadata": {},
     "output_type": "display_data"
    }
   ],
   "source": [
    "df =df.filter(df['passenger_count']>0)"
   ]
  },
  {
   "cell_type": "code",
   "execution_count": 13,
   "metadata": {
    "execution": {
     "iopub.execute_input": "2022-06-24T19:16:01.870765Z",
     "iopub.status.busy": "2022-06-24T19:16:01.870603Z",
     "iopub.status.idle": "2022-06-24T19:16:02.803297Z",
     "shell.execute_reply": "2022-06-24T19:16:02.802635Z",
     "shell.execute_reply.started": "2022-06-24T19:16:01.870744Z"
    }
   },
   "outputs": [
    {
     "data": {
      "application/vnd.jupyter.widget-view+json": {
       "model_id": "c6f44b75ee9f4afd8410c52653b1bb70",
       "version_major": 2,
       "version_minor": 0
      },
      "text/plain": [
       "VBox()"
      ]
     },
     "metadata": {},
     "output_type": "display_data"
    },
    {
     "data": {
      "application/vnd.jupyter.widget-view+json": {
       "model_id": "",
       "version_major": 2,
       "version_minor": 0
      },
      "text/plain": [
       "FloatProgress(value=0.0, bar_style='info', description='Progress:', layout=Layout(height='25px', width='50%'),…"
      ]
     },
     "metadata": {},
     "output_type": "display_data"
    },
    {
     "name": "stdout",
     "output_type": "stream",
     "text": [
      "[Row(min(fare_amount)=-52.0)]"
     ]
    }
   ],
   "source": [
    "df.agg({'fare_amount':'min'}).collect()"
   ]
  },
  {
   "cell_type": "code",
   "execution_count": 14,
   "metadata": {
    "execution": {
     "iopub.execute_input": "2022-06-24T19:16:02.804683Z",
     "iopub.status.busy": "2022-06-24T19:16:02.804434Z",
     "iopub.status.idle": "2022-06-24T19:16:02.913354Z",
     "shell.execute_reply": "2022-06-24T19:16:02.912440Z",
     "shell.execute_reply.started": "2022-06-24T19:16:02.804646Z"
    }
   },
   "outputs": [
    {
     "data": {
      "application/vnd.jupyter.widget-view+json": {
       "model_id": "794d89601c9d412e8731b95af806bae7",
       "version_major": 2,
       "version_minor": 0
      },
      "text/plain": [
       "VBox()"
      ]
     },
     "metadata": {},
     "output_type": "display_data"
    },
    {
     "data": {
      "application/vnd.jupyter.widget-view+json": {
       "model_id": "",
       "version_major": 2,
       "version_minor": 0
      },
      "text/plain": [
       "FloatProgress(value=0.0, bar_style='info', description='Progress:', layout=Layout(height='25px', width='50%'),…"
      ]
     },
     "metadata": {},
     "output_type": "display_data"
    }
   ],
   "source": [
    "df =df.filter(df['fare_amount']>0)"
   ]
  },
  {
   "cell_type": "code",
   "execution_count": 15,
   "metadata": {
    "execution": {
     "iopub.execute_input": "2022-06-24T19:16:02.915679Z",
     "iopub.status.busy": "2022-06-24T19:16:02.915223Z",
     "iopub.status.idle": "2022-06-24T19:16:03.689923Z",
     "shell.execute_reply": "2022-06-24T19:16:03.689090Z",
     "shell.execute_reply.started": "2022-06-24T19:16:02.915639Z"
    }
   },
   "outputs": [
    {
     "data": {
      "application/vnd.jupyter.widget-view+json": {
       "model_id": "9ce7d70a734f49439dbae4cae0a978d7",
       "version_major": 2,
       "version_minor": 0
      },
      "text/plain": [
       "VBox()"
      ]
     },
     "metadata": {},
     "output_type": "display_data"
    },
    {
     "data": {
      "application/vnd.jupyter.widget-view+json": {
       "model_id": "",
       "version_major": 2,
       "version_minor": 0
      },
      "text/plain": [
       "FloatProgress(value=0.0, bar_style='info', description='Progress:', layout=Layout(height='25px', width='50%'),…"
      ]
     },
     "metadata": {},
     "output_type": "display_data"
    },
    {
     "name": "stdout",
     "output_type": "stream",
     "text": [
      "975428"
     ]
    }
   ],
   "source": [
    "df.count()"
   ]
  },
  {
   "cell_type": "code",
   "execution_count": 16,
   "metadata": {
    "execution": {
     "iopub.execute_input": "2022-06-24T19:16:03.691635Z",
     "iopub.status.busy": "2022-06-24T19:16:03.691116Z",
     "iopub.status.idle": "2022-06-24T19:16:03.965971Z",
     "shell.execute_reply": "2022-06-24T19:16:03.965372Z",
     "shell.execute_reply.started": "2022-06-24T19:16:03.691596Z"
    },
    "tags": []
   },
   "outputs": [
    {
     "data": {
      "application/vnd.jupyter.widget-view+json": {
       "model_id": "034c7cd288774c3b83b8acc5029de5d0",
       "version_major": 2,
       "version_minor": 0
      },
      "text/plain": [
       "VBox()"
      ]
     },
     "metadata": {},
     "output_type": "display_data"
    },
    {
     "data": {
      "application/vnd.jupyter.widget-view+json": {
       "model_id": "",
       "version_major": 2,
       "version_minor": 0
      },
      "text/plain": [
       "FloatProgress(value=0.0, bar_style='info', description='Progress:', layout=Layout(height='25px', width='50%'),…"
      ]
     },
     "metadata": {},
     "output_type": "display_data"
    }
   ],
   "source": [
    "inputCols = [\"dropoff_latitude\",\n",
    "             \"dropoff_longitude\",\n",
    "             \"pickup_latitude\",\n",
    "             \"pickup_longitude\",\n",
    "             \"passenger_count\"]\n",
    "assembler = VectorAssembler(inputCols = inputCols, outputCol = 'featuresClean')\n",
    "dataset = assembler.transform(df)"
   ]
  },
  {
   "cell_type": "code",
   "execution_count": 17,
   "metadata": {
    "execution": {
     "iopub.execute_input": "2022-06-24T19:16:03.966974Z",
     "iopub.status.busy": "2022-06-24T19:16:03.966803Z",
     "iopub.status.idle": "2022-06-24T19:16:11.318581Z",
     "shell.execute_reply": "2022-06-24T19:16:11.317808Z",
     "shell.execute_reply.started": "2022-06-24T19:16:03.966952Z"
    }
   },
   "outputs": [
    {
     "data": {
      "application/vnd.jupyter.widget-view+json": {
       "model_id": "f6b0220c70404c2c8496dcdc51a9a1b7",
       "version_major": 2,
       "version_minor": 0
      },
      "text/plain": [
       "VBox()"
      ]
     },
     "metadata": {},
     "output_type": "display_data"
    },
    {
     "data": {
      "application/vnd.jupyter.widget-view+json": {
       "model_id": "",
       "version_major": 2,
       "version_minor": 0
      },
      "text/plain": [
       "FloatProgress(value=0.0, bar_style='info', description='Progress:', layout=Layout(height='25px', width='50%'),…"
      ]
     },
     "metadata": {},
     "output_type": "display_data"
    }
   ],
   "source": [
    "lr = LinearRegression(featuresCol = 'featuresClean', labelCol = 'fare_amount')\n",
    "model = lr.fit(dataset)\n",
    "summary = model.evaluate(dataset)"
   ]
  },
  {
   "cell_type": "code",
   "execution_count": 18,
   "metadata": {
    "execution": {
     "iopub.execute_input": "2022-06-24T19:16:11.319715Z",
     "iopub.status.busy": "2022-06-24T19:16:11.319511Z",
     "iopub.status.idle": "2022-06-24T19:16:11.378562Z",
     "shell.execute_reply": "2022-06-24T19:16:11.377823Z",
     "shell.execute_reply.started": "2022-06-24T19:16:11.319684Z"
    }
   },
   "outputs": [
    {
     "data": {
      "application/vnd.jupyter.widget-view+json": {
       "model_id": "b712bff6927d4eb6a7444bb4d154a8df",
       "version_major": 2,
       "version_minor": 0
      },
      "text/plain": [
       "VBox()"
      ]
     },
     "metadata": {},
     "output_type": "display_data"
    },
    {
     "data": {
      "application/vnd.jupyter.widget-view+json": {
       "model_id": "",
       "version_major": 2,
       "version_minor": 0
      },
      "text/plain": [
       "FloatProgress(value=0.0, bar_style='info', description='Progress:', layout=Layout(height='25px', width='50%'),…"
      ]
     },
     "metadata": {},
     "output_type": "display_data"
    },
    {
     "name": "stdout",
     "output_type": "stream",
     "text": [
      "0.25088896249558956"
     ]
    }
   ],
   "source": [
    "summary.r2"
   ]
  },
  {
   "cell_type": "code",
   "execution_count": 19,
   "metadata": {
    "execution": {
     "iopub.execute_input": "2022-06-24T19:16:11.380030Z",
     "iopub.status.busy": "2022-06-24T19:16:11.379784Z",
     "iopub.status.idle": "2022-06-24T19:16:11.657633Z",
     "shell.execute_reply": "2022-06-24T19:16:11.656756Z",
     "shell.execute_reply.started": "2022-06-24T19:16:11.379995Z"
    }
   },
   "outputs": [
    {
     "data": {
      "application/vnd.jupyter.widget-view+json": {
       "model_id": "e43c6e6c7baf4632978149ac0e2a9f76",
       "version_major": 2,
       "version_minor": 0
      },
      "text/plain": [
       "VBox()"
      ]
     },
     "metadata": {},
     "output_type": "display_data"
    },
    {
     "data": {
      "application/vnd.jupyter.widget-view+json": {
       "model_id": "",
       "version_major": 2,
       "version_minor": 0
      },
      "text/plain": [
       "FloatProgress(value=0.0, bar_style='info', description='Progress:', layout=Layout(height='25px', width='50%'),…"
      ]
     },
     "metadata": {},
     "output_type": "display_data"
    },
    {
     "name": "stdout",
     "output_type": "stream",
     "text": [
      "+-------------------+-----------+--------------------+------------------+-----------------+-----------------+-----------------+---------------+\n",
      "|                key|fare_amount|     pickup_datetime|  pickup_longitude|  pickup_latitude|dropoff_longitude| dropoff_latitude|passenger_count|\n",
      "+-------------------+-----------+--------------------+------------------+-----------------+-----------------+-----------------+---------------+\n",
      "|2010-02-08 22:14:00|        6.5|2010-02-08 22:14:...|        -73.948425|        40.774048|       -73.965362|        40.757485|              1|\n",
      "|2010-06-18 15:26:00|       13.3|2010-06-18 15:26:...|        -73.976297|        40.789097|       -74.004615|        40.742228|              5|\n",
      "|2014-11-18 20:33:40|        6.5|2014-11-18 20:33:...|        -73.982605|        40.762357|       -73.995942|        40.753806|              1|\n",
      "|2011-06-14 20:38:00|       20.5|2011-06-14 20:38:...|        -74.009922|        40.720078|       -73.955662|        40.783623|              1|\n",
      "|2011-06-21 07:08:16|       12.9|2011-06-21 07:08:...|        -73.988674|        40.769243|       -74.013859|          40.7148|              1|\n",
      "|2009-02-10 19:17:09|        8.7|2009-02-10 19:17:...|        -73.984701|         40.75292|       -73.975942|        40.753268|              1|\n",
      "|2009-08-07 22:03:00|        8.1|2009-08-07 22:03:...|        -73.997858|        40.735862|       -73.970953|        40.748578|              1|\n",
      "|2009-10-14 02:38:00|        5.7|2009-10-14 02:38:...|        -74.004987|        40.751317|       -74.005983|        40.739782|              2|\n",
      "|2012-07-13 15:01:23|       49.8|2012-07-13 15:01:...|        -73.971699|        40.749703|       -73.783315|        40.643829|              1|\n",
      "|2013-11-22 00:09:00|        5.0|2013-11-22 00:09:...|        -73.995747|        40.731917|       -73.991752|        40.727147|              2|\n",
      "|2014-10-30 11:08:00|        6.0|2014-10-30 11:08:...|        -73.974718|        40.754657|       -73.980602|        40.745572|              1|\n",
      "|2012-02-16 04:11:14|       11.7|2012-02-16 04:11:...|        -73.968726|        40.761735|       -74.005537|        40.726763|              1|\n",
      "|2012-12-04 15:46:10|        6.5|2012-12-04 15:46:...|        -73.969647|        40.759351|       -73.953085|        40.772864|              1|\n",
      "|2013-05-11 23:57:00|       11.5|2013-05-11 23:57:...|        -73.981385|        40.733032|       -73.956017|        40.776155|              6|\n",
      "|2010-12-08 06:27:46|      19.07|2010-12-08 06:27:...|        -73.982321|        40.739807|       -73.894669|        40.729073|              1|\n",
      "|2011-03-29 02:46:00|        6.1|2011-03-29 02:46:...|        -73.967212|        40.758777|       -73.980225|        40.738887|              5|\n",
      "|2014-01-13 22:43:00|       16.5|2014-01-13 22:43:...|        -73.981832|        40.767775|        -73.95085|        40.784257|              1|\n",
      "|2014-04-30 18:09:00|       16.5|2014-04-30 18:09:...|        -73.977805|        40.764342|       -73.990932|        40.756247|              5|\n",
      "|2015-03-10 18:33:13|       10.0|2015-03-10 18:33:...|-73.95569610595703|40.77937698364258|-73.9319076538086|40.79793930053711|              1|\n",
      "|2012-01-10 15:53:00|        7.7|2012-01-10 15:53:...|        -73.968432|        40.758957|       -73.987983|        40.748905|              1|\n",
      "+-------------------+-----------+--------------------+------------------+-----------------+-----------------+-----------------+---------------+\n",
      "only showing top 20 rows"
     ]
    }
   ],
   "source": [
    "df.show()"
   ]
  },
  {
   "cell_type": "code",
   "execution_count": 20,
   "metadata": {
    "execution": {
     "iopub.execute_input": "2022-06-24T19:16:11.659154Z",
     "iopub.status.busy": "2022-06-24T19:16:11.658899Z",
     "iopub.status.idle": "2022-06-24T19:16:11.944648Z",
     "shell.execute_reply": "2022-06-24T19:16:11.940718Z",
     "shell.execute_reply.started": "2022-06-24T19:16:11.659119Z"
    }
   },
   "outputs": [
    {
     "data": {
      "application/vnd.jupyter.widget-view+json": {
       "model_id": "3fad85e1029b492882374917aec2b8ba",
       "version_major": 2,
       "version_minor": 0
      },
      "text/plain": [
       "VBox()"
      ]
     },
     "metadata": {},
     "output_type": "display_data"
    },
    {
     "data": {
      "application/vnd.jupyter.widget-view+json": {
       "model_id": "",
       "version_major": 2,
       "version_minor": 0
      },
      "text/plain": [
       "FloatProgress(value=0.0, bar_style='info', description='Progress:', layout=Layout(height='25px', width='50%'),…"
      ]
     },
     "metadata": {},
     "output_type": "display_data"
    },
    {
     "name": "stdout",
     "output_type": "stream",
     "text": [
      "+-----------------------+\n",
      "|pickup_datetime        |\n",
      "+-----------------------+\n",
      "|2010-02-08 22:14:00 UTC|\n",
      "|2010-06-18 15:26:00 UTC|\n",
      "|2014-11-18 20:33:40 UTC|\n",
      "|2011-06-14 20:38:00 UTC|\n",
      "|2011-06-21 07:08:16 UTC|\n",
      "|2009-02-10 19:17:09 UTC|\n",
      "|2009-08-07 22:03:00 UTC|\n",
      "|2009-10-14 02:38:00 UTC|\n",
      "|2012-07-13 15:01:23 UTC|\n",
      "|2013-11-22 00:09:00 UTC|\n",
      "|2014-10-30 11:08:00 UTC|\n",
      "|2012-02-16 04:11:14 UTC|\n",
      "|2012-12-04 15:46:10 UTC|\n",
      "|2013-05-11 23:57:00 UTC|\n",
      "|2010-12-08 06:27:46 UTC|\n",
      "|2011-03-29 02:46:00 UTC|\n",
      "|2014-01-13 22:43:00 UTC|\n",
      "|2014-04-30 18:09:00 UTC|\n",
      "|2015-03-10 18:33:13 UTC|\n",
      "|2012-01-10 15:53:00 UTC|\n",
      "+-----------------------+\n",
      "only showing top 20 rows"
     ]
    }
   ],
   "source": [
    "df.select(('pickup_datetime')).show(truncate=False)"
   ]
  },
  {
   "cell_type": "code",
   "execution_count": 21,
   "metadata": {
    "execution": {
     "iopub.execute_input": "2022-06-24T19:16:11.952717Z",
     "iopub.status.busy": "2022-06-24T19:16:11.952499Z",
     "iopub.status.idle": "2022-06-24T19:16:12.631225Z",
     "shell.execute_reply": "2022-06-24T19:16:12.467035Z",
     "shell.execute_reply.started": "2022-06-24T19:16:11.952693Z"
    }
   },
   "outputs": [
    {
     "data": {
      "application/vnd.jupyter.widget-view+json": {
       "model_id": "0993d76513084933bc431b4cc7b38458",
       "version_major": 2,
       "version_minor": 0
      },
      "text/plain": [
       "VBox()"
      ]
     },
     "metadata": {},
     "output_type": "display_data"
    },
    {
     "data": {
      "application/vnd.jupyter.widget-view+json": {
       "model_id": "",
       "version_major": 2,
       "version_minor": 0
      },
      "text/plain": [
       "FloatProgress(value=0.0, bar_style='info', description='Progress:', layout=Layout(height='25px', width='50%'),…"
      ]
     },
     "metadata": {},
     "output_type": "display_data"
    },
    {
     "name": "stdout",
     "output_type": "stream",
     "text": [
      "+-------------------+\n",
      "|datetime           |\n",
      "+-------------------+\n",
      "|2010-02-08 22:14:00|\n",
      "|2010-06-18 15:26:00|\n",
      "|2014-11-18 20:33:40|\n",
      "|2011-06-14 20:38:00|\n",
      "|2011-06-21 07:08:16|\n",
      "|2009-02-10 19:17:09|\n",
      "|2009-08-07 22:03:00|\n",
      "|2009-10-14 02:38:00|\n",
      "|2012-07-13 15:01:23|\n",
      "|2013-11-22 00:09:00|\n",
      "|2014-10-30 11:08:00|\n",
      "|2012-02-16 04:11:14|\n",
      "|2012-12-04 15:46:10|\n",
      "|2013-05-11 23:57:00|\n",
      "|2010-12-08 06:27:46|\n",
      "|2011-03-29 02:46:00|\n",
      "|2014-01-13 22:43:00|\n",
      "|2014-04-30 18:09:00|\n",
      "|2015-03-10 18:33:13|\n",
      "|2012-01-10 15:53:00|\n",
      "+-------------------+\n",
      "only showing top 20 rows"
     ]
    }
   ],
   "source": [
    "df=df.withColumn('datetime',df['pickup_datetime'].substr(0,19))\n",
    "df.select('datetime').show(truncate=False)"
   ]
  },
  {
   "cell_type": "code",
   "execution_count": 22,
   "metadata": {
    "execution": {
     "iopub.execute_input": "2022-06-24T19:16:12.632421Z",
     "iopub.status.busy": "2022-06-24T19:16:12.632244Z",
     "iopub.status.idle": "2022-06-24T19:16:12.694395Z",
     "shell.execute_reply": "2022-06-24T19:16:12.693725Z",
     "shell.execute_reply.started": "2022-06-24T19:16:12.632398Z"
    }
   },
   "outputs": [
    {
     "data": {
      "application/vnd.jupyter.widget-view+json": {
       "model_id": "f360e6182396494dbadff63ad1a4d1a1",
       "version_major": 2,
       "version_minor": 0
      },
      "text/plain": [
       "VBox()"
      ]
     },
     "metadata": {},
     "output_type": "display_data"
    },
    {
     "data": {
      "application/vnd.jupyter.widget-view+json": {
       "model_id": "",
       "version_major": 2,
       "version_minor": 0
      },
      "text/plain": [
       "FloatProgress(value=0.0, bar_style='info', description='Progress:', layout=Layout(height='25px', width='50%'),…"
      ]
     },
     "metadata": {},
     "output_type": "display_data"
    }
   ],
   "source": [
    "from pyspark.sql.functions import to_timestamp"
   ]
  },
  {
   "cell_type": "code",
   "execution_count": 23,
   "metadata": {
    "execution": {
     "iopub.execute_input": "2022-06-24T19:16:12.698251Z",
     "iopub.status.busy": "2022-06-24T19:16:12.698005Z",
     "iopub.status.idle": "2022-06-24T19:16:12.976409Z",
     "shell.execute_reply": "2022-06-24T19:16:12.975672Z",
     "shell.execute_reply.started": "2022-06-24T19:16:12.698216Z"
    }
   },
   "outputs": [
    {
     "data": {
      "application/vnd.jupyter.widget-view+json": {
       "model_id": "20b5a887d4684227af1fb59ceab26e91",
       "version_major": 2,
       "version_minor": 0
      },
      "text/plain": [
       "VBox()"
      ]
     },
     "metadata": {},
     "output_type": "display_data"
    },
    {
     "data": {
      "application/vnd.jupyter.widget-view+json": {
       "model_id": "",
       "version_major": 2,
       "version_minor": 0
      },
      "text/plain": [
       "FloatProgress(value=0.0, bar_style='info', description='Progress:', layout=Layout(height='25px', width='50%'),…"
      ]
     },
     "metadata": {},
     "output_type": "display_data"
    },
    {
     "name": "stdout",
     "output_type": "stream",
     "text": [
      "+-------------------+\n",
      "|timestamp          |\n",
      "+-------------------+\n",
      "|2010-02-08 22:14:00|\n",
      "|2010-06-18 15:26:00|\n",
      "|2014-11-18 20:33:40|\n",
      "|2011-06-14 20:38:00|\n",
      "|2011-06-21 07:08:16|\n",
      "|2009-02-10 19:17:09|\n",
      "|2009-08-07 22:03:00|\n",
      "|2009-10-14 02:38:00|\n",
      "|2012-07-13 15:01:23|\n",
      "|2013-11-22 00:09:00|\n",
      "|2014-10-30 11:08:00|\n",
      "|2012-02-16 04:11:14|\n",
      "|2012-12-04 15:46:10|\n",
      "|2013-05-11 23:57:00|\n",
      "|2010-12-08 06:27:46|\n",
      "|2011-03-29 02:46:00|\n",
      "|2014-01-13 22:43:00|\n",
      "|2014-04-30 18:09:00|\n",
      "|2015-03-10 18:33:13|\n",
      "|2012-01-10 15:53:00|\n",
      "+-------------------+\n",
      "only showing top 20 rows"
     ]
    }
   ],
   "source": [
    "df = df.withColumn('timestamp', to_timestamp(df['datetime']))\n",
    "df.select('timestamp').show(truncate =False)"
   ]
  },
  {
   "cell_type": "code",
   "execution_count": 24,
   "metadata": {
    "execution": {
     "iopub.execute_input": "2022-06-24T19:16:12.977755Z",
     "iopub.status.busy": "2022-06-24T19:16:12.977574Z",
     "iopub.status.idle": "2022-06-24T19:16:13.900746Z",
     "shell.execute_reply": "2022-06-24T19:16:13.899540Z",
     "shell.execute_reply.started": "2022-06-24T19:16:12.977732Z"
    }
   },
   "outputs": [
    {
     "data": {
      "application/vnd.jupyter.widget-view+json": {
       "model_id": "a3c57246236749819f1066d9ecb2a549",
       "version_major": 2,
       "version_minor": 0
      },
      "text/plain": [
       "VBox()"
      ]
     },
     "metadata": {},
     "output_type": "display_data"
    },
    {
     "data": {
      "application/vnd.jupyter.widget-view+json": {
       "model_id": "",
       "version_major": 2,
       "version_minor": 0
      },
      "text/plain": [
       "FloatProgress(value=0.0, bar_style='info', description='Progress:', layout=Layout(height='25px', width='50%'),…"
      ]
     },
     "metadata": {},
     "output_type": "display_data"
    },
    {
     "name": "stdout",
     "output_type": "stream",
     "text": [
      "+----+-----+---------+----+\n",
      "|year|month|dayofweek|hour|\n",
      "+----+-----+---------+----+\n",
      "|2010|2    |2        |22  |\n",
      "|2010|6    |6        |15  |\n",
      "|2014|11   |3        |20  |\n",
      "|2011|6    |3        |20  |\n",
      "|2011|6    |3        |7   |\n",
      "|2009|2    |3        |19  |\n",
      "|2009|8    |6        |22  |\n",
      "|2009|10   |4        |2   |\n",
      "|2012|7    |6        |15  |\n",
      "|2013|11   |6        |0   |\n",
      "|2014|10   |5        |11  |\n",
      "|2012|2    |5        |4   |\n",
      "|2012|12   |3        |15  |\n",
      "|2013|5    |7        |23  |\n",
      "|2010|12   |4        |6   |\n",
      "|2011|3    |3        |2   |\n",
      "|2014|1    |2        |22  |\n",
      "|2014|4    |4        |18  |\n",
      "|2015|3    |3        |18  |\n",
      "|2012|1    |3        |15  |\n",
      "+----+-----+---------+----+\n",
      "only showing top 20 rows"
     ]
    }
   ],
   "source": [
    "from pyspark.sql.functions import year,month,dayofweek, hour\n",
    "\n",
    "df = df.withColumn('year', year(df['timestamp']))\n",
    "df = df.withColumn('month', month(df['timestamp']))\n",
    "df = df.withColumn('dayofweek', dayofweek(df['timestamp']))\n",
    "df = df.withColumn('hour', hour(df['timestamp']))\n",
    "df.select('year','month', 'dayofweek', 'hour').show(truncate =  False)"
   ]
  },
  {
   "cell_type": "code",
   "execution_count": 25,
   "metadata": {
    "execution": {
     "iopub.execute_input": "2022-06-24T19:16:13.901806Z",
     "iopub.status.busy": "2022-06-24T19:16:13.901630Z",
     "iopub.status.idle": "2022-06-24T19:16:14.250159Z",
     "shell.execute_reply": "2022-06-24T19:16:14.249469Z",
     "shell.execute_reply.started": "2022-06-24T19:16:13.901783Z"
    }
   },
   "outputs": [
    {
     "data": {
      "application/vnd.jupyter.widget-view+json": {
       "model_id": "28ac7b9451c54c9cbc511898100323dd",
       "version_major": 2,
       "version_minor": 0
      },
      "text/plain": [
       "VBox()"
      ]
     },
     "metadata": {},
     "output_type": "display_data"
    },
    {
     "data": {
      "application/vnd.jupyter.widget-view+json": {
       "model_id": "",
       "version_major": 2,
       "version_minor": 0
      },
      "text/plain": [
       "FloatProgress(value=0.0, bar_style='info', description='Progress:', layout=Layout(height='25px', width='50%'),…"
      ]
     },
     "metadata": {},
     "output_type": "display_data"
    }
   ],
   "source": [
    "inputCols = [\"dropoff_latitude\",\n",
    "             \"dropoff_longitude\",\n",
    "             \"pickup_latitude\",\n",
    "             \"pickup_longitude\",\n",
    "             \"passenger_count\", \n",
    "             \"year\", \n",
    "             \"month\", \n",
    "             \"dayofweek\" , \n",
    "             \"hour\"]\n",
    "assembler = VectorAssembler(inputCols = inputCols, outputCol = 'featuresCleanWithDate')\n",
    "dataset = assembler.transform(df)"
   ]
  },
  {
   "cell_type": "code",
   "execution_count": 26,
   "metadata": {
    "execution": {
     "iopub.execute_input": "2022-06-24T19:16:14.251637Z",
     "iopub.status.busy": "2022-06-24T19:16:14.251379Z",
     "iopub.status.idle": "2022-06-24T19:16:35.674123Z",
     "shell.execute_reply": "2022-06-24T19:16:35.673413Z",
     "shell.execute_reply.started": "2022-06-24T19:16:14.251600Z"
    }
   },
   "outputs": [
    {
     "data": {
      "application/vnd.jupyter.widget-view+json": {
       "model_id": "cfe0717149c645c9ae303bb9b7b48de0",
       "version_major": 2,
       "version_minor": 0
      },
      "text/plain": [
       "VBox()"
      ]
     },
     "metadata": {},
     "output_type": "display_data"
    },
    {
     "data": {
      "application/vnd.jupyter.widget-view+json": {
       "model_id": "",
       "version_major": 2,
       "version_minor": 0
      },
      "text/plain": [
       "FloatProgress(value=0.0, bar_style='info', description='Progress:', layout=Layout(height='25px', width='50%'),…"
      ]
     },
     "metadata": {},
     "output_type": "display_data"
    }
   ],
   "source": [
    "lr = LinearRegression(featuresCol = 'featuresCleanWithDate', labelCol = 'fare_amount')\n",
    "model = lr.fit(dataset)\n",
    "summary = model.evaluate(dataset)"
   ]
  },
  {
   "cell_type": "code",
   "execution_count": 27,
   "metadata": {
    "execution": {
     "iopub.execute_input": "2022-06-24T19:16:35.675177Z",
     "iopub.status.busy": "2022-06-24T19:16:35.675001Z",
     "iopub.status.idle": "2022-06-24T19:16:36.119121Z",
     "shell.execute_reply": "2022-06-24T19:16:36.092362Z",
     "shell.execute_reply.started": "2022-06-24T19:16:35.675155Z"
    }
   },
   "outputs": [
    {
     "data": {
      "application/vnd.jupyter.widget-view+json": {
       "model_id": "8b16c961ef4f4f6e99f87684da8dc429",
       "version_major": 2,
       "version_minor": 0
      },
      "text/plain": [
       "VBox()"
      ]
     },
     "metadata": {},
     "output_type": "display_data"
    },
    {
     "data": {
      "application/vnd.jupyter.widget-view+json": {
       "model_id": "",
       "version_major": 2,
       "version_minor": 0
      },
      "text/plain": [
       "FloatProgress(value=0.0, bar_style='info', description='Progress:', layout=Layout(height='25px', width='50%'),…"
      ]
     },
     "metadata": {},
     "output_type": "display_data"
    },
    {
     "name": "stdout",
     "output_type": "stream",
     "text": [
      "+-------------------+\n",
      "|             NYTime|\n",
      "+-------------------+\n",
      "|2010-02-08 17:14:00|\n",
      "|2010-06-18 10:26:00|\n",
      "|2014-11-18 15:33:40|\n",
      "|2011-06-14 15:38:00|\n",
      "|2011-06-21 02:08:16|\n",
      "|2009-02-10 14:17:09|\n",
      "|2009-08-07 17:03:00|\n",
      "|2009-10-13 21:38:00|\n",
      "|2012-07-13 10:01:23|\n",
      "|2013-11-21 19:09:00|\n",
      "|2014-10-30 06:08:00|\n",
      "|2012-02-15 23:11:14|\n",
      "|2012-12-04 10:46:10|\n",
      "|2013-05-11 18:57:00|\n",
      "|2010-12-08 01:27:46|\n",
      "|2011-03-28 21:46:00|\n",
      "|2014-01-13 17:43:00|\n",
      "|2014-04-30 13:09:00|\n",
      "|2015-03-10 13:33:13|\n",
      "|2012-01-10 10:53:00|\n",
      "+-------------------+\n",
      "only showing top 20 rows"
     ]
    }
   ],
   "source": [
    "from pyspark.sql.functions import from_utc_timestamp\n",
    "df = df.withColumn('NYTime', from_utc_timestamp(df['timestamp'], 'EST'))\n",
    "df.select('NYTime').show()"
   ]
  },
  {
   "cell_type": "code",
   "execution_count": 28,
   "metadata": {
    "execution": {
     "iopub.execute_input": "2022-06-24T19:16:36.120297Z",
     "iopub.status.busy": "2022-06-24T19:16:36.120118Z",
     "iopub.status.idle": "2022-06-24T19:16:36.904548Z",
     "shell.execute_reply": "2022-06-24T19:16:36.903888Z",
     "shell.execute_reply.started": "2022-06-24T19:16:36.120275Z"
    }
   },
   "outputs": [
    {
     "data": {
      "application/vnd.jupyter.widget-view+json": {
       "model_id": "cf567764baba493a93f11d07272aeb12",
       "version_major": 2,
       "version_minor": 0
      },
      "text/plain": [
       "VBox()"
      ]
     },
     "metadata": {},
     "output_type": "display_data"
    },
    {
     "data": {
      "application/vnd.jupyter.widget-view+json": {
       "model_id": "",
       "version_major": 2,
       "version_minor": 0
      },
      "text/plain": [
       "FloatProgress(value=0.0, bar_style='info', description='Progress:', layout=Layout(height='25px', width='50%'),…"
      ]
     },
     "metadata": {},
     "output_type": "display_data"
    },
    {
     "name": "stdout",
     "output_type": "stream",
     "text": [
      "+----+-----+---------+----+\n",
      "|year|month|dayofweek|hour|\n",
      "+----+-----+---------+----+\n",
      "|2010|    2|        2|  17|\n",
      "|2010|    6|        6|  10|\n",
      "|2014|   11|        3|  15|\n",
      "|2011|    6|        3|  15|\n",
      "|2011|    6|        3|   2|\n",
      "|2009|    2|        3|  14|\n",
      "|2009|    8|        6|  17|\n",
      "|2009|   10|        3|  21|\n",
      "|2012|    7|        6|  10|\n",
      "|2013|   11|        5|  19|\n",
      "|2014|   10|        5|   6|\n",
      "|2012|    2|        4|  23|\n",
      "|2012|   12|        3|  10|\n",
      "|2013|    5|        7|  18|\n",
      "|2010|   12|        4|   1|\n",
      "|2011|    3|        2|  21|\n",
      "|2014|    1|        2|  17|\n",
      "|2014|    4|        4|  13|\n",
      "|2015|    3|        3|  13|\n",
      "|2012|    1|        3|  10|\n",
      "+----+-----+---------+----+\n",
      "only showing top 20 rows"
     ]
    }
   ],
   "source": [
    "from pyspark.sql.functions import year,month,dayofweek, hour\n",
    "\n",
    "df = df.withColumn('year', year(df['NYTime']))\n",
    "df = df.withColumn('month', month(df['NYTime']))\n",
    "df = df.withColumn('dayofweek', dayofweek(df['NYTime']))\n",
    "df = df.withColumn('hour', hour(df['NYTime']))\n",
    "df.select('year','month', 'dayofweek', 'hour').show()"
   ]
  },
  {
   "cell_type": "code",
   "execution_count": 29,
   "metadata": {
    "execution": {
     "iopub.execute_input": "2022-06-24T19:16:36.906209Z",
     "iopub.status.busy": "2022-06-24T19:16:36.905941Z",
     "iopub.status.idle": "2022-06-24T19:16:37.169447Z",
     "shell.execute_reply": "2022-06-24T19:16:37.168820Z",
     "shell.execute_reply.started": "2022-06-24T19:16:36.906161Z"
    }
   },
   "outputs": [
    {
     "data": {
      "application/vnd.jupyter.widget-view+json": {
       "model_id": "e0b79fe544364aa68fa8c97d615a7739",
       "version_major": 2,
       "version_minor": 0
      },
      "text/plain": [
       "VBox()"
      ]
     },
     "metadata": {},
     "output_type": "display_data"
    },
    {
     "data": {
      "application/vnd.jupyter.widget-view+json": {
       "model_id": "",
       "version_major": 2,
       "version_minor": 0
      },
      "text/plain": [
       "FloatProgress(value=0.0, bar_style='info', description='Progress:', layout=Layout(height='25px', width='50%'),…"
      ]
     },
     "metadata": {},
     "output_type": "display_data"
    }
   ],
   "source": [
    "inputCols = [\"dropoff_latitude\",\n",
    "             \"dropoff_longitude\",\n",
    "             \"pickup_latitude\",\n",
    "             \"pickup_longitude\",\n",
    "             \"passenger_count\", \n",
    "             \"year\", \n",
    "             \"month\", \n",
    "             \"dayofweek\" , \n",
    "             \"hour\"]\n",
    "assembler = VectorAssembler(inputCols = inputCols, outputCol = 'featuresCleanWithDate')\n",
    "dataset = assembler.transform(df)"
   ]
  },
  {
   "cell_type": "code",
   "execution_count": 30,
   "metadata": {
    "execution": {
     "iopub.execute_input": "2022-06-24T19:16:37.170512Z",
     "iopub.status.busy": "2022-06-24T19:16:37.170331Z",
     "iopub.status.idle": "2022-06-24T19:17:00.561825Z",
     "shell.execute_reply": "2022-06-24T19:17:00.560990Z",
     "shell.execute_reply.started": "2022-06-24T19:16:37.170489Z"
    }
   },
   "outputs": [
    {
     "data": {
      "application/vnd.jupyter.widget-view+json": {
       "model_id": "47b1f82c184c41d6b8ad7d0a9ad37eb2",
       "version_major": 2,
       "version_minor": 0
      },
      "text/plain": [
       "VBox()"
      ]
     },
     "metadata": {},
     "output_type": "display_data"
    },
    {
     "data": {
      "application/vnd.jupyter.widget-view+json": {
       "model_id": "",
       "version_major": 2,
       "version_minor": 0
      },
      "text/plain": [
       "FloatProgress(value=0.0, bar_style='info', description='Progress:', layout=Layout(height='25px', width='50%'),…"
      ]
     },
     "metadata": {},
     "output_type": "display_data"
    }
   ],
   "source": [
    "lr = LinearRegression(featuresCol = 'featuresCleanWithDate', labelCol = 'fare_amount')\n",
    "model = lr.fit(dataset)\n",
    "summary = model.evaluate(dataset)"
   ]
  },
  {
   "cell_type": "code",
   "execution_count": 31,
   "metadata": {
    "execution": {
     "iopub.execute_input": "2022-06-24T19:17:00.563196Z",
     "iopub.status.busy": "2022-06-24T19:17:00.562971Z",
     "iopub.status.idle": "2022-06-24T19:17:00.674726Z",
     "shell.execute_reply": "2022-06-24T19:17:00.674018Z",
     "shell.execute_reply.started": "2022-06-24T19:17:00.563166Z"
    }
   },
   "outputs": [
    {
     "data": {
      "application/vnd.jupyter.widget-view+json": {
       "model_id": "26ce927134244527a61b19e6a2f24874",
       "version_major": 2,
       "version_minor": 0
      },
      "text/plain": [
       "VBox()"
      ]
     },
     "metadata": {},
     "output_type": "display_data"
    },
    {
     "data": {
      "application/vnd.jupyter.widget-view+json": {
       "model_id": "",
       "version_major": 2,
       "version_minor": 0
      },
      "text/plain": [
       "FloatProgress(value=0.0, bar_style='info', description='Progress:', layout=Layout(height='25px', width='50%'),…"
      ]
     },
     "metadata": {},
     "output_type": "display_data"
    },
    {
     "name": "stdout",
     "output_type": "stream",
     "text": [
      "0.2644929006177078"
     ]
    }
   ],
   "source": [
    "summary.r2"
   ]
  },
  {
   "cell_type": "code",
   "execution_count": 32,
   "metadata": {
    "execution": {
     "iopub.execute_input": "2022-06-24T19:17:00.676186Z",
     "iopub.status.busy": "2022-06-24T19:17:00.675812Z",
     "iopub.status.idle": "2022-06-24T19:17:00.758831Z",
     "shell.execute_reply": "2022-06-24T19:17:00.758162Z",
     "shell.execute_reply.started": "2022-06-24T19:17:00.676148Z"
    }
   },
   "outputs": [
    {
     "data": {
      "application/vnd.jupyter.widget-view+json": {
       "model_id": "b097487ef2554cd2b0bd5a5752bf5fbe",
       "version_major": 2,
       "version_minor": 0
      },
      "text/plain": [
       "VBox()"
      ]
     },
     "metadata": {},
     "output_type": "display_data"
    },
    {
     "data": {
      "application/vnd.jupyter.widget-view+json": {
       "model_id": "",
       "version_major": 2,
       "version_minor": 0
      },
      "text/plain": [
       "FloatProgress(value=0.0, bar_style='info', description='Progress:', layout=Layout(height='25px', width='50%'),…"
      ]
     },
     "metadata": {},
     "output_type": "display_data"
    }
   ],
   "source": [
    "x1 = df['pickup_longitude']\n",
    "y1 = df['pickup_latitude']\n",
    "x2 = df['dropoff_longitude']\n",
    "y2 = df['dropoff_latitude']\n",
    "\n",
    "from pyspark.sql.functions import abs as psabs\n",
    "df = df.withColumn('l1', psabs(x1 - x2) + psabs(y1 - y2))"
   ]
  },
  {
   "cell_type": "code",
   "execution_count": 33,
   "metadata": {
    "execution": {
     "iopub.execute_input": "2022-06-24T19:17:00.760319Z",
     "iopub.status.busy": "2022-06-24T19:17:00.760073Z",
     "iopub.status.idle": "2022-06-24T19:17:01.046053Z",
     "shell.execute_reply": "2022-06-24T19:17:01.045331Z",
     "shell.execute_reply.started": "2022-06-24T19:17:00.760284Z"
    }
   },
   "outputs": [
    {
     "data": {
      "application/vnd.jupyter.widget-view+json": {
       "model_id": "9c8303fc2b6944688f3acddbac7c282e",
       "version_major": 2,
       "version_minor": 0
      },
      "text/plain": [
       "VBox()"
      ]
     },
     "metadata": {},
     "output_type": "display_data"
    },
    {
     "data": {
      "application/vnd.jupyter.widget-view+json": {
       "model_id": "",
       "version_major": 2,
       "version_minor": 0
      },
      "text/plain": [
       "FloatProgress(value=0.0, bar_style='info', description='Progress:', layout=Layout(height='25px', width='50%'),…"
      ]
     },
     "metadata": {},
     "output_type": "display_data"
    }
   ],
   "source": [
    "inputCols = [\"dropoff_latitude\",\n",
    "             \"dropoff_longitude\",\n",
    "             \"pickup_latitude\",\n",
    "             \"pickup_longitude\",\n",
    "             \"passenger_count\", \n",
    "             \"year\", \n",
    "             \"month\", \n",
    "             \"dayofweek\" , \n",
    "             \"hour\", \n",
    "             \"l1\"]\n",
    "assembler = VectorAssembler(inputCols = inputCols, outputCol = 'featuresCleanWithDatel1')\n",
    "dataset = assembler.transform(df)"
   ]
  },
  {
   "cell_type": "code",
   "execution_count": 34,
   "metadata": {
    "execution": {
     "iopub.execute_input": "2022-06-24T19:17:01.047840Z",
     "iopub.status.busy": "2022-06-24T19:17:01.047371Z",
     "iopub.status.idle": "2022-06-24T19:17:24.498995Z",
     "shell.execute_reply": "2022-06-24T19:17:24.498356Z",
     "shell.execute_reply.started": "2022-06-24T19:17:01.047805Z"
    }
   },
   "outputs": [
    {
     "data": {
      "application/vnd.jupyter.widget-view+json": {
       "model_id": "d766713fe1db439c997fdbe2db7cb6c1",
       "version_major": 2,
       "version_minor": 0
      },
      "text/plain": [
       "VBox()"
      ]
     },
     "metadata": {},
     "output_type": "display_data"
    },
    {
     "data": {
      "application/vnd.jupyter.widget-view+json": {
       "model_id": "",
       "version_major": 2,
       "version_minor": 0
      },
      "text/plain": [
       "FloatProgress(value=0.0, bar_style='info', description='Progress:', layout=Layout(height='25px', width='50%'),…"
      ]
     },
     "metadata": {},
     "output_type": "display_data"
    }
   ],
   "source": [
    "lr = LinearRegression(featuresCol = 'featuresCleanWithDatel1', labelCol = 'fare_amount')\n",
    "model = lr.fit(dataset)\n",
    "summary = model.evaluate(dataset)"
   ]
  },
  {
   "cell_type": "code",
   "execution_count": 35,
   "metadata": {
    "execution": {
     "iopub.execute_input": "2022-06-24T19:17:24.500059Z",
     "iopub.status.busy": "2022-06-24T19:17:24.499868Z",
     "iopub.status.idle": "2022-06-24T19:17:24.551720Z",
     "shell.execute_reply": "2022-06-24T19:17:24.551046Z",
     "shell.execute_reply.started": "2022-06-24T19:17:24.500035Z"
    }
   },
   "outputs": [
    {
     "data": {
      "application/vnd.jupyter.widget-view+json": {
       "model_id": "005dfbaaf0f74885a1648fef77bfe78b",
       "version_major": 2,
       "version_minor": 0
      },
      "text/plain": [
       "VBox()"
      ]
     },
     "metadata": {},
     "output_type": "display_data"
    },
    {
     "data": {
      "application/vnd.jupyter.widget-view+json": {
       "model_id": "",
       "version_major": 2,
       "version_minor": 0
      },
      "text/plain": [
       "FloatProgress(value=0.0, bar_style='info', description='Progress:', layout=Layout(height='25px', width='50%'),…"
      ]
     },
     "metadata": {},
     "output_type": "display_data"
    },
    {
     "name": "stdout",
     "output_type": "stream",
     "text": [
      "0.6794746273189158"
     ]
    }
   ],
   "source": [
    "summary.r2"
   ]
  },
  {
   "cell_type": "code",
   "execution_count": 36,
   "metadata": {
    "execution": {
     "iopub.execute_input": "2022-06-24T19:17:24.555152Z",
     "iopub.status.busy": "2022-06-24T19:17:24.554986Z",
     "iopub.status.idle": "2022-06-24T19:17:24.824121Z",
     "shell.execute_reply": "2022-06-24T19:17:24.823470Z",
     "shell.execute_reply.started": "2022-06-24T19:17:24.555130Z"
    }
   },
   "outputs": [
    {
     "data": {
      "application/vnd.jupyter.widget-view+json": {
       "model_id": "ebedb6513d904da7b14495ddfaa6ff83",
       "version_major": 2,
       "version_minor": 0
      },
      "text/plain": [
       "VBox()"
      ]
     },
     "metadata": {},
     "output_type": "display_data"
    },
    {
     "data": {
      "application/vnd.jupyter.widget-view+json": {
       "model_id": "",
       "version_major": 2,
       "version_minor": 0
      },
      "text/plain": [
       "FloatProgress(value=0.0, bar_style='info', description='Progress:', layout=Layout(height='25px', width='50%'),…"
      ]
     },
     "metadata": {},
     "output_type": "display_data"
    }
   ],
   "source": [
    "train, test = df.randomSplit([0.66, 0.33])"
   ]
  },
  {
   "cell_type": "code",
   "execution_count": 37,
   "metadata": {
    "execution": {
     "iopub.execute_input": "2022-06-24T19:17:24.825177Z",
     "iopub.status.busy": "2022-06-24T19:17:24.824999Z",
     "iopub.status.idle": "2022-06-24T19:17:25.106018Z",
     "shell.execute_reply": "2022-06-24T19:17:25.105401Z",
     "shell.execute_reply.started": "2022-06-24T19:17:24.825155Z"
    }
   },
   "outputs": [
    {
     "data": {
      "application/vnd.jupyter.widget-view+json": {
       "model_id": "d18bd1cd505d475eb3edc560e84ca895",
       "version_major": 2,
       "version_minor": 0
      },
      "text/plain": [
       "VBox()"
      ]
     },
     "metadata": {},
     "output_type": "display_data"
    },
    {
     "data": {
      "application/vnd.jupyter.widget-view+json": {
       "model_id": "",
       "version_major": 2,
       "version_minor": 0
      },
      "text/plain": [
       "FloatProgress(value=0.0, bar_style='info', description='Progress:', layout=Layout(height='25px', width='50%'),…"
      ]
     },
     "metadata": {},
     "output_type": "display_data"
    }
   ],
   "source": [
    "trainDataset = assembler.transform(train)\n",
    "testDataset = assembler.transform(test)"
   ]
  },
  {
   "cell_type": "code",
   "execution_count": 38,
   "metadata": {
    "execution": {
     "iopub.execute_input": "2022-06-24T19:17:25.108636Z",
     "iopub.status.busy": "2022-06-24T19:17:25.108457Z",
     "iopub.status.idle": "2022-06-24T19:18:12.539025Z",
     "shell.execute_reply": "2022-06-24T19:18:12.538106Z",
     "shell.execute_reply.started": "2022-06-24T19:17:25.108614Z"
    }
   },
   "outputs": [
    {
     "data": {
      "application/vnd.jupyter.widget-view+json": {
       "model_id": "af67a718c7be4edd92eca716262635f7",
       "version_major": 2,
       "version_minor": 0
      },
      "text/plain": [
       "VBox()"
      ]
     },
     "metadata": {},
     "output_type": "display_data"
    },
    {
     "data": {
      "application/vnd.jupyter.widget-view+json": {
       "model_id": "",
       "version_major": 2,
       "version_minor": 0
      },
      "text/plain": [
       "FloatProgress(value=0.0, bar_style='info', description='Progress:', layout=Layout(height='25px', width='50%'),…"
      ]
     },
     "metadata": {},
     "output_type": "display_data"
    }
   ],
   "source": [
    "lr = LinearRegression(featuresCol = 'featuresCleanWithDatel1', labelCol = 'fare_amount')\n",
    "model = lr.fit(trainDataset)\n",
    "summary = model.evaluate(testDataset)"
   ]
  },
  {
   "cell_type": "code",
   "execution_count": 39,
   "metadata": {
    "execution": {
     "iopub.execute_input": "2022-06-24T19:18:12.540144Z",
     "iopub.status.busy": "2022-06-24T19:18:12.539976Z",
     "iopub.status.idle": "2022-06-24T19:18:12.601141Z",
     "shell.execute_reply": "2022-06-24T19:18:12.600467Z",
     "shell.execute_reply.started": "2022-06-24T19:18:12.540123Z"
    },
    "tags": []
   },
   "outputs": [
    {
     "data": {
      "application/vnd.jupyter.widget-view+json": {
       "model_id": "000f7d1889b04da8a9bad1267f6710aa",
       "version_major": 2,
       "version_minor": 0
      },
      "text/plain": [
       "VBox()"
      ]
     },
     "metadata": {},
     "output_type": "display_data"
    },
    {
     "data": {
      "application/vnd.jupyter.widget-view+json": {
       "model_id": "",
       "version_major": 2,
       "version_minor": 0
      },
      "text/plain": [
       "FloatProgress(value=0.0, bar_style='info', description='Progress:', layout=Layout(height='25px', width='50%'),…"
      ]
     },
     "metadata": {},
     "output_type": "display_data"
    },
    {
     "name": "stdout",
     "output_type": "stream",
     "text": [
      "0.6738695483892228"
     ]
    }
   ],
   "source": [
    "summary.r2"
   ]
  }
 ],
 "metadata": {
  "kernelspec": {
   "display_name": "PySpark",
   "language": "python",
   "name": "pysparkkernel"
  },
  "language_info": {
   "codemirror_mode": {
    "name": "python",
    "version": 3
   },
   "file_extension": ".py",
   "mimetype": "text/x-python",
   "name": "pyspark",
   "pygments_lexer": "python3"
  }
 },
 "nbformat": 4,
 "nbformat_minor": 4
}
